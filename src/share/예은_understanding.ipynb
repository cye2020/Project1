{
 "cells": [
  {
   "cell_type": "code",
   "execution_count": null,
   "id": "79258d5d",
   "metadata": {},
   "outputs": [],
   "source": [
    "# Colab 환경에서\n",
    "# from google.colab import drive\n",
    "# drive.mount('/content/drive')"
   ]
  },
  {
   "cell_type": "code",
   "execution_count": 8,
   "id": "6ae4a6f4",
   "metadata": {},
   "outputs": [
    {
     "name": "stdout",
     "output_type": "stream",
     "text": [
      "/home/yeeun/Sparta/Project1\n"
     ]
    }
   ],
   "source": [
    "from pathlib import Path\n",
    "\n",
    "current_path = Path().cwd()\n",
    "root = current_path.parent.parent\n",
    "data = root / 'data'\n",
    "src = root / 'src'\n",
    "images = root / 'images'\n",
    "print(root.absolute())"
   ]
  },
  {
   "cell_type": "code",
   "execution_count": 15,
   "id": "de5517a4",
   "metadata": {},
   "outputs": [],
   "source": [
    "import pandas as pd\n",
    "\n",
    "datasets = {\n",
    "    'games_details': None,\n",
    "    'ranking': None,\n",
    "    'games': None,\n",
    "    'players': None,\n",
    "    'teams': None\n",
    "}\n",
    "\n",
    "pandas_kwargs = {\n",
    "    'games_details': {\n",
    "        'dtype': {'NICKNAME': str}\n",
    "    },\n",
    "    'ranking': {\n",
    "        \n",
    "    },\n",
    "    'games': {\n",
    "        \n",
    "    },\n",
    "    'players': {\n",
    "        \n",
    "    },\n",
    "    'teams': {\n",
    "        \n",
    "    }\n",
    "}\n",
    "\n",
    "for name in datasets:\n",
    "    datasets[name] = pd.read_csv(data / f'{name}.csv', **pandas_kwargs[name])\n",
    "\n",
    "games_details = datasets['games_details']\n",
    "games = datasets['games']\n",
    "players = datasets['players']\n",
    "ranking = datasets['ranking']\n",
    "teams = datasets['teams']"
   ]
  }
 ],
 "metadata": {
  "kernelspec": {
   "display_name": "sparta",
   "language": "python",
   "name": "python3"
  },
  "language_info": {
   "codemirror_mode": {
    "name": "ipython",
    "version": 3
   },
   "file_extension": ".py",
   "mimetype": "text/x-python",
   "name": "python",
   "nbconvert_exporter": "python",
   "pygments_lexer": "ipython3",
   "version": "3.10.18"
  }
 },
 "nbformat": 4,
 "nbformat_minor": 5
}
