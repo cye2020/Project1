{
 "cells": [
  {
   "cell_type": "code",
   "execution_count": null,
   "id": "79258d5d",
   "metadata": {},
   "outputs": [],
   "source": [
    "# Colab 환경에서\n",
    "# from google.colab import drive\n",
    "# drive.mount('/content/drive')"
   ]
  },
  {
   "cell_type": "markdown",
   "id": "aa23761c",
   "metadata": {},
   "source": [
    "## 데이터 불러오기"
   ]
  },
  {
   "cell_type": "code",
   "execution_count": 8,
   "id": "6ae4a6f4",
   "metadata": {},
   "outputs": [
    {
     "name": "stdout",
     "output_type": "stream",
     "text": [
      "/home/yeeun/Sparta/Project1\n"
     ]
    }
   ],
   "source": [
    "from pathlib import Path\n",
    "\n",
    "current_path = Path().cwd()\n",
    "root = current_path.parent.parent\n",
    "data = root / 'data'\n",
    "src = root / 'src'\n",
    "images = root / 'images'\n",
    "print(root.absolute())"
   ]
  },
  {
   "cell_type": "code",
   "execution_count": 15,
   "id": "de5517a4",
   "metadata": {},
   "outputs": [],
   "source": [
    "import pandas as pd\n",
    "\n",
    "datasets = {\n",
    "    'games_details': None,\n",
    "    'ranking': None,\n",
    "    'games': None,\n",
    "    'players': None,\n",
    "    'teams': None\n",
    "}\n",
    "\n",
    "pandas_kwargs = {\n",
    "    'games_details': {\n",
    "        'dtype': {'NICKNAME': str}\n",
    "    },\n",
    "    'ranking': {\n",
    "        \n",
    "    },\n",
    "    'games': {\n",
    "        \n",
    "    },\n",
    "    'players': {\n",
    "        \n",
    "    },\n",
    "    'teams': {\n",
    "        \n",
    "    }\n",
    "}\n",
    "\n",
    "for name in datasets:\n",
    "    datasets[name] = pd.read_csv(data / f'{name}.csv', **pandas_kwargs[name])\n",
    "\n",
    "games_details = datasets['games_details']\n",
    "games = datasets['games']\n",
    "players = datasets['players']\n",
    "ranking = datasets['ranking']\n",
    "teams = datasets['teams']"
   ]
  },
  {
   "cell_type": "code",
   "execution_count": 25,
   "id": "39c22fce",
   "metadata": {},
   "outputs": [
    {
     "data": {
      "application/vnd.microsoft.datawrangler.viewer.v0+json": {
       "columns": [
        {
         "name": "index",
         "rawType": "int64",
         "type": "integer"
        },
        {
         "name": "TEAM_ID",
         "rawType": "int64",
         "type": "integer"
        },
        {
         "name": "LEAGUE_ID",
         "rawType": "int64",
         "type": "integer"
        },
        {
         "name": "SEASON_ID",
         "rawType": "int64",
         "type": "integer"
        },
        {
         "name": "STANDINGSDATE",
         "rawType": "object",
         "type": "string"
        },
        {
         "name": "CONFERENCE",
         "rawType": "object",
         "type": "string"
        },
        {
         "name": "TEAM",
         "rawType": "object",
         "type": "string"
        },
        {
         "name": "G",
         "rawType": "int64",
         "type": "integer"
        },
        {
         "name": "W",
         "rawType": "int64",
         "type": "integer"
        },
        {
         "name": "L",
         "rawType": "int64",
         "type": "integer"
        },
        {
         "name": "W_PCT",
         "rawType": "float64",
         "type": "float"
        },
        {
         "name": "HOME_RECORD",
         "rawType": "object",
         "type": "string"
        },
        {
         "name": "ROAD_RECORD",
         "rawType": "object",
         "type": "string"
        },
        {
         "name": "RETURNTOPLAY",
         "rawType": "float64",
         "type": "float"
        }
       ],
       "ref": "2637e0ab-cdf5-470d-8bb8-17ea0a67174f",
       "rows": [
        [
         "0",
         "1610612743",
         "0",
         "22022",
         "2022-12-22",
         "West",
         "Denver",
         "30",
         "19",
         "11",
         "0.633",
         "10-3",
         "9-8",
         null
        ],
        [
         "1",
         "1610612763",
         "0",
         "22022",
         "2022-12-22",
         "West",
         "Memphis",
         "30",
         "19",
         "11",
         "0.633",
         "13-2",
         "6-9",
         null
        ],
        [
         "2",
         "1610612740",
         "0",
         "22022",
         "2022-12-22",
         "West",
         "New Orleans",
         "31",
         "19",
         "12",
         "0.613",
         "13-4",
         "6-8",
         null
        ],
        [
         "3",
         "1610612756",
         "0",
         "22022",
         "2022-12-22",
         "West",
         "Phoenix",
         "32",
         "19",
         "13",
         "0.594",
         "14-4",
         "5-9",
         null
        ],
        [
         "4",
         "1610612746",
         "0",
         "22022",
         "2022-12-22",
         "West",
         "LA Clippers",
         "33",
         "19",
         "14",
         "0.576",
         "11-7",
         "8-7",
         null
        ]
       ],
       "shape": {
        "columns": 13,
        "rows": 5
       }
      },
      "text/html": [
       "<div>\n",
       "<style scoped>\n",
       "    .dataframe tbody tr th:only-of-type {\n",
       "        vertical-align: middle;\n",
       "    }\n",
       "\n",
       "    .dataframe tbody tr th {\n",
       "        vertical-align: top;\n",
       "    }\n",
       "\n",
       "    .dataframe thead th {\n",
       "        text-align: right;\n",
       "    }\n",
       "</style>\n",
       "<table border=\"1\" class=\"dataframe\">\n",
       "  <thead>\n",
       "    <tr style=\"text-align: right;\">\n",
       "      <th></th>\n",
       "      <th>TEAM_ID</th>\n",
       "      <th>LEAGUE_ID</th>\n",
       "      <th>SEASON_ID</th>\n",
       "      <th>STANDINGSDATE</th>\n",
       "      <th>CONFERENCE</th>\n",
       "      <th>TEAM</th>\n",
       "      <th>G</th>\n",
       "      <th>W</th>\n",
       "      <th>L</th>\n",
       "      <th>W_PCT</th>\n",
       "      <th>HOME_RECORD</th>\n",
       "      <th>ROAD_RECORD</th>\n",
       "      <th>RETURNTOPLAY</th>\n",
       "    </tr>\n",
       "  </thead>\n",
       "  <tbody>\n",
       "    <tr>\n",
       "      <th>0</th>\n",
       "      <td>1610612743</td>\n",
       "      <td>0</td>\n",
       "      <td>22022</td>\n",
       "      <td>2022-12-22</td>\n",
       "      <td>West</td>\n",
       "      <td>Denver</td>\n",
       "      <td>30</td>\n",
       "      <td>19</td>\n",
       "      <td>11</td>\n",
       "      <td>0.633</td>\n",
       "      <td>10-3</td>\n",
       "      <td>9-8</td>\n",
       "      <td>NaN</td>\n",
       "    </tr>\n",
       "    <tr>\n",
       "      <th>1</th>\n",
       "      <td>1610612763</td>\n",
       "      <td>0</td>\n",
       "      <td>22022</td>\n",
       "      <td>2022-12-22</td>\n",
       "      <td>West</td>\n",
       "      <td>Memphis</td>\n",
       "      <td>30</td>\n",
       "      <td>19</td>\n",
       "      <td>11</td>\n",
       "      <td>0.633</td>\n",
       "      <td>13-2</td>\n",
       "      <td>6-9</td>\n",
       "      <td>NaN</td>\n",
       "    </tr>\n",
       "    <tr>\n",
       "      <th>2</th>\n",
       "      <td>1610612740</td>\n",
       "      <td>0</td>\n",
       "      <td>22022</td>\n",
       "      <td>2022-12-22</td>\n",
       "      <td>West</td>\n",
       "      <td>New Orleans</td>\n",
       "      <td>31</td>\n",
       "      <td>19</td>\n",
       "      <td>12</td>\n",
       "      <td>0.613</td>\n",
       "      <td>13-4</td>\n",
       "      <td>6-8</td>\n",
       "      <td>NaN</td>\n",
       "    </tr>\n",
       "    <tr>\n",
       "      <th>3</th>\n",
       "      <td>1610612756</td>\n",
       "      <td>0</td>\n",
       "      <td>22022</td>\n",
       "      <td>2022-12-22</td>\n",
       "      <td>West</td>\n",
       "      <td>Phoenix</td>\n",
       "      <td>32</td>\n",
       "      <td>19</td>\n",
       "      <td>13</td>\n",
       "      <td>0.594</td>\n",
       "      <td>14-4</td>\n",
       "      <td>5-9</td>\n",
       "      <td>NaN</td>\n",
       "    </tr>\n",
       "    <tr>\n",
       "      <th>4</th>\n",
       "      <td>1610612746</td>\n",
       "      <td>0</td>\n",
       "      <td>22022</td>\n",
       "      <td>2022-12-22</td>\n",
       "      <td>West</td>\n",
       "      <td>LA Clippers</td>\n",
       "      <td>33</td>\n",
       "      <td>19</td>\n",
       "      <td>14</td>\n",
       "      <td>0.576</td>\n",
       "      <td>11-7</td>\n",
       "      <td>8-7</td>\n",
       "      <td>NaN</td>\n",
       "    </tr>\n",
       "  </tbody>\n",
       "</table>\n",
       "</div>"
      ],
      "text/plain": [
       "      TEAM_ID  LEAGUE_ID  SEASON_ID STANDINGSDATE CONFERENCE         TEAM   G  \\\n",
       "0  1610612743          0      22022    2022-12-22       West       Denver  30   \n",
       "1  1610612763          0      22022    2022-12-22       West      Memphis  30   \n",
       "2  1610612740          0      22022    2022-12-22       West  New Orleans  31   \n",
       "3  1610612756          0      22022    2022-12-22       West      Phoenix  32   \n",
       "4  1610612746          0      22022    2022-12-22       West  LA Clippers  33   \n",
       "\n",
       "    W   L  W_PCT HOME_RECORD ROAD_RECORD  RETURNTOPLAY  \n",
       "0  19  11  0.633        10-3         9-8           NaN  \n",
       "1  19  11  0.633        13-2         6-9           NaN  \n",
       "2  19  12  0.613        13-4         6-8           NaN  \n",
       "3  19  13  0.594        14-4         5-9           NaN  \n",
       "4  19  14  0.576        11-7         8-7           NaN  "
      ]
     },
     "execution_count": 25,
     "metadata": {},
     "output_type": "execute_result"
    }
   ],
   "source": [
    "ranking.head()"
   ]
  },
  {
   "cell_type": "markdown",
   "id": "e0aafbf6",
   "metadata": {},
   "source": [
    "## ranking 데이터 구조 분석"
   ]
  },
  {
   "cell_type": "markdown",
   "id": "019a2166",
   "metadata": {},
   "source": [
    "### ranking의 기본 정보"
   ]
  },
  {
   "cell_type": "code",
   "execution_count": 17,
   "id": "cabbd3f0",
   "metadata": {},
   "outputs": [
    {
     "data": {
      "text/plain": [
       "(210342, 13)"
      ]
     },
     "execution_count": 17,
     "metadata": {},
     "output_type": "execute_result"
    }
   ],
   "source": [
    "ranking.shape"
   ]
  },
  {
   "cell_type": "code",
   "execution_count": 18,
   "id": "240edc16",
   "metadata": {},
   "outputs": [
    {
     "name": "stdout",
     "output_type": "stream",
     "text": [
      "<class 'pandas.core.frame.DataFrame'>\n",
      "RangeIndex: 210342 entries, 0 to 210341\n",
      "Data columns (total 13 columns):\n",
      " #   Column         Non-Null Count   Dtype  \n",
      "---  ------         --------------   -----  \n",
      " 0   TEAM_ID        210342 non-null  int64  \n",
      " 1   LEAGUE_ID      210342 non-null  int64  \n",
      " 2   SEASON_ID      210342 non-null  int64  \n",
      " 3   STANDINGSDATE  210342 non-null  object \n",
      " 4   CONFERENCE     210342 non-null  object \n",
      " 5   TEAM           210342 non-null  object \n",
      " 6   G              210342 non-null  int64  \n",
      " 7   W              210342 non-null  int64  \n",
      " 8   L              210342 non-null  int64  \n",
      " 9   W_PCT          210342 non-null  float64\n",
      " 10  HOME_RECORD    210342 non-null  object \n",
      " 11  ROAD_RECORD    210342 non-null  object \n",
      " 12  RETURNTOPLAY   3990 non-null    float64\n",
      "dtypes: float64(2), int64(6), object(5)\n",
      "memory usage: 20.9+ MB\n"
     ]
    }
   ],
   "source": [
    "ranking.info()"
   ]
  },
  {
   "cell_type": "markdown",
   "id": "e47bc8b7",
   "metadata": {},
   "source": [
    "### ranking의 고유값 체크"
   ]
  },
  {
   "cell_type": "code",
   "execution_count": 63,
   "id": "ef871f43",
   "metadata": {},
   "outputs": [
    {
     "data": {
      "application/vnd.microsoft.datawrangler.viewer.v0+json": {
       "columns": [
        {
         "name": "index",
         "rawType": "object",
         "type": "string"
        },
        {
         "name": "0",
         "rawType": "int64",
         "type": "integer"
        }
       ],
       "ref": "48317b5d-ddc1-43cd-ab0e-b5521694a68b",
       "rows": [
        [
         "TEAM_ID",
         "30"
        ],
        [
         "LEAGUE_ID",
         "1"
        ],
        [
         "SEASON_ID",
         "41"
        ],
        [
         "STANDINGSDATE",
         "7023"
        ],
        [
         "CONFERENCE",
         "2"
        ],
        [
         "TEAM",
         "34"
        ],
        [
         "G",
         "83"
        ],
        [
         "W",
         "74"
        ],
        [
         "L",
         "73"
        ],
        [
         "W_PCT",
         "895"
        ],
        [
         "HOME_RECORD",
         "800"
        ],
        [
         "ROAD_RECORD",
         "758"
        ],
        [
         "RETURNTOPLAY",
         "2"
        ]
       ],
       "shape": {
        "columns": 1,
        "rows": 13
       }
      },
      "text/plain": [
       "TEAM_ID            30\n",
       "LEAGUE_ID           1\n",
       "SEASON_ID          41\n",
       "STANDINGSDATE    7023\n",
       "CONFERENCE          2\n",
       "TEAM               34\n",
       "G                  83\n",
       "W                  74\n",
       "L                  73\n",
       "W_PCT             895\n",
       "HOME_RECORD       800\n",
       "ROAD_RECORD       758\n",
       "RETURNTOPLAY        2\n",
       "dtype: int64"
      ]
     },
     "execution_count": 63,
     "metadata": {},
     "output_type": "execute_result"
    }
   ],
   "source": [
    "ranking.nunique()"
   ]
  },
  {
   "cell_type": "code",
   "execution_count": null,
   "id": "492e92f2",
   "metadata": {},
   "outputs": [
    {
     "data": {
      "application/vnd.microsoft.datawrangler.viewer.v0+json": {
       "columns": [
        {
         "name": "TEAM",
         "rawType": "object",
         "type": "string"
        },
        {
         "name": "count",
         "rawType": "int64",
         "type": "integer"
        }
       ],
       "ref": "e4a31c38-9aa1-4721-9aef-7ea713d21506",
       "rows": [
        [
         "Denver",
         "7024"
        ]
       ],
       "shape": {
        "columns": 1,
        "rows": 1
       }
      },
      "text/plain": [
       "TEAM\n",
       "Denver    7024\n",
       "Name: count, dtype: int64"
      ]
     },
     "execution_count": 30,
     "metadata": {},
     "output_type": "execute_result"
    }
   ],
   "source": [
    "team_id_cond = ranking['TEAM_ID'] == 1610612743\n",
    "\n",
    "ranking[team_id_cond]['TEAM'].value_counts()"
   ]
  },
  {
   "cell_type": "code",
   "execution_count": 42,
   "id": "468a9fdb",
   "metadata": {},
   "outputs": [],
   "source": [
    "grouped = ranking.groupby(['TEAM_ID']).agg(DISTINCT_TEAM=('TEAM', 'nunique'))"
   ]
  },
  {
   "cell_type": "code",
   "execution_count": 57,
   "id": "466cf21d",
   "metadata": {},
   "outputs": [],
   "source": [
    "team_cond = (grouped[grouped['DISTINCT_TEAM'] > 1].index)\n",
    "filtered = ranking[ranking['TEAM_ID'].isin(team_cond)].sort_values('STANDINGSDATE')\n",
    "# ranking[team_cond]"
   ]
  },
  {
   "cell_type": "code",
   "execution_count": 60,
   "id": "8fc1bb2e",
   "metadata": {},
   "outputs": [
    {
     "name": "stdout",
     "output_type": "stream",
     "text": [
      "                                       DISTINCT_TEAM\n",
      "TEAM_ID                                             \n",
      "1610612740  [New Orleans, New Orleans/Oklahoma City]\n",
      "1610612746              [L.A. Clippers, LA Clippers]\n",
      "1610612751                    [New Jersey, Brooklyn]\n",
      "1610612760                  [Seattle, Oklahoma City]\n"
     ]
    }
   ],
   "source": [
    "print(filtered.groupby(['TEAM_ID']).agg(DISTINCT_TEAM=('TEAM', 'unique')))"
   ]
  },
  {
   "cell_type": "code",
   "execution_count": 62,
   "id": "d18280d8",
   "metadata": {},
   "outputs": [
    {
     "data": {
      "application/vnd.microsoft.datawrangler.viewer.v0+json": {
       "columns": [
        {
         "name": "TEAM_ID",
         "rawType": "int64",
         "type": "integer"
        },
        {
         "name": "count",
         "rawType": "int64",
         "type": "integer"
        }
       ],
       "ref": "892cd4b1-7691-4b3c-8d37-0520b54e4827",
       "rows": [
        [
         "1610612760",
         "1831"
        ]
       ],
       "shape": {
        "columns": 1,
        "rows": 1
       }
      },
      "text/plain": [
       "TEAM_ID\n",
       "1610612760    1831\n",
       "Name: count, dtype: int64"
      ]
     },
     "execution_count": 62,
     "metadata": {},
     "output_type": "execute_result"
    }
   ],
   "source": [
    "seattle = ranking['TEAM'] == 'Seattle'\n",
    "ranking[seattle]['TEAM_ID'].value_counts()"
   ]
  }
 ],
 "metadata": {
  "kernelspec": {
   "display_name": "sparta",
   "language": "python",
   "name": "python3"
  },
  "language_info": {
   "codemirror_mode": {
    "name": "ipython",
    "version": 3
   },
   "file_extension": ".py",
   "mimetype": "text/x-python",
   "name": "python",
   "nbconvert_exporter": "python",
   "pygments_lexer": "ipython3",
   "version": "3.10.18"
  }
 },
 "nbformat": 4,
 "nbformat_minor": 5
}
