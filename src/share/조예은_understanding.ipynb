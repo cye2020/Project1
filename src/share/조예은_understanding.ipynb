{
 "cells": [
  {
   "cell_type": "code",
   "execution_count": null,
   "id": "79258d5d",
   "metadata": {},
   "outputs": [],
   "source": [
    "# Colab 환경에서\n",
    "# from google.colab import drive\n",
    "# drive.mount('/content/drive')"
   ]
  },
  {
   "cell_type": "markdown",
   "id": "aa23761c",
   "metadata": {},
   "source": [
    "## 데이터 불러오기"
   ]
  },
  {
   "cell_type": "code",
   "execution_count": 8,
   "id": "6ae4a6f4",
   "metadata": {},
   "outputs": [
    {
     "name": "stdout",
     "output_type": "stream",
     "text": [
      "/home/yeeun/Sparta/Project1\n"
     ]
    }
   ],
   "source": [
    "from pathlib import Path\n",
    "\n",
    "current_path = Path().cwd()\n",
    "root = current_path.parent.parent\n",
    "data = root / 'data'\n",
    "src = root / 'src'\n",
    "images = root / 'images'\n",
    "print(root.absolute())"
   ]
  },
  {
   "cell_type": "code",
   "execution_count": null,
   "id": "de5517a4",
   "metadata": {},
   "outputs": [],
   "source": [
    "import pandas as pd\n",
    "\n",
    "datasets = {\n",
    "    'games_details': pd.DataFrame(),\n",
    "    'ranking': pd.DataFrame(),\n",
    "    'games': pd.DataFrame(),\n",
    "    'players': pd.DataFrame(),\n",
    "    'teams': pd.DataFrame()\n",
    "}\n",
    "\n",
    "pandas_kwargs = {\n",
    "    'games_details': {\n",
    "        'dtype': {'NICKNAME': str}\n",
    "    },\n",
    "    'ranking': {\n",
    "        \n",
    "    },\n",
    "    'games': {\n",
    "        \n",
    "    },\n",
    "    'players': {\n",
    "        \n",
    "    },\n",
    "    'teams': {\n",
    "        \n",
    "    }\n",
    "}\n",
    "\n",
    "for name in datasets:\n",
    "    datasets[name] = pd.read_csv(data / f'{name}.csv', **pandas_kwargs[name])\n",
    "\n",
    "games_details = datasets['games_details']\n",
    "games = datasets['games']\n",
    "players = datasets['players']\n",
    "ranking = datasets['ranking']\n",
    "teams = datasets['teams']"
   ]
  },
  {
   "cell_type": "code",
   "execution_count": 25,
   "id": "39c22fce",
   "metadata": {},
   "outputs": [
    {
     "data": {
      "application/vnd.microsoft.datawrangler.viewer.v0+json": {
       "columns": [
        {
         "name": "index",
         "rawType": "int64",
         "type": "integer"
        },
        {
         "name": "TEAM_ID",
         "rawType": "int64",
         "type": "integer"
        },
        {
         "name": "LEAGUE_ID",
         "rawType": "int64",
         "type": "integer"
        },
        {
         "name": "SEASON_ID",
         "rawType": "int64",
         "type": "integer"
        },
        {
         "name": "STANDINGSDATE",
         "rawType": "object",
         "type": "string"
        },
        {
         "name": "CONFERENCE",
         "rawType": "object",
         "type": "string"
        },
        {
         "name": "TEAM",
         "rawType": "object",
         "type": "string"
        },
        {
         "name": "G",
         "rawType": "int64",
         "type": "integer"
        },
        {
         "name": "W",
         "rawType": "int64",
         "type": "integer"
        },
        {
         "name": "L",
         "rawType": "int64",
         "type": "integer"
        },
        {
         "name": "W_PCT",
         "rawType": "float64",
         "type": "float"
        },
        {
         "name": "HOME_RECORD",
         "rawType": "object",
         "type": "string"
        },
        {
         "name": "ROAD_RECORD",
         "rawType": "object",
         "type": "string"
        },
        {
         "name": "RETURNTOPLAY",
         "rawType": "float64",
         "type": "float"
        }
       ],
       "ref": "2637e0ab-cdf5-470d-8bb8-17ea0a67174f",
       "rows": [
        [
         "0",
         "1610612743",
         "0",
         "22022",
         "2022-12-22",
         "West",
         "Denver",
         "30",
         "19",
         "11",
         "0.633",
         "10-3",
         "9-8",
         null
        ],
        [
         "1",
         "1610612763",
         "0",
         "22022",
         "2022-12-22",
         "West",
         "Memphis",
         "30",
         "19",
         "11",
         "0.633",
         "13-2",
         "6-9",
         null
        ],
        [
         "2",
         "1610612740",
         "0",
         "22022",
         "2022-12-22",
         "West",
         "New Orleans",
         "31",
         "19",
         "12",
         "0.613",
         "13-4",
         "6-8",
         null
        ],
        [
         "3",
         "1610612756",
         "0",
         "22022",
         "2022-12-22",
         "West",
         "Phoenix",
         "32",
         "19",
         "13",
         "0.594",
         "14-4",
         "5-9",
         null
        ],
        [
         "4",
         "1610612746",
         "0",
         "22022",
         "2022-12-22",
         "West",
         "LA Clippers",
         "33",
         "19",
         "14",
         "0.576",
         "11-7",
         "8-7",
         null
        ]
       ],
       "shape": {
        "columns": 13,
        "rows": 5
       }
      },
      "text/html": [
       "<div>\n",
       "<style scoped>\n",
       "    .dataframe tbody tr th:only-of-type {\n",
       "        vertical-align: middle;\n",
       "    }\n",
       "\n",
       "    .dataframe tbody tr th {\n",
       "        vertical-align: top;\n",
       "    }\n",
       "\n",
       "    .dataframe thead th {\n",
       "        text-align: right;\n",
       "    }\n",
       "</style>\n",
       "<table border=\"1\" class=\"dataframe\">\n",
       "  <thead>\n",
       "    <tr style=\"text-align: right;\">\n",
       "      <th></th>\n",
       "      <th>TEAM_ID</th>\n",
       "      <th>LEAGUE_ID</th>\n",
       "      <th>SEASON_ID</th>\n",
       "      <th>STANDINGSDATE</th>\n",
       "      <th>CONFERENCE</th>\n",
       "      <th>TEAM</th>\n",
       "      <th>G</th>\n",
       "      <th>W</th>\n",
       "      <th>L</th>\n",
       "      <th>W_PCT</th>\n",
       "      <th>HOME_RECORD</th>\n",
       "      <th>ROAD_RECORD</th>\n",
       "      <th>RETURNTOPLAY</th>\n",
       "    </tr>\n",
       "  </thead>\n",
       "  <tbody>\n",
       "    <tr>\n",
       "      <th>0</th>\n",
       "      <td>1610612743</td>\n",
       "      <td>0</td>\n",
       "      <td>22022</td>\n",
       "      <td>2022-12-22</td>\n",
       "      <td>West</td>\n",
       "      <td>Denver</td>\n",
       "      <td>30</td>\n",
       "      <td>19</td>\n",
       "      <td>11</td>\n",
       "      <td>0.633</td>\n",
       "      <td>10-3</td>\n",
       "      <td>9-8</td>\n",
       "      <td>NaN</td>\n",
       "    </tr>\n",
       "    <tr>\n",
       "      <th>1</th>\n",
       "      <td>1610612763</td>\n",
       "      <td>0</td>\n",
       "      <td>22022</td>\n",
       "      <td>2022-12-22</td>\n",
       "      <td>West</td>\n",
       "      <td>Memphis</td>\n",
       "      <td>30</td>\n",
       "      <td>19</td>\n",
       "      <td>11</td>\n",
       "      <td>0.633</td>\n",
       "      <td>13-2</td>\n",
       "      <td>6-9</td>\n",
       "      <td>NaN</td>\n",
       "    </tr>\n",
       "    <tr>\n",
       "      <th>2</th>\n",
       "      <td>1610612740</td>\n",
       "      <td>0</td>\n",
       "      <td>22022</td>\n",
       "      <td>2022-12-22</td>\n",
       "      <td>West</td>\n",
       "      <td>New Orleans</td>\n",
       "      <td>31</td>\n",
       "      <td>19</td>\n",
       "      <td>12</td>\n",
       "      <td>0.613</td>\n",
       "      <td>13-4</td>\n",
       "      <td>6-8</td>\n",
       "      <td>NaN</td>\n",
       "    </tr>\n",
       "    <tr>\n",
       "      <th>3</th>\n",
       "      <td>1610612756</td>\n",
       "      <td>0</td>\n",
       "      <td>22022</td>\n",
       "      <td>2022-12-22</td>\n",
       "      <td>West</td>\n",
       "      <td>Phoenix</td>\n",
       "      <td>32</td>\n",
       "      <td>19</td>\n",
       "      <td>13</td>\n",
       "      <td>0.594</td>\n",
       "      <td>14-4</td>\n",
       "      <td>5-9</td>\n",
       "      <td>NaN</td>\n",
       "    </tr>\n",
       "    <tr>\n",
       "      <th>4</th>\n",
       "      <td>1610612746</td>\n",
       "      <td>0</td>\n",
       "      <td>22022</td>\n",
       "      <td>2022-12-22</td>\n",
       "      <td>West</td>\n",
       "      <td>LA Clippers</td>\n",
       "      <td>33</td>\n",
       "      <td>19</td>\n",
       "      <td>14</td>\n",
       "      <td>0.576</td>\n",
       "      <td>11-7</td>\n",
       "      <td>8-7</td>\n",
       "      <td>NaN</td>\n",
       "    </tr>\n",
       "  </tbody>\n",
       "</table>\n",
       "</div>"
      ],
      "text/plain": [
       "      TEAM_ID  LEAGUE_ID  SEASON_ID STANDINGSDATE CONFERENCE         TEAM   G  \\\n",
       "0  1610612743          0      22022    2022-12-22       West       Denver  30   \n",
       "1  1610612763          0      22022    2022-12-22       West      Memphis  30   \n",
       "2  1610612740          0      22022    2022-12-22       West  New Orleans  31   \n",
       "3  1610612756          0      22022    2022-12-22       West      Phoenix  32   \n",
       "4  1610612746          0      22022    2022-12-22       West  LA Clippers  33   \n",
       "\n",
       "    W   L  W_PCT HOME_RECORD ROAD_RECORD  RETURNTOPLAY  \n",
       "0  19  11  0.633        10-3         9-8           NaN  \n",
       "1  19  11  0.633        13-2         6-9           NaN  \n",
       "2  19  12  0.613        13-4         6-8           NaN  \n",
       "3  19  13  0.594        14-4         5-9           NaN  \n",
       "4  19  14  0.576        11-7         8-7           NaN  "
      ]
     },
     "execution_count": 25,
     "metadata": {},
     "output_type": "execute_result"
    }
   ],
   "source": [
    "ranking.head()"
   ]
  },
  {
   "cell_type": "markdown",
   "id": "e0aafbf6",
   "metadata": {},
   "source": [
    "## ranking 데이터 구조 분석"
   ]
  },
  {
   "cell_type": "markdown",
   "id": "019a2166",
   "metadata": {},
   "source": [
    "### ranking의 기본 정보"
   ]
  },
  {
   "cell_type": "code",
   "execution_count": 17,
   "id": "cabbd3f0",
   "metadata": {},
   "outputs": [
    {
     "data": {
      "text/plain": [
       "(210342, 13)"
      ]
     },
     "execution_count": 17,
     "metadata": {},
     "output_type": "execute_result"
    }
   ],
   "source": [
    "ranking.shape"
   ]
  },
  {
   "cell_type": "code",
   "execution_count": 18,
   "id": "240edc16",
   "metadata": {},
   "outputs": [
    {
     "name": "stdout",
     "output_type": "stream",
     "text": [
      "<class 'pandas.core.frame.DataFrame'>\n",
      "RangeIndex: 210342 entries, 0 to 210341\n",
      "Data columns (total 13 columns):\n",
      " #   Column         Non-Null Count   Dtype  \n",
      "---  ------         --------------   -----  \n",
      " 0   TEAM_ID        210342 non-null  int64  \n",
      " 1   LEAGUE_ID      210342 non-null  int64  \n",
      " 2   SEASON_ID      210342 non-null  int64  \n",
      " 3   STANDINGSDATE  210342 non-null  object \n",
      " 4   CONFERENCE     210342 non-null  object \n",
      " 5   TEAM           210342 non-null  object \n",
      " 6   G              210342 non-null  int64  \n",
      " 7   W              210342 non-null  int64  \n",
      " 8   L              210342 non-null  int64  \n",
      " 9   W_PCT          210342 non-null  float64\n",
      " 10  HOME_RECORD    210342 non-null  object \n",
      " 11  ROAD_RECORD    210342 non-null  object \n",
      " 12  RETURNTOPLAY   3990 non-null    float64\n",
      "dtypes: float64(2), int64(6), object(5)\n",
      "memory usage: 20.9+ MB\n"
     ]
    }
   ],
   "source": [
    "ranking.info()"
   ]
  },
  {
   "cell_type": "markdown",
   "id": "e47bc8b7",
   "metadata": {},
   "source": [
    "### ranking의 고유값 체크"
   ]
  },
  {
   "cell_type": "code",
   "execution_count": 63,
   "id": "ef871f43",
   "metadata": {},
   "outputs": [
    {
     "data": {
      "application/vnd.microsoft.datawrangler.viewer.v0+json": {
       "columns": [
        {
         "name": "index",
         "rawType": "object",
         "type": "string"
        },
        {
         "name": "0",
         "rawType": "int64",
         "type": "integer"
        }
       ],
       "ref": "48317b5d-ddc1-43cd-ab0e-b5521694a68b",
       "rows": [
        [
         "TEAM_ID",
         "30"
        ],
        [
         "LEAGUE_ID",
         "1"
        ],
        [
         "SEASON_ID",
         "41"
        ],
        [
         "STANDINGSDATE",
         "7023"
        ],
        [
         "CONFERENCE",
         "2"
        ],
        [
         "TEAM",
         "34"
        ],
        [
         "G",
         "83"
        ],
        [
         "W",
         "74"
        ],
        [
         "L",
         "73"
        ],
        [
         "W_PCT",
         "895"
        ],
        [
         "HOME_RECORD",
         "800"
        ],
        [
         "ROAD_RECORD",
         "758"
        ],
        [
         "RETURNTOPLAY",
         "2"
        ]
       ],
       "shape": {
        "columns": 1,
        "rows": 13
       }
      },
      "text/plain": [
       "TEAM_ID            30\n",
       "LEAGUE_ID           1\n",
       "SEASON_ID          41\n",
       "STANDINGSDATE    7023\n",
       "CONFERENCE          2\n",
       "TEAM               34\n",
       "G                  83\n",
       "W                  74\n",
       "L                  73\n",
       "W_PCT             895\n",
       "HOME_RECORD       800\n",
       "ROAD_RECORD       758\n",
       "RETURNTOPLAY        2\n",
       "dtype: int64"
      ]
     },
     "execution_count": 63,
     "metadata": {},
     "output_type": "execute_result"
    }
   ],
   "source": [
    "ranking.nunique()"
   ]
  },
  {
   "cell_type": "markdown",
   "id": "4894107a",
   "metadata": {},
   "source": [
    "### Null 값 체크"
   ]
  },
  {
   "cell_type": "code",
   "execution_count": 79,
   "id": "a4602d8d",
   "metadata": {},
   "outputs": [
    {
     "data": {
      "application/vnd.microsoft.datawrangler.viewer.v0+json": {
       "columns": [
        {
         "name": "index",
         "rawType": "object",
         "type": "string"
        },
        {
         "name": "0",
         "rawType": "float64",
         "type": "float"
        }
       ],
       "ref": "6ce0f792-bdfb-4242-bd47-2e361c228fa4",
       "rows": [
        [
         "TEAM_ID",
         "0.0"
        ],
        [
         "LEAGUE_ID",
         "0.0"
        ],
        [
         "SEASON_ID",
         "0.0"
        ],
        [
         "STANDINGSDATE",
         "0.0"
        ],
        [
         "CONFERENCE",
         "0.0"
        ],
        [
         "TEAM",
         "0.0"
        ],
        [
         "G",
         "0.0"
        ],
        [
         "W",
         "0.0"
        ],
        [
         "L",
         "0.0"
        ],
        [
         "W_PCT",
         "0.0"
        ],
        [
         "HOME_RECORD",
         "0.0"
        ],
        [
         "ROAD_RECORD",
         "0.0"
        ],
        [
         "RETURNTOPLAY",
         "98.10308925464244"
        ]
       ],
       "shape": {
        "columns": 1,
        "rows": 13
       }
      },
      "text/plain": [
       "TEAM_ID           0.000000\n",
       "LEAGUE_ID         0.000000\n",
       "SEASON_ID         0.000000\n",
       "STANDINGSDATE     0.000000\n",
       "CONFERENCE        0.000000\n",
       "TEAM              0.000000\n",
       "G                 0.000000\n",
       "W                 0.000000\n",
       "L                 0.000000\n",
       "W_PCT             0.000000\n",
       "HOME_RECORD       0.000000\n",
       "ROAD_RECORD       0.000000\n",
       "RETURNTOPLAY     98.103089\n",
       "dtype: float64"
      ]
     },
     "execution_count": 79,
     "metadata": {},
     "output_type": "execute_result"
    }
   ],
   "source": [
    "ranking.isna().mean() * 100"
   ]
  },
  {
   "cell_type": "markdown",
   "id": "65a4169e",
   "metadata": {},
   "source": [
    "### 숫자형 컬럼 묘사"
   ]
  },
  {
   "cell_type": "code",
   "execution_count": 97,
   "id": "b85a68af",
   "metadata": {},
   "outputs": [
    {
     "name": "stdout",
     "output_type": "stream",
     "text": [
      "count    210342.00\n",
      "mean          0.49\n",
      "std           0.19\n",
      "min           0.00\n",
      "25%           0.37\n",
      "50%           0.50\n",
      "75%           0.62\n",
      "max           1.00\n",
      "Name: W_PCT, dtype: float64\n"
     ]
    }
   ],
   "source": [
    "print(ranking['W_PCT'].describe().round(2))"
   ]
  },
  {
   "cell_type": "markdown",
   "id": "0ad7eb42",
   "metadata": {},
   "source": [
    "### 범주가 있는 컬럼"
   ]
  },
  {
   "cell_type": "code",
   "execution_count": 125,
   "id": "174b1bd7",
   "metadata": {},
   "outputs": [
    {
     "name": "stdout",
     "output_type": "stream",
     "text": [
      "               Count  Proportion\n",
      "RETURNTOPLAY                    \n",
      "NaN           206352       98.10\n",
      "1.0             2394        1.14\n",
      "0.0             1596        0.76\n"
     ]
    }
   ],
   "source": [
    "col = 'RETURNTOPLAY'\n",
    "cnt = ranking[col].value_counts(dropna=False, ascending=False).to_frame(\"Count\")\n",
    "cnt['Proportion'] = ranking[col].value_counts(normalize=True, dropna=False, ascending=False).round(4) * 100\n",
    "print(cnt)"
   ]
  },
  {
   "cell_type": "markdown",
   "id": "848b5231",
   "metadata": {},
   "source": [
    "### 날짜 컬럼"
   ]
  },
  {
   "cell_type": "code",
   "execution_count": 126,
   "id": "492e92f2",
   "metadata": {},
   "outputs": [
    {
     "data": {
      "application/vnd.microsoft.datawrangler.viewer.v0+json": {
       "columns": [
        {
         "name": "TEAM",
         "rawType": "object",
         "type": "string"
        },
        {
         "name": "count",
         "rawType": "int64",
         "type": "integer"
        }
       ],
       "ref": "6b268089-77e5-41e2-896b-087b381f4f41",
       "rows": [
        [
         "Denver",
         "7024"
        ]
       ],
       "shape": {
        "columns": 1,
        "rows": 1
       }
      },
      "text/plain": [
       "TEAM\n",
       "Denver    7024\n",
       "Name: count, dtype: int64"
      ]
     },
     "execution_count": 126,
     "metadata": {},
     "output_type": "execute_result"
    }
   ],
   "source": [
    "team_id_cond = ranking['TEAM_ID'] == 1610612743\n",
    "ranking[team_id_cond]['TEAM'].value_counts()"
   ]
  },
  {
   "cell_type": "code",
   "execution_count": 72,
   "id": "468a9fdb",
   "metadata": {},
   "outputs": [
    {
     "data": {
      "application/vnd.microsoft.datawrangler.viewer.v0+json": {
       "columns": [
        {
         "name": "TEAM_ID",
         "rawType": "int64",
         "type": "integer"
        },
        {
         "name": "DISTINCT_TEAM",
         "rawType": "int64",
         "type": "integer"
        }
       ],
       "ref": "504d206c-772d-462f-84f0-bb7db3158b11",
       "rows": [
        [
         "1610612737",
         "1"
        ],
        [
         "1610612738",
         "1"
        ],
        [
         "1610612739",
         "1"
        ],
        [
         "1610612740",
         "2"
        ],
        [
         "1610612741",
         "1"
        ],
        [
         "1610612742",
         "1"
        ],
        [
         "1610612743",
         "1"
        ],
        [
         "1610612744",
         "1"
        ],
        [
         "1610612745",
         "1"
        ],
        [
         "1610612746",
         "2"
        ],
        [
         "1610612747",
         "1"
        ],
        [
         "1610612748",
         "1"
        ],
        [
         "1610612749",
         "1"
        ],
        [
         "1610612750",
         "1"
        ],
        [
         "1610612751",
         "2"
        ],
        [
         "1610612752",
         "1"
        ],
        [
         "1610612753",
         "1"
        ],
        [
         "1610612754",
         "1"
        ],
        [
         "1610612755",
         "1"
        ],
        [
         "1610612756",
         "1"
        ],
        [
         "1610612757",
         "1"
        ],
        [
         "1610612758",
         "1"
        ],
        [
         "1610612759",
         "1"
        ],
        [
         "1610612760",
         "2"
        ],
        [
         "1610612761",
         "1"
        ],
        [
         "1610612762",
         "1"
        ],
        [
         "1610612763",
         "1"
        ],
        [
         "1610612764",
         "1"
        ],
        [
         "1610612765",
         "1"
        ],
        [
         "1610612766",
         "1"
        ]
       ],
       "shape": {
        "columns": 1,
        "rows": 30
       }
      },
      "text/html": [
       "<div>\n",
       "<style scoped>\n",
       "    .dataframe tbody tr th:only-of-type {\n",
       "        vertical-align: middle;\n",
       "    }\n",
       "\n",
       "    .dataframe tbody tr th {\n",
       "        vertical-align: top;\n",
       "    }\n",
       "\n",
       "    .dataframe thead th {\n",
       "        text-align: right;\n",
       "    }\n",
       "</style>\n",
       "<table border=\"1\" class=\"dataframe\">\n",
       "  <thead>\n",
       "    <tr style=\"text-align: right;\">\n",
       "      <th></th>\n",
       "      <th>DISTINCT_TEAM</th>\n",
       "    </tr>\n",
       "    <tr>\n",
       "      <th>TEAM_ID</th>\n",
       "      <th></th>\n",
       "    </tr>\n",
       "  </thead>\n",
       "  <tbody>\n",
       "    <tr>\n",
       "      <th>1610612737</th>\n",
       "      <td>1</td>\n",
       "    </tr>\n",
       "    <tr>\n",
       "      <th>1610612738</th>\n",
       "      <td>1</td>\n",
       "    </tr>\n",
       "    <tr>\n",
       "      <th>1610612739</th>\n",
       "      <td>1</td>\n",
       "    </tr>\n",
       "    <tr>\n",
       "      <th>1610612740</th>\n",
       "      <td>2</td>\n",
       "    </tr>\n",
       "    <tr>\n",
       "      <th>1610612741</th>\n",
       "      <td>1</td>\n",
       "    </tr>\n",
       "    <tr>\n",
       "      <th>1610612742</th>\n",
       "      <td>1</td>\n",
       "    </tr>\n",
       "    <tr>\n",
       "      <th>1610612743</th>\n",
       "      <td>1</td>\n",
       "    </tr>\n",
       "    <tr>\n",
       "      <th>1610612744</th>\n",
       "      <td>1</td>\n",
       "    </tr>\n",
       "    <tr>\n",
       "      <th>1610612745</th>\n",
       "      <td>1</td>\n",
       "    </tr>\n",
       "    <tr>\n",
       "      <th>1610612746</th>\n",
       "      <td>2</td>\n",
       "    </tr>\n",
       "    <tr>\n",
       "      <th>1610612747</th>\n",
       "      <td>1</td>\n",
       "    </tr>\n",
       "    <tr>\n",
       "      <th>1610612748</th>\n",
       "      <td>1</td>\n",
       "    </tr>\n",
       "    <tr>\n",
       "      <th>1610612749</th>\n",
       "      <td>1</td>\n",
       "    </tr>\n",
       "    <tr>\n",
       "      <th>1610612750</th>\n",
       "      <td>1</td>\n",
       "    </tr>\n",
       "    <tr>\n",
       "      <th>1610612751</th>\n",
       "      <td>2</td>\n",
       "    </tr>\n",
       "    <tr>\n",
       "      <th>1610612752</th>\n",
       "      <td>1</td>\n",
       "    </tr>\n",
       "    <tr>\n",
       "      <th>1610612753</th>\n",
       "      <td>1</td>\n",
       "    </tr>\n",
       "    <tr>\n",
       "      <th>1610612754</th>\n",
       "      <td>1</td>\n",
       "    </tr>\n",
       "    <tr>\n",
       "      <th>1610612755</th>\n",
       "      <td>1</td>\n",
       "    </tr>\n",
       "    <tr>\n",
       "      <th>1610612756</th>\n",
       "      <td>1</td>\n",
       "    </tr>\n",
       "    <tr>\n",
       "      <th>1610612757</th>\n",
       "      <td>1</td>\n",
       "    </tr>\n",
       "    <tr>\n",
       "      <th>1610612758</th>\n",
       "      <td>1</td>\n",
       "    </tr>\n",
       "    <tr>\n",
       "      <th>1610612759</th>\n",
       "      <td>1</td>\n",
       "    </tr>\n",
       "    <tr>\n",
       "      <th>1610612760</th>\n",
       "      <td>2</td>\n",
       "    </tr>\n",
       "    <tr>\n",
       "      <th>1610612761</th>\n",
       "      <td>1</td>\n",
       "    </tr>\n",
       "    <tr>\n",
       "      <th>1610612762</th>\n",
       "      <td>1</td>\n",
       "    </tr>\n",
       "    <tr>\n",
       "      <th>1610612763</th>\n",
       "      <td>1</td>\n",
       "    </tr>\n",
       "    <tr>\n",
       "      <th>1610612764</th>\n",
       "      <td>1</td>\n",
       "    </tr>\n",
       "    <tr>\n",
       "      <th>1610612765</th>\n",
       "      <td>1</td>\n",
       "    </tr>\n",
       "    <tr>\n",
       "      <th>1610612766</th>\n",
       "      <td>1</td>\n",
       "    </tr>\n",
       "  </tbody>\n",
       "</table>\n",
       "</div>"
      ],
      "text/plain": [
       "            DISTINCT_TEAM\n",
       "TEAM_ID                  \n",
       "1610612737              1\n",
       "1610612738              1\n",
       "1610612739              1\n",
       "1610612740              2\n",
       "1610612741              1\n",
       "1610612742              1\n",
       "1610612743              1\n",
       "1610612744              1\n",
       "1610612745              1\n",
       "1610612746              2\n",
       "1610612747              1\n",
       "1610612748              1\n",
       "1610612749              1\n",
       "1610612750              1\n",
       "1610612751              2\n",
       "1610612752              1\n",
       "1610612753              1\n",
       "1610612754              1\n",
       "1610612755              1\n",
       "1610612756              1\n",
       "1610612757              1\n",
       "1610612758              1\n",
       "1610612759              1\n",
       "1610612760              2\n",
       "1610612761              1\n",
       "1610612762              1\n",
       "1610612763              1\n",
       "1610612764              1\n",
       "1610612765              1\n",
       "1610612766              1"
      ]
     },
     "execution_count": 72,
     "metadata": {},
     "output_type": "execute_result"
    }
   ],
   "source": [
    "grouped = ranking.groupby(['TEAM_ID']).agg(DISTINCT_TEAM=('TEAM', 'nunique'))\n",
    "grouped"
   ]
  },
  {
   "cell_type": "code",
   "execution_count": 73,
   "id": "466cf21d",
   "metadata": {},
   "outputs": [
    {
     "data": {
      "application/vnd.microsoft.datawrangler.viewer.v0+json": {
       "columns": [
        {
         "name": "index",
         "rawType": "int64",
         "type": "integer"
        },
        {
         "name": "TEAM_ID",
         "rawType": "int64",
         "type": "integer"
        },
        {
         "name": "LEAGUE_ID",
         "rawType": "int64",
         "type": "integer"
        },
        {
         "name": "SEASON_ID",
         "rawType": "int64",
         "type": "integer"
        },
        {
         "name": "STANDINGSDATE",
         "rawType": "object",
         "type": "string"
        },
        {
         "name": "CONFERENCE",
         "rawType": "object",
         "type": "string"
        },
        {
         "name": "TEAM",
         "rawType": "object",
         "type": "string"
        },
        {
         "name": "G",
         "rawType": "int64",
         "type": "integer"
        },
        {
         "name": "W",
         "rawType": "int64",
         "type": "integer"
        },
        {
         "name": "L",
         "rawType": "int64",
         "type": "integer"
        },
        {
         "name": "W_PCT",
         "rawType": "float64",
         "type": "float"
        },
        {
         "name": "HOME_RECORD",
         "rawType": "object",
         "type": "string"
        },
        {
         "name": "ROAD_RECORD",
         "rawType": "object",
         "type": "string"
        },
        {
         "name": "RETURNTOPLAY",
         "rawType": "float64",
         "type": "float"
        }
       ],
       "ref": "9a4d0956-53d1-4524-b81e-14892ef0bd00",
       "rows": [
        [
         "92950",
         "1610612746",
         "0",
         "22002",
         "2003-10-01",
         "West",
         "L.A. Clippers",
         "82",
         "27",
         "55",
         "0.3289999999999999",
         "16-25",
         "11-30",
         null
        ],
        [
         "181543",
         "1610612751",
         "0",
         "22002",
         "2003-10-01",
         "East",
         "New Jersey",
         "82",
         "49",
         "33",
         "0.598",
         "33-8",
         "16-25",
         null
        ],
        [
         "92947",
         "1610612760",
         "0",
         "22002",
         "2003-10-01",
         "West",
         "Seattle",
         "82",
         "40",
         "42",
         "0.488",
         "25-16",
         "15-26",
         null
        ],
        [
         "181546",
         "1610612740",
         "0",
         "22002",
         "2003-10-01",
         "East",
         "New Orleans",
         "82",
         "47",
         "35",
         "0.573",
         "29-12",
         "18-23",
         null
        ],
        [
         "181531",
         "1610612740",
         "0",
         "22002",
         "2003-10-02",
         "East",
         "New Orleans",
         "82",
         "47",
         "35",
         "0.573",
         "29-12",
         "18-23",
         null
        ],
        [
         "92933",
         "1610612760",
         "0",
         "22002",
         "2003-10-02",
         "West",
         "Seattle",
         "82",
         "40",
         "42",
         "0.488",
         "25-16",
         "15-26",
         null
        ],
        [
         "92936",
         "1610612746",
         "0",
         "22002",
         "2003-10-02",
         "West",
         "L.A. Clippers",
         "82",
         "27",
         "55",
         "0.3289999999999999",
         "16-25",
         "11-30",
         null
        ],
        [
         "181528",
         "1610612751",
         "0",
         "22002",
         "2003-10-02",
         "East",
         "New Jersey",
         "82",
         "49",
         "33",
         "0.598",
         "33-8",
         "16-25",
         null
        ],
        [
         "92922",
         "1610612746",
         "0",
         "22002",
         "2003-10-03",
         "West",
         "L.A. Clippers",
         "82",
         "27",
         "55",
         "0.3289999999999999",
         "16-25",
         "11-30",
         null
        ],
        [
         "92919",
         "1610612760",
         "0",
         "22002",
         "2003-10-03",
         "West",
         "Seattle",
         "82",
         "40",
         "42",
         "0.488",
         "25-16",
         "15-26",
         null
        ],
        [
         "181513",
         "1610612751",
         "0",
         "22002",
         "2003-10-03",
         "East",
         "New Jersey",
         "82",
         "49",
         "33",
         "0.598",
         "33-8",
         "16-25",
         null
        ],
        [
         "181516",
         "1610612740",
         "0",
         "22002",
         "2003-10-03",
         "East",
         "New Orleans",
         "82",
         "47",
         "35",
         "0.573",
         "29-12",
         "18-23",
         null
        ],
        [
         "92905",
         "1610612760",
         "0",
         "22002",
         "2003-10-04",
         "West",
         "Seattle",
         "82",
         "40",
         "42",
         "0.488",
         "25-16",
         "15-26",
         null
        ],
        [
         "92908",
         "1610612746",
         "0",
         "22002",
         "2003-10-04",
         "West",
         "L.A. Clippers",
         "82",
         "27",
         "55",
         "0.3289999999999999",
         "16-25",
         "11-30",
         null
        ],
        [
         "181501",
         "1610612740",
         "0",
         "22002",
         "2003-10-04",
         "East",
         "New Orleans",
         "82",
         "47",
         "35",
         "0.573",
         "29-12",
         "18-23",
         null
        ],
        [
         "181498",
         "1610612751",
         "0",
         "22002",
         "2003-10-04",
         "East",
         "New Jersey",
         "82",
         "49",
         "33",
         "0.598",
         "33-8",
         "16-25",
         null
        ],
        [
         "92894",
         "1610612760",
         "0",
         "12003",
         "2003-10-05",
         "West",
         "Seattle",
         "0",
         "0",
         "0",
         "0.0",
         "0-0",
         "0-0",
         null
        ],
        [
         "92886",
         "1610612746",
         "0",
         "12003",
         "2003-10-05",
         "West",
         "L.A. Clippers",
         "0",
         "0",
         "0",
         "0.0",
         "0-0",
         "0-0",
         null
        ],
        [
         "181491",
         "1610612740",
         "0",
         "12003",
         "2003-10-05",
         "East",
         "New Orleans",
         "0",
         "0",
         "0",
         "0.0",
         "0-0",
         "0-0",
         null
        ],
        [
         "181490",
         "1610612751",
         "0",
         "12003",
         "2003-10-05",
         "East",
         "New Jersey",
         "0",
         "0",
         "0",
         "0.0",
         "0-0",
         "0-0",
         null
        ],
        [
         "92872",
         "1610612746",
         "0",
         "12003",
         "2003-10-06",
         "West",
         "L.A. Clippers",
         "0",
         "0",
         "0",
         "0.0",
         "0-0",
         "0-0",
         null
        ],
        [
         "92880",
         "1610612760",
         "0",
         "12003",
         "2003-10-06",
         "West",
         "Seattle",
         "0",
         "0",
         "0",
         "0.0",
         "0-0",
         "0-0",
         null
        ],
        [
         "181476",
         "1610612740",
         "0",
         "12003",
         "2003-10-06",
         "East",
         "New Orleans",
         "0",
         "0",
         "0",
         "0.0",
         "0-0",
         "0-0",
         null
        ],
        [
         "181475",
         "1610612751",
         "0",
         "12003",
         "2003-10-06",
         "East",
         "New Jersey",
         "0",
         "0",
         "0",
         "0.0",
         "0-0",
         "0-0",
         null
        ],
        [
         "92858",
         "1610612746",
         "0",
         "12003",
         "2003-10-07",
         "West",
         "L.A. Clippers",
         "0",
         "0",
         "0",
         "0.0",
         "0-0",
         "0-0",
         null
        ],
        [
         "92866",
         "1610612760",
         "0",
         "12003",
         "2003-10-07",
         "West",
         "Seattle",
         "0",
         "0",
         "0",
         "0.0",
         "0-0",
         "0-0",
         null
        ],
        [
         "181460",
         "1610612751",
         "0",
         "12003",
         "2003-10-07",
         "East",
         "New Jersey",
         "0",
         "0",
         "0",
         "0.0",
         "0-0",
         "0-0",
         null
        ],
        [
         "181461",
         "1610612740",
         "0",
         "12003",
         "2003-10-07",
         "East",
         "New Orleans",
         "0",
         "0",
         "0",
         "0.0",
         "0-0",
         "0-0",
         null
        ],
        [
         "92844",
         "1610612746",
         "0",
         "12003",
         "2003-10-08",
         "West",
         "L.A. Clippers",
         "0",
         "0",
         "0",
         "0.0",
         "0-0",
         "0-0",
         null
        ],
        [
         "92852",
         "1610612760",
         "0",
         "12003",
         "2003-10-08",
         "West",
         "Seattle",
         "0",
         "0",
         "0",
         "0.0",
         "0-0",
         "0-0",
         null
        ],
        [
         "181446",
         "1610612740",
         "0",
         "12003",
         "2003-10-08",
         "East",
         "New Orleans",
         "0",
         "0",
         "0",
         "0.0",
         "0-0",
         "0-0",
         null
        ],
        [
         "181445",
         "1610612751",
         "0",
         "12003",
         "2003-10-08",
         "East",
         "New Jersey",
         "0",
         "0",
         "0",
         "0.0",
         "0-0",
         "0-0",
         null
        ],
        [
         "92838",
         "1610612760",
         "0",
         "12003",
         "2003-10-09",
         "West",
         "Seattle",
         "0",
         "0",
         "0",
         "0.0",
         "0-0",
         "0-0",
         null
        ],
        [
         "181430",
         "1610612751",
         "0",
         "12003",
         "2003-10-09",
         "East",
         "New Jersey",
         "0",
         "0",
         "0",
         "0.0",
         "0-0",
         "0-0",
         null
        ],
        [
         "181431",
         "1610612740",
         "0",
         "12003",
         "2003-10-09",
         "East",
         "New Orleans",
         "0",
         "0",
         "0",
         "0.0",
         "0-0",
         "0-0",
         null
        ],
        [
         "92830",
         "1610612746",
         "0",
         "12003",
         "2003-10-09",
         "West",
         "L.A. Clippers",
         "0",
         "0",
         "0",
         "0.0",
         "0-0",
         "0-0",
         null
        ],
        [
         "92824",
         "1610612760",
         "0",
         "12003",
         "2003-10-10",
         "West",
         "Seattle",
         "0",
         "0",
         "0",
         "0.0",
         "0-0",
         "0-0",
         null
        ],
        [
         "181415",
         "1610612751",
         "0",
         "12003",
         "2003-10-10",
         "East",
         "New Jersey",
         "0",
         "0",
         "0",
         "0.0",
         "0-0",
         "0-0",
         null
        ],
        [
         "181416",
         "1610612740",
         "0",
         "12003",
         "2003-10-10",
         "East",
         "New Orleans",
         "0",
         "0",
         "0",
         "0.0",
         "0-0",
         "0-0",
         null
        ],
        [
         "92816",
         "1610612746",
         "0",
         "12003",
         "2003-10-10",
         "West",
         "L.A. Clippers",
         "0",
         "0",
         "0",
         "0.0",
         "0-0",
         "0-0",
         null
        ],
        [
         "181401",
         "1610612740",
         "0",
         "12003",
         "2003-10-11",
         "East",
         "New Orleans",
         "0",
         "0",
         "0",
         "0.0",
         "0-0",
         "0-0",
         null
        ],
        [
         "181400",
         "1610612751",
         "0",
         "12003",
         "2003-10-11",
         "East",
         "New Jersey",
         "0",
         "0",
         "0",
         "0.0",
         "0-0",
         "0-0",
         null
        ],
        [
         "92802",
         "1610612746",
         "0",
         "12003",
         "2003-10-11",
         "West",
         "L.A. Clippers",
         "0",
         "0",
         "0",
         "0.0",
         "0-0",
         "0-0",
         null
        ],
        [
         "92810",
         "1610612760",
         "0",
         "12003",
         "2003-10-11",
         "West",
         "Seattle",
         "0",
         "0",
         "0",
         "0.0",
         "0-0",
         "0-0",
         null
        ],
        [
         "181385",
         "1610612751",
         "0",
         "12003",
         "2003-10-12",
         "East",
         "New Jersey",
         "0",
         "0",
         "0",
         "0.0",
         "0-0",
         "0-0",
         null
        ],
        [
         "181386",
         "1610612740",
         "0",
         "12003",
         "2003-10-12",
         "East",
         "New Orleans",
         "0",
         "0",
         "0",
         "0.0",
         "0-0",
         "0-0",
         null
        ],
        [
         "92788",
         "1610612746",
         "0",
         "12003",
         "2003-10-12",
         "West",
         "L.A. Clippers",
         "0",
         "0",
         "0",
         "0.0",
         "0-0",
         "0-0",
         null
        ],
        [
         "92796",
         "1610612760",
         "0",
         "12003",
         "2003-10-12",
         "West",
         "Seattle",
         "0",
         "0",
         "0",
         "0.0",
         "0-0",
         "0-0",
         null
        ],
        [
         "181370",
         "1610612751",
         "0",
         "12003",
         "2003-10-13",
         "East",
         "New Jersey",
         "0",
         "0",
         "0",
         "0.0",
         "0-0",
         "0-0",
         null
        ],
        [
         "181371",
         "1610612740",
         "0",
         "12003",
         "2003-10-13",
         "East",
         "New Orleans",
         "0",
         "0",
         "0",
         "0.0",
         "0-0",
         "0-0",
         null
        ]
       ],
       "shape": {
        "columns": 13,
        "rows": 28096
       }
      },
      "text/html": [
       "<div>\n",
       "<style scoped>\n",
       "    .dataframe tbody tr th:only-of-type {\n",
       "        vertical-align: middle;\n",
       "    }\n",
       "\n",
       "    .dataframe tbody tr th {\n",
       "        vertical-align: top;\n",
       "    }\n",
       "\n",
       "    .dataframe thead th {\n",
       "        text-align: right;\n",
       "    }\n",
       "</style>\n",
       "<table border=\"1\" class=\"dataframe\">\n",
       "  <thead>\n",
       "    <tr style=\"text-align: right;\">\n",
       "      <th></th>\n",
       "      <th>TEAM_ID</th>\n",
       "      <th>LEAGUE_ID</th>\n",
       "      <th>SEASON_ID</th>\n",
       "      <th>STANDINGSDATE</th>\n",
       "      <th>CONFERENCE</th>\n",
       "      <th>TEAM</th>\n",
       "      <th>G</th>\n",
       "      <th>W</th>\n",
       "      <th>L</th>\n",
       "      <th>W_PCT</th>\n",
       "      <th>HOME_RECORD</th>\n",
       "      <th>ROAD_RECORD</th>\n",
       "      <th>RETURNTOPLAY</th>\n",
       "    </tr>\n",
       "  </thead>\n",
       "  <tbody>\n",
       "    <tr>\n",
       "      <th>92950</th>\n",
       "      <td>1610612746</td>\n",
       "      <td>0</td>\n",
       "      <td>22002</td>\n",
       "      <td>2003-10-01</td>\n",
       "      <td>West</td>\n",
       "      <td>L.A. Clippers</td>\n",
       "      <td>82</td>\n",
       "      <td>27</td>\n",
       "      <td>55</td>\n",
       "      <td>0.329</td>\n",
       "      <td>16-25</td>\n",
       "      <td>11-30</td>\n",
       "      <td>NaN</td>\n",
       "    </tr>\n",
       "    <tr>\n",
       "      <th>181543</th>\n",
       "      <td>1610612751</td>\n",
       "      <td>0</td>\n",
       "      <td>22002</td>\n",
       "      <td>2003-10-01</td>\n",
       "      <td>East</td>\n",
       "      <td>New Jersey</td>\n",
       "      <td>82</td>\n",
       "      <td>49</td>\n",
       "      <td>33</td>\n",
       "      <td>0.598</td>\n",
       "      <td>33-8</td>\n",
       "      <td>16-25</td>\n",
       "      <td>NaN</td>\n",
       "    </tr>\n",
       "    <tr>\n",
       "      <th>92947</th>\n",
       "      <td>1610612760</td>\n",
       "      <td>0</td>\n",
       "      <td>22002</td>\n",
       "      <td>2003-10-01</td>\n",
       "      <td>West</td>\n",
       "      <td>Seattle</td>\n",
       "      <td>82</td>\n",
       "      <td>40</td>\n",
       "      <td>42</td>\n",
       "      <td>0.488</td>\n",
       "      <td>25-16</td>\n",
       "      <td>15-26</td>\n",
       "      <td>NaN</td>\n",
       "    </tr>\n",
       "    <tr>\n",
       "      <th>181546</th>\n",
       "      <td>1610612740</td>\n",
       "      <td>0</td>\n",
       "      <td>22002</td>\n",
       "      <td>2003-10-01</td>\n",
       "      <td>East</td>\n",
       "      <td>New Orleans</td>\n",
       "      <td>82</td>\n",
       "      <td>47</td>\n",
       "      <td>35</td>\n",
       "      <td>0.573</td>\n",
       "      <td>29-12</td>\n",
       "      <td>18-23</td>\n",
       "      <td>NaN</td>\n",
       "    </tr>\n",
       "    <tr>\n",
       "      <th>181531</th>\n",
       "      <td>1610612740</td>\n",
       "      <td>0</td>\n",
       "      <td>22002</td>\n",
       "      <td>2003-10-02</td>\n",
       "      <td>East</td>\n",
       "      <td>New Orleans</td>\n",
       "      <td>82</td>\n",
       "      <td>47</td>\n",
       "      <td>35</td>\n",
       "      <td>0.573</td>\n",
       "      <td>29-12</td>\n",
       "      <td>18-23</td>\n",
       "      <td>NaN</td>\n",
       "    </tr>\n",
       "    <tr>\n",
       "      <th>...</th>\n",
       "      <td>...</td>\n",
       "      <td>...</td>\n",
       "      <td>...</td>\n",
       "      <td>...</td>\n",
       "      <td>...</td>\n",
       "      <td>...</td>\n",
       "      <td>...</td>\n",
       "      <td>...</td>\n",
       "      <td>...</td>\n",
       "      <td>...</td>\n",
       "      <td>...</td>\n",
       "      <td>...</td>\n",
       "      <td>...</td>\n",
       "    </tr>\n",
       "    <tr>\n",
       "      <th>17</th>\n",
       "      <td>1610612740</td>\n",
       "      <td>0</td>\n",
       "      <td>22022</td>\n",
       "      <td>2022-12-21</td>\n",
       "      <td>West</td>\n",
       "      <td>New Orleans</td>\n",
       "      <td>30</td>\n",
       "      <td>18</td>\n",
       "      <td>12</td>\n",
       "      <td>0.600</td>\n",
       "      <td>12-4</td>\n",
       "      <td>6-8</td>\n",
       "      <td>NaN</td>\n",
       "    </tr>\n",
       "    <tr>\n",
       "      <th>11</th>\n",
       "      <td>1610612760</td>\n",
       "      <td>0</td>\n",
       "      <td>22022</td>\n",
       "      <td>2022-12-22</td>\n",
       "      <td>West</td>\n",
       "      <td>Oklahoma City</td>\n",
       "      <td>32</td>\n",
       "      <td>14</td>\n",
       "      <td>18</td>\n",
       "      <td>0.438</td>\n",
       "      <td>9-7</td>\n",
       "      <td>5-11</td>\n",
       "      <td>NaN</td>\n",
       "    </tr>\n",
       "    <tr>\n",
       "      <th>4</th>\n",
       "      <td>1610612746</td>\n",
       "      <td>0</td>\n",
       "      <td>22022</td>\n",
       "      <td>2022-12-22</td>\n",
       "      <td>West</td>\n",
       "      <td>LA Clippers</td>\n",
       "      <td>33</td>\n",
       "      <td>19</td>\n",
       "      <td>14</td>\n",
       "      <td>0.576</td>\n",
       "      <td>11-7</td>\n",
       "      <td>8-7</td>\n",
       "      <td>NaN</td>\n",
       "    </tr>\n",
       "    <tr>\n",
       "      <th>4278</th>\n",
       "      <td>1610612751</td>\n",
       "      <td>0</td>\n",
       "      <td>22022</td>\n",
       "      <td>2022-12-22</td>\n",
       "      <td>East</td>\n",
       "      <td>Brooklyn</td>\n",
       "      <td>32</td>\n",
       "      <td>20</td>\n",
       "      <td>12</td>\n",
       "      <td>0.625</td>\n",
       "      <td>11-5</td>\n",
       "      <td>9-7</td>\n",
       "      <td>NaN</td>\n",
       "    </tr>\n",
       "    <tr>\n",
       "      <th>2</th>\n",
       "      <td>1610612740</td>\n",
       "      <td>0</td>\n",
       "      <td>22022</td>\n",
       "      <td>2022-12-22</td>\n",
       "      <td>West</td>\n",
       "      <td>New Orleans</td>\n",
       "      <td>31</td>\n",
       "      <td>19</td>\n",
       "      <td>12</td>\n",
       "      <td>0.613</td>\n",
       "      <td>13-4</td>\n",
       "      <td>6-8</td>\n",
       "      <td>NaN</td>\n",
       "    </tr>\n",
       "  </tbody>\n",
       "</table>\n",
       "<p>28096 rows × 13 columns</p>\n",
       "</div>"
      ],
      "text/plain": [
       "           TEAM_ID  LEAGUE_ID  SEASON_ID STANDINGSDATE CONFERENCE  \\\n",
       "92950   1610612746          0      22002    2003-10-01       West   \n",
       "181543  1610612751          0      22002    2003-10-01       East   \n",
       "92947   1610612760          0      22002    2003-10-01       West   \n",
       "181546  1610612740          0      22002    2003-10-01       East   \n",
       "181531  1610612740          0      22002    2003-10-02       East   \n",
       "...            ...        ...        ...           ...        ...   \n",
       "17      1610612740          0      22022    2022-12-21       West   \n",
       "11      1610612760          0      22022    2022-12-22       West   \n",
       "4       1610612746          0      22022    2022-12-22       West   \n",
       "4278    1610612751          0      22022    2022-12-22       East   \n",
       "2       1610612740          0      22022    2022-12-22       West   \n",
       "\n",
       "                 TEAM   G   W   L  W_PCT HOME_RECORD ROAD_RECORD  RETURNTOPLAY  \n",
       "92950   L.A. Clippers  82  27  55  0.329       16-25       11-30           NaN  \n",
       "181543     New Jersey  82  49  33  0.598        33-8       16-25           NaN  \n",
       "92947         Seattle  82  40  42  0.488       25-16       15-26           NaN  \n",
       "181546    New Orleans  82  47  35  0.573       29-12       18-23           NaN  \n",
       "181531    New Orleans  82  47  35  0.573       29-12       18-23           NaN  \n",
       "...               ...  ..  ..  ..    ...         ...         ...           ...  \n",
       "17        New Orleans  30  18  12  0.600        12-4         6-8           NaN  \n",
       "11      Oklahoma City  32  14  18  0.438         9-7        5-11           NaN  \n",
       "4         LA Clippers  33  19  14  0.576        11-7         8-7           NaN  \n",
       "4278         Brooklyn  32  20  12  0.625        11-5         9-7           NaN  \n",
       "2         New Orleans  31  19  12  0.613        13-4         6-8           NaN  \n",
       "\n",
       "[28096 rows x 13 columns]"
      ]
     },
     "execution_count": 73,
     "metadata": {},
     "output_type": "execute_result"
    }
   ],
   "source": [
    "team_cond = (grouped[grouped['DISTINCT_TEAM'] > 1].index)\n",
    "filtered = ranking[ranking['TEAM_ID'].isin(team_cond)].sort_values('STANDINGSDATE')\n",
    "filtered\n",
    "# ranking[team_cond]"
   ]
  },
  {
   "cell_type": "code",
   "execution_count": 60,
   "id": "8fc1bb2e",
   "metadata": {},
   "outputs": [
    {
     "name": "stdout",
     "output_type": "stream",
     "text": [
      "                                       DISTINCT_TEAM\n",
      "TEAM_ID                                             \n",
      "1610612740  [New Orleans, New Orleans/Oklahoma City]\n",
      "1610612746              [L.A. Clippers, LA Clippers]\n",
      "1610612751                    [New Jersey, Brooklyn]\n",
      "1610612760                  [Seattle, Oklahoma City]\n"
     ]
    }
   ],
   "source": [
    "print(filtered.groupby(['TEAM_ID']).agg(DISTINCT_TEAM=('TEAM', 'unique')))"
   ]
  },
  {
   "cell_type": "code",
   "execution_count": 62,
   "id": "d18280d8",
   "metadata": {},
   "outputs": [
    {
     "data": {
      "application/vnd.microsoft.datawrangler.viewer.v0+json": {
       "columns": [
        {
         "name": "TEAM_ID",
         "rawType": "int64",
         "type": "integer"
        },
        {
         "name": "count",
         "rawType": "int64",
         "type": "integer"
        }
       ],
       "ref": "892cd4b1-7691-4b3c-8d37-0520b54e4827",
       "rows": [
        [
         "1610612760",
         "1831"
        ]
       ],
       "shape": {
        "columns": 1,
        "rows": 1
       }
      },
      "text/plain": [
       "TEAM_ID\n",
       "1610612760    1831\n",
       "Name: count, dtype: int64"
      ]
     },
     "execution_count": 62,
     "metadata": {},
     "output_type": "execute_result"
    }
   ],
   "source": [
    "seattle = ranking['TEAM'] == 'Seattle'\n",
    "ranking[seattle]['TEAM_ID'].value_counts()"
   ]
  },
  {
   "cell_type": "markdown",
   "id": "c7eea4fe",
   "metadata": {},
   "source": [
    "### NULL값 조사"
   ]
  },
  {
   "cell_type": "code",
   "execution_count": 82,
   "id": "49fd011e",
   "metadata": {},
   "outputs": [
    {
     "data": {
      "application/vnd.microsoft.datawrangler.viewer.v0+json": {
       "columns": [
        {
         "name": "index",
         "rawType": "int64",
         "type": "integer"
        },
        {
         "name": "TEAM_ID",
         "rawType": "int64",
         "type": "integer"
        },
        {
         "name": "LEAGUE_ID",
         "rawType": "int64",
         "type": "integer"
        },
        {
         "name": "SEASON_ID",
         "rawType": "int64",
         "type": "integer"
        },
        {
         "name": "STANDINGSDATE",
         "rawType": "object",
         "type": "string"
        },
        {
         "name": "CONFERENCE",
         "rawType": "object",
         "type": "string"
        },
        {
         "name": "TEAM",
         "rawType": "object",
         "type": "string"
        },
        {
         "name": "G",
         "rawType": "int64",
         "type": "integer"
        },
        {
         "name": "W",
         "rawType": "int64",
         "type": "integer"
        },
        {
         "name": "L",
         "rawType": "int64",
         "type": "integer"
        },
        {
         "name": "W_PCT",
         "rawType": "float64",
         "type": "float"
        },
        {
         "name": "HOME_RECORD",
         "rawType": "object",
         "type": "string"
        },
        {
         "name": "ROAD_RECORD",
         "rawType": "object",
         "type": "string"
        },
        {
         "name": "RETURNTOPLAY",
         "rawType": "float64",
         "type": "float"
        }
       ],
       "ref": "204d635f-d675-4b4e-80ee-61ff6934b9b2",
       "rows": [
        [
         "30659",
         "1610612749",
         "0",
         "22019",
         "2020-03-11",
         "East",
         "Milwaukee",
         "65",
         "53",
         "12",
         "0.815",
         "28-3",
         "25-9",
         null
        ],
        [
         "30644",
         "1610612749",
         "0",
         "22019",
         "2020-03-12",
         "East",
         "Milwaukee",
         "65",
         "53",
         "12",
         "0.815",
         "28-3",
         "25-9",
         "1.0"
        ],
        [
         "30629",
         "1610612749",
         "0",
         "22019",
         "2020-03-13",
         "East",
         "Milwaukee",
         "65",
         "53",
         "12",
         "0.815",
         "28-3",
         "25-9",
         "1.0"
        ],
        [
         "30614",
         "1610612749",
         "0",
         "22019",
         "2020-03-14",
         "East",
         "Milwaukee",
         "65",
         "53",
         "12",
         "0.815",
         "28-3",
         "25-9",
         "1.0"
        ],
        [
         "30599",
         "1610612749",
         "0",
         "22019",
         "2020-03-15",
         "East",
         "Milwaukee",
         "65",
         "53",
         "12",
         "0.815",
         "28-3",
         "25-9",
         "1.0"
        ],
        [
         "30584",
         "1610612749",
         "0",
         "22019",
         "2020-03-16",
         "East",
         "Milwaukee",
         "65",
         "53",
         "12",
         "0.815",
         "28-3",
         "25-9",
         "1.0"
        ],
        [
         "30569",
         "1610612749",
         "0",
         "22019",
         "2020-03-17",
         "East",
         "Milwaukee",
         "65",
         "53",
         "12",
         "0.815",
         "28-3",
         "25-9",
         "1.0"
        ],
        [
         "30554",
         "1610612749",
         "0",
         "22019",
         "2020-03-18",
         "East",
         "Milwaukee",
         "65",
         "53",
         "12",
         "0.815",
         "28-3",
         "25-9",
         "1.0"
        ],
        [
         "30539",
         "1610612749",
         "0",
         "22019",
         "2020-03-19",
         "East",
         "Milwaukee",
         "65",
         "53",
         "12",
         "0.815",
         "28-3",
         "25-9",
         "1.0"
        ],
        [
         "30524",
         "1610612749",
         "0",
         "22019",
         "2020-03-20",
         "East",
         "Milwaukee",
         "65",
         "53",
         "12",
         "0.815",
         "28-3",
         "25-9",
         "1.0"
        ],
        [
         "30509",
         "1610612749",
         "0",
         "22019",
         "2020-03-21",
         "East",
         "Milwaukee",
         "65",
         "53",
         "12",
         "0.815",
         "28-3",
         "25-9",
         "1.0"
        ],
        [
         "30494",
         "1610612749",
         "0",
         "22019",
         "2020-03-22",
         "East",
         "Milwaukee",
         "65",
         "53",
         "12",
         "0.815",
         "28-3",
         "25-9",
         "1.0"
        ],
        [
         "30479",
         "1610612749",
         "0",
         "22019",
         "2020-03-23",
         "East",
         "Milwaukee",
         "65",
         "53",
         "12",
         "0.815",
         "28-3",
         "25-9",
         "1.0"
        ],
        [
         "30464",
         "1610612749",
         "0",
         "22019",
         "2020-03-24",
         "East",
         "Milwaukee",
         "65",
         "53",
         "12",
         "0.815",
         "28-3",
         "25-9",
         "1.0"
        ],
        [
         "30449",
         "1610612749",
         "0",
         "22019",
         "2020-03-25",
         "East",
         "Milwaukee",
         "65",
         "53",
         "12",
         "0.815",
         "28-3",
         "25-9",
         "1.0"
        ],
        [
         "30434",
         "1610612749",
         "0",
         "22019",
         "2020-03-26",
         "East",
         "Milwaukee",
         "65",
         "53",
         "12",
         "0.815",
         "28-3",
         "25-9",
         "1.0"
        ],
        [
         "30419",
         "1610612749",
         "0",
         "22019",
         "2020-03-27",
         "East",
         "Milwaukee",
         "65",
         "53",
         "12",
         "0.815",
         "28-3",
         "25-9",
         "1.0"
        ],
        [
         "30404",
         "1610612749",
         "0",
         "22019",
         "2020-03-28",
         "East",
         "Milwaukee",
         "65",
         "53",
         "12",
         "0.815",
         "28-3",
         "25-9",
         "1.0"
        ],
        [
         "30389",
         "1610612749",
         "0",
         "22019",
         "2020-03-29",
         "East",
         "Milwaukee",
         "65",
         "53",
         "12",
         "0.815",
         "28-3",
         "25-9",
         "1.0"
        ],
        [
         "30374",
         "1610612749",
         "0",
         "22019",
         "2020-03-30",
         "East",
         "Milwaukee",
         "65",
         "53",
         "12",
         "0.815",
         "28-3",
         "25-9",
         "1.0"
        ],
        [
         "30359",
         "1610612749",
         "0",
         "22019",
         "2020-03-31",
         "East",
         "Milwaukee",
         "65",
         "53",
         "12",
         "0.815",
         "28-3",
         "25-9",
         "1.0"
        ],
        [
         "30344",
         "1610612749",
         "0",
         "22019",
         "2020-04-01",
         "East",
         "Milwaukee",
         "65",
         "53",
         "12",
         "0.815",
         "28-3",
         "25-9",
         "1.0"
        ],
        [
         "30329",
         "1610612749",
         "0",
         "22019",
         "2020-04-02",
         "East",
         "Milwaukee",
         "65",
         "53",
         "12",
         "0.815",
         "28-3",
         "25-9",
         "1.0"
        ],
        [
         "30314",
         "1610612749",
         "0",
         "22019",
         "2020-04-03",
         "East",
         "Milwaukee",
         "65",
         "53",
         "12",
         "0.815",
         "28-3",
         "25-9",
         "1.0"
        ],
        [
         "30299",
         "1610612749",
         "0",
         "22019",
         "2020-04-04",
         "East",
         "Milwaukee",
         "65",
         "53",
         "12",
         "0.815",
         "28-3",
         "25-9",
         "1.0"
        ],
        [
         "30284",
         "1610612749",
         "0",
         "22019",
         "2020-04-05",
         "East",
         "Milwaukee",
         "65",
         "53",
         "12",
         "0.815",
         "28-3",
         "25-9",
         "1.0"
        ],
        [
         "30269",
         "1610612749",
         "0",
         "22019",
         "2020-04-06",
         "East",
         "Milwaukee",
         "65",
         "53",
         "12",
         "0.815",
         "28-3",
         "25-9",
         "1.0"
        ],
        [
         "30254",
         "1610612749",
         "0",
         "22019",
         "2020-04-07",
         "East",
         "Milwaukee",
         "65",
         "53",
         "12",
         "0.815",
         "28-3",
         "25-9",
         "1.0"
        ],
        [
         "30239",
         "1610612749",
         "0",
         "22019",
         "2020-04-08",
         "East",
         "Milwaukee",
         "65",
         "53",
         "12",
         "0.815",
         "28-3",
         "25-9",
         "1.0"
        ],
        [
         "30224",
         "1610612749",
         "0",
         "22019",
         "2020-04-09",
         "East",
         "Milwaukee",
         "65",
         "53",
         "12",
         "0.815",
         "28-3",
         "25-9",
         "1.0"
        ],
        [
         "30209",
         "1610612749",
         "0",
         "22019",
         "2020-04-10",
         "East",
         "Milwaukee",
         "65",
         "53",
         "12",
         "0.815",
         "28-3",
         "25-9",
         "1.0"
        ],
        [
         "30194",
         "1610612749",
         "0",
         "22019",
         "2020-04-11",
         "East",
         "Milwaukee",
         "65",
         "53",
         "12",
         "0.815",
         "28-3",
         "25-9",
         "1.0"
        ],
        [
         "30179",
         "1610612749",
         "0",
         "22019",
         "2020-04-12",
         "East",
         "Milwaukee",
         "65",
         "53",
         "12",
         "0.815",
         "28-3",
         "25-9",
         "1.0"
        ],
        [
         "30164",
         "1610612749",
         "0",
         "22019",
         "2020-04-13",
         "East",
         "Milwaukee",
         "65",
         "53",
         "12",
         "0.815",
         "28-3",
         "25-9",
         "1.0"
        ],
        [
         "30149",
         "1610612749",
         "0",
         "22019",
         "2020-04-14",
         "East",
         "Milwaukee",
         "65",
         "53",
         "12",
         "0.815",
         "28-3",
         "25-9",
         "1.0"
        ],
        [
         "30134",
         "1610612749",
         "0",
         "22019",
         "2020-04-15",
         "East",
         "Milwaukee",
         "65",
         "53",
         "12",
         "0.815",
         "28-3",
         "25-9",
         "1.0"
        ],
        [
         "30119",
         "1610612749",
         "0",
         "22019",
         "2020-04-16",
         "East",
         "Milwaukee",
         "65",
         "53",
         "12",
         "0.815",
         "28-3",
         "25-9",
         "1.0"
        ],
        [
         "30104",
         "1610612749",
         "0",
         "22019",
         "2020-04-17",
         "East",
         "Milwaukee",
         "65",
         "53",
         "12",
         "0.815",
         "28-3",
         "25-9",
         "1.0"
        ],
        [
         "30089",
         "1610612749",
         "0",
         "22019",
         "2020-04-18",
         "East",
         "Milwaukee",
         "65",
         "53",
         "12",
         "0.815",
         "28-3",
         "25-9",
         "1.0"
        ],
        [
         "30074",
         "1610612749",
         "0",
         "22019",
         "2020-04-19",
         "East",
         "Milwaukee",
         "65",
         "53",
         "12",
         "0.815",
         "28-3",
         "25-9",
         "1.0"
        ],
        [
         "30059",
         "1610612749",
         "0",
         "22019",
         "2020-04-20",
         "East",
         "Milwaukee",
         "65",
         "53",
         "12",
         "0.815",
         "28-3",
         "25-9",
         "1.0"
        ],
        [
         "30044",
         "1610612749",
         "0",
         "22019",
         "2020-04-21",
         "East",
         "Milwaukee",
         "65",
         "53",
         "12",
         "0.815",
         "28-3",
         "25-9",
         "1.0"
        ],
        [
         "30029",
         "1610612749",
         "0",
         "22019",
         "2020-04-22",
         "East",
         "Milwaukee",
         "65",
         "53",
         "12",
         "0.815",
         "28-3",
         "25-9",
         "1.0"
        ],
        [
         "30014",
         "1610612749",
         "0",
         "22019",
         "2020-04-23",
         "East",
         "Milwaukee",
         "65",
         "53",
         "12",
         "0.815",
         "28-3",
         "25-9",
         "1.0"
        ],
        [
         "29999",
         "1610612749",
         "0",
         "22019",
         "2020-04-24",
         "East",
         "Milwaukee",
         "65",
         "53",
         "12",
         "0.815",
         "28-3",
         "25-9",
         "1.0"
        ],
        [
         "29984",
         "1610612749",
         "0",
         "22019",
         "2020-04-25",
         "East",
         "Milwaukee",
         "65",
         "53",
         "12",
         "0.815",
         "28-3",
         "25-9",
         "1.0"
        ],
        [
         "29969",
         "1610612749",
         "0",
         "22019",
         "2020-04-26",
         "East",
         "Milwaukee",
         "65",
         "53",
         "12",
         "0.815",
         "28-3",
         "25-9",
         "1.0"
        ],
        [
         "29954",
         "1610612749",
         "0",
         "22019",
         "2020-04-27",
         "East",
         "Milwaukee",
         "65",
         "53",
         "12",
         "0.815",
         "28-3",
         "25-9",
         "1.0"
        ],
        [
         "29939",
         "1610612749",
         "0",
         "22019",
         "2020-04-28",
         "East",
         "Milwaukee",
         "65",
         "53",
         "12",
         "0.815",
         "28-3",
         "25-9",
         "1.0"
        ],
        [
         "29924",
         "1610612749",
         "0",
         "22019",
         "2020-04-29",
         "East",
         "Milwaukee",
         "65",
         "53",
         "12",
         "0.815",
         "28-3",
         "25-9",
         "1.0"
        ]
       ],
       "shape": {
        "columns": 13,
        "rows": 1019
       }
      },
      "text/html": [
       "<div>\n",
       "<style scoped>\n",
       "    .dataframe tbody tr th:only-of-type {\n",
       "        vertical-align: middle;\n",
       "    }\n",
       "\n",
       "    .dataframe tbody tr th {\n",
       "        vertical-align: top;\n",
       "    }\n",
       "\n",
       "    .dataframe thead th {\n",
       "        text-align: right;\n",
       "    }\n",
       "</style>\n",
       "<table border=\"1\" class=\"dataframe\">\n",
       "  <thead>\n",
       "    <tr style=\"text-align: right;\">\n",
       "      <th></th>\n",
       "      <th>TEAM_ID</th>\n",
       "      <th>LEAGUE_ID</th>\n",
       "      <th>SEASON_ID</th>\n",
       "      <th>STANDINGSDATE</th>\n",
       "      <th>CONFERENCE</th>\n",
       "      <th>TEAM</th>\n",
       "      <th>G</th>\n",
       "      <th>W</th>\n",
       "      <th>L</th>\n",
       "      <th>W_PCT</th>\n",
       "      <th>HOME_RECORD</th>\n",
       "      <th>ROAD_RECORD</th>\n",
       "      <th>RETURNTOPLAY</th>\n",
       "    </tr>\n",
       "  </thead>\n",
       "  <tbody>\n",
       "    <tr>\n",
       "      <th>30659</th>\n",
       "      <td>1610612749</td>\n",
       "      <td>0</td>\n",
       "      <td>22019</td>\n",
       "      <td>2020-03-11</td>\n",
       "      <td>East</td>\n",
       "      <td>Milwaukee</td>\n",
       "      <td>65</td>\n",
       "      <td>53</td>\n",
       "      <td>12</td>\n",
       "      <td>0.815</td>\n",
       "      <td>28-3</td>\n",
       "      <td>25-9</td>\n",
       "      <td>NaN</td>\n",
       "    </tr>\n",
       "    <tr>\n",
       "      <th>30644</th>\n",
       "      <td>1610612749</td>\n",
       "      <td>0</td>\n",
       "      <td>22019</td>\n",
       "      <td>2020-03-12</td>\n",
       "      <td>East</td>\n",
       "      <td>Milwaukee</td>\n",
       "      <td>65</td>\n",
       "      <td>53</td>\n",
       "      <td>12</td>\n",
       "      <td>0.815</td>\n",
       "      <td>28-3</td>\n",
       "      <td>25-9</td>\n",
       "      <td>1.0</td>\n",
       "    </tr>\n",
       "    <tr>\n",
       "      <th>30629</th>\n",
       "      <td>1610612749</td>\n",
       "      <td>0</td>\n",
       "      <td>22019</td>\n",
       "      <td>2020-03-13</td>\n",
       "      <td>East</td>\n",
       "      <td>Milwaukee</td>\n",
       "      <td>65</td>\n",
       "      <td>53</td>\n",
       "      <td>12</td>\n",
       "      <td>0.815</td>\n",
       "      <td>28-3</td>\n",
       "      <td>25-9</td>\n",
       "      <td>1.0</td>\n",
       "    </tr>\n",
       "    <tr>\n",
       "      <th>30614</th>\n",
       "      <td>1610612749</td>\n",
       "      <td>0</td>\n",
       "      <td>22019</td>\n",
       "      <td>2020-03-14</td>\n",
       "      <td>East</td>\n",
       "      <td>Milwaukee</td>\n",
       "      <td>65</td>\n",
       "      <td>53</td>\n",
       "      <td>12</td>\n",
       "      <td>0.815</td>\n",
       "      <td>28-3</td>\n",
       "      <td>25-9</td>\n",
       "      <td>1.0</td>\n",
       "    </tr>\n",
       "    <tr>\n",
       "      <th>30599</th>\n",
       "      <td>1610612749</td>\n",
       "      <td>0</td>\n",
       "      <td>22019</td>\n",
       "      <td>2020-03-15</td>\n",
       "      <td>East</td>\n",
       "      <td>Milwaukee</td>\n",
       "      <td>65</td>\n",
       "      <td>53</td>\n",
       "      <td>12</td>\n",
       "      <td>0.815</td>\n",
       "      <td>28-3</td>\n",
       "      <td>25-9</td>\n",
       "      <td>1.0</td>\n",
       "    </tr>\n",
       "    <tr>\n",
       "      <th>...</th>\n",
       "      <td>...</td>\n",
       "      <td>...</td>\n",
       "      <td>...</td>\n",
       "      <td>...</td>\n",
       "      <td>...</td>\n",
       "      <td>...</td>\n",
       "      <td>...</td>\n",
       "      <td>...</td>\n",
       "      <td>...</td>\n",
       "      <td>...</td>\n",
       "      <td>...</td>\n",
       "      <td>...</td>\n",
       "      <td>...</td>\n",
       "    </tr>\n",
       "    <tr>\n",
       "      <th>4335</th>\n",
       "      <td>1610612749</td>\n",
       "      <td>0</td>\n",
       "      <td>22022</td>\n",
       "      <td>2022-12-18</td>\n",
       "      <td>East</td>\n",
       "      <td>Milwaukee</td>\n",
       "      <td>29</td>\n",
       "      <td>21</td>\n",
       "      <td>8</td>\n",
       "      <td>0.724</td>\n",
       "      <td>14-3</td>\n",
       "      <td>7-5</td>\n",
       "      <td>NaN</td>\n",
       "    </tr>\n",
       "    <tr>\n",
       "      <th>4320</th>\n",
       "      <td>1610612749</td>\n",
       "      <td>0</td>\n",
       "      <td>22022</td>\n",
       "      <td>2022-12-19</td>\n",
       "      <td>East</td>\n",
       "      <td>Milwaukee</td>\n",
       "      <td>30</td>\n",
       "      <td>22</td>\n",
       "      <td>8</td>\n",
       "      <td>0.733</td>\n",
       "      <td>14-3</td>\n",
       "      <td>8-5</td>\n",
       "      <td>NaN</td>\n",
       "    </tr>\n",
       "    <tr>\n",
       "      <th>4305</th>\n",
       "      <td>1610612749</td>\n",
       "      <td>0</td>\n",
       "      <td>22022</td>\n",
       "      <td>2022-12-20</td>\n",
       "      <td>East</td>\n",
       "      <td>Milwaukee</td>\n",
       "      <td>30</td>\n",
       "      <td>22</td>\n",
       "      <td>8</td>\n",
       "      <td>0.733</td>\n",
       "      <td>14-3</td>\n",
       "      <td>8-5</td>\n",
       "      <td>NaN</td>\n",
       "    </tr>\n",
       "    <tr>\n",
       "      <th>4290</th>\n",
       "      <td>1610612749</td>\n",
       "      <td>0</td>\n",
       "      <td>22022</td>\n",
       "      <td>2022-12-21</td>\n",
       "      <td>East</td>\n",
       "      <td>Milwaukee</td>\n",
       "      <td>31</td>\n",
       "      <td>22</td>\n",
       "      <td>9</td>\n",
       "      <td>0.710</td>\n",
       "      <td>14-3</td>\n",
       "      <td>8-6</td>\n",
       "      <td>NaN</td>\n",
       "    </tr>\n",
       "    <tr>\n",
       "      <th>4275</th>\n",
       "      <td>1610612749</td>\n",
       "      <td>0</td>\n",
       "      <td>22022</td>\n",
       "      <td>2022-12-22</td>\n",
       "      <td>East</td>\n",
       "      <td>Milwaukee</td>\n",
       "      <td>31</td>\n",
       "      <td>22</td>\n",
       "      <td>9</td>\n",
       "      <td>0.710</td>\n",
       "      <td>14-3</td>\n",
       "      <td>8-6</td>\n",
       "      <td>NaN</td>\n",
       "    </tr>\n",
       "  </tbody>\n",
       "</table>\n",
       "<p>1019 rows × 13 columns</p>\n",
       "</div>"
      ],
      "text/plain": [
       "          TEAM_ID  LEAGUE_ID  SEASON_ID STANDINGSDATE CONFERENCE       TEAM  \\\n",
       "30659  1610612749          0      22019    2020-03-11       East  Milwaukee   \n",
       "30644  1610612749          0      22019    2020-03-12       East  Milwaukee   \n",
       "30629  1610612749          0      22019    2020-03-13       East  Milwaukee   \n",
       "30614  1610612749          0      22019    2020-03-14       East  Milwaukee   \n",
       "30599  1610612749          0      22019    2020-03-15       East  Milwaukee   \n",
       "...           ...        ...        ...           ...        ...        ...   \n",
       "4335   1610612749          0      22022    2022-12-18       East  Milwaukee   \n",
       "4320   1610612749          0      22022    2022-12-19       East  Milwaukee   \n",
       "4305   1610612749          0      22022    2022-12-20       East  Milwaukee   \n",
       "4290   1610612749          0      22022    2022-12-21       East  Milwaukee   \n",
       "4275   1610612749          0      22022    2022-12-22       East  Milwaukee   \n",
       "\n",
       "        G   W   L  W_PCT HOME_RECORD ROAD_RECORD  RETURNTOPLAY  \n",
       "30659  65  53  12  0.815        28-3        25-9           NaN  \n",
       "30644  65  53  12  0.815        28-3        25-9           1.0  \n",
       "30629  65  53  12  0.815        28-3        25-9           1.0  \n",
       "30614  65  53  12  0.815        28-3        25-9           1.0  \n",
       "30599  65  53  12  0.815        28-3        25-9           1.0  \n",
       "...    ..  ..  ..    ...         ...         ...           ...  \n",
       "4335   29  21   8  0.724        14-3         7-5           NaN  \n",
       "4320   30  22   8  0.733        14-3         8-5           NaN  \n",
       "4305   30  22   8  0.733        14-3         8-5           NaN  \n",
       "4290   31  22   9  0.710        14-3         8-6           NaN  \n",
       "4275   31  22   9  0.710        14-3         8-6           NaN  \n",
       "\n",
       "[1019 rows x 13 columns]"
      ]
     },
     "execution_count": 82,
     "metadata": {},
     "output_type": "execute_result"
    }
   ],
   "source": [
    "target_team = 'Milwaukee'\n",
    "target_date = '2020-03-11'\n",
    "\n",
    "cond = (ranking['TEAM'] == target_team) & (ranking['STANDINGSDATE'] >= target_date)\n",
    "ranking[cond].sort_values('STANDINGSDATE')"
   ]
  },
  {
   "cell_type": "code",
   "execution_count": null,
   "id": "a0a6ba3a",
   "metadata": {},
   "outputs": [],
   "source": []
  }
 ],
 "metadata": {
  "kernelspec": {
   "display_name": "sparta",
   "language": "python",
   "name": "python3"
  },
  "language_info": {
   "codemirror_mode": {
    "name": "ipython",
    "version": 3
   },
   "file_extension": ".py",
   "mimetype": "text/x-python",
   "name": "python",
   "nbconvert_exporter": "python",
   "pygments_lexer": "ipython3",
   "version": "3.10.18"
  }
 },
 "nbformat": 4,
 "nbformat_minor": 5
}
