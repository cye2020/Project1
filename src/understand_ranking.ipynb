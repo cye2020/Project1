{
 "cells": [
  {
   "cell_type": "code",
   "execution_count": 2,
   "id": "4b90b8b5",
   "metadata": {},
   "outputs": [],
   "source": [
    "import pandas as pd\n",
    "\n",
    "from utils import load_dataset"
   ]
  },
  {
   "cell_type": "code",
   "execution_count": 3,
   "id": "56a4116c",
   "metadata": {},
   "outputs": [],
   "source": [
    "ranking = load_dataset('ranking', test=False)"
   ]
  },
  {
   "cell_type": "code",
   "execution_count": 4,
   "id": "2170f9a8",
   "metadata": {},
   "outputs": [
    {
     "data": {
      "text/plain": [
       "(210342, 13)"
      ]
     },
     "execution_count": 4,
     "metadata": {},
     "output_type": "execute_result"
    }
   ],
   "source": [
    "ranking.shape"
   ]
  },
  {
   "cell_type": "code",
   "execution_count": 5,
   "id": "6c30bc7b",
   "metadata": {},
   "outputs": [
    {
     "name": "stdout",
     "output_type": "stream",
     "text": [
      "<class 'pandas.core.frame.DataFrame'>\n",
      "RangeIndex: 210342 entries, 0 to 210341\n",
      "Data columns (total 13 columns):\n",
      " #   Column         Non-Null Count   Dtype         \n",
      "---  ------         --------------   -----         \n",
      " 0   TEAM_ID        210342 non-null  int64         \n",
      " 1   LEAGUE_ID      210342 non-null  int64         \n",
      " 2   SEASON_ID      210342 non-null  object        \n",
      " 3   STANDINGSDATE  210342 non-null  datetime64[ns]\n",
      " 4   CONFERENCE     210342 non-null  object        \n",
      " 5   TEAM           210342 non-null  object        \n",
      " 6   G              210342 non-null  int64         \n",
      " 7   W              210342 non-null  int64         \n",
      " 8   L              210342 non-null  int64         \n",
      " 9   W_PCT          210342 non-null  float64       \n",
      " 10  HOME_RECORD    210342 non-null  object        \n",
      " 11  ROAD_RECORD    210342 non-null  object        \n",
      " 12  RETURNTOPLAY   3990 non-null    float64       \n",
      "dtypes: datetime64[ns](1), float64(2), int64(5), object(5)\n",
      "memory usage: 20.9+ MB\n"
     ]
    }
   ],
   "source": [
    "ranking.info()"
   ]
  },
  {
   "cell_type": "code",
   "execution_count": 6,
   "id": "7fc4486c",
   "metadata": {},
   "outputs": [
    {
     "data": {
      "application/vnd.microsoft.datawrangler.viewer.v0+json": {
       "columns": [
        {
         "name": "index",
         "rawType": "object",
         "type": "string"
        },
        {
         "name": "0",
         "rawType": "int64",
         "type": "integer"
        }
       ],
       "ref": "8646f9a1-f1ad-442e-ae8a-e1ae9355c2bc",
       "rows": [
        [
         "TEAM_ID",
         "0"
        ],
        [
         "LEAGUE_ID",
         "0"
        ],
        [
         "SEASON_ID",
         "0"
        ],
        [
         "STANDINGSDATE",
         "0"
        ],
        [
         "CONFERENCE",
         "0"
        ],
        [
         "TEAM",
         "0"
        ],
        [
         "G",
         "0"
        ],
        [
         "W",
         "0"
        ],
        [
         "L",
         "0"
        ],
        [
         "W_PCT",
         "0"
        ],
        [
         "HOME_RECORD",
         "0"
        ],
        [
         "ROAD_RECORD",
         "0"
        ],
        [
         "RETURNTOPLAY",
         "206352"
        ]
       ],
       "shape": {
        "columns": 1,
        "rows": 13
       }
      },
      "text/plain": [
       "TEAM_ID               0\n",
       "LEAGUE_ID             0\n",
       "SEASON_ID             0\n",
       "STANDINGSDATE         0\n",
       "CONFERENCE            0\n",
       "TEAM                  0\n",
       "G                     0\n",
       "W                     0\n",
       "L                     0\n",
       "W_PCT                 0\n",
       "HOME_RECORD           0\n",
       "ROAD_RECORD           0\n",
       "RETURNTOPLAY     206352\n",
       "dtype: int64"
      ]
     },
     "execution_count": 6,
     "metadata": {},
     "output_type": "execute_result"
    }
   ],
   "source": [
    "ranking.isnull().sum()"
   ]
  },
  {
   "cell_type": "code",
   "execution_count": 7,
   "id": "1dcc1b16",
   "metadata": {},
   "outputs": [
    {
     "data": {
      "application/vnd.microsoft.datawrangler.viewer.v0+json": {
       "columns": [
        {
         "name": "index",
         "rawType": "object",
         "type": "string"
        },
        {
         "name": "0",
         "rawType": "int64",
         "type": "integer"
        }
       ],
       "ref": "ec77d273-6624-48de-b056-21957053dffb",
       "rows": [
        [
         "TEAM_ID",
         "30"
        ],
        [
         "LEAGUE_ID",
         "1"
        ],
        [
         "SEASON_ID",
         "41"
        ],
        [
         "STANDINGSDATE",
         "7023"
        ],
        [
         "CONFERENCE",
         "2"
        ],
        [
         "TEAM",
         "34"
        ],
        [
         "G",
         "83"
        ],
        [
         "W",
         "74"
        ],
        [
         "L",
         "73"
        ],
        [
         "W_PCT",
         "895"
        ],
        [
         "HOME_RECORD",
         "800"
        ],
        [
         "ROAD_RECORD",
         "758"
        ],
        [
         "RETURNTOPLAY",
         "2"
        ]
       ],
       "shape": {
        "columns": 1,
        "rows": 13
       }
      },
      "text/plain": [
       "TEAM_ID            30\n",
       "LEAGUE_ID           1\n",
       "SEASON_ID          41\n",
       "STANDINGSDATE    7023\n",
       "CONFERENCE          2\n",
       "TEAM               34\n",
       "G                  83\n",
       "W                  74\n",
       "L                  73\n",
       "W_PCT             895\n",
       "HOME_RECORD       800\n",
       "ROAD_RECORD       758\n",
       "RETURNTOPLAY        2\n",
       "dtype: int64"
      ]
     },
     "execution_count": 7,
     "metadata": {},
     "output_type": "execute_result"
    }
   ],
   "source": [
    "ranking.nunique()"
   ]
  },
  {
   "cell_type": "raw",
   "id": "9cd50aec",
   "metadata": {
    "vscode": {
     "languageId": "raw"
    }
   },
   "source": [
    "# 과제: LEAGUE_ID삭제\n",
    "# CONFERENCE 분할? 그룹?\n",
    "# TEAM_ID와 TEAM 개수가 다른 이유 파악"
   ]
  },
  {
   "cell_type": "code",
   "execution_count": 8,
   "id": "9b05bf24",
   "metadata": {},
   "outputs": [
    {
     "data": {
      "application/vnd.microsoft.datawrangler.viewer.v0+json": {
       "columns": [
        {
         "name": "index",
         "rawType": "int64",
         "type": "integer"
        },
        {
         "name": "TEAM_ID",
         "rawType": "int64",
         "type": "integer"
        },
        {
         "name": "LEAGUE_ID",
         "rawType": "int64",
         "type": "integer"
        },
        {
         "name": "SEASON_ID",
         "rawType": "object",
         "type": "string"
        },
        {
         "name": "STANDINGSDATE",
         "rawType": "datetime64[ns]",
         "type": "datetime"
        },
        {
         "name": "CONFERENCE",
         "rawType": "object",
         "type": "string"
        },
        {
         "name": "TEAM",
         "rawType": "object",
         "type": "string"
        },
        {
         "name": "G",
         "rawType": "int64",
         "type": "integer"
        },
        {
         "name": "W",
         "rawType": "int64",
         "type": "integer"
        },
        {
         "name": "L",
         "rawType": "int64",
         "type": "integer"
        },
        {
         "name": "W_PCT",
         "rawType": "float64",
         "type": "float"
        },
        {
         "name": "HOME_RECORD",
         "rawType": "object",
         "type": "string"
        },
        {
         "name": "ROAD_RECORD",
         "rawType": "object",
         "type": "string"
        },
        {
         "name": "RETURNTOPLAY",
         "rawType": "float64",
         "type": "float"
        }
       ],
       "ref": "1ef953a7-baa8-4570-a4af-602af0b78d0d",
       "rows": [
        [
         "0",
         "1610612743",
         "0",
         "22022",
         "2022-12-22 00:00:00",
         "West",
         "Denver",
         "30",
         "19",
         "11",
         "0.633",
         "10-3",
         "9-8",
         null
        ],
        [
         "1",
         "1610612763",
         "0",
         "22022",
         "2022-12-22 00:00:00",
         "West",
         "Memphis",
         "30",
         "19",
         "11",
         "0.633",
         "13-2",
         "6-9",
         null
        ],
        [
         "2",
         "1610612740",
         "0",
         "22022",
         "2022-12-22 00:00:00",
         "West",
         "New Orleans",
         "31",
         "19",
         "12",
         "0.613",
         "13-4",
         "6-8",
         null
        ],
        [
         "3",
         "1610612756",
         "0",
         "22022",
         "2022-12-22 00:00:00",
         "West",
         "Phoenix",
         "32",
         "19",
         "13",
         "0.594",
         "14-4",
         "5-9",
         null
        ],
        [
         "4",
         "1610612746",
         "0",
         "22022",
         "2022-12-22 00:00:00",
         "West",
         "LA Clippers",
         "33",
         "19",
         "14",
         "0.576",
         "11-7",
         "8-7",
         null
        ],
        [
         "5",
         "1610612758",
         "0",
         "22022",
         "2022-12-22 00:00:00",
         "West",
         "Sacramento",
         "30",
         "17",
         "13",
         "0.567",
         "9-5",
         "8-8",
         null
        ],
        [
         "6",
         "1610612762",
         "0",
         "22022",
         "2022-12-22 00:00:00",
         "West",
         "Utah",
         "35",
         "19",
         "16",
         "0.543",
         "12-5",
         "7-11",
         null
        ],
        [
         "7",
         "1610612757",
         "0",
         "22022",
         "2022-12-22 00:00:00",
         "West",
         "Portland",
         "32",
         "17",
         "15",
         "0.531",
         "7-6",
         "10-9",
         null
        ],
        [
         "8",
         "1610612742",
         "0",
         "22022",
         "2022-12-22 00:00:00",
         "West",
         "Dallas",
         "32",
         "16",
         "16",
         "0.5",
         "12-5",
         "4-11",
         null
        ],
        [
         "9",
         "1610612750",
         "0",
         "22022",
         "2022-12-22 00:00:00",
         "West",
         "Minnesota",
         "32",
         "16",
         "16",
         "0.5",
         "9-8",
         "7-8",
         null
        ]
       ],
       "shape": {
        "columns": 13,
        "rows": 10
       }
      },
      "text/html": [
       "<div>\n",
       "<style scoped>\n",
       "    .dataframe tbody tr th:only-of-type {\n",
       "        vertical-align: middle;\n",
       "    }\n",
       "\n",
       "    .dataframe tbody tr th {\n",
       "        vertical-align: top;\n",
       "    }\n",
       "\n",
       "    .dataframe thead th {\n",
       "        text-align: right;\n",
       "    }\n",
       "</style>\n",
       "<table border=\"1\" class=\"dataframe\">\n",
       "  <thead>\n",
       "    <tr style=\"text-align: right;\">\n",
       "      <th></th>\n",
       "      <th>TEAM_ID</th>\n",
       "      <th>LEAGUE_ID</th>\n",
       "      <th>SEASON_ID</th>\n",
       "      <th>STANDINGSDATE</th>\n",
       "      <th>CONFERENCE</th>\n",
       "      <th>TEAM</th>\n",
       "      <th>G</th>\n",
       "      <th>W</th>\n",
       "      <th>L</th>\n",
       "      <th>W_PCT</th>\n",
       "      <th>HOME_RECORD</th>\n",
       "      <th>ROAD_RECORD</th>\n",
       "      <th>RETURNTOPLAY</th>\n",
       "    </tr>\n",
       "  </thead>\n",
       "  <tbody>\n",
       "    <tr>\n",
       "      <th>0</th>\n",
       "      <td>1610612743</td>\n",
       "      <td>0</td>\n",
       "      <td>22022</td>\n",
       "      <td>2022-12-22</td>\n",
       "      <td>West</td>\n",
       "      <td>Denver</td>\n",
       "      <td>30</td>\n",
       "      <td>19</td>\n",
       "      <td>11</td>\n",
       "      <td>0.633</td>\n",
       "      <td>10-3</td>\n",
       "      <td>9-8</td>\n",
       "      <td>NaN</td>\n",
       "    </tr>\n",
       "    <tr>\n",
       "      <th>1</th>\n",
       "      <td>1610612763</td>\n",
       "      <td>0</td>\n",
       "      <td>22022</td>\n",
       "      <td>2022-12-22</td>\n",
       "      <td>West</td>\n",
       "      <td>Memphis</td>\n",
       "      <td>30</td>\n",
       "      <td>19</td>\n",
       "      <td>11</td>\n",
       "      <td>0.633</td>\n",
       "      <td>13-2</td>\n",
       "      <td>6-9</td>\n",
       "      <td>NaN</td>\n",
       "    </tr>\n",
       "    <tr>\n",
       "      <th>2</th>\n",
       "      <td>1610612740</td>\n",
       "      <td>0</td>\n",
       "      <td>22022</td>\n",
       "      <td>2022-12-22</td>\n",
       "      <td>West</td>\n",
       "      <td>New Orleans</td>\n",
       "      <td>31</td>\n",
       "      <td>19</td>\n",
       "      <td>12</td>\n",
       "      <td>0.613</td>\n",
       "      <td>13-4</td>\n",
       "      <td>6-8</td>\n",
       "      <td>NaN</td>\n",
       "    </tr>\n",
       "    <tr>\n",
       "      <th>3</th>\n",
       "      <td>1610612756</td>\n",
       "      <td>0</td>\n",
       "      <td>22022</td>\n",
       "      <td>2022-12-22</td>\n",
       "      <td>West</td>\n",
       "      <td>Phoenix</td>\n",
       "      <td>32</td>\n",
       "      <td>19</td>\n",
       "      <td>13</td>\n",
       "      <td>0.594</td>\n",
       "      <td>14-4</td>\n",
       "      <td>5-9</td>\n",
       "      <td>NaN</td>\n",
       "    </tr>\n",
       "    <tr>\n",
       "      <th>4</th>\n",
       "      <td>1610612746</td>\n",
       "      <td>0</td>\n",
       "      <td>22022</td>\n",
       "      <td>2022-12-22</td>\n",
       "      <td>West</td>\n",
       "      <td>LA Clippers</td>\n",
       "      <td>33</td>\n",
       "      <td>19</td>\n",
       "      <td>14</td>\n",
       "      <td>0.576</td>\n",
       "      <td>11-7</td>\n",
       "      <td>8-7</td>\n",
       "      <td>NaN</td>\n",
       "    </tr>\n",
       "    <tr>\n",
       "      <th>5</th>\n",
       "      <td>1610612758</td>\n",
       "      <td>0</td>\n",
       "      <td>22022</td>\n",
       "      <td>2022-12-22</td>\n",
       "      <td>West</td>\n",
       "      <td>Sacramento</td>\n",
       "      <td>30</td>\n",
       "      <td>17</td>\n",
       "      <td>13</td>\n",
       "      <td>0.567</td>\n",
       "      <td>9-5</td>\n",
       "      <td>8-8</td>\n",
       "      <td>NaN</td>\n",
       "    </tr>\n",
       "    <tr>\n",
       "      <th>6</th>\n",
       "      <td>1610612762</td>\n",
       "      <td>0</td>\n",
       "      <td>22022</td>\n",
       "      <td>2022-12-22</td>\n",
       "      <td>West</td>\n",
       "      <td>Utah</td>\n",
       "      <td>35</td>\n",
       "      <td>19</td>\n",
       "      <td>16</td>\n",
       "      <td>0.543</td>\n",
       "      <td>12-5</td>\n",
       "      <td>7-11</td>\n",
       "      <td>NaN</td>\n",
       "    </tr>\n",
       "    <tr>\n",
       "      <th>7</th>\n",
       "      <td>1610612757</td>\n",
       "      <td>0</td>\n",
       "      <td>22022</td>\n",
       "      <td>2022-12-22</td>\n",
       "      <td>West</td>\n",
       "      <td>Portland</td>\n",
       "      <td>32</td>\n",
       "      <td>17</td>\n",
       "      <td>15</td>\n",
       "      <td>0.531</td>\n",
       "      <td>7-6</td>\n",
       "      <td>10-9</td>\n",
       "      <td>NaN</td>\n",
       "    </tr>\n",
       "    <tr>\n",
       "      <th>8</th>\n",
       "      <td>1610612742</td>\n",
       "      <td>0</td>\n",
       "      <td>22022</td>\n",
       "      <td>2022-12-22</td>\n",
       "      <td>West</td>\n",
       "      <td>Dallas</td>\n",
       "      <td>32</td>\n",
       "      <td>16</td>\n",
       "      <td>16</td>\n",
       "      <td>0.500</td>\n",
       "      <td>12-5</td>\n",
       "      <td>4-11</td>\n",
       "      <td>NaN</td>\n",
       "    </tr>\n",
       "    <tr>\n",
       "      <th>9</th>\n",
       "      <td>1610612750</td>\n",
       "      <td>0</td>\n",
       "      <td>22022</td>\n",
       "      <td>2022-12-22</td>\n",
       "      <td>West</td>\n",
       "      <td>Minnesota</td>\n",
       "      <td>32</td>\n",
       "      <td>16</td>\n",
       "      <td>16</td>\n",
       "      <td>0.500</td>\n",
       "      <td>9-8</td>\n",
       "      <td>7-8</td>\n",
       "      <td>NaN</td>\n",
       "    </tr>\n",
       "  </tbody>\n",
       "</table>\n",
       "</div>"
      ],
      "text/plain": [
       "      TEAM_ID  LEAGUE_ID SEASON_ID STANDINGSDATE CONFERENCE         TEAM   G  \\\n",
       "0  1610612743          0     22022    2022-12-22       West       Denver  30   \n",
       "1  1610612763          0     22022    2022-12-22       West      Memphis  30   \n",
       "2  1610612740          0     22022    2022-12-22       West  New Orleans  31   \n",
       "3  1610612756          0     22022    2022-12-22       West      Phoenix  32   \n",
       "4  1610612746          0     22022    2022-12-22       West  LA Clippers  33   \n",
       "5  1610612758          0     22022    2022-12-22       West   Sacramento  30   \n",
       "6  1610612762          0     22022    2022-12-22       West         Utah  35   \n",
       "7  1610612757          0     22022    2022-12-22       West     Portland  32   \n",
       "8  1610612742          0     22022    2022-12-22       West       Dallas  32   \n",
       "9  1610612750          0     22022    2022-12-22       West    Minnesota  32   \n",
       "\n",
       "    W   L  W_PCT HOME_RECORD ROAD_RECORD  RETURNTOPLAY  \n",
       "0  19  11  0.633        10-3         9-8           NaN  \n",
       "1  19  11  0.633        13-2         6-9           NaN  \n",
       "2  19  12  0.613        13-4         6-8           NaN  \n",
       "3  19  13  0.594        14-4         5-9           NaN  \n",
       "4  19  14  0.576        11-7         8-7           NaN  \n",
       "5  17  13  0.567         9-5         8-8           NaN  \n",
       "6  19  16  0.543        12-5        7-11           NaN  \n",
       "7  17  15  0.531         7-6        10-9           NaN  \n",
       "8  16  16  0.500        12-5        4-11           NaN  \n",
       "9  16  16  0.500         9-8         7-8           NaN  "
      ]
     },
     "execution_count": 8,
     "metadata": {},
     "output_type": "execute_result"
    }
   ],
   "source": [
    "ranking.head(10)"
   ]
  },
  {
   "cell_type": "markdown",
   "id": "236c8902",
   "metadata": {},
   "source": [
    "### 팀 아이디와 팀 비교"
   ]
  },
  {
   "cell_type": "code",
   "execution_count": 9,
   "id": "1a272bba",
   "metadata": {},
   "outputs": [
    {
     "data": {
      "application/vnd.microsoft.datawrangler.viewer.v0+json": {
       "columns": [
        {
         "name": "TEAM",
         "rawType": "object",
         "type": "string"
        },
        {
         "name": "count",
         "rawType": "int64",
         "type": "integer"
        }
       ],
       "ref": "d2ec7a41-e81e-4645-9b9c-b857ad49fa13",
       "rows": [
        [
         "Dallas",
         "7026"
        ],
        [
         "Memphis",
         "7025"
        ],
        [
         "Houston",
         "7025"
        ],
        [
         "Minnesota",
         "7025"
        ],
        [
         "Boston",
         "7025"
        ],
        [
         "Golden State",
         "7025"
        ],
        [
         "Washington",
         "7025"
        ],
        [
         "Milwaukee",
         "7025"
        ],
        [
         "New York",
         "7025"
        ],
        [
         "Denver",
         "7024"
        ],
        [
         "Miami",
         "7024"
        ],
        [
         "Chicago",
         "7024"
        ],
        [
         "Utah",
         "7023"
        ],
        [
         "Portland",
         "7023"
        ],
        [
         "L.A. Lakers",
         "7023"
        ],
        [
         "San Antonio",
         "7023"
        ],
        [
         "Phoenix",
         "7023"
        ],
        [
         "Sacramento",
         "7023"
        ],
        [
         "Detroit",
         "7023"
        ],
        [
         "Orlando",
         "7023"
        ],
        [
         "Toronto",
         "7023"
        ],
        [
         "Cleveland",
         "7023"
        ],
        [
         "Indiana",
         "7023"
        ],
        [
         "Atlanta",
         "7023"
        ],
        [
         "Philadelphia",
         "7023"
        ],
        [
         "Charlotte",
         "6649"
        ],
        [
         "New Orleans",
         "6345"
        ],
        [
         "Oklahoma City",
         "5196"
        ],
        [
         "L.A. Clippers",
         "4384"
        ],
        [
         "Brooklyn",
         "3731"
        ],
        [
         "New Jersey",
         "3292"
        ],
        [
         "LA Clippers",
         "2639"
        ],
        [
         "Seattle",
         "1831"
        ],
        [
         "New Orleans/Oklahoma City",
         "678"
        ]
       ],
       "shape": {
        "columns": 1,
        "rows": 34
       }
      },
      "text/plain": [
       "TEAM\n",
       "Dallas                       7026\n",
       "Memphis                      7025\n",
       "Houston                      7025\n",
       "Minnesota                    7025\n",
       "Boston                       7025\n",
       "Golden State                 7025\n",
       "Washington                   7025\n",
       "Milwaukee                    7025\n",
       "New York                     7025\n",
       "Denver                       7024\n",
       "Miami                        7024\n",
       "Chicago                      7024\n",
       "Utah                         7023\n",
       "Portland                     7023\n",
       "L.A. Lakers                  7023\n",
       "San Antonio                  7023\n",
       "Phoenix                      7023\n",
       "Sacramento                   7023\n",
       "Detroit                      7023\n",
       "Orlando                      7023\n",
       "Toronto                      7023\n",
       "Cleveland                    7023\n",
       "Indiana                      7023\n",
       "Atlanta                      7023\n",
       "Philadelphia                 7023\n",
       "Charlotte                    6649\n",
       "New Orleans                  6345\n",
       "Oklahoma City                5196\n",
       "L.A. Clippers                4384\n",
       "Brooklyn                     3731\n",
       "New Jersey                   3292\n",
       "LA Clippers                  2639\n",
       "Seattle                      1831\n",
       "New Orleans/Oklahoma City     678\n",
       "Name: count, dtype: int64"
      ]
     },
     "execution_count": 9,
     "metadata": {},
     "output_type": "execute_result"
    }
   ],
   "source": [
    "ranking['TEAM'].value_counts()"
   ]
  },
  {
   "cell_type": "code",
   "execution_count": 13,
   "id": "fec70697",
   "metadata": {},
   "outputs": [
    {
     "data": {
      "application/vnd.microsoft.datawrangler.viewer.v0+json": {
       "columns": [
        {
         "name": "TEAM_ID",
         "rawType": "int64",
         "type": "integer"
        },
        {
         "name": "DISTINCT_TEAM",
         "rawType": "int64",
         "type": "integer"
        }
       ],
       "ref": "b842ff3e-f835-4ab8-b367-848daf234409",
       "rows": [
        [
         "1610612737",
         "1"
        ],
        [
         "1610612738",
         "1"
        ],
        [
         "1610612739",
         "1"
        ],
        [
         "1610612740",
         "2"
        ],
        [
         "1610612741",
         "1"
        ],
        [
         "1610612742",
         "1"
        ],
        [
         "1610612743",
         "1"
        ],
        [
         "1610612744",
         "1"
        ],
        [
         "1610612745",
         "1"
        ],
        [
         "1610612746",
         "2"
        ],
        [
         "1610612747",
         "1"
        ],
        [
         "1610612748",
         "1"
        ],
        [
         "1610612749",
         "1"
        ],
        [
         "1610612750",
         "1"
        ],
        [
         "1610612751",
         "2"
        ],
        [
         "1610612752",
         "1"
        ],
        [
         "1610612753",
         "1"
        ],
        [
         "1610612754",
         "1"
        ],
        [
         "1610612755",
         "1"
        ],
        [
         "1610612756",
         "1"
        ],
        [
         "1610612757",
         "1"
        ],
        [
         "1610612758",
         "1"
        ],
        [
         "1610612759",
         "1"
        ],
        [
         "1610612760",
         "2"
        ],
        [
         "1610612761",
         "1"
        ],
        [
         "1610612762",
         "1"
        ],
        [
         "1610612763",
         "1"
        ],
        [
         "1610612764",
         "1"
        ],
        [
         "1610612765",
         "1"
        ],
        [
         "1610612766",
         "1"
        ]
       ],
       "shape": {
        "columns": 1,
        "rows": 30
       }
      },
      "text/html": [
       "<div>\n",
       "<style scoped>\n",
       "    .dataframe tbody tr th:only-of-type {\n",
       "        vertical-align: middle;\n",
       "    }\n",
       "\n",
       "    .dataframe tbody tr th {\n",
       "        vertical-align: top;\n",
       "    }\n",
       "\n",
       "    .dataframe thead th {\n",
       "        text-align: right;\n",
       "    }\n",
       "</style>\n",
       "<table border=\"1\" class=\"dataframe\">\n",
       "  <thead>\n",
       "    <tr style=\"text-align: right;\">\n",
       "      <th></th>\n",
       "      <th>DISTINCT_TEAM</th>\n",
       "    </tr>\n",
       "    <tr>\n",
       "      <th>TEAM_ID</th>\n",
       "      <th></th>\n",
       "    </tr>\n",
       "  </thead>\n",
       "  <tbody>\n",
       "    <tr>\n",
       "      <th>1610612737</th>\n",
       "      <td>1</td>\n",
       "    </tr>\n",
       "    <tr>\n",
       "      <th>1610612738</th>\n",
       "      <td>1</td>\n",
       "    </tr>\n",
       "    <tr>\n",
       "      <th>1610612739</th>\n",
       "      <td>1</td>\n",
       "    </tr>\n",
       "    <tr>\n",
       "      <th>1610612740</th>\n",
       "      <td>2</td>\n",
       "    </tr>\n",
       "    <tr>\n",
       "      <th>1610612741</th>\n",
       "      <td>1</td>\n",
       "    </tr>\n",
       "    <tr>\n",
       "      <th>1610612742</th>\n",
       "      <td>1</td>\n",
       "    </tr>\n",
       "    <tr>\n",
       "      <th>1610612743</th>\n",
       "      <td>1</td>\n",
       "    </tr>\n",
       "    <tr>\n",
       "      <th>1610612744</th>\n",
       "      <td>1</td>\n",
       "    </tr>\n",
       "    <tr>\n",
       "      <th>1610612745</th>\n",
       "      <td>1</td>\n",
       "    </tr>\n",
       "    <tr>\n",
       "      <th>1610612746</th>\n",
       "      <td>2</td>\n",
       "    </tr>\n",
       "    <tr>\n",
       "      <th>1610612747</th>\n",
       "      <td>1</td>\n",
       "    </tr>\n",
       "    <tr>\n",
       "      <th>1610612748</th>\n",
       "      <td>1</td>\n",
       "    </tr>\n",
       "    <tr>\n",
       "      <th>1610612749</th>\n",
       "      <td>1</td>\n",
       "    </tr>\n",
       "    <tr>\n",
       "      <th>1610612750</th>\n",
       "      <td>1</td>\n",
       "    </tr>\n",
       "    <tr>\n",
       "      <th>1610612751</th>\n",
       "      <td>2</td>\n",
       "    </tr>\n",
       "    <tr>\n",
       "      <th>1610612752</th>\n",
       "      <td>1</td>\n",
       "    </tr>\n",
       "    <tr>\n",
       "      <th>1610612753</th>\n",
       "      <td>1</td>\n",
       "    </tr>\n",
       "    <tr>\n",
       "      <th>1610612754</th>\n",
       "      <td>1</td>\n",
       "    </tr>\n",
       "    <tr>\n",
       "      <th>1610612755</th>\n",
       "      <td>1</td>\n",
       "    </tr>\n",
       "    <tr>\n",
       "      <th>1610612756</th>\n",
       "      <td>1</td>\n",
       "    </tr>\n",
       "    <tr>\n",
       "      <th>1610612757</th>\n",
       "      <td>1</td>\n",
       "    </tr>\n",
       "    <tr>\n",
       "      <th>1610612758</th>\n",
       "      <td>1</td>\n",
       "    </tr>\n",
       "    <tr>\n",
       "      <th>1610612759</th>\n",
       "      <td>1</td>\n",
       "    </tr>\n",
       "    <tr>\n",
       "      <th>1610612760</th>\n",
       "      <td>2</td>\n",
       "    </tr>\n",
       "    <tr>\n",
       "      <th>1610612761</th>\n",
       "      <td>1</td>\n",
       "    </tr>\n",
       "    <tr>\n",
       "      <th>1610612762</th>\n",
       "      <td>1</td>\n",
       "    </tr>\n",
       "    <tr>\n",
       "      <th>1610612763</th>\n",
       "      <td>1</td>\n",
       "    </tr>\n",
       "    <tr>\n",
       "      <th>1610612764</th>\n",
       "      <td>1</td>\n",
       "    </tr>\n",
       "    <tr>\n",
       "      <th>1610612765</th>\n",
       "      <td>1</td>\n",
       "    </tr>\n",
       "    <tr>\n",
       "      <th>1610612766</th>\n",
       "      <td>1</td>\n",
       "    </tr>\n",
       "  </tbody>\n",
       "</table>\n",
       "</div>"
      ],
      "text/plain": [
       "            DISTINCT_TEAM\n",
       "TEAM_ID                  \n",
       "1610612737              1\n",
       "1610612738              1\n",
       "1610612739              1\n",
       "1610612740              2\n",
       "1610612741              1\n",
       "1610612742              1\n",
       "1610612743              1\n",
       "1610612744              1\n",
       "1610612745              1\n",
       "1610612746              2\n",
       "1610612747              1\n",
       "1610612748              1\n",
       "1610612749              1\n",
       "1610612750              1\n",
       "1610612751              2\n",
       "1610612752              1\n",
       "1610612753              1\n",
       "1610612754              1\n",
       "1610612755              1\n",
       "1610612756              1\n",
       "1610612757              1\n",
       "1610612758              1\n",
       "1610612759              1\n",
       "1610612760              2\n",
       "1610612761              1\n",
       "1610612762              1\n",
       "1610612763              1\n",
       "1610612764              1\n",
       "1610612765              1\n",
       "1610612766              1"
      ]
     },
     "execution_count": 13,
     "metadata": {},
     "output_type": "execute_result"
    }
   ],
   "source": [
    "grouped = ranking.groupby(['TEAM_ID']).agg(DISTINCT_TEAM=('TEAM', 'nunique'))\n",
    "grouped"
   ]
  },
  {
   "cell_type": "code",
   "execution_count": 14,
   "id": "ae58ffb6",
   "metadata": {},
   "outputs": [
    {
     "data": {
      "application/vnd.microsoft.datawrangler.viewer.v0+json": {
       "columns": [
        {
         "name": "index",
         "rawType": "int64",
         "type": "integer"
        },
        {
         "name": "TEAM_ID",
         "rawType": "int64",
         "type": "integer"
        },
        {
         "name": "LEAGUE_ID",
         "rawType": "int64",
         "type": "integer"
        },
        {
         "name": "SEASON_ID",
         "rawType": "object",
         "type": "string"
        },
        {
         "name": "STANDINGSDATE",
         "rawType": "datetime64[ns]",
         "type": "datetime"
        },
        {
         "name": "CONFERENCE",
         "rawType": "object",
         "type": "string"
        },
        {
         "name": "TEAM",
         "rawType": "object",
         "type": "string"
        },
        {
         "name": "G",
         "rawType": "int64",
         "type": "integer"
        },
        {
         "name": "W",
         "rawType": "int64",
         "type": "integer"
        },
        {
         "name": "L",
         "rawType": "int64",
         "type": "integer"
        },
        {
         "name": "W_PCT",
         "rawType": "float64",
         "type": "float"
        },
        {
         "name": "HOME_RECORD",
         "rawType": "object",
         "type": "string"
        },
        {
         "name": "ROAD_RECORD",
         "rawType": "object",
         "type": "string"
        },
        {
         "name": "RETURNTOPLAY",
         "rawType": "float64",
         "type": "float"
        }
       ],
       "ref": "9b5e285d-1583-47ab-8460-a40405880612",
       "rows": [
        [
         "92950",
         "1610612746",
         "0",
         "22002",
         "2003-10-01 00:00:00",
         "West",
         "L.A. Clippers",
         "82",
         "27",
         "55",
         "0.3289999999999999",
         "16-25",
         "11-30",
         null
        ],
        [
         "181543",
         "1610612751",
         "0",
         "22002",
         "2003-10-01 00:00:00",
         "East",
         "New Jersey",
         "82",
         "49",
         "33",
         "0.598",
         "33-8",
         "16-25",
         null
        ],
        [
         "92947",
         "1610612760",
         "0",
         "22002",
         "2003-10-01 00:00:00",
         "West",
         "Seattle",
         "82",
         "40",
         "42",
         "0.488",
         "25-16",
         "15-26",
         null
        ],
        [
         "181546",
         "1610612740",
         "0",
         "22002",
         "2003-10-01 00:00:00",
         "East",
         "New Orleans",
         "82",
         "47",
         "35",
         "0.573",
         "29-12",
         "18-23",
         null
        ],
        [
         "181531",
         "1610612740",
         "0",
         "22002",
         "2003-10-02 00:00:00",
         "East",
         "New Orleans",
         "82",
         "47",
         "35",
         "0.573",
         "29-12",
         "18-23",
         null
        ],
        [
         "92933",
         "1610612760",
         "0",
         "22002",
         "2003-10-02 00:00:00",
         "West",
         "Seattle",
         "82",
         "40",
         "42",
         "0.488",
         "25-16",
         "15-26",
         null
        ],
        [
         "92936",
         "1610612746",
         "0",
         "22002",
         "2003-10-02 00:00:00",
         "West",
         "L.A. Clippers",
         "82",
         "27",
         "55",
         "0.3289999999999999",
         "16-25",
         "11-30",
         null
        ],
        [
         "181528",
         "1610612751",
         "0",
         "22002",
         "2003-10-02 00:00:00",
         "East",
         "New Jersey",
         "82",
         "49",
         "33",
         "0.598",
         "33-8",
         "16-25",
         null
        ],
        [
         "92922",
         "1610612746",
         "0",
         "22002",
         "2003-10-03 00:00:00",
         "West",
         "L.A. Clippers",
         "82",
         "27",
         "55",
         "0.3289999999999999",
         "16-25",
         "11-30",
         null
        ],
        [
         "92919",
         "1610612760",
         "0",
         "22002",
         "2003-10-03 00:00:00",
         "West",
         "Seattle",
         "82",
         "40",
         "42",
         "0.488",
         "25-16",
         "15-26",
         null
        ],
        [
         "181513",
         "1610612751",
         "0",
         "22002",
         "2003-10-03 00:00:00",
         "East",
         "New Jersey",
         "82",
         "49",
         "33",
         "0.598",
         "33-8",
         "16-25",
         null
        ],
        [
         "181516",
         "1610612740",
         "0",
         "22002",
         "2003-10-03 00:00:00",
         "East",
         "New Orleans",
         "82",
         "47",
         "35",
         "0.573",
         "29-12",
         "18-23",
         null
        ],
        [
         "92905",
         "1610612760",
         "0",
         "22002",
         "2003-10-04 00:00:00",
         "West",
         "Seattle",
         "82",
         "40",
         "42",
         "0.488",
         "25-16",
         "15-26",
         null
        ],
        [
         "92908",
         "1610612746",
         "0",
         "22002",
         "2003-10-04 00:00:00",
         "West",
         "L.A. Clippers",
         "82",
         "27",
         "55",
         "0.3289999999999999",
         "16-25",
         "11-30",
         null
        ],
        [
         "181501",
         "1610612740",
         "0",
         "22002",
         "2003-10-04 00:00:00",
         "East",
         "New Orleans",
         "82",
         "47",
         "35",
         "0.573",
         "29-12",
         "18-23",
         null
        ],
        [
         "181498",
         "1610612751",
         "0",
         "22002",
         "2003-10-04 00:00:00",
         "East",
         "New Jersey",
         "82",
         "49",
         "33",
         "0.598",
         "33-8",
         "16-25",
         null
        ],
        [
         "92894",
         "1610612760",
         "0",
         "12003",
         "2003-10-05 00:00:00",
         "West",
         "Seattle",
         "0",
         "0",
         "0",
         "0.0",
         "0-0",
         "0-0",
         null
        ],
        [
         "92886",
         "1610612746",
         "0",
         "12003",
         "2003-10-05 00:00:00",
         "West",
         "L.A. Clippers",
         "0",
         "0",
         "0",
         "0.0",
         "0-0",
         "0-0",
         null
        ],
        [
         "181491",
         "1610612740",
         "0",
         "12003",
         "2003-10-05 00:00:00",
         "East",
         "New Orleans",
         "0",
         "0",
         "0",
         "0.0",
         "0-0",
         "0-0",
         null
        ],
        [
         "181490",
         "1610612751",
         "0",
         "12003",
         "2003-10-05 00:00:00",
         "East",
         "New Jersey",
         "0",
         "0",
         "0",
         "0.0",
         "0-0",
         "0-0",
         null
        ],
        [
         "92872",
         "1610612746",
         "0",
         "12003",
         "2003-10-06 00:00:00",
         "West",
         "L.A. Clippers",
         "0",
         "0",
         "0",
         "0.0",
         "0-0",
         "0-0",
         null
        ],
        [
         "92880",
         "1610612760",
         "0",
         "12003",
         "2003-10-06 00:00:00",
         "West",
         "Seattle",
         "0",
         "0",
         "0",
         "0.0",
         "0-0",
         "0-0",
         null
        ],
        [
         "181476",
         "1610612740",
         "0",
         "12003",
         "2003-10-06 00:00:00",
         "East",
         "New Orleans",
         "0",
         "0",
         "0",
         "0.0",
         "0-0",
         "0-0",
         null
        ],
        [
         "181475",
         "1610612751",
         "0",
         "12003",
         "2003-10-06 00:00:00",
         "East",
         "New Jersey",
         "0",
         "0",
         "0",
         "0.0",
         "0-0",
         "0-0",
         null
        ],
        [
         "92858",
         "1610612746",
         "0",
         "12003",
         "2003-10-07 00:00:00",
         "West",
         "L.A. Clippers",
         "0",
         "0",
         "0",
         "0.0",
         "0-0",
         "0-0",
         null
        ],
        [
         "92866",
         "1610612760",
         "0",
         "12003",
         "2003-10-07 00:00:00",
         "West",
         "Seattle",
         "0",
         "0",
         "0",
         "0.0",
         "0-0",
         "0-0",
         null
        ],
        [
         "181460",
         "1610612751",
         "0",
         "12003",
         "2003-10-07 00:00:00",
         "East",
         "New Jersey",
         "0",
         "0",
         "0",
         "0.0",
         "0-0",
         "0-0",
         null
        ],
        [
         "181461",
         "1610612740",
         "0",
         "12003",
         "2003-10-07 00:00:00",
         "East",
         "New Orleans",
         "0",
         "0",
         "0",
         "0.0",
         "0-0",
         "0-0",
         null
        ],
        [
         "92844",
         "1610612746",
         "0",
         "12003",
         "2003-10-08 00:00:00",
         "West",
         "L.A. Clippers",
         "0",
         "0",
         "0",
         "0.0",
         "0-0",
         "0-0",
         null
        ],
        [
         "92852",
         "1610612760",
         "0",
         "12003",
         "2003-10-08 00:00:00",
         "West",
         "Seattle",
         "0",
         "0",
         "0",
         "0.0",
         "0-0",
         "0-0",
         null
        ],
        [
         "181446",
         "1610612740",
         "0",
         "12003",
         "2003-10-08 00:00:00",
         "East",
         "New Orleans",
         "0",
         "0",
         "0",
         "0.0",
         "0-0",
         "0-0",
         null
        ],
        [
         "181445",
         "1610612751",
         "0",
         "12003",
         "2003-10-08 00:00:00",
         "East",
         "New Jersey",
         "0",
         "0",
         "0",
         "0.0",
         "0-0",
         "0-0",
         null
        ],
        [
         "92838",
         "1610612760",
         "0",
         "12003",
         "2003-10-09 00:00:00",
         "West",
         "Seattle",
         "0",
         "0",
         "0",
         "0.0",
         "0-0",
         "0-0",
         null
        ],
        [
         "181430",
         "1610612751",
         "0",
         "12003",
         "2003-10-09 00:00:00",
         "East",
         "New Jersey",
         "0",
         "0",
         "0",
         "0.0",
         "0-0",
         "0-0",
         null
        ],
        [
         "181431",
         "1610612740",
         "0",
         "12003",
         "2003-10-09 00:00:00",
         "East",
         "New Orleans",
         "0",
         "0",
         "0",
         "0.0",
         "0-0",
         "0-0",
         null
        ],
        [
         "92830",
         "1610612746",
         "0",
         "12003",
         "2003-10-09 00:00:00",
         "West",
         "L.A. Clippers",
         "0",
         "0",
         "0",
         "0.0",
         "0-0",
         "0-0",
         null
        ],
        [
         "92824",
         "1610612760",
         "0",
         "12003",
         "2003-10-10 00:00:00",
         "West",
         "Seattle",
         "0",
         "0",
         "0",
         "0.0",
         "0-0",
         "0-0",
         null
        ],
        [
         "181415",
         "1610612751",
         "0",
         "12003",
         "2003-10-10 00:00:00",
         "East",
         "New Jersey",
         "0",
         "0",
         "0",
         "0.0",
         "0-0",
         "0-0",
         null
        ],
        [
         "181416",
         "1610612740",
         "0",
         "12003",
         "2003-10-10 00:00:00",
         "East",
         "New Orleans",
         "0",
         "0",
         "0",
         "0.0",
         "0-0",
         "0-0",
         null
        ],
        [
         "92816",
         "1610612746",
         "0",
         "12003",
         "2003-10-10 00:00:00",
         "West",
         "L.A. Clippers",
         "0",
         "0",
         "0",
         "0.0",
         "0-0",
         "0-0",
         null
        ],
        [
         "181401",
         "1610612740",
         "0",
         "12003",
         "2003-10-11 00:00:00",
         "East",
         "New Orleans",
         "0",
         "0",
         "0",
         "0.0",
         "0-0",
         "0-0",
         null
        ],
        [
         "181400",
         "1610612751",
         "0",
         "12003",
         "2003-10-11 00:00:00",
         "East",
         "New Jersey",
         "0",
         "0",
         "0",
         "0.0",
         "0-0",
         "0-0",
         null
        ],
        [
         "92802",
         "1610612746",
         "0",
         "12003",
         "2003-10-11 00:00:00",
         "West",
         "L.A. Clippers",
         "0",
         "0",
         "0",
         "0.0",
         "0-0",
         "0-0",
         null
        ],
        [
         "92810",
         "1610612760",
         "0",
         "12003",
         "2003-10-11 00:00:00",
         "West",
         "Seattle",
         "0",
         "0",
         "0",
         "0.0",
         "0-0",
         "0-0",
         null
        ],
        [
         "181385",
         "1610612751",
         "0",
         "12003",
         "2003-10-12 00:00:00",
         "East",
         "New Jersey",
         "0",
         "0",
         "0",
         "0.0",
         "0-0",
         "0-0",
         null
        ],
        [
         "181386",
         "1610612740",
         "0",
         "12003",
         "2003-10-12 00:00:00",
         "East",
         "New Orleans",
         "0",
         "0",
         "0",
         "0.0",
         "0-0",
         "0-0",
         null
        ],
        [
         "92788",
         "1610612746",
         "0",
         "12003",
         "2003-10-12 00:00:00",
         "West",
         "L.A. Clippers",
         "0",
         "0",
         "0",
         "0.0",
         "0-0",
         "0-0",
         null
        ],
        [
         "92796",
         "1610612760",
         "0",
         "12003",
         "2003-10-12 00:00:00",
         "West",
         "Seattle",
         "0",
         "0",
         "0",
         "0.0",
         "0-0",
         "0-0",
         null
        ],
        [
         "181370",
         "1610612751",
         "0",
         "12003",
         "2003-10-13 00:00:00",
         "East",
         "New Jersey",
         "0",
         "0",
         "0",
         "0.0",
         "0-0",
         "0-0",
         null
        ],
        [
         "181371",
         "1610612740",
         "0",
         "12003",
         "2003-10-13 00:00:00",
         "East",
         "New Orleans",
         "0",
         "0",
         "0",
         "0.0",
         "0-0",
         "0-0",
         null
        ]
       ],
       "shape": {
        "columns": 13,
        "rows": 28096
       }
      },
      "text/html": [
       "<div>\n",
       "<style scoped>\n",
       "    .dataframe tbody tr th:only-of-type {\n",
       "        vertical-align: middle;\n",
       "    }\n",
       "\n",
       "    .dataframe tbody tr th {\n",
       "        vertical-align: top;\n",
       "    }\n",
       "\n",
       "    .dataframe thead th {\n",
       "        text-align: right;\n",
       "    }\n",
       "</style>\n",
       "<table border=\"1\" class=\"dataframe\">\n",
       "  <thead>\n",
       "    <tr style=\"text-align: right;\">\n",
       "      <th></th>\n",
       "      <th>TEAM_ID</th>\n",
       "      <th>LEAGUE_ID</th>\n",
       "      <th>SEASON_ID</th>\n",
       "      <th>STANDINGSDATE</th>\n",
       "      <th>CONFERENCE</th>\n",
       "      <th>TEAM</th>\n",
       "      <th>G</th>\n",
       "      <th>W</th>\n",
       "      <th>L</th>\n",
       "      <th>W_PCT</th>\n",
       "      <th>HOME_RECORD</th>\n",
       "      <th>ROAD_RECORD</th>\n",
       "      <th>RETURNTOPLAY</th>\n",
       "    </tr>\n",
       "  </thead>\n",
       "  <tbody>\n",
       "    <tr>\n",
       "      <th>92950</th>\n",
       "      <td>1610612746</td>\n",
       "      <td>0</td>\n",
       "      <td>22002</td>\n",
       "      <td>2003-10-01</td>\n",
       "      <td>West</td>\n",
       "      <td>L.A. Clippers</td>\n",
       "      <td>82</td>\n",
       "      <td>27</td>\n",
       "      <td>55</td>\n",
       "      <td>0.329</td>\n",
       "      <td>16-25</td>\n",
       "      <td>11-30</td>\n",
       "      <td>NaN</td>\n",
       "    </tr>\n",
       "    <tr>\n",
       "      <th>181543</th>\n",
       "      <td>1610612751</td>\n",
       "      <td>0</td>\n",
       "      <td>22002</td>\n",
       "      <td>2003-10-01</td>\n",
       "      <td>East</td>\n",
       "      <td>New Jersey</td>\n",
       "      <td>82</td>\n",
       "      <td>49</td>\n",
       "      <td>33</td>\n",
       "      <td>0.598</td>\n",
       "      <td>33-8</td>\n",
       "      <td>16-25</td>\n",
       "      <td>NaN</td>\n",
       "    </tr>\n",
       "    <tr>\n",
       "      <th>92947</th>\n",
       "      <td>1610612760</td>\n",
       "      <td>0</td>\n",
       "      <td>22002</td>\n",
       "      <td>2003-10-01</td>\n",
       "      <td>West</td>\n",
       "      <td>Seattle</td>\n",
       "      <td>82</td>\n",
       "      <td>40</td>\n",
       "      <td>42</td>\n",
       "      <td>0.488</td>\n",
       "      <td>25-16</td>\n",
       "      <td>15-26</td>\n",
       "      <td>NaN</td>\n",
       "    </tr>\n",
       "    <tr>\n",
       "      <th>181546</th>\n",
       "      <td>1610612740</td>\n",
       "      <td>0</td>\n",
       "      <td>22002</td>\n",
       "      <td>2003-10-01</td>\n",
       "      <td>East</td>\n",
       "      <td>New Orleans</td>\n",
       "      <td>82</td>\n",
       "      <td>47</td>\n",
       "      <td>35</td>\n",
       "      <td>0.573</td>\n",
       "      <td>29-12</td>\n",
       "      <td>18-23</td>\n",
       "      <td>NaN</td>\n",
       "    </tr>\n",
       "    <tr>\n",
       "      <th>181531</th>\n",
       "      <td>1610612740</td>\n",
       "      <td>0</td>\n",
       "      <td>22002</td>\n",
       "      <td>2003-10-02</td>\n",
       "      <td>East</td>\n",
       "      <td>New Orleans</td>\n",
       "      <td>82</td>\n",
       "      <td>47</td>\n",
       "      <td>35</td>\n",
       "      <td>0.573</td>\n",
       "      <td>29-12</td>\n",
       "      <td>18-23</td>\n",
       "      <td>NaN</td>\n",
       "    </tr>\n",
       "    <tr>\n",
       "      <th>...</th>\n",
       "      <td>...</td>\n",
       "      <td>...</td>\n",
       "      <td>...</td>\n",
       "      <td>...</td>\n",
       "      <td>...</td>\n",
       "      <td>...</td>\n",
       "      <td>...</td>\n",
       "      <td>...</td>\n",
       "      <td>...</td>\n",
       "      <td>...</td>\n",
       "      <td>...</td>\n",
       "      <td>...</td>\n",
       "      <td>...</td>\n",
       "    </tr>\n",
       "    <tr>\n",
       "      <th>17</th>\n",
       "      <td>1610612740</td>\n",
       "      <td>0</td>\n",
       "      <td>22022</td>\n",
       "      <td>2022-12-21</td>\n",
       "      <td>West</td>\n",
       "      <td>New Orleans</td>\n",
       "      <td>30</td>\n",
       "      <td>18</td>\n",
       "      <td>12</td>\n",
       "      <td>0.600</td>\n",
       "      <td>12-4</td>\n",
       "      <td>6-8</td>\n",
       "      <td>NaN</td>\n",
       "    </tr>\n",
       "    <tr>\n",
       "      <th>11</th>\n",
       "      <td>1610612760</td>\n",
       "      <td>0</td>\n",
       "      <td>22022</td>\n",
       "      <td>2022-12-22</td>\n",
       "      <td>West</td>\n",
       "      <td>Oklahoma City</td>\n",
       "      <td>32</td>\n",
       "      <td>14</td>\n",
       "      <td>18</td>\n",
       "      <td>0.438</td>\n",
       "      <td>9-7</td>\n",
       "      <td>5-11</td>\n",
       "      <td>NaN</td>\n",
       "    </tr>\n",
       "    <tr>\n",
       "      <th>4</th>\n",
       "      <td>1610612746</td>\n",
       "      <td>0</td>\n",
       "      <td>22022</td>\n",
       "      <td>2022-12-22</td>\n",
       "      <td>West</td>\n",
       "      <td>LA Clippers</td>\n",
       "      <td>33</td>\n",
       "      <td>19</td>\n",
       "      <td>14</td>\n",
       "      <td>0.576</td>\n",
       "      <td>11-7</td>\n",
       "      <td>8-7</td>\n",
       "      <td>NaN</td>\n",
       "    </tr>\n",
       "    <tr>\n",
       "      <th>4278</th>\n",
       "      <td>1610612751</td>\n",
       "      <td>0</td>\n",
       "      <td>22022</td>\n",
       "      <td>2022-12-22</td>\n",
       "      <td>East</td>\n",
       "      <td>Brooklyn</td>\n",
       "      <td>32</td>\n",
       "      <td>20</td>\n",
       "      <td>12</td>\n",
       "      <td>0.625</td>\n",
       "      <td>11-5</td>\n",
       "      <td>9-7</td>\n",
       "      <td>NaN</td>\n",
       "    </tr>\n",
       "    <tr>\n",
       "      <th>2</th>\n",
       "      <td>1610612740</td>\n",
       "      <td>0</td>\n",
       "      <td>22022</td>\n",
       "      <td>2022-12-22</td>\n",
       "      <td>West</td>\n",
       "      <td>New Orleans</td>\n",
       "      <td>31</td>\n",
       "      <td>19</td>\n",
       "      <td>12</td>\n",
       "      <td>0.613</td>\n",
       "      <td>13-4</td>\n",
       "      <td>6-8</td>\n",
       "      <td>NaN</td>\n",
       "    </tr>\n",
       "  </tbody>\n",
       "</table>\n",
       "<p>28096 rows × 13 columns</p>\n",
       "</div>"
      ],
      "text/plain": [
       "           TEAM_ID  LEAGUE_ID SEASON_ID STANDINGSDATE CONFERENCE  \\\n",
       "92950   1610612746          0     22002    2003-10-01       West   \n",
       "181543  1610612751          0     22002    2003-10-01       East   \n",
       "92947   1610612760          0     22002    2003-10-01       West   \n",
       "181546  1610612740          0     22002    2003-10-01       East   \n",
       "181531  1610612740          0     22002    2003-10-02       East   \n",
       "...            ...        ...       ...           ...        ...   \n",
       "17      1610612740          0     22022    2022-12-21       West   \n",
       "11      1610612760          0     22022    2022-12-22       West   \n",
       "4       1610612746          0     22022    2022-12-22       West   \n",
       "4278    1610612751          0     22022    2022-12-22       East   \n",
       "2       1610612740          0     22022    2022-12-22       West   \n",
       "\n",
       "                 TEAM   G   W   L  W_PCT HOME_RECORD ROAD_RECORD  RETURNTOPLAY  \n",
       "92950   L.A. Clippers  82  27  55  0.329       16-25       11-30           NaN  \n",
       "181543     New Jersey  82  49  33  0.598        33-8       16-25           NaN  \n",
       "92947         Seattle  82  40  42  0.488       25-16       15-26           NaN  \n",
       "181546    New Orleans  82  47  35  0.573       29-12       18-23           NaN  \n",
       "181531    New Orleans  82  47  35  0.573       29-12       18-23           NaN  \n",
       "...               ...  ..  ..  ..    ...         ...         ...           ...  \n",
       "17        New Orleans  30  18  12  0.600        12-4         6-8           NaN  \n",
       "11      Oklahoma City  32  14  18  0.438         9-7        5-11           NaN  \n",
       "4         LA Clippers  33  19  14  0.576        11-7         8-7           NaN  \n",
       "4278         Brooklyn  32  20  12  0.625        11-5         9-7           NaN  \n",
       "2         New Orleans  31  19  12  0.613        13-4         6-8           NaN  \n",
       "\n",
       "[28096 rows x 13 columns]"
      ]
     },
     "execution_count": 14,
     "metadata": {},
     "output_type": "execute_result"
    }
   ],
   "source": [
    "team_cond = (grouped[grouped['DISTINCT_TEAM'] > 1].index)\n",
    "filtered = ranking[ranking['TEAM_ID'].isin(team_cond)].sort_values('STANDINGSDATE')\n",
    "filtered"
   ]
  },
  {
   "cell_type": "code",
   "execution_count": 15,
   "id": "9b967255",
   "metadata": {},
   "outputs": [
    {
     "name": "stdout",
     "output_type": "stream",
     "text": [
      "                                       DISTINCT_TEAM\n",
      "TEAM_ID                                             \n",
      "1610612740  [New Orleans, New Orleans/Oklahoma City]\n",
      "1610612746              [L.A. Clippers, LA Clippers]\n",
      "1610612751                    [New Jersey, Brooklyn]\n",
      "1610612760                  [Seattle, Oklahoma City]\n"
     ]
    }
   ],
   "source": [
    "print(filtered.groupby(['TEAM_ID']).agg(DISTINCT_TEAM=('TEAM', 'unique')))"
   ]
  },
  {
   "cell_type": "code",
   "execution_count": 16,
   "id": "bfbce10b",
   "metadata": {},
   "outputs": [],
   "source": [
    "team_dates = filtered.groupby('TEAM').agg(Start=('STANDINGSDATE', 'min'), End=('STANDINGSDATE', 'max')).reset_index()"
   ]
  },
  {
   "cell_type": "code",
   "execution_count": 17,
   "id": "7bed699d",
   "metadata": {},
   "outputs": [
    {
     "data": {
      "application/vnd.plotly.v1+json": {
       "config": {
        "plotlyServerURL": "https://plot.ly"
       },
       "data": [
        {
         "base": [
          "2012-10-05T00:00:00.000000000"
         ],
         "hovertemplate": "TEAM=%{y}<br>Start=%{base}<br>End=%{x}<extra></extra>",
         "legendgroup": "Brooklyn",
         "marker": {
          "color": "#636efa",
          "pattern": {
           "shape": ""
          }
         },
         "name": "Brooklyn",
         "orientation": "h",
         "showlegend": true,
         "textposition": "auto",
         "type": "bar",
         "x": [
          322272000000
         ],
         "xaxis": "x",
         "y": [
          "Brooklyn"
         ],
         "yaxis": "y"
        },
        {
         "base": [
          "2003-10-01T00:00:00.000000000"
         ],
         "hovertemplate": "TEAM=%{y}<br>Start=%{base}<br>End=%{x}<extra></extra>",
         "legendgroup": "L.A. Clippers",
         "marker": {
          "color": "#EF553B",
          "pattern": {
           "shape": ""
          }
         },
         "name": "L.A. Clippers",
         "orientation": "h",
         "showlegend": true,
         "textposition": "auto",
         "type": "bar",
         "x": [
          378691200000
         ],
         "xaxis": "x",
         "y": [
          "L.A. Clippers"
         ],
         "yaxis": "y"
        },
        {
         "base": [
          "2015-10-02T00:00:00.000000000"
         ],
         "hovertemplate": "TEAM=%{y}<br>Start=%{base}<br>End=%{x}<extra></extra>",
         "legendgroup": "LA Clippers",
         "marker": {
          "color": "#00cc96",
          "pattern": {
           "shape": ""
          }
         },
         "name": "LA Clippers",
         "orientation": "h",
         "showlegend": true,
         "textposition": "auto",
         "type": "bar",
         "x": [
          227923200000
         ],
         "xaxis": "x",
         "y": [
          "LA Clippers"
         ],
         "yaxis": "y"
        },
        {
         "base": [
          "2003-10-01T00:00:00.000000000"
         ],
         "hovertemplate": "TEAM=%{y}<br>Start=%{base}<br>End=%{x}<extra></extra>",
         "legendgroup": "New Jersey",
         "marker": {
          "color": "#ab63fa",
          "pattern": {
           "shape": ""
          }
         },
         "name": "New Jersey",
         "orientation": "h",
         "showlegend": true,
         "textposition": "auto",
         "type": "bar",
         "x": [
          284342400000
         ],
         "xaxis": "x",
         "y": [
          "New Jersey"
         ],
         "yaxis": "y"
        },
        {
         "base": [
          "2003-10-01T00:00:00.000000000"
         ],
         "hovertemplate": "TEAM=%{y}<br>Start=%{base}<br>End=%{x}<extra></extra>",
         "legendgroup": "New Orleans",
         "marker": {
          "color": "#FFA15A",
          "pattern": {
           "shape": ""
          }
         },
         "name": "New Orleans",
         "orientation": "h",
         "showlegend": true,
         "textposition": "auto",
         "type": "bar",
         "x": [
          606700800000
         ],
         "xaxis": "x",
         "y": [
          "New Orleans"
         ],
         "yaxis": "y"
        },
        {
         "base": [
          "2005-11-01T00:00:00.000000000"
         ],
         "hovertemplate": "TEAM=%{y}<br>Start=%{base}<br>End=%{x}<extra></extra>",
         "legendgroup": "New Orleans/Oklahoma City",
         "marker": {
          "color": "#19d3f3",
          "pattern": {
           "shape": ""
          }
         },
         "name": "New Orleans/Oklahoma City",
         "orientation": "h",
         "showlegend": true,
         "textposition": "auto",
         "type": "bar",
         "x": [
          60739200000
         ],
         "xaxis": "x",
         "y": [
          "New Orleans/Oklahoma City"
         ],
         "yaxis": "y"
        },
        {
         "base": [
          "2008-10-05T00:00:00.000000000"
         ],
         "hovertemplate": "TEAM=%{y}<br>Start=%{base}<br>End=%{x}<extra></extra>",
         "legendgroup": "Oklahoma City",
         "marker": {
          "color": "#FF6692",
          "pattern": {
           "shape": ""
          }
         },
         "name": "Oklahoma City",
         "orientation": "h",
         "showlegend": true,
         "textposition": "auto",
         "type": "bar",
         "x": [
          448502400000
         ],
         "xaxis": "x",
         "y": [
          "Oklahoma City"
         ],
         "yaxis": "y"
        },
        {
         "base": [
          "2003-10-01T00:00:00.000000000"
         ],
         "hovertemplate": "TEAM=%{y}<br>Start=%{base}<br>End=%{x}<extra></extra>",
         "legendgroup": "Seattle",
         "marker": {
          "color": "#B6E880",
          "pattern": {
           "shape": ""
          }
         },
         "name": "Seattle",
         "orientation": "h",
         "showlegend": true,
         "textposition": "auto",
         "type": "bar",
         "x": [
          158112000000
         ],
         "xaxis": "x",
         "y": [
          "Seattle"
         ],
         "yaxis": "y"
        }
       ],
       "layout": {
        "barmode": "overlay",
        "height": 400,
        "legend": {
         "title": {
          "text": "TEAM"
         },
         "tracegroupgap": 0
        },
        "margin": {
         "t": 60
        },
        "template": {
         "data": {
          "bar": [
           {
            "error_x": {
             "color": "#2a3f5f"
            },
            "error_y": {
             "color": "#2a3f5f"
            },
            "marker": {
             "line": {
              "color": "#E5ECF6",
              "width": 0.5
             },
             "pattern": {
              "fillmode": "overlay",
              "size": 10,
              "solidity": 0.2
             }
            },
            "type": "bar"
           }
          ],
          "barpolar": [
           {
            "marker": {
             "line": {
              "color": "#E5ECF6",
              "width": 0.5
             },
             "pattern": {
              "fillmode": "overlay",
              "size": 10,
              "solidity": 0.2
             }
            },
            "type": "barpolar"
           }
          ],
          "carpet": [
           {
            "aaxis": {
             "endlinecolor": "#2a3f5f",
             "gridcolor": "white",
             "linecolor": "white",
             "minorgridcolor": "white",
             "startlinecolor": "#2a3f5f"
            },
            "baxis": {
             "endlinecolor": "#2a3f5f",
             "gridcolor": "white",
             "linecolor": "white",
             "minorgridcolor": "white",
             "startlinecolor": "#2a3f5f"
            },
            "type": "carpet"
           }
          ],
          "choropleth": [
           {
            "colorbar": {
             "outlinewidth": 0,
             "ticks": ""
            },
            "type": "choropleth"
           }
          ],
          "contour": [
           {
            "colorbar": {
             "outlinewidth": 0,
             "ticks": ""
            },
            "colorscale": [
             [
              0,
              "#0d0887"
             ],
             [
              0.1111111111111111,
              "#46039f"
             ],
             [
              0.2222222222222222,
              "#7201a8"
             ],
             [
              0.3333333333333333,
              "#9c179e"
             ],
             [
              0.4444444444444444,
              "#bd3786"
             ],
             [
              0.5555555555555556,
              "#d8576b"
             ],
             [
              0.6666666666666666,
              "#ed7953"
             ],
             [
              0.7777777777777778,
              "#fb9f3a"
             ],
             [
              0.8888888888888888,
              "#fdca26"
             ],
             [
              1,
              "#f0f921"
             ]
            ],
            "type": "contour"
           }
          ],
          "contourcarpet": [
           {
            "colorbar": {
             "outlinewidth": 0,
             "ticks": ""
            },
            "type": "contourcarpet"
           }
          ],
          "heatmap": [
           {
            "colorbar": {
             "outlinewidth": 0,
             "ticks": ""
            },
            "colorscale": [
             [
              0,
              "#0d0887"
             ],
             [
              0.1111111111111111,
              "#46039f"
             ],
             [
              0.2222222222222222,
              "#7201a8"
             ],
             [
              0.3333333333333333,
              "#9c179e"
             ],
             [
              0.4444444444444444,
              "#bd3786"
             ],
             [
              0.5555555555555556,
              "#d8576b"
             ],
             [
              0.6666666666666666,
              "#ed7953"
             ],
             [
              0.7777777777777778,
              "#fb9f3a"
             ],
             [
              0.8888888888888888,
              "#fdca26"
             ],
             [
              1,
              "#f0f921"
             ]
            ],
            "type": "heatmap"
           }
          ],
          "histogram": [
           {
            "marker": {
             "pattern": {
              "fillmode": "overlay",
              "size": 10,
              "solidity": 0.2
             }
            },
            "type": "histogram"
           }
          ],
          "histogram2d": [
           {
            "colorbar": {
             "outlinewidth": 0,
             "ticks": ""
            },
            "colorscale": [
             [
              0,
              "#0d0887"
             ],
             [
              0.1111111111111111,
              "#46039f"
             ],
             [
              0.2222222222222222,
              "#7201a8"
             ],
             [
              0.3333333333333333,
              "#9c179e"
             ],
             [
              0.4444444444444444,
              "#bd3786"
             ],
             [
              0.5555555555555556,
              "#d8576b"
             ],
             [
              0.6666666666666666,
              "#ed7953"
             ],
             [
              0.7777777777777778,
              "#fb9f3a"
             ],
             [
              0.8888888888888888,
              "#fdca26"
             ],
             [
              1,
              "#f0f921"
             ]
            ],
            "type": "histogram2d"
           }
          ],
          "histogram2dcontour": [
           {
            "colorbar": {
             "outlinewidth": 0,
             "ticks": ""
            },
            "colorscale": [
             [
              0,
              "#0d0887"
             ],
             [
              0.1111111111111111,
              "#46039f"
             ],
             [
              0.2222222222222222,
              "#7201a8"
             ],
             [
              0.3333333333333333,
              "#9c179e"
             ],
             [
              0.4444444444444444,
              "#bd3786"
             ],
             [
              0.5555555555555556,
              "#d8576b"
             ],
             [
              0.6666666666666666,
              "#ed7953"
             ],
             [
              0.7777777777777778,
              "#fb9f3a"
             ],
             [
              0.8888888888888888,
              "#fdca26"
             ],
             [
              1,
              "#f0f921"
             ]
            ],
            "type": "histogram2dcontour"
           }
          ],
          "mesh3d": [
           {
            "colorbar": {
             "outlinewidth": 0,
             "ticks": ""
            },
            "type": "mesh3d"
           }
          ],
          "parcoords": [
           {
            "line": {
             "colorbar": {
              "outlinewidth": 0,
              "ticks": ""
             }
            },
            "type": "parcoords"
           }
          ],
          "pie": [
           {
            "automargin": true,
            "type": "pie"
           }
          ],
          "scatter": [
           {
            "fillpattern": {
             "fillmode": "overlay",
             "size": 10,
             "solidity": 0.2
            },
            "type": "scatter"
           }
          ],
          "scatter3d": [
           {
            "line": {
             "colorbar": {
              "outlinewidth": 0,
              "ticks": ""
             }
            },
            "marker": {
             "colorbar": {
              "outlinewidth": 0,
              "ticks": ""
             }
            },
            "type": "scatter3d"
           }
          ],
          "scattercarpet": [
           {
            "marker": {
             "colorbar": {
              "outlinewidth": 0,
              "ticks": ""
             }
            },
            "type": "scattercarpet"
           }
          ],
          "scattergeo": [
           {
            "marker": {
             "colorbar": {
              "outlinewidth": 0,
              "ticks": ""
             }
            },
            "type": "scattergeo"
           }
          ],
          "scattergl": [
           {
            "marker": {
             "colorbar": {
              "outlinewidth": 0,
              "ticks": ""
             }
            },
            "type": "scattergl"
           }
          ],
          "scattermap": [
           {
            "marker": {
             "colorbar": {
              "outlinewidth": 0,
              "ticks": ""
             }
            },
            "type": "scattermap"
           }
          ],
          "scattermapbox": [
           {
            "marker": {
             "colorbar": {
              "outlinewidth": 0,
              "ticks": ""
             }
            },
            "type": "scattermapbox"
           }
          ],
          "scatterpolar": [
           {
            "marker": {
             "colorbar": {
              "outlinewidth": 0,
              "ticks": ""
             }
            },
            "type": "scatterpolar"
           }
          ],
          "scatterpolargl": [
           {
            "marker": {
             "colorbar": {
              "outlinewidth": 0,
              "ticks": ""
             }
            },
            "type": "scatterpolargl"
           }
          ],
          "scatterternary": [
           {
            "marker": {
             "colorbar": {
              "outlinewidth": 0,
              "ticks": ""
             }
            },
            "type": "scatterternary"
           }
          ],
          "surface": [
           {
            "colorbar": {
             "outlinewidth": 0,
             "ticks": ""
            },
            "colorscale": [
             [
              0,
              "#0d0887"
             ],
             [
              0.1111111111111111,
              "#46039f"
             ],
             [
              0.2222222222222222,
              "#7201a8"
             ],
             [
              0.3333333333333333,
              "#9c179e"
             ],
             [
              0.4444444444444444,
              "#bd3786"
             ],
             [
              0.5555555555555556,
              "#d8576b"
             ],
             [
              0.6666666666666666,
              "#ed7953"
             ],
             [
              0.7777777777777778,
              "#fb9f3a"
             ],
             [
              0.8888888888888888,
              "#fdca26"
             ],
             [
              1,
              "#f0f921"
             ]
            ],
            "type": "surface"
           }
          ],
          "table": [
           {
            "cells": {
             "fill": {
              "color": "#EBF0F8"
             },
             "line": {
              "color": "white"
             }
            },
            "header": {
             "fill": {
              "color": "#C8D4E3"
             },
             "line": {
              "color": "white"
             }
            },
            "type": "table"
           }
          ]
         },
         "layout": {
          "annotationdefaults": {
           "arrowcolor": "#2a3f5f",
           "arrowhead": 0,
           "arrowwidth": 1
          },
          "autotypenumbers": "strict",
          "coloraxis": {
           "colorbar": {
            "outlinewidth": 0,
            "ticks": ""
           }
          },
          "colorscale": {
           "diverging": [
            [
             0,
             "#8e0152"
            ],
            [
             0.1,
             "#c51b7d"
            ],
            [
             0.2,
             "#de77ae"
            ],
            [
             0.3,
             "#f1b6da"
            ],
            [
             0.4,
             "#fde0ef"
            ],
            [
             0.5,
             "#f7f7f7"
            ],
            [
             0.6,
             "#e6f5d0"
            ],
            [
             0.7,
             "#b8e186"
            ],
            [
             0.8,
             "#7fbc41"
            ],
            [
             0.9,
             "#4d9221"
            ],
            [
             1,
             "#276419"
            ]
           ],
           "sequential": [
            [
             0,
             "#0d0887"
            ],
            [
             0.1111111111111111,
             "#46039f"
            ],
            [
             0.2222222222222222,
             "#7201a8"
            ],
            [
             0.3333333333333333,
             "#9c179e"
            ],
            [
             0.4444444444444444,
             "#bd3786"
            ],
            [
             0.5555555555555556,
             "#d8576b"
            ],
            [
             0.6666666666666666,
             "#ed7953"
            ],
            [
             0.7777777777777778,
             "#fb9f3a"
            ],
            [
             0.8888888888888888,
             "#fdca26"
            ],
            [
             1,
             "#f0f921"
            ]
           ],
           "sequentialminus": [
            [
             0,
             "#0d0887"
            ],
            [
             0.1111111111111111,
             "#46039f"
            ],
            [
             0.2222222222222222,
             "#7201a8"
            ],
            [
             0.3333333333333333,
             "#9c179e"
            ],
            [
             0.4444444444444444,
             "#bd3786"
            ],
            [
             0.5555555555555556,
             "#d8576b"
            ],
            [
             0.6666666666666666,
             "#ed7953"
            ],
            [
             0.7777777777777778,
             "#fb9f3a"
            ],
            [
             0.8888888888888888,
             "#fdca26"
            ],
            [
             1,
             "#f0f921"
            ]
           ]
          },
          "colorway": [
           "#636efa",
           "#EF553B",
           "#00cc96",
           "#ab63fa",
           "#FFA15A",
           "#19d3f3",
           "#FF6692",
           "#B6E880",
           "#FF97FF",
           "#FECB52"
          ],
          "font": {
           "color": "#2a3f5f"
          },
          "geo": {
           "bgcolor": "white",
           "lakecolor": "white",
           "landcolor": "#E5ECF6",
           "showlakes": true,
           "showland": true,
           "subunitcolor": "white"
          },
          "hoverlabel": {
           "align": "left"
          },
          "hovermode": "closest",
          "mapbox": {
           "style": "light"
          },
          "paper_bgcolor": "white",
          "plot_bgcolor": "#E5ECF6",
          "polar": {
           "angularaxis": {
            "gridcolor": "white",
            "linecolor": "white",
            "ticks": ""
           },
           "bgcolor": "#E5ECF6",
           "radialaxis": {
            "gridcolor": "white",
            "linecolor": "white",
            "ticks": ""
           }
          },
          "scene": {
           "xaxis": {
            "backgroundcolor": "#E5ECF6",
            "gridcolor": "white",
            "gridwidth": 2,
            "linecolor": "white",
            "showbackground": true,
            "ticks": "",
            "zerolinecolor": "white"
           },
           "yaxis": {
            "backgroundcolor": "#E5ECF6",
            "gridcolor": "white",
            "gridwidth": 2,
            "linecolor": "white",
            "showbackground": true,
            "ticks": "",
            "zerolinecolor": "white"
           },
           "zaxis": {
            "backgroundcolor": "#E5ECF6",
            "gridcolor": "white",
            "gridwidth": 2,
            "linecolor": "white",
            "showbackground": true,
            "ticks": "",
            "zerolinecolor": "white"
           }
          },
          "shapedefaults": {
           "line": {
            "color": "#2a3f5f"
           }
          },
          "ternary": {
           "aaxis": {
            "gridcolor": "white",
            "linecolor": "white",
            "ticks": ""
           },
           "baxis": {
            "gridcolor": "white",
            "linecolor": "white",
            "ticks": ""
           },
           "bgcolor": "#E5ECF6",
           "caxis": {
            "gridcolor": "white",
            "linecolor": "white",
            "ticks": ""
           }
          },
          "title": {
           "x": 0.05
          },
          "xaxis": {
           "automargin": true,
           "gridcolor": "white",
           "linecolor": "white",
           "ticks": "",
           "title": {
            "standoff": 15
           },
           "zerolinecolor": "white",
           "zerolinewidth": 2
          },
          "yaxis": {
           "automargin": true,
           "gridcolor": "white",
           "linecolor": "white",
           "ticks": "",
           "title": {
            "standoff": 15
           },
           "zerolinecolor": "white",
           "zerolinewidth": 2
          }
         }
        },
        "title": {
         "text": "팀별 기간 타임라인"
        },
        "width": 900,
        "xaxis": {
         "anchor": "y",
         "domain": [
          0,
          1
         ],
         "title": {
          "text": "날짜"
         },
         "type": "date"
        },
        "yaxis": {
         "anchor": "x",
         "categoryarray": [
          "Seattle",
          "Oklahoma City",
          "New Orleans/Oklahoma City",
          "New Orleans",
          "New Jersey",
          "LA Clippers",
          "L.A. Clippers",
          "Brooklyn"
         ],
         "categoryorder": "array",
         "domain": [
          0,
          1
         ],
         "title": {
          "text": "팀"
         }
        }
       }
      }
     },
     "metadata": {},
     "output_type": "display_data"
    }
   ],
   "source": [
    "import plotly.express as px\n",
    "\n",
    "# 타임라인 차트\n",
    "fig = px.timeline(\n",
    "    team_dates,\n",
    "    x_start=\"Start\",\n",
    "    x_end=\"End\",\n",
    "    y=\"TEAM\",\n",
    "    color=\"TEAM\"\n",
    ")\n",
    "\n",
    "fig.update_layout(\n",
    "    title=\"팀별 기간 타임라인\",\n",
    "    xaxis_title=\"날짜\",\n",
    "    yaxis_title=\"팀\",\n",
    "    width=900,\n",
    "    height=400\n",
    ")\n",
    "\n",
    "fig.show()"
   ]
  },
  {
   "cell_type": "raw",
   "id": "42d35990",
   "metadata": {
    "vscode": {
     "languageId": "raw"
    }
   },
   "source": [
    "# 과제: 이름이 바뀐 거라 통합할지, 완전 끝나고 새 팀이 들어온 거라 따로 봐야할지 고민 필요"
   ]
  }
 ],
 "metadata": {
  "kernelspec": {
   "display_name": "sparta",
   "language": "python",
   "name": "python3"
  },
  "language_info": {
   "codemirror_mode": {
    "name": "ipython",
    "version": 3
   },
   "file_extension": ".py",
   "mimetype": "text/x-python",
   "name": "python",
   "nbconvert_exporter": "python",
   "pygments_lexer": "ipython3",
   "version": "3.10.18"
  }
 },
 "nbformat": 4,
 "nbformat_minor": 5
}
