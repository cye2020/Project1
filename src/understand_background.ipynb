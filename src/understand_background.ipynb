{
 "cells": [
  {
   "cell_type": "markdown",
   "id": "5da65b33",
   "metadata": {},
   "source": [
    "## 필요한 라이브러리 임포트"
   ]
  },
  {
   "cell_type": "code",
   "execution_count": 1,
   "id": "67d32500",
   "metadata": {},
   "outputs": [],
   "source": [
    "# 표준 라이브러리 임포트\n",
    "\n",
    "# 서드 파티 라이브러리 임포트\n",
    "import pandas as pd\n",
    "\n",
    "# 로컬 모듈 임포트\n",
    "from config import DATA_DIR\n",
    "from utils import load_dataset"
   ]
  },
  {
   "cell_type": "code",
   "execution_count": 2,
   "id": "dc7c0ef0",
   "metadata": {},
   "outputs": [
    {
     "data": {
      "application/vnd.microsoft.datawrangler.viewer.v0+json": {
       "columns": [
        {
         "name": "index",
         "rawType": "int64",
         "type": "integer"
        },
        {
         "name": "TEAM_ID",
         "rawType": "int64",
         "type": "integer"
        },
        {
         "name": "LEAGUE_ID",
         "rawType": "int64",
         "type": "integer"
        },
        {
         "name": "SEASON_ID",
         "rawType": "object",
         "type": "string"
        },
        {
         "name": "STANDINGSDATE",
         "rawType": "datetime64[ns]",
         "type": "datetime"
        },
        {
         "name": "CONFERENCE",
         "rawType": "object",
         "type": "string"
        },
        {
         "name": "TEAM",
         "rawType": "object",
         "type": "string"
        },
        {
         "name": "G",
         "rawType": "int64",
         "type": "integer"
        },
        {
         "name": "W",
         "rawType": "int64",
         "type": "integer"
        },
        {
         "name": "L",
         "rawType": "int64",
         "type": "integer"
        },
        {
         "name": "W_PCT",
         "rawType": "float64",
         "type": "float"
        },
        {
         "name": "HOME_RECORD",
         "rawType": "object",
         "type": "string"
        },
        {
         "name": "ROAD_RECORD",
         "rawType": "object",
         "type": "string"
        },
        {
         "name": "RETURNTOPLAY",
         "rawType": "float64",
         "type": "float"
        }
       ],
       "ref": "08ff069a-cd0c-4d99-8fc9-5df7c17df20a",
       "rows": [
        [
         "0",
         "1610612743",
         "0",
         "22022",
         "2022-12-22 00:00:00",
         "West",
         "Denver",
         "30",
         "19",
         "11",
         "0.633",
         "10-3",
         "9-8",
         null
        ],
        [
         "1",
         "1610612763",
         "0",
         "22022",
         "2022-12-22 00:00:00",
         "West",
         "Memphis",
         "30",
         "19",
         "11",
         "0.633",
         "13-2",
         "6-9",
         null
        ],
        [
         "2",
         "1610612740",
         "0",
         "22022",
         "2022-12-22 00:00:00",
         "West",
         "New Orleans",
         "31",
         "19",
         "12",
         "0.613",
         "13-4",
         "6-8",
         null
        ],
        [
         "3",
         "1610612756",
         "0",
         "22022",
         "2022-12-22 00:00:00",
         "West",
         "Phoenix",
         "32",
         "19",
         "13",
         "0.594",
         "14-4",
         "5-9",
         null
        ],
        [
         "4",
         "1610612746",
         "0",
         "22022",
         "2022-12-22 00:00:00",
         "West",
         "LA Clippers",
         "33",
         "19",
         "14",
         "0.576",
         "11-7",
         "8-7",
         null
        ],
        [
         "5",
         "1610612758",
         "0",
         "22022",
         "2022-12-22 00:00:00",
         "West",
         "Sacramento",
         "30",
         "17",
         "13",
         "0.567",
         "9-5",
         "8-8",
         null
        ],
        [
         "6",
         "1610612762",
         "0",
         "22022",
         "2022-12-22 00:00:00",
         "West",
         "Utah",
         "35",
         "19",
         "16",
         "0.543",
         "12-5",
         "7-11",
         null
        ],
        [
         "7",
         "1610612757",
         "0",
         "22022",
         "2022-12-22 00:00:00",
         "West",
         "Portland",
         "32",
         "17",
         "15",
         "0.531",
         "7-6",
         "10-9",
         null
        ],
        [
         "8",
         "1610612742",
         "0",
         "22022",
         "2022-12-22 00:00:00",
         "West",
         "Dallas",
         "32",
         "16",
         "16",
         "0.5",
         "12-5",
         "4-11",
         null
        ],
        [
         "9",
         "1610612750",
         "0",
         "22022",
         "2022-12-22 00:00:00",
         "West",
         "Minnesota",
         "32",
         "16",
         "16",
         "0.5",
         "9-8",
         "7-8",
         null
        ]
       ],
       "shape": {
        "columns": 13,
        "rows": 10
       }
      },
      "text/html": [
       "<div>\n",
       "<style scoped>\n",
       "    .dataframe tbody tr th:only-of-type {\n",
       "        vertical-align: middle;\n",
       "    }\n",
       "\n",
       "    .dataframe tbody tr th {\n",
       "        vertical-align: top;\n",
       "    }\n",
       "\n",
       "    .dataframe thead th {\n",
       "        text-align: right;\n",
       "    }\n",
       "</style>\n",
       "<table border=\"1\" class=\"dataframe\">\n",
       "  <thead>\n",
       "    <tr style=\"text-align: right;\">\n",
       "      <th></th>\n",
       "      <th>TEAM_ID</th>\n",
       "      <th>LEAGUE_ID</th>\n",
       "      <th>SEASON_ID</th>\n",
       "      <th>STANDINGSDATE</th>\n",
       "      <th>CONFERENCE</th>\n",
       "      <th>TEAM</th>\n",
       "      <th>G</th>\n",
       "      <th>W</th>\n",
       "      <th>L</th>\n",
       "      <th>W_PCT</th>\n",
       "      <th>HOME_RECORD</th>\n",
       "      <th>ROAD_RECORD</th>\n",
       "      <th>RETURNTOPLAY</th>\n",
       "    </tr>\n",
       "  </thead>\n",
       "  <tbody>\n",
       "    <tr>\n",
       "      <th>0</th>\n",
       "      <td>1610612743</td>\n",
       "      <td>0</td>\n",
       "      <td>22022</td>\n",
       "      <td>2022-12-22</td>\n",
       "      <td>West</td>\n",
       "      <td>Denver</td>\n",
       "      <td>30</td>\n",
       "      <td>19</td>\n",
       "      <td>11</td>\n",
       "      <td>0.633</td>\n",
       "      <td>10-3</td>\n",
       "      <td>9-8</td>\n",
       "      <td>NaN</td>\n",
       "    </tr>\n",
       "    <tr>\n",
       "      <th>1</th>\n",
       "      <td>1610612763</td>\n",
       "      <td>0</td>\n",
       "      <td>22022</td>\n",
       "      <td>2022-12-22</td>\n",
       "      <td>West</td>\n",
       "      <td>Memphis</td>\n",
       "      <td>30</td>\n",
       "      <td>19</td>\n",
       "      <td>11</td>\n",
       "      <td>0.633</td>\n",
       "      <td>13-2</td>\n",
       "      <td>6-9</td>\n",
       "      <td>NaN</td>\n",
       "    </tr>\n",
       "    <tr>\n",
       "      <th>2</th>\n",
       "      <td>1610612740</td>\n",
       "      <td>0</td>\n",
       "      <td>22022</td>\n",
       "      <td>2022-12-22</td>\n",
       "      <td>West</td>\n",
       "      <td>New Orleans</td>\n",
       "      <td>31</td>\n",
       "      <td>19</td>\n",
       "      <td>12</td>\n",
       "      <td>0.613</td>\n",
       "      <td>13-4</td>\n",
       "      <td>6-8</td>\n",
       "      <td>NaN</td>\n",
       "    </tr>\n",
       "    <tr>\n",
       "      <th>3</th>\n",
       "      <td>1610612756</td>\n",
       "      <td>0</td>\n",
       "      <td>22022</td>\n",
       "      <td>2022-12-22</td>\n",
       "      <td>West</td>\n",
       "      <td>Phoenix</td>\n",
       "      <td>32</td>\n",
       "      <td>19</td>\n",
       "      <td>13</td>\n",
       "      <td>0.594</td>\n",
       "      <td>14-4</td>\n",
       "      <td>5-9</td>\n",
       "      <td>NaN</td>\n",
       "    </tr>\n",
       "    <tr>\n",
       "      <th>4</th>\n",
       "      <td>1610612746</td>\n",
       "      <td>0</td>\n",
       "      <td>22022</td>\n",
       "      <td>2022-12-22</td>\n",
       "      <td>West</td>\n",
       "      <td>LA Clippers</td>\n",
       "      <td>33</td>\n",
       "      <td>19</td>\n",
       "      <td>14</td>\n",
       "      <td>0.576</td>\n",
       "      <td>11-7</td>\n",
       "      <td>8-7</td>\n",
       "      <td>NaN</td>\n",
       "    </tr>\n",
       "    <tr>\n",
       "      <th>5</th>\n",
       "      <td>1610612758</td>\n",
       "      <td>0</td>\n",
       "      <td>22022</td>\n",
       "      <td>2022-12-22</td>\n",
       "      <td>West</td>\n",
       "      <td>Sacramento</td>\n",
       "      <td>30</td>\n",
       "      <td>17</td>\n",
       "      <td>13</td>\n",
       "      <td>0.567</td>\n",
       "      <td>9-5</td>\n",
       "      <td>8-8</td>\n",
       "      <td>NaN</td>\n",
       "    </tr>\n",
       "    <tr>\n",
       "      <th>6</th>\n",
       "      <td>1610612762</td>\n",
       "      <td>0</td>\n",
       "      <td>22022</td>\n",
       "      <td>2022-12-22</td>\n",
       "      <td>West</td>\n",
       "      <td>Utah</td>\n",
       "      <td>35</td>\n",
       "      <td>19</td>\n",
       "      <td>16</td>\n",
       "      <td>0.543</td>\n",
       "      <td>12-5</td>\n",
       "      <td>7-11</td>\n",
       "      <td>NaN</td>\n",
       "    </tr>\n",
       "    <tr>\n",
       "      <th>7</th>\n",
       "      <td>1610612757</td>\n",
       "      <td>0</td>\n",
       "      <td>22022</td>\n",
       "      <td>2022-12-22</td>\n",
       "      <td>West</td>\n",
       "      <td>Portland</td>\n",
       "      <td>32</td>\n",
       "      <td>17</td>\n",
       "      <td>15</td>\n",
       "      <td>0.531</td>\n",
       "      <td>7-6</td>\n",
       "      <td>10-9</td>\n",
       "      <td>NaN</td>\n",
       "    </tr>\n",
       "    <tr>\n",
       "      <th>8</th>\n",
       "      <td>1610612742</td>\n",
       "      <td>0</td>\n",
       "      <td>22022</td>\n",
       "      <td>2022-12-22</td>\n",
       "      <td>West</td>\n",
       "      <td>Dallas</td>\n",
       "      <td>32</td>\n",
       "      <td>16</td>\n",
       "      <td>16</td>\n",
       "      <td>0.500</td>\n",
       "      <td>12-5</td>\n",
       "      <td>4-11</td>\n",
       "      <td>NaN</td>\n",
       "    </tr>\n",
       "    <tr>\n",
       "      <th>9</th>\n",
       "      <td>1610612750</td>\n",
       "      <td>0</td>\n",
       "      <td>22022</td>\n",
       "      <td>2022-12-22</td>\n",
       "      <td>West</td>\n",
       "      <td>Minnesota</td>\n",
       "      <td>32</td>\n",
       "      <td>16</td>\n",
       "      <td>16</td>\n",
       "      <td>0.500</td>\n",
       "      <td>9-8</td>\n",
       "      <td>7-8</td>\n",
       "      <td>NaN</td>\n",
       "    </tr>\n",
       "  </tbody>\n",
       "</table>\n",
       "</div>"
      ],
      "text/plain": [
       "      TEAM_ID  LEAGUE_ID SEASON_ID STANDINGSDATE CONFERENCE         TEAM   G  \\\n",
       "0  1610612743          0     22022    2022-12-22       West       Denver  30   \n",
       "1  1610612763          0     22022    2022-12-22       West      Memphis  30   \n",
       "2  1610612740          0     22022    2022-12-22       West  New Orleans  31   \n",
       "3  1610612756          0     22022    2022-12-22       West      Phoenix  32   \n",
       "4  1610612746          0     22022    2022-12-22       West  LA Clippers  33   \n",
       "5  1610612758          0     22022    2022-12-22       West   Sacramento  30   \n",
       "6  1610612762          0     22022    2022-12-22       West         Utah  35   \n",
       "7  1610612757          0     22022    2022-12-22       West     Portland  32   \n",
       "8  1610612742          0     22022    2022-12-22       West       Dallas  32   \n",
       "9  1610612750          0     22022    2022-12-22       West    Minnesota  32   \n",
       "\n",
       "    W   L  W_PCT HOME_RECORD ROAD_RECORD  RETURNTOPLAY  \n",
       "0  19  11  0.633        10-3         9-8           NaN  \n",
       "1  19  11  0.633        13-2         6-9           NaN  \n",
       "2  19  12  0.613        13-4         6-8           NaN  \n",
       "3  19  13  0.594        14-4         5-9           NaN  \n",
       "4  19  14  0.576        11-7         8-7           NaN  \n",
       "5  17  13  0.567         9-5         8-8           NaN  \n",
       "6  19  16  0.543        12-5        7-11           NaN  \n",
       "7  17  15  0.531         7-6        10-9           NaN  \n",
       "8  16  16  0.500        12-5        4-11           NaN  \n",
       "9  16  16  0.500         9-8         7-8           NaN  "
      ]
     },
     "execution_count": 2,
     "metadata": {},
     "output_type": "execute_result"
    }
   ],
   "source": [
    "# 데이터셋 불러오기\n",
    "ranking = load_dataset('ranking')\n",
    "ranking.head(10)"
   ]
  },
  {
   "cell_type": "markdown",
   "id": "2386c04a",
   "metadata": {},
   "source": [
    "## 승률이 제일 낮은 팀 찾기"
   ]
  },
  {
   "cell_type": "code",
   "execution_count": 3,
   "id": "8a5db73e",
   "metadata": {},
   "outputs": [
    {
     "data": {
      "application/vnd.microsoft.datawrangler.viewer.v0+json": {
       "columns": [
        {
         "name": "index",
         "rawType": "int64",
         "type": "integer"
        },
        {
         "name": "STANDINGSDATE",
         "rawType": "datetime64[ns]",
         "type": "datetime"
        },
        {
         "name": "TEAM",
         "rawType": "object",
         "type": "string"
        },
        {
         "name": "CONFERENCE",
         "rawType": "object",
         "type": "string"
        },
        {
         "name": "G",
         "rawType": "int64",
         "type": "integer"
        },
        {
         "name": "W",
         "rawType": "int64",
         "type": "integer"
        },
        {
         "name": "L",
         "rawType": "int64",
         "type": "integer"
        },
        {
         "name": "W_PCT",
         "rawType": "float64",
         "type": "float"
        }
       ],
       "ref": "ed82ec5e-485e-492a-86e2-edbd1cc7532a",
       "rows": [
        [
         "4289",
         "2022-12-22 00:00:00",
         "Detroit",
         "East",
         "34",
         "8",
         "26",
         "0.235"
        ],
        [
         "4288",
         "2022-12-22 00:00:00",
         "Charlotte",
         "East",
         "32",
         "8",
         "24",
         "0.25"
        ],
        [
         "14",
         "2022-12-22 00:00:00",
         "Houston",
         "West",
         "31",
         "9",
         "22",
         "0.29"
        ],
        [
         "13",
         "2022-12-22 00:00:00",
         "San Antonio",
         "West",
         "31",
         "10",
         "21",
         "0.323"
        ],
        [
         "4286",
         "2022-12-22 00:00:00",
         "Orlando",
         "East",
         "33",
         "12",
         "21",
         "0.364"
        ],
        [
         "4287",
         "2022-12-22 00:00:00",
         "Washington",
         "East",
         "33",
         "12",
         "21",
         "0.364"
        ],
        [
         "12",
         "2022-12-22 00:00:00",
         "L.A. Lakers",
         "West",
         "31",
         "13",
         "18",
         "0.419"
        ],
        [
         "4285",
         "2022-12-22 00:00:00",
         "Chicago",
         "East",
         "31",
         "13",
         "18",
         "0.419"
        ],
        [
         "11",
         "2022-12-22 00:00:00",
         "Oklahoma City",
         "West",
         "32",
         "14",
         "18",
         "0.438"
        ],
        [
         "4284",
         "2022-12-22 00:00:00",
         "Toronto",
         "East",
         "32",
         "14",
         "18",
         "0.438"
        ],
        [
         "10",
         "2022-12-22 00:00:00",
         "Golden State",
         "West",
         "33",
         "15",
         "18",
         "0.455"
        ],
        [
         "8",
         "2022-12-22 00:00:00",
         "Dallas",
         "West",
         "32",
         "16",
         "16",
         "0.5"
        ],
        [
         "9",
         "2022-12-22 00:00:00",
         "Minnesota",
         "West",
         "32",
         "16",
         "16",
         "0.5"
        ],
        [
         "4281",
         "2022-12-22 00:00:00",
         "Atlanta",
         "East",
         "32",
         "16",
         "16",
         "0.5"
        ],
        [
         "4282",
         "2022-12-22 00:00:00",
         "Indiana",
         "East",
         "32",
         "16",
         "16",
         "0.5"
        ],
        [
         "4283",
         "2022-12-22 00:00:00",
         "Miami",
         "East",
         "32",
         "16",
         "16",
         "0.5"
        ],
        [
         "7",
         "2022-12-22 00:00:00",
         "Portland",
         "West",
         "32",
         "17",
         "15",
         "0.531"
        ],
        [
         "6",
         "2022-12-22 00:00:00",
         "Utah",
         "West",
         "35",
         "19",
         "16",
         "0.543"
        ],
        [
         "4280",
         "2022-12-22 00:00:00",
         "New York",
         "East",
         "32",
         "18",
         "14",
         "0.563"
        ],
        [
         "5",
         "2022-12-22 00:00:00",
         "Sacramento",
         "West",
         "30",
         "17",
         "13",
         "0.567"
        ],
        [
         "4",
         "2022-12-22 00:00:00",
         "LA Clippers",
         "West",
         "33",
         "19",
         "14",
         "0.576"
        ],
        [
         "3",
         "2022-12-22 00:00:00",
         "Phoenix",
         "West",
         "32",
         "19",
         "13",
         "0.594"
        ],
        [
         "4279",
         "2022-12-22 00:00:00",
         "Philadelphia",
         "East",
         "30",
         "18",
         "12",
         "0.6"
        ],
        [
         "2",
         "2022-12-22 00:00:00",
         "New Orleans",
         "West",
         "31",
         "19",
         "12",
         "0.613"
        ],
        [
         "4278",
         "2022-12-22 00:00:00",
         "Brooklyn",
         "East",
         "32",
         "20",
         "12",
         "0.625"
        ],
        [
         "0",
         "2022-12-22 00:00:00",
         "Denver",
         "West",
         "30",
         "19",
         "11",
         "0.633"
        ],
        [
         "1",
         "2022-12-22 00:00:00",
         "Memphis",
         "West",
         "30",
         "19",
         "11",
         "0.633"
        ],
        [
         "4277",
         "2022-12-22 00:00:00",
         "Cleveland",
         "East",
         "33",
         "22",
         "11",
         "0.667"
        ],
        [
         "4276",
         "2022-12-22 00:00:00",
         "Boston",
         "East",
         "32",
         "22",
         "10",
         "0.688"
        ],
        [
         "4275",
         "2022-12-22 00:00:00",
         "Milwaukee",
         "East",
         "31",
         "22",
         "9",
         "0.71"
        ],
        [
         "4304",
         "2022-12-21 00:00:00",
         "Detroit",
         "East",
         "34",
         "8",
         "26",
         "0.235"
        ],
        [
         "4303",
         "2022-12-21 00:00:00",
         "Charlotte",
         "East",
         "32",
         "8",
         "24",
         "0.25"
        ],
        [
         "29",
         "2022-12-21 00:00:00",
         "Houston",
         "West",
         "31",
         "9",
         "22",
         "0.29"
        ],
        [
         "28",
         "2022-12-21 00:00:00",
         "San Antonio",
         "West",
         "30",
         "10",
         "20",
         "0.333"
        ],
        [
         "4302",
         "2022-12-21 00:00:00",
         "Orlando",
         "East",
         "33",
         "12",
         "21",
         "0.364"
        ],
        [
         "4301",
         "2022-12-21 00:00:00",
         "Washington",
         "East",
         "32",
         "12",
         "20",
         "0.375"
        ],
        [
         "27",
         "2022-12-21 00:00:00",
         "L.A. Lakers",
         "West",
         "31",
         "13",
         "18",
         "0.419"
        ],
        [
         "4300",
         "2022-12-21 00:00:00",
         "Chicago",
         "East",
         "31",
         "13",
         "18",
         "0.419"
        ],
        [
         "26",
         "2022-12-21 00:00:00",
         "Oklahoma City",
         "West",
         "32",
         "14",
         "18",
         "0.438"
        ],
        [
         "4299",
         "2022-12-21 00:00:00",
         "Toronto",
         "East",
         "32",
         "14",
         "18",
         "0.438"
        ],
        [
         "25",
         "2022-12-21 00:00:00",
         "Golden State",
         "West",
         "33",
         "15",
         "18",
         "0.455"
        ],
        [
         "23",
         "2022-12-21 00:00:00",
         "Dallas",
         "West",
         "32",
         "16",
         "16",
         "0.5"
        ],
        [
         "24",
         "2022-12-21 00:00:00",
         "Minnesota",
         "West",
         "32",
         "16",
         "16",
         "0.5"
        ],
        [
         "4296",
         "2022-12-21 00:00:00",
         "Atlanta",
         "East",
         "32",
         "16",
         "16",
         "0.5"
        ],
        [
         "4297",
         "2022-12-21 00:00:00",
         "Indiana",
         "East",
         "32",
         "16",
         "16",
         "0.5"
        ],
        [
         "4298",
         "2022-12-21 00:00:00",
         "Miami",
         "East",
         "32",
         "16",
         "16",
         "0.5"
        ],
        [
         "22",
         "2022-12-21 00:00:00",
         "Utah",
         "West",
         "34",
         "18",
         "16",
         "0.529"
        ],
        [
         "21",
         "2022-12-21 00:00:00",
         "Portland",
         "West",
         "32",
         "17",
         "15",
         "0.531"
        ],
        [
         "4295",
         "2022-12-21 00:00:00",
         "New York",
         "East",
         "32",
         "18",
         "14",
         "0.563"
        ],
        [
         "20",
         "2022-12-21 00:00:00",
         "Sacramento",
         "West",
         "30",
         "17",
         "13",
         "0.567"
        ]
       ],
       "shape": {
        "columns": 7,
        "rows": 210342
       }
      },
      "text/html": [
       "<div>\n",
       "<style scoped>\n",
       "    .dataframe tbody tr th:only-of-type {\n",
       "        vertical-align: middle;\n",
       "    }\n",
       "\n",
       "    .dataframe tbody tr th {\n",
       "        vertical-align: top;\n",
       "    }\n",
       "\n",
       "    .dataframe thead th {\n",
       "        text-align: right;\n",
       "    }\n",
       "</style>\n",
       "<table border=\"1\" class=\"dataframe\">\n",
       "  <thead>\n",
       "    <tr style=\"text-align: right;\">\n",
       "      <th></th>\n",
       "      <th>STANDINGSDATE</th>\n",
       "      <th>TEAM</th>\n",
       "      <th>CONFERENCE</th>\n",
       "      <th>G</th>\n",
       "      <th>W</th>\n",
       "      <th>L</th>\n",
       "      <th>W_PCT</th>\n",
       "    </tr>\n",
       "  </thead>\n",
       "  <tbody>\n",
       "    <tr>\n",
       "      <th>4289</th>\n",
       "      <td>2022-12-22</td>\n",
       "      <td>Detroit</td>\n",
       "      <td>East</td>\n",
       "      <td>34</td>\n",
       "      <td>8</td>\n",
       "      <td>26</td>\n",
       "      <td>0.235</td>\n",
       "    </tr>\n",
       "    <tr>\n",
       "      <th>4288</th>\n",
       "      <td>2022-12-22</td>\n",
       "      <td>Charlotte</td>\n",
       "      <td>East</td>\n",
       "      <td>32</td>\n",
       "      <td>8</td>\n",
       "      <td>24</td>\n",
       "      <td>0.250</td>\n",
       "    </tr>\n",
       "    <tr>\n",
       "      <th>14</th>\n",
       "      <td>2022-12-22</td>\n",
       "      <td>Houston</td>\n",
       "      <td>West</td>\n",
       "      <td>31</td>\n",
       "      <td>9</td>\n",
       "      <td>22</td>\n",
       "      <td>0.290</td>\n",
       "    </tr>\n",
       "    <tr>\n",
       "      <th>13</th>\n",
       "      <td>2022-12-22</td>\n",
       "      <td>San Antonio</td>\n",
       "      <td>West</td>\n",
       "      <td>31</td>\n",
       "      <td>10</td>\n",
       "      <td>21</td>\n",
       "      <td>0.323</td>\n",
       "    </tr>\n",
       "    <tr>\n",
       "      <th>4286</th>\n",
       "      <td>2022-12-22</td>\n",
       "      <td>Orlando</td>\n",
       "      <td>East</td>\n",
       "      <td>33</td>\n",
       "      <td>12</td>\n",
       "      <td>21</td>\n",
       "      <td>0.364</td>\n",
       "    </tr>\n",
       "    <tr>\n",
       "      <th>...</th>\n",
       "      <td>...</td>\n",
       "      <td>...</td>\n",
       "      <td>...</td>\n",
       "      <td>...</td>\n",
       "      <td>...</td>\n",
       "      <td>...</td>\n",
       "      <td>...</td>\n",
       "    </tr>\n",
       "    <tr>\n",
       "      <th>181542</th>\n",
       "      <td>2003-10-01</td>\n",
       "      <td>Detroit</td>\n",
       "      <td>East</td>\n",
       "      <td>82</td>\n",
       "      <td>50</td>\n",
       "      <td>32</td>\n",
       "      <td>0.610</td>\n",
       "    </tr>\n",
       "    <tr>\n",
       "      <th>92941</th>\n",
       "      <td>2003-10-01</td>\n",
       "      <td>Minnesota</td>\n",
       "      <td>West</td>\n",
       "      <td>82</td>\n",
       "      <td>51</td>\n",
       "      <td>31</td>\n",
       "      <td>0.622</td>\n",
       "    </tr>\n",
       "    <tr>\n",
       "      <th>92940</th>\n",
       "      <td>2003-10-01</td>\n",
       "      <td>Sacramento</td>\n",
       "      <td>West</td>\n",
       "      <td>82</td>\n",
       "      <td>59</td>\n",
       "      <td>23</td>\n",
       "      <td>0.720</td>\n",
       "    </tr>\n",
       "    <tr>\n",
       "      <th>92938</th>\n",
       "      <td>2003-10-01</td>\n",
       "      <td>Dallas</td>\n",
       "      <td>West</td>\n",
       "      <td>82</td>\n",
       "      <td>60</td>\n",
       "      <td>22</td>\n",
       "      <td>0.732</td>\n",
       "    </tr>\n",
       "    <tr>\n",
       "      <th>92939</th>\n",
       "      <td>2003-10-01</td>\n",
       "      <td>San Antonio</td>\n",
       "      <td>West</td>\n",
       "      <td>82</td>\n",
       "      <td>60</td>\n",
       "      <td>22</td>\n",
       "      <td>0.732</td>\n",
       "    </tr>\n",
       "  </tbody>\n",
       "</table>\n",
       "<p>210342 rows × 7 columns</p>\n",
       "</div>"
      ],
      "text/plain": [
       "       STANDINGSDATE         TEAM CONFERENCE   G   W   L  W_PCT\n",
       "4289      2022-12-22      Detroit       East  34   8  26  0.235\n",
       "4288      2022-12-22    Charlotte       East  32   8  24  0.250\n",
       "14        2022-12-22      Houston       West  31   9  22  0.290\n",
       "13        2022-12-22  San Antonio       West  31  10  21  0.323\n",
       "4286      2022-12-22      Orlando       East  33  12  21  0.364\n",
       "...              ...          ...        ...  ..  ..  ..    ...\n",
       "181542    2003-10-01      Detroit       East  82  50  32  0.610\n",
       "92941     2003-10-01    Minnesota       West  82  51  31  0.622\n",
       "92940     2003-10-01   Sacramento       West  82  59  23  0.720\n",
       "92938     2003-10-01       Dallas       West  82  60  22  0.732\n",
       "92939     2003-10-01  San Antonio       West  82  60  22  0.732\n",
       "\n",
       "[210342 rows x 7 columns]"
      ]
     },
     "execution_count": 3,
     "metadata": {},
     "output_type": "execute_result"
    }
   ],
   "source": [
    "sorted_ranking = ranking.sort_values(by=['STANDINGSDATE', 'W_PCT'], ascending=[False, True])\n",
    "cols = ['STANDINGSDATE', 'TEAM', 'CONFERENCE', 'G', 'W', 'L','W_PCT']\n",
    "sorted_ranking[cols]"
   ]
  },
  {
   "cell_type": "code",
   "execution_count": 4,
   "id": "47d0d8b0",
   "metadata": {},
   "outputs": [],
   "source": [
    "target_team = 'Detroit'"
   ]
  },
  {
   "cell_type": "markdown",
   "id": "abbd5ceb",
   "metadata": {},
   "source": [
    "## Detroit의  최근 5시즌 승률 그래프 그리기"
   ]
  },
  {
   "cell_type": "markdown",
   "id": "87875d8e",
   "metadata": {},
   "source": [
    "### Detroit 시즌 별 최종 승률 데이터 준비"
   ]
  },
  {
   "cell_type": "code",
   "execution_count": 5,
   "id": "fd25f184",
   "metadata": {},
   "outputs": [
    {
     "data": {
      "application/vnd.microsoft.datawrangler.viewer.v0+json": {
       "columns": [
        {
         "name": "index",
         "rawType": "int64",
         "type": "integer"
        },
        {
         "name": "TEAM_ID",
         "rawType": "int64",
         "type": "integer"
        },
        {
         "name": "LEAGUE_ID",
         "rawType": "int64",
         "type": "integer"
        },
        {
         "name": "SEASON_ID",
         "rawType": "object",
         "type": "string"
        },
        {
         "name": "STANDINGSDATE",
         "rawType": "datetime64[ns]",
         "type": "datetime"
        },
        {
         "name": "CONFERENCE",
         "rawType": "object",
         "type": "string"
        },
        {
         "name": "TEAM",
         "rawType": "object",
         "type": "string"
        },
        {
         "name": "G",
         "rawType": "int64",
         "type": "integer"
        },
        {
         "name": "W",
         "rawType": "int64",
         "type": "integer"
        },
        {
         "name": "L",
         "rawType": "int64",
         "type": "integer"
        },
        {
         "name": "W_PCT",
         "rawType": "float64",
         "type": "float"
        },
        {
         "name": "HOME_RECORD",
         "rawType": "object",
         "type": "string"
        },
        {
         "name": "ROAD_RECORD",
         "rawType": "object",
         "type": "string"
        },
        {
         "name": "RETURNTOPLAY",
         "rawType": "float64",
         "type": "float"
        }
       ],
       "ref": "39b64d89-5428-4a8a-b5a7-3b20d163a287",
       "rows": [
        [
         "181497",
         "1610612765",
         "0",
         "22002",
         "2003-10-04 00:00:00",
         "East",
         "Detroit",
         "82",
         "50",
         "32",
         "0.61",
         "30-11",
         "20-21",
         null
        ],
        [
         "181156",
         "1610612765",
         "0",
         "12003",
         "2003-10-27 00:00:00",
         "East",
         "Detroit",
         "0",
         "0",
         "0",
         "0.0",
         "0-0",
         "0-0",
         null
        ],
        [
         "175903",
         "1610612765",
         "0",
         "22003",
         "2004-10-11 00:00:00",
         "East",
         "Detroit",
         "82",
         "54",
         "28",
         "0.659",
         "31-10",
         "23-18",
         null
        ],
        [
         "175592",
         "1610612765",
         "0",
         "12004",
         "2004-11-01 00:00:00",
         "East",
         "Detroit",
         "0",
         "0",
         "0",
         "0.0",
         "0-0",
         "0-0",
         null
        ],
        [
         "170458",
         "1610612765",
         "0",
         "22004",
         "2005-10-09 00:00:00",
         "East",
         "Detroit",
         "82",
         "54",
         "28",
         "0.659",
         "32-9",
         "22-19",
         null
        ],
        [
         "170131",
         "1610612765",
         "0",
         "12005",
         "2005-10-31 00:00:00",
         "East",
         "Detroit",
         "8",
         "4",
         "4",
         "0.5",
         "4-1",
         "0-3",
         null
        ],
        [
         "165057",
         "1610612765",
         "0",
         "22005",
         "2006-10-04 00:00:00",
         "East",
         "Detroit",
         "82",
         "64",
         "18",
         "0.78",
         "37-4",
         "27-14",
         null
        ],
        [
         "164672",
         "1610612765",
         "0",
         "12006",
         "2006-10-30 00:00:00",
         "East",
         "Detroit",
         "8",
         "5",
         "3",
         "0.625",
         "3-2",
         "2-1",
         null
        ],
        [
         "159567",
         "1610612765",
         "0",
         "22006",
         "2007-10-05 00:00:00",
         "East",
         "Detroit",
         "82",
         "53",
         "29",
         "0.6459999999999999",
         "26-15",
         "27-14",
         null
        ],
        [
         "159215",
         "1610612765",
         "0",
         "12007",
         "2007-10-29 00:00:00",
         "East",
         "Detroit",
         "8",
         "4",
         "4",
         "0.5",
         "4-1",
         "0-3",
         null
        ]
       ],
       "shape": {
        "columns": 13,
        "rows": 10
       }
      },
      "text/html": [
       "<div>\n",
       "<style scoped>\n",
       "    .dataframe tbody tr th:only-of-type {\n",
       "        vertical-align: middle;\n",
       "    }\n",
       "\n",
       "    .dataframe tbody tr th {\n",
       "        vertical-align: top;\n",
       "    }\n",
       "\n",
       "    .dataframe thead th {\n",
       "        text-align: right;\n",
       "    }\n",
       "</style>\n",
       "<table border=\"1\" class=\"dataframe\">\n",
       "  <thead>\n",
       "    <tr style=\"text-align: right;\">\n",
       "      <th></th>\n",
       "      <th>TEAM_ID</th>\n",
       "      <th>LEAGUE_ID</th>\n",
       "      <th>SEASON_ID</th>\n",
       "      <th>STANDINGSDATE</th>\n",
       "      <th>CONFERENCE</th>\n",
       "      <th>TEAM</th>\n",
       "      <th>G</th>\n",
       "      <th>W</th>\n",
       "      <th>L</th>\n",
       "      <th>W_PCT</th>\n",
       "      <th>HOME_RECORD</th>\n",
       "      <th>ROAD_RECORD</th>\n",
       "      <th>RETURNTOPLAY</th>\n",
       "    </tr>\n",
       "  </thead>\n",
       "  <tbody>\n",
       "    <tr>\n",
       "      <th>181497</th>\n",
       "      <td>1610612765</td>\n",
       "      <td>0</td>\n",
       "      <td>22002</td>\n",
       "      <td>2003-10-04</td>\n",
       "      <td>East</td>\n",
       "      <td>Detroit</td>\n",
       "      <td>82</td>\n",
       "      <td>50</td>\n",
       "      <td>32</td>\n",
       "      <td>0.610</td>\n",
       "      <td>30-11</td>\n",
       "      <td>20-21</td>\n",
       "      <td>NaN</td>\n",
       "    </tr>\n",
       "    <tr>\n",
       "      <th>181156</th>\n",
       "      <td>1610612765</td>\n",
       "      <td>0</td>\n",
       "      <td>12003</td>\n",
       "      <td>2003-10-27</td>\n",
       "      <td>East</td>\n",
       "      <td>Detroit</td>\n",
       "      <td>0</td>\n",
       "      <td>0</td>\n",
       "      <td>0</td>\n",
       "      <td>0.000</td>\n",
       "      <td>0-0</td>\n",
       "      <td>0-0</td>\n",
       "      <td>NaN</td>\n",
       "    </tr>\n",
       "    <tr>\n",
       "      <th>175903</th>\n",
       "      <td>1610612765</td>\n",
       "      <td>0</td>\n",
       "      <td>22003</td>\n",
       "      <td>2004-10-11</td>\n",
       "      <td>East</td>\n",
       "      <td>Detroit</td>\n",
       "      <td>82</td>\n",
       "      <td>54</td>\n",
       "      <td>28</td>\n",
       "      <td>0.659</td>\n",
       "      <td>31-10</td>\n",
       "      <td>23-18</td>\n",
       "      <td>NaN</td>\n",
       "    </tr>\n",
       "    <tr>\n",
       "      <th>175592</th>\n",
       "      <td>1610612765</td>\n",
       "      <td>0</td>\n",
       "      <td>12004</td>\n",
       "      <td>2004-11-01</td>\n",
       "      <td>East</td>\n",
       "      <td>Detroit</td>\n",
       "      <td>0</td>\n",
       "      <td>0</td>\n",
       "      <td>0</td>\n",
       "      <td>0.000</td>\n",
       "      <td>0-0</td>\n",
       "      <td>0-0</td>\n",
       "      <td>NaN</td>\n",
       "    </tr>\n",
       "    <tr>\n",
       "      <th>170458</th>\n",
       "      <td>1610612765</td>\n",
       "      <td>0</td>\n",
       "      <td>22004</td>\n",
       "      <td>2005-10-09</td>\n",
       "      <td>East</td>\n",
       "      <td>Detroit</td>\n",
       "      <td>82</td>\n",
       "      <td>54</td>\n",
       "      <td>28</td>\n",
       "      <td>0.659</td>\n",
       "      <td>32-9</td>\n",
       "      <td>22-19</td>\n",
       "      <td>NaN</td>\n",
       "    </tr>\n",
       "    <tr>\n",
       "      <th>170131</th>\n",
       "      <td>1610612765</td>\n",
       "      <td>0</td>\n",
       "      <td>12005</td>\n",
       "      <td>2005-10-31</td>\n",
       "      <td>East</td>\n",
       "      <td>Detroit</td>\n",
       "      <td>8</td>\n",
       "      <td>4</td>\n",
       "      <td>4</td>\n",
       "      <td>0.500</td>\n",
       "      <td>4-1</td>\n",
       "      <td>0-3</td>\n",
       "      <td>NaN</td>\n",
       "    </tr>\n",
       "    <tr>\n",
       "      <th>165057</th>\n",
       "      <td>1610612765</td>\n",
       "      <td>0</td>\n",
       "      <td>22005</td>\n",
       "      <td>2006-10-04</td>\n",
       "      <td>East</td>\n",
       "      <td>Detroit</td>\n",
       "      <td>82</td>\n",
       "      <td>64</td>\n",
       "      <td>18</td>\n",
       "      <td>0.780</td>\n",
       "      <td>37-4</td>\n",
       "      <td>27-14</td>\n",
       "      <td>NaN</td>\n",
       "    </tr>\n",
       "    <tr>\n",
       "      <th>164672</th>\n",
       "      <td>1610612765</td>\n",
       "      <td>0</td>\n",
       "      <td>12006</td>\n",
       "      <td>2006-10-30</td>\n",
       "      <td>East</td>\n",
       "      <td>Detroit</td>\n",
       "      <td>8</td>\n",
       "      <td>5</td>\n",
       "      <td>3</td>\n",
       "      <td>0.625</td>\n",
       "      <td>3-2</td>\n",
       "      <td>2-1</td>\n",
       "      <td>NaN</td>\n",
       "    </tr>\n",
       "    <tr>\n",
       "      <th>159567</th>\n",
       "      <td>1610612765</td>\n",
       "      <td>0</td>\n",
       "      <td>22006</td>\n",
       "      <td>2007-10-05</td>\n",
       "      <td>East</td>\n",
       "      <td>Detroit</td>\n",
       "      <td>82</td>\n",
       "      <td>53</td>\n",
       "      <td>29</td>\n",
       "      <td>0.646</td>\n",
       "      <td>26-15</td>\n",
       "      <td>27-14</td>\n",
       "      <td>NaN</td>\n",
       "    </tr>\n",
       "    <tr>\n",
       "      <th>159215</th>\n",
       "      <td>1610612765</td>\n",
       "      <td>0</td>\n",
       "      <td>12007</td>\n",
       "      <td>2007-10-29</td>\n",
       "      <td>East</td>\n",
       "      <td>Detroit</td>\n",
       "      <td>8</td>\n",
       "      <td>4</td>\n",
       "      <td>4</td>\n",
       "      <td>0.500</td>\n",
       "      <td>4-1</td>\n",
       "      <td>0-3</td>\n",
       "      <td>NaN</td>\n",
       "    </tr>\n",
       "  </tbody>\n",
       "</table>\n",
       "</div>"
      ],
      "text/plain": [
       "           TEAM_ID  LEAGUE_ID SEASON_ID STANDINGSDATE CONFERENCE     TEAM   G  \\\n",
       "181497  1610612765          0     22002    2003-10-04       East  Detroit  82   \n",
       "181156  1610612765          0     12003    2003-10-27       East  Detroit   0   \n",
       "175903  1610612765          0     22003    2004-10-11       East  Detroit  82   \n",
       "175592  1610612765          0     12004    2004-11-01       East  Detroit   0   \n",
       "170458  1610612765          0     22004    2005-10-09       East  Detroit  82   \n",
       "170131  1610612765          0     12005    2005-10-31       East  Detroit   8   \n",
       "165057  1610612765          0     22005    2006-10-04       East  Detroit  82   \n",
       "164672  1610612765          0     12006    2006-10-30       East  Detroit   8   \n",
       "159567  1610612765          0     22006    2007-10-05       East  Detroit  82   \n",
       "159215  1610612765          0     12007    2007-10-29       East  Detroit   8   \n",
       "\n",
       "         W   L  W_PCT HOME_RECORD ROAD_RECORD  RETURNTOPLAY  \n",
       "181497  50  32  0.610       30-11       20-21           NaN  \n",
       "181156   0   0  0.000         0-0         0-0           NaN  \n",
       "175903  54  28  0.659       31-10       23-18           NaN  \n",
       "175592   0   0  0.000         0-0         0-0           NaN  \n",
       "170458  54  28  0.659        32-9       22-19           NaN  \n",
       "170131   4   4  0.500         4-1         0-3           NaN  \n",
       "165057  64  18  0.780        37-4       27-14           NaN  \n",
       "164672   5   3  0.625         3-2         2-1           NaN  \n",
       "159567  53  29  0.646       26-15       27-14           NaN  \n",
       "159215   4   4  0.500         4-1         0-3           NaN  "
      ]
     },
     "execution_count": 5,
     "metadata": {},
     "output_type": "execute_result"
    }
   ],
   "source": [
    "# Detroit의 ranking만 가져오기\n",
    "team_cond = ranking['TEAM'] == target_team\n",
    "detroit_ranking =ranking[team_cond]\n",
    "\n",
    "# 각 시즌 별 최종 랭킹\n",
    "last_date = detroit_ranking.groupby('SEASON_ID').agg({'STANDINGSDATE': 'max'})\n",
    "final_cond = detroit_ranking['STANDINGSDATE'].isin(last_date['STANDINGSDATE'])\n",
    "final_detroit_ranking = detroit_ranking[final_cond].sort_values('STANDINGSDATE')\n",
    "final_detroit_ranking.head(10)"
   ]
  },
  {
   "cell_type": "markdown",
   "id": "254dae17",
   "metadata": {},
   "source": [
    "### 필요한 시각화 라이브러리 임포트"
   ]
  },
  {
   "cell_type": "code",
   "execution_count": 6,
   "id": "2ee0ac48",
   "metadata": {},
   "outputs": [],
   "source": [
    "import matplotlib.pyplot as plt\n",
    "import seaborn as sns\n",
    "\n",
    "plt.rcParams['font.family'] = 'NanumGothic'\n",
    "%matplotlib inline"
   ]
  },
  {
   "cell_type": "markdown",
   "id": "a932be0c",
   "metadata": {},
   "source": [
    "### 꺾은선 그래프로 시각화"
   ]
  },
  {
   "cell_type": "code",
   "execution_count": 7,
   "id": "38df5ec0",
   "metadata": {},
   "outputs": [],
   "source": [
    "# 파생 변수 생성\n",
    "final_detroit_ranking['SEASON_FLAG'] = final_detroit_ranking['SEASON_ID'].apply(lambda id: id[0])\n",
    "final_detroit_ranking['YEAR'] = final_detroit_ranking['SEASON_ID'].apply(lambda id: id[1:])"
   ]
  },
  {
   "cell_type": "code",
   "execution_count": 8,
   "id": "c8fe5fd1",
   "metadata": {},
   "outputs": [
    {
     "data": {
      "image/png": "[encoded data removed]",
      "text/plain": [
       "<Figure size 1000x400 with 1 Axes>"
      ]
     },
     "metadata": {},
     "output_type": "display_data"
    }
   ],
   "source": [
    "plt.figure(figsize=(10, 4))\n",
    "sns.lineplot(final_detroit_ranking.iloc[-20:], x='YEAR', y='W_PCT', hue='SEASON_FLAG')\n",
    "\n",
    "plt.title(f'{target_team}의 시즌 별 승률')\n",
    "plt.xlabel('시즌')\n",
    "plt.ylabel('승률')\n",
    "plt.ylim((0, 1))\n",
    "plt.xticks(rotation=45)\n",
    "plt.grid(True)\n",
    "plt.tight_layout()\n",
    "plt.show()"
   ]
  },
  {
   "cell_type": "raw",
   "id": "24dd7bb0",
   "metadata": {
    "vscode": {
     "languageId": "raw"
    }
   },
   "source": [
    "과제: 프리시즌을 나가지 않은 (승률이 0인) 케이스를 어떻게 처리할 것인가"
   ]
  },
  {
   "cell_type": "markdown",
   "id": "ce5d5ee1",
   "metadata": {},
   "source": [
    "## 최근 5년 순위 그래프 그리기"
   ]
  },
  {
   "cell_type": "markdown",
   "id": "5933af83",
   "metadata": {},
   "source": [
    "## 시즌별 순위 파생 변수 생성"
   ]
  },
  {
   "cell_type": "code",
   "execution_count": 9,
   "id": "10118b09",
   "metadata": {},
   "outputs": [],
   "source": [
    "# target_team = 'L.A. Lakers'"
   ]
  },
  {
   "cell_type": "code",
   "execution_count": 10,
   "id": "10463255",
   "metadata": {},
   "outputs": [
    {
     "data": {
      "application/vnd.microsoft.datawrangler.viewer.v0+json": {
       "columns": [
        {
         "name": "index",
         "rawType": "int64",
         "type": "integer"
        },
        {
         "name": "TEAM_ID",
         "rawType": "int64",
         "type": "integer"
        },
        {
         "name": "LEAGUE_ID",
         "rawType": "int64",
         "type": "integer"
        },
        {
         "name": "SEASON_ID",
         "rawType": "object",
         "type": "string"
        },
        {
         "name": "STANDINGSDATE",
         "rawType": "datetime64[ns]",
         "type": "datetime"
        },
        {
         "name": "CONFERENCE",
         "rawType": "object",
         "type": "string"
        },
        {
         "name": "TEAM",
         "rawType": "object",
         "type": "string"
        },
        {
         "name": "G",
         "rawType": "int64",
         "type": "integer"
        },
        {
         "name": "W",
         "rawType": "int64",
         "type": "integer"
        },
        {
         "name": "L",
         "rawType": "int64",
         "type": "integer"
        },
        {
         "name": "W_PCT",
         "rawType": "float64",
         "type": "float"
        },
        {
         "name": "HOME_RECORD",
         "rawType": "object",
         "type": "string"
        },
        {
         "name": "ROAD_RECORD",
         "rawType": "object",
         "type": "string"
        },
        {
         "name": "RETURNTOPLAY",
         "rawType": "float64",
         "type": "float"
        },
        {
         "name": "SEASON_RANK",
         "rawType": "float64",
         "type": "float"
        }
       ],
       "ref": "d3362241-f28b-44c2-8d32-00e07c929b93",
       "rows": [
        [
         "92896",
         "1610612742",
         "0",
         "22002",
         "2003-10-04 00:00:00",
         "West",
         "Dallas",
         "82",
         "60",
         "22",
         "0.732",
         "33-8",
         "27-14",
         null,
         "1.0"
        ],
        [
         "92897",
         "1610612759",
         "0",
         "22002",
         "2003-10-04 00:00:00",
         "West",
         "San Antonio",
         "82",
         "60",
         "22",
         "0.732",
         "33-8",
         "27-14",
         null,
         "1.0"
        ],
        [
         "92898",
         "1610612758",
         "0",
         "22002",
         "2003-10-04 00:00:00",
         "West",
         "Sacramento",
         "82",
         "59",
         "23",
         "0.72",
         "35-6",
         "24-17",
         null,
         "3.0"
        ],
        [
         "92899",
         "1610612750",
         "0",
         "22002",
         "2003-10-04 00:00:00",
         "West",
         "Minnesota",
         "82",
         "51",
         "31",
         "0.622",
         "33-8",
         "18-23",
         null,
         "4.0"
        ],
        [
         "92900",
         "1610612747",
         "0",
         "22002",
         "2003-10-04 00:00:00",
         "West",
         "L.A. Lakers",
         "82",
         "50",
         "32",
         "0.61",
         "31-10",
         "19-22",
         null,
         "5.0"
        ],
        [
         "92901",
         "1610612757",
         "0",
         "22002",
         "2003-10-04 00:00:00",
         "West",
         "Portland",
         "82",
         "50",
         "32",
         "0.61",
         "27-14",
         "23-18",
         null,
         "5.0"
        ],
        [
         "181497",
         "1610612765",
         "0",
         "22002",
         "2003-10-04 00:00:00",
         "East",
         "Detroit",
         "82",
         "50",
         "32",
         "0.61",
         "30-11",
         "20-21",
         null,
         "5.0"
        ],
        [
         "181498",
         "1610612751",
         "0",
         "22002",
         "2003-10-04 00:00:00",
         "East",
         "New Jersey",
         "82",
         "49",
         "33",
         "0.598",
         "33-8",
         "16-25",
         null,
         "8.0"
        ],
        [
         "181499",
         "1610612754",
         "0",
         "22002",
         "2003-10-04 00:00:00",
         "East",
         "Indiana",
         "82",
         "48",
         "34",
         "0.585",
         "32-9",
         "16-25",
         null,
         "9.0"
        ],
        [
         "181500",
         "1610612755",
         "0",
         "22002",
         "2003-10-04 00:00:00",
         "East",
         "Philadelphia",
         "82",
         "48",
         "34",
         "0.585",
         "25-16",
         "23-18",
         null,
         "9.0"
        ],
        [
         "92902",
         "1610612762",
         "0",
         "22002",
         "2003-10-04 00:00:00",
         "West",
         "Utah",
         "82",
         "47",
         "35",
         "0.573",
         "29-12",
         "18-23",
         null,
         "11.0"
        ],
        [
         "181501",
         "1610612740",
         "0",
         "22002",
         "2003-10-04 00:00:00",
         "East",
         "New Orleans",
         "82",
         "47",
         "35",
         "0.573",
         "29-12",
         "18-23",
         null,
         "11.0"
        ],
        [
         "92903",
         "1610612756",
         "0",
         "22002",
         "2003-10-04 00:00:00",
         "West",
         "Phoenix",
         "82",
         "44",
         "38",
         "0.537",
         "30-11",
         "14-27",
         null,
         "13.0"
        ],
        [
         "181502",
         "1610612738",
         "0",
         "22002",
         "2003-10-04 00:00:00",
         "East",
         "Boston",
         "82",
         "44",
         "38",
         "0.537",
         "25-16",
         "19-22",
         null,
         "13.0"
        ],
        [
         "92904",
         "1610612745",
         "0",
         "22002",
         "2003-10-04 00:00:00",
         "West",
         "Houston",
         "82",
         "43",
         "39",
         "0.524",
         "28-13",
         "15-26",
         null,
         "15.0"
        ],
        [
         "181503",
         "1610612749",
         "0",
         "22002",
         "2003-10-04 00:00:00",
         "East",
         "Milwaukee",
         "82",
         "42",
         "40",
         "0.512",
         "25-16",
         "17-24",
         null,
         "16.0"
        ],
        [
         "181504",
         "1610612753",
         "0",
         "22002",
         "2003-10-04 00:00:00",
         "East",
         "Orlando",
         "82",
         "42",
         "40",
         "0.512",
         "26-15",
         "16-25",
         null,
         "16.0"
        ],
        [
         "92905",
         "1610612760",
         "0",
         "22002",
         "2003-10-04 00:00:00",
         "West",
         "Seattle",
         "82",
         "40",
         "42",
         "0.488",
         "25-16",
         "15-26",
         null,
         "18.0"
        ],
        [
         "92906",
         "1610612744",
         "0",
         "22002",
         "2003-10-04 00:00:00",
         "West",
         "Golden State",
         "82",
         "38",
         "44",
         "0.4629999999999999",
         "24-17",
         "14-27",
         null,
         "19.0"
        ],
        [
         "181505",
         "1610612752",
         "0",
         "22002",
         "2003-10-04 00:00:00",
         "East",
         "New York",
         "82",
         "37",
         "45",
         "0.451",
         "24-17",
         "13-28",
         null,
         "20.0"
        ],
        [
         "181506",
         "1610612764",
         "0",
         "22002",
         "2003-10-04 00:00:00",
         "East",
         "Washington",
         "82",
         "37",
         "45",
         "0.451",
         "23-18",
         "14-27",
         null,
         "20.0"
        ],
        [
         "181507",
         "1610612737",
         "0",
         "22002",
         "2003-10-04 00:00:00",
         "East",
         "Atlanta",
         "82",
         "35",
         "47",
         "0.4270000000000001",
         "26-15",
         "9-32",
         null,
         "22.0"
        ],
        [
         "181508",
         "1610612741",
         "0",
         "22002",
         "2003-10-04 00:00:00",
         "East",
         "Chicago",
         "82",
         "30",
         "52",
         "0.366",
         "27-14",
         "3-38",
         null,
         "23.0"
        ],
        [
         "92907",
         "1610612763",
         "0",
         "22002",
         "2003-10-04 00:00:00",
         "West",
         "Memphis",
         "82",
         "28",
         "54",
         "0.341",
         "20-21",
         "8-33",
         null,
         "24.0"
        ],
        [
         "92908",
         "1610612746",
         "0",
         "22002",
         "2003-10-04 00:00:00",
         "West",
         "L.A. Clippers",
         "82",
         "27",
         "55",
         "0.3289999999999999",
         "16-25",
         "11-30",
         null,
         "25.0"
        ],
        [
         "181509",
         "1610612748",
         "0",
         "22002",
         "2003-10-04 00:00:00",
         "East",
         "Miami",
         "82",
         "25",
         "57",
         "0.305",
         "16-25",
         "9-32",
         null,
         "26.0"
        ],
        [
         "181510",
         "1610612761",
         "0",
         "22002",
         "2003-10-04 00:00:00",
         "East",
         "Toronto",
         "82",
         "24",
         "58",
         "0.293",
         "15-26",
         "9-32",
         null,
         "27.0"
        ],
        [
         "92909",
         "1610612743",
         "0",
         "22002",
         "2003-10-04 00:00:00",
         "West",
         "Denver",
         "82",
         "17",
         "65",
         "0.207",
         "13-28",
         "4-37",
         null,
         "28.0"
        ],
        [
         "181511",
         "1610612739",
         "0",
         "22002",
         "2003-10-04 00:00:00",
         "East",
         "Cleveland",
         "82",
         "17",
         "65",
         "0.207",
         "14-27",
         "3-38",
         null,
         "28.0"
        ],
        [
         "92574",
         "1610612742",
         "0",
         "12003",
         "2003-10-27 00:00:00",
         "West",
         "Dallas",
         "0",
         "0",
         "0",
         "0.0",
         "0-0",
         "0-0",
         null,
         "1.0"
        ],
        [
         "92575",
         "1610612743",
         "0",
         "12003",
         "2003-10-27 00:00:00",
         "West",
         "Denver",
         "0",
         "0",
         "0",
         "0.0",
         "0-0",
         "0-0",
         null,
         "1.0"
        ],
        [
         "92576",
         "1610612744",
         "0",
         "12003",
         "2003-10-27 00:00:00",
         "West",
         "Golden State",
         "0",
         "0",
         "0",
         "0.0",
         "0-0",
         "0-0",
         null,
         "1.0"
        ],
        [
         "92577",
         "1610612745",
         "0",
         "12003",
         "2003-10-27 00:00:00",
         "West",
         "Houston",
         "0",
         "0",
         "0",
         "0.0",
         "0-0",
         "0-0",
         null,
         "1.0"
        ],
        [
         "92578",
         "1610612746",
         "0",
         "12003",
         "2003-10-27 00:00:00",
         "West",
         "L.A. Clippers",
         "0",
         "0",
         "0",
         "0.0",
         "0-0",
         "0-0",
         null,
         "1.0"
        ],
        [
         "92579",
         "1610612747",
         "0",
         "12003",
         "2003-10-27 00:00:00",
         "West",
         "L.A. Lakers",
         "0",
         "0",
         "0",
         "0.0",
         "0-0",
         "0-0",
         null,
         "1.0"
        ],
        [
         "92580",
         "1610612763",
         "0",
         "12003",
         "2003-10-27 00:00:00",
         "West",
         "Memphis",
         "0",
         "0",
         "0",
         "0.0",
         "0-0",
         "0-0",
         null,
         "1.0"
        ],
        [
         "92581",
         "1610612750",
         "0",
         "12003",
         "2003-10-27 00:00:00",
         "West",
         "Minnesota",
         "0",
         "0",
         "0",
         "0.0",
         "0-0",
         "0-0",
         null,
         "1.0"
        ],
        [
         "92582",
         "1610612756",
         "0",
         "12003",
         "2003-10-27 00:00:00",
         "West",
         "Phoenix",
         "0",
         "0",
         "0",
         "0.0",
         "0-0",
         "0-0",
         null,
         "1.0"
        ],
        [
         "92583",
         "1610612757",
         "0",
         "12003",
         "2003-10-27 00:00:00",
         "West",
         "Portland",
         "0",
         "0",
         "0",
         "0.0",
         "0-0",
         "0-0",
         null,
         "1.0"
        ],
        [
         "92584",
         "1610612758",
         "0",
         "12003",
         "2003-10-27 00:00:00",
         "West",
         "Sacramento",
         "0",
         "0",
         "0",
         "0.0",
         "0-0",
         "0-0",
         null,
         "1.0"
        ],
        [
         "92585",
         "1610612759",
         "0",
         "12003",
         "2003-10-27 00:00:00",
         "West",
         "San Antonio",
         "0",
         "0",
         "0",
         "0.0",
         "0-0",
         "0-0",
         null,
         "1.0"
        ],
        [
         "92586",
         "1610612760",
         "0",
         "12003",
         "2003-10-27 00:00:00",
         "West",
         "Seattle",
         "0",
         "0",
         "0",
         "0.0",
         "0-0",
         "0-0",
         null,
         "1.0"
        ],
        [
         "92587",
         "1610612762",
         "0",
         "12003",
         "2003-10-27 00:00:00",
         "West",
         "Utah",
         "0",
         "0",
         "0",
         "0.0",
         "0-0",
         "0-0",
         null,
         "1.0"
        ],
        [
         "181152",
         "1610612737",
         "0",
         "12003",
         "2003-10-27 00:00:00",
         "East",
         "Atlanta",
         "0",
         "0",
         "0",
         "0.0",
         "0-0",
         "0-0",
         null,
         "1.0"
        ],
        [
         "181153",
         "1610612738",
         "0",
         "12003",
         "2003-10-27 00:00:00",
         "East",
         "Boston",
         "0",
         "0",
         "0",
         "0.0",
         "0-0",
         "0-0",
         null,
         "1.0"
        ],
        [
         "181154",
         "1610612741",
         "0",
         "12003",
         "2003-10-27 00:00:00",
         "East",
         "Chicago",
         "0",
         "0",
         "0",
         "0.0",
         "0-0",
         "0-0",
         null,
         "1.0"
        ],
        [
         "181155",
         "1610612739",
         "0",
         "12003",
         "2003-10-27 00:00:00",
         "East",
         "Cleveland",
         "0",
         "0",
         "0",
         "0.0",
         "0-0",
         "0-0",
         null,
         "1.0"
        ],
        [
         "181156",
         "1610612765",
         "0",
         "12003",
         "2003-10-27 00:00:00",
         "East",
         "Detroit",
         "0",
         "0",
         "0",
         "0.0",
         "0-0",
         "0-0",
         null,
         "1.0"
        ],
        [
         "181157",
         "1610612754",
         "0",
         "12003",
         "2003-10-27 00:00:00",
         "East",
         "Indiana",
         "0",
         "0",
         "0",
         "0.0",
         "0-0",
         "0-0",
         null,
         "1.0"
        ],
        [
         "181158",
         "1610612748",
         "0",
         "12003",
         "2003-10-27 00:00:00",
         "East",
         "Miami",
         "0",
         "0",
         "0",
         "0.0",
         "0-0",
         "0-0",
         null,
         "1.0"
        ]
       ],
       "shape": {
        "columns": 14,
        "rows": 1230
       }
      },
      "text/html": [
       "<div>\n",
       "<style scoped>\n",
       "    .dataframe tbody tr th:only-of-type {\n",
       "        vertical-align: middle;\n",
       "    }\n",
       "\n",
       "    .dataframe tbody tr th {\n",
       "        vertical-align: top;\n",
       "    }\n",
       "\n",
       "    .dataframe thead th {\n",
       "        text-align: right;\n",
       "    }\n",
       "</style>\n",
       "<table border=\"1\" class=\"dataframe\">\n",
       "  <thead>\n",
       "    <tr style=\"text-align: right;\">\n",
       "      <th></th>\n",
       "      <th>TEAM_ID</th>\n",
       "      <th>LEAGUE_ID</th>\n",
       "      <th>SEASON_ID</th>\n",
       "      <th>STANDINGSDATE</th>\n",
       "      <th>CONFERENCE</th>\n",
       "      <th>TEAM</th>\n",
       "      <th>G</th>\n",
       "      <th>W</th>\n",
       "      <th>L</th>\n",
       "      <th>W_PCT</th>\n",
       "      <th>HOME_RECORD</th>\n",
       "      <th>ROAD_RECORD</th>\n",
       "      <th>RETURNTOPLAY</th>\n",
       "      <th>SEASON_RANK</th>\n",
       "    </tr>\n",
       "  </thead>\n",
       "  <tbody>\n",
       "    <tr>\n",
       "      <th>92896</th>\n",
       "      <td>1610612742</td>\n",
       "      <td>0</td>\n",
       "      <td>22002</td>\n",
       "      <td>2003-10-04</td>\n",
       "      <td>West</td>\n",
       "      <td>Dallas</td>\n",
       "      <td>82</td>\n",
       "      <td>60</td>\n",
       "      <td>22</td>\n",
       "      <td>0.732</td>\n",
       "      <td>33-8</td>\n",
       "      <td>27-14</td>\n",
       "      <td>NaN</td>\n",
       "      <td>1.0</td>\n",
       "    </tr>\n",
       "    <tr>\n",
       "      <th>92897</th>\n",
       "      <td>1610612759</td>\n",
       "      <td>0</td>\n",
       "      <td>22002</td>\n",
       "      <td>2003-10-04</td>\n",
       "      <td>West</td>\n",
       "      <td>San Antonio</td>\n",
       "      <td>82</td>\n",
       "      <td>60</td>\n",
       "      <td>22</td>\n",
       "      <td>0.732</td>\n",
       "      <td>33-8</td>\n",
       "      <td>27-14</td>\n",
       "      <td>NaN</td>\n",
       "      <td>1.0</td>\n",
       "    </tr>\n",
       "    <tr>\n",
       "      <th>92898</th>\n",
       "      <td>1610612758</td>\n",
       "      <td>0</td>\n",
       "      <td>22002</td>\n",
       "      <td>2003-10-04</td>\n",
       "      <td>West</td>\n",
       "      <td>Sacramento</td>\n",
       "      <td>82</td>\n",
       "      <td>59</td>\n",
       "      <td>23</td>\n",
       "      <td>0.720</td>\n",
       "      <td>35-6</td>\n",
       "      <td>24-17</td>\n",
       "      <td>NaN</td>\n",
       "      <td>3.0</td>\n",
       "    </tr>\n",
       "    <tr>\n",
       "      <th>92899</th>\n",
       "      <td>1610612750</td>\n",
       "      <td>0</td>\n",
       "      <td>22002</td>\n",
       "      <td>2003-10-04</td>\n",
       "      <td>West</td>\n",
       "      <td>Minnesota</td>\n",
       "      <td>82</td>\n",
       "      <td>51</td>\n",
       "      <td>31</td>\n",
       "      <td>0.622</td>\n",
       "      <td>33-8</td>\n",
       "      <td>18-23</td>\n",
       "      <td>NaN</td>\n",
       "      <td>4.0</td>\n",
       "    </tr>\n",
       "    <tr>\n",
       "      <th>92900</th>\n",
       "      <td>1610612747</td>\n",
       "      <td>0</td>\n",
       "      <td>22002</td>\n",
       "      <td>2003-10-04</td>\n",
       "      <td>West</td>\n",
       "      <td>L.A. Lakers</td>\n",
       "      <td>82</td>\n",
       "      <td>50</td>\n",
       "      <td>32</td>\n",
       "      <td>0.610</td>\n",
       "      <td>31-10</td>\n",
       "      <td>19-22</td>\n",
       "      <td>NaN</td>\n",
       "      <td>5.0</td>\n",
       "    </tr>\n",
       "    <tr>\n",
       "      <th>...</th>\n",
       "      <td>...</td>\n",
       "      <td>...</td>\n",
       "      <td>...</td>\n",
       "      <td>...</td>\n",
       "      <td>...</td>\n",
       "      <td>...</td>\n",
       "      <td>...</td>\n",
       "      <td>...</td>\n",
       "      <td>...</td>\n",
       "      <td>...</td>\n",
       "      <td>...</td>\n",
       "      <td>...</td>\n",
       "      <td>...</td>\n",
       "      <td>...</td>\n",
       "    </tr>\n",
       "    <tr>\n",
       "      <th>4287</th>\n",
       "      <td>1610612764</td>\n",
       "      <td>0</td>\n",
       "      <td>22022</td>\n",
       "      <td>2022-12-22</td>\n",
       "      <td>East</td>\n",
       "      <td>Washington</td>\n",
       "      <td>33</td>\n",
       "      <td>12</td>\n",
       "      <td>21</td>\n",
       "      <td>0.364</td>\n",
       "      <td>8-7</td>\n",
       "      <td>4-14</td>\n",
       "      <td>NaN</td>\n",
       "      <td>25.0</td>\n",
       "    </tr>\n",
       "    <tr>\n",
       "      <th>13</th>\n",
       "      <td>1610612759</td>\n",
       "      <td>0</td>\n",
       "      <td>22022</td>\n",
       "      <td>2022-12-22</td>\n",
       "      <td>West</td>\n",
       "      <td>San Antonio</td>\n",
       "      <td>31</td>\n",
       "      <td>10</td>\n",
       "      <td>21</td>\n",
       "      <td>0.323</td>\n",
       "      <td>5-12</td>\n",
       "      <td>5-9</td>\n",
       "      <td>NaN</td>\n",
       "      <td>27.0</td>\n",
       "    </tr>\n",
       "    <tr>\n",
       "      <th>14</th>\n",
       "      <td>1610612745</td>\n",
       "      <td>0</td>\n",
       "      <td>22022</td>\n",
       "      <td>2022-12-22</td>\n",
       "      <td>West</td>\n",
       "      <td>Houston</td>\n",
       "      <td>31</td>\n",
       "      <td>9</td>\n",
       "      <td>22</td>\n",
       "      <td>0.290</td>\n",
       "      <td>6-9</td>\n",
       "      <td>3-13</td>\n",
       "      <td>NaN</td>\n",
       "      <td>28.0</td>\n",
       "    </tr>\n",
       "    <tr>\n",
       "      <th>4288</th>\n",
       "      <td>1610612766</td>\n",
       "      <td>0</td>\n",
       "      <td>22022</td>\n",
       "      <td>2022-12-22</td>\n",
       "      <td>East</td>\n",
       "      <td>Charlotte</td>\n",
       "      <td>32</td>\n",
       "      <td>8</td>\n",
       "      <td>24</td>\n",
       "      <td>0.250</td>\n",
       "      <td>4-11</td>\n",
       "      <td>4-13</td>\n",
       "      <td>NaN</td>\n",
       "      <td>29.0</td>\n",
       "    </tr>\n",
       "    <tr>\n",
       "      <th>4289</th>\n",
       "      <td>1610612765</td>\n",
       "      <td>0</td>\n",
       "      <td>22022</td>\n",
       "      <td>2022-12-22</td>\n",
       "      <td>East</td>\n",
       "      <td>Detroit</td>\n",
       "      <td>34</td>\n",
       "      <td>8</td>\n",
       "      <td>26</td>\n",
       "      <td>0.235</td>\n",
       "      <td>4-12</td>\n",
       "      <td>4-14</td>\n",
       "      <td>NaN</td>\n",
       "      <td>30.0</td>\n",
       "    </tr>\n",
       "  </tbody>\n",
       "</table>\n",
       "<p>1230 rows × 14 columns</p>\n",
       "</div>"
      ],
      "text/plain": [
       "          TEAM_ID  LEAGUE_ID SEASON_ID STANDINGSDATE CONFERENCE         TEAM  \\\n",
       "92896  1610612742          0     22002    2003-10-04       West       Dallas   \n",
       "92897  1610612759          0     22002    2003-10-04       West  San Antonio   \n",
       "92898  1610612758          0     22002    2003-10-04       West   Sacramento   \n",
       "92899  1610612750          0     22002    2003-10-04       West    Minnesota   \n",
       "92900  1610612747          0     22002    2003-10-04       West  L.A. Lakers   \n",
       "...           ...        ...       ...           ...        ...          ...   \n",
       "4287   1610612764          0     22022    2022-12-22       East   Washington   \n",
       "13     1610612759          0     22022    2022-12-22       West  San Antonio   \n",
       "14     1610612745          0     22022    2022-12-22       West      Houston   \n",
       "4288   1610612766          0     22022    2022-12-22       East    Charlotte   \n",
       "4289   1610612765          0     22022    2022-12-22       East      Detroit   \n",
       "\n",
       "        G   W   L  W_PCT HOME_RECORD ROAD_RECORD  RETURNTOPLAY  SEASON_RANK  \n",
       "92896  82  60  22  0.732        33-8       27-14           NaN          1.0  \n",
       "92897  82  60  22  0.732        33-8       27-14           NaN          1.0  \n",
       "92898  82  59  23  0.720        35-6       24-17           NaN          3.0  \n",
       "92899  82  51  31  0.622        33-8       18-23           NaN          4.0  \n",
       "92900  82  50  32  0.610       31-10       19-22           NaN          5.0  \n",
       "...    ..  ..  ..    ...         ...         ...           ...          ...  \n",
       "4287   33  12  21  0.364         8-7        4-14           NaN         25.0  \n",
       "13     31  10  21  0.323        5-12         5-9           NaN         27.0  \n",
       "14     31   9  22  0.290         6-9        3-13           NaN         28.0  \n",
       "4288   32   8  24  0.250        4-11        4-13           NaN         29.0  \n",
       "4289   34   8  26  0.235        4-12        4-14           NaN         30.0  \n",
       "\n",
       "[1230 rows x 14 columns]"
      ]
     },
     "execution_count": 10,
     "metadata": {},
     "output_type": "execute_result"
    }
   ],
   "source": [
    "last_date = ranking.groupby('SEASON_ID').agg({'STANDINGSDATE': 'max'})\n",
    "last_date_cond = ranking['STANDINGSDATE'].isin(last_date['STANDINGSDATE'])\n",
    "final_ranking = ranking[last_date_cond].copy()\n",
    "final_ranking['SEASON_RANK'] = final_ranking.groupby('SEASON_ID')['W_PCT'].rank(method='min', ascending=False)\n",
    "\n",
    "final_ranking.sort_values(by=['STANDINGSDATE', 'SEASON_RANK'])"
   ]
  },
  {
   "cell_type": "markdown",
   "id": "cabf78d3",
   "metadata": {},
   "source": [
    "### 순위 그래프 그리기"
   ]
  },
  {
   "cell_type": "code",
   "execution_count": 11,
   "id": "9d0a298e",
   "metadata": {},
   "outputs": [],
   "source": [
    "# 파생 변수 생성\n",
    "final_ranking['SEASON_FLAG'] = final_ranking['SEASON_ID'].apply(lambda id: id[0])\n",
    "final_ranking['YEAR'] = final_ranking['SEASON_ID'].apply(lambda id: id[1:])"
   ]
  },
  {
   "cell_type": "code",
   "execution_count": 12,
   "id": "9f94ee45",
   "metadata": {},
   "outputs": [
    {
     "data": {
      "application/vnd.microsoft.datawrangler.viewer.v0+json": {
       "columns": [
        {
         "name": "index",
         "rawType": "int64",
         "type": "integer"
        },
        {
         "name": "TEAM_ID",
         "rawType": "int64",
         "type": "integer"
        },
        {
         "name": "LEAGUE_ID",
         "rawType": "int64",
         "type": "integer"
        },
        {
         "name": "SEASON_ID",
         "rawType": "object",
         "type": "string"
        },
        {
         "name": "STANDINGSDATE",
         "rawType": "datetime64[ns]",
         "type": "datetime"
        },
        {
         "name": "CONFERENCE",
         "rawType": "object",
         "type": "string"
        },
        {
         "name": "TEAM",
         "rawType": "object",
         "type": "string"
        },
        {
         "name": "G",
         "rawType": "int64",
         "type": "integer"
        },
        {
         "name": "W",
         "rawType": "int64",
         "type": "integer"
        },
        {
         "name": "L",
         "rawType": "int64",
         "type": "integer"
        },
        {
         "name": "W_PCT",
         "rawType": "float64",
         "type": "float"
        },
        {
         "name": "HOME_RECORD",
         "rawType": "object",
         "type": "string"
        },
        {
         "name": "ROAD_RECORD",
         "rawType": "object",
         "type": "string"
        },
        {
         "name": "RETURNTOPLAY",
         "rawType": "float64",
         "type": "float"
        },
        {
         "name": "SEASON_RANK",
         "rawType": "float64",
         "type": "float"
        },
        {
         "name": "SEASON_FLAG",
         "rawType": "object",
         "type": "string"
        },
        {
         "name": "YEAR",
         "rawType": "object",
         "type": "string"
        }
       ],
       "ref": "e7bbab84-5de8-4750-9619-85d562a46f9b",
       "rows": [
        [
         "181497",
         "1610612765",
         "0",
         "22002",
         "2003-10-04 00:00:00",
         "East",
         "Detroit",
         "82",
         "50",
         "32",
         "0.61",
         "30-11",
         "20-21",
         null,
         "5.0",
         "2",
         "2002"
        ],
        [
         "181156",
         "1610612765",
         "0",
         "12003",
         "2003-10-27 00:00:00",
         "East",
         "Detroit",
         "0",
         "0",
         "0",
         "0.0",
         "0-0",
         "0-0",
         null,
         "1.0",
         "1",
         "2003"
        ],
        [
         "175903",
         "1610612765",
         "0",
         "22003",
         "2004-10-11 00:00:00",
         "East",
         "Detroit",
         "82",
         "54",
         "28",
         "0.659",
         "31-10",
         "23-18",
         null,
         "6.0",
         "2",
         "2003"
        ],
        [
         "175592",
         "1610612765",
         "0",
         "12004",
         "2004-11-01 00:00:00",
         "East",
         "Detroit",
         "0",
         "0",
         "0",
         "0.0",
         "0-0",
         "0-0",
         null,
         "1.0",
         "1",
         "2004"
        ],
        [
         "170458",
         "1610612765",
         "0",
         "22004",
         "2005-10-09 00:00:00",
         "East",
         "Detroit",
         "82",
         "54",
         "28",
         "0.659",
         "32-9",
         "22-19",
         null,
         "5.0",
         "2",
         "2004"
        ],
        [
         "170131",
         "1610612765",
         "0",
         "12005",
         "2005-10-31 00:00:00",
         "East",
         "Detroit",
         "8",
         "4",
         "4",
         "0.5",
         "4-1",
         "0-3",
         null,
         "12.0",
         "1",
         "2005"
        ],
        [
         "165057",
         "1610612765",
         "0",
         "22005",
         "2006-10-04 00:00:00",
         "East",
         "Detroit",
         "82",
         "64",
         "18",
         "0.78",
         "37-4",
         "27-14",
         null,
         "1.0",
         "2",
         "2005"
        ],
        [
         "164672",
         "1610612765",
         "0",
         "12006",
         "2006-10-30 00:00:00",
         "East",
         "Detroit",
         "8",
         "5",
         "3",
         "0.625",
         "3-2",
         "2-1",
         null,
         "7.0",
         "1",
         "2006"
        ],
        [
         "159567",
         "1610612765",
         "0",
         "22006",
         "2007-10-05 00:00:00",
         "East",
         "Detroit",
         "82",
         "53",
         "29",
         "0.6459999999999999",
         "26-15",
         "27-14",
         null,
         "4.0",
         "2",
         "2006"
        ],
        [
         "159215",
         "1610612765",
         "0",
         "12007",
         "2007-10-29 00:00:00",
         "East",
         "Detroit",
         "8",
         "4",
         "4",
         "0.5",
         "4-1",
         "0-3",
         null,
         "18.0",
         "1",
         "2007"
        ],
        [
         "154093",
         "1610612765",
         "0",
         "22007",
         "2008-10-04 00:00:00",
         "East",
         "Detroit",
         "82",
         "59",
         "23",
         "0.72",
         "34-7",
         "25-16",
         null,
         "2.0",
         "2",
         "2007"
        ],
        [
         "153749",
         "1610612765",
         "0",
         "12008",
         "2008-10-27 00:00:00",
         "East",
         "Detroit",
         "8",
         "6",
         "2",
         "0.75",
         "3-2",
         "3-0",
         null,
         "4.0",
         "1",
         "2008"
        ],
        [
         "148684",
         "1610612765",
         "0",
         "22008",
         "2009-09-30 00:00:00",
         "East",
         "Detroit",
         "82",
         "39",
         "43",
         "0.476",
         "21-20",
         "18-23",
         null,
         "17.0",
         "2",
         "2008"
        ],
        [
         "148294",
         "1610612765",
         "0",
         "12009",
         "2009-10-26 00:00:00",
         "East",
         "Detroit",
         "8",
         "4",
         "4",
         "0.5",
         "3-2",
         "1-2",
         null,
         "12.0",
         "1",
         "2009"
        ],
        [
         "143183",
         "1610612765",
         "0",
         "22009",
         "2010-10-02 00:00:00",
         "East",
         "Detroit",
         "82",
         "27",
         "55",
         "0.3289999999999999",
         "17-24",
         "10-31",
         null,
         "24.0",
         "2",
         "2009"
        ],
        [
         "142836",
         "1610612765",
         "0",
         "12010",
         "2010-10-25 00:00:00",
         "East",
         "Detroit",
         "8",
         "3",
         "5",
         "0.375",
         "3-2",
         "0-3",
         null,
         "21.0",
         "1",
         "2010"
        ],
        [
         "136597",
         "1610612765",
         "0",
         "22010",
         "2011-12-15 00:00:00",
         "East",
         "Detroit",
         "82",
         "30",
         "52",
         "0.366",
         "21-20",
         "9-32",
         null,
         "24.0",
         "2",
         "2010"
        ],
        [
         "136459",
         "1610612765",
         "0",
         "12011",
         "2011-12-24 00:00:00",
         "East",
         "Detroit",
         "2",
         "1",
         "1",
         "0.5",
         "0-1",
         "1-0",
         null,
         "10.0",
         "1",
         "2011"
        ],
        [
         "132186",
         "1610612765",
         "0",
         "22011",
         "2012-10-04 00:00:00",
         "East",
         "Detroit",
         "66",
         "25",
         "41",
         "0.379",
         "18-15",
         "7-26",
         null,
         "22.0",
         "2",
         "2011"
        ],
        [
         "131806",
         "1610612765",
         "0",
         "12012",
         "2012-10-29 00:00:00",
         "East",
         "Detroit",
         "8",
         "4",
         "4",
         "0.5",
         "4-0",
         "0-4",
         null,
         "14.0",
         "1",
         "2012"
        ],
        [
         "126712",
         "1610612765",
         "0",
         "22012",
         "2013-10-04 00:00:00",
         "East",
         "Detroit",
         "82",
         "29",
         "53",
         "0.354",
         "18-23",
         "11-30",
         null,
         "23.0",
         "2",
         "2012"
        ],
        [
         "126348",
         "1610612765",
         "0",
         "12013",
         "2013-10-28 00:00:00",
         "East",
         "Detroit",
         "8",
         "4",
         "4",
         "0.5",
         "3-1",
         "1-3",
         null,
         "14.0",
         "1",
         "2013"
        ],
        [
         "209857",
         "1610612765",
         "0",
         "22013",
         "2014-10-03 00:00:00",
         "East",
         "Detroit",
         "82",
         "29",
         "53",
         "0.354",
         "17-24",
         "12-29",
         null,
         "23.0",
         "2",
         "2013"
        ],
        [
         "209489",
         "1610612765",
         "0",
         "12014",
         "2014-10-27 00:00:00",
         "East",
         "Detroit",
         "7",
         "5",
         "2",
         "0.7140000000000001",
         "3-0",
         "2-2",
         null,
         "4.0",
         "1",
         "2014"
        ],
        [
         "204413",
         "1610612765",
         "0",
         "22014",
         "2015-10-01 00:00:00",
         "East",
         "Detroit",
         "82",
         "32",
         "50",
         "0.39",
         "18-23",
         "14-27",
         null,
         "23.0",
         "2",
         "2014"
        ],
        [
         "204037",
         "1610612765",
         "0",
         "12015",
         "2015-10-26 00:00:00",
         "East",
         "Detroit",
         "8",
         "3",
         "5",
         "0.375",
         "1-3",
         "2-2",
         null,
         "21.0",
         "1",
         "2015"
        ],
        [
         "198934",
         "1610612765",
         "0",
         "22015",
         "2016-09-30 00:00:00",
         "East",
         "Detroit",
         "82",
         "44",
         "38",
         "0.537",
         "26-15",
         "18-23",
         null,
         "12.0",
         "2",
         "2015"
        ],
        [
         "198573",
         "1610612765",
         "0",
         "12016",
         "2016-10-24 00:00:00",
         "East",
         "Detroit",
         "6",
         "3",
         "3",
         "0.5",
         "1-2",
         "2-1",
         null,
         "13.0",
         "1",
         "2016"
        ],
        [
         "193476",
         "1610612765",
         "0",
         "22016",
         "2017-09-29 00:00:00",
         "East",
         "Detroit",
         "82",
         "37",
         "45",
         "0.451",
         "24-17",
         "13-28",
         null,
         "19.0",
         "2",
         "2016"
        ],
        [
         "193222",
         "1610612765",
         "0",
         "12017",
         "2017-10-16 00:00:00",
         "East",
         "Detroit",
         "5",
         "2",
         "3",
         "0.4",
         "2-1",
         "0-2",
         null,
         "19.0",
         "1",
         "2017"
        ],
        [
         "188030",
         "1610612765",
         "0",
         "22017",
         "2018-09-27 00:00:00",
         "East",
         "Detroit",
         "82",
         "39",
         "43",
         "0.476",
         "25-16",
         "14-27",
         null,
         "19.0",
         "2",
         "2017"
        ],
        [
         "187764",
         "1610612765",
         "0",
         "12018",
         "2018-10-15 00:00:00",
         "East",
         "Detroit",
         "5",
         "2",
         "3",
         "0.4",
         "0-2",
         "2-1",
         null,
         "20.0",
         "1",
         "2018"
        ],
        [
         "182524",
         "1610612765",
         "0",
         "22018",
         "2019-09-29 00:00:00",
         "East",
         "Detroit",
         "82",
         "41",
         "41",
         "0.5",
         "26-15",
         "15-26",
         null,
         "16.0",
         "2",
         "2018"
        ],
        [
         "28572",
         "1610612765",
         "0",
         "12019",
         "2020-07-29 00:00:00",
         "East",
         "Detroit",
         "0",
         "0",
         "0",
         "0.0",
         "0-0",
         "0-0",
         null,
         "21.0",
         "1",
         "2019"
        ],
        [
         "26561",
         "1610612765",
         "0",
         "22019",
         "2020-12-10 00:00:00",
         "East",
         "Detroit",
         "66",
         "20",
         "46",
         "0.303",
         "11-22",
         "9-24",
         "0.0",
         "26.0",
         "2",
         "2019"
        ],
        [
         "19597",
         "1610612765",
         "0",
         "12020",
         "2020-12-21 00:00:00",
         "East",
         "Detroit",
         "4",
         "2",
         "2",
         "0.5",
         "1-1",
         "1-1",
         null,
         "14.0",
         "1",
         "2020"
        ],
        [
         "15329",
         "1610612765",
         "0",
         "22020",
         "2021-10-02 00:00:00",
         "East",
         "Detroit",
         "72",
         "20",
         "52",
         "0.278",
         "13-23",
         "7-29",
         null,
         "29.0",
         "2",
         "2020"
        ],
        [
         "15082",
         "1610612765",
         "0",
         "12021",
         "2021-10-18 00:00:00",
         "East",
         "Detroit",
         "4",
         "2",
         "2",
         "0.5",
         "2-0",
         "0-2",
         null,
         "12.0",
         "1",
         "2021"
        ],
        [
         "5548",
         "1610612765",
         "0",
         "22021",
         "2022-09-29 00:00:00",
         "East",
         "Detroit",
         "82",
         "23",
         "59",
         "0.28",
         "13-28",
         "10-31",
         null,
         "28.0",
         "2",
         "2021"
        ],
        [
         "5279",
         "1610612765",
         "0",
         "12022",
         "2022-10-17 00:00:00",
         "East",
         "Detroit",
         "4",
         "0",
         "4",
         "0.0",
         "0-2",
         "0-2",
         null,
         "28.0",
         "1",
         "2022"
        ],
        [
         "4289",
         "1610612765",
         "0",
         "22022",
         "2022-12-22 00:00:00",
         "East",
         "Detroit",
         "34",
         "8",
         "26",
         "0.235",
         "4-12",
         "4-14",
         null,
         "30.0",
         "2",
         "2022"
        ]
       ],
       "shape": {
        "columns": 16,
        "rows": 41
       }
      },
      "text/html": [
       "<div>\n",
       "<style scoped>\n",
       "    .dataframe tbody tr th:only-of-type {\n",
       "        vertical-align: middle;\n",
       "    }\n",
       "\n",
       "    .dataframe tbody tr th {\n",
       "        vertical-align: top;\n",
       "    }\n",
       "\n",
       "    .dataframe thead th {\n",
       "        text-align: right;\n",
       "    }\n",
       "</style>\n",
       "<table border=\"1\" class=\"dataframe\">\n",
       "  <thead>\n",
       "    <tr style=\"text-align: right;\">\n",
       "      <th></th>\n",
       "      <th>TEAM_ID</th>\n",
       "      <th>LEAGUE_ID</th>\n",
       "      <th>SEASON_ID</th>\n",
       "      <th>STANDINGSDATE</th>\n",
       "      <th>CONFERENCE</th>\n",
       "      <th>TEAM</th>\n",
       "      <th>G</th>\n",
       "      <th>W</th>\n",
       "      <th>L</th>\n",
       "      <th>W_PCT</th>\n",
       "      <th>HOME_RECORD</th>\n",
       "      <th>ROAD_RECORD</th>\n",
       "      <th>RETURNTOPLAY</th>\n",
       "      <th>SEASON_RANK</th>\n",
       "      <th>SEASON_FLAG</th>\n",
       "      <th>YEAR</th>\n",
       "    </tr>\n",
       "  </thead>\n",
       "  <tbody>\n",
       "    <tr>\n",
       "      <th>181497</th>\n",
       "      <td>1610612765</td>\n",
       "      <td>0</td>\n",
       "      <td>22002</td>\n",
       "      <td>2003-10-04</td>\n",
       "      <td>East</td>\n",
       "      <td>Detroit</td>\n",
       "      <td>82</td>\n",
       "      <td>50</td>\n",
       "      <td>32</td>\n",
       "      <td>0.610</td>\n",
       "      <td>30-11</td>\n",
       "      <td>20-21</td>\n",
       "      <td>NaN</td>\n",
       "      <td>5.0</td>\n",
       "      <td>2</td>\n",
       "      <td>2002</td>\n",
       "    </tr>\n",
       "    <tr>\n",
       "      <th>181156</th>\n",
       "      <td>1610612765</td>\n",
       "      <td>0</td>\n",
       "      <td>12003</td>\n",
       "      <td>2003-10-27</td>\n",
       "      <td>East</td>\n",
       "      <td>Detroit</td>\n",
       "      <td>0</td>\n",
       "      <td>0</td>\n",
       "      <td>0</td>\n",
       "      <td>0.000</td>\n",
       "      <td>0-0</td>\n",
       "      <td>0-0</td>\n",
       "      <td>NaN</td>\n",
       "      <td>1.0</td>\n",
       "      <td>1</td>\n",
       "      <td>2003</td>\n",
       "    </tr>\n",
       "    <tr>\n",
       "      <th>175903</th>\n",
       "      <td>1610612765</td>\n",
       "      <td>0</td>\n",
       "      <td>22003</td>\n",
       "      <td>2004-10-11</td>\n",
       "      <td>East</td>\n",
       "      <td>Detroit</td>\n",
       "      <td>82</td>\n",
       "      <td>54</td>\n",
       "      <td>28</td>\n",
       "      <td>0.659</td>\n",
       "      <td>31-10</td>\n",
       "      <td>23-18</td>\n",
       "      <td>NaN</td>\n",
       "      <td>6.0</td>\n",
       "      <td>2</td>\n",
       "      <td>2003</td>\n",
       "    </tr>\n",
       "    <tr>\n",
       "      <th>175592</th>\n",
       "      <td>1610612765</td>\n",
       "      <td>0</td>\n",
       "      <td>12004</td>\n",
       "      <td>2004-11-01</td>\n",
       "      <td>East</td>\n",
       "      <td>Detroit</td>\n",
       "      <td>0</td>\n",
       "      <td>0</td>\n",
       "      <td>0</td>\n",
       "      <td>0.000</td>\n",
       "      <td>0-0</td>\n",
       "      <td>0-0</td>\n",
       "      <td>NaN</td>\n",
       "      <td>1.0</td>\n",
       "      <td>1</td>\n",
       "      <td>2004</td>\n",
       "    </tr>\n",
       "    <tr>\n",
       "      <th>170458</th>\n",
       "      <td>1610612765</td>\n",
       "      <td>0</td>\n",
       "      <td>22004</td>\n",
       "      <td>2005-10-09</td>\n",
       "      <td>East</td>\n",
       "      <td>Detroit</td>\n",
       "      <td>82</td>\n",
       "      <td>54</td>\n",
       "      <td>28</td>\n",
       "      <td>0.659</td>\n",
       "      <td>32-9</td>\n",
       "      <td>22-19</td>\n",
       "      <td>NaN</td>\n",
       "      <td>5.0</td>\n",
       "      <td>2</td>\n",
       "      <td>2004</td>\n",
       "    </tr>\n",
       "    <tr>\n",
       "      <th>170131</th>\n",
       "      <td>1610612765</td>\n",
       "      <td>0</td>\n",
       "      <td>12005</td>\n",
       "      <td>2005-10-31</td>\n",
       "      <td>East</td>\n",
       "      <td>Detroit</td>\n",
       "      <td>8</td>\n",
       "      <td>4</td>\n",
       "      <td>4</td>\n",
       "      <td>0.500</td>\n",
       "      <td>4-1</td>\n",
       "      <td>0-3</td>\n",
       "      <td>NaN</td>\n",
       "      <td>12.0</td>\n",
       "      <td>1</td>\n",
       "      <td>2005</td>\n",
       "    </tr>\n",
       "    <tr>\n",
       "      <th>165057</th>\n",
       "      <td>1610612765</td>\n",
       "      <td>0</td>\n",
       "      <td>22005</td>\n",
       "      <td>2006-10-04</td>\n",
       "      <td>East</td>\n",
       "      <td>Detroit</td>\n",
       "      <td>82</td>\n",
       "      <td>64</td>\n",
       "      <td>18</td>\n",
       "      <td>0.780</td>\n",
       "      <td>37-4</td>\n",
       "      <td>27-14</td>\n",
       "      <td>NaN</td>\n",
       "      <td>1.0</td>\n",
       "      <td>2</td>\n",
       "      <td>2005</td>\n",
       "    </tr>\n",
       "    <tr>\n",
       "      <th>164672</th>\n",
       "      <td>1610612765</td>\n",
       "      <td>0</td>\n",
       "      <td>12006</td>\n",
       "      <td>2006-10-30</td>\n",
       "      <td>East</td>\n",
       "      <td>Detroit</td>\n",
       "      <td>8</td>\n",
       "      <td>5</td>\n",
       "      <td>3</td>\n",
       "      <td>0.625</td>\n",
       "      <td>3-2</td>\n",
       "      <td>2-1</td>\n",
       "      <td>NaN</td>\n",
       "      <td>7.0</td>\n",
       "      <td>1</td>\n",
       "      <td>2006</td>\n",
       "    </tr>\n",
       "    <tr>\n",
       "      <th>159567</th>\n",
       "      <td>1610612765</td>\n",
       "      <td>0</td>\n",
       "      <td>22006</td>\n",
       "      <td>2007-10-05</td>\n",
       "      <td>East</td>\n",
       "      <td>Detroit</td>\n",
       "      <td>82</td>\n",
       "      <td>53</td>\n",
       "      <td>29</td>\n",
       "      <td>0.646</td>\n",
       "      <td>26-15</td>\n",
       "      <td>27-14</td>\n",
       "      <td>NaN</td>\n",
       "      <td>4.0</td>\n",
       "      <td>2</td>\n",
       "      <td>2006</td>\n",
       "    </tr>\n",
       "    <tr>\n",
       "      <th>159215</th>\n",
       "      <td>1610612765</td>\n",
       "      <td>0</td>\n",
       "      <td>12007</td>\n",
       "      <td>2007-10-29</td>\n",
       "      <td>East</td>\n",
       "      <td>Detroit</td>\n",
       "      <td>8</td>\n",
       "      <td>4</td>\n",
       "      <td>4</td>\n",
       "      <td>0.500</td>\n",
       "      <td>4-1</td>\n",
       "      <td>0-3</td>\n",
       "      <td>NaN</td>\n",
       "      <td>18.0</td>\n",
       "      <td>1</td>\n",
       "      <td>2007</td>\n",
       "    </tr>\n",
       "    <tr>\n",
       "      <th>154093</th>\n",
       "      <td>1610612765</td>\n",
       "      <td>0</td>\n",
       "      <td>22007</td>\n",
       "      <td>2008-10-04</td>\n",
       "      <td>East</td>\n",
       "      <td>Detroit</td>\n",
       "      <td>82</td>\n",
       "      <td>59</td>\n",
       "      <td>23</td>\n",
       "      <td>0.720</td>\n",
       "      <td>34-7</td>\n",
       "      <td>25-16</td>\n",
       "      <td>NaN</td>\n",
       "      <td>2.0</td>\n",
       "      <td>2</td>\n",
       "      <td>2007</td>\n",
       "    </tr>\n",
       "    <tr>\n",
       "      <th>153749</th>\n",
       "      <td>1610612765</td>\n",
       "      <td>0</td>\n",
       "      <td>12008</td>\n",
       "      <td>2008-10-27</td>\n",
       "      <td>East</td>\n",
       "      <td>Detroit</td>\n",
       "      <td>8</td>\n",
       "      <td>6</td>\n",
       "      <td>2</td>\n",
       "      <td>0.750</td>\n",
       "      <td>3-2</td>\n",
       "      <td>3-0</td>\n",
       "      <td>NaN</td>\n",
       "      <td>4.0</td>\n",
       "      <td>1</td>\n",
       "      <td>2008</td>\n",
       "    </tr>\n",
       "    <tr>\n",
       "      <th>148684</th>\n",
       "      <td>1610612765</td>\n",
       "      <td>0</td>\n",
       "      <td>22008</td>\n",
       "      <td>2009-09-30</td>\n",
       "      <td>East</td>\n",
       "      <td>Detroit</td>\n",
       "      <td>82</td>\n",
       "      <td>39</td>\n",
       "      <td>43</td>\n",
       "      <td>0.476</td>\n",
       "      <td>21-20</td>\n",
       "      <td>18-23</td>\n",
       "      <td>NaN</td>\n",
       "      <td>17.0</td>\n",
       "      <td>2</td>\n",
       "      <td>2008</td>\n",
       "    </tr>\n",
       "    <tr>\n",
       "      <th>148294</th>\n",
       "      <td>1610612765</td>\n",
       "      <td>0</td>\n",
       "      <td>12009</td>\n",
       "      <td>2009-10-26</td>\n",
       "      <td>East</td>\n",
       "      <td>Detroit</td>\n",
       "      <td>8</td>\n",
       "      <td>4</td>\n",
       "      <td>4</td>\n",
       "      <td>0.500</td>\n",
       "      <td>3-2</td>\n",
       "      <td>1-2</td>\n",
       "      <td>NaN</td>\n",
       "      <td>12.0</td>\n",
       "      <td>1</td>\n",
       "      <td>2009</td>\n",
       "    </tr>\n",
       "    <tr>\n",
       "      <th>143183</th>\n",
       "      <td>1610612765</td>\n",
       "      <td>0</td>\n",
       "      <td>22009</td>\n",
       "      <td>2010-10-02</td>\n",
       "      <td>East</td>\n",
       "      <td>Detroit</td>\n",
       "      <td>82</td>\n",
       "      <td>27</td>\n",
       "      <td>55</td>\n",
       "      <td>0.329</td>\n",
       "      <td>17-24</td>\n",
       "      <td>10-31</td>\n",
       "      <td>NaN</td>\n",
       "      <td>24.0</td>\n",
       "      <td>2</td>\n",
       "      <td>2009</td>\n",
       "    </tr>\n",
       "    <tr>\n",
       "      <th>142836</th>\n",
       "      <td>1610612765</td>\n",
       "      <td>0</td>\n",
       "      <td>12010</td>\n",
       "      <td>2010-10-25</td>\n",
       "      <td>East</td>\n",
       "      <td>Detroit</td>\n",
       "      <td>8</td>\n",
       "      <td>3</td>\n",
       "      <td>5</td>\n",
       "      <td>0.375</td>\n",
       "      <td>3-2</td>\n",
       "      <td>0-3</td>\n",
       "      <td>NaN</td>\n",
       "      <td>21.0</td>\n",
       "      <td>1</td>\n",
       "      <td>2010</td>\n",
       "    </tr>\n",
       "    <tr>\n",
       "      <th>136597</th>\n",
       "      <td>1610612765</td>\n",
       "      <td>0</td>\n",
       "      <td>22010</td>\n",
       "      <td>2011-12-15</td>\n",
       "      <td>East</td>\n",
       "      <td>Detroit</td>\n",
       "      <td>82</td>\n",
       "      <td>30</td>\n",
       "      <td>52</td>\n",
       "      <td>0.366</td>\n",
       "      <td>21-20</td>\n",
       "      <td>9-32</td>\n",
       "      <td>NaN</td>\n",
       "      <td>24.0</td>\n",
       "      <td>2</td>\n",
       "      <td>2010</td>\n",
       "    </tr>\n",
       "    <tr>\n",
       "      <th>136459</th>\n",
       "      <td>1610612765</td>\n",
       "      <td>0</td>\n",
       "      <td>12011</td>\n",
       "      <td>2011-12-24</td>\n",
       "      <td>East</td>\n",
       "      <td>Detroit</td>\n",
       "      <td>2</td>\n",
       "      <td>1</td>\n",
       "      <td>1</td>\n",
       "      <td>0.500</td>\n",
       "      <td>0-1</td>\n",
       "      <td>1-0</td>\n",
       "      <td>NaN</td>\n",
       "      <td>10.0</td>\n",
       "      <td>1</td>\n",
       "      <td>2011</td>\n",
       "    </tr>\n",
       "    <tr>\n",
       "      <th>132186</th>\n",
       "      <td>1610612765</td>\n",
       "      <td>0</td>\n",
       "      <td>22011</td>\n",
       "      <td>2012-10-04</td>\n",
       "      <td>East</td>\n",
       "      <td>Detroit</td>\n",
       "      <td>66</td>\n",
       "      <td>25</td>\n",
       "      <td>41</td>\n",
       "      <td>0.379</td>\n",
       "      <td>18-15</td>\n",
       "      <td>7-26</td>\n",
       "      <td>NaN</td>\n",
       "      <td>22.0</td>\n",
       "      <td>2</td>\n",
       "      <td>2011</td>\n",
       "    </tr>\n",
       "    <tr>\n",
       "      <th>131806</th>\n",
       "      <td>1610612765</td>\n",
       "      <td>0</td>\n",
       "      <td>12012</td>\n",
       "      <td>2012-10-29</td>\n",
       "      <td>East</td>\n",
       "      <td>Detroit</td>\n",
       "      <td>8</td>\n",
       "      <td>4</td>\n",
       "      <td>4</td>\n",
       "      <td>0.500</td>\n",
       "      <td>4-0</td>\n",
       "      <td>0-4</td>\n",
       "      <td>NaN</td>\n",
       "      <td>14.0</td>\n",
       "      <td>1</td>\n",
       "      <td>2012</td>\n",
       "    </tr>\n",
       "    <tr>\n",
       "      <th>126712</th>\n",
       "      <td>1610612765</td>\n",
       "      <td>0</td>\n",
       "      <td>22012</td>\n",
       "      <td>2013-10-04</td>\n",
       "      <td>East</td>\n",
       "      <td>Detroit</td>\n",
       "      <td>82</td>\n",
       "      <td>29</td>\n",
       "      <td>53</td>\n",
       "      <td>0.354</td>\n",
       "      <td>18-23</td>\n",
       "      <td>11-30</td>\n",
       "      <td>NaN</td>\n",
       "      <td>23.0</td>\n",
       "      <td>2</td>\n",
       "      <td>2012</td>\n",
       "    </tr>\n",
       "    <tr>\n",
       "      <th>126348</th>\n",
       "      <td>1610612765</td>\n",
       "      <td>0</td>\n",
       "      <td>12013</td>\n",
       "      <td>2013-10-28</td>\n",
       "      <td>East</td>\n",
       "      <td>Detroit</td>\n",
       "      <td>8</td>\n",
       "      <td>4</td>\n",
       "      <td>4</td>\n",
       "      <td>0.500</td>\n",
       "      <td>3-1</td>\n",
       "      <td>1-3</td>\n",
       "      <td>NaN</td>\n",
       "      <td>14.0</td>\n",
       "      <td>1</td>\n",
       "      <td>2013</td>\n",
       "    </tr>\n",
       "    <tr>\n",
       "      <th>209857</th>\n",
       "      <td>1610612765</td>\n",
       "      <td>0</td>\n",
       "      <td>22013</td>\n",
       "      <td>2014-10-03</td>\n",
       "      <td>East</td>\n",
       "      <td>Detroit</td>\n",
       "      <td>82</td>\n",
       "      <td>29</td>\n",
       "      <td>53</td>\n",
       "      <td>0.354</td>\n",
       "      <td>17-24</td>\n",
       "      <td>12-29</td>\n",
       "      <td>NaN</td>\n",
       "      <td>23.0</td>\n",
       "      <td>2</td>\n",
       "      <td>2013</td>\n",
       "    </tr>\n",
       "    <tr>\n",
       "      <th>209489</th>\n",
       "      <td>1610612765</td>\n",
       "      <td>0</td>\n",
       "      <td>12014</td>\n",
       "      <td>2014-10-27</td>\n",
       "      <td>East</td>\n",
       "      <td>Detroit</td>\n",
       "      <td>7</td>\n",
       "      <td>5</td>\n",
       "      <td>2</td>\n",
       "      <td>0.714</td>\n",
       "      <td>3-0</td>\n",
       "      <td>2-2</td>\n",
       "      <td>NaN</td>\n",
       "      <td>4.0</td>\n",
       "      <td>1</td>\n",
       "      <td>2014</td>\n",
       "    </tr>\n",
       "    <tr>\n",
       "      <th>204413</th>\n",
       "      <td>1610612765</td>\n",
       "      <td>0</td>\n",
       "      <td>22014</td>\n",
       "      <td>2015-10-01</td>\n",
       "      <td>East</td>\n",
       "      <td>Detroit</td>\n",
       "      <td>82</td>\n",
       "      <td>32</td>\n",
       "      <td>50</td>\n",
       "      <td>0.390</td>\n",
       "      <td>18-23</td>\n",
       "      <td>14-27</td>\n",
       "      <td>NaN</td>\n",
       "      <td>23.0</td>\n",
       "      <td>2</td>\n",
       "      <td>2014</td>\n",
       "    </tr>\n",
       "    <tr>\n",
       "      <th>204037</th>\n",
       "      <td>1610612765</td>\n",
       "      <td>0</td>\n",
       "      <td>12015</td>\n",
       "      <td>2015-10-26</td>\n",
       "      <td>East</td>\n",
       "      <td>Detroit</td>\n",
       "      <td>8</td>\n",
       "      <td>3</td>\n",
       "      <td>5</td>\n",
       "      <td>0.375</td>\n",
       "      <td>1-3</td>\n",
       "      <td>2-2</td>\n",
       "      <td>NaN</td>\n",
       "      <td>21.0</td>\n",
       "      <td>1</td>\n",
       "      <td>2015</td>\n",
       "    </tr>\n",
       "    <tr>\n",
       "      <th>198934</th>\n",
       "      <td>1610612765</td>\n",
       "      <td>0</td>\n",
       "      <td>22015</td>\n",
       "      <td>2016-09-30</td>\n",
       "      <td>East</td>\n",
       "      <td>Detroit</td>\n",
       "      <td>82</td>\n",
       "      <td>44</td>\n",
       "      <td>38</td>\n",
       "      <td>0.537</td>\n",
       "      <td>26-15</td>\n",
       "      <td>18-23</td>\n",
       "      <td>NaN</td>\n",
       "      <td>12.0</td>\n",
       "      <td>2</td>\n",
       "      <td>2015</td>\n",
       "    </tr>\n",
       "    <tr>\n",
       "      <th>198573</th>\n",
       "      <td>1610612765</td>\n",
       "      <td>0</td>\n",
       "      <td>12016</td>\n",
       "      <td>2016-10-24</td>\n",
       "      <td>East</td>\n",
       "      <td>Detroit</td>\n",
       "      <td>6</td>\n",
       "      <td>3</td>\n",
       "      <td>3</td>\n",
       "      <td>0.500</td>\n",
       "      <td>1-2</td>\n",
       "      <td>2-1</td>\n",
       "      <td>NaN</td>\n",
       "      <td>13.0</td>\n",
       "      <td>1</td>\n",
       "      <td>2016</td>\n",
       "    </tr>\n",
       "    <tr>\n",
       "      <th>193476</th>\n",
       "      <td>1610612765</td>\n",
       "      <td>0</td>\n",
       "      <td>22016</td>\n",
       "      <td>2017-09-29</td>\n",
       "      <td>East</td>\n",
       "      <td>Detroit</td>\n",
       "      <td>82</td>\n",
       "      <td>37</td>\n",
       "      <td>45</td>\n",
       "      <td>0.451</td>\n",
       "      <td>24-17</td>\n",
       "      <td>13-28</td>\n",
       "      <td>NaN</td>\n",
       "      <td>19.0</td>\n",
       "      <td>2</td>\n",
       "      <td>2016</td>\n",
       "    </tr>\n",
       "    <tr>\n",
       "      <th>193222</th>\n",
       "      <td>1610612765</td>\n",
       "      <td>0</td>\n",
       "      <td>12017</td>\n",
       "      <td>2017-10-16</td>\n",
       "      <td>East</td>\n",
       "      <td>Detroit</td>\n",
       "      <td>5</td>\n",
       "      <td>2</td>\n",
       "      <td>3</td>\n",
       "      <td>0.400</td>\n",
       "      <td>2-1</td>\n",
       "      <td>0-2</td>\n",
       "      <td>NaN</td>\n",
       "      <td>19.0</td>\n",
       "      <td>1</td>\n",
       "      <td>2017</td>\n",
       "    </tr>\n",
       "    <tr>\n",
       "      <th>188030</th>\n",
       "      <td>1610612765</td>\n",
       "      <td>0</td>\n",
       "      <td>22017</td>\n",
       "      <td>2018-09-27</td>\n",
       "      <td>East</td>\n",
       "      <td>Detroit</td>\n",
       "      <td>82</td>\n",
       "      <td>39</td>\n",
       "      <td>43</td>\n",
       "      <td>0.476</td>\n",
       "      <td>25-16</td>\n",
       "      <td>14-27</td>\n",
       "      <td>NaN</td>\n",
       "      <td>19.0</td>\n",
       "      <td>2</td>\n",
       "      <td>2017</td>\n",
       "    </tr>\n",
       "    <tr>\n",
       "      <th>187764</th>\n",
       "      <td>1610612765</td>\n",
       "      <td>0</td>\n",
       "      <td>12018</td>\n",
       "      <td>2018-10-15</td>\n",
       "      <td>East</td>\n",
       "      <td>Detroit</td>\n",
       "      <td>5</td>\n",
       "      <td>2</td>\n",
       "      <td>3</td>\n",
       "      <td>0.400</td>\n",
       "      <td>0-2</td>\n",
       "      <td>2-1</td>\n",
       "      <td>NaN</td>\n",
       "      <td>20.0</td>\n",
       "      <td>1</td>\n",
       "      <td>2018</td>\n",
       "    </tr>\n",
       "    <tr>\n",
       "      <th>182524</th>\n",
       "      <td>1610612765</td>\n",
       "      <td>0</td>\n",
       "      <td>22018</td>\n",
       "      <td>2019-09-29</td>\n",
       "      <td>East</td>\n",
       "      <td>Detroit</td>\n",
       "      <td>82</td>\n",
       "      <td>41</td>\n",
       "      <td>41</td>\n",
       "      <td>0.500</td>\n",
       "      <td>26-15</td>\n",
       "      <td>15-26</td>\n",
       "      <td>NaN</td>\n",
       "      <td>16.0</td>\n",
       "      <td>2</td>\n",
       "      <td>2018</td>\n",
       "    </tr>\n",
       "    <tr>\n",
       "      <th>28572</th>\n",
       "      <td>1610612765</td>\n",
       "      <td>0</td>\n",
       "      <td>12019</td>\n",
       "      <td>2020-07-29</td>\n",
       "      <td>East</td>\n",
       "      <td>Detroit</td>\n",
       "      <td>0</td>\n",
       "      <td>0</td>\n",
       "      <td>0</td>\n",
       "      <td>0.000</td>\n",
       "      <td>0-0</td>\n",
       "      <td>0-0</td>\n",
       "      <td>NaN</td>\n",
       "      <td>21.0</td>\n",
       "      <td>1</td>\n",
       "      <td>2019</td>\n",
       "    </tr>\n",
       "    <tr>\n",
       "      <th>26561</th>\n",
       "      <td>1610612765</td>\n",
       "      <td>0</td>\n",
       "      <td>22019</td>\n",
       "      <td>2020-12-10</td>\n",
       "      <td>East</td>\n",
       "      <td>Detroit</td>\n",
       "      <td>66</td>\n",
       "      <td>20</td>\n",
       "      <td>46</td>\n",
       "      <td>0.303</td>\n",
       "      <td>11-22</td>\n",
       "      <td>9-24</td>\n",
       "      <td>0.0</td>\n",
       "      <td>26.0</td>\n",
       "      <td>2</td>\n",
       "      <td>2019</td>\n",
       "    </tr>\n",
       "    <tr>\n",
       "      <th>19597</th>\n",
       "      <td>1610612765</td>\n",
       "      <td>0</td>\n",
       "      <td>12020</td>\n",
       "      <td>2020-12-21</td>\n",
       "      <td>East</td>\n",
       "      <td>Detroit</td>\n",
       "      <td>4</td>\n",
       "      <td>2</td>\n",
       "      <td>2</td>\n",
       "      <td>0.500</td>\n",
       "      <td>1-1</td>\n",
       "      <td>1-1</td>\n",
       "      <td>NaN</td>\n",
       "      <td>14.0</td>\n",
       "      <td>1</td>\n",
       "      <td>2020</td>\n",
       "    </tr>\n",
       "    <tr>\n",
       "      <th>15329</th>\n",
       "      <td>1610612765</td>\n",
       "      <td>0</td>\n",
       "      <td>22020</td>\n",
       "      <td>2021-10-02</td>\n",
       "      <td>East</td>\n",
       "      <td>Detroit</td>\n",
       "      <td>72</td>\n",
       "      <td>20</td>\n",
       "      <td>52</td>\n",
       "      <td>0.278</td>\n",
       "      <td>13-23</td>\n",
       "      <td>7-29</td>\n",
       "      <td>NaN</td>\n",
       "      <td>29.0</td>\n",
       "      <td>2</td>\n",
       "      <td>2020</td>\n",
       "    </tr>\n",
       "    <tr>\n",
       "      <th>15082</th>\n",
       "      <td>1610612765</td>\n",
       "      <td>0</td>\n",
       "      <td>12021</td>\n",
       "      <td>2021-10-18</td>\n",
       "      <td>East</td>\n",
       "      <td>Detroit</td>\n",
       "      <td>4</td>\n",
       "      <td>2</td>\n",
       "      <td>2</td>\n",
       "      <td>0.500</td>\n",
       "      <td>2-0</td>\n",
       "      <td>0-2</td>\n",
       "      <td>NaN</td>\n",
       "      <td>12.0</td>\n",
       "      <td>1</td>\n",
       "      <td>2021</td>\n",
       "    </tr>\n",
       "    <tr>\n",
       "      <th>5548</th>\n",
       "      <td>1610612765</td>\n",
       "      <td>0</td>\n",
       "      <td>22021</td>\n",
       "      <td>2022-09-29</td>\n",
       "      <td>East</td>\n",
       "      <td>Detroit</td>\n",
       "      <td>82</td>\n",
       "      <td>23</td>\n",
       "      <td>59</td>\n",
       "      <td>0.280</td>\n",
       "      <td>13-28</td>\n",
       "      <td>10-31</td>\n",
       "      <td>NaN</td>\n",
       "      <td>28.0</td>\n",
       "      <td>2</td>\n",
       "      <td>2021</td>\n",
       "    </tr>\n",
       "    <tr>\n",
       "      <th>5279</th>\n",
       "      <td>1610612765</td>\n",
       "      <td>0</td>\n",
       "      <td>12022</td>\n",
       "      <td>2022-10-17</td>\n",
       "      <td>East</td>\n",
       "      <td>Detroit</td>\n",
       "      <td>4</td>\n",
       "      <td>0</td>\n",
       "      <td>4</td>\n",
       "      <td>0.000</td>\n",
       "      <td>0-2</td>\n",
       "      <td>0-2</td>\n",
       "      <td>NaN</td>\n",
       "      <td>28.0</td>\n",
       "      <td>1</td>\n",
       "      <td>2022</td>\n",
       "    </tr>\n",
       "    <tr>\n",
       "      <th>4289</th>\n",
       "      <td>1610612765</td>\n",
       "      <td>0</td>\n",
       "      <td>22022</td>\n",
       "      <td>2022-12-22</td>\n",
       "      <td>East</td>\n",
       "      <td>Detroit</td>\n",
       "      <td>34</td>\n",
       "      <td>8</td>\n",
       "      <td>26</td>\n",
       "      <td>0.235</td>\n",
       "      <td>4-12</td>\n",
       "      <td>4-14</td>\n",
       "      <td>NaN</td>\n",
       "      <td>30.0</td>\n",
       "      <td>2</td>\n",
       "      <td>2022</td>\n",
       "    </tr>\n",
       "  </tbody>\n",
       "</table>\n",
       "</div>"
      ],
      "text/plain": [
       "           TEAM_ID  LEAGUE_ID SEASON_ID STANDINGSDATE CONFERENCE     TEAM   G  \\\n",
       "181497  1610612765          0     22002    2003-10-04       East  Detroit  82   \n",
       "181156  1610612765          0     12003    2003-10-27       East  Detroit   0   \n",
       "175903  1610612765          0     22003    2004-10-11       East  Detroit  82   \n",
       "175592  1610612765          0     12004    2004-11-01       East  Detroit   0   \n",
       "170458  1610612765          0     22004    2005-10-09       East  Detroit  82   \n",
       "170131  1610612765          0     12005    2005-10-31       East  Detroit   8   \n",
       "165057  1610612765          0     22005    2006-10-04       East  Detroit  82   \n",
       "164672  1610612765          0     12006    2006-10-30       East  Detroit   8   \n",
       "159567  1610612765          0     22006    2007-10-05       East  Detroit  82   \n",
       "159215  1610612765          0     12007    2007-10-29       East  Detroit   8   \n",
       "154093  1610612765          0     22007    2008-10-04       East  Detroit  82   \n",
       "153749  1610612765          0     12008    2008-10-27       East  Detroit   8   \n",
       "148684  1610612765          0     22008    2009-09-30       East  Detroit  82   \n",
       "148294  1610612765          0     12009    2009-10-26       East  Detroit   8   \n",
       "143183  1610612765          0     22009    2010-10-02       East  Detroit  82   \n",
       "142836  1610612765          0     12010    2010-10-25       East  Detroit   8   \n",
       "136597  1610612765          0     22010    2011-12-15       East  Detroit  82   \n",
       "136459  1610612765          0     12011    2011-12-24       East  Detroit   2   \n",
       "132186  1610612765          0     22011    2012-10-04       East  Detroit  66   \n",
       "131806  1610612765          0     12012    2012-10-29       East  Detroit   8   \n",
       "126712  1610612765          0     22012    2013-10-04       East  Detroit  82   \n",
       "126348  1610612765          0     12013    2013-10-28       East  Detroit   8   \n",
       "209857  1610612765          0     22013    2014-10-03       East  Detroit  82   \n",
       "209489  1610612765          0     12014    2014-10-27       East  Detroit   7   \n",
       "204413  1610612765          0     22014    2015-10-01       East  Detroit  82   \n",
       "204037  1610612765          0     12015    2015-10-26       East  Detroit   8   \n",
       "198934  1610612765          0     22015    2016-09-30       East  Detroit  82   \n",
       "198573  1610612765          0     12016    2016-10-24       East  Detroit   6   \n",
       "193476  1610612765          0     22016    2017-09-29       East  Detroit  82   \n",
       "193222  1610612765          0     12017    2017-10-16       East  Detroit   5   \n",
       "188030  1610612765          0     22017    2018-09-27       East  Detroit  82   \n",
       "187764  1610612765          0     12018    2018-10-15       East  Detroit   5   \n",
       "182524  1610612765          0     22018    2019-09-29       East  Detroit  82   \n",
       "28572   1610612765          0     12019    2020-07-29       East  Detroit   0   \n",
       "26561   1610612765          0     22019    2020-12-10       East  Detroit  66   \n",
       "19597   1610612765          0     12020    2020-12-21       East  Detroit   4   \n",
       "15329   1610612765          0     22020    2021-10-02       East  Detroit  72   \n",
       "15082   1610612765          0     12021    2021-10-18       East  Detroit   4   \n",
       "5548    1610612765          0     22021    2022-09-29       East  Detroit  82   \n",
       "5279    1610612765          0     12022    2022-10-17       East  Detroit   4   \n",
       "4289    1610612765          0     22022    2022-12-22       East  Detroit  34   \n",
       "\n",
       "         W   L  W_PCT HOME_RECORD ROAD_RECORD  RETURNTOPLAY  SEASON_RANK  \\\n",
       "181497  50  32  0.610       30-11       20-21           NaN          5.0   \n",
       "181156   0   0  0.000         0-0         0-0           NaN          1.0   \n",
       "175903  54  28  0.659       31-10       23-18           NaN          6.0   \n",
       "175592   0   0  0.000         0-0         0-0           NaN          1.0   \n",
       "170458  54  28  0.659        32-9       22-19           NaN          5.0   \n",
       "170131   4   4  0.500         4-1         0-3           NaN         12.0   \n",
       "165057  64  18  0.780        37-4       27-14           NaN          1.0   \n",
       "164672   5   3  0.625         3-2         2-1           NaN          7.0   \n",
       "159567  53  29  0.646       26-15       27-14           NaN          4.0   \n",
       "159215   4   4  0.500         4-1         0-3           NaN         18.0   \n",
       "154093  59  23  0.720        34-7       25-16           NaN          2.0   \n",
       "153749   6   2  0.750         3-2         3-0           NaN          4.0   \n",
       "148684  39  43  0.476       21-20       18-23           NaN         17.0   \n",
       "148294   4   4  0.500         3-2         1-2           NaN         12.0   \n",
       "143183  27  55  0.329       17-24       10-31           NaN         24.0   \n",
       "142836   3   5  0.375         3-2         0-3           NaN         21.0   \n",
       "136597  30  52  0.366       21-20        9-32           NaN         24.0   \n",
       "136459   1   1  0.500         0-1         1-0           NaN         10.0   \n",
       "132186  25  41  0.379       18-15        7-26           NaN         22.0   \n",
       "131806   4   4  0.500         4-0         0-4           NaN         14.0   \n",
       "126712  29  53  0.354       18-23       11-30           NaN         23.0   \n",
       "126348   4   4  0.500         3-1         1-3           NaN         14.0   \n",
       "209857  29  53  0.354       17-24       12-29           NaN         23.0   \n",
       "209489   5   2  0.714         3-0         2-2           NaN          4.0   \n",
       "204413  32  50  0.390       18-23       14-27           NaN         23.0   \n",
       "204037   3   5  0.375         1-3         2-2           NaN         21.0   \n",
       "198934  44  38  0.537       26-15       18-23           NaN         12.0   \n",
       "198573   3   3  0.500         1-2         2-1           NaN         13.0   \n",
       "193476  37  45  0.451       24-17       13-28           NaN         19.0   \n",
       "193222   2   3  0.400         2-1         0-2           NaN         19.0   \n",
       "188030  39  43  0.476       25-16       14-27           NaN         19.0   \n",
       "187764   2   3  0.400         0-2         2-1           NaN         20.0   \n",
       "182524  41  41  0.500       26-15       15-26           NaN         16.0   \n",
       "28572    0   0  0.000         0-0         0-0           NaN         21.0   \n",
       "26561   20  46  0.303       11-22        9-24           0.0         26.0   \n",
       "19597    2   2  0.500         1-1         1-1           NaN         14.0   \n",
       "15329   20  52  0.278       13-23        7-29           NaN         29.0   \n",
       "15082    2   2  0.500         2-0         0-2           NaN         12.0   \n",
       "5548    23  59  0.280       13-28       10-31           NaN         28.0   \n",
       "5279     0   4  0.000         0-2         0-2           NaN         28.0   \n",
       "4289     8  26  0.235        4-12        4-14           NaN         30.0   \n",
       "\n",
       "       SEASON_FLAG  YEAR  \n",
       "181497           2  2002  \n",
       "181156           1  2003  \n",
       "175903           2  2003  \n",
       "175592           1  2004  \n",
       "170458           2  2004  \n",
       "170131           1  2005  \n",
       "165057           2  2005  \n",
       "164672           1  2006  \n",
       "159567           2  2006  \n",
       "159215           1  2007  \n",
       "154093           2  2007  \n",
       "153749           1  2008  \n",
       "148684           2  2008  \n",
       "148294           1  2009  \n",
       "143183           2  2009  \n",
       "142836           1  2010  \n",
       "136597           2  2010  \n",
       "136459           1  2011  \n",
       "132186           2  2011  \n",
       "131806           1  2012  \n",
       "126712           2  2012  \n",
       "126348           1  2013  \n",
       "209857           2  2013  \n",
       "209489           1  2014  \n",
       "204413           2  2014  \n",
       "204037           1  2015  \n",
       "198934           2  2015  \n",
       "198573           1  2016  \n",
       "193476           2  2016  \n",
       "193222           1  2017  \n",
       "188030           2  2017  \n",
       "187764           1  2018  \n",
       "182524           2  2018  \n",
       "28572            1  2019  \n",
       "26561            2  2019  \n",
       "19597            1  2020  \n",
       "15329            2  2020  \n",
       "15082            1  2021  \n",
       "5548             2  2021  \n",
       "5279             1  2022  \n",
       "4289             2  2022  "
      ]
     },
     "execution_count": 12,
     "metadata": {},
     "output_type": "execute_result"
    }
   ],
   "source": [
    "detroit_season_ranking = final_ranking[final_ranking['TEAM'] == target_team].sort_values('STANDINGSDATE')\n",
    "detroit_season_ranking"
   ]
  },
  {
   "cell_type": "code",
   "execution_count": 13,
   "id": "e4b91624",
   "metadata": {},
   "outputs": [
    {
     "data": {
      "image/png": "[encoded data removed]",
      "text/plain": [
       "<Figure size 1000x400 with 1 Axes>"
      ]
     },
     "metadata": {},
     "output_type": "display_data"
    }
   ],
   "source": [
    "plt.figure(figsize=(10, 4))\n",
    "sns.lineplot(detroit_season_ranking.iloc[-20:], x='YEAR', y='SEASON_RANK', hue='SEASON_FLAG')\n",
    "\n",
    "plt.title(f'{target_team}의 시즌 별 순위')\n",
    "plt.xlabel('시즌')\n",
    "plt.ylabel('순위')\n",
    "plt.ylim((30, 1))\n",
    "plt.xticks(rotation=45)\n",
    "plt.grid(True)\n",
    "plt.tight_layout()\n",
    "plt.show()"
   ]
  },
  {
   "cell_type": "markdown",
   "id": "f7dcade3",
   "metadata": {},
   "source": [
    "## 전체 순위 변동"
   ]
  },
  {
   "cell_type": "code",
   "execution_count": 14,
   "id": "2764e646",
   "metadata": {},
   "outputs": [
    {
     "data": {
      "application/vnd.microsoft.datawrangler.viewer.v0+json": {
       "columns": [
        {
         "name": "index",
         "rawType": "int64",
         "type": "integer"
        },
        {
         "name": "TEAM_ID",
         "rawType": "int64",
         "type": "integer"
        },
        {
         "name": "LEAGUE_ID",
         "rawType": "int64",
         "type": "integer"
        },
        {
         "name": "SEASON_ID",
         "rawType": "object",
         "type": "string"
        },
        {
         "name": "STANDINGSDATE",
         "rawType": "datetime64[ns]",
         "type": "datetime"
        },
        {
         "name": "CONFERENCE",
         "rawType": "object",
         "type": "string"
        },
        {
         "name": "TEAM",
         "rawType": "object",
         "type": "string"
        },
        {
         "name": "G",
         "rawType": "int64",
         "type": "integer"
        },
        {
         "name": "W",
         "rawType": "int64",
         "type": "integer"
        },
        {
         "name": "L",
         "rawType": "int64",
         "type": "integer"
        },
        {
         "name": "W_PCT",
         "rawType": "float64",
         "type": "float"
        },
        {
         "name": "HOME_RECORD",
         "rawType": "object",
         "type": "string"
        },
        {
         "name": "ROAD_RECORD",
         "rawType": "object",
         "type": "string"
        },
        {
         "name": "RETURNTOPLAY",
         "rawType": "float64",
         "type": "float"
        },
        {
         "name": "SEASON_RANK",
         "rawType": "float64",
         "type": "float"
        },
        {
         "name": "SEASON_FLAG",
         "rawType": "object",
         "type": "string"
        },
        {
         "name": "YEAR",
         "rawType": "object",
         "type": "string"
        }
       ],
       "ref": "015fa4b5-90cd-4847-ba46-0d43f692db6a",
       "rows": [
        [
         "181506",
         "1610612764",
         "0",
         "22002",
         "2003-10-04 00:00:00",
         "East",
         "Washington",
         "82",
         "37",
         "45",
         "0.451",
         "23-18",
         "14-27",
         null,
         "20.0",
         "2",
         "2002"
        ],
        [
         "181511",
         "1610612739",
         "0",
         "22002",
         "2003-10-04 00:00:00",
         "East",
         "Cleveland",
         "82",
         "17",
         "65",
         "0.207",
         "14-27",
         "3-38",
         null,
         "28.0",
         "2",
         "2002"
        ],
        [
         "181510",
         "1610612761",
         "0",
         "22002",
         "2003-10-04 00:00:00",
         "East",
         "Toronto",
         "82",
         "24",
         "58",
         "0.293",
         "15-26",
         "9-32",
         null,
         "27.0",
         "2",
         "2002"
        ],
        [
         "181509",
         "1610612748",
         "0",
         "22002",
         "2003-10-04 00:00:00",
         "East",
         "Miami",
         "82",
         "25",
         "57",
         "0.305",
         "16-25",
         "9-32",
         null,
         "26.0",
         "2",
         "2002"
        ],
        [
         "181508",
         "1610612741",
         "0",
         "22002",
         "2003-10-04 00:00:00",
         "East",
         "Chicago",
         "82",
         "30",
         "52",
         "0.366",
         "27-14",
         "3-38",
         null,
         "23.0",
         "2",
         "2002"
        ],
        [
         "181507",
         "1610612737",
         "0",
         "22002",
         "2003-10-04 00:00:00",
         "East",
         "Atlanta",
         "82",
         "35",
         "47",
         "0.4270000000000001",
         "26-15",
         "9-32",
         null,
         "22.0",
         "2",
         "2002"
        ],
        [
         "92900",
         "1610612747",
         "0",
         "22002",
         "2003-10-04 00:00:00",
         "West",
         "L.A. Lakers",
         "82",
         "50",
         "32",
         "0.61",
         "31-10",
         "19-22",
         null,
         "5.0",
         "2",
         "2002"
        ],
        [
         "181505",
         "1610612752",
         "0",
         "22002",
         "2003-10-04 00:00:00",
         "East",
         "New York",
         "82",
         "37",
         "45",
         "0.451",
         "24-17",
         "13-28",
         null,
         "20.0",
         "2",
         "2002"
        ],
        [
         "181504",
         "1610612753",
         "0",
         "22002",
         "2003-10-04 00:00:00",
         "East",
         "Orlando",
         "82",
         "42",
         "40",
         "0.512",
         "26-15",
         "16-25",
         null,
         "16.0",
         "2",
         "2002"
        ],
        [
         "181503",
         "1610612749",
         "0",
         "22002",
         "2003-10-04 00:00:00",
         "East",
         "Milwaukee",
         "82",
         "42",
         "40",
         "0.512",
         "25-16",
         "17-24",
         null,
         "16.0",
         "2",
         "2002"
        ],
        [
         "181502",
         "1610612738",
         "0",
         "22002",
         "2003-10-04 00:00:00",
         "East",
         "Boston",
         "82",
         "44",
         "38",
         "0.537",
         "25-16",
         "19-22",
         null,
         "13.0",
         "2",
         "2002"
        ],
        [
         "181501",
         "1610612740",
         "0",
         "22002",
         "2003-10-04 00:00:00",
         "East",
         "New Orleans",
         "82",
         "47",
         "35",
         "0.573",
         "29-12",
         "18-23",
         null,
         "11.0",
         "2",
         "2002"
        ],
        [
         "181500",
         "1610612755",
         "0",
         "22002",
         "2003-10-04 00:00:00",
         "East",
         "Philadelphia",
         "82",
         "48",
         "34",
         "0.585",
         "25-16",
         "23-18",
         null,
         "9.0",
         "2",
         "2002"
        ],
        [
         "181499",
         "1610612754",
         "0",
         "22002",
         "2003-10-04 00:00:00",
         "East",
         "Indiana",
         "82",
         "48",
         "34",
         "0.585",
         "32-9",
         "16-25",
         null,
         "9.0",
         "2",
         "2002"
        ],
        [
         "181498",
         "1610612751",
         "0",
         "22002",
         "2003-10-04 00:00:00",
         "East",
         "New Jersey",
         "82",
         "49",
         "33",
         "0.598",
         "33-8",
         "16-25",
         null,
         "8.0",
         "2",
         "2002"
        ],
        [
         "181497",
         "1610612765",
         "0",
         "22002",
         "2003-10-04 00:00:00",
         "East",
         "Detroit",
         "82",
         "50",
         "32",
         "0.61",
         "30-11",
         "20-21",
         null,
         "5.0",
         "2",
         "2002"
        ],
        [
         "92897",
         "1610612759",
         "0",
         "22002",
         "2003-10-04 00:00:00",
         "West",
         "San Antonio",
         "82",
         "60",
         "22",
         "0.732",
         "33-8",
         "27-14",
         null,
         "1.0",
         "2",
         "2002"
        ],
        [
         "92898",
         "1610612758",
         "0",
         "22002",
         "2003-10-04 00:00:00",
         "West",
         "Sacramento",
         "82",
         "59",
         "23",
         "0.72",
         "35-6",
         "24-17",
         null,
         "3.0",
         "2",
         "2002"
        ],
        [
         "92908",
         "1610612746",
         "0",
         "22002",
         "2003-10-04 00:00:00",
         "West",
         "L.A. Clippers",
         "82",
         "27",
         "55",
         "0.3289999999999999",
         "16-25",
         "11-30",
         null,
         "25.0",
         "2",
         "2002"
        ],
        [
         "92907",
         "1610612763",
         "0",
         "22002",
         "2003-10-04 00:00:00",
         "West",
         "Memphis",
         "82",
         "28",
         "54",
         "0.341",
         "20-21",
         "8-33",
         null,
         "24.0",
         "2",
         "2002"
        ],
        [
         "92906",
         "1610612744",
         "0",
         "22002",
         "2003-10-04 00:00:00",
         "West",
         "Golden State",
         "82",
         "38",
         "44",
         "0.4629999999999999",
         "24-17",
         "14-27",
         null,
         "19.0",
         "2",
         "2002"
        ],
        [
         "92905",
         "1610612760",
         "0",
         "22002",
         "2003-10-04 00:00:00",
         "West",
         "Seattle",
         "82",
         "40",
         "42",
         "0.488",
         "25-16",
         "15-26",
         null,
         "18.0",
         "2",
         "2002"
        ],
        [
         "92904",
         "1610612745",
         "0",
         "22002",
         "2003-10-04 00:00:00",
         "West",
         "Houston",
         "82",
         "43",
         "39",
         "0.524",
         "28-13",
         "15-26",
         null,
         "15.0",
         "2",
         "2002"
        ],
        [
         "92903",
         "1610612756",
         "0",
         "22002",
         "2003-10-04 00:00:00",
         "West",
         "Phoenix",
         "82",
         "44",
         "38",
         "0.537",
         "30-11",
         "14-27",
         null,
         "13.0",
         "2",
         "2002"
        ],
        [
         "92902",
         "1610612762",
         "0",
         "22002",
         "2003-10-04 00:00:00",
         "West",
         "Utah",
         "82",
         "47",
         "35",
         "0.573",
         "29-12",
         "18-23",
         null,
         "11.0",
         "2",
         "2002"
        ],
        [
         "92901",
         "1610612757",
         "0",
         "22002",
         "2003-10-04 00:00:00",
         "West",
         "Portland",
         "82",
         "50",
         "32",
         "0.61",
         "27-14",
         "23-18",
         null,
         "5.0",
         "2",
         "2002"
        ],
        [
         "92909",
         "1610612743",
         "0",
         "22002",
         "2003-10-04 00:00:00",
         "West",
         "Denver",
         "82",
         "17",
         "65",
         "0.207",
         "13-28",
         "4-37",
         null,
         "28.0",
         "2",
         "2002"
        ],
        [
         "92896",
         "1610612742",
         "0",
         "22002",
         "2003-10-04 00:00:00",
         "West",
         "Dallas",
         "82",
         "60",
         "22",
         "0.732",
         "33-8",
         "27-14",
         null,
         "1.0",
         "2",
         "2002"
        ],
        [
         "92899",
         "1610612750",
         "0",
         "22002",
         "2003-10-04 00:00:00",
         "West",
         "Minnesota",
         "82",
         "51",
         "31",
         "0.622",
         "33-8",
         "18-23",
         null,
         "4.0",
         "2",
         "2002"
        ],
        [
         "175911",
         "1610612755",
         "0",
         "22003",
         "2004-10-11 00:00:00",
         "East",
         "Philadelphia",
         "82",
         "33",
         "49",
         "0.402",
         "21-20",
         "12-29",
         null,
         "22.0",
         "2",
         "2003"
        ],
        [
         "87683",
         "1610612757",
         "0",
         "22003",
         "2004-10-11 00:00:00",
         "West",
         "Portland",
         "82",
         "41",
         "41",
         "0.5",
         "25-16",
         "16-25",
         null,
         "14.0",
         "2",
         "2003"
        ],
        [
         "87684",
         "1610612744",
         "0",
         "22003",
         "2004-10-11 00:00:00",
         "West",
         "Golden State",
         "82",
         "37",
         "45",
         "0.451",
         "27-14",
         "10-31",
         null,
         "18.0",
         "2",
         "2003"
        ],
        [
         "87685",
         "1610612760",
         "0",
         "22003",
         "2004-10-11 00:00:00",
         "West",
         "Seattle",
         "82",
         "37",
         "45",
         "0.451",
         "21-20",
         "16-25",
         null,
         "18.0",
         "2",
         "2003"
        ],
        [
         "87686",
         "1610612756",
         "0",
         "22003",
         "2004-10-11 00:00:00",
         "West",
         "Phoenix",
         "82",
         "29",
         "53",
         "0.354",
         "18-23",
         "11-30",
         null,
         "24.0",
         "2",
         "2003"
        ],
        [
         "87687",
         "1610612746",
         "0",
         "22003",
         "2004-10-11 00:00:00",
         "West",
         "L.A. Clippers",
         "82",
         "28",
         "54",
         "0.341",
         "18-23",
         "10-31",
         null,
         "25.0",
         "2",
         "2003"
        ],
        [
         "175902",
         "1610612754",
         "0",
         "22003",
         "2004-10-11 00:00:00",
         "East",
         "Indiana",
         "82",
         "61",
         "21",
         "0.7440000000000001",
         "34-7",
         "27-14",
         null,
         "1.0",
         "2",
         "2003"
        ],
        [
         "175903",
         "1610612765",
         "0",
         "22003",
         "2004-10-11 00:00:00",
         "East",
         "Detroit",
         "82",
         "54",
         "28",
         "0.659",
         "31-10",
         "23-18",
         null,
         "6.0",
         "2",
         "2003"
        ],
        [
         "175904",
         "1610612751",
         "0",
         "22003",
         "2004-10-11 00:00:00",
         "East",
         "New Jersey",
         "82",
         "47",
         "35",
         "0.573",
         "28-13",
         "19-22",
         null,
         "9.0",
         "2",
         "2003"
        ],
        [
         "175905",
         "1610612748",
         "0",
         "22003",
         "2004-10-11 00:00:00",
         "East",
         "Miami",
         "82",
         "42",
         "40",
         "0.512",
         "29-12",
         "13-28",
         null,
         "12.0",
         "2",
         "2003"
        ],
        [
         "175906",
         "1610612749",
         "0",
         "22003",
         "2004-10-11 00:00:00",
         "East",
         "Milwaukee",
         "82",
         "41",
         "41",
         "0.5",
         "27-14",
         "14-27",
         null,
         "14.0",
         "2",
         "2003"
        ],
        [
         "175907",
         "1610612740",
         "0",
         "22003",
         "2004-10-11 00:00:00",
         "East",
         "New Orleans",
         "82",
         "41",
         "41",
         "0.5",
         "25-16",
         "16-25",
         null,
         "14.0",
         "2",
         "2003"
        ],
        [
         "175908",
         "1610612752",
         "0",
         "22003",
         "2004-10-11 00:00:00",
         "East",
         "New York",
         "82",
         "39",
         "43",
         "0.476",
         "23-18",
         "16-25",
         null,
         "17.0",
         "2",
         "2003"
        ],
        [
         "175909",
         "1610612738",
         "0",
         "22003",
         "2004-10-11 00:00:00",
         "East",
         "Boston",
         "82",
         "36",
         "46",
         "0.439",
         "19-22",
         "17-24",
         null,
         "20.0",
         "2",
         "2003"
        ],
        [
         "175910",
         "1610612739",
         "0",
         "22003",
         "2004-10-11 00:00:00",
         "East",
         "Cleveland",
         "82",
         "35",
         "47",
         "0.4270000000000001",
         "23-18",
         "12-29",
         null,
         "21.0",
         "2",
         "2003"
        ],
        [
         "175912",
         "1610612761",
         "0",
         "22003",
         "2004-10-11 00:00:00",
         "East",
         "Toronto",
         "82",
         "33",
         "49",
         "0.402",
         "18-23",
         "15-26",
         null,
         "22.0",
         "2",
         "2003"
        ],
        [
         "175913",
         "1610612737",
         "0",
         "22003",
         "2004-10-11 00:00:00",
         "East",
         "Atlanta",
         "82",
         "28",
         "54",
         "0.341",
         "18-23",
         "10-31",
         null,
         "25.0",
         "2",
         "2003"
        ],
        [
         "175914",
         "1610612764",
         "0",
         "22003",
         "2004-10-11 00:00:00",
         "East",
         "Washington",
         "82",
         "25",
         "57",
         "0.305",
         "17-24",
         "8-33",
         null,
         "27.0",
         "2",
         "2003"
        ],
        [
         "175915",
         "1610612741",
         "0",
         "22003",
         "2004-10-11 00:00:00",
         "East",
         "Chicago",
         "82",
         "23",
         "59",
         "0.28",
         "14-27",
         "9-32",
         null,
         "28.0",
         "2",
         "2003"
        ],
        [
         "87681",
         "1610612743",
         "0",
         "22003",
         "2004-10-11 00:00:00",
         "West",
         "Denver",
         "82",
         "43",
         "39",
         "0.524",
         "29-12",
         "14-27",
         null,
         "11.0",
         "2",
         "2003"
        ],
        [
         "87682",
         "1610612762",
         "0",
         "22003",
         "2004-10-11 00:00:00",
         "West",
         "Utah",
         "82",
         "42",
         "40",
         "0.512",
         "28-13",
         "14-27",
         null,
         "12.0",
         "2",
         "2003"
        ]
       ],
       "shape": {
        "columns": 16,
        "rows": 628
       }
      },
      "text/html": [
       "<div>\n",
       "<style scoped>\n",
       "    .dataframe tbody tr th:only-of-type {\n",
       "        vertical-align: middle;\n",
       "    }\n",
       "\n",
       "    .dataframe tbody tr th {\n",
       "        vertical-align: top;\n",
       "    }\n",
       "\n",
       "    .dataframe thead th {\n",
       "        text-align: right;\n",
       "    }\n",
       "</style>\n",
       "<table border=\"1\" class=\"dataframe\">\n",
       "  <thead>\n",
       "    <tr style=\"text-align: right;\">\n",
       "      <th></th>\n",
       "      <th>TEAM_ID</th>\n",
       "      <th>LEAGUE_ID</th>\n",
       "      <th>SEASON_ID</th>\n",
       "      <th>STANDINGSDATE</th>\n",
       "      <th>CONFERENCE</th>\n",
       "      <th>TEAM</th>\n",
       "      <th>G</th>\n",
       "      <th>W</th>\n",
       "      <th>L</th>\n",
       "      <th>W_PCT</th>\n",
       "      <th>HOME_RECORD</th>\n",
       "      <th>ROAD_RECORD</th>\n",
       "      <th>RETURNTOPLAY</th>\n",
       "      <th>SEASON_RANK</th>\n",
       "      <th>SEASON_FLAG</th>\n",
       "      <th>YEAR</th>\n",
       "    </tr>\n",
       "  </thead>\n",
       "  <tbody>\n",
       "    <tr>\n",
       "      <th>181506</th>\n",
       "      <td>1610612764</td>\n",
       "      <td>0</td>\n",
       "      <td>22002</td>\n",
       "      <td>2003-10-04</td>\n",
       "      <td>East</td>\n",
       "      <td>Washington</td>\n",
       "      <td>82</td>\n",
       "      <td>37</td>\n",
       "      <td>45</td>\n",
       "      <td>0.451</td>\n",
       "      <td>23-18</td>\n",
       "      <td>14-27</td>\n",
       "      <td>NaN</td>\n",
       "      <td>20.0</td>\n",
       "      <td>2</td>\n",
       "      <td>2002</td>\n",
       "    </tr>\n",
       "    <tr>\n",
       "      <th>181511</th>\n",
       "      <td>1610612739</td>\n",
       "      <td>0</td>\n",
       "      <td>22002</td>\n",
       "      <td>2003-10-04</td>\n",
       "      <td>East</td>\n",
       "      <td>Cleveland</td>\n",
       "      <td>82</td>\n",
       "      <td>17</td>\n",
       "      <td>65</td>\n",
       "      <td>0.207</td>\n",
       "      <td>14-27</td>\n",
       "      <td>3-38</td>\n",
       "      <td>NaN</td>\n",
       "      <td>28.0</td>\n",
       "      <td>2</td>\n",
       "      <td>2002</td>\n",
       "    </tr>\n",
       "    <tr>\n",
       "      <th>181510</th>\n",
       "      <td>1610612761</td>\n",
       "      <td>0</td>\n",
       "      <td>22002</td>\n",
       "      <td>2003-10-04</td>\n",
       "      <td>East</td>\n",
       "      <td>Toronto</td>\n",
       "      <td>82</td>\n",
       "      <td>24</td>\n",
       "      <td>58</td>\n",
       "      <td>0.293</td>\n",
       "      <td>15-26</td>\n",
       "      <td>9-32</td>\n",
       "      <td>NaN</td>\n",
       "      <td>27.0</td>\n",
       "      <td>2</td>\n",
       "      <td>2002</td>\n",
       "    </tr>\n",
       "    <tr>\n",
       "      <th>181509</th>\n",
       "      <td>1610612748</td>\n",
       "      <td>0</td>\n",
       "      <td>22002</td>\n",
       "      <td>2003-10-04</td>\n",
       "      <td>East</td>\n",
       "      <td>Miami</td>\n",
       "      <td>82</td>\n",
       "      <td>25</td>\n",
       "      <td>57</td>\n",
       "      <td>0.305</td>\n",
       "      <td>16-25</td>\n",
       "      <td>9-32</td>\n",
       "      <td>NaN</td>\n",
       "      <td>26.0</td>\n",
       "      <td>2</td>\n",
       "      <td>2002</td>\n",
       "    </tr>\n",
       "    <tr>\n",
       "      <th>181508</th>\n",
       "      <td>1610612741</td>\n",
       "      <td>0</td>\n",
       "      <td>22002</td>\n",
       "      <td>2003-10-04</td>\n",
       "      <td>East</td>\n",
       "      <td>Chicago</td>\n",
       "      <td>82</td>\n",
       "      <td>30</td>\n",
       "      <td>52</td>\n",
       "      <td>0.366</td>\n",
       "      <td>27-14</td>\n",
       "      <td>3-38</td>\n",
       "      <td>NaN</td>\n",
       "      <td>23.0</td>\n",
       "      <td>2</td>\n",
       "      <td>2002</td>\n",
       "    </tr>\n",
       "    <tr>\n",
       "      <th>...</th>\n",
       "      <td>...</td>\n",
       "      <td>...</td>\n",
       "      <td>...</td>\n",
       "      <td>...</td>\n",
       "      <td>...</td>\n",
       "      <td>...</td>\n",
       "      <td>...</td>\n",
       "      <td>...</td>\n",
       "      <td>...</td>\n",
       "      <td>...</td>\n",
       "      <td>...</td>\n",
       "      <td>...</td>\n",
       "      <td>...</td>\n",
       "      <td>...</td>\n",
       "      <td>...</td>\n",
       "      <td>...</td>\n",
       "    </tr>\n",
       "    <tr>\n",
       "      <th>4286</th>\n",
       "      <td>1610612753</td>\n",
       "      <td>0</td>\n",
       "      <td>22022</td>\n",
       "      <td>2022-12-22</td>\n",
       "      <td>East</td>\n",
       "      <td>Orlando</td>\n",
       "      <td>33</td>\n",
       "      <td>12</td>\n",
       "      <td>21</td>\n",
       "      <td>0.364</td>\n",
       "      <td>8-9</td>\n",
       "      <td>4-12</td>\n",
       "      <td>NaN</td>\n",
       "      <td>25.0</td>\n",
       "      <td>2</td>\n",
       "      <td>2022</td>\n",
       "    </tr>\n",
       "    <tr>\n",
       "      <th>4287</th>\n",
       "      <td>1610612764</td>\n",
       "      <td>0</td>\n",
       "      <td>22022</td>\n",
       "      <td>2022-12-22</td>\n",
       "      <td>East</td>\n",
       "      <td>Washington</td>\n",
       "      <td>33</td>\n",
       "      <td>12</td>\n",
       "      <td>21</td>\n",
       "      <td>0.364</td>\n",
       "      <td>8-7</td>\n",
       "      <td>4-14</td>\n",
       "      <td>NaN</td>\n",
       "      <td>25.0</td>\n",
       "      <td>2</td>\n",
       "      <td>2022</td>\n",
       "    </tr>\n",
       "    <tr>\n",
       "      <th>4289</th>\n",
       "      <td>1610612765</td>\n",
       "      <td>0</td>\n",
       "      <td>22022</td>\n",
       "      <td>2022-12-22</td>\n",
       "      <td>East</td>\n",
       "      <td>Detroit</td>\n",
       "      <td>34</td>\n",
       "      <td>8</td>\n",
       "      <td>26</td>\n",
       "      <td>0.235</td>\n",
       "      <td>4-12</td>\n",
       "      <td>4-14</td>\n",
       "      <td>NaN</td>\n",
       "      <td>30.0</td>\n",
       "      <td>2</td>\n",
       "      <td>2022</td>\n",
       "    </tr>\n",
       "    <tr>\n",
       "      <th>4275</th>\n",
       "      <td>1610612749</td>\n",
       "      <td>0</td>\n",
       "      <td>22022</td>\n",
       "      <td>2022-12-22</td>\n",
       "      <td>East</td>\n",
       "      <td>Milwaukee</td>\n",
       "      <td>31</td>\n",
       "      <td>22</td>\n",
       "      <td>9</td>\n",
       "      <td>0.710</td>\n",
       "      <td>14-3</td>\n",
       "      <td>8-6</td>\n",
       "      <td>NaN</td>\n",
       "      <td>1.0</td>\n",
       "      <td>2</td>\n",
       "      <td>2022</td>\n",
       "    </tr>\n",
       "    <tr>\n",
       "      <th>0</th>\n",
       "      <td>1610612743</td>\n",
       "      <td>0</td>\n",
       "      <td>22022</td>\n",
       "      <td>2022-12-22</td>\n",
       "      <td>West</td>\n",
       "      <td>Denver</td>\n",
       "      <td>30</td>\n",
       "      <td>19</td>\n",
       "      <td>11</td>\n",
       "      <td>0.633</td>\n",
       "      <td>10-3</td>\n",
       "      <td>9-8</td>\n",
       "      <td>NaN</td>\n",
       "      <td>4.0</td>\n",
       "      <td>2</td>\n",
       "      <td>2022</td>\n",
       "    </tr>\n",
       "  </tbody>\n",
       "</table>\n",
       "<p>628 rows × 16 columns</p>\n",
       "</div>"
      ],
      "text/plain": [
       "           TEAM_ID  LEAGUE_ID SEASON_ID STANDINGSDATE CONFERENCE        TEAM  \\\n",
       "181506  1610612764          0     22002    2003-10-04       East  Washington   \n",
       "181511  1610612739          0     22002    2003-10-04       East   Cleveland   \n",
       "181510  1610612761          0     22002    2003-10-04       East     Toronto   \n",
       "181509  1610612748          0     22002    2003-10-04       East       Miami   \n",
       "181508  1610612741          0     22002    2003-10-04       East     Chicago   \n",
       "...            ...        ...       ...           ...        ...         ...   \n",
       "4286    1610612753          0     22022    2022-12-22       East     Orlando   \n",
       "4287    1610612764          0     22022    2022-12-22       East  Washington   \n",
       "4289    1610612765          0     22022    2022-12-22       East     Detroit   \n",
       "4275    1610612749          0     22022    2022-12-22       East   Milwaukee   \n",
       "0       1610612743          0     22022    2022-12-22       West      Denver   \n",
       "\n",
       "         G   W   L  W_PCT HOME_RECORD ROAD_RECORD  RETURNTOPLAY  SEASON_RANK  \\\n",
       "181506  82  37  45  0.451       23-18       14-27           NaN         20.0   \n",
       "181511  82  17  65  0.207       14-27        3-38           NaN         28.0   \n",
       "181510  82  24  58  0.293       15-26        9-32           NaN         27.0   \n",
       "181509  82  25  57  0.305       16-25        9-32           NaN         26.0   \n",
       "181508  82  30  52  0.366       27-14        3-38           NaN         23.0   \n",
       "...     ..  ..  ..    ...         ...         ...           ...          ...   \n",
       "4286    33  12  21  0.364         8-9        4-12           NaN         25.0   \n",
       "4287    33  12  21  0.364         8-7        4-14           NaN         25.0   \n",
       "4289    34   8  26  0.235        4-12        4-14           NaN         30.0   \n",
       "4275    31  22   9  0.710        14-3         8-6           NaN          1.0   \n",
       "0       30  19  11  0.633        10-3         9-8           NaN          4.0   \n",
       "\n",
       "       SEASON_FLAG  YEAR  \n",
       "181506           2  2002  \n",
       "181511           2  2002  \n",
       "181510           2  2002  \n",
       "181509           2  2002  \n",
       "181508           2  2002  \n",
       "...            ...   ...  \n",
       "4286             2  2022  \n",
       "4287             2  2022  \n",
       "4289             2  2022  \n",
       "4275             2  2022  \n",
       "0                2  2022  \n",
       "\n",
       "[628 rows x 16 columns]"
      ]
     },
     "execution_count": 14,
     "metadata": {},
     "output_type": "execute_result"
    }
   ],
   "source": [
    "regular_final_ranking = final_ranking[final_ranking['SEASON_FLAG'] == '2'].sort_values('STANDINGSDATE')\n",
    "\n",
    "regular_final_ranking"
   ]
  },
  {
   "cell_type": "code",
   "execution_count": null,
   "id": "13074e99",
   "metadata": {},
   "outputs": [],
   "source": [
    "regular_final_ranking = final_ranking[final_ranking['SEASON_FLAG'] == '2'].sort_values('STANDINGSDATE')\n",
    "\n",
    "plt.figure(figsize=(10, 4))\n",
    "sns.lineplot(regular_final_ranking, x='YEAR', y='SEASON_RANK', hue='TEAM')\n",
    "\n",
    "plt.title(f'{target_team}의 시즌 별 순위')\n",
    "plt.xlabel('시즌')\n",
    "plt.ylabel('순위')\n",
    "plt.ylim((30, 1))\n",
    "plt.xticks(rotation=45)\n",
    "plt.grid(True)\n",
    "plt.tight_layout()\n",
    "plt.show()"
   ]
  },
  {
   "cell_type": "code",
   "execution_count": 16,
   "id": "260e4ab8",
   "metadata": {},
   "outputs": [
    {
     "data": {
      "application/vnd.microsoft.datawrangler.viewer.v0+json": {
       "columns": [
        {
         "name": "index",
         "rawType": "int64",
         "type": "integer"
        },
        {
         "name": "TEAM",
         "rawType": "object",
         "type": "string"
        },
        {
         "name": "YEAR",
         "rawType": "object",
         "type": "string"
        },
        {
         "name": "SEASON_RANK",
         "rawType": "float64",
         "type": "float"
        }
       ],
       "ref": "66144f84-2a4d-4206-bd54-ce9500c8677a",
       "rows": [
        [
         "181506",
         "Washington",
         "2002",
         "20.0"
        ],
        [
         "181511",
         "Cleveland",
         "2002",
         "28.0"
        ],
        [
         "181510",
         "Toronto",
         "2002",
         "27.0"
        ],
        [
         "181509",
         "Miami",
         "2002",
         "26.0"
        ],
        [
         "181508",
         "Chicago",
         "2002",
         "23.0"
        ],
        [
         "181507",
         "Atlanta",
         "2002",
         "22.0"
        ],
        [
         "92900",
         "L.A. Lakers",
         "2002",
         "5.0"
        ],
        [
         "181505",
         "New York",
         "2002",
         "20.0"
        ],
        [
         "181504",
         "Orlando",
         "2002",
         "16.0"
        ],
        [
         "181503",
         "Milwaukee",
         "2002",
         "16.0"
        ]
       ],
       "shape": {
        "columns": 3,
        "rows": 10
       }
      },
      "text/html": [
       "<div>\n",
       "<style scoped>\n",
       "    .dataframe tbody tr th:only-of-type {\n",
       "        vertical-align: middle;\n",
       "    }\n",
       "\n",
       "    .dataframe tbody tr th {\n",
       "        vertical-align: top;\n",
       "    }\n",
       "\n",
       "    .dataframe thead th {\n",
       "        text-align: right;\n",
       "    }\n",
       "</style>\n",
       "<table border=\"1\" class=\"dataframe\">\n",
       "  <thead>\n",
       "    <tr style=\"text-align: right;\">\n",
       "      <th></th>\n",
       "      <th>TEAM</th>\n",
       "      <th>YEAR</th>\n",
       "      <th>SEASON_RANK</th>\n",
       "    </tr>\n",
       "  </thead>\n",
       "  <tbody>\n",
       "    <tr>\n",
       "      <th>181506</th>\n",
       "      <td>Washington</td>\n",
       "      <td>2002</td>\n",
       "      <td>20.0</td>\n",
       "    </tr>\n",
       "    <tr>\n",
       "      <th>181511</th>\n",
       "      <td>Cleveland</td>\n",
       "      <td>2002</td>\n",
       "      <td>28.0</td>\n",
       "    </tr>\n",
       "    <tr>\n",
       "      <th>181510</th>\n",
       "      <td>Toronto</td>\n",
       "      <td>2002</td>\n",
       "      <td>27.0</td>\n",
       "    </tr>\n",
       "    <tr>\n",
       "      <th>181509</th>\n",
       "      <td>Miami</td>\n",
       "      <td>2002</td>\n",
       "      <td>26.0</td>\n",
       "    </tr>\n",
       "    <tr>\n",
       "      <th>181508</th>\n",
       "      <td>Chicago</td>\n",
       "      <td>2002</td>\n",
       "      <td>23.0</td>\n",
       "    </tr>\n",
       "    <tr>\n",
       "      <th>181507</th>\n",
       "      <td>Atlanta</td>\n",
       "      <td>2002</td>\n",
       "      <td>22.0</td>\n",
       "    </tr>\n",
       "    <tr>\n",
       "      <th>92900</th>\n",
       "      <td>L.A. Lakers</td>\n",
       "      <td>2002</td>\n",
       "      <td>5.0</td>\n",
       "    </tr>\n",
       "    <tr>\n",
       "      <th>181505</th>\n",
       "      <td>New York</td>\n",
       "      <td>2002</td>\n",
       "      <td>20.0</td>\n",
       "    </tr>\n",
       "    <tr>\n",
       "      <th>181504</th>\n",
       "      <td>Orlando</td>\n",
       "      <td>2002</td>\n",
       "      <td>16.0</td>\n",
       "    </tr>\n",
       "    <tr>\n",
       "      <th>181503</th>\n",
       "      <td>Milwaukee</td>\n",
       "      <td>2002</td>\n",
       "      <td>16.0</td>\n",
       "    </tr>\n",
       "  </tbody>\n",
       "</table>\n",
       "</div>"
      ],
      "text/plain": [
       "               TEAM  YEAR  SEASON_RANK\n",
       "181506   Washington  2002         20.0\n",
       "181511    Cleveland  2002         28.0\n",
       "181510      Toronto  2002         27.0\n",
       "181509        Miami  2002         26.0\n",
       "181508      Chicago  2002         23.0\n",
       "181507      Atlanta  2002         22.0\n",
       "92900   L.A. Lakers  2002          5.0\n",
       "181505     New York  2002         20.0\n",
       "181504      Orlando  2002         16.0\n",
       "181503    Milwaukee  2002         16.0"
      ]
     },
     "execution_count": 16,
     "metadata": {},
     "output_type": "execute_result"
    }
   ],
   "source": [
    "regular_final_ranking[['TEAM', 'YEAR', 'SEASON_RANK']].head(10)"
   ]
  },
  {
   "cell_type": "code",
   "execution_count": 17,
   "id": "e4169aa9",
   "metadata": {},
   "outputs": [
    {
     "data": {
      "text/plain": [
       "34"
      ]
     },
     "execution_count": 17,
     "metadata": {},
     "output_type": "execute_result"
    }
   ],
   "source": [
    "teams = sorted_ranking['TEAM'].head(30).tolist()\n",
    "all_teams = set(ranking['TEAM'].tolist())\n",
    "not_in_teams = all_teams - set(teams)\n",
    "teams.extend(list(not_in_teams))\n",
    "len(teams)"
   ]
  },
  {
   "cell_type": "code",
   "execution_count": null,
   "id": "acbe713c",
   "metadata": {},
   "outputs": [
    {
     "data": {
      "application/vnd.plotly.v1+json": {
       "config": {
        "plotlyServerURL": "https://plot.ly"
       },
       "data": [
        {
         "hovertemplate": "TEAM=%{x}<br>YEAR=2002<br>SEASON_RANK=%{y}<extra></extra>",
         "legendgroup": "Detroit",
         "marker": {
          "color": "#636efa",
          "pattern": {
           "shape": ""
          }
         },
         "name": "Detroit",
         "orientation": "v",
         "showlegend": true,
         "textposition": "auto",
         "type": "bar",
         "x": [
          "Detroit"
         ],
         "xaxis": "x",
         "y": {
          "bdata": "AAAAAAAAFEA=",
          "dtype": "f8"
         },
         "yaxis": "y"
        },
        {
         "hovertemplate": "TEAM=%{x}<br>YEAR=2002<br>SEASON_RANK=%{y}<extra></extra>",
         "legendgroup": "Houston",
         "marker": {
          "color": "#00cc96",
          "pattern": {
           "shape": ""
          }
         },
         "name": "Houston",
         "orientation": "v",
         "showlegend": true,
         "textposition": "auto",
         "type": "bar",
         "x": [
          "Houston"
         ],
         "xaxis": "x",
         "y": {
          "bdata": "AAAAAAAALkA=",
          "dtype": "f8"
         },
         "yaxis": "y"
        },
        {
         "hovertemplate": "TEAM=%{x}<br>YEAR=2002<br>SEASON_RANK=%{y}<extra></extra>",
         "legendgroup": "San Antonio",
         "marker": {
          "color": "#ab63fa",
          "pattern": {
           "shape": ""
          }
         },
         "name": "San Antonio",
         "orientation": "v",
         "showlegend": true,
         "textposition": "auto",
         "type": "bar",
         "x": [
          "San Antonio"
         ],
         "xaxis": "x",
         "y": {
          "bdata": "AAAAAAAA8D8=",
          "dtype": "f8"
         },
         "yaxis": "y"
        },
        {
         "hovertemplate": "TEAM=%{x}<br>YEAR=2002<br>SEASON_RANK=%{y}<extra></extra>",
         "legendgroup": "Orlando",
         "marker": {
          "color": "#FFA15A",
          "pattern": {
           "shape": ""
          }
         },
         "name": "Orlando",
         "orientation": "v",
         "showlegend": true,
         "textposition": "auto",
         "type": "bar",
         "x": [
          "Orlando"
         ],
         "xaxis": "x",
         "y": {
          "bdata": "AAAAAAAAMEA=",
          "dtype": "f8"
         },
         "yaxis": "y"
        },
        {
         "hovertemplate": "TEAM=%{x}<br>YEAR=2002<br>SEASON_RANK=%{y}<extra></extra>",
         "legendgroup": "Washington",
         "marker": {
          "color": "#19d3f3",
          "pattern": {
           "shape": ""
          }
         },
         "name": "Washington",
         "orientation": "v",
         "showlegend": true,
         "textposition": "auto",
         "type": "bar",
         "x": [
          "Washington"
         ],
         "xaxis": "x",
         "y": {
          "bdata": "AAAAAAAANEA=",
          "dtype": "f8"
         },
         "yaxis": "y"
        },
        {
         "hovertemplate": "TEAM=%{x}<br>YEAR=2002<br>SEASON_RANK=%{y}<extra></extra>",
         "legendgroup": "L.A. Lakers",
         "marker": {
          "color": "#FF6692",
          "pattern": {
           "shape": ""
          }
         },
         "name": "L.A. Lakers",
         "orientation": "v",
         "showlegend": true,
         "textposition": "auto",
         "type": "bar",
         "x": [
          "L.A. Lakers"
         ],
         "xaxis": "x",
         "y": {
          "bdata": "AAAAAAAAFEA=",
          "dtype": "f8"
         },
         "yaxis": "y"
        },
        {
         "hovertemplate": "TEAM=%{x}<br>YEAR=2002<br>SEASON_RANK=%{y}<extra></extra>",
         "legendgroup": "Chicago",
         "marker": {
          "color": "#B6E880",
          "pattern": {
           "shape": ""
          }
         },
         "name": "Chicago",
         "orientation": "v",
         "showlegend": true,
         "textposition": "auto",
         "type": "bar",
         "x": [
          "Chicago"
         ],
         "xaxis": "x",
         "y": {
          "bdata": "AAAAAAAAN0A=",
          "dtype": "f8"
         },
         "yaxis": "y"
        },
        {
         "hovertemplate": "TEAM=%{x}<br>YEAR=2002<br>SEASON_RANK=%{y}<extra></extra>",
         "legendgroup": "Toronto",
         "marker": {
          "color": "#FECB52",
          "pattern": {
           "shape": ""
          }
         },
         "name": "Toronto",
         "orientation": "v",
         "showlegend": true,
         "textposition": "auto",
         "type": "bar",
         "x": [
          "Toronto"
         ],
         "xaxis": "x",
         "y": {
          "bdata": "AAAAAAAAO0A=",
          "dtype": "f8"
         },
         "yaxis": "y"
        },
        {
         "hovertemplate": "TEAM=%{x}<br>YEAR=2002<br>SEASON_RANK=%{y}<extra></extra>",
         "legendgroup": "Golden State",
         "marker": {
          "color": "#636efa",
          "pattern": {
           "shape": ""
          }
         },
         "name": "Golden State",
         "orientation": "v",
         "showlegend": true,
         "textposition": "auto",
         "type": "bar",
         "x": [
          "Golden State"
         ],
         "xaxis": "x",
         "y": {
          "bdata": "AAAAAAAAM0A=",
          "dtype": "f8"
         },
         "yaxis": "y"
        },
        {
         "hovertemplate": "TEAM=%{x}<br>YEAR=2002<br>SEASON_RANK=%{y}<extra></extra>",
         "legendgroup": "Dallas",
         "marker": {
          "color": "#EF553B",
          "pattern": {
           "shape": ""
          }
         },
         "name": "Dallas",
         "orientation": "v",
         "showlegend": true,
         "textposition": "auto",
         "type": "bar",
         "x": [
          "Dallas"
         ],
         "xaxis": "x",
         "y": {
          "bdata": "AAAAAAAA8D8=",
          "dtype": "f8"
         },
         "yaxis": "y"
        },
        {
         "hovertemplate": "TEAM=%{x}<br>YEAR=2002<br>SEASON_RANK=%{y}<extra></extra>",
         "legendgroup": "Minnesota",
         "marker": {
          "color": "#00cc96",
          "pattern": {
           "shape": ""
          }
         },
         "name": "Minnesota",
         "orientation": "v",
         "showlegend": true,
         "textposition": "auto",
         "type": "bar",
         "x": [
          "Minnesota"
         ],
         "xaxis": "x",
         "y": {
          "bdata": "AAAAAAAAEEA=",
          "dtype": "f8"
         },
         "yaxis": "y"
        },
        {
         "hovertemplate": "TEAM=%{x}<br>YEAR=2002<br>SEASON_RANK=%{y}<extra></extra>",
         "legendgroup": "Atlanta",
         "marker": {
          "color": "#ab63fa",
          "pattern": {
           "shape": ""
          }
         },
         "name": "Atlanta",
         "orientation": "v",
         "showlegend": true,
         "textposition": "auto",
         "type": "bar",
         "x": [
          "Atlanta"
         ],
         "xaxis": "x",
         "y": {
          "bdata": "AAAAAAAANkA=",
          "dtype": "f8"
         },
         "yaxis": "y"
        },
        {
         "hovertemplate": "TEAM=%{x}<br>YEAR=2002<br>SEASON_RANK=%{y}<extra></extra>",
         "legendgroup": "Indiana",
         "marker": {
          "color": "#FFA15A",
          "pattern": {
           "shape": ""
          }
         },
         "name": "Indiana",
         "orientation": "v",
         "showlegend": true,
         "textposition": "auto",
         "type": "bar",
         "x": [
          "Indiana"
         ],
         "xaxis": "x",
         "y": {
          "bdata": "AAAAAAAAIkA=",
          "dtype": "f8"
         },
         "yaxis": "y"
        },
        {
         "hovertemplate": "TEAM=%{x}<br>YEAR=2002<br>SEASON_RANK=%{y}<extra></extra>",
         "legendgroup": "Miami",
         "marker": {
          "color": "#19d3f3",
          "pattern": {
           "shape": ""
          }
         },
         "name": "Miami",
         "orientation": "v",
         "showlegend": true,
         "textposition": "auto",
         "type": "bar",
         "x": [
          "Miami"
         ],
         "xaxis": "x",
         "y": {
          "bdata": "AAAAAAAAOkA=",
          "dtype": "f8"
         },
         "yaxis": "y"
        },
        {
         "hovertemplate": "TEAM=%{x}<br>YEAR=2002<br>SEASON_RANK=%{y}<extra></extra>",
         "legendgroup": "Portland",
         "marker": {
          "color": "#FF6692",
          "pattern": {
           "shape": ""
          }
         },
         "name": "Portland",
         "orientation": "v",
         "showlegend": true,
         "textposition": "auto",
         "type": "bar",
         "x": [
          "Portland"
         ],
         "xaxis": "x",
         "y": {
          "bdata": "AAAAAAAAFEA=",
          "dtype": "f8"
         },
         "yaxis": "y"
        },
        {
         "hovertemplate": "TEAM=%{x}<br>YEAR=2002<br>SEASON_RANK=%{y}<extra></extra>",
         "legendgroup": "Utah",
         "marker": {
          "color": "#B6E880",
          "pattern": {
           "shape": ""
          }
         },
         "name": "Utah",
         "orientation": "v",
         "showlegend": true,
         "textposition": "auto",
         "type": "bar",
         "x": [
          "Utah"
         ],
         "xaxis": "x",
         "y": {
          "bdata": "AAAAAAAAJkA=",
          "dtype": "f8"
         },
         "yaxis": "y"
        },
        {
         "hovertemplate": "TEAM=%{x}<br>YEAR=2002<br>SEASON_RANK=%{y}<extra></extra>",
         "legendgroup": "New York",
         "marker": {
          "color": "#FF97FF",
          "pattern": {
           "shape": ""
          }
         },
         "name": "New York",
         "orientation": "v",
         "showlegend": true,
         "textposition": "auto",
         "type": "bar",
         "x": [
          "New York"
         ],
         "xaxis": "x",
         "y": {
          "bdata": "AAAAAAAANEA=",
          "dtype": "f8"
         },
         "yaxis": "y"
        },
        {
         "hovertemplate": "TEAM=%{x}<br>YEAR=2002<br>SEASON_RANK=%{y}<extra></extra>",
         "legendgroup": "Sacramento",
         "marker": {
          "color": "#FECB52",
          "pattern": {
           "shape": ""
          }
         },
         "name": "Sacramento",
         "orientation": "v",
         "showlegend": true,
         "textposition": "auto",
         "type": "bar",
         "x": [
          "Sacramento"
         ],
         "xaxis": "x",
         "y": {
          "bdata": "AAAAAAAACEA=",
          "dtype": "f8"
         },
         "yaxis": "y"
        },
        {
         "hovertemplate": "TEAM=%{x}<br>YEAR=2002<br>SEASON_RANK=%{y}<extra></extra>",
         "legendgroup": "Phoenix",
         "marker": {
          "color": "#EF553B",
          "pattern": {
           "shape": ""
          }
         },
         "name": "Phoenix",
         "orientation": "v",
         "showlegend": true,
         "textposition": "auto",
         "type": "bar",
         "x": [
          "Phoenix"
         ],
         "xaxis": "x",
         "y": {
          "bdata": "AAAAAAAAKkA=",
          "dtype": "f8"
         },
         "yaxis": "y"
        },
        {
         "hovertemplate": "TEAM=%{x}<br>YEAR=2002<br>SEASON_RANK=%{y}<extra></extra>",
         "legendgroup": "Philadelphia",
         "marker": {
          "color": "#00cc96",
          "pattern": {
           "shape": ""
          }
         },
         "name": "Philadelphia",
         "orientation": "v",
         "showlegend": true,
         "textposition": "auto",
         "type": "bar",
         "x": [
          "Philadelphia"
         ],
         "xaxis": "x",
         "y": {
          "bdata": "AAAAAAAAIkA=",
          "dtype": "f8"
         },
         "yaxis": "y"
        },
        {
         "hovertemplate": "TEAM=%{x}<br>YEAR=2002<br>SEASON_RANK=%{y}<extra></extra>",
         "legendgroup": "New Orleans",
         "marker": {
          "color": "#ab63fa",
          "pattern": {
           "shape": ""
          }
         },
         "name": "New Orleans",
         "orientation": "v",
         "showlegend": true,
         "textposition": "auto",
         "type": "bar",
         "x": [
          "New Orleans"
         ],
         "xaxis": "x",
         "y": {
          "bdata": "AAAAAAAAJkA=",
          "dtype": "f8"
         },
         "yaxis": "y"
        },
        {
         "hovertemplate": "TEAM=%{x}<br>YEAR=2002<br>SEASON_RANK=%{y}<extra></extra>",
         "legendgroup": "Denver",
         "marker": {
          "color": "#19d3f3",
          "pattern": {
           "shape": ""
          }
         },
         "name": "Denver",
         "orientation": "v",
         "showlegend": true,
         "textposition": "auto",
         "type": "bar",
         "x": [
          "Denver"
         ],
         "xaxis": "x",
         "y": {
          "bdata": "AAAAAAAAPEA=",
          "dtype": "f8"
         },
         "yaxis": "y"
        },
        {
         "hovertemplate": "TEAM=%{x}<br>YEAR=2002<br>SEASON_RANK=%{y}<extra></extra>",
         "legendgroup": "Memphis",
         "marker": {
          "color": "#FF6692",
          "pattern": {
           "shape": ""
          }
         },
         "name": "Memphis",
         "orientation": "v",
         "showlegend": true,
         "textposition": "auto",
         "type": "bar",
         "x": [
          "Memphis"
         ],
         "xaxis": "x",
         "y": {
          "bdata": "AAAAAAAAOEA=",
          "dtype": "f8"
         },
         "yaxis": "y"
        },
        {
         "hovertemplate": "TEAM=%{x}<br>YEAR=2002<br>SEASON_RANK=%{y}<extra></extra>",
         "legendgroup": "Cleveland",
         "marker": {
          "color": "#B6E880",
          "pattern": {
           "shape": ""
          }
         },
         "name": "Cleveland",
         "orientation": "v",
         "showlegend": true,
         "textposition": "auto",
         "type": "bar",
         "x": [
          "Cleveland"
         ],
         "xaxis": "x",
         "y": {
          "bdata": "AAAAAAAAPEA=",
          "dtype": "f8"
         },
         "yaxis": "y"
        },
        {
         "hovertemplate": "TEAM=%{x}<br>YEAR=2002<br>SEASON_RANK=%{y}<extra></extra>",
         "legendgroup": "Boston",
         "marker": {
          "color": "#FF97FF",
          "pattern": {
           "shape": ""
          }
         },
         "name": "Boston",
         "orientation": "v",
         "showlegend": true,
         "textposition": "auto",
         "type": "bar",
         "x": [
          "Boston"
         ],
         "xaxis": "x",
         "y": {
          "bdata": "AAAAAAAAKkA=",
          "dtype": "f8"
         },
         "yaxis": "y"
        },
        {
         "hovertemplate": "TEAM=%{x}<br>YEAR=2002<br>SEASON_RANK=%{y}<extra></extra>",
         "legendgroup": "Milwaukee",
         "marker": {
          "color": "#FECB52",
          "pattern": {
           "shape": ""
          }
         },
         "name": "Milwaukee",
         "orientation": "v",
         "showlegend": true,
         "textposition": "auto",
         "type": "bar",
         "x": [
          "Milwaukee"
         ],
         "xaxis": "x",
         "y": {
          "bdata": "AAAAAAAAMEA=",
          "dtype": "f8"
         },
         "yaxis": "y"
        },
        {
         "hovertemplate": "TEAM=%{x}<br>YEAR=2002<br>SEASON_RANK=%{y}<extra></extra>",
         "legendgroup": "L.A. Clippers",
         "marker": {
          "color": "#EF553B",
          "pattern": {
           "shape": ""
          }
         },
         "name": "L.A. Clippers",
         "orientation": "v",
         "showlegend": true,
         "textposition": "auto",
         "type": "bar",
         "x": [
          "L.A. Clippers"
         ],
         "xaxis": "x",
         "y": {
          "bdata": "AAAAAAAAOUA=",
          "dtype": "f8"
         },
         "yaxis": "y"
        },
        {
         "hovertemplate": "TEAM=%{x}<br>YEAR=2002<br>SEASON_RANK=%{y}<extra></extra>",
         "legendgroup": "New Jersey",
         "marker": {
          "color": "#00cc96",
          "pattern": {
           "shape": ""
          }
         },
         "name": "New Jersey",
         "orientation": "v",
         "showlegend": true,
         "textposition": "auto",
         "type": "bar",
         "x": [
          "New Jersey"
         ],
         "xaxis": "x",
         "y": {
          "bdata": "AAAAAAAAIEA=",
          "dtype": "f8"
         },
         "yaxis": "y"
        },
        {
         "hovertemplate": "TEAM=%{x}<br>YEAR=2002<br>SEASON_RANK=%{y}<extra></extra>",
         "legendgroup": "Seattle",
         "marker": {
          "color": "#ab63fa",
          "pattern": {
           "shape": ""
          }
         },
         "name": "Seattle",
         "orientation": "v",
         "showlegend": true,
         "textposition": "auto",
         "type": "bar",
         "x": [
          "Seattle"
         ],
         "xaxis": "x",
         "y": {
          "bdata": "AAAAAAAAMkA=",
          "dtype": "f8"
         },
         "yaxis": "y"
        }
       ],
       "frames": [
        {
         "data": [
          {
           "hovertemplate": "TEAM=%{x}<br>YEAR=2002<br>SEASON_RANK=%{y}<extra></extra>",
           "legendgroup": "Detroit",
           "marker": {
            "color": "#636efa",
            "pattern": {
             "shape": ""
            }
           },
           "name": "Detroit",
           "orientation": "v",
           "showlegend": true,
           "textposition": "auto",
           "type": "bar",
           "x": [
            "Detroit"
           ],
           "xaxis": "x",
           "y": {
            "bdata": "AAAAAAAAFEA=",
            "dtype": "f8"
           },
           "yaxis": "y"
          },
          {
           "hovertemplate": "TEAM=%{x}<br>YEAR=2002<br>SEASON_RANK=%{y}<extra></extra>",
           "legendgroup": "Houston",
           "marker": {
            "color": "#00cc96",
            "pattern": {
             "shape": ""
            }
           },
           "name": "Houston",
           "orientation": "v",
           "showlegend": true,
           "textposition": "auto",
           "type": "bar",
           "x": [
            "Houston"
           ],
           "xaxis": "x",
           "y": {
            "bdata": "AAAAAAAALkA=",
            "dtype": "f8"
           },
           "yaxis": "y"
          },
          {
           "hovertemplate": "TEAM=%{x}<br>YEAR=2002<br>SEASON_RANK=%{y}<extra></extra>",
           "legendgroup": "San Antonio",
           "marker": {
            "color": "#ab63fa",
            "pattern": {
             "shape": ""
            }
           },
           "name": "San Antonio",
           "orientation": "v",
           "showlegend": true,
           "textposition": "auto",
           "type": "bar",
           "x": [
            "San Antonio"
           ],
           "xaxis": "x",
           "y": {
            "bdata": "AAAAAAAA8D8=",
            "dtype": "f8"
           },
           "yaxis": "y"
          },
          {
           "hovertemplate": "TEAM=%{x}<br>YEAR=2002<br>SEASON_RANK=%{y}<extra></extra>",
           "legendgroup": "Orlando",
           "marker": {
            "color": "#FFA15A",
            "pattern": {
             "shape": ""
            }
           },
           "name": "Orlando",
           "orientation": "v",
           "showlegend": true,
           "textposition": "auto",
           "type": "bar",
           "x": [
            "Orlando"
           ],
           "xaxis": "x",
           "y": {
            "bdata": "AAAAAAAAMEA=",
            "dtype": "f8"
           },
           "yaxis": "y"
          },
          {
           "hovertemplate": "TEAM=%{x}<br>YEAR=2002<br>SEASON_RANK=%{y}<extra></extra>",
           "legendgroup": "Washington",
           "marker": {
            "color": "#19d3f3",
            "pattern": {
             "shape": ""
            }
           },
           "name": "Washington",
           "orientation": "v",
           "showlegend": true,
           "textposition": "auto",
           "type": "bar",
           "x": [
            "Washington"
           ],
           "xaxis": "x",
           "y": {
            "bdata": "AAAAAAAANEA=",
            "dtype": "f8"
           },
           "yaxis": "y"
          },
          {
           "hovertemplate": "TEAM=%{x}<br>YEAR=2002<br>SEASON_RANK=%{y}<extra></extra>",
           "legendgroup": "L.A. Lakers",
           "marker": {
            "color": "#FF6692",
            "pattern": {
             "shape": ""
            }
           },
           "name": "L.A. Lakers",
           "orientation": "v",
           "showlegend": true,
           "textposition": "auto",
           "type": "bar",
           "x": [
            "L.A. Lakers"
           ],
           "xaxis": "x",
           "y": {
            "bdata": "AAAAAAAAFEA=",
            "dtype": "f8"
           },
           "yaxis": "y"
          },
          {
           "hovertemplate": "TEAM=%{x}<br>YEAR=2002<br>SEASON_RANK=%{y}<extra></extra>",
           "legendgroup": "Chicago",
           "marker": {
            "color": "#B6E880",
            "pattern": {
             "shape": ""
            }
           },
           "name": "Chicago",
           "orientation": "v",
           "showlegend": true,
           "textposition": "auto",
           "type": "bar",
           "x": [
            "Chicago"
           ],
           "xaxis": "x",
           "y": {
            "bdata": "AAAAAAAAN0A=",
            "dtype": "f8"
           },
           "yaxis": "y"
          },
          {
           "hovertemplate": "TEAM=%{x}<br>YEAR=2002<br>SEASON_RANK=%{y}<extra></extra>",
           "legendgroup": "Toronto",
           "marker": {
            "color": "#FECB52",
            "pattern": {
             "shape": ""
            }
           },
           "name": "Toronto",
           "orientation": "v",
           "showlegend": true,
           "textposition": "auto",
           "type": "bar",
           "x": [
            "Toronto"
           ],
           "xaxis": "x",
           "y": {
            "bdata": "AAAAAAAAO0A=",
            "dtype": "f8"
           },
           "yaxis": "y"
          },
          {
           "hovertemplate": "TEAM=%{x}<br>YEAR=2002<br>SEASON_RANK=%{y}<extra></extra>",
           "legendgroup": "Golden State",
           "marker": {
            "color": "#636efa",
            "pattern": {
             "shape": ""
            }
           },
           "name": "Golden State",
           "orientation": "v",
           "showlegend": true,
           "textposition": "auto",
           "type": "bar",
           "x": [
            "Golden State"
           ],
           "xaxis": "x",
           "y": {
            "bdata": "AAAAAAAAM0A=",
            "dtype": "f8"
           },
           "yaxis": "y"
          },
          {
           "hovertemplate": "TEAM=%{x}<br>YEAR=2002<br>SEASON_RANK=%{y}<extra></extra>",
           "legendgroup": "Dallas",
           "marker": {
            "color": "#EF553B",
            "pattern": {
             "shape": ""
            }
           },
           "name": "Dallas",
           "orientation": "v",
           "showlegend": true,
           "textposition": "auto",
           "type": "bar",
           "x": [
            "Dallas"
           ],
           "xaxis": "x",
           "y": {
            "bdata": "AAAAAAAA8D8=",
            "dtype": "f8"
           },
           "yaxis": "y"
          },
          {
           "hovertemplate": "TEAM=%{x}<br>YEAR=2002<br>SEASON_RANK=%{y}<extra></extra>",
           "legendgroup": "Minnesota",
           "marker": {
            "color": "#00cc96",
            "pattern": {
             "shape": ""
            }
           },
           "name": "Minnesota",
           "orientation": "v",
           "showlegend": true,
           "textposition": "auto",
           "type": "bar",
           "x": [
            "Minnesota"
           ],
           "xaxis": "x",
           "y": {
            "bdata": "AAAAAAAAEEA=",
            "dtype": "f8"
           },
           "yaxis": "y"
          },
          {
           "hovertemplate": "TEAM=%{x}<br>YEAR=2002<br>SEASON_RANK=%{y}<extra></extra>",
           "legendgroup": "Atlanta",
           "marker": {
            "color": "#ab63fa",
            "pattern": {
             "shape": ""
            }
           },
           "name": "Atlanta",
           "orientation": "v",
           "showlegend": true,
           "textposition": "auto",
           "type": "bar",
           "x": [
            "Atlanta"
           ],
           "xaxis": "x",
           "y": {
            "bdata": "AAAAAAAANkA=",
            "dtype": "f8"
           },
           "yaxis": "y"
          },
          {
           "hovertemplate": "TEAM=%{x}<br>YEAR=2002<br>SEASON_RANK=%{y}<extra></extra>",
           "legendgroup": "Indiana",
           "marker": {
            "color": "#FFA15A",
            "pattern": {
             "shape": ""
            }
           },
           "name": "Indiana",
           "orientation": "v",
           "showlegend": true,
           "textposition": "auto",
           "type": "bar",
           "x": [
            "Indiana"
           ],
           "xaxis": "x",
           "y": {
            "bdata": "AAAAAAAAIkA=",
            "dtype": "f8"
           },
           "yaxis": "y"
          },
          {
           "hovertemplate": "TEAM=%{x}<br>YEAR=2002<br>SEASON_RANK=%{y}<extra></extra>",
           "legendgroup": "Miami",
           "marker": {
            "color": "#19d3f3",
            "pattern": {
             "shape": ""
            }
           },
           "name": "Miami",
           "orientation": "v",
           "showlegend": true,
           "textposition": "auto",
           "type": "bar",
           "x": [
            "Miami"
           ],
           "xaxis": "x",
           "y": {
            "bdata": "AAAAAAAAOkA=",
            "dtype": "f8"
           },
           "yaxis": "y"
          },
          {
           "hovertemplate": "TEAM=%{x}<br>YEAR=2002<br>SEASON_RANK=%{y}<extra></extra>",
           "legendgroup": "Portland",
           "marker": {
            "color": "#FF6692",
            "pattern": {
             "shape": ""
            }
           },
           "name": "Portland",
           "orientation": "v",
           "showlegend": true,
           "textposition": "auto",
           "type": "bar",
           "x": [
            "Portland"
           ],
           "xaxis": "x",
           "y": {
            "bdata": "AAAAAAAAFEA=",
            "dtype": "f8"
           },
           "yaxis": "y"
          },
          {
           "hovertemplate": "TEAM=%{x}<br>YEAR=2002<br>SEASON_RANK=%{y}<extra></extra>",
           "legendgroup": "Utah",
           "marker": {
            "color": "#B6E880",
            "pattern": {
             "shape": ""
            }
           },
           "name": "Utah",
           "orientation": "v",
           "showlegend": true,
           "textposition": "auto",
           "type": "bar",
           "x": [
            "Utah"
           ],
           "xaxis": "x",
           "y": {
            "bdata": "AAAAAAAAJkA=",
            "dtype": "f8"
           },
           "yaxis": "y"
          },
          {
           "hovertemplate": "TEAM=%{x}<br>YEAR=2002<br>SEASON_RANK=%{y}<extra></extra>",
           "legendgroup": "New York",
           "marker": {
            "color": "#FF97FF",
            "pattern": {
             "shape": ""
            }
           },
           "name": "New York",
           "orientation": "v",
           "showlegend": true,
           "textposition": "auto",
           "type": "bar",
           "x": [
            "New York"
           ],
           "xaxis": "x",
           "y": {
            "bdata": "AAAAAAAANEA=",
            "dtype": "f8"
           },
           "yaxis": "y"
          },
          {
           "hovertemplate": "TEAM=%{x}<br>YEAR=2002<br>SEASON_RANK=%{y}<extra></extra>",
           "legendgroup": "Sacramento",
           "marker": {
            "color": "#FECB52",
            "pattern": {
             "shape": ""
            }
           },
           "name": "Sacramento",
           "orientation": "v",
           "showlegend": true,
           "textposition": "auto",
           "type": "bar",
           "x": [
            "Sacramento"
           ],
           "xaxis": "x",
           "y": {
            "bdata": "AAAAAAAACEA=",
            "dtype": "f8"
           },
           "yaxis": "y"
          },
          {
           "hovertemplate": "TEAM=%{x}<br>YEAR=2002<br>SEASON_RANK=%{y}<extra></extra>",
           "legendgroup": "Phoenix",
           "marker": {
            "color": "#EF553B",
            "pattern": {
             "shape": ""
            }
           },
           "name": "Phoenix",
           "orientation": "v",
           "showlegend": true,
           "textposition": "auto",
           "type": "bar",
           "x": [
            "Phoenix"
           ],
           "xaxis": "x",
           "y": {
            "bdata": "AAAAAAAAKkA=",
            "dtype": "f8"
           },
           "yaxis": "y"
          },
          {
           "hovertemplate": "TEAM=%{x}<br>YEAR=2002<br>SEASON_RANK=%{y}<extra></extra>",
           "legendgroup": "Philadelphia",
           "marker": {
            "color": "#00cc96",
            "pattern": {
             "shape": ""
            }
           },
           "name": "Philadelphia",
           "orientation": "v",
           "showlegend": true,
           "textposition": "auto",
           "type": "bar",
           "x": [
            "Philadelphia"
           ],
           "xaxis": "x",
           "y": {
            "bdata": "AAAAAAAAIkA=",
            "dtype": "f8"
           },
           "yaxis": "y"
          },
          {
           "hovertemplate": "TEAM=%{x}<br>YEAR=2002<br>SEASON_RANK=%{y}<extra></extra>",
           "legendgroup": "New Orleans",
           "marker": {
            "color": "#ab63fa",
            "pattern": {
             "shape": ""
            }
           },
           "name": "New Orleans",
           "orientation": "v",
           "showlegend": true,
           "textposition": "auto",
           "type": "bar",
           "x": [
            "New Orleans"
           ],
           "xaxis": "x",
           "y": {
            "bdata": "AAAAAAAAJkA=",
            "dtype": "f8"
           },
           "yaxis": "y"
          },
          {
           "hovertemplate": "TEAM=%{x}<br>YEAR=2002<br>SEASON_RANK=%{y}<extra></extra>",
           "legendgroup": "Denver",
           "marker": {
            "color": "#19d3f3",
            "pattern": {
             "shape": ""
            }
           },
           "name": "Denver",
           "orientation": "v",
           "showlegend": true,
           "textposition": "auto",
           "type": "bar",
           "x": [
            "Denver"
           ],
           "xaxis": "x",
           "y": {
            "bdata": "AAAAAAAAPEA=",
            "dtype": "f8"
           },
           "yaxis": "y"
          },
          {
           "hovertemplate": "TEAM=%{x}<br>YEAR=2002<br>SEASON_RANK=%{y}<extra></extra>",
           "legendgroup": "Memphis",
           "marker": {
            "color": "#FF6692",
            "pattern": {
             "shape": ""
            }
           },
           "name": "Memphis",
           "orientation": "v",
           "showlegend": true,
           "textposition": "auto",
           "type": "bar",
           "x": [
            "Memphis"
           ],
           "xaxis": "x",
           "y": {
            "bdata": "AAAAAAAAOEA=",
            "dtype": "f8"
           },
           "yaxis": "y"
          },
          {
           "hovertemplate": "TEAM=%{x}<br>YEAR=2002<br>SEASON_RANK=%{y}<extra></extra>",
           "legendgroup": "Cleveland",
           "marker": {
            "color": "#B6E880",
            "pattern": {
             "shape": ""
            }
           },
           "name": "Cleveland",
           "orientation": "v",
           "showlegend": true,
           "textposition": "auto",
           "type": "bar",
           "x": [
            "Cleveland"
           ],
           "xaxis": "x",
           "y": {
            "bdata": "AAAAAAAAPEA=",
            "dtype": "f8"
           },
           "yaxis": "y"
          },
          {
           "hovertemplate": "TEAM=%{x}<br>YEAR=2002<br>SEASON_RANK=%{y}<extra></extra>",
           "legendgroup": "Boston",
           "marker": {
            "color": "#FF97FF",
            "pattern": {
             "shape": ""
            }
           },
           "name": "Boston",
           "orientation": "v",
           "showlegend": true,
           "textposition": "auto",
           "type": "bar",
           "x": [
            "Boston"
           ],
           "xaxis": "x",
           "y": {
            "bdata": "AAAAAAAAKkA=",
            "dtype": "f8"
           },
           "yaxis": "y"
          },
          {
           "hovertemplate": "TEAM=%{x}<br>YEAR=2002<br>SEASON_RANK=%{y}<extra></extra>",
           "legendgroup": "Milwaukee",
           "marker": {
            "color": "#FECB52",
            "pattern": {
             "shape": ""
            }
           },
           "name": "Milwaukee",
           "orientation": "v",
           "showlegend": true,
           "textposition": "auto",
           "type": "bar",
           "x": [
            "Milwaukee"
           ],
           "xaxis": "x",
           "y": {
            "bdata": "AAAAAAAAMEA=",
            "dtype": "f8"
           },
           "yaxis": "y"
          },
          {
           "hovertemplate": "TEAM=%{x}<br>YEAR=2002<br>SEASON_RANK=%{y}<extra></extra>",
           "legendgroup": "L.A. Clippers",
           "marker": {
            "color": "#EF553B",
            "pattern": {
             "shape": ""
            }
           },
           "name": "L.A. Clippers",
           "orientation": "v",
           "showlegend": true,
           "textposition": "auto",
           "type": "bar",
           "x": [
            "L.A. Clippers"
           ],
           "xaxis": "x",
           "y": {
            "bdata": "AAAAAAAAOUA=",
            "dtype": "f8"
           },
           "yaxis": "y"
          },
          {
           "hovertemplate": "TEAM=%{x}<br>YEAR=2002<br>SEASON_RANK=%{y}<extra></extra>",
           "legendgroup": "New Jersey",
           "marker": {
            "color": "#00cc96",
            "pattern": {
             "shape": ""
            }
           },
           "name": "New Jersey",
           "orientation": "v",
           "showlegend": true,
           "textposition": "auto",
           "type": "bar",
           "x": [
            "New Jersey"
           ],
           "xaxis": "x",
           "y": {
            "bdata": "AAAAAAAAIEA=",
            "dtype": "f8"
           },
           "yaxis": "y"
          },
          {
           "hovertemplate": "TEAM=%{x}<br>YEAR=2002<br>SEASON_RANK=%{y}<extra></extra>",
           "legendgroup": "Seattle",
           "marker": {
            "color": "#ab63fa",
            "pattern": {
             "shape": ""
            }
           },
           "name": "Seattle",
           "orientation": "v",
           "showlegend": true,
           "textposition": "auto",
           "type": "bar",
           "x": [
            "Seattle"
           ],
           "xaxis": "x",
           "y": {
            "bdata": "AAAAAAAAMkA=",
            "dtype": "f8"
           },
           "yaxis": "y"
          }
         ],
         "name": "2002"
        },
        {
         "data": [
          {
           "hovertemplate": "TEAM=%{x}<br>YEAR=2003<br>SEASON_RANK=%{y}<extra></extra>",
           "legendgroup": "Detroit",
           "marker": {
            "color": "#636efa",
            "pattern": {
             "shape": ""
            }
           },
           "name": "Detroit",
           "orientation": "v",
           "showlegend": true,
           "textposition": "auto",
           "type": "bar",
           "x": [
            "Detroit"
           ],
           "xaxis": "x",
           "y": {
            "bdata": "AAAAAAAAGEA=",
            "dtype": "f8"
           },
           "yaxis": "y"
          },
          {
           "hovertemplate": "TEAM=%{x}<br>YEAR=2003<br>SEASON_RANK=%{y}<extra></extra>",
           "legendgroup": "Houston",
           "marker": {
            "color": "#00cc96",
            "pattern": {
             "shape": ""
            }
           },
           "name": "Houston",
           "orientation": "v",
           "showlegend": true,
           "textposition": "auto",
           "type": "bar",
           "x": [
            "Houston"
           ],
           "xaxis": "x",
           "y": {
            "bdata": "AAAAAAAAJEA=",
            "dtype": "f8"
           },
           "yaxis": "y"
          },
          {
           "hovertemplate": "TEAM=%{x}<br>YEAR=2003<br>SEASON_RANK=%{y}<extra></extra>",
           "legendgroup": "San Antonio",
           "marker": {
            "color": "#ab63fa",
            "pattern": {
             "shape": ""
            }
           },
           "name": "San Antonio",
           "orientation": "v",
           "showlegend": true,
           "textposition": "auto",
           "type": "bar",
           "x": [
            "San Antonio"
           ],
           "xaxis": "x",
           "y": {
            "bdata": "AAAAAAAACEA=",
            "dtype": "f8"
           },
           "yaxis": "y"
          },
          {
           "hovertemplate": "TEAM=%{x}<br>YEAR=2003<br>SEASON_RANK=%{y}<extra></extra>",
           "legendgroup": "Orlando",
           "marker": {
            "color": "#FFA15A",
            "pattern": {
             "shape": ""
            }
           },
           "name": "Orlando",
           "orientation": "v",
           "showlegend": true,
           "textposition": "auto",
           "type": "bar",
           "x": [
            "Orlando"
           ],
           "xaxis": "x",
           "y": {
            "bdata": "AAAAAAAAPUA=",
            "dtype": "f8"
           },
           "yaxis": "y"
          },
          {
           "hovertemplate": "TEAM=%{x}<br>YEAR=2003<br>SEASON_RANK=%{y}<extra></extra>",
           "legendgroup": "Washington",
           "marker": {
            "color": "#19d3f3",
            "pattern": {
             "shape": ""
            }
           },
           "name": "Washington",
           "orientation": "v",
           "showlegend": true,
           "textposition": "auto",
           "type": "bar",
           "x": [
            "Washington"
           ],
           "xaxis": "x",
           "y": {
            "bdata": "AAAAAAAAO0A=",
            "dtype": "f8"
           },
           "yaxis": "y"
          },
          {
           "hovertemplate": "TEAM=%{x}<br>YEAR=2003<br>SEASON_RANK=%{y}<extra></extra>",
           "legendgroup": "L.A. Lakers",
           "marker": {
            "color": "#FF6692",
            "pattern": {
             "shape": ""
            }
           },
           "name": "L.A. Lakers",
           "orientation": "v",
           "showlegend": true,
           "textposition": "auto",
           "type": "bar",
           "x": [
            "L.A. Lakers"
           ],
           "xaxis": "x",
           "y": {
            "bdata": "AAAAAAAAEEA=",
            "dtype": "f8"
           },
           "yaxis": "y"
          },
          {
           "hovertemplate": "TEAM=%{x}<br>YEAR=2003<br>SEASON_RANK=%{y}<extra></extra>",
           "legendgroup": "Chicago",
           "marker": {
            "color": "#B6E880",
            "pattern": {
             "shape": ""
            }
           },
           "name": "Chicago",
           "orientation": "v",
           "showlegend": true,
           "textposition": "auto",
           "type": "bar",
           "x": [
            "Chicago"
           ],
           "xaxis": "x",
           "y": {
            "bdata": "AAAAAAAAPEA=",
            "dtype": "f8"
           },
           "yaxis": "y"
          },
          {
           "hovertemplate": "TEAM=%{x}<br>YEAR=2003<br>SEASON_RANK=%{y}<extra></extra>",
           "legendgroup": "Toronto",
           "marker": {
            "color": "#FECB52",
            "pattern": {
             "shape": ""
            }
           },
           "name": "Toronto",
           "orientation": "v",
           "showlegend": true,
           "textposition": "auto",
           "type": "bar",
           "x": [
            "Toronto"
           ],
           "xaxis": "x",
           "y": {
            "bdata": "AAAAAAAANkA=",
            "dtype": "f8"
           },
           "yaxis": "y"
          },
          {
           "hovertemplate": "TEAM=%{x}<br>YEAR=2003<br>SEASON_RANK=%{y}<extra></extra>",
           "legendgroup": "Golden State",
           "marker": {
            "color": "#636efa",
            "pattern": {
             "shape": ""
            }
           },
           "name": "Golden State",
           "orientation": "v",
           "showlegend": true,
           "textposition": "auto",
           "type": "bar",
           "x": [
            "Golden State"
           ],
           "xaxis": "x",
           "y": {
            "bdata": "AAAAAAAAMkA=",
            "dtype": "f8"
           },
           "yaxis": "y"
          },
          {
           "hovertemplate": "TEAM=%{x}<br>YEAR=2003<br>SEASON_RANK=%{y}<extra></extra>",
           "legendgroup": "Dallas",
           "marker": {
            "color": "#EF553B",
            "pattern": {
             "shape": ""
            }
           },
           "name": "Dallas",
           "orientation": "v",
           "showlegend": true,
           "textposition": "auto",
           "type": "bar",
           "x": [
            "Dallas"
           ],
           "xaxis": "x",
           "y": {
            "bdata": "AAAAAAAAHEA=",
            "dtype": "f8"
           },
           "yaxis": "y"
          },
          {
           "hovertemplate": "TEAM=%{x}<br>YEAR=2003<br>SEASON_RANK=%{y}<extra></extra>",
           "legendgroup": "Minnesota",
           "marker": {
            "color": "#00cc96",
            "pattern": {
             "shape": ""
            }
           },
           "name": "Minnesota",
           "orientation": "v",
           "showlegend": true,
           "textposition": "auto",
           "type": "bar",
           "x": [
            "Minnesota"
           ],
           "xaxis": "x",
           "y": {
            "bdata": "AAAAAAAAAEA=",
            "dtype": "f8"
           },
           "yaxis": "y"
          },
          {
           "hovertemplate": "TEAM=%{x}<br>YEAR=2003<br>SEASON_RANK=%{y}<extra></extra>",
           "legendgroup": "Atlanta",
           "marker": {
            "color": "#ab63fa",
            "pattern": {
             "shape": ""
            }
           },
           "name": "Atlanta",
           "orientation": "v",
           "showlegend": true,
           "textposition": "auto",
           "type": "bar",
           "x": [
            "Atlanta"
           ],
           "xaxis": "x",
           "y": {
            "bdata": "AAAAAAAAOUA=",
            "dtype": "f8"
           },
           "yaxis": "y"
          },
          {
           "hovertemplate": "TEAM=%{x}<br>YEAR=2003<br>SEASON_RANK=%{y}<extra></extra>",
           "legendgroup": "Indiana",
           "marker": {
            "color": "#FFA15A",
            "pattern": {
             "shape": ""
            }
           },
           "name": "Indiana",
           "orientation": "v",
           "showlegend": true,
           "textposition": "auto",
           "type": "bar",
           "x": [
            "Indiana"
           ],
           "xaxis": "x",
           "y": {
            "bdata": "AAAAAAAA8D8=",
            "dtype": "f8"
           },
           "yaxis": "y"
          },
          {
           "hovertemplate": "TEAM=%{x}<br>YEAR=2003<br>SEASON_RANK=%{y}<extra></extra>",
           "legendgroup": "Miami",
           "marker": {
            "color": "#19d3f3",
            "pattern": {
             "shape": ""
            }
           },
           "name": "Miami",
           "orientation": "v",
           "showlegend": true,
           "textposition": "auto",
           "type": "bar",
           "x": [
            "Miami"
           ],
           "xaxis": "x",
           "y": {
            "bdata": "AAAAAAAAKEA=",
            "dtype": "f8"
           },
           "yaxis": "y"
          },
          {
           "hovertemplate": "TEAM=%{x}<br>YEAR=2003<br>SEASON_RANK=%{y}<extra></extra>",
           "legendgroup": "Portland",
           "marker": {
            "color": "#FF6692",
            "pattern": {
             "shape": ""
            }
           },
           "name": "Portland",
           "orientation": "v",
           "showlegend": true,
           "textposition": "auto",
           "type": "bar",
           "x": [
            "Portland"
           ],
           "xaxis": "x",
           "y": {
            "bdata": "AAAAAAAALEA=",
            "dtype": "f8"
           },
           "yaxis": "y"
          },
          {
           "hovertemplate": "TEAM=%{x}<br>YEAR=2003<br>SEASON_RANK=%{y}<extra></extra>",
           "legendgroup": "Utah",
           "marker": {
            "color": "#B6E880",
            "pattern": {
             "shape": ""
            }
           },
           "name": "Utah",
           "orientation": "v",
           "showlegend": true,
           "textposition": "auto",
           "type": "bar",
           "x": [
            "Utah"
           ],
           "xaxis": "x",
           "y": {
            "bdata": "AAAAAAAAKEA=",
            "dtype": "f8"
           },
           "yaxis": "y"
          },
          {
           "hovertemplate": "TEAM=%{x}<br>YEAR=2003<br>SEASON_RANK=%{y}<extra></extra>",
           "legendgroup": "New York",
           "marker": {
            "color": "#FF97FF",
            "pattern": {
             "shape": ""
            }
           },
           "name": "New York",
           "orientation": "v",
           "showlegend": true,
           "textposition": "auto",
           "type": "bar",
           "x": [
            "New York"
           ],
           "xaxis": "x",
           "y": {
            "bdata": "AAAAAAAAMUA=",
            "dtype": "f8"
           },
           "yaxis": "y"
          },
          {
           "hovertemplate": "TEAM=%{x}<br>YEAR=2003<br>SEASON_RANK=%{y}<extra></extra>",
           "legendgroup": "Sacramento",
           "marker": {
            "color": "#FECB52",
            "pattern": {
             "shape": ""
            }
           },
           "name": "Sacramento",
           "orientation": "v",
           "showlegend": true,
           "textposition": "auto",
           "type": "bar",
           "x": [
            "Sacramento"
           ],
           "xaxis": "x",
           "y": {
            "bdata": "AAAAAAAAFEA=",
            "dtype": "f8"
           },
           "yaxis": "y"
          },
          {
           "hovertemplate": "TEAM=%{x}<br>YEAR=2003<br>SEASON_RANK=%{y}<extra></extra>",
           "legendgroup": "Phoenix",
           "marker": {
            "color": "#EF553B",
            "pattern": {
             "shape": ""
            }
           },
           "name": "Phoenix",
           "orientation": "v",
           "showlegend": true,
           "textposition": "auto",
           "type": "bar",
           "x": [
            "Phoenix"
           ],
           "xaxis": "x",
           "y": {
            "bdata": "AAAAAAAAOEA=",
            "dtype": "f8"
           },
           "yaxis": "y"
          },
          {
           "hovertemplate": "TEAM=%{x}<br>YEAR=2003<br>SEASON_RANK=%{y}<extra></extra>",
           "legendgroup": "Philadelphia",
           "marker": {
            "color": "#00cc96",
            "pattern": {
             "shape": ""
            }
           },
           "name": "Philadelphia",
           "orientation": "v",
           "showlegend": true,
           "textposition": "auto",
           "type": "bar",
           "x": [
            "Philadelphia"
           ],
           "xaxis": "x",
           "y": {
            "bdata": "AAAAAAAANkA=",
            "dtype": "f8"
           },
           "yaxis": "y"
          },
          {
           "hovertemplate": "TEAM=%{x}<br>YEAR=2003<br>SEASON_RANK=%{y}<extra></extra>",
           "legendgroup": "New Orleans",
           "marker": {
            "color": "#ab63fa",
            "pattern": {
             "shape": ""
            }
           },
           "name": "New Orleans",
           "orientation": "v",
           "showlegend": true,
           "textposition": "auto",
           "type": "bar",
           "x": [
            "New Orleans"
           ],
           "xaxis": "x",
           "y": {
            "bdata": "AAAAAAAALEA=",
            "dtype": "f8"
           },
           "yaxis": "y"
          },
          {
           "hovertemplate": "TEAM=%{x}<br>YEAR=2003<br>SEASON_RANK=%{y}<extra></extra>",
           "legendgroup": "Denver",
           "marker": {
            "color": "#19d3f3",
            "pattern": {
             "shape": ""
            }
           },
           "name": "Denver",
           "orientation": "v",
           "showlegend": true,
           "textposition": "auto",
           "type": "bar",
           "x": [
            "Denver"
           ],
           "xaxis": "x",
           "y": {
            "bdata": "AAAAAAAAJkA=",
            "dtype": "f8"
           },
           "yaxis": "y"
          },
          {
           "hovertemplate": "TEAM=%{x}<br>YEAR=2003<br>SEASON_RANK=%{y}<extra></extra>",
           "legendgroup": "Memphis",
           "marker": {
            "color": "#FF6692",
            "pattern": {
             "shape": ""
            }
           },
           "name": "Memphis",
           "orientation": "v",
           "showlegend": true,
           "textposition": "auto",
           "type": "bar",
           "x": [
            "Memphis"
           ],
           "xaxis": "x",
           "y": {
            "bdata": "AAAAAAAAIEA=",
            "dtype": "f8"
           },
           "yaxis": "y"
          },
          {
           "hovertemplate": "TEAM=%{x}<br>YEAR=2003<br>SEASON_RANK=%{y}<extra></extra>",
           "legendgroup": "Cleveland",
           "marker": {
            "color": "#B6E880",
            "pattern": {
             "shape": ""
            }
           },
           "name": "Cleveland",
           "orientation": "v",
           "showlegend": true,
           "textposition": "auto",
           "type": "bar",
           "x": [
            "Cleveland"
           ],
           "xaxis": "x",
           "y": {
            "bdata": "AAAAAAAANUA=",
            "dtype": "f8"
           },
           "yaxis": "y"
          },
          {
           "hovertemplate": "TEAM=%{x}<br>YEAR=2003<br>SEASON_RANK=%{y}<extra></extra>",
           "legendgroup": "Boston",
           "marker": {
            "color": "#FF97FF",
            "pattern": {
             "shape": ""
            }
           },
           "name": "Boston",
           "orientation": "v",
           "showlegend": true,
           "textposition": "auto",
           "type": "bar",
           "x": [
            "Boston"
           ],
           "xaxis": "x",
           "y": {
            "bdata": "AAAAAAAANEA=",
            "dtype": "f8"
           },
           "yaxis": "y"
          },
          {
           "hovertemplate": "TEAM=%{x}<br>YEAR=2003<br>SEASON_RANK=%{y}<extra></extra>",
           "legendgroup": "Milwaukee",
           "marker": {
            "color": "#FECB52",
            "pattern": {
             "shape": ""
            }
           },
           "name": "Milwaukee",
           "orientation": "v",
           "showlegend": true,
           "textposition": "auto",
           "type": "bar",
           "x": [
            "Milwaukee"
           ],
           "xaxis": "x",
           "y": {
            "bdata": "AAAAAAAALEA=",
            "dtype": "f8"
           },
           "yaxis": "y"
          },
          {
           "hovertemplate": "TEAM=%{x}<br>YEAR=2003<br>SEASON_RANK=%{y}<extra></extra>",
           "legendgroup": "L.A. Clippers",
           "marker": {
            "color": "#EF553B",
            "pattern": {
             "shape": ""
            }
           },
           "name": "L.A. Clippers",
           "orientation": "v",
           "showlegend": true,
           "textposition": "auto",
           "type": "bar",
           "x": [
            "L.A. Clippers"
           ],
           "xaxis": "x",
           "y": {
            "bdata": "AAAAAAAAOUA=",
            "dtype": "f8"
           },
           "yaxis": "y"
          },
          {
           "hovertemplate": "TEAM=%{x}<br>YEAR=2003<br>SEASON_RANK=%{y}<extra></extra>",
           "legendgroup": "New Jersey",
           "marker": {
            "color": "#00cc96",
            "pattern": {
             "shape": ""
            }
           },
           "name": "New Jersey",
           "orientation": "v",
           "showlegend": true,
           "textposition": "auto",
           "type": "bar",
           "x": [
            "New Jersey"
           ],
           "xaxis": "x",
           "y": {
            "bdata": "AAAAAAAAIkA=",
            "dtype": "f8"
           },
           "yaxis": "y"
          },
          {
           "hovertemplate": "TEAM=%{x}<br>YEAR=2003<br>SEASON_RANK=%{y}<extra></extra>",
           "legendgroup": "Seattle",
           "marker": {
            "color": "#ab63fa",
            "pattern": {
             "shape": ""
            }
           },
           "name": "Seattle",
           "orientation": "v",
           "showlegend": true,
           "textposition": "auto",
           "type": "bar",
           "x": [
            "Seattle"
           ],
           "xaxis": "x",
           "y": {
            "bdata": "AAAAAAAAMkA=",
            "dtype": "f8"
           },
           "yaxis": "y"
          }
         ],
         "name": "2003"
        },
        {
         "data": [
          {
           "hovertemplate": "TEAM=%{x}<br>YEAR=2004<br>SEASON_RANK=%{y}<extra></extra>",
           "legendgroup": "Detroit",
           "marker": {
            "color": "#636efa",
            "pattern": {
             "shape": ""
            }
           },
           "name": "Detroit",
           "orientation": "v",
           "showlegend": true,
           "textposition": "auto",
           "type": "bar",
           "x": [
            "Detroit"
           ],
           "xaxis": "x",
           "y": {
            "bdata": "AAAAAAAAFEA=",
            "dtype": "f8"
           },
           "yaxis": "y"
          },
          {
           "hovertemplate": "TEAM=%{x}<br>YEAR=2004<br>SEASON_RANK=%{y}<extra></extra>",
           "legendgroup": "Charlotte",
           "marker": {
            "color": "#EF553B",
            "pattern": {
             "shape": ""
            }
           },
           "name": "Charlotte",
           "orientation": "v",
           "showlegend": true,
           "textposition": "auto",
           "type": "bar",
           "x": [
            "Charlotte"
           ],
           "xaxis": "x",
           "y": {
            "bdata": "AAAAAAAAPEA=",
            "dtype": "f8"
           },
           "yaxis": "y"
          },
          {
           "hovertemplate": "TEAM=%{x}<br>YEAR=2004<br>SEASON_RANK=%{y}<extra></extra>",
           "legendgroup": "Houston",
           "marker": {
            "color": "#00cc96",
            "pattern": {
             "shape": ""
            }
           },
           "name": "Houston",
           "orientation": "v",
           "showlegend": true,
           "textposition": "auto",
           "type": "bar",
           "x": [
            "Houston"
           ],
           "xaxis": "x",
           "y": {
            "bdata": "AAAAAAAAHEA=",
            "dtype": "f8"
           },
           "yaxis": "y"
          },
          {
           "hovertemplate": "TEAM=%{x}<br>YEAR=2004<br>SEASON_RANK=%{y}<extra></extra>",
           "legendgroup": "San Antonio",
           "marker": {
            "color": "#ab63fa",
            "pattern": {
             "shape": ""
            }
           },
           "name": "San Antonio",
           "orientation": "v",
           "showlegend": true,
           "textposition": "auto",
           "type": "bar",
           "x": [
            "San Antonio"
           ],
           "xaxis": "x",
           "y": {
            "bdata": "AAAAAAAAAEA=",
            "dtype": "f8"
           },
           "yaxis": "y"
          },
          {
           "hovertemplate": "TEAM=%{x}<br>YEAR=2004<br>SEASON_RANK=%{y}<extra></extra>",
           "legendgroup": "Orlando",
           "marker": {
            "color": "#FFA15A",
            "pattern": {
             "shape": ""
            }
           },
           "name": "Orlando",
           "orientation": "v",
           "showlegend": true,
           "textposition": "auto",
           "type": "bar",
           "x": [
            "Orlando"
           ],
           "xaxis": "x",
           "y": {
            "bdata": "AAAAAAAANEA=",
            "dtype": "f8"
           },
           "yaxis": "y"
          },
          {
           "hovertemplate": "TEAM=%{x}<br>YEAR=2004<br>SEASON_RANK=%{y}<extra></extra>",
           "legendgroup": "Washington",
           "marker": {
            "color": "#19d3f3",
            "pattern": {
             "shape": ""
            }
           },
           "name": "Washington",
           "orientation": "v",
           "showlegend": true,
           "textposition": "auto",
           "type": "bar",
           "x": [
            "Washington"
           ],
           "xaxis": "x",
           "y": {
            "bdata": "AAAAAAAAJkA=",
            "dtype": "f8"
           },
           "yaxis": "y"
          },
          {
           "hovertemplate": "TEAM=%{x}<br>YEAR=2004<br>SEASON_RANK=%{y}<extra></extra>",
           "legendgroup": "L.A. Lakers",
           "marker": {
            "color": "#FF6692",
            "pattern": {
             "shape": ""
            }
           },
           "name": "L.A. Lakers",
           "orientation": "v",
           "showlegend": true,
           "textposition": "auto",
           "type": "bar",
           "x": [
            "L.A. Lakers"
           ],
           "xaxis": "x",
           "y": {
            "bdata": "AAAAAAAANUA=",
            "dtype": "f8"
           },
           "yaxis": "y"
          },
          {
           "hovertemplate": "TEAM=%{x}<br>YEAR=2004<br>SEASON_RANK=%{y}<extra></extra>",
           "legendgroup": "Chicago",
           "marker": {
            "color": "#B6E880",
            "pattern": {
             "shape": ""
            }
           },
           "name": "Chicago",
           "orientation": "v",
           "showlegend": true,
           "textposition": "auto",
           "type": "bar",
           "x": [
            "Chicago"
           ],
           "xaxis": "x",
           "y": {
            "bdata": "AAAAAAAAJEA=",
            "dtype": "f8"
           },
           "yaxis": "y"
          },
          {
           "hovertemplate": "TEAM=%{x}<br>YEAR=2004<br>SEASON_RANK=%{y}<extra></extra>",
           "legendgroup": "Toronto",
           "marker": {
            "color": "#FECB52",
            "pattern": {
             "shape": ""
            }
           },
           "name": "Toronto",
           "orientation": "v",
           "showlegend": true,
           "textposition": "auto",
           "type": "bar",
           "x": [
            "Toronto"
           ],
           "xaxis": "x",
           "y": {
            "bdata": "AAAAAAAAN0A=",
            "dtype": "f8"
           },
           "yaxis": "y"
          },
          {
           "hovertemplate": "TEAM=%{x}<br>YEAR=2004<br>SEASON_RANK=%{y}<extra></extra>",
           "legendgroup": "Golden State",
           "marker": {
            "color": "#636efa",
            "pattern": {
             "shape": ""
            }
           },
           "name": "Golden State",
           "orientation": "v",
           "showlegend": true,
           "textposition": "auto",
           "type": "bar",
           "x": [
            "Golden State"
           ],
           "xaxis": "x",
           "y": {
            "bdata": "AAAAAAAANUA=",
            "dtype": "f8"
           },
           "yaxis": "y"
          },
          {
           "hovertemplate": "TEAM=%{x}<br>YEAR=2004<br>SEASON_RANK=%{y}<extra></extra>",
           "legendgroup": "Dallas",
           "marker": {
            "color": "#EF553B",
            "pattern": {
             "shape": ""
            }
           },
           "name": "Dallas",
           "orientation": "v",
           "showlegend": true,
           "textposition": "auto",
           "type": "bar",
           "x": [
            "Dallas"
           ],
           "xaxis": "x",
           "y": {
            "bdata": "AAAAAAAAEEA=",
            "dtype": "f8"
           },
           "yaxis": "y"
          },
          {
           "hovertemplate": "TEAM=%{x}<br>YEAR=2004<br>SEASON_RANK=%{y}<extra></extra>",
           "legendgroup": "Minnesota",
           "marker": {
            "color": "#00cc96",
            "pattern": {
             "shape": ""
            }
           },
           "name": "Minnesota",
           "orientation": "v",
           "showlegend": true,
           "textposition": "auto",
           "type": "bar",
           "x": [
            "Minnesota"
           ],
           "xaxis": "x",
           "y": {
            "bdata": "AAAAAAAALEA=",
            "dtype": "f8"
           },
           "yaxis": "y"
          },
          {
           "hovertemplate": "TEAM=%{x}<br>YEAR=2004<br>SEASON_RANK=%{y}<extra></extra>",
           "legendgroup": "Atlanta",
           "marker": {
            "color": "#ab63fa",
            "pattern": {
             "shape": ""
            }
           },
           "name": "Atlanta",
           "orientation": "v",
           "showlegend": true,
           "textposition": "auto",
           "type": "bar",
           "x": [
            "Atlanta"
           ],
           "xaxis": "x",
           "y": {
            "bdata": "AAAAAAAAPkA=",
            "dtype": "f8"
           },
           "yaxis": "y"
          },
          {
           "hovertemplate": "TEAM=%{x}<br>YEAR=2004<br>SEASON_RANK=%{y}<extra></extra>",
           "legendgroup": "Indiana",
           "marker": {
            "color": "#FFA15A",
            "pattern": {
             "shape": ""
            }
           },
           "name": "Indiana",
           "orientation": "v",
           "showlegend": true,
           "textposition": "auto",
           "type": "bar",
           "x": [
            "Indiana"
           ],
           "xaxis": "x",
           "y": {
            "bdata": "AAAAAAAALEA=",
            "dtype": "f8"
           },
           "yaxis": "y"
          },
          {
           "hovertemplate": "TEAM=%{x}<br>YEAR=2004<br>SEASON_RANK=%{y}<extra></extra>",
           "legendgroup": "Miami",
           "marker": {
            "color": "#19d3f3",
            "pattern": {
             "shape": ""
            }
           },
           "name": "Miami",
           "orientation": "v",
           "showlegend": true,
           "textposition": "auto",
           "type": "bar",
           "x": [
            "Miami"
           ],
           "xaxis": "x",
           "y": {
            "bdata": "AAAAAAAAAEA=",
            "dtype": "f8"
           },
           "yaxis": "y"
          },
          {
           "hovertemplate": "TEAM=%{x}<br>YEAR=2004<br>SEASON_RANK=%{y}<extra></extra>",
           "legendgroup": "Portland",
           "marker": {
            "color": "#FF6692",
            "pattern": {
             "shape": ""
            }
           },
           "name": "Portland",
           "orientation": "v",
           "showlegend": true,
           "textposition": "auto",
           "type": "bar",
           "x": [
            "Portland"
           ],
           "xaxis": "x",
           "y": {
            "bdata": "AAAAAAAAOkA=",
            "dtype": "f8"
           },
           "yaxis": "y"
          },
          {
           "hovertemplate": "TEAM=%{x}<br>YEAR=2004<br>SEASON_RANK=%{y}<extra></extra>",
           "legendgroup": "Utah",
           "marker": {
            "color": "#B6E880",
            "pattern": {
             "shape": ""
            }
           },
           "name": "Utah",
           "orientation": "v",
           "showlegend": true,
           "textposition": "auto",
           "type": "bar",
           "x": [
            "Utah"
           ],
           "xaxis": "x",
           "y": {
            "bdata": "AAAAAAAAO0A=",
            "dtype": "f8"
           },
           "yaxis": "y"
          },
          {
           "hovertemplate": "TEAM=%{x}<br>YEAR=2004<br>SEASON_RANK=%{y}<extra></extra>",
           "legendgroup": "New York",
           "marker": {
            "color": "#FF97FF",
            "pattern": {
             "shape": ""
            }
           },
           "name": "New York",
           "orientation": "v",
           "showlegend": true,
           "textposition": "auto",
           "type": "bar",
           "x": [
            "New York"
           ],
           "xaxis": "x",
           "y": {
            "bdata": "AAAAAAAAN0A=",
            "dtype": "f8"
           },
           "yaxis": "y"
          },
          {
           "hovertemplate": "TEAM=%{x}<br>YEAR=2004<br>SEASON_RANK=%{y}<extra></extra>",
           "legendgroup": "Sacramento",
           "marker": {
            "color": "#FECB52",
            "pattern": {
             "shape": ""
            }
           },
           "name": "Sacramento",
           "orientation": "v",
           "showlegend": true,
           "textposition": "auto",
           "type": "bar",
           "x": [
            "Sacramento"
           ],
           "xaxis": "x",
           "y": {
            "bdata": "AAAAAAAAIEA=",
            "dtype": "f8"
           },
           "yaxis": "y"
          },
          {
           "hovertemplate": "TEAM=%{x}<br>YEAR=2004<br>SEASON_RANK=%{y}<extra></extra>",
           "legendgroup": "Phoenix",
           "marker": {
            "color": "#EF553B",
            "pattern": {
             "shape": ""
            }
           },
           "name": "Phoenix",
           "orientation": "v",
           "showlegend": true,
           "textposition": "auto",
           "type": "bar",
           "x": [
            "Phoenix"
           ],
           "xaxis": "x",
           "y": {
            "bdata": "AAAAAAAA8D8=",
            "dtype": "f8"
           },
           "yaxis": "y"
          },
          {
           "hovertemplate": "TEAM=%{x}<br>YEAR=2004<br>SEASON_RANK=%{y}<extra></extra>",
           "legendgroup": "Philadelphia",
           "marker": {
            "color": "#00cc96",
            "pattern": {
             "shape": ""
            }
           },
           "name": "Philadelphia",
           "orientation": "v",
           "showlegend": true,
           "textposition": "auto",
           "type": "bar",
           "x": [
            "Philadelphia"
           ],
           "xaxis": "x",
           "y": {
            "bdata": "AAAAAAAAMEA=",
            "dtype": "f8"
           },
           "yaxis": "y"
          },
          {
           "hovertemplate": "TEAM=%{x}<br>YEAR=2004<br>SEASON_RANK=%{y}<extra></extra>",
           "legendgroup": "New Orleans",
           "marker": {
            "color": "#ab63fa",
            "pattern": {
             "shape": ""
            }
           },
           "name": "New Orleans",
           "orientation": "v",
           "showlegend": true,
           "textposition": "auto",
           "type": "bar",
           "x": [
            "New Orleans"
           ],
           "xaxis": "x",
           "y": {
            "bdata": "AAAAAAAAPEA=",
            "dtype": "f8"
           },
           "yaxis": "y"
          },
          {
           "hovertemplate": "TEAM=%{x}<br>YEAR=2004<br>SEASON_RANK=%{y}<extra></extra>",
           "legendgroup": "Denver",
           "marker": {
            "color": "#19d3f3",
            "pattern": {
             "shape": ""
            }
           },
           "name": "Denver",
           "orientation": "v",
           "showlegend": true,
           "textposition": "auto",
           "type": "bar",
           "x": [
            "Denver"
           ],
           "xaxis": "x",
           "y": {
            "bdata": "AAAAAAAAIkA=",
            "dtype": "f8"
           },
           "yaxis": "y"
          },
          {
           "hovertemplate": "TEAM=%{x}<br>YEAR=2004<br>SEASON_RANK=%{y}<extra></extra>",
           "legendgroup": "Memphis",
           "marker": {
            "color": "#FF6692",
            "pattern": {
             "shape": ""
            }
           },
           "name": "Memphis",
           "orientation": "v",
           "showlegend": true,
           "textposition": "auto",
           "type": "bar",
           "x": [
            "Memphis"
           ],
           "xaxis": "x",
           "y": {
            "bdata": "AAAAAAAAJkA=",
            "dtype": "f8"
           },
           "yaxis": "y"
          },
          {
           "hovertemplate": "TEAM=%{x}<br>YEAR=2004<br>SEASON_RANK=%{y}<extra></extra>",
           "legendgroup": "Cleveland",
           "marker": {
            "color": "#B6E880",
            "pattern": {
             "shape": ""
            }
           },
           "name": "Cleveland",
           "orientation": "v",
           "showlegend": true,
           "textposition": "auto",
           "type": "bar",
           "x": [
            "Cleveland"
           ],
           "xaxis": "x",
           "y": {
            "bdata": "AAAAAAAAMUA=",
            "dtype": "f8"
           },
           "yaxis": "y"
          },
          {
           "hovertemplate": "TEAM=%{x}<br>YEAR=2004<br>SEASON_RANK=%{y}<extra></extra>",
           "legendgroup": "Boston",
           "marker": {
            "color": "#FF97FF",
            "pattern": {
             "shape": ""
            }
           },
           "name": "Boston",
           "orientation": "v",
           "showlegend": true,
           "textposition": "auto",
           "type": "bar",
           "x": [
            "Boston"
           ],
           "xaxis": "x",
           "y": {
            "bdata": "AAAAAAAAJkA=",
            "dtype": "f8"
           },
           "yaxis": "y"
          },
          {
           "hovertemplate": "TEAM=%{x}<br>YEAR=2004<br>SEASON_RANK=%{y}<extra></extra>",
           "legendgroup": "Milwaukee",
           "marker": {
            "color": "#FECB52",
            "pattern": {
             "shape": ""
            }
           },
           "name": "Milwaukee",
           "orientation": "v",
           "showlegend": true,
           "textposition": "auto",
           "type": "bar",
           "x": [
            "Milwaukee"
           ],
           "xaxis": "x",
           "y": {
            "bdata": "AAAAAAAAOUA=",
            "dtype": "f8"
           },
           "yaxis": "y"
          },
          {
           "hovertemplate": "TEAM=%{x}<br>YEAR=2004<br>SEASON_RANK=%{y}<extra></extra>",
           "legendgroup": "L.A. Clippers",
           "marker": {
            "color": "#EF553B",
            "pattern": {
             "shape": ""
            }
           },
           "name": "L.A. Clippers",
           "orientation": "v",
           "showlegend": true,
           "textposition": "auto",
           "type": "bar",
           "x": [
            "L.A. Clippers"
           ],
           "xaxis": "x",
           "y": {
            "bdata": "AAAAAAAAM0A=",
            "dtype": "f8"
           },
           "yaxis": "y"
          },
          {
           "hovertemplate": "TEAM=%{x}<br>YEAR=2004<br>SEASON_RANK=%{y}<extra></extra>",
           "legendgroup": "New Jersey",
           "marker": {
            "color": "#00cc96",
            "pattern": {
             "shape": ""
            }
           },
           "name": "New Jersey",
           "orientation": "v",
           "showlegend": true,
           "textposition": "auto",
           "type": "bar",
           "x": [
            "New Jersey"
           ],
           "xaxis": "x",
           "y": {
            "bdata": "AAAAAAAAMUA=",
            "dtype": "f8"
           },
           "yaxis": "y"
          },
          {
           "hovertemplate": "TEAM=%{x}<br>YEAR=2004<br>SEASON_RANK=%{y}<extra></extra>",
           "legendgroup": "Seattle",
           "marker": {
            "color": "#ab63fa",
            "pattern": {
             "shape": ""
            }
           },
           "name": "Seattle",
           "orientation": "v",
           "showlegend": true,
           "textposition": "auto",
           "type": "bar",
           "x": [
            "Seattle"
           ],
           "xaxis": "x",
           "y": {
            "bdata": "AAAAAAAAGEA=",
            "dtype": "f8"
           },
           "yaxis": "y"
          }
         ],
         "name": "2004"
        },
        {
         "data": [
          {
           "hovertemplate": "TEAM=%{x}<br>YEAR=2005<br>SEASON_RANK=%{y}<extra></extra>",
           "legendgroup": "Detroit",
           "marker": {
            "color": "#636efa",
            "pattern": {
             "shape": ""
            }
           },
           "name": "Detroit",
           "orientation": "v",
           "showlegend": true,
           "textposition": "auto",
           "type": "bar",
           "x": [
            "Detroit"
           ],
           "xaxis": "x",
           "y": {
            "bdata": "AAAAAAAA8D8=",
            "dtype": "f8"
           },
           "yaxis": "y"
          },
          {
           "hovertemplate": "TEAM=%{x}<br>YEAR=2005<br>SEASON_RANK=%{y}<extra></extra>",
           "legendgroup": "Charlotte",
           "marker": {
            "color": "#EF553B",
            "pattern": {
             "shape": ""
            }
           },
           "name": "Charlotte",
           "orientation": "v",
           "showlegend": true,
           "textposition": "auto",
           "type": "bar",
           "x": [
            "Charlotte"
           ],
           "xaxis": "x",
           "y": {
            "bdata": "AAAAAAAAO0A=",
            "dtype": "f8"
           },
           "yaxis": "y"
          },
          {
           "hovertemplate": "TEAM=%{x}<br>YEAR=2005<br>SEASON_RANK=%{y}<extra></extra>",
           "legendgroup": "Houston",
           "marker": {
            "color": "#00cc96",
            "pattern": {
             "shape": ""
            }
           },
           "name": "Houston",
           "orientation": "v",
           "showlegend": true,
           "textposition": "auto",
           "type": "bar",
           "x": [
            "Houston"
           ],
           "xaxis": "x",
           "y": {
            "bdata": "AAAAAAAANkA=",
            "dtype": "f8"
           },
           "yaxis": "y"
          },
          {
           "hovertemplate": "TEAM=%{x}<br>YEAR=2005<br>SEASON_RANK=%{y}<extra></extra>",
           "legendgroup": "San Antonio",
           "marker": {
            "color": "#ab63fa",
            "pattern": {
             "shape": ""
            }
           },
           "name": "San Antonio",
           "orientation": "v",
           "showlegend": true,
           "textposition": "auto",
           "type": "bar",
           "x": [
            "San Antonio"
           ],
           "xaxis": "x",
           "y": {
            "bdata": "AAAAAAAAAEA=",
            "dtype": "f8"
           },
           "yaxis": "y"
          },
          {
           "hovertemplate": "TEAM=%{x}<br>YEAR=2005<br>SEASON_RANK=%{y}<extra></extra>",
           "legendgroup": "Orlando",
           "marker": {
            "color": "#FFA15A",
            "pattern": {
             "shape": ""
            }
           },
           "name": "Orlando",
           "orientation": "v",
           "showlegend": true,
           "textposition": "auto",
           "type": "bar",
           "x": [
            "Orlando"
           ],
           "xaxis": "x",
           "y": {
            "bdata": "AAAAAAAANEA=",
            "dtype": "f8"
           },
           "yaxis": "y"
          },
          {
           "hovertemplate": "TEAM=%{x}<br>YEAR=2005<br>SEASON_RANK=%{y}<extra></extra>",
           "legendgroup": "Washington",
           "marker": {
            "color": "#19d3f3",
            "pattern": {
             "shape": ""
            }
           },
           "name": "Washington",
           "orientation": "v",
           "showlegend": true,
           "textposition": "auto",
           "type": "bar",
           "x": [
            "Washington"
           ],
           "xaxis": "x",
           "y": {
            "bdata": "AAAAAAAAKkA=",
            "dtype": "f8"
           },
           "yaxis": "y"
          },
          {
           "hovertemplate": "TEAM=%{x}<br>YEAR=2005<br>SEASON_RANK=%{y}<extra></extra>",
           "legendgroup": "L.A. Lakers",
           "marker": {
            "color": "#FF6692",
            "pattern": {
             "shape": ""
            }
           },
           "name": "L.A. Lakers",
           "orientation": "v",
           "showlegend": true,
           "textposition": "auto",
           "type": "bar",
           "x": [
            "L.A. Lakers"
           ],
           "xaxis": "x",
           "y": {
            "bdata": "AAAAAAAAJEA=",
            "dtype": "f8"
           },
           "yaxis": "y"
          },
          {
           "hovertemplate": "TEAM=%{x}<br>YEAR=2005<br>SEASON_RANK=%{y}<extra></extra>",
           "legendgroup": "Chicago",
           "marker": {
            "color": "#B6E880",
            "pattern": {
             "shape": ""
            }
           },
           "name": "Chicago",
           "orientation": "v",
           "showlegend": true,
           "textposition": "auto",
           "type": "bar",
           "x": [
            "Chicago"
           ],
           "xaxis": "x",
           "y": {
            "bdata": "AAAAAAAALEA=",
            "dtype": "f8"
           },
           "yaxis": "y"
          },
          {
           "hovertemplate": "TEAM=%{x}<br>YEAR=2005<br>SEASON_RANK=%{y}<extra></extra>",
           "legendgroup": "Toronto",
           "marker": {
            "color": "#FECB52",
            "pattern": {
             "shape": ""
            }
           },
           "name": "Toronto",
           "orientation": "v",
           "showlegend": true,
           "textposition": "auto",
           "type": "bar",
           "x": [
            "Toronto"
           ],
           "xaxis": "x",
           "y": {
            "bdata": "AAAAAAAAOkA=",
            "dtype": "f8"
           },
           "yaxis": "y"
          },
          {
           "hovertemplate": "TEAM=%{x}<br>YEAR=2005<br>SEASON_RANK=%{y}<extra></extra>",
           "legendgroup": "Golden State",
           "marker": {
            "color": "#636efa",
            "pattern": {
             "shape": ""
            }
           },
           "name": "Golden State",
           "orientation": "v",
           "showlegend": true,
           "textposition": "auto",
           "type": "bar",
           "x": [
            "Golden State"
           ],
           "xaxis": "x",
           "y": {
            "bdata": "AAAAAAAANkA=",
            "dtype": "f8"
           },
           "yaxis": "y"
          },
          {
           "hovertemplate": "TEAM=%{x}<br>YEAR=2005<br>SEASON_RANK=%{y}<extra></extra>",
           "legendgroup": "Dallas",
           "marker": {
            "color": "#EF553B",
            "pattern": {
             "shape": ""
            }
           },
           "name": "Dallas",
           "orientation": "v",
           "showlegend": true,
           "textposition": "auto",
           "type": "bar",
           "x": [
            "Dallas"
           ],
           "xaxis": "x",
           "y": {
            "bdata": "AAAAAAAACEA=",
            "dtype": "f8"
           },
           "yaxis": "y"
          },
          {
           "hovertemplate": "TEAM=%{x}<br>YEAR=2005<br>SEASON_RANK=%{y}<extra></extra>",
           "legendgroup": "Minnesota",
           "marker": {
            "color": "#00cc96",
            "pattern": {
             "shape": ""
            }
           },
           "name": "Minnesota",
           "orientation": "v",
           "showlegend": true,
           "textposition": "auto",
           "type": "bar",
           "x": [
            "Minnesota"
           ],
           "xaxis": "x",
           "y": {
            "bdata": "AAAAAAAAOEA=",
            "dtype": "f8"
           },
           "yaxis": "y"
          },
          {
           "hovertemplate": "TEAM=%{x}<br>YEAR=2005<br>SEASON_RANK=%{y}<extra></extra>",
           "legendgroup": "Atlanta",
           "marker": {
            "color": "#ab63fa",
            "pattern": {
             "shape": ""
            }
           },
           "name": "Atlanta",
           "orientation": "v",
           "showlegend": true,
           "textposition": "auto",
           "type": "bar",
           "x": [
            "Atlanta"
           ],
           "xaxis": "x",
           "y": {
            "bdata": "AAAAAAAAO0A=",
            "dtype": "f8"
           },
           "yaxis": "y"
          },
          {
           "hovertemplate": "TEAM=%{x}<br>YEAR=2005<br>SEASON_RANK=%{y}<extra></extra>",
           "legendgroup": "Indiana",
           "marker": {
            "color": "#FFA15A",
            "pattern": {
             "shape": ""
            }
           },
           "name": "Indiana",
           "orientation": "v",
           "showlegend": true,
           "textposition": "auto",
           "type": "bar",
           "x": [
            "Indiana"
           ],
           "xaxis": "x",
           "y": {
            "bdata": "AAAAAAAALEA=",
            "dtype": "f8"
           },
           "yaxis": "y"
          },
          {
           "hovertemplate": "TEAM=%{x}<br>YEAR=2005<br>SEASON_RANK=%{y}<extra></extra>",
           "legendgroup": "Miami",
           "marker": {
            "color": "#19d3f3",
            "pattern": {
             "shape": ""
            }
           },
           "name": "Miami",
           "orientation": "v",
           "showlegend": true,
           "textposition": "auto",
           "type": "bar",
           "x": [
            "Miami"
           ],
           "xaxis": "x",
           "y": {
            "bdata": "AAAAAAAAFEA=",
            "dtype": "f8"
           },
           "yaxis": "y"
          },
          {
           "hovertemplate": "TEAM=%{x}<br>YEAR=2005<br>SEASON_RANK=%{y}<extra></extra>",
           "legendgroup": "Portland",
           "marker": {
            "color": "#FF6692",
            "pattern": {
             "shape": ""
            }
           },
           "name": "Portland",
           "orientation": "v",
           "showlegend": true,
           "textposition": "auto",
           "type": "bar",
           "x": [
            "Portland"
           ],
           "xaxis": "x",
           "y": {
            "bdata": "AAAAAAAAPkA=",
            "dtype": "f8"
           },
           "yaxis": "y"
          },
          {
           "hovertemplate": "TEAM=%{x}<br>YEAR=2005<br>SEASON_RANK=%{y}<extra></extra>",
           "legendgroup": "Utah",
           "marker": {
            "color": "#B6E880",
            "pattern": {
             "shape": ""
            }
           },
           "name": "Utah",
           "orientation": "v",
           "showlegend": true,
           "textposition": "auto",
           "type": "bar",
           "x": [
            "Utah"
           ],
           "xaxis": "x",
           "y": {
            "bdata": "AAAAAAAALEA=",
            "dtype": "f8"
           },
           "yaxis": "y"
          },
          {
           "hovertemplate": "TEAM=%{x}<br>YEAR=2005<br>SEASON_RANK=%{y}<extra></extra>",
           "legendgroup": "New York",
           "marker": {
            "color": "#FF97FF",
            "pattern": {
             "shape": ""
            }
           },
           "name": "New York",
           "orientation": "v",
           "showlegend": true,
           "textposition": "auto",
           "type": "bar",
           "x": [
            "New York"
           ],
           "xaxis": "x",
           "y": {
            "bdata": "AAAAAAAAPUA=",
            "dtype": "f8"
           },
           "yaxis": "y"
          },
          {
           "hovertemplate": "TEAM=%{x}<br>YEAR=2005<br>SEASON_RANK=%{y}<extra></extra>",
           "legendgroup": "Sacramento",
           "marker": {
            "color": "#FECB52",
            "pattern": {
             "shape": ""
            }
           },
           "name": "Sacramento",
           "orientation": "v",
           "showlegend": true,
           "textposition": "auto",
           "type": "bar",
           "x": [
            "Sacramento"
           ],
           "xaxis": "x",
           "y": {
            "bdata": "AAAAAAAAJkA=",
            "dtype": "f8"
           },
           "yaxis": "y"
          },
          {
           "hovertemplate": "TEAM=%{x}<br>YEAR=2005<br>SEASON_RANK=%{y}<extra></extra>",
           "legendgroup": "Phoenix",
           "marker": {
            "color": "#EF553B",
            "pattern": {
             "shape": ""
            }
           },
           "name": "Phoenix",
           "orientation": "v",
           "showlegend": true,
           "textposition": "auto",
           "type": "bar",
           "x": [
            "Phoenix"
           ],
           "xaxis": "x",
           "y": {
            "bdata": "AAAAAAAAEEA=",
            "dtype": "f8"
           },
           "yaxis": "y"
          },
          {
           "hovertemplate": "TEAM=%{x}<br>YEAR=2005<br>SEASON_RANK=%{y}<extra></extra>",
           "legendgroup": "Philadelphia",
           "marker": {
            "color": "#00cc96",
            "pattern": {
             "shape": ""
            }
           },
           "name": "Philadelphia",
           "orientation": "v",
           "showlegend": true,
           "textposition": "auto",
           "type": "bar",
           "x": [
            "Philadelphia"
           ],
           "xaxis": "x",
           "y": {
            "bdata": "AAAAAAAAMkA=",
            "dtype": "f8"
           },
           "yaxis": "y"
          },
          {
           "hovertemplate": "TEAM=%{x}<br>YEAR=2005<br>SEASON_RANK=%{y}<extra></extra>",
           "legendgroup": "Denver",
           "marker": {
            "color": "#19d3f3",
            "pattern": {
             "shape": ""
            }
           },
           "name": "Denver",
           "orientation": "v",
           "showlegend": true,
           "textposition": "auto",
           "type": "bar",
           "x": [
            "Denver"
           ],
           "xaxis": "x",
           "y": {
            "bdata": "AAAAAAAAJkA=",
            "dtype": "f8"
           },
           "yaxis": "y"
          },
          {
           "hovertemplate": "TEAM=%{x}<br>YEAR=2005<br>SEASON_RANK=%{y}<extra></extra>",
           "legendgroup": "Memphis",
           "marker": {
            "color": "#FF6692",
            "pattern": {
             "shape": ""
            }
           },
           "name": "Memphis",
           "orientation": "v",
           "showlegend": true,
           "textposition": "auto",
           "type": "bar",
           "x": [
            "Memphis"
           ],
           "xaxis": "x",
           "y": {
            "bdata": "AAAAAAAAHEA=",
            "dtype": "f8"
           },
           "yaxis": "y"
          },
          {
           "hovertemplate": "TEAM=%{x}<br>YEAR=2005<br>SEASON_RANK=%{y}<extra></extra>",
           "legendgroup": "Cleveland",
           "marker": {
            "color": "#B6E880",
            "pattern": {
             "shape": ""
            }
           },
           "name": "Cleveland",
           "orientation": "v",
           "showlegend": true,
           "textposition": "auto",
           "type": "bar",
           "x": [
            "Cleveland"
           ],
           "xaxis": "x",
           "y": {
            "bdata": "AAAAAAAAGEA=",
            "dtype": "f8"
           },
           "yaxis": "y"
          },
          {
           "hovertemplate": "TEAM=%{x}<br>YEAR=2005<br>SEASON_RANK=%{y}<extra></extra>",
           "legendgroup": "Boston",
           "marker": {
            "color": "#FF97FF",
            "pattern": {
             "shape": ""
            }
           },
           "name": "Boston",
           "orientation": "v",
           "showlegend": true,
           "textposition": "auto",
           "type": "bar",
           "x": [
            "Boston"
           ],
           "xaxis": "x",
           "y": {
            "bdata": "AAAAAAAAOEA=",
            "dtype": "f8"
           },
           "yaxis": "y"
          },
          {
           "hovertemplate": "TEAM=%{x}<br>YEAR=2005<br>SEASON_RANK=%{y}<extra></extra>",
           "legendgroup": "Milwaukee",
           "marker": {
            "color": "#FECB52",
            "pattern": {
             "shape": ""
            }
           },
           "name": "Milwaukee",
           "orientation": "v",
           "showlegend": true,
           "textposition": "auto",
           "type": "bar",
           "x": [
            "Milwaukee"
           ],
           "xaxis": "x",
           "y": {
            "bdata": "AAAAAAAAMUA=",
            "dtype": "f8"
           },
           "yaxis": "y"
          },
          {
           "hovertemplate": "TEAM=%{x}<br>YEAR=2005<br>SEASON_RANK=%{y}<extra></extra>",
           "legendgroup": "New Orleans/Oklahoma City",
           "marker": {
            "color": "#636efa",
            "pattern": {
             "shape": ""
            }
           },
           "name": "New Orleans/Oklahoma City",
           "orientation": "v",
           "showlegend": true,
           "textposition": "auto",
           "type": "bar",
           "x": [
            "New Orleans/Oklahoma City"
           ],
           "xaxis": "x",
           "y": {
            "bdata": "AAAAAAAAMkA=",
            "dtype": "f8"
           },
           "yaxis": "y"
          },
          {
           "hovertemplate": "TEAM=%{x}<br>YEAR=2005<br>SEASON_RANK=%{y}<extra></extra>",
           "legendgroup": "L.A. Clippers",
           "marker": {
            "color": "#EF553B",
            "pattern": {
             "shape": ""
            }
           },
           "name": "L.A. Clippers",
           "orientation": "v",
           "showlegend": true,
           "textposition": "auto",
           "type": "bar",
           "x": [
            "L.A. Clippers"
           ],
           "xaxis": "x",
           "y": {
            "bdata": "AAAAAAAAIkA=",
            "dtype": "f8"
           },
           "yaxis": "y"
          },
          {
           "hovertemplate": "TEAM=%{x}<br>YEAR=2005<br>SEASON_RANK=%{y}<extra></extra>",
           "legendgroup": "New Jersey",
           "marker": {
            "color": "#00cc96",
            "pattern": {
             "shape": ""
            }
           },
           "name": "New Jersey",
           "orientation": "v",
           "showlegend": true,
           "textposition": "auto",
           "type": "bar",
           "x": [
            "New Jersey"
           ],
           "xaxis": "x",
           "y": {
            "bdata": "AAAAAAAAHEA=",
            "dtype": "f8"
           },
           "yaxis": "y"
          },
          {
           "hovertemplate": "TEAM=%{x}<br>YEAR=2005<br>SEASON_RANK=%{y}<extra></extra>",
           "legendgroup": "Seattle",
           "marker": {
            "color": "#ab63fa",
            "pattern": {
             "shape": ""
            }
           },
           "name": "Seattle",
           "orientation": "v",
           "showlegend": true,
           "textposition": "auto",
           "type": "bar",
           "x": [
            "Seattle"
           ],
           "xaxis": "x",
           "y": {
            "bdata": "AAAAAAAANUA=",
            "dtype": "f8"
           },
           "yaxis": "y"
          }
         ],
         "name": "2005"
        },
        {
         "data": [
          {
           "hovertemplate": "TEAM=%{x}<br>YEAR=2006<br>SEASON_RANK=%{y}<extra></extra>",
           "legendgroup": "Detroit",
           "marker": {
            "color": "#636efa",
            "pattern": {
             "shape": ""
            }
           },
           "name": "Detroit",
           "orientation": "v",
           "showlegend": true,
           "textposition": "auto",
           "type": "bar",
           "x": [
            "Detroit"
           ],
           "xaxis": "x",
           "y": {
            "bdata": "AAAAAAAAEEA=",
            "dtype": "f8"
           },
           "yaxis": "y"
          },
          {
           "hovertemplate": "TEAM=%{x}<br>YEAR=2006<br>SEASON_RANK=%{y}<extra></extra>",
           "legendgroup": "Charlotte",
           "marker": {
            "color": "#EF553B",
            "pattern": {
             "shape": ""
            }
           },
           "name": "Charlotte",
           "orientation": "v",
           "showlegend": true,
           "textposition": "auto",
           "type": "bar",
           "x": [
            "Charlotte"
           ],
           "xaxis": "x",
           "y": {
            "bdata": "AAAAAAAANUA=",
            "dtype": "f8"
           },
           "yaxis": "y"
          },
          {
           "hovertemplate": "TEAM=%{x}<br>YEAR=2006<br>SEASON_RANK=%{y}<extra></extra>",
           "legendgroup": "Houston",
           "marker": {
            "color": "#00cc96",
            "pattern": {
             "shape": ""
            }
           },
           "name": "Houston",
           "orientation": "v",
           "showlegend": true,
           "textposition": "auto",
           "type": "bar",
           "x": [
            "Houston"
           ],
           "xaxis": "x",
           "y": {
            "bdata": "AAAAAAAAFEA=",
            "dtype": "f8"
           },
           "yaxis": "y"
          },
          {
           "hovertemplate": "TEAM=%{x}<br>YEAR=2006<br>SEASON_RANK=%{y}<extra></extra>",
           "legendgroup": "San Antonio",
           "marker": {
            "color": "#ab63fa",
            "pattern": {
             "shape": ""
            }
           },
           "name": "San Antonio",
           "orientation": "v",
           "showlegend": true,
           "textposition": "auto",
           "type": "bar",
           "x": [
            "San Antonio"
           ],
           "xaxis": "x",
           "y": {
            "bdata": "AAAAAAAACEA=",
            "dtype": "f8"
           },
           "yaxis": "y"
          },
          {
           "hovertemplate": "TEAM=%{x}<br>YEAR=2006<br>SEASON_RANK=%{y}<extra></extra>",
           "legendgroup": "Orlando",
           "marker": {
            "color": "#FFA15A",
            "pattern": {
             "shape": ""
            }
           },
           "name": "Orlando",
           "orientation": "v",
           "showlegend": true,
           "textposition": "auto",
           "type": "bar",
           "x": [
            "Orlando"
           ],
           "xaxis": "x",
           "y": {
            "bdata": "AAAAAAAAMEA=",
            "dtype": "f8"
           },
           "yaxis": "y"
          },
          {
           "hovertemplate": "TEAM=%{x}<br>YEAR=2006<br>SEASON_RANK=%{y}<extra></extra>",
           "legendgroup": "Washington",
           "marker": {
            "color": "#19d3f3",
            "pattern": {
             "shape": ""
            }
           },
           "name": "Washington",
           "orientation": "v",
           "showlegend": true,
           "textposition": "auto",
           "type": "bar",
           "x": [
            "Washington"
           ],
           "xaxis": "x",
           "y": {
            "bdata": "AAAAAAAALEA=",
            "dtype": "f8"
           },
           "yaxis": "y"
          },
          {
           "hovertemplate": "TEAM=%{x}<br>YEAR=2006<br>SEASON_RANK=%{y}<extra></extra>",
           "legendgroup": "L.A. Lakers",
           "marker": {
            "color": "#FF6692",
            "pattern": {
             "shape": ""
            }
           },
           "name": "L.A. Lakers",
           "orientation": "v",
           "showlegend": true,
           "textposition": "auto",
           "type": "bar",
           "x": [
            "L.A. Lakers"
           ],
           "xaxis": "x",
           "y": {
            "bdata": "AAAAAAAAKEA=",
            "dtype": "f8"
           },
           "yaxis": "y"
          },
          {
           "hovertemplate": "TEAM=%{x}<br>YEAR=2006<br>SEASON_RANK=%{y}<extra></extra>",
           "legendgroup": "Chicago",
           "marker": {
            "color": "#B6E880",
            "pattern": {
             "shape": ""
            }
           },
           "name": "Chicago",
           "orientation": "v",
           "showlegend": true,
           "textposition": "auto",
           "type": "bar",
           "x": [
            "Chicago"
           ],
           "xaxis": "x",
           "y": {
            "bdata": "AAAAAAAAIEA=",
            "dtype": "f8"
           },
           "yaxis": "y"
          },
          {
           "hovertemplate": "TEAM=%{x}<br>YEAR=2006<br>SEASON_RANK=%{y}<extra></extra>",
           "legendgroup": "Toronto",
           "marker": {
            "color": "#FECB52",
            "pattern": {
             "shape": ""
            }
           },
           "name": "Toronto",
           "orientation": "v",
           "showlegend": true,
           "textposition": "auto",
           "type": "bar",
           "x": [
            "Toronto"
           ],
           "xaxis": "x",
           "y": {
            "bdata": "AAAAAAAAIkA=",
            "dtype": "f8"
           },
           "yaxis": "y"
          },
          {
           "hovertemplate": "TEAM=%{x}<br>YEAR=2006<br>SEASON_RANK=%{y}<extra></extra>",
           "legendgroup": "Golden State",
           "marker": {
            "color": "#636efa",
            "pattern": {
             "shape": ""
            }
           },
           "name": "Golden State",
           "orientation": "v",
           "showlegend": true,
           "textposition": "auto",
           "type": "bar",
           "x": [
            "Golden State"
           ],
           "xaxis": "x",
           "y": {
            "bdata": "AAAAAAAAKEA=",
            "dtype": "f8"
           },
           "yaxis": "y"
          },
          {
           "hovertemplate": "TEAM=%{x}<br>YEAR=2006<br>SEASON_RANK=%{y}<extra></extra>",
           "legendgroup": "Dallas",
           "marker": {
            "color": "#EF553B",
            "pattern": {
             "shape": ""
            }
           },
           "name": "Dallas",
           "orientation": "v",
           "showlegend": true,
           "textposition": "auto",
           "type": "bar",
           "x": [
            "Dallas"
           ],
           "xaxis": "x",
           "y": {
            "bdata": "AAAAAAAA8D8=",
            "dtype": "f8"
           },
           "yaxis": "y"
          },
          {
           "hovertemplate": "TEAM=%{x}<br>YEAR=2006<br>SEASON_RANK=%{y}<extra></extra>",
           "legendgroup": "Minnesota",
           "marker": {
            "color": "#00cc96",
            "pattern": {
             "shape": ""
            }
           },
           "name": "Minnesota",
           "orientation": "v",
           "showlegend": true,
           "textposition": "auto",
           "type": "bar",
           "x": [
            "Minnesota"
           ],
           "xaxis": "x",
           "y": {
            "bdata": "AAAAAAAAOEA=",
            "dtype": "f8"
           },
           "yaxis": "y"
          },
          {
           "hovertemplate": "TEAM=%{x}<br>YEAR=2006<br>SEASON_RANK=%{y}<extra></extra>",
           "legendgroup": "Atlanta",
           "marker": {
            "color": "#ab63fa",
            "pattern": {
             "shape": ""
            }
           },
           "name": "Atlanta",
           "orientation": "v",
           "showlegend": true,
           "textposition": "auto",
           "type": "bar",
           "x": [
            "Atlanta"
           ],
           "xaxis": "x",
           "y": {
            "bdata": "AAAAAAAAO0A=",
            "dtype": "f8"
           },
           "yaxis": "y"
          },
          {
           "hovertemplate": "TEAM=%{x}<br>YEAR=2006<br>SEASON_RANK=%{y}<extra></extra>",
           "legendgroup": "Indiana",
           "marker": {
            "color": "#FFA15A",
            "pattern": {
             "shape": ""
            }
           },
           "name": "Indiana",
           "orientation": "v",
           "showlegend": true,
           "textposition": "auto",
           "type": "bar",
           "x": [
            "Indiana"
           ],
           "xaxis": "x",
           "y": {
            "bdata": "AAAAAAAAM0A=",
            "dtype": "f8"
           },
           "yaxis": "y"
          },
          {
           "hovertemplate": "TEAM=%{x}<br>YEAR=2006<br>SEASON_RANK=%{y}<extra></extra>",
           "legendgroup": "Miami",
           "marker": {
            "color": "#19d3f3",
            "pattern": {
             "shape": ""
            }
           },
           "name": "Miami",
           "orientation": "v",
           "showlegend": true,
           "textposition": "auto",
           "type": "bar",
           "x": [
            "Miami"
           ],
           "xaxis": "x",
           "y": {
            "bdata": "AAAAAAAAJkA=",
            "dtype": "f8"
           },
           "yaxis": "y"
          },
          {
           "hovertemplate": "TEAM=%{x}<br>YEAR=2006<br>SEASON_RANK=%{y}<extra></extra>",
           "legendgroup": "Portland",
           "marker": {
            "color": "#FF6692",
            "pattern": {
             "shape": ""
            }
           },
           "name": "Portland",
           "orientation": "v",
           "showlegend": true,
           "textposition": "auto",
           "type": "bar",
           "x": [
            "Portland"
           ],
           "xaxis": "x",
           "y": {
            "bdata": "AAAAAAAAOEA=",
            "dtype": "f8"
           },
           "yaxis": "y"
          },
          {
           "hovertemplate": "TEAM=%{x}<br>YEAR=2006<br>SEASON_RANK=%{y}<extra></extra>",
           "legendgroup": "Utah",
           "marker": {
            "color": "#B6E880",
            "pattern": {
             "shape": ""
            }
           },
           "name": "Utah",
           "orientation": "v",
           "showlegend": true,
           "textposition": "auto",
           "type": "bar",
           "x": [
            "Utah"
           ],
           "xaxis": "x",
           "y": {
            "bdata": "AAAAAAAAGEA=",
            "dtype": "f8"
           },
           "yaxis": "y"
          },
          {
           "hovertemplate": "TEAM=%{x}<br>YEAR=2006<br>SEASON_RANK=%{y}<extra></extra>",
           "legendgroup": "New York",
           "marker": {
            "color": "#FF97FF",
            "pattern": {
             "shape": ""
            }
           },
           "name": "New York",
           "orientation": "v",
           "showlegend": true,
           "textposition": "auto",
           "type": "bar",
           "x": [
            "New York"
           ],
           "xaxis": "x",
           "y": {
            "bdata": "AAAAAAAANUA=",
            "dtype": "f8"
           },
           "yaxis": "y"
          },
          {
           "hovertemplate": "TEAM=%{x}<br>YEAR=2006<br>SEASON_RANK=%{y}<extra></extra>",
           "legendgroup": "Sacramento",
           "marker": {
            "color": "#FECB52",
            "pattern": {
             "shape": ""
            }
           },
           "name": "Sacramento",
           "orientation": "v",
           "showlegend": true,
           "textposition": "auto",
           "type": "bar",
           "x": [
            "Sacramento"
           ],
           "xaxis": "x",
           "y": {
            "bdata": "AAAAAAAANUA=",
            "dtype": "f8"
           },
           "yaxis": "y"
          },
          {
           "hovertemplate": "TEAM=%{x}<br>YEAR=2006<br>SEASON_RANK=%{y}<extra></extra>",
           "legendgroup": "Phoenix",
           "marker": {
            "color": "#EF553B",
            "pattern": {
             "shape": ""
            }
           },
           "name": "Phoenix",
           "orientation": "v",
           "showlegend": true,
           "textposition": "auto",
           "type": "bar",
           "x": [
            "Phoenix"
           ],
           "xaxis": "x",
           "y": {
            "bdata": "AAAAAAAAAEA=",
            "dtype": "f8"
           },
           "yaxis": "y"
          },
          {
           "hovertemplate": "TEAM=%{x}<br>YEAR=2006<br>SEASON_RANK=%{y}<extra></extra>",
           "legendgroup": "Philadelphia",
           "marker": {
            "color": "#00cc96",
            "pattern": {
             "shape": ""
            }
           },
           "name": "Philadelphia",
           "orientation": "v",
           "showlegend": true,
           "textposition": "auto",
           "type": "bar",
           "x": [
            "Philadelphia"
           ],
           "xaxis": "x",
           "y": {
            "bdata": "AAAAAAAAM0A=",
            "dtype": "f8"
           },
           "yaxis": "y"
          },
          {
           "hovertemplate": "TEAM=%{x}<br>YEAR=2006<br>SEASON_RANK=%{y}<extra></extra>",
           "legendgroup": "Denver",
           "marker": {
            "color": "#19d3f3",
            "pattern": {
             "shape": ""
            }
           },
           "name": "Denver",
           "orientation": "v",
           "showlegend": true,
           "textposition": "auto",
           "type": "bar",
           "x": [
            "Denver"
           ],
           "xaxis": "x",
           "y": {
            "bdata": "AAAAAAAAJEA=",
            "dtype": "f8"
           },
           "yaxis": "y"
          },
          {
           "hovertemplate": "TEAM=%{x}<br>YEAR=2006<br>SEASON_RANK=%{y}<extra></extra>",
           "legendgroup": "Memphis",
           "marker": {
            "color": "#FF6692",
            "pattern": {
             "shape": ""
            }
           },
           "name": "Memphis",
           "orientation": "v",
           "showlegend": true,
           "textposition": "auto",
           "type": "bar",
           "x": [
            "Memphis"
           ],
           "xaxis": "x",
           "y": {
            "bdata": "AAAAAAAAPkA=",
            "dtype": "f8"
           },
           "yaxis": "y"
          },
          {
           "hovertemplate": "TEAM=%{x}<br>YEAR=2006<br>SEASON_RANK=%{y}<extra></extra>",
           "legendgroup": "Cleveland",
           "marker": {
            "color": "#B6E880",
            "pattern": {
             "shape": ""
            }
           },
           "name": "Cleveland",
           "orientation": "v",
           "showlegend": true,
           "textposition": "auto",
           "type": "bar",
           "x": [
            "Cleveland"
           ],
           "xaxis": "x",
           "y": {
            "bdata": "AAAAAAAAHEA=",
            "dtype": "f8"
           },
           "yaxis": "y"
          },
          {
           "hovertemplate": "TEAM=%{x}<br>YEAR=2006<br>SEASON_RANK=%{y}<extra></extra>",
           "legendgroup": "Boston",
           "marker": {
            "color": "#FF97FF",
            "pattern": {
             "shape": ""
            }
           },
           "name": "Boston",
           "orientation": "v",
           "showlegend": true,
           "textposition": "auto",
           "type": "bar",
           "x": [
            "Boston"
           ],
           "xaxis": "x",
           "y": {
            "bdata": "AAAAAAAAPUA=",
            "dtype": "f8"
           },
           "yaxis": "y"
          },
          {
           "hovertemplate": "TEAM=%{x}<br>YEAR=2006<br>SEASON_RANK=%{y}<extra></extra>",
           "legendgroup": "Milwaukee",
           "marker": {
            "color": "#FECB52",
            "pattern": {
             "shape": ""
            }
           },
           "name": "Milwaukee",
           "orientation": "v",
           "showlegend": true,
           "textposition": "auto",
           "type": "bar",
           "x": [
            "Milwaukee"
           ],
           "xaxis": "x",
           "y": {
            "bdata": "AAAAAAAAPEA=",
            "dtype": "f8"
           },
           "yaxis": "y"
          },
          {
           "hovertemplate": "TEAM=%{x}<br>YEAR=2006<br>SEASON_RANK=%{y}<extra></extra>",
           "legendgroup": "New Orleans/Oklahoma City",
           "marker": {
            "color": "#636efa",
            "pattern": {
             "shape": ""
            }
           },
           "name": "New Orleans/Oklahoma City",
           "orientation": "v",
           "showlegend": true,
           "textposition": "auto",
           "type": "bar",
           "x": [
            "New Orleans/Oklahoma City"
           ],
           "xaxis": "x",
           "y": {
            "bdata": "AAAAAAAAMkA=",
            "dtype": "f8"
           },
           "yaxis": "y"
          },
          {
           "hovertemplate": "TEAM=%{x}<br>YEAR=2006<br>SEASON_RANK=%{y}<extra></extra>",
           "legendgroup": "L.A. Clippers",
           "marker": {
            "color": "#EF553B",
            "pattern": {
             "shape": ""
            }
           },
           "name": "L.A. Clippers",
           "orientation": "v",
           "showlegend": true,
           "textposition": "auto",
           "type": "bar",
           "x": [
            "L.A. Clippers"
           ],
           "xaxis": "x",
           "y": {
            "bdata": "AAAAAAAAMEA=",
            "dtype": "f8"
           },
           "yaxis": "y"
          },
          {
           "hovertemplate": "TEAM=%{x}<br>YEAR=2006<br>SEASON_RANK=%{y}<extra></extra>",
           "legendgroup": "New Jersey",
           "marker": {
            "color": "#00cc96",
            "pattern": {
             "shape": ""
            }
           },
           "name": "New Jersey",
           "orientation": "v",
           "showlegend": true,
           "textposition": "auto",
           "type": "bar",
           "x": [
            "New Jersey"
           ],
           "xaxis": "x",
           "y": {
            "bdata": "AAAAAAAALEA=",
            "dtype": "f8"
           },
           "yaxis": "y"
          },
          {
           "hovertemplate": "TEAM=%{x}<br>YEAR=2006<br>SEASON_RANK=%{y}<extra></extra>",
           "legendgroup": "Seattle",
           "marker": {
            "color": "#ab63fa",
            "pattern": {
             "shape": ""
            }
           },
           "name": "Seattle",
           "orientation": "v",
           "showlegend": true,
           "textposition": "auto",
           "type": "bar",
           "x": [
            "Seattle"
           ],
           "xaxis": "x",
           "y": {
            "bdata": "AAAAAAAAOkA=",
            "dtype": "f8"
           },
           "yaxis": "y"
          }
         ],
         "name": "2006"
        },
        {
         "data": [
          {
           "hovertemplate": "TEAM=%{x}<br>YEAR=2007<br>SEASON_RANK=%{y}<extra></extra>",
           "legendgroup": "Detroit",
           "marker": {
            "color": "#636efa",
            "pattern": {
             "shape": ""
            }
           },
           "name": "Detroit",
           "orientation": "v",
           "showlegend": true,
           "textposition": "auto",
           "type": "bar",
           "x": [
            "Detroit"
           ],
           "xaxis": "x",
           "y": {
            "bdata": "AAAAAAAAAEA=",
            "dtype": "f8"
           },
           "yaxis": "y"
          },
          {
           "hovertemplate": "TEAM=%{x}<br>YEAR=2007<br>SEASON_RANK=%{y}<extra></extra>",
           "legendgroup": "Charlotte",
           "marker": {
            "color": "#EF553B",
            "pattern": {
             "shape": ""
            }
           },
           "name": "Charlotte",
           "orientation": "v",
           "showlegend": true,
           "textposition": "auto",
           "type": "bar",
           "x": [
            "Charlotte"
           ],
           "xaxis": "x",
           "y": {
            "bdata": "AAAAAAAAN0A=",
            "dtype": "f8"
           },
           "yaxis": "y"
          },
          {
           "hovertemplate": "TEAM=%{x}<br>YEAR=2007<br>SEASON_RANK=%{y}<extra></extra>",
           "legendgroup": "Houston",
           "marker": {
            "color": "#00cc96",
            "pattern": {
             "shape": ""
            }
           },
           "name": "Houston",
           "orientation": "v",
           "showlegend": true,
           "textposition": "auto",
           "type": "bar",
           "x": [
            "Houston"
           ],
           "xaxis": "x",
           "y": {
            "bdata": "AAAAAAAAGEA=",
            "dtype": "f8"
           },
           "yaxis": "y"
          },
          {
           "hovertemplate": "TEAM=%{x}<br>YEAR=2007<br>SEASON_RANK=%{y}<extra></extra>",
           "legendgroup": "San Antonio",
           "marker": {
            "color": "#ab63fa",
            "pattern": {
             "shape": ""
            }
           },
           "name": "San Antonio",
           "orientation": "v",
           "showlegend": true,
           "textposition": "auto",
           "type": "bar",
           "x": [
            "San Antonio"
           ],
           "xaxis": "x",
           "y": {
            "bdata": "AAAAAAAAEEA=",
            "dtype": "f8"
           },
           "yaxis": "y"
          },
          {
           "hovertemplate": "TEAM=%{x}<br>YEAR=2007<br>SEASON_RANK=%{y}<extra></extra>",
           "legendgroup": "Orlando",
           "marker": {
            "color": "#FFA15A",
            "pattern": {
             "shape": ""
            }
           },
           "name": "Orlando",
           "orientation": "v",
           "showlegend": true,
           "textposition": "auto",
           "type": "bar",
           "x": [
            "Orlando"
           ],
           "xaxis": "x",
           "y": {
            "bdata": "AAAAAAAAIkA=",
            "dtype": "f8"
           },
           "yaxis": "y"
          },
          {
           "hovertemplate": "TEAM=%{x}<br>YEAR=2007<br>SEASON_RANK=%{y}<extra></extra>",
           "legendgroup": "Washington",
           "marker": {
            "color": "#19d3f3",
            "pattern": {
             "shape": ""
            }
           },
           "name": "Washington",
           "orientation": "v",
           "showlegend": true,
           "textposition": "auto",
           "type": "bar",
           "x": [
            "Washington"
           ],
           "xaxis": "x",
           "y": {
            "bdata": "AAAAAAAALEA=",
            "dtype": "f8"
           },
           "yaxis": "y"
          },
          {
           "hovertemplate": "TEAM=%{x}<br>YEAR=2007<br>SEASON_RANK=%{y}<extra></extra>",
           "legendgroup": "L.A. Lakers",
           "marker": {
            "color": "#FF6692",
            "pattern": {
             "shape": ""
            }
           },
           "name": "L.A. Lakers",
           "orientation": "v",
           "showlegend": true,
           "textposition": "auto",
           "type": "bar",
           "x": [
            "L.A. Lakers"
           ],
           "xaxis": "x",
           "y": {
            "bdata": "AAAAAAAACEA=",
            "dtype": "f8"
           },
           "yaxis": "y"
          },
          {
           "hovertemplate": "TEAM=%{x}<br>YEAR=2007<br>SEASON_RANK=%{y}<extra></extra>",
           "legendgroup": "Chicago",
           "marker": {
            "color": "#B6E880",
            "pattern": {
             "shape": ""
            }
           },
           "name": "Chicago",
           "orientation": "v",
           "showlegend": true,
           "textposition": "auto",
           "type": "bar",
           "x": [
            "Chicago"
           ],
           "xaxis": "x",
           "y": {
            "bdata": "AAAAAAAANkA=",
            "dtype": "f8"
           },
           "yaxis": "y"
          },
          {
           "hovertemplate": "TEAM=%{x}<br>YEAR=2007<br>SEASON_RANK=%{y}<extra></extra>",
           "legendgroup": "Toronto",
           "marker": {
            "color": "#FECB52",
            "pattern": {
             "shape": ""
            }
           },
           "name": "Toronto",
           "orientation": "v",
           "showlegend": true,
           "textposition": "auto",
           "type": "bar",
           "x": [
            "Toronto"
           ],
           "xaxis": "x",
           "y": {
            "bdata": "AAAAAAAALkA=",
            "dtype": "f8"
           },
           "yaxis": "y"
          },
          {
           "hovertemplate": "TEAM=%{x}<br>YEAR=2007<br>SEASON_RANK=%{y}<extra></extra>",
           "legendgroup": "Golden State",
           "marker": {
            "color": "#636efa",
            "pattern": {
             "shape": ""
            }
           },
           "name": "Golden State",
           "orientation": "v",
           "showlegend": true,
           "textposition": "auto",
           "type": "bar",
           "x": [
            "Golden State"
           ],
           "xaxis": "x",
           "y": {
            "bdata": "AAAAAAAAKEA=",
            "dtype": "f8"
           },
           "yaxis": "y"
          },
          {
           "hovertemplate": "TEAM=%{x}<br>YEAR=2007<br>SEASON_RANK=%{y}<extra></extra>",
           "legendgroup": "Dallas",
           "marker": {
            "color": "#EF553B",
            "pattern": {
             "shape": ""
            }
           },
           "name": "Dallas",
           "orientation": "v",
           "showlegend": true,
           "textposition": "auto",
           "type": "bar",
           "x": [
            "Dallas"
           ],
           "xaxis": "x",
           "y": {
            "bdata": "AAAAAAAAJEA=",
            "dtype": "f8"
           },
           "yaxis": "y"
          },
          {
           "hovertemplate": "TEAM=%{x}<br>YEAR=2007<br>SEASON_RANK=%{y}<extra></extra>",
           "legendgroup": "Minnesota",
           "marker": {
            "color": "#00cc96",
            "pattern": {
             "shape": ""
            }
           },
           "name": "Minnesota",
           "orientation": "v",
           "showlegend": true,
           "textposition": "auto",
           "type": "bar",
           "x": [
            "Minnesota"
           ],
           "xaxis": "x",
           "y": {
            "bdata": "AAAAAAAAO0A=",
            "dtype": "f8"
           },
           "yaxis": "y"
          },
          {
           "hovertemplate": "TEAM=%{x}<br>YEAR=2007<br>SEASON_RANK=%{y}<extra></extra>",
           "legendgroup": "Atlanta",
           "marker": {
            "color": "#ab63fa",
            "pattern": {
             "shape": ""
            }
           },
           "name": "Atlanta",
           "orientation": "v",
           "showlegend": true,
           "textposition": "auto",
           "type": "bar",
           "x": [
            "Atlanta"
           ],
           "xaxis": "x",
           "y": {
            "bdata": "AAAAAAAAM0A=",
            "dtype": "f8"
           },
           "yaxis": "y"
          },
          {
           "hovertemplate": "TEAM=%{x}<br>YEAR=2007<br>SEASON_RANK=%{y}<extra></extra>",
           "legendgroup": "Indiana",
           "marker": {
            "color": "#FFA15A",
            "pattern": {
             "shape": ""
            }
           },
           "name": "Indiana",
           "orientation": "v",
           "showlegend": true,
           "textposition": "auto",
           "type": "bar",
           "x": [
            "Indiana"
           ],
           "xaxis": "x",
           "y": {
            "bdata": "AAAAAAAANEA=",
            "dtype": "f8"
           },
           "yaxis": "y"
          },
          {
           "hovertemplate": "TEAM=%{x}<br>YEAR=2007<br>SEASON_RANK=%{y}<extra></extra>",
           "legendgroup": "Miami",
           "marker": {
            "color": "#19d3f3",
            "pattern": {
             "shape": ""
            }
           },
           "name": "Miami",
           "orientation": "v",
           "showlegend": true,
           "textposition": "auto",
           "type": "bar",
           "x": [
            "Miami"
           ],
           "xaxis": "x",
           "y": {
            "bdata": "AAAAAAAAPkA=",
            "dtype": "f8"
           },
           "yaxis": "y"
          },
          {
           "hovertemplate": "TEAM=%{x}<br>YEAR=2007<br>SEASON_RANK=%{y}<extra></extra>",
           "legendgroup": "Portland",
           "marker": {
            "color": "#FF6692",
            "pattern": {
             "shape": ""
            }
           },
           "name": "Portland",
           "orientation": "v",
           "showlegend": true,
           "textposition": "auto",
           "type": "bar",
           "x": [
            "Portland"
           ],
           "xaxis": "x",
           "y": {
            "bdata": "AAAAAAAALkA=",
            "dtype": "f8"
           },
           "yaxis": "y"
          },
          {
           "hovertemplate": "TEAM=%{x}<br>YEAR=2007<br>SEASON_RANK=%{y}<extra></extra>",
           "legendgroup": "Utah",
           "marker": {
            "color": "#B6E880",
            "pattern": {
             "shape": ""
            }
           },
           "name": "Utah",
           "orientation": "v",
           "showlegend": true,
           "textposition": "auto",
           "type": "bar",
           "x": [
            "Utah"
           ],
           "xaxis": "x",
           "y": {
            "bdata": "AAAAAAAAIEA=",
            "dtype": "f8"
           },
           "yaxis": "y"
          },
          {
           "hovertemplate": "TEAM=%{x}<br>YEAR=2007<br>SEASON_RANK=%{y}<extra></extra>",
           "legendgroup": "New York",
           "marker": {
            "color": "#FF97FF",
            "pattern": {
             "shape": ""
            }
           },
           "name": "New York",
           "orientation": "v",
           "showlegend": true,
           "textposition": "auto",
           "type": "bar",
           "x": [
            "New York"
           ],
           "xaxis": "x",
           "y": {
            "bdata": "AAAAAAAAOUA=",
            "dtype": "f8"
           },
           "yaxis": "y"
          },
          {
           "hovertemplate": "TEAM=%{x}<br>YEAR=2007<br>SEASON_RANK=%{y}<extra></extra>",
           "legendgroup": "Sacramento",
           "marker": {
            "color": "#FECB52",
            "pattern": {
             "shape": ""
            }
           },
           "name": "Sacramento",
           "orientation": "v",
           "showlegend": true,
           "textposition": "auto",
           "type": "bar",
           "x": [
            "Sacramento"
           ],
           "xaxis": "x",
           "y": {
            "bdata": "AAAAAAAAMkA=",
            "dtype": "f8"
           },
           "yaxis": "y"
          },
          {
           "hovertemplate": "TEAM=%{x}<br>YEAR=2007<br>SEASON_RANK=%{y}<extra></extra>",
           "legendgroup": "Phoenix",
           "marker": {
            "color": "#EF553B",
            "pattern": {
             "shape": ""
            }
           },
           "name": "Phoenix",
           "orientation": "v",
           "showlegend": true,
           "textposition": "auto",
           "type": "bar",
           "x": [
            "Phoenix"
           ],
           "xaxis": "x",
           "y": {
            "bdata": "AAAAAAAAGEA=",
            "dtype": "f8"
           },
           "yaxis": "y"
          },
          {
           "hovertemplate": "TEAM=%{x}<br>YEAR=2007<br>SEASON_RANK=%{y}<extra></extra>",
           "legendgroup": "Philadelphia",
           "marker": {
            "color": "#00cc96",
            "pattern": {
             "shape": ""
            }
           },
           "name": "Philadelphia",
           "orientation": "v",
           "showlegend": true,
           "textposition": "auto",
           "type": "bar",
           "x": [
            "Philadelphia"
           ],
           "xaxis": "x",
           "y": {
            "bdata": "AAAAAAAAMUA=",
            "dtype": "f8"
           },
           "yaxis": "y"
          },
          {
           "hovertemplate": "TEAM=%{x}<br>YEAR=2007<br>SEASON_RANK=%{y}<extra></extra>",
           "legendgroup": "New Orleans",
           "marker": {
            "color": "#ab63fa",
            "pattern": {
             "shape": ""
            }
           },
           "name": "New Orleans",
           "orientation": "v",
           "showlegend": true,
           "textposition": "auto",
           "type": "bar",
           "x": [
            "New Orleans"
           ],
           "xaxis": "x",
           "y": {
            "bdata": "AAAAAAAAEEA=",
            "dtype": "f8"
           },
           "yaxis": "y"
          },
          {
           "hovertemplate": "TEAM=%{x}<br>YEAR=2007<br>SEASON_RANK=%{y}<extra></extra>",
           "legendgroup": "Denver",
           "marker": {
            "color": "#19d3f3",
            "pattern": {
             "shape": ""
            }
           },
           "name": "Denver",
           "orientation": "v",
           "showlegend": true,
           "textposition": "auto",
           "type": "bar",
           "x": [
            "Denver"
           ],
           "xaxis": "x",
           "y": {
            "bdata": "AAAAAAAAJkA=",
            "dtype": "f8"
           },
           "yaxis": "y"
          },
          {
           "hovertemplate": "TEAM=%{x}<br>YEAR=2007<br>SEASON_RANK=%{y}<extra></extra>",
           "legendgroup": "Memphis",
           "marker": {
            "color": "#FF6692",
            "pattern": {
             "shape": ""
            }
           },
           "name": "Memphis",
           "orientation": "v",
           "showlegend": true,
           "textposition": "auto",
           "type": "bar",
           "x": [
            "Memphis"
           ],
           "xaxis": "x",
           "y": {
            "bdata": "AAAAAAAAO0A=",
            "dtype": "f8"
           },
           "yaxis": "y"
          },
          {
           "hovertemplate": "TEAM=%{x}<br>YEAR=2007<br>SEASON_RANK=%{y}<extra></extra>",
           "legendgroup": "Cleveland",
           "marker": {
            "color": "#B6E880",
            "pattern": {
             "shape": ""
            }
           },
           "name": "Cleveland",
           "orientation": "v",
           "showlegend": true,
           "textposition": "auto",
           "type": "bar",
           "x": [
            "Cleveland"
           ],
           "xaxis": "x",
           "y": {
            "bdata": "AAAAAAAAKkA=",
            "dtype": "f8"
           },
           "yaxis": "y"
          },
          {
           "hovertemplate": "TEAM=%{x}<br>YEAR=2007<br>SEASON_RANK=%{y}<extra></extra>",
           "legendgroup": "Boston",
           "marker": {
            "color": "#FF97FF",
            "pattern": {
             "shape": ""
            }
           },
           "name": "Boston",
           "orientation": "v",
           "showlegend": true,
           "textposition": "auto",
           "type": "bar",
           "x": [
            "Boston"
           ],
           "xaxis": "x",
           "y": {
            "bdata": "AAAAAAAA8D8=",
            "dtype": "f8"
           },
           "yaxis": "y"
          },
          {
           "hovertemplate": "TEAM=%{x}<br>YEAR=2007<br>SEASON_RANK=%{y}<extra></extra>",
           "legendgroup": "Milwaukee",
           "marker": {
            "color": "#FECB52",
            "pattern": {
             "shape": ""
            }
           },
           "name": "Milwaukee",
           "orientation": "v",
           "showlegend": true,
           "textposition": "auto",
           "type": "bar",
           "x": [
            "Milwaukee"
           ],
           "xaxis": "x",
           "y": {
            "bdata": "AAAAAAAAOEA=",
            "dtype": "f8"
           },
           "yaxis": "y"
          },
          {
           "hovertemplate": "TEAM=%{x}<br>YEAR=2007<br>SEASON_RANK=%{y}<extra></extra>",
           "legendgroup": "L.A. Clippers",
           "marker": {
            "color": "#EF553B",
            "pattern": {
             "shape": ""
            }
           },
           "name": "L.A. Clippers",
           "orientation": "v",
           "showlegend": true,
           "textposition": "auto",
           "type": "bar",
           "x": [
            "L.A. Clippers"
           ],
           "xaxis": "x",
           "y": {
            "bdata": "AAAAAAAAOUA=",
            "dtype": "f8"
           },
           "yaxis": "y"
          },
          {
           "hovertemplate": "TEAM=%{x}<br>YEAR=2007<br>SEASON_RANK=%{y}<extra></extra>",
           "legendgroup": "New Jersey",
           "marker": {
            "color": "#00cc96",
            "pattern": {
             "shape": ""
            }
           },
           "name": "New Jersey",
           "orientation": "v",
           "showlegend": true,
           "textposition": "auto",
           "type": "bar",
           "x": [
            "New Jersey"
           ],
           "xaxis": "x",
           "y": {
            "bdata": "AAAAAAAANUA=",
            "dtype": "f8"
           },
           "yaxis": "y"
          },
          {
           "hovertemplate": "TEAM=%{x}<br>YEAR=2007<br>SEASON_RANK=%{y}<extra></extra>",
           "legendgroup": "Seattle",
           "marker": {
            "color": "#ab63fa",
            "pattern": {
             "shape": ""
            }
           },
           "name": "Seattle",
           "orientation": "v",
           "showlegend": true,
           "textposition": "auto",
           "type": "bar",
           "x": [
            "Seattle"
           ],
           "xaxis": "x",
           "y": {
            "bdata": "AAAAAAAAPUA=",
            "dtype": "f8"
           },
           "yaxis": "y"
          }
         ],
         "name": "2007"
        },
        {
         "data": [
          {
           "hovertemplate": "TEAM=%{x}<br>YEAR=2008<br>SEASON_RANK=%{y}<extra></extra>",
           "legendgroup": "Detroit",
           "marker": {
            "color": "#636efa",
            "pattern": {
             "shape": ""
            }
           },
           "name": "Detroit",
           "orientation": "v",
           "showlegend": true,
           "textposition": "auto",
           "type": "bar",
           "x": [
            "Detroit"
           ],
           "xaxis": "x",
           "y": {
            "bdata": "AAAAAAAAMUA=",
            "dtype": "f8"
           },
           "yaxis": "y"
          },
          {
           "hovertemplate": "TEAM=%{x}<br>YEAR=2008<br>SEASON_RANK=%{y}<extra></extra>",
           "legendgroup": "Charlotte",
           "marker": {
            "color": "#EF553B",
            "pattern": {
             "shape": ""
            }
           },
           "name": "Charlotte",
           "orientation": "v",
           "showlegend": true,
           "textposition": "auto",
           "type": "bar",
           "x": [
            "Charlotte"
           ],
           "xaxis": "x",
           "y": {
            "bdata": "AAAAAAAAM0A=",
            "dtype": "f8"
           },
           "yaxis": "y"
          },
          {
           "hovertemplate": "TEAM=%{x}<br>YEAR=2008<br>SEASON_RANK=%{y}<extra></extra>",
           "legendgroup": "Houston",
           "marker": {
            "color": "#00cc96",
            "pattern": {
             "shape": ""
            }
           },
           "name": "Houston",
           "orientation": "v",
           "showlegend": true,
           "textposition": "auto",
           "type": "bar",
           "x": [
            "Houston"
           ],
           "xaxis": "x",
           "y": {
            "bdata": "AAAAAAAAIEA=",
            "dtype": "f8"
           },
           "yaxis": "y"
          },
          {
           "hovertemplate": "TEAM=%{x}<br>YEAR=2008<br>SEASON_RANK=%{y}<extra></extra>",
           "legendgroup": "San Antonio",
           "marker": {
            "color": "#ab63fa",
            "pattern": {
             "shape": ""
            }
           },
           "name": "San Antonio",
           "orientation": "v",
           "showlegend": true,
           "textposition": "auto",
           "type": "bar",
           "x": [
            "San Antonio"
           ],
           "xaxis": "x",
           "y": {
            "bdata": "AAAAAAAAFEA=",
            "dtype": "f8"
           },
           "yaxis": "y"
          },
          {
           "hovertemplate": "TEAM=%{x}<br>YEAR=2008<br>SEASON_RANK=%{y}<extra></extra>",
           "legendgroup": "Orlando",
           "marker": {
            "color": "#FFA15A",
            "pattern": {
             "shape": ""
            }
           },
           "name": "Orlando",
           "orientation": "v",
           "showlegend": true,
           "textposition": "auto",
           "type": "bar",
           "x": [
            "Orlando"
           ],
           "xaxis": "x",
           "y": {
            "bdata": "AAAAAAAAEEA=",
            "dtype": "f8"
           },
           "yaxis": "y"
          },
          {
           "hovertemplate": "TEAM=%{x}<br>YEAR=2008<br>SEASON_RANK=%{y}<extra></extra>",
           "legendgroup": "Washington",
           "marker": {
            "color": "#19d3f3",
            "pattern": {
             "shape": ""
            }
           },
           "name": "Washington",
           "orientation": "v",
           "showlegend": true,
           "textposition": "auto",
           "type": "bar",
           "x": [
            "Washington"
           ],
           "xaxis": "x",
           "y": {
            "bdata": "AAAAAAAAPEA=",
            "dtype": "f8"
           },
           "yaxis": "y"
          },
          {
           "hovertemplate": "TEAM=%{x}<br>YEAR=2008<br>SEASON_RANK=%{y}<extra></extra>",
           "legendgroup": "L.A. Lakers",
           "marker": {
            "color": "#FF6692",
            "pattern": {
             "shape": ""
            }
           },
           "name": "L.A. Lakers",
           "orientation": "v",
           "showlegend": true,
           "textposition": "auto",
           "type": "bar",
           "x": [
            "L.A. Lakers"
           ],
           "xaxis": "x",
           "y": {
            "bdata": "AAAAAAAAAEA=",
            "dtype": "f8"
           },
           "yaxis": "y"
          },
          {
           "hovertemplate": "TEAM=%{x}<br>YEAR=2008<br>SEASON_RANK=%{y}<extra></extra>",
           "legendgroup": "Chicago",
           "marker": {
            "color": "#B6E880",
            "pattern": {
             "shape": ""
            }
           },
           "name": "Chicago",
           "orientation": "v",
           "showlegend": true,
           "textposition": "auto",
           "type": "bar",
           "x": [
            "Chicago"
           ],
           "xaxis": "x",
           "y": {
            "bdata": "AAAAAAAALkA=",
            "dtype": "f8"
           },
           "yaxis": "y"
          },
          {
           "hovertemplate": "TEAM=%{x}<br>YEAR=2008<br>SEASON_RANK=%{y}<extra></extra>",
           "legendgroup": "Oklahoma City",
           "marker": {
            "color": "#FF97FF",
            "pattern": {
             "shape": ""
            }
           },
           "name": "Oklahoma City",
           "orientation": "v",
           "showlegend": true,
           "textposition": "auto",
           "type": "bar",
           "x": [
            "Oklahoma City"
           ],
           "xaxis": "x",
           "y": {
            "bdata": "AAAAAAAAO0A=",
            "dtype": "f8"
           },
           "yaxis": "y"
          },
          {
           "hovertemplate": "TEAM=%{x}<br>YEAR=2008<br>SEASON_RANK=%{y}<extra></extra>",
           "legendgroup": "Toronto",
           "marker": {
            "color": "#FECB52",
            "pattern": {
             "shape": ""
            }
           },
           "name": "Toronto",
           "orientation": "v",
           "showlegend": true,
           "textposition": "auto",
           "type": "bar",
           "x": [
            "Toronto"
           ],
           "xaxis": "x",
           "y": {
            "bdata": "AAAAAAAANkA=",
            "dtype": "f8"
           },
           "yaxis": "y"
          },
          {
           "hovertemplate": "TEAM=%{x}<br>YEAR=2008<br>SEASON_RANK=%{y}<extra></extra>",
           "legendgroup": "Golden State",
           "marker": {
            "color": "#636efa",
            "pattern": {
             "shape": ""
            }
           },
           "name": "Golden State",
           "orientation": "v",
           "showlegend": true,
           "textposition": "auto",
           "type": "bar",
           "x": [
            "Golden State"
           ],
           "xaxis": "x",
           "y": {
            "bdata": "AAAAAAAAOEA=",
            "dtype": "f8"
           },
           "yaxis": "y"
          },
          {
           "hovertemplate": "TEAM=%{x}<br>YEAR=2008<br>SEASON_RANK=%{y}<extra></extra>",
           "legendgroup": "Dallas",
           "marker": {
            "color": "#EF553B",
            "pattern": {
             "shape": ""
            }
           },
           "name": "Dallas",
           "orientation": "v",
           "showlegend": true,
           "textposition": "auto",
           "type": "bar",
           "x": [
            "Dallas"
           ],
           "xaxis": "x",
           "y": {
            "bdata": "AAAAAAAAIkA=",
            "dtype": "f8"
           },
           "yaxis": "y"
          },
          {
           "hovertemplate": "TEAM=%{x}<br>YEAR=2008<br>SEASON_RANK=%{y}<extra></extra>",
           "legendgroup": "Minnesota",
           "marker": {
            "color": "#00cc96",
            "pattern": {
             "shape": ""
            }
           },
           "name": "Minnesota",
           "orientation": "v",
           "showlegend": true,
           "textposition": "auto",
           "type": "bar",
           "x": [
            "Minnesota"
           ],
           "xaxis": "x",
           "y": {
            "bdata": "AAAAAAAAOUA=",
            "dtype": "f8"
           },
           "yaxis": "y"
          },
          {
           "hovertemplate": "TEAM=%{x}<br>YEAR=2008<br>SEASON_RANK=%{y}<extra></extra>",
           "legendgroup": "Atlanta",
           "marker": {
            "color": "#ab63fa",
            "pattern": {
             "shape": ""
            }
           },
           "name": "Atlanta",
           "orientation": "v",
           "showlegend": true,
           "textposition": "auto",
           "type": "bar",
           "x": [
            "Atlanta"
           ],
           "xaxis": "x",
           "y": {
            "bdata": "AAAAAAAAKEA=",
            "dtype": "f8"
           },
           "yaxis": "y"
          },
          {
           "hovertemplate": "TEAM=%{x}<br>YEAR=2008<br>SEASON_RANK=%{y}<extra></extra>",
           "legendgroup": "Indiana",
           "marker": {
            "color": "#FFA15A",
            "pattern": {
             "shape": ""
            }
           },
           "name": "Indiana",
           "orientation": "v",
           "showlegend": true,
           "textposition": "auto",
           "type": "bar",
           "x": [
            "Indiana"
           ],
           "xaxis": "x",
           "y": {
            "bdata": "AAAAAAAAMkA=",
            "dtype": "f8"
           },
           "yaxis": "y"
          },
          {
           "hovertemplate": "TEAM=%{x}<br>YEAR=2008<br>SEASON_RANK=%{y}<extra></extra>",
           "legendgroup": "Miami",
           "marker": {
            "color": "#19d3f3",
            "pattern": {
             "shape": ""
            }
           },
           "name": "Miami",
           "orientation": "v",
           "showlegend": true,
           "textposition": "auto",
           "type": "bar",
           "x": [
            "Miami"
           ],
           "xaxis": "x",
           "y": {
            "bdata": "AAAAAAAALEA=",
            "dtype": "f8"
           },
           "yaxis": "y"
          },
          {
           "hovertemplate": "TEAM=%{x}<br>YEAR=2008<br>SEASON_RANK=%{y}<extra></extra>",
           "legendgroup": "Portland",
           "marker": {
            "color": "#FF6692",
            "pattern": {
             "shape": ""
            }
           },
           "name": "Portland",
           "orientation": "v",
           "showlegend": true,
           "textposition": "auto",
           "type": "bar",
           "x": [
            "Portland"
           ],
           "xaxis": "x",
           "y": {
            "bdata": "AAAAAAAAFEA=",
            "dtype": "f8"
           },
           "yaxis": "y"
          },
          {
           "hovertemplate": "TEAM=%{x}<br>YEAR=2008<br>SEASON_RANK=%{y}<extra></extra>",
           "legendgroup": "Utah",
           "marker": {
            "color": "#B6E880",
            "pattern": {
             "shape": ""
            }
           },
           "name": "Utah",
           "orientation": "v",
           "showlegend": true,
           "textposition": "auto",
           "type": "bar",
           "x": [
            "Utah"
           ],
           "xaxis": "x",
           "y": {
            "bdata": "AAAAAAAAJkA=",
            "dtype": "f8"
           },
           "yaxis": "y"
          },
          {
           "hovertemplate": "TEAM=%{x}<br>YEAR=2008<br>SEASON_RANK=%{y}<extra></extra>",
           "legendgroup": "New York",
           "marker": {
            "color": "#FF97FF",
            "pattern": {
             "shape": ""
            }
           },
           "name": "New York",
           "orientation": "v",
           "showlegend": true,
           "textposition": "auto",
           "type": "bar",
           "x": [
            "New York"
           ],
           "xaxis": "x",
           "y": {
            "bdata": "AAAAAAAAN0A=",
            "dtype": "f8"
           },
           "yaxis": "y"
          },
          {
           "hovertemplate": "TEAM=%{x}<br>YEAR=2008<br>SEASON_RANK=%{y}<extra></extra>",
           "legendgroup": "Sacramento",
           "marker": {
            "color": "#FECB52",
            "pattern": {
             "shape": ""
            }
           },
           "name": "Sacramento",
           "orientation": "v",
           "showlegend": true,
           "textposition": "auto",
           "type": "bar",
           "x": [
            "Sacramento"
           ],
           "xaxis": "x",
           "y": {
            "bdata": "AAAAAAAAPkA=",
            "dtype": "f8"
           },
           "yaxis": "y"
          },
          {
           "hovertemplate": "TEAM=%{x}<br>YEAR=2008<br>SEASON_RANK=%{y}<extra></extra>",
           "legendgroup": "Phoenix",
           "marker": {
            "color": "#EF553B",
            "pattern": {
             "shape": ""
            }
           },
           "name": "Phoenix",
           "orientation": "v",
           "showlegend": true,
           "textposition": "auto",
           "type": "bar",
           "x": [
            "Phoenix"
           ],
           "xaxis": "x",
           "y": {
            "bdata": "AAAAAAAAKkA=",
            "dtype": "f8"
           },
           "yaxis": "y"
          },
          {
           "hovertemplate": "TEAM=%{x}<br>YEAR=2008<br>SEASON_RANK=%{y}<extra></extra>",
           "legendgroup": "Philadelphia",
           "marker": {
            "color": "#00cc96",
            "pattern": {
             "shape": ""
            }
           },
           "name": "Philadelphia",
           "orientation": "v",
           "showlegend": true,
           "textposition": "auto",
           "type": "bar",
           "x": [
            "Philadelphia"
           ],
           "xaxis": "x",
           "y": {
            "bdata": "AAAAAAAALkA=",
            "dtype": "f8"
           },
           "yaxis": "y"
          },
          {
           "hovertemplate": "TEAM=%{x}<br>YEAR=2008<br>SEASON_RANK=%{y}<extra></extra>",
           "legendgroup": "New Orleans",
           "marker": {
            "color": "#ab63fa",
            "pattern": {
             "shape": ""
            }
           },
           "name": "New Orleans",
           "orientation": "v",
           "showlegend": true,
           "textposition": "auto",
           "type": "bar",
           "x": [
            "New Orleans"
           ],
           "xaxis": "x",
           "y": {
            "bdata": "AAAAAAAAJEA=",
            "dtype": "f8"
           },
           "yaxis": "y"
          },
          {
           "hovertemplate": "TEAM=%{x}<br>YEAR=2008<br>SEASON_RANK=%{y}<extra></extra>",
           "legendgroup": "Denver",
           "marker": {
            "color": "#19d3f3",
            "pattern": {
             "shape": ""
            }
           },
           "name": "Denver",
           "orientation": "v",
           "showlegend": true,
           "textposition": "auto",
           "type": "bar",
           "x": [
            "Denver"
           ],
           "xaxis": "x",
           "y": {
            "bdata": "AAAAAAAAFEA=",
            "dtype": "f8"
           },
           "yaxis": "y"
          },
          {
           "hovertemplate": "TEAM=%{x}<br>YEAR=2008<br>SEASON_RANK=%{y}<extra></extra>",
           "legendgroup": "Memphis",
           "marker": {
            "color": "#FF6692",
            "pattern": {
             "shape": ""
            }
           },
           "name": "Memphis",
           "orientation": "v",
           "showlegend": true,
           "textposition": "auto",
           "type": "bar",
           "x": [
            "Memphis"
           ],
           "xaxis": "x",
           "y": {
            "bdata": "AAAAAAAAOUA=",
            "dtype": "f8"
           },
           "yaxis": "y"
          },
          {
           "hovertemplate": "TEAM=%{x}<br>YEAR=2008<br>SEASON_RANK=%{y}<extra></extra>",
           "legendgroup": "Cleveland",
           "marker": {
            "color": "#B6E880",
            "pattern": {
             "shape": ""
            }
           },
           "name": "Cleveland",
           "orientation": "v",
           "showlegend": true,
           "textposition": "auto",
           "type": "bar",
           "x": [
            "Cleveland"
           ],
           "xaxis": "x",
           "y": {
            "bdata": "AAAAAAAA8D8=",
            "dtype": "f8"
           },
           "yaxis": "y"
          },
          {
           "hovertemplate": "TEAM=%{x}<br>YEAR=2008<br>SEASON_RANK=%{y}<extra></extra>",
           "legendgroup": "Boston",
           "marker": {
            "color": "#FF97FF",
            "pattern": {
             "shape": ""
            }
           },
           "name": "Boston",
           "orientation": "v",
           "showlegend": true,
           "textposition": "auto",
           "type": "bar",
           "x": [
            "Boston"
           ],
           "xaxis": "x",
           "y": {
            "bdata": "AAAAAAAACEA=",
            "dtype": "f8"
           },
           "yaxis": "y"
          },
          {
           "hovertemplate": "TEAM=%{x}<br>YEAR=2008<br>SEASON_RANK=%{y}<extra></extra>",
           "legendgroup": "Milwaukee",
           "marker": {
            "color": "#FECB52",
            "pattern": {
             "shape": ""
            }
           },
           "name": "Milwaukee",
           "orientation": "v",
           "showlegend": true,
           "textposition": "auto",
           "type": "bar",
           "x": [
            "Milwaukee"
           ],
           "xaxis": "x",
           "y": {
            "bdata": "AAAAAAAANEA=",
            "dtype": "f8"
           },
           "yaxis": "y"
          },
          {
           "hovertemplate": "TEAM=%{x}<br>YEAR=2008<br>SEASON_RANK=%{y}<extra></extra>",
           "legendgroup": "L.A. Clippers",
           "marker": {
            "color": "#EF553B",
            "pattern": {
             "shape": ""
            }
           },
           "name": "L.A. Clippers",
           "orientation": "v",
           "showlegend": true,
           "textposition": "auto",
           "type": "bar",
           "x": [
            "L.A. Clippers"
           ],
           "xaxis": "x",
           "y": {
            "bdata": "AAAAAAAAPEA=",
            "dtype": "f8"
           },
           "yaxis": "y"
          },
          {
           "hovertemplate": "TEAM=%{x}<br>YEAR=2008<br>SEASON_RANK=%{y}<extra></extra>",
           "legendgroup": "New Jersey",
           "marker": {
            "color": "#00cc96",
            "pattern": {
             "shape": ""
            }
           },
           "name": "New Jersey",
           "orientation": "v",
           "showlegend": true,
           "textposition": "auto",
           "type": "bar",
           "x": [
            "New Jersey"
           ],
           "xaxis": "x",
           "y": {
            "bdata": "AAAAAAAANEA=",
            "dtype": "f8"
           },
           "yaxis": "y"
          }
         ],
         "name": "2008"
        },
        {
         "data": [
          {
           "hovertemplate": "TEAM=%{x}<br>YEAR=2009<br>SEASON_RANK=%{y}<extra></extra>",
           "legendgroup": "Detroit",
           "marker": {
            "color": "#636efa",
            "pattern": {
             "shape": ""
            }
           },
           "name": "Detroit",
           "orientation": "v",
           "showlegend": true,
           "textposition": "auto",
           "type": "bar",
           "x": [
            "Detroit"
           ],
           "xaxis": "x",
           "y": {
            "bdata": "AAAAAAAAOEA=",
            "dtype": "f8"
           },
           "yaxis": "y"
          },
          {
           "hovertemplate": "TEAM=%{x}<br>YEAR=2009<br>SEASON_RANK=%{y}<extra></extra>",
           "legendgroup": "Charlotte",
           "marker": {
            "color": "#EF553B",
            "pattern": {
             "shape": ""
            }
           },
           "name": "Charlotte",
           "orientation": "v",
           "showlegend": true,
           "textposition": "auto",
           "type": "bar",
           "x": [
            "Charlotte"
           ],
           "xaxis": "x",
           "y": {
            "bdata": "AAAAAAAALkA=",
            "dtype": "f8"
           },
           "yaxis": "y"
          },
          {
           "hovertemplate": "TEAM=%{x}<br>YEAR=2009<br>SEASON_RANK=%{y}<extra></extra>",
           "legendgroup": "Houston",
           "marker": {
            "color": "#00cc96",
            "pattern": {
             "shape": ""
            }
           },
           "name": "Houston",
           "orientation": "v",
           "showlegend": true,
           "textposition": "auto",
           "type": "bar",
           "x": [
            "Houston"
           ],
           "xaxis": "x",
           "y": {
            "bdata": "AAAAAAAAMEA=",
            "dtype": "f8"
           },
           "yaxis": "y"
          },
          {
           "hovertemplate": "TEAM=%{x}<br>YEAR=2009<br>SEASON_RANK=%{y}<extra></extra>",
           "legendgroup": "San Antonio",
           "marker": {
            "color": "#ab63fa",
            "pattern": {
             "shape": ""
            }
           },
           "name": "San Antonio",
           "orientation": "v",
           "showlegend": true,
           "textposition": "auto",
           "type": "bar",
           "x": [
            "San Antonio"
           ],
           "xaxis": "x",
           "y": {
            "bdata": "AAAAAAAAIkA=",
            "dtype": "f8"
           },
           "yaxis": "y"
          },
          {
           "hovertemplate": "TEAM=%{x}<br>YEAR=2009<br>SEASON_RANK=%{y}<extra></extra>",
           "legendgroup": "Orlando",
           "marker": {
            "color": "#FFA15A",
            "pattern": {
             "shape": ""
            }
           },
           "name": "Orlando",
           "orientation": "v",
           "showlegend": true,
           "textposition": "auto",
           "type": "bar",
           "x": [
            "Orlando"
           ],
           "xaxis": "x",
           "y": {
            "bdata": "AAAAAAAAAEA=",
            "dtype": "f8"
           },
           "yaxis": "y"
          },
          {
           "hovertemplate": "TEAM=%{x}<br>YEAR=2009<br>SEASON_RANK=%{y}<extra></extra>",
           "legendgroup": "Washington",
           "marker": {
            "color": "#19d3f3",
            "pattern": {
             "shape": ""
            }
           },
           "name": "Washington",
           "orientation": "v",
           "showlegend": true,
           "textposition": "auto",
           "type": "bar",
           "x": [
            "Washington"
           ],
           "xaxis": "x",
           "y": {
            "bdata": "AAAAAAAAOkA=",
            "dtype": "f8"
           },
           "yaxis": "y"
          },
          {
           "hovertemplate": "TEAM=%{x}<br>YEAR=2009<br>SEASON_RANK=%{y}<extra></extra>",
           "legendgroup": "L.A. Lakers",
           "marker": {
            "color": "#FF6692",
            "pattern": {
             "shape": ""
            }
           },
           "name": "L.A. Lakers",
           "orientation": "v",
           "showlegend": true,
           "textposition": "auto",
           "type": "bar",
           "x": [
            "L.A. Lakers"
           ],
           "xaxis": "x",
           "y": {
            "bdata": "AAAAAAAACEA=",
            "dtype": "f8"
           },
           "yaxis": "y"
          },
          {
           "hovertemplate": "TEAM=%{x}<br>YEAR=2009<br>SEASON_RANK=%{y}<extra></extra>",
           "legendgroup": "Chicago",
           "marker": {
            "color": "#B6E880",
            "pattern": {
             "shape": ""
            }
           },
           "name": "Chicago",
           "orientation": "v",
           "showlegend": true,
           "textposition": "auto",
           "type": "bar",
           "x": [
            "Chicago"
           ],
           "xaxis": "x",
           "y": {
            "bdata": "AAAAAAAAMUA=",
            "dtype": "f8"
           },
           "yaxis": "y"
          },
          {
           "hovertemplate": "TEAM=%{x}<br>YEAR=2009<br>SEASON_RANK=%{y}<extra></extra>",
           "legendgroup": "Oklahoma City",
           "marker": {
            "color": "#FF97FF",
            "pattern": {
             "shape": ""
            }
           },
           "name": "Oklahoma City",
           "orientation": "v",
           "showlegend": true,
           "textposition": "auto",
           "type": "bar",
           "x": [
            "Oklahoma City"
           ],
           "xaxis": "x",
           "y": {
            "bdata": "AAAAAAAAIkA=",
            "dtype": "f8"
           },
           "yaxis": "y"
          },
          {
           "hovertemplate": "TEAM=%{x}<br>YEAR=2009<br>SEASON_RANK=%{y}<extra></extra>",
           "legendgroup": "Toronto",
           "marker": {
            "color": "#FECB52",
            "pattern": {
             "shape": ""
            }
           },
           "name": "Toronto",
           "orientation": "v",
           "showlegend": true,
           "textposition": "auto",
           "type": "bar",
           "x": [
            "Toronto"
           ],
           "xaxis": "x",
           "y": {
            "bdata": "AAAAAAAAMkA=",
            "dtype": "f8"
           },
           "yaxis": "y"
          },
          {
           "hovertemplate": "TEAM=%{x}<br>YEAR=2009<br>SEASON_RANK=%{y}<extra></extra>",
           "legendgroup": "Golden State",
           "marker": {
            "color": "#636efa",
            "pattern": {
             "shape": ""
            }
           },
           "name": "Golden State",
           "orientation": "v",
           "showlegend": true,
           "textposition": "auto",
           "type": "bar",
           "x": [
            "Golden State"
           ],
           "xaxis": "x",
           "y": {
            "bdata": "AAAAAAAAOkA=",
            "dtype": "f8"
           },
           "yaxis": "y"
          },
          {
           "hovertemplate": "TEAM=%{x}<br>YEAR=2009<br>SEASON_RANK=%{y}<extra></extra>",
           "legendgroup": "Dallas",
           "marker": {
            "color": "#EF553B",
            "pattern": {
             "shape": ""
            }
           },
           "name": "Dallas",
           "orientation": "v",
           "showlegend": true,
           "textposition": "auto",
           "type": "bar",
           "x": [
            "Dallas"
           ],
           "xaxis": "x",
           "y": {
            "bdata": "AAAAAAAAEEA=",
            "dtype": "f8"
           },
           "yaxis": "y"
          },
          {
           "hovertemplate": "TEAM=%{x}<br>YEAR=2009<br>SEASON_RANK=%{y}<extra></extra>",
           "legendgroup": "Minnesota",
           "marker": {
            "color": "#00cc96",
            "pattern": {
             "shape": ""
            }
           },
           "name": "Minnesota",
           "orientation": "v",
           "showlegend": true,
           "textposition": "auto",
           "type": "bar",
           "x": [
            "Minnesota"
           ],
           "xaxis": "x",
           "y": {
            "bdata": "AAAAAAAAPUA=",
            "dtype": "f8"
           },
           "yaxis": "y"
          },
          {
           "hovertemplate": "TEAM=%{x}<br>YEAR=2009<br>SEASON_RANK=%{y}<extra></extra>",
           "legendgroup": "Atlanta",
           "marker": {
            "color": "#ab63fa",
            "pattern": {
             "shape": ""
            }
           },
           "name": "Atlanta",
           "orientation": "v",
           "showlegend": true,
           "textposition": "auto",
           "type": "bar",
           "x": [
            "Atlanta"
           ],
           "xaxis": "x",
           "y": {
            "bdata": "AAAAAAAAGEA=",
            "dtype": "f8"
           },
           "yaxis": "y"
          },
          {
           "hovertemplate": "TEAM=%{x}<br>YEAR=2009<br>SEASON_RANK=%{y}<extra></extra>",
           "legendgroup": "Indiana",
           "marker": {
            "color": "#FFA15A",
            "pattern": {
             "shape": ""
            }
           },
           "name": "Indiana",
           "orientation": "v",
           "showlegend": true,
           "textposition": "auto",
           "type": "bar",
           "x": [
            "Indiana"
           ],
           "xaxis": "x",
           "y": {
            "bdata": "AAAAAAAANUA=",
            "dtype": "f8"
           },
           "yaxis": "y"
          },
          {
           "hovertemplate": "TEAM=%{x}<br>YEAR=2009<br>SEASON_RANK=%{y}<extra></extra>",
           "legendgroup": "Miami",
           "marker": {
            "color": "#19d3f3",
            "pattern": {
             "shape": ""
            }
           },
           "name": "Miami",
           "orientation": "v",
           "showlegend": true,
           "textposition": "auto",
           "type": "bar",
           "x": [
            "Miami"
           ],
           "xaxis": "x",
           "y": {
            "bdata": "AAAAAAAAKkA=",
            "dtype": "f8"
           },
           "yaxis": "y"
          },
          {
           "hovertemplate": "TEAM=%{x}<br>YEAR=2009<br>SEASON_RANK=%{y}<extra></extra>",
           "legendgroup": "Portland",
           "marker": {
            "color": "#FF6692",
            "pattern": {
             "shape": ""
            }
           },
           "name": "Portland",
           "orientation": "v",
           "showlegend": true,
           "textposition": "auto",
           "type": "bar",
           "x": [
            "Portland"
           ],
           "xaxis": "x",
           "y": {
            "bdata": "AAAAAAAAIkA=",
            "dtype": "f8"
           },
           "yaxis": "y"
          },
          {
           "hovertemplate": "TEAM=%{x}<br>YEAR=2009<br>SEASON_RANK=%{y}<extra></extra>",
           "legendgroup": "Utah",
           "marker": {
            "color": "#B6E880",
            "pattern": {
             "shape": ""
            }
           },
           "name": "Utah",
           "orientation": "v",
           "showlegend": true,
           "textposition": "auto",
           "type": "bar",
           "x": [
            "Utah"
           ],
           "xaxis": "x",
           "y": {
            "bdata": "AAAAAAAAGEA=",
            "dtype": "f8"
           },
           "yaxis": "y"
          },
          {
           "hovertemplate": "TEAM=%{x}<br>YEAR=2009<br>SEASON_RANK=%{y}<extra></extra>",
           "legendgroup": "New York",
           "marker": {
            "color": "#FF97FF",
            "pattern": {
             "shape": ""
            }
           },
           "name": "New York",
           "orientation": "v",
           "showlegend": true,
           "textposition": "auto",
           "type": "bar",
           "x": [
            "New York"
           ],
           "xaxis": "x",
           "y": {
            "bdata": "AAAAAAAANkA=",
            "dtype": "f8"
           },
           "yaxis": "y"
          },
          {
           "hovertemplate": "TEAM=%{x}<br>YEAR=2009<br>SEASON_RANK=%{y}<extra></extra>",
           "legendgroup": "Sacramento",
           "marker": {
            "color": "#FECB52",
            "pattern": {
             "shape": ""
            }
           },
           "name": "Sacramento",
           "orientation": "v",
           "showlegend": true,
           "textposition": "auto",
           "type": "bar",
           "x": [
            "Sacramento"
           ],
           "xaxis": "x",
           "y": {
            "bdata": "AAAAAAAAPEA=",
            "dtype": "f8"
           },
           "yaxis": "y"
          },
          {
           "hovertemplate": "TEAM=%{x}<br>YEAR=2009<br>SEASON_RANK=%{y}<extra></extra>",
           "legendgroup": "Phoenix",
           "marker": {
            "color": "#EF553B",
            "pattern": {
             "shape": ""
            }
           },
           "name": "Phoenix",
           "orientation": "v",
           "showlegend": true,
           "textposition": "auto",
           "type": "bar",
           "x": [
            "Phoenix"
           ],
           "xaxis": "x",
           "y": {
            "bdata": "AAAAAAAAFEA=",
            "dtype": "f8"
           },
           "yaxis": "y"
          },
          {
           "hovertemplate": "TEAM=%{x}<br>YEAR=2009<br>SEASON_RANK=%{y}<extra></extra>",
           "legendgroup": "Philadelphia",
           "marker": {
            "color": "#00cc96",
            "pattern": {
             "shape": ""
            }
           },
           "name": "Philadelphia",
           "orientation": "v",
           "showlegend": true,
           "textposition": "auto",
           "type": "bar",
           "x": [
            "Philadelphia"
           ],
           "xaxis": "x",
           "y": {
            "bdata": "AAAAAAAAOEA=",
            "dtype": "f8"
           },
           "yaxis": "y"
          },
          {
           "hovertemplate": "TEAM=%{x}<br>YEAR=2009<br>SEASON_RANK=%{y}<extra></extra>",
           "legendgroup": "New Orleans",
           "marker": {
            "color": "#ab63fa",
            "pattern": {
             "shape": ""
            }
           },
           "name": "New Orleans",
           "orientation": "v",
           "showlegend": true,
           "textposition": "auto",
           "type": "bar",
           "x": [
            "New Orleans"
           ],
           "xaxis": "x",
           "y": {
            "bdata": "AAAAAAAANEA=",
            "dtype": "f8"
           },
           "yaxis": "y"
          },
          {
           "hovertemplate": "TEAM=%{x}<br>YEAR=2009<br>SEASON_RANK=%{y}<extra></extra>",
           "legendgroup": "Denver",
           "marker": {
            "color": "#19d3f3",
            "pattern": {
             "shape": ""
            }
           },
           "name": "Denver",
           "orientation": "v",
           "showlegend": true,
           "textposition": "auto",
           "type": "bar",
           "x": [
            "Denver"
           ],
           "xaxis": "x",
           "y": {
            "bdata": "AAAAAAAAGEA=",
            "dtype": "f8"
           },
           "yaxis": "y"
          },
          {
           "hovertemplate": "TEAM=%{x}<br>YEAR=2009<br>SEASON_RANK=%{y}<extra></extra>",
           "legendgroup": "Memphis",
           "marker": {
            "color": "#FF6692",
            "pattern": {
             "shape": ""
            }
           },
           "name": "Memphis",
           "orientation": "v",
           "showlegend": true,
           "textposition": "auto",
           "type": "bar",
           "x": [
            "Memphis"
           ],
           "xaxis": "x",
           "y": {
            "bdata": "AAAAAAAAMkA=",
            "dtype": "f8"
           },
           "yaxis": "y"
          },
          {
           "hovertemplate": "TEAM=%{x}<br>YEAR=2009<br>SEASON_RANK=%{y}<extra></extra>",
           "legendgroup": "Cleveland",
           "marker": {
            "color": "#B6E880",
            "pattern": {
             "shape": ""
            }
           },
           "name": "Cleveland",
           "orientation": "v",
           "showlegend": true,
           "textposition": "auto",
           "type": "bar",
           "x": [
            "Cleveland"
           ],
           "xaxis": "x",
           "y": {
            "bdata": "AAAAAAAA8D8=",
            "dtype": "f8"
           },
           "yaxis": "y"
          },
          {
           "hovertemplate": "TEAM=%{x}<br>YEAR=2009<br>SEASON_RANK=%{y}<extra></extra>",
           "legendgroup": "Boston",
           "marker": {
            "color": "#FF97FF",
            "pattern": {
             "shape": ""
            }
           },
           "name": "Boston",
           "orientation": "v",
           "showlegend": true,
           "textposition": "auto",
           "type": "bar",
           "x": [
            "Boston"
           ],
           "xaxis": "x",
           "y": {
            "bdata": "AAAAAAAAIkA=",
            "dtype": "f8"
           },
           "yaxis": "y"
          },
          {
           "hovertemplate": "TEAM=%{x}<br>YEAR=2009<br>SEASON_RANK=%{y}<extra></extra>",
           "legendgroup": "Milwaukee",
           "marker": {
            "color": "#FECB52",
            "pattern": {
             "shape": ""
            }
           },
           "name": "Milwaukee",
           "orientation": "v",
           "showlegend": true,
           "textposition": "auto",
           "type": "bar",
           "x": [
            "Milwaukee"
           ],
           "xaxis": "x",
           "y": {
            "bdata": "AAAAAAAALEA=",
            "dtype": "f8"
           },
           "yaxis": "y"
          },
          {
           "hovertemplate": "TEAM=%{x}<br>YEAR=2009<br>SEASON_RANK=%{y}<extra></extra>",
           "legendgroup": "L.A. Clippers",
           "marker": {
            "color": "#EF553B",
            "pattern": {
             "shape": ""
            }
           },
           "name": "L.A. Clippers",
           "orientation": "v",
           "showlegend": true,
           "textposition": "auto",
           "type": "bar",
           "x": [
            "L.A. Clippers"
           ],
           "xaxis": "x",
           "y": {
            "bdata": "AAAAAAAANkA=",
            "dtype": "f8"
           },
           "yaxis": "y"
          },
          {
           "hovertemplate": "TEAM=%{x}<br>YEAR=2009<br>SEASON_RANK=%{y}<extra></extra>",
           "legendgroup": "New Jersey",
           "marker": {
            "color": "#00cc96",
            "pattern": {
             "shape": ""
            }
           },
           "name": "New Jersey",
           "orientation": "v",
           "showlegend": true,
           "textposition": "auto",
           "type": "bar",
           "x": [
            "New Jersey"
           ],
           "xaxis": "x",
           "y": {
            "bdata": "AAAAAAAAPkA=",
            "dtype": "f8"
           },
           "yaxis": "y"
          }
         ],
         "name": "2009"
        },
        {
         "data": [
          {
           "hovertemplate": "TEAM=%{x}<br>YEAR=2010<br>SEASON_RANK=%{y}<extra></extra>",
           "legendgroup": "Detroit",
           "marker": {
            "color": "#636efa",
            "pattern": {
             "shape": ""
            }
           },
           "name": "Detroit",
           "orientation": "v",
           "showlegend": true,
           "textposition": "auto",
           "type": "bar",
           "x": [
            "Detroit"
           ],
           "xaxis": "x",
           "y": {
            "bdata": "AAAAAAAAOEA=",
            "dtype": "f8"
           },
           "yaxis": "y"
          },
          {
           "hovertemplate": "TEAM=%{x}<br>YEAR=2010<br>SEASON_RANK=%{y}<extra></extra>",
           "legendgroup": "Charlotte",
           "marker": {
            "color": "#EF553B",
            "pattern": {
             "shape": ""
            }
           },
           "name": "Charlotte",
           "orientation": "v",
           "showlegend": true,
           "textposition": "auto",
           "type": "bar",
           "x": [
            "Charlotte"
           ],
           "xaxis": "x",
           "y": {
            "bdata": "AAAAAAAANkA=",
            "dtype": "f8"
           },
           "yaxis": "y"
          },
          {
           "hovertemplate": "TEAM=%{x}<br>YEAR=2010<br>SEASON_RANK=%{y}<extra></extra>",
           "legendgroup": "Houston",
           "marker": {
            "color": "#00cc96",
            "pattern": {
             "shape": ""
            }
           },
           "name": "Houston",
           "orientation": "v",
           "showlegend": true,
           "textposition": "auto",
           "type": "bar",
           "x": [
            "Houston"
           ],
           "xaxis": "x",
           "y": {
            "bdata": "AAAAAAAALEA=",
            "dtype": "f8"
           },
           "yaxis": "y"
          },
          {
           "hovertemplate": "TEAM=%{x}<br>YEAR=2010<br>SEASON_RANK=%{y}<extra></extra>",
           "legendgroup": "San Antonio",
           "marker": {
            "color": "#ab63fa",
            "pattern": {
             "shape": ""
            }
           },
           "name": "San Antonio",
           "orientation": "v",
           "showlegend": true,
           "textposition": "auto",
           "type": "bar",
           "x": [
            "San Antonio"
           ],
           "xaxis": "x",
           "y": {
            "bdata": "AAAAAAAAAEA=",
            "dtype": "f8"
           },
           "yaxis": "y"
          },
          {
           "hovertemplate": "TEAM=%{x}<br>YEAR=2010<br>SEASON_RANK=%{y}<extra></extra>",
           "legendgroup": "Orlando",
           "marker": {
            "color": "#FFA15A",
            "pattern": {
             "shape": ""
            }
           },
           "name": "Orlando",
           "orientation": "v",
           "showlegend": true,
           "textposition": "auto",
           "type": "bar",
           "x": [
            "Orlando"
           ],
           "xaxis": "x",
           "y": {
            "bdata": "AAAAAAAAIEA=",
            "dtype": "f8"
           },
           "yaxis": "y"
          },
          {
           "hovertemplate": "TEAM=%{x}<br>YEAR=2010<br>SEASON_RANK=%{y}<extra></extra>",
           "legendgroup": "Washington",
           "marker": {
            "color": "#19d3f3",
            "pattern": {
             "shape": ""
            }
           },
           "name": "Washington",
           "orientation": "v",
           "showlegend": true,
           "textposition": "auto",
           "type": "bar",
           "x": [
            "Washington"
           ],
           "xaxis": "x",
           "y": {
            "bdata": "AAAAAAAAO0A=",
            "dtype": "f8"
           },
           "yaxis": "y"
          },
          {
           "hovertemplate": "TEAM=%{x}<br>YEAR=2010<br>SEASON_RANK=%{y}<extra></extra>",
           "legendgroup": "L.A. Lakers",
           "marker": {
            "color": "#FF6692",
            "pattern": {
             "shape": ""
            }
           },
           "name": "L.A. Lakers",
           "orientation": "v",
           "showlegend": true,
           "textposition": "auto",
           "type": "bar",
           "x": [
            "L.A. Lakers"
           ],
           "xaxis": "x",
           "y": {
            "bdata": "AAAAAAAAEEA=",
            "dtype": "f8"
           },
           "yaxis": "y"
          },
          {
           "hovertemplate": "TEAM=%{x}<br>YEAR=2010<br>SEASON_RANK=%{y}<extra></extra>",
           "legendgroup": "Chicago",
           "marker": {
            "color": "#B6E880",
            "pattern": {
             "shape": ""
            }
           },
           "name": "Chicago",
           "orientation": "v",
           "showlegend": true,
           "textposition": "auto",
           "type": "bar",
           "x": [
            "Chicago"
           ],
           "xaxis": "x",
           "y": {
            "bdata": "AAAAAAAA8D8=",
            "dtype": "f8"
           },
           "yaxis": "y"
          },
          {
           "hovertemplate": "TEAM=%{x}<br>YEAR=2010<br>SEASON_RANK=%{y}<extra></extra>",
           "legendgroup": "Oklahoma City",
           "marker": {
            "color": "#FF97FF",
            "pattern": {
             "shape": ""
            }
           },
           "name": "Oklahoma City",
           "orientation": "v",
           "showlegend": true,
           "textposition": "auto",
           "type": "bar",
           "x": [
            "Oklahoma City"
           ],
           "xaxis": "x",
           "y": {
            "bdata": "AAAAAAAAHEA=",
            "dtype": "f8"
           },
           "yaxis": "y"
          },
          {
           "hovertemplate": "TEAM=%{x}<br>YEAR=2010<br>SEASON_RANK=%{y}<extra></extra>",
           "legendgroup": "Toronto",
           "marker": {
            "color": "#FECB52",
            "pattern": {
             "shape": ""
            }
           },
           "name": "Toronto",
           "orientation": "v",
           "showlegend": true,
           "textposition": "auto",
           "type": "bar",
           "x": [
            "Toronto"
           ],
           "xaxis": "x",
           "y": {
            "bdata": "AAAAAAAAPEA=",
            "dtype": "f8"
           },
           "yaxis": "y"
          },
          {
           "hovertemplate": "TEAM=%{x}<br>YEAR=2010<br>SEASON_RANK=%{y}<extra></extra>",
           "legendgroup": "Golden State",
           "marker": {
            "color": "#636efa",
            "pattern": {
             "shape": ""
            }
           },
           "name": "Golden State",
           "orientation": "v",
           "showlegend": true,
           "textposition": "auto",
           "type": "bar",
           "x": [
            "Golden State"
           ],
           "xaxis": "x",
           "y": {
            "bdata": "AAAAAAAANEA=",
            "dtype": "f8"
           },
           "yaxis": "y"
          },
          {
           "hovertemplate": "TEAM=%{x}<br>YEAR=2010<br>SEASON_RANK=%{y}<extra></extra>",
           "legendgroup": "Dallas",
           "marker": {
            "color": "#EF553B",
            "pattern": {
             "shape": ""
            }
           },
           "name": "Dallas",
           "orientation": "v",
           "showlegend": true,
           "textposition": "auto",
           "type": "bar",
           "x": [
            "Dallas"
           ],
           "xaxis": "x",
           "y": {
            "bdata": "AAAAAAAAEEA=",
            "dtype": "f8"
           },
           "yaxis": "y"
          },
          {
           "hovertemplate": "TEAM=%{x}<br>YEAR=2010<br>SEASON_RANK=%{y}<extra></extra>",
           "legendgroup": "Minnesota",
           "marker": {
            "color": "#00cc96",
            "pattern": {
             "shape": ""
            }
           },
           "name": "Minnesota",
           "orientation": "v",
           "showlegend": true,
           "textposition": "auto",
           "type": "bar",
           "x": [
            "Minnesota"
           ],
           "xaxis": "x",
           "y": {
            "bdata": "AAAAAAAAPkA=",
            "dtype": "f8"
           },
           "yaxis": "y"
          },
          {
           "hovertemplate": "TEAM=%{x}<br>YEAR=2010<br>SEASON_RANK=%{y}<extra></extra>",
           "legendgroup": "Atlanta",
           "marker": {
            "color": "#ab63fa",
            "pattern": {
             "shape": ""
            }
           },
           "name": "Atlanta",
           "orientation": "v",
           "showlegend": true,
           "textposition": "auto",
           "type": "bar",
           "x": [
            "Atlanta"
           ],
           "xaxis": "x",
           "y": {
            "bdata": "AAAAAAAAKkA=",
            "dtype": "f8"
           },
           "yaxis": "y"
          },
          {
           "hovertemplate": "TEAM=%{x}<br>YEAR=2010<br>SEASON_RANK=%{y}<extra></extra>",
           "legendgroup": "Indiana",
           "marker": {
            "color": "#FFA15A",
            "pattern": {
             "shape": ""
            }
           },
           "name": "Indiana",
           "orientation": "v",
           "showlegend": true,
           "textposition": "auto",
           "type": "bar",
           "x": [
            "Indiana"
           ],
           "xaxis": "x",
           "y": {
            "bdata": "AAAAAAAAM0A=",
            "dtype": "f8"
           },
           "yaxis": "y"
          },
          {
           "hovertemplate": "TEAM=%{x}<br>YEAR=2010<br>SEASON_RANK=%{y}<extra></extra>",
           "legendgroup": "Miami",
           "marker": {
            "color": "#19d3f3",
            "pattern": {
             "shape": ""
            }
           },
           "name": "Miami",
           "orientation": "v",
           "showlegend": true,
           "textposition": "auto",
           "type": "bar",
           "x": [
            "Miami"
           ],
           "xaxis": "x",
           "y": {
            "bdata": "AAAAAAAACEA=",
            "dtype": "f8"
           },
           "yaxis": "y"
          },
          {
           "hovertemplate": "TEAM=%{x}<br>YEAR=2010<br>SEASON_RANK=%{y}<extra></extra>",
           "legendgroup": "Portland",
           "marker": {
            "color": "#FF6692",
            "pattern": {
             "shape": ""
            }
           },
           "name": "Portland",
           "orientation": "v",
           "showlegend": true,
           "textposition": "auto",
           "type": "bar",
           "x": [
            "Portland"
           ],
           "xaxis": "x",
           "y": {
            "bdata": "AAAAAAAAJEA=",
            "dtype": "f8"
           },
           "yaxis": "y"
          },
          {
           "hovertemplate": "TEAM=%{x}<br>YEAR=2010<br>SEASON_RANK=%{y}<extra></extra>",
           "legendgroup": "Utah",
           "marker": {
            "color": "#B6E880",
            "pattern": {
             "shape": ""
            }
           },
           "name": "Utah",
           "orientation": "v",
           "showlegend": true,
           "textposition": "auto",
           "type": "bar",
           "x": [
            "Utah"
           ],
           "xaxis": "x",
           "y": {
            "bdata": "AAAAAAAAMkA=",
            "dtype": "f8"
           },
           "yaxis": "y"
          },
          {
           "hovertemplate": "TEAM=%{x}<br>YEAR=2010<br>SEASON_RANK=%{y}<extra></extra>",
           "legendgroup": "New York",
           "marker": {
            "color": "#FF97FF",
            "pattern": {
             "shape": ""
            }
           },
           "name": "New York",
           "orientation": "v",
           "showlegend": true,
           "textposition": "auto",
           "type": "bar",
           "x": [
            "New York"
           ],
           "xaxis": "x",
           "y": {
            "bdata": "AAAAAAAALkA=",
            "dtype": "f8"
           },
           "yaxis": "y"
          },
          {
           "hovertemplate": "TEAM=%{x}<br>YEAR=2010<br>SEASON_RANK=%{y}<extra></extra>",
           "legendgroup": "Sacramento",
           "marker": {
            "color": "#FECB52",
            "pattern": {
             "shape": ""
            }
           },
           "name": "Sacramento",
           "orientation": "v",
           "showlegend": true,
           "textposition": "auto",
           "type": "bar",
           "x": [
            "Sacramento"
           ],
           "xaxis": "x",
           "y": {
            "bdata": "AAAAAAAAOUA=",
            "dtype": "f8"
           },
           "yaxis": "y"
          },
          {
           "hovertemplate": "TEAM=%{x}<br>YEAR=2010<br>SEASON_RANK=%{y}<extra></extra>",
           "legendgroup": "Phoenix",
           "marker": {
            "color": "#EF553B",
            "pattern": {
             "shape": ""
            }
           },
           "name": "Phoenix",
           "orientation": "v",
           "showlegend": true,
           "textposition": "auto",
           "type": "bar",
           "x": [
            "Phoenix"
           ],
           "xaxis": "x",
           "y": {
            "bdata": "AAAAAAAAMUA=",
            "dtype": "f8"
           },
           "yaxis": "y"
          },
          {
           "hovertemplate": "TEAM=%{x}<br>YEAR=2010<br>SEASON_RANK=%{y}<extra></extra>",
           "legendgroup": "Philadelphia",
           "marker": {
            "color": "#00cc96",
            "pattern": {
             "shape": ""
            }
           },
           "name": "Philadelphia",
           "orientation": "v",
           "showlegend": true,
           "textposition": "auto",
           "type": "bar",
           "x": [
            "Philadelphia"
           ],
           "xaxis": "x",
           "y": {
            "bdata": "AAAAAAAAMEA=",
            "dtype": "f8"
           },
           "yaxis": "y"
          },
          {
           "hovertemplate": "TEAM=%{x}<br>YEAR=2010<br>SEASON_RANK=%{y}<extra></extra>",
           "legendgroup": "New Orleans",
           "marker": {
            "color": "#ab63fa",
            "pattern": {
             "shape": ""
            }
           },
           "name": "New Orleans",
           "orientation": "v",
           "showlegend": true,
           "textposition": "auto",
           "type": "bar",
           "x": [
            "New Orleans"
           ],
           "xaxis": "x",
           "y": {
            "bdata": "AAAAAAAAJkA=",
            "dtype": "f8"
           },
           "yaxis": "y"
          },
          {
           "hovertemplate": "TEAM=%{x}<br>YEAR=2010<br>SEASON_RANK=%{y}<extra></extra>",
           "legendgroup": "Denver",
           "marker": {
            "color": "#19d3f3",
            "pattern": {
             "shape": ""
            }
           },
           "name": "Denver",
           "orientation": "v",
           "showlegend": true,
           "textposition": "auto",
           "type": "bar",
           "x": [
            "Denver"
           ],
           "xaxis": "x",
           "y": {
            "bdata": "AAAAAAAAIkA=",
            "dtype": "f8"
           },
           "yaxis": "y"
          },
          {
           "hovertemplate": "TEAM=%{x}<br>YEAR=2010<br>SEASON_RANK=%{y}<extra></extra>",
           "legendgroup": "Memphis",
           "marker": {
            "color": "#FF6692",
            "pattern": {
             "shape": ""
            }
           },
           "name": "Memphis",
           "orientation": "v",
           "showlegend": true,
           "textposition": "auto",
           "type": "bar",
           "x": [
            "Memphis"
           ],
           "xaxis": "x",
           "y": {
            "bdata": "AAAAAAAAJkA=",
            "dtype": "f8"
           },
           "yaxis": "y"
          },
          {
           "hovertemplate": "TEAM=%{x}<br>YEAR=2010<br>SEASON_RANK=%{y}<extra></extra>",
           "legendgroup": "Cleveland",
           "marker": {
            "color": "#B6E880",
            "pattern": {
             "shape": ""
            }
           },
           "name": "Cleveland",
           "orientation": "v",
           "showlegend": true,
           "textposition": "auto",
           "type": "bar",
           "x": [
            "Cleveland"
           ],
           "xaxis": "x",
           "y": {
            "bdata": "AAAAAAAAPUA=",
            "dtype": "f8"
           },
           "yaxis": "y"
          },
          {
           "hovertemplate": "TEAM=%{x}<br>YEAR=2010<br>SEASON_RANK=%{y}<extra></extra>",
           "legendgroup": "Boston",
           "marker": {
            "color": "#FF97FF",
            "pattern": {
             "shape": ""
            }
           },
           "name": "Boston",
           "orientation": "v",
           "showlegend": true,
           "textposition": "auto",
           "type": "bar",
           "x": [
            "Boston"
           ],
           "xaxis": "x",
           "y": {
            "bdata": "AAAAAAAAGEA=",
            "dtype": "f8"
           },
           "yaxis": "y"
          },
          {
           "hovertemplate": "TEAM=%{x}<br>YEAR=2010<br>SEASON_RANK=%{y}<extra></extra>",
           "legendgroup": "Milwaukee",
           "marker": {
            "color": "#FECB52",
            "pattern": {
             "shape": ""
            }
           },
           "name": "Milwaukee",
           "orientation": "v",
           "showlegend": true,
           "textposition": "auto",
           "type": "bar",
           "x": [
            "Milwaukee"
           ],
           "xaxis": "x",
           "y": {
            "bdata": "AAAAAAAANUA=",
            "dtype": "f8"
           },
           "yaxis": "y"
          },
          {
           "hovertemplate": "TEAM=%{x}<br>YEAR=2010<br>SEASON_RANK=%{y}<extra></extra>",
           "legendgroup": "L.A. Clippers",
           "marker": {
            "color": "#EF553B",
            "pattern": {
             "shape": ""
            }
           },
           "name": "L.A. Clippers",
           "orientation": "v",
           "showlegend": true,
           "textposition": "auto",
           "type": "bar",
           "x": [
            "L.A. Clippers"
           ],
           "xaxis": "x",
           "y": {
            "bdata": "AAAAAAAAN0A=",
            "dtype": "f8"
           },
           "yaxis": "y"
          },
          {
           "hovertemplate": "TEAM=%{x}<br>YEAR=2010<br>SEASON_RANK=%{y}<extra></extra>",
           "legendgroup": "New Jersey",
           "marker": {
            "color": "#00cc96",
            "pattern": {
             "shape": ""
            }
           },
           "name": "New Jersey",
           "orientation": "v",
           "showlegend": true,
           "textposition": "auto",
           "type": "bar",
           "x": [
            "New Jersey"
           ],
           "xaxis": "x",
           "y": {
            "bdata": "AAAAAAAAOUA=",
            "dtype": "f8"
           },
           "yaxis": "y"
          }
         ],
         "name": "2010"
        },
        {
         "data": [
          {
           "hovertemplate": "TEAM=%{x}<br>YEAR=2011<br>SEASON_RANK=%{y}<extra></extra>",
           "legendgroup": "Detroit",
           "marker": {
            "color": "#636efa",
            "pattern": {
             "shape": ""
            }
           },
           "name": "Detroit",
           "orientation": "v",
           "showlegend": true,
           "textposition": "auto",
           "type": "bar",
           "x": [
            "Detroit"
           ],
           "xaxis": "x",
           "y": {
            "bdata": "AAAAAAAANkA=",
            "dtype": "f8"
           },
           "yaxis": "y"
          },
          {
           "hovertemplate": "TEAM=%{x}<br>YEAR=2011<br>SEASON_RANK=%{y}<extra></extra>",
           "legendgroup": "Charlotte",
           "marker": {
            "color": "#EF553B",
            "pattern": {
             "shape": ""
            }
           },
           "name": "Charlotte",
           "orientation": "v",
           "showlegend": true,
           "textposition": "auto",
           "type": "bar",
           "x": [
            "Charlotte"
           ],
           "xaxis": "x",
           "y": {
            "bdata": "AAAAAAAAPkA=",
            "dtype": "f8"
           },
           "yaxis": "y"
          },
          {
           "hovertemplate": "TEAM=%{x}<br>YEAR=2011<br>SEASON_RANK=%{y}<extra></extra>",
           "legendgroup": "Houston",
           "marker": {
            "color": "#00cc96",
            "pattern": {
             "shape": ""
            }
           },
           "name": "Houston",
           "orientation": "v",
           "showlegend": true,
           "textposition": "auto",
           "type": "bar",
           "x": [
            "Houston"
           ],
           "xaxis": "x",
           "y": {
            "bdata": "AAAAAAAAMUA=",
            "dtype": "f8"
           },
           "yaxis": "y"
          },
          {
           "hovertemplate": "TEAM=%{x}<br>YEAR=2011<br>SEASON_RANK=%{y}<extra></extra>",
           "legendgroup": "San Antonio",
           "marker": {
            "color": "#ab63fa",
            "pattern": {
             "shape": ""
            }
           },
           "name": "San Antonio",
           "orientation": "v",
           "showlegend": true,
           "textposition": "auto",
           "type": "bar",
           "x": [
            "San Antonio"
           ],
           "xaxis": "x",
           "y": {
            "bdata": "AAAAAAAA8D8=",
            "dtype": "f8"
           },
           "yaxis": "y"
          },
          {
           "hovertemplate": "TEAM=%{x}<br>YEAR=2011<br>SEASON_RANK=%{y}<extra></extra>",
           "legendgroup": "Orlando",
           "marker": {
            "color": "#FFA15A",
            "pattern": {
             "shape": ""
            }
           },
           "name": "Orlando",
           "orientation": "v",
           "showlegend": true,
           "textposition": "auto",
           "type": "bar",
           "x": [
            "Orlando"
           ],
           "xaxis": "x",
           "y": {
            "bdata": "AAAAAAAAKEA=",
            "dtype": "f8"
           },
           "yaxis": "y"
          },
          {
           "hovertemplate": "TEAM=%{x}<br>YEAR=2011<br>SEASON_RANK=%{y}<extra></extra>",
           "legendgroup": "Washington",
           "marker": {
            "color": "#19d3f3",
            "pattern": {
             "shape": ""
            }
           },
           "name": "Washington",
           "orientation": "v",
           "showlegend": true,
           "textposition": "auto",
           "type": "bar",
           "x": [
            "Washington"
           ],
           "xaxis": "x",
           "y": {
            "bdata": "AAAAAAAAPUA=",
            "dtype": "f8"
           },
           "yaxis": "y"
          },
          {
           "hovertemplate": "TEAM=%{x}<br>YEAR=2011<br>SEASON_RANK=%{y}<extra></extra>",
           "legendgroup": "L.A. Lakers",
           "marker": {
            "color": "#FF6692",
            "pattern": {
             "shape": ""
            }
           },
           "name": "L.A. Lakers",
           "orientation": "v",
           "showlegend": true,
           "textposition": "auto",
           "type": "bar",
           "x": [
            "L.A. Lakers"
           ],
           "xaxis": "x",
           "y": {
            "bdata": "AAAAAAAAGEA=",
            "dtype": "f8"
           },
           "yaxis": "y"
          },
          {
           "hovertemplate": "TEAM=%{x}<br>YEAR=2011<br>SEASON_RANK=%{y}<extra></extra>",
           "legendgroup": "Chicago",
           "marker": {
            "color": "#B6E880",
            "pattern": {
             "shape": ""
            }
           },
           "name": "Chicago",
           "orientation": "v",
           "showlegend": true,
           "textposition": "auto",
           "type": "bar",
           "x": [
            "Chicago"
           ],
           "xaxis": "x",
           "y": {
            "bdata": "AAAAAAAA8D8=",
            "dtype": "f8"
           },
           "yaxis": "y"
          },
          {
           "hovertemplate": "TEAM=%{x}<br>YEAR=2011<br>SEASON_RANK=%{y}<extra></extra>",
           "legendgroup": "Oklahoma City",
           "marker": {
            "color": "#FF97FF",
            "pattern": {
             "shape": ""
            }
           },
           "name": "Oklahoma City",
           "orientation": "v",
           "showlegend": true,
           "textposition": "auto",
           "type": "bar",
           "x": [
            "Oklahoma City"
           ],
           "xaxis": "x",
           "y": {
            "bdata": "AAAAAAAACEA=",
            "dtype": "f8"
           },
           "yaxis": "y"
          },
          {
           "hovertemplate": "TEAM=%{x}<br>YEAR=2011<br>SEASON_RANK=%{y}<extra></extra>",
           "legendgroup": "Toronto",
           "marker": {
            "color": "#FECB52",
            "pattern": {
             "shape": ""
            }
           },
           "name": "Toronto",
           "orientation": "v",
           "showlegend": true,
           "textposition": "auto",
           "type": "bar",
           "x": [
            "Toronto"
           ],
           "xaxis": "x",
           "y": {
            "bdata": "AAAAAAAAN0A=",
            "dtype": "f8"
           },
           "yaxis": "y"
          },
          {
           "hovertemplate": "TEAM=%{x}<br>YEAR=2011<br>SEASON_RANK=%{y}<extra></extra>",
           "legendgroup": "Golden State",
           "marker": {
            "color": "#636efa",
            "pattern": {
             "shape": ""
            }
           },
           "name": "Golden State",
           "orientation": "v",
           "showlegend": true,
           "textposition": "auto",
           "type": "bar",
           "x": [
            "Golden State"
           ],
           "xaxis": "x",
           "y": {
            "bdata": "AAAAAAAAN0A=",
            "dtype": "f8"
           },
           "yaxis": "y"
          },
          {
           "hovertemplate": "TEAM=%{x}<br>YEAR=2011<br>SEASON_RANK=%{y}<extra></extra>",
           "legendgroup": "Dallas",
           "marker": {
            "color": "#EF553B",
            "pattern": {
             "shape": ""
            }
           },
           "name": "Dallas",
           "orientation": "v",
           "showlegend": true,
           "textposition": "auto",
           "type": "bar",
           "x": [
            "Dallas"
           ],
           "xaxis": "x",
           "y": {
            "bdata": "AAAAAAAAKkA=",
            "dtype": "f8"
           },
           "yaxis": "y"
          },
          {
           "hovertemplate": "TEAM=%{x}<br>YEAR=2011<br>SEASON_RANK=%{y}<extra></extra>",
           "legendgroup": "Minnesota",
           "marker": {
            "color": "#00cc96",
            "pattern": {
             "shape": ""
            }
           },
           "name": "Minnesota",
           "orientation": "v",
           "showlegend": true,
           "textposition": "auto",
           "type": "bar",
           "x": [
            "Minnesota"
           ],
           "xaxis": "x",
           "y": {
            "bdata": "AAAAAAAANUA=",
            "dtype": "f8"
           },
           "yaxis": "y"
          },
          {
           "hovertemplate": "TEAM=%{x}<br>YEAR=2011<br>SEASON_RANK=%{y}<extra></extra>",
           "legendgroup": "Atlanta",
           "marker": {
            "color": "#ab63fa",
            "pattern": {
             "shape": ""
            }
           },
           "name": "Atlanta",
           "orientation": "v",
           "showlegend": true,
           "textposition": "auto",
           "type": "bar",
           "x": [
            "Atlanta"
           ],
           "xaxis": "x",
           "y": {
            "bdata": "AAAAAAAAIEA=",
            "dtype": "f8"
           },
           "yaxis": "y"
          },
          {
           "hovertemplate": "TEAM=%{x}<br>YEAR=2011<br>SEASON_RANK=%{y}<extra></extra>",
           "legendgroup": "Indiana",
           "marker": {
            "color": "#FFA15A",
            "pattern": {
             "shape": ""
            }
           },
           "name": "Indiana",
           "orientation": "v",
           "showlegend": true,
           "textposition": "auto",
           "type": "bar",
           "x": [
            "Indiana"
           ],
           "xaxis": "x",
           "y": {
            "bdata": "AAAAAAAAFEA=",
            "dtype": "f8"
           },
           "yaxis": "y"
          },
          {
           "hovertemplate": "TEAM=%{x}<br>YEAR=2011<br>SEASON_RANK=%{y}<extra></extra>",
           "legendgroup": "Miami",
           "marker": {
            "color": "#19d3f3",
            "pattern": {
             "shape": ""
            }
           },
           "name": "Miami",
           "orientation": "v",
           "showlegend": true,
           "textposition": "auto",
           "type": "bar",
           "x": [
            "Miami"
           ],
           "xaxis": "x",
           "y": {
            "bdata": "AAAAAAAAEEA=",
            "dtype": "f8"
           },
           "yaxis": "y"
          },
          {
           "hovertemplate": "TEAM=%{x}<br>YEAR=2011<br>SEASON_RANK=%{y}<extra></extra>",
           "legendgroup": "Portland",
           "marker": {
            "color": "#FF6692",
            "pattern": {
             "shape": ""
            }
           },
           "name": "Portland",
           "orientation": "v",
           "showlegend": true,
           "textposition": "auto",
           "type": "bar",
           "x": [
            "Portland"
           ],
           "xaxis": "x",
           "y": {
            "bdata": "AAAAAAAANEA=",
            "dtype": "f8"
           },
           "yaxis": "y"
          },
          {
           "hovertemplate": "TEAM=%{x}<br>YEAR=2011<br>SEASON_RANK=%{y}<extra></extra>",
           "legendgroup": "Utah",
           "marker": {
            "color": "#B6E880",
            "pattern": {
             "shape": ""
            }
           },
           "name": "Utah",
           "orientation": "v",
           "showlegend": true,
           "textposition": "auto",
           "type": "bar",
           "x": [
            "Utah"
           ],
           "xaxis": "x",
           "y": {
            "bdata": "AAAAAAAAKkA=",
            "dtype": "f8"
           },
           "yaxis": "y"
          },
          {
           "hovertemplate": "TEAM=%{x}<br>YEAR=2011<br>SEASON_RANK=%{y}<extra></extra>",
           "legendgroup": "New York",
           "marker": {
            "color": "#FF97FF",
            "pattern": {
             "shape": ""
            }
           },
           "name": "New York",
           "orientation": "v",
           "showlegend": true,
           "textposition": "auto",
           "type": "bar",
           "x": [
            "New York"
           ],
           "xaxis": "x",
           "y": {
            "bdata": "AAAAAAAAKkA=",
            "dtype": "f8"
           },
           "yaxis": "y"
          },
          {
           "hovertemplate": "TEAM=%{x}<br>YEAR=2011<br>SEASON_RANK=%{y}<extra></extra>",
           "legendgroup": "Sacramento",
           "marker": {
            "color": "#FECB52",
            "pattern": {
             "shape": ""
            }
           },
           "name": "Sacramento",
           "orientation": "v",
           "showlegend": true,
           "textposition": "auto",
           "type": "bar",
           "x": [
            "Sacramento"
           ],
           "xaxis": "x",
           "y": {
            "bdata": "AAAAAAAAOUA=",
            "dtype": "f8"
           },
           "yaxis": "y"
          },
          {
           "hovertemplate": "TEAM=%{x}<br>YEAR=2011<br>SEASON_RANK=%{y}<extra></extra>",
           "legendgroup": "Phoenix",
           "marker": {
            "color": "#EF553B",
            "pattern": {
             "shape": ""
            }
           },
           "name": "Phoenix",
           "orientation": "v",
           "showlegend": true,
           "textposition": "auto",
           "type": "bar",
           "x": [
            "Phoenix"
           ],
           "xaxis": "x",
           "y": {
            "bdata": "AAAAAAAAMkA=",
            "dtype": "f8"
           },
           "yaxis": "y"
          },
          {
           "hovertemplate": "TEAM=%{x}<br>YEAR=2011<br>SEASON_RANK=%{y}<extra></extra>",
           "legendgroup": "Philadelphia",
           "marker": {
            "color": "#00cc96",
            "pattern": {
             "shape": ""
            }
           },
           "name": "Philadelphia",
           "orientation": "v",
           "showlegend": true,
           "textposition": "auto",
           "type": "bar",
           "x": [
            "Philadelphia"
           ],
           "xaxis": "x",
           "y": {
            "bdata": "AAAAAAAAMEA=",
            "dtype": "f8"
           },
           "yaxis": "y"
          },
          {
           "hovertemplate": "TEAM=%{x}<br>YEAR=2011<br>SEASON_RANK=%{y}<extra></extra>",
           "legendgroup": "New Orleans",
           "marker": {
            "color": "#ab63fa",
            "pattern": {
             "shape": ""
            }
           },
           "name": "New Orleans",
           "orientation": "v",
           "showlegend": true,
           "textposition": "auto",
           "type": "bar",
           "x": [
            "New Orleans"
           ],
           "xaxis": "x",
           "y": {
            "bdata": "AAAAAAAAO0A=",
            "dtype": "f8"
           },
           "yaxis": "y"
          },
          {
           "hovertemplate": "TEAM=%{x}<br>YEAR=2011<br>SEASON_RANK=%{y}<extra></extra>",
           "legendgroup": "Denver",
           "marker": {
            "color": "#19d3f3",
            "pattern": {
             "shape": ""
            }
           },
           "name": "Denver",
           "orientation": "v",
           "showlegend": true,
           "textposition": "auto",
           "type": "bar",
           "x": [
            "Denver"
           ],
           "xaxis": "x",
           "y": {
            "bdata": "AAAAAAAAJkA=",
            "dtype": "f8"
           },
           "yaxis": "y"
          },
          {
           "hovertemplate": "TEAM=%{x}<br>YEAR=2011<br>SEASON_RANK=%{y}<extra></extra>",
           "legendgroup": "Memphis",
           "marker": {
            "color": "#FF6692",
            "pattern": {
             "shape": ""
            }
           },
           "name": "Memphis",
           "orientation": "v",
           "showlegend": true,
           "textposition": "auto",
           "type": "bar",
           "x": [
            "Memphis"
           ],
           "xaxis": "x",
           "y": {
            "bdata": "AAAAAAAAGEA=",
            "dtype": "f8"
           },
           "yaxis": "y"
          },
          {
           "hovertemplate": "TEAM=%{x}<br>YEAR=2011<br>SEASON_RANK=%{y}<extra></extra>",
           "legendgroup": "Cleveland",
           "marker": {
            "color": "#B6E880",
            "pattern": {
             "shape": ""
            }
           },
           "name": "Cleveland",
           "orientation": "v",
           "showlegend": true,
           "textposition": "auto",
           "type": "bar",
           "x": [
            "Cleveland"
           ],
           "xaxis": "x",
           "y": {
            "bdata": "AAAAAAAAO0A=",
            "dtype": "f8"
           },
           "yaxis": "y"
          },
          {
           "hovertemplate": "TEAM=%{x}<br>YEAR=2011<br>SEASON_RANK=%{y}<extra></extra>",
           "legendgroup": "Boston",
           "marker": {
            "color": "#FF97FF",
            "pattern": {
             "shape": ""
            }
           },
           "name": "Boston",
           "orientation": "v",
           "showlegend": true,
           "textposition": "auto",
           "type": "bar",
           "x": [
            "Boston"
           ],
           "xaxis": "x",
           "y": {
            "bdata": "AAAAAAAAJEA=",
            "dtype": "f8"
           },
           "yaxis": "y"
          },
          {
           "hovertemplate": "TEAM=%{x}<br>YEAR=2011<br>SEASON_RANK=%{y}<extra></extra>",
           "legendgroup": "Milwaukee",
           "marker": {
            "color": "#FECB52",
            "pattern": {
             "shape": ""
            }
           },
           "name": "Milwaukee",
           "orientation": "v",
           "showlegend": true,
           "textposition": "auto",
           "type": "bar",
           "x": [
            "Milwaukee"
           ],
           "xaxis": "x",
           "y": {
            "bdata": "AAAAAAAAM0A=",
            "dtype": "f8"
           },
           "yaxis": "y"
          },
          {
           "hovertemplate": "TEAM=%{x}<br>YEAR=2011<br>SEASON_RANK=%{y}<extra></extra>",
           "legendgroup": "L.A. Clippers",
           "marker": {
            "color": "#EF553B",
            "pattern": {
             "shape": ""
            }
           },
           "name": "L.A. Clippers",
           "orientation": "v",
           "showlegend": true,
           "textposition": "auto",
           "type": "bar",
           "x": [
            "L.A. Clippers"
           ],
           "xaxis": "x",
           "y": {
            "bdata": "AAAAAAAAIEA=",
            "dtype": "f8"
           },
           "yaxis": "y"
          },
          {
           "hovertemplate": "TEAM=%{x}<br>YEAR=2011<br>SEASON_RANK=%{y}<extra></extra>",
           "legendgroup": "New Jersey",
           "marker": {
            "color": "#00cc96",
            "pattern": {
             "shape": ""
            }
           },
           "name": "New Jersey",
           "orientation": "v",
           "showlegend": true,
           "textposition": "auto",
           "type": "bar",
           "x": [
            "New Jersey"
           ],
           "xaxis": "x",
           "y": {
            "bdata": "AAAAAAAAOUA=",
            "dtype": "f8"
           },
           "yaxis": "y"
          }
         ],
         "name": "2011"
        },
        {
         "data": [
          {
           "hovertemplate": "TEAM=%{x}<br>YEAR=2012<br>SEASON_RANK=%{y}<extra></extra>",
           "legendgroup": "Detroit",
           "marker": {
            "color": "#636efa",
            "pattern": {
             "shape": ""
            }
           },
           "name": "Detroit",
           "orientation": "v",
           "showlegend": true,
           "textposition": "auto",
           "type": "bar",
           "x": [
            "Detroit"
           ],
           "xaxis": "x",
           "y": {
            "bdata": "AAAAAAAAN0A=",
            "dtype": "f8"
           },
           "yaxis": "y"
          },
          {
           "hovertemplate": "TEAM=%{x}<br>YEAR=2012<br>SEASON_RANK=%{y}<extra></extra>",
           "legendgroup": "Charlotte",
           "marker": {
            "color": "#EF553B",
            "pattern": {
             "shape": ""
            }
           },
           "name": "Charlotte",
           "orientation": "v",
           "showlegend": true,
           "textposition": "auto",
           "type": "bar",
           "x": [
            "Charlotte"
           ],
           "xaxis": "x",
           "y": {
            "bdata": "AAAAAAAAPUA=",
            "dtype": "f8"
           },
           "yaxis": "y"
          },
          {
           "hovertemplate": "TEAM=%{x}<br>YEAR=2012<br>SEASON_RANK=%{y}<extra></extra>",
           "legendgroup": "Houston",
           "marker": {
            "color": "#00cc96",
            "pattern": {
             "shape": ""
            }
           },
           "name": "Houston",
           "orientation": "v",
           "showlegend": true,
           "textposition": "auto",
           "type": "bar",
           "x": [
            "Houston"
           ],
           "xaxis": "x",
           "y": {
            "bdata": "AAAAAAAAJkA=",
            "dtype": "f8"
           },
           "yaxis": "y"
          },
          {
           "hovertemplate": "TEAM=%{x}<br>YEAR=2012<br>SEASON_RANK=%{y}<extra></extra>",
           "legendgroup": "San Antonio",
           "marker": {
            "color": "#ab63fa",
            "pattern": {
             "shape": ""
            }
           },
           "name": "San Antonio",
           "orientation": "v",
           "showlegend": true,
           "textposition": "auto",
           "type": "bar",
           "x": [
            "San Antonio"
           ],
           "xaxis": "x",
           "y": {
            "bdata": "AAAAAAAACEA=",
            "dtype": "f8"
           },
           "yaxis": "y"
          },
          {
           "hovertemplate": "TEAM=%{x}<br>YEAR=2012<br>SEASON_RANK=%{y}<extra></extra>",
           "legendgroup": "Orlando",
           "marker": {
            "color": "#FFA15A",
            "pattern": {
             "shape": ""
            }
           },
           "name": "Orlando",
           "orientation": "v",
           "showlegend": true,
           "textposition": "auto",
           "type": "bar",
           "x": [
            "Orlando"
           ],
           "xaxis": "x",
           "y": {
            "bdata": "AAAAAAAAPkA=",
            "dtype": "f8"
           },
           "yaxis": "y"
          },
          {
           "hovertemplate": "TEAM=%{x}<br>YEAR=2012<br>SEASON_RANK=%{y}<extra></extra>",
           "legendgroup": "Washington",
           "marker": {
            "color": "#19d3f3",
            "pattern": {
             "shape": ""
            }
           },
           "name": "Washington",
           "orientation": "v",
           "showlegend": true,
           "textposition": "auto",
           "type": "bar",
           "x": [
            "Washington"
           ],
           "xaxis": "x",
           "y": {
            "bdata": "AAAAAAAAN0A=",
            "dtype": "f8"
           },
           "yaxis": "y"
          },
          {
           "hovertemplate": "TEAM=%{x}<br>YEAR=2012<br>SEASON_RANK=%{y}<extra></extra>",
           "legendgroup": "L.A. Lakers",
           "marker": {
            "color": "#FF6692",
            "pattern": {
             "shape": ""
            }
           },
           "name": "L.A. Lakers",
           "orientation": "v",
           "showlegend": true,
           "textposition": "auto",
           "type": "bar",
           "x": [
            "L.A. Lakers"
           ],
           "xaxis": "x",
           "y": {
            "bdata": "AAAAAAAAJkA=",
            "dtype": "f8"
           },
           "yaxis": "y"
          },
          {
           "hovertemplate": "TEAM=%{x}<br>YEAR=2012<br>SEASON_RANK=%{y}<extra></extra>",
           "legendgroup": "Chicago",
           "marker": {
            "color": "#B6E880",
            "pattern": {
             "shape": ""
            }
           },
           "name": "Chicago",
           "orientation": "v",
           "showlegend": true,
           "textposition": "auto",
           "type": "bar",
           "x": [
            "Chicago"
           ],
           "xaxis": "x",
           "y": {
            "bdata": "AAAAAAAAJkA=",
            "dtype": "f8"
           },
           "yaxis": "y"
          },
          {
           "hovertemplate": "TEAM=%{x}<br>YEAR=2012<br>SEASON_RANK=%{y}<extra></extra>",
           "legendgroup": "Oklahoma City",
           "marker": {
            "color": "#FF97FF",
            "pattern": {
             "shape": ""
            }
           },
           "name": "Oklahoma City",
           "orientation": "v",
           "showlegend": true,
           "textposition": "auto",
           "type": "bar",
           "x": [
            "Oklahoma City"
           ],
           "xaxis": "x",
           "y": {
            "bdata": "AAAAAAAAAEA=",
            "dtype": "f8"
           },
           "yaxis": "y"
          },
          {
           "hovertemplate": "TEAM=%{x}<br>YEAR=2012<br>SEASON_RANK=%{y}<extra></extra>",
           "legendgroup": "Toronto",
           "marker": {
            "color": "#FECB52",
            "pattern": {
             "shape": ""
            }
           },
           "name": "Toronto",
           "orientation": "v",
           "showlegend": true,
           "textposition": "auto",
           "type": "bar",
           "x": [
            "Toronto"
           ],
           "xaxis": "x",
           "y": {
            "bdata": "AAAAAAAAM0A=",
            "dtype": "f8"
           },
           "yaxis": "y"
          },
          {
           "hovertemplate": "TEAM=%{x}<br>YEAR=2012<br>SEASON_RANK=%{y}<extra></extra>",
           "legendgroup": "Golden State",
           "marker": {
            "color": "#636efa",
            "pattern": {
             "shape": ""
            }
           },
           "name": "Golden State",
           "orientation": "v",
           "showlegend": true,
           "textposition": "auto",
           "type": "bar",
           "x": [
            "Golden State"
           ],
           "xaxis": "x",
           "y": {
            "bdata": "AAAAAAAAJEA=",
            "dtype": "f8"
           },
           "yaxis": "y"
          },
          {
           "hovertemplate": "TEAM=%{x}<br>YEAR=2012<br>SEASON_RANK=%{y}<extra></extra>",
           "legendgroup": "Dallas",
           "marker": {
            "color": "#EF553B",
            "pattern": {
             "shape": ""
            }
           },
           "name": "Dallas",
           "orientation": "v",
           "showlegend": true,
           "textposition": "auto",
           "type": "bar",
           "x": [
            "Dallas"
           ],
           "xaxis": "x",
           "y": {
            "bdata": "AAAAAAAAMUA=",
            "dtype": "f8"
           },
           "yaxis": "y"
          },
          {
           "hovertemplate": "TEAM=%{x}<br>YEAR=2012<br>SEASON_RANK=%{y}<extra></extra>",
           "legendgroup": "Minnesota",
           "marker": {
            "color": "#00cc96",
            "pattern": {
             "shape": ""
            }
           },
           "name": "Minnesota",
           "orientation": "v",
           "showlegend": true,
           "textposition": "auto",
           "type": "bar",
           "x": [
            "Minnesota"
           ],
           "xaxis": "x",
           "y": {
            "bdata": "AAAAAAAANkA=",
            "dtype": "f8"
           },
           "yaxis": "y"
          },
          {
           "hovertemplate": "TEAM=%{x}<br>YEAR=2012<br>SEASON_RANK=%{y}<extra></extra>",
           "legendgroup": "Atlanta",
           "marker": {
            "color": "#ab63fa",
            "pattern": {
             "shape": ""
            }
           },
           "name": "Atlanta",
           "orientation": "v",
           "showlegend": true,
           "textposition": "auto",
           "type": "bar",
           "x": [
            "Atlanta"
           ],
           "xaxis": "x",
           "y": {
            "bdata": "AAAAAAAALEA=",
            "dtype": "f8"
           },
           "yaxis": "y"
          },
          {
           "hovertemplate": "TEAM=%{x}<br>YEAR=2012<br>SEASON_RANK=%{y}<extra></extra>",
           "legendgroup": "Indiana",
           "marker": {
            "color": "#FFA15A",
            "pattern": {
             "shape": ""
            }
           },
           "name": "Indiana",
           "orientation": "v",
           "showlegend": true,
           "textposition": "auto",
           "type": "bar",
           "x": [
            "Indiana"
           ],
           "xaxis": "x",
           "y": {
            "bdata": "AAAAAAAAIEA=",
            "dtype": "f8"
           },
           "yaxis": "y"
          },
          {
           "hovertemplate": "TEAM=%{x}<br>YEAR=2012<br>SEASON_RANK=%{y}<extra></extra>",
           "legendgroup": "Miami",
           "marker": {
            "color": "#19d3f3",
            "pattern": {
             "shape": ""
            }
           },
           "name": "Miami",
           "orientation": "v",
           "showlegend": true,
           "textposition": "auto",
           "type": "bar",
           "x": [
            "Miami"
           ],
           "xaxis": "x",
           "y": {
            "bdata": "AAAAAAAA8D8=",
            "dtype": "f8"
           },
           "yaxis": "y"
          },
          {
           "hovertemplate": "TEAM=%{x}<br>YEAR=2012<br>SEASON_RANK=%{y}<extra></extra>",
           "legendgroup": "Portland",
           "marker": {
            "color": "#FF6692",
            "pattern": {
             "shape": ""
            }
           },
           "name": "Portland",
           "orientation": "v",
           "showlegend": true,
           "textposition": "auto",
           "type": "bar",
           "x": [
            "Portland"
           ],
           "xaxis": "x",
           "y": {
            "bdata": "AAAAAAAANUA=",
            "dtype": "f8"
           },
           "yaxis": "y"
          },
          {
           "hovertemplate": "TEAM=%{x}<br>YEAR=2012<br>SEASON_RANK=%{y}<extra></extra>",
           "legendgroup": "Utah",
           "marker": {
            "color": "#B6E880",
            "pattern": {
             "shape": ""
            }
           },
           "name": "Utah",
           "orientation": "v",
           "showlegend": true,
           "textposition": "auto",
           "type": "bar",
           "x": [
            "Utah"
           ],
           "xaxis": "x",
           "y": {
            "bdata": "AAAAAAAALkA=",
            "dtype": "f8"
           },
           "yaxis": "y"
          },
          {
           "hovertemplate": "TEAM=%{x}<br>YEAR=2012<br>SEASON_RANK=%{y}<extra></extra>",
           "legendgroup": "New York",
           "marker": {
            "color": "#FF97FF",
            "pattern": {
             "shape": ""
            }
           },
           "name": "New York",
           "orientation": "v",
           "showlegend": true,
           "textposition": "auto",
           "type": "bar",
           "x": [
            "New York"
           ],
           "xaxis": "x",
           "y": {
            "bdata": "AAAAAAAAHEA=",
            "dtype": "f8"
           },
           "yaxis": "y"
          },
          {
           "hovertemplate": "TEAM=%{x}<br>YEAR=2012<br>SEASON_RANK=%{y}<extra></extra>",
           "legendgroup": "Sacramento",
           "marker": {
            "color": "#FECB52",
            "pattern": {
             "shape": ""
            }
           },
           "name": "Sacramento",
           "orientation": "v",
           "showlegend": true,
           "textposition": "auto",
           "type": "bar",
           "x": [
            "Sacramento"
           ],
           "xaxis": "x",
           "y": {
            "bdata": "AAAAAAAAOUA=",
            "dtype": "f8"
           },
           "yaxis": "y"
          },
          {
           "hovertemplate": "TEAM=%{x}<br>YEAR=2012<br>SEASON_RANK=%{y}<extra></extra>",
           "legendgroup": "Phoenix",
           "marker": {
            "color": "#EF553B",
            "pattern": {
             "shape": ""
            }
           },
           "name": "Phoenix",
           "orientation": "v",
           "showlegend": true,
           "textposition": "auto",
           "type": "bar",
           "x": [
            "Phoenix"
           ],
           "xaxis": "x",
           "y": {
            "bdata": "AAAAAAAAO0A=",
            "dtype": "f8"
           },
           "yaxis": "y"
          },
          {
           "hovertemplate": "TEAM=%{x}<br>YEAR=2012<br>SEASON_RANK=%{y}<extra></extra>",
           "legendgroup": "Philadelphia",
           "marker": {
            "color": "#00cc96",
            "pattern": {
             "shape": ""
            }
           },
           "name": "Philadelphia",
           "orientation": "v",
           "showlegend": true,
           "textposition": "auto",
           "type": "bar",
           "x": [
            "Philadelphia"
           ],
           "xaxis": "x",
           "y": {
            "bdata": "AAAAAAAAM0A=",
            "dtype": "f8"
           },
           "yaxis": "y"
          },
          {
           "hovertemplate": "TEAM=%{x}<br>YEAR=2012<br>SEASON_RANK=%{y}<extra></extra>",
           "legendgroup": "New Orleans",
           "marker": {
            "color": "#ab63fa",
            "pattern": {
             "shape": ""
            }
           },
           "name": "New Orleans",
           "orientation": "v",
           "showlegend": true,
           "textposition": "auto",
           "type": "bar",
           "x": [
            "New Orleans"
           ],
           "xaxis": "x",
           "y": {
            "bdata": "AAAAAAAAOkA=",
            "dtype": "f8"
           },
           "yaxis": "y"
          },
          {
           "hovertemplate": "TEAM=%{x}<br>YEAR=2012<br>SEASON_RANK=%{y}<extra></extra>",
           "legendgroup": "Brooklyn",
           "marker": {
            "color": "#FFA15A",
            "pattern": {
             "shape": ""
            }
           },
           "name": "Brooklyn",
           "orientation": "v",
           "showlegend": true,
           "textposition": "auto",
           "type": "bar",
           "x": [
            "Brooklyn"
           ],
           "xaxis": "x",
           "y": {
            "bdata": "AAAAAAAAIkA=",
            "dtype": "f8"
           },
           "yaxis": "y"
          },
          {
           "hovertemplate": "TEAM=%{x}<br>YEAR=2012<br>SEASON_RANK=%{y}<extra></extra>",
           "legendgroup": "Denver",
           "marker": {
            "color": "#19d3f3",
            "pattern": {
             "shape": ""
            }
           },
           "name": "Denver",
           "orientation": "v",
           "showlegend": true,
           "textposition": "auto",
           "type": "bar",
           "x": [
            "Denver"
           ],
           "xaxis": "x",
           "y": {
            "bdata": "AAAAAAAAEEA=",
            "dtype": "f8"
           },
           "yaxis": "y"
          },
          {
           "hovertemplate": "TEAM=%{x}<br>YEAR=2012<br>SEASON_RANK=%{y}<extra></extra>",
           "legendgroup": "Memphis",
           "marker": {
            "color": "#FF6692",
            "pattern": {
             "shape": ""
            }
           },
           "name": "Memphis",
           "orientation": "v",
           "showlegend": true,
           "textposition": "auto",
           "type": "bar",
           "x": [
            "Memphis"
           ],
           "xaxis": "x",
           "y": {
            "bdata": "AAAAAAAAFEA=",
            "dtype": "f8"
           },
           "yaxis": "y"
          },
          {
           "hovertemplate": "TEAM=%{x}<br>YEAR=2012<br>SEASON_RANK=%{y}<extra></extra>",
           "legendgroup": "Cleveland",
           "marker": {
            "color": "#B6E880",
            "pattern": {
             "shape": ""
            }
           },
           "name": "Cleveland",
           "orientation": "v",
           "showlegend": true,
           "textposition": "auto",
           "type": "bar",
           "x": [
            "Cleveland"
           ],
           "xaxis": "x",
           "y": {
            "bdata": "AAAAAAAAPEA=",
            "dtype": "f8"
           },
           "yaxis": "y"
          },
          {
           "hovertemplate": "TEAM=%{x}<br>YEAR=2012<br>SEASON_RANK=%{y}<extra></extra>",
           "legendgroup": "Boston",
           "marker": {
            "color": "#FF97FF",
            "pattern": {
             "shape": ""
            }
           },
           "name": "Boston",
           "orientation": "v",
           "showlegend": true,
           "textposition": "auto",
           "type": "bar",
           "x": [
            "Boston"
           ],
           "xaxis": "x",
           "y": {
            "bdata": "AAAAAAAAMEA=",
            "dtype": "f8"
           },
           "yaxis": "y"
          },
          {
           "hovertemplate": "TEAM=%{x}<br>YEAR=2012<br>SEASON_RANK=%{y}<extra></extra>",
           "legendgroup": "Milwaukee",
           "marker": {
            "color": "#FECB52",
            "pattern": {
             "shape": ""
            }
           },
           "name": "Milwaukee",
           "orientation": "v",
           "showlegend": true,
           "textposition": "auto",
           "type": "bar",
           "x": [
            "Milwaukee"
           ],
           "xaxis": "x",
           "y": {
            "bdata": "AAAAAAAAMkA=",
            "dtype": "f8"
           },
           "yaxis": "y"
          },
          {
           "hovertemplate": "TEAM=%{x}<br>YEAR=2012<br>SEASON_RANK=%{y}<extra></extra>",
           "legendgroup": "L.A. Clippers",
           "marker": {
            "color": "#EF553B",
            "pattern": {
             "shape": ""
            }
           },
           "name": "L.A. Clippers",
           "orientation": "v",
           "showlegend": true,
           "textposition": "auto",
           "type": "bar",
           "x": [
            "L.A. Clippers"
           ],
           "xaxis": "x",
           "y": {
            "bdata": "AAAAAAAAFEA=",
            "dtype": "f8"
           },
           "yaxis": "y"
          }
         ],
         "name": "2012"
        },
        {
         "data": [
          {
           "hovertemplate": "TEAM=%{x}<br>YEAR=2013<br>SEASON_RANK=%{y}<extra></extra>",
           "legendgroup": "Detroit",
           "marker": {
            "color": "#636efa",
            "pattern": {
             "shape": ""
            }
           },
           "name": "Detroit",
           "orientation": "v",
           "showlegend": true,
           "textposition": "auto",
           "type": "bar",
           "x": [
            "Detroit"
           ],
           "xaxis": "x",
           "y": {
            "bdata": "AAAAAAAAN0A=",
            "dtype": "f8"
           },
           "yaxis": "y"
          },
          {
           "hovertemplate": "TEAM=%{x}<br>YEAR=2013<br>SEASON_RANK=%{y}<extra></extra>",
           "legendgroup": "Charlotte",
           "marker": {
            "color": "#EF553B",
            "pattern": {
             "shape": ""
            }
           },
           "name": "Charlotte",
           "orientation": "v",
           "showlegend": true,
           "textposition": "auto",
           "type": "bar",
           "x": [
            "Charlotte"
           ],
           "xaxis": "x",
           "y": {
            "bdata": "AAAAAAAAMEA=",
            "dtype": "f8"
           },
           "yaxis": "y"
          },
          {
           "hovertemplate": "TEAM=%{x}<br>YEAR=2013<br>SEASON_RANK=%{y}<extra></extra>",
           "legendgroup": "Houston",
           "marker": {
            "color": "#00cc96",
            "pattern": {
             "shape": ""
            }
           },
           "name": "Houston",
           "orientation": "v",
           "showlegend": true,
           "textposition": "auto",
           "type": "bar",
           "x": [
            "Houston"
           ],
           "xaxis": "x",
           "y": {
            "bdata": "AAAAAAAAFEA=",
            "dtype": "f8"
           },
           "yaxis": "y"
          },
          {
           "hovertemplate": "TEAM=%{x}<br>YEAR=2013<br>SEASON_RANK=%{y}<extra></extra>",
           "legendgroup": "San Antonio",
           "marker": {
            "color": "#ab63fa",
            "pattern": {
             "shape": ""
            }
           },
           "name": "San Antonio",
           "orientation": "v",
           "showlegend": true,
           "textposition": "auto",
           "type": "bar",
           "x": [
            "San Antonio"
           ],
           "xaxis": "x",
           "y": {
            "bdata": "AAAAAAAA8D8=",
            "dtype": "f8"
           },
           "yaxis": "y"
          },
          {
           "hovertemplate": "TEAM=%{x}<br>YEAR=2013<br>SEASON_RANK=%{y}<extra></extra>",
           "legendgroup": "Orlando",
           "marker": {
            "color": "#FFA15A",
            "pattern": {
             "shape": ""
            }
           },
           "name": "Orlando",
           "orientation": "v",
           "showlegend": true,
           "textposition": "auto",
           "type": "bar",
           "x": [
            "Orlando"
           ],
           "xaxis": "x",
           "y": {
            "bdata": "AAAAAAAAPEA=",
            "dtype": "f8"
           },
           "yaxis": "y"
          },
          {
           "hovertemplate": "TEAM=%{x}<br>YEAR=2013<br>SEASON_RANK=%{y}<extra></extra>",
           "legendgroup": "Washington",
           "marker": {
            "color": "#19d3f3",
            "pattern": {
             "shape": ""
            }
           },
           "name": "Washington",
           "orientation": "v",
           "showlegend": true,
           "textposition": "auto",
           "type": "bar",
           "x": [
            "Washington"
           ],
           "xaxis": "x",
           "y": {
            "bdata": "AAAAAAAALEA=",
            "dtype": "f8"
           },
           "yaxis": "y"
          },
          {
           "hovertemplate": "TEAM=%{x}<br>YEAR=2013<br>SEASON_RANK=%{y}<extra></extra>",
           "legendgroup": "L.A. Lakers",
           "marker": {
            "color": "#FF6692",
            "pattern": {
             "shape": ""
            }
           },
           "name": "L.A. Lakers",
           "orientation": "v",
           "showlegend": true,
           "textposition": "auto",
           "type": "bar",
           "x": [
            "L.A. Lakers"
           ],
           "xaxis": "x",
           "y": {
            "bdata": "AAAAAAAAOUA=",
            "dtype": "f8"
           },
           "yaxis": "y"
          },
          {
           "hovertemplate": "TEAM=%{x}<br>YEAR=2013<br>SEASON_RANK=%{y}<extra></extra>",
           "legendgroup": "Chicago",
           "marker": {
            "color": "#B6E880",
            "pattern": {
             "shape": ""
            }
           },
           "name": "Chicago",
           "orientation": "v",
           "showlegend": true,
           "textposition": "auto",
           "type": "bar",
           "x": [
            "Chicago"
           ],
           "xaxis": "x",
           "y": {
            "bdata": "AAAAAAAAJkA=",
            "dtype": "f8"
           },
           "yaxis": "y"
          },
          {
           "hovertemplate": "TEAM=%{x}<br>YEAR=2013<br>SEASON_RANK=%{y}<extra></extra>",
           "legendgroup": "Oklahoma City",
           "marker": {
            "color": "#FF97FF",
            "pattern": {
             "shape": ""
            }
           },
           "name": "Oklahoma City",
           "orientation": "v",
           "showlegend": true,
           "textposition": "auto",
           "type": "bar",
           "x": [
            "Oklahoma City"
           ],
           "xaxis": "x",
           "y": {
            "bdata": "AAAAAAAAAEA=",
            "dtype": "f8"
           },
           "yaxis": "y"
          },
          {
           "hovertemplate": "TEAM=%{x}<br>YEAR=2013<br>SEASON_RANK=%{y}<extra></extra>",
           "legendgroup": "Toronto",
           "marker": {
            "color": "#FECB52",
            "pattern": {
             "shape": ""
            }
           },
           "name": "Toronto",
           "orientation": "v",
           "showlegend": true,
           "textposition": "auto",
           "type": "bar",
           "x": [
            "Toronto"
           ],
           "xaxis": "x",
           "y": {
            "bdata": "AAAAAAAAJkA=",
            "dtype": "f8"
           },
           "yaxis": "y"
          },
          {
           "hovertemplate": "TEAM=%{x}<br>YEAR=2013<br>SEASON_RANK=%{y}<extra></extra>",
           "legendgroup": "Golden State",
           "marker": {
            "color": "#636efa",
            "pattern": {
             "shape": ""
            }
           },
           "name": "Golden State",
           "orientation": "v",
           "showlegend": true,
           "textposition": "auto",
           "type": "bar",
           "x": [
            "Golden State"
           ],
           "xaxis": "x",
           "y": {
            "bdata": "AAAAAAAAIEA=",
            "dtype": "f8"
           },
           "yaxis": "y"
          },
          {
           "hovertemplate": "TEAM=%{x}<br>YEAR=2013<br>SEASON_RANK=%{y}<extra></extra>",
           "legendgroup": "Dallas",
           "marker": {
            "color": "#EF553B",
            "pattern": {
             "shape": ""
            }
           },
           "name": "Dallas",
           "orientation": "v",
           "showlegend": true,
           "textposition": "auto",
           "type": "bar",
           "x": [
            "Dallas"
           ],
           "xaxis": "x",
           "y": {
            "bdata": "AAAAAAAAJEA=",
            "dtype": "f8"
           },
           "yaxis": "y"
          },
          {
           "hovertemplate": "TEAM=%{x}<br>YEAR=2013<br>SEASON_RANK=%{y}<extra></extra>",
           "legendgroup": "Minnesota",
           "marker": {
            "color": "#00cc96",
            "pattern": {
             "shape": ""
            }
           },
           "name": "Minnesota",
           "orientation": "v",
           "showlegend": true,
           "textposition": "auto",
           "type": "bar",
           "x": [
            "Minnesota"
           ],
           "xaxis": "x",
           "y": {
            "bdata": "AAAAAAAAMUA=",
            "dtype": "f8"
           },
           "yaxis": "y"
          },
          {
           "hovertemplate": "TEAM=%{x}<br>YEAR=2013<br>SEASON_RANK=%{y}<extra></extra>",
           "legendgroup": "Atlanta",
           "marker": {
            "color": "#ab63fa",
            "pattern": {
             "shape": ""
            }
           },
           "name": "Atlanta",
           "orientation": "v",
           "showlegend": true,
           "textposition": "auto",
           "type": "bar",
           "x": [
            "Atlanta"
           ],
           "xaxis": "x",
           "y": {
            "bdata": "AAAAAAAAMkA=",
            "dtype": "f8"
           },
           "yaxis": "y"
          },
          {
           "hovertemplate": "TEAM=%{x}<br>YEAR=2013<br>SEASON_RANK=%{y}<extra></extra>",
           "legendgroup": "Indiana",
           "marker": {
            "color": "#FFA15A",
            "pattern": {
             "shape": ""
            }
           },
           "name": "Indiana",
           "orientation": "v",
           "showlegend": true,
           "textposition": "auto",
           "type": "bar",
           "x": [
            "Indiana"
           ],
           "xaxis": "x",
           "y": {
            "bdata": "AAAAAAAAEEA=",
            "dtype": "f8"
           },
           "yaxis": "y"
          },
          {
           "hovertemplate": "TEAM=%{x}<br>YEAR=2013<br>SEASON_RANK=%{y}<extra></extra>",
           "legendgroup": "Miami",
           "marker": {
            "color": "#19d3f3",
            "pattern": {
             "shape": ""
            }
           },
           "name": "Miami",
           "orientation": "v",
           "showlegend": true,
           "textposition": "auto",
           "type": "bar",
           "x": [
            "Miami"
           ],
           "xaxis": "x",
           "y": {
            "bdata": "AAAAAAAAFEA=",
            "dtype": "f8"
           },
           "yaxis": "y"
          },
          {
           "hovertemplate": "TEAM=%{x}<br>YEAR=2013<br>SEASON_RANK=%{y}<extra></extra>",
           "legendgroup": "Portland",
           "marker": {
            "color": "#FF6692",
            "pattern": {
             "shape": ""
            }
           },
           "name": "Portland",
           "orientation": "v",
           "showlegend": true,
           "textposition": "auto",
           "type": "bar",
           "x": [
            "Portland"
           ],
           "xaxis": "x",
           "y": {
            "bdata": "AAAAAAAAFEA=",
            "dtype": "f8"
           },
           "yaxis": "y"
          },
          {
           "hovertemplate": "TEAM=%{x}<br>YEAR=2013<br>SEASON_RANK=%{y}<extra></extra>",
           "legendgroup": "Utah",
           "marker": {
            "color": "#B6E880",
            "pattern": {
             "shape": ""
            }
           },
           "name": "Utah",
           "orientation": "v",
           "showlegend": true,
           "textposition": "auto",
           "type": "bar",
           "x": [
            "Utah"
           ],
           "xaxis": "x",
           "y": {
            "bdata": "AAAAAAAAOkA=",
            "dtype": "f8"
           },
           "yaxis": "y"
          },
          {
           "hovertemplate": "TEAM=%{x}<br>YEAR=2013<br>SEASON_RANK=%{y}<extra></extra>",
           "legendgroup": "New York",
           "marker": {
            "color": "#FF97FF",
            "pattern": {
             "shape": ""
            }
           },
           "name": "New York",
           "orientation": "v",
           "showlegend": true,
           "textposition": "auto",
           "type": "bar",
           "x": [
            "New York"
           ],
           "xaxis": "x",
           "y": {
            "bdata": "AAAAAAAAM0A=",
            "dtype": "f8"
           },
           "yaxis": "y"
          },
          {
           "hovertemplate": "TEAM=%{x}<br>YEAR=2013<br>SEASON_RANK=%{y}<extra></extra>",
           "legendgroup": "Sacramento",
           "marker": {
            "color": "#FECB52",
            "pattern": {
             "shape": ""
            }
           },
           "name": "Sacramento",
           "orientation": "v",
           "showlegend": true,
           "textposition": "auto",
           "type": "bar",
           "x": [
            "Sacramento"
           ],
           "xaxis": "x",
           "y": {
            "bdata": "AAAAAAAAOEA=",
            "dtype": "f8"
           },
           "yaxis": "y"
          },
          {
           "hovertemplate": "TEAM=%{x}<br>YEAR=2013<br>SEASON_RANK=%{y}<extra></extra>",
           "legendgroup": "Phoenix",
           "marker": {
            "color": "#EF553B",
            "pattern": {
             "shape": ""
            }
           },
           "name": "Phoenix",
           "orientation": "v",
           "showlegend": true,
           "textposition": "auto",
           "type": "bar",
           "x": [
            "Phoenix"
           ],
           "xaxis": "x",
           "y": {
            "bdata": "AAAAAAAAJkA=",
            "dtype": "f8"
           },
           "yaxis": "y"
          },
          {
           "hovertemplate": "TEAM=%{x}<br>YEAR=2013<br>SEASON_RANK=%{y}<extra></extra>",
           "legendgroup": "Philadelphia",
           "marker": {
            "color": "#00cc96",
            "pattern": {
             "shape": ""
            }
           },
           "name": "Philadelphia",
           "orientation": "v",
           "showlegend": true,
           "textposition": "auto",
           "type": "bar",
           "x": [
            "Philadelphia"
           ],
           "xaxis": "x",
           "y": {
            "bdata": "AAAAAAAAPUA=",
            "dtype": "f8"
           },
           "yaxis": "y"
          },
          {
           "hovertemplate": "TEAM=%{x}<br>YEAR=2013<br>SEASON_RANK=%{y}<extra></extra>",
           "legendgroup": "New Orleans",
           "marker": {
            "color": "#ab63fa",
            "pattern": {
             "shape": ""
            }
           },
           "name": "New Orleans",
           "orientation": "v",
           "showlegend": true,
           "textposition": "auto",
           "type": "bar",
           "x": [
            "New Orleans"
           ],
           "xaxis": "x",
           "y": {
            "bdata": "AAAAAAAANUA=",
            "dtype": "f8"
           },
           "yaxis": "y"
          },
          {
           "hovertemplate": "TEAM=%{x}<br>YEAR=2013<br>SEASON_RANK=%{y}<extra></extra>",
           "legendgroup": "Brooklyn",
           "marker": {
            "color": "#FFA15A",
            "pattern": {
             "shape": ""
            }
           },
           "name": "Brooklyn",
           "orientation": "v",
           "showlegend": true,
           "textposition": "auto",
           "type": "bar",
           "x": [
            "Brooklyn"
           ],
           "xaxis": "x",
           "y": {
            "bdata": "AAAAAAAALEA=",
            "dtype": "f8"
           },
           "yaxis": "y"
          },
          {
           "hovertemplate": "TEAM=%{x}<br>YEAR=2013<br>SEASON_RANK=%{y}<extra></extra>",
           "legendgroup": "Denver",
           "marker": {
            "color": "#19d3f3",
            "pattern": {
             "shape": ""
            }
           },
           "name": "Denver",
           "orientation": "v",
           "showlegend": true,
           "textposition": "auto",
           "type": "bar",
           "x": [
            "Denver"
           ],
           "xaxis": "x",
           "y": {
            "bdata": "AAAAAAAANEA=",
            "dtype": "f8"
           },
           "yaxis": "y"
          },
          {
           "hovertemplate": "TEAM=%{x}<br>YEAR=2013<br>SEASON_RANK=%{y}<extra></extra>",
           "legendgroup": "Memphis",
           "marker": {
            "color": "#FF6692",
            "pattern": {
             "shape": ""
            }
           },
           "name": "Memphis",
           "orientation": "v",
           "showlegend": true,
           "textposition": "auto",
           "type": "bar",
           "x": [
            "Memphis"
           ],
           "xaxis": "x",
           "y": {
            "bdata": "AAAAAAAAIkA=",
            "dtype": "f8"
           },
           "yaxis": "y"
          },
          {
           "hovertemplate": "TEAM=%{x}<br>YEAR=2013<br>SEASON_RANK=%{y}<extra></extra>",
           "legendgroup": "Cleveland",
           "marker": {
            "color": "#B6E880",
            "pattern": {
             "shape": ""
            }
           },
           "name": "Cleveland",
           "orientation": "v",
           "showlegend": true,
           "textposition": "auto",
           "type": "bar",
           "x": [
            "Cleveland"
           ],
           "xaxis": "x",
           "y": {
            "bdata": "AAAAAAAANkA=",
            "dtype": "f8"
           },
           "yaxis": "y"
          },
          {
           "hovertemplate": "TEAM=%{x}<br>YEAR=2013<br>SEASON_RANK=%{y}<extra></extra>",
           "legendgroup": "Boston",
           "marker": {
            "color": "#FF97FF",
            "pattern": {
             "shape": ""
            }
           },
           "name": "Boston",
           "orientation": "v",
           "showlegend": true,
           "textposition": "auto",
           "type": "bar",
           "x": [
            "Boston"
           ],
           "xaxis": "x",
           "y": {
            "bdata": "AAAAAAAAOkA=",
            "dtype": "f8"
           },
           "yaxis": "y"
          },
          {
           "hovertemplate": "TEAM=%{x}<br>YEAR=2013<br>SEASON_RANK=%{y}<extra></extra>",
           "legendgroup": "Milwaukee",
           "marker": {
            "color": "#FECB52",
            "pattern": {
             "shape": ""
            }
           },
           "name": "Milwaukee",
           "orientation": "v",
           "showlegend": true,
           "textposition": "auto",
           "type": "bar",
           "x": [
            "Milwaukee"
           ],
           "xaxis": "x",
           "y": {
            "bdata": "AAAAAAAAPkA=",
            "dtype": "f8"
           },
           "yaxis": "y"
          },
          {
           "hovertemplate": "TEAM=%{x}<br>YEAR=2013<br>SEASON_RANK=%{y}<extra></extra>",
           "legendgroup": "L.A. Clippers",
           "marker": {
            "color": "#EF553B",
            "pattern": {
             "shape": ""
            }
           },
           "name": "L.A. Clippers",
           "orientation": "v",
           "showlegend": true,
           "textposition": "auto",
           "type": "bar",
           "x": [
            "L.A. Clippers"
           ],
           "xaxis": "x",
           "y": {
            "bdata": "AAAAAAAACEA=",
            "dtype": "f8"
           },
           "yaxis": "y"
          }
         ],
         "name": "2013"
        },
        {
         "data": [
          {
           "hovertemplate": "TEAM=%{x}<br>YEAR=2014<br>SEASON_RANK=%{y}<extra></extra>",
           "legendgroup": "Detroit",
           "marker": {
            "color": "#636efa",
            "pattern": {
             "shape": ""
            }
           },
           "name": "Detroit",
           "orientation": "v",
           "showlegend": true,
           "textposition": "auto",
           "type": "bar",
           "x": [
            "Detroit"
           ],
           "xaxis": "x",
           "y": {
            "bdata": "AAAAAAAAN0A=",
            "dtype": "f8"
           },
           "yaxis": "y"
          },
          {
           "hovertemplate": "TEAM=%{x}<br>YEAR=2014<br>SEASON_RANK=%{y}<extra></extra>",
           "legendgroup": "Charlotte",
           "marker": {
            "color": "#EF553B",
            "pattern": {
             "shape": ""
            }
           },
           "name": "Charlotte",
           "orientation": "v",
           "showlegend": true,
           "textposition": "auto",
           "type": "bar",
           "x": [
            "Charlotte"
           ],
           "xaxis": "x",
           "y": {
            "bdata": "AAAAAAAANkA=",
            "dtype": "f8"
           },
           "yaxis": "y"
          },
          {
           "hovertemplate": "TEAM=%{x}<br>YEAR=2014<br>SEASON_RANK=%{y}<extra></extra>",
           "legendgroup": "Houston",
           "marker": {
            "color": "#00cc96",
            "pattern": {
             "shape": ""
            }
           },
           "name": "Houston",
           "orientation": "v",
           "showlegend": true,
           "textposition": "auto",
           "type": "bar",
           "x": [
            "Houston"
           ],
           "xaxis": "x",
           "y": {
            "bdata": "AAAAAAAACEA=",
            "dtype": "f8"
           },
           "yaxis": "y"
          },
          {
           "hovertemplate": "TEAM=%{x}<br>YEAR=2014<br>SEASON_RANK=%{y}<extra></extra>",
           "legendgroup": "San Antonio",
           "marker": {
            "color": "#ab63fa",
            "pattern": {
             "shape": ""
            }
           },
           "name": "San Antonio",
           "orientation": "v",
           "showlegend": true,
           "textposition": "auto",
           "type": "bar",
           "x": [
            "San Antonio"
           ],
           "xaxis": "x",
           "y": {
            "bdata": "AAAAAAAAFEA=",
            "dtype": "f8"
           },
           "yaxis": "y"
          },
          {
           "hovertemplate": "TEAM=%{x}<br>YEAR=2014<br>SEASON_RANK=%{y}<extra></extra>",
           "legendgroup": "Orlando",
           "marker": {
            "color": "#FFA15A",
            "pattern": {
             "shape": ""
            }
           },
           "name": "Orlando",
           "orientation": "v",
           "showlegend": true,
           "textposition": "auto",
           "type": "bar",
           "x": [
            "Orlando"
           ],
           "xaxis": "x",
           "y": {
            "bdata": "AAAAAAAAOkA=",
            "dtype": "f8"
           },
           "yaxis": "y"
          },
          {
           "hovertemplate": "TEAM=%{x}<br>YEAR=2014<br>SEASON_RANK=%{y}<extra></extra>",
           "legendgroup": "Washington",
           "marker": {
            "color": "#19d3f3",
            "pattern": {
             "shape": ""
            }
           },
           "name": "Washington",
           "orientation": "v",
           "showlegend": true,
           "textposition": "auto",
           "type": "bar",
           "x": [
            "Washington"
           ],
           "xaxis": "x",
           "y": {
            "bdata": "AAAAAAAAKEA=",
            "dtype": "f8"
           },
           "yaxis": "y"
          },
          {
           "hovertemplate": "TEAM=%{x}<br>YEAR=2014<br>SEASON_RANK=%{y}<extra></extra>",
           "legendgroup": "L.A. Lakers",
           "marker": {
            "color": "#FF6692",
            "pattern": {
             "shape": ""
            }
           },
           "name": "L.A. Lakers",
           "orientation": "v",
           "showlegend": true,
           "textposition": "auto",
           "type": "bar",
           "x": [
            "L.A. Lakers"
           ],
           "xaxis": "x",
           "y": {
            "bdata": "AAAAAAAAO0A=",
            "dtype": "f8"
           },
           "yaxis": "y"
          },
          {
           "hovertemplate": "TEAM=%{x}<br>YEAR=2014<br>SEASON_RANK=%{y}<extra></extra>",
           "legendgroup": "Chicago",
           "marker": {
            "color": "#B6E880",
            "pattern": {
             "shape": ""
            }
           },
           "name": "Chicago",
           "orientation": "v",
           "showlegend": true,
           "textposition": "auto",
           "type": "bar",
           "x": [
            "Chicago"
           ],
           "xaxis": "x",
           "y": {
            "bdata": "AAAAAAAAIkA=",
            "dtype": "f8"
           },
           "yaxis": "y"
          },
          {
           "hovertemplate": "TEAM=%{x}<br>YEAR=2014<br>SEASON_RANK=%{y}<extra></extra>",
           "legendgroup": "Oklahoma City",
           "marker": {
            "color": "#FF97FF",
            "pattern": {
             "shape": ""
            }
           },
           "name": "Oklahoma City",
           "orientation": "v",
           "showlegend": true,
           "textposition": "auto",
           "type": "bar",
           "x": [
            "Oklahoma City"
           ],
           "xaxis": "x",
           "y": {
            "bdata": "AAAAAAAAKkA=",
            "dtype": "f8"
           },
           "yaxis": "y"
          },
          {
           "hovertemplate": "TEAM=%{x}<br>YEAR=2014<br>SEASON_RANK=%{y}<extra></extra>",
           "legendgroup": "Toronto",
           "marker": {
            "color": "#FECB52",
            "pattern": {
             "shape": ""
            }
           },
           "name": "Toronto",
           "orientation": "v",
           "showlegend": true,
           "textposition": "auto",
           "type": "bar",
           "x": [
            "Toronto"
           ],
           "xaxis": "x",
           "y": {
            "bdata": "AAAAAAAAJkA=",
            "dtype": "f8"
           },
           "yaxis": "y"
          },
          {
           "hovertemplate": "TEAM=%{x}<br>YEAR=2014<br>SEASON_RANK=%{y}<extra></extra>",
           "legendgroup": "Golden State",
           "marker": {
            "color": "#636efa",
            "pattern": {
             "shape": ""
            }
           },
           "name": "Golden State",
           "orientation": "v",
           "showlegend": true,
           "textposition": "auto",
           "type": "bar",
           "x": [
            "Golden State"
           ],
           "xaxis": "x",
           "y": {
            "bdata": "AAAAAAAA8D8=",
            "dtype": "f8"
           },
           "yaxis": "y"
          },
          {
           "hovertemplate": "TEAM=%{x}<br>YEAR=2014<br>SEASON_RANK=%{y}<extra></extra>",
           "legendgroup": "Dallas",
           "marker": {
            "color": "#EF553B",
            "pattern": {
             "shape": ""
            }
           },
           "name": "Dallas",
           "orientation": "v",
           "showlegend": true,
           "textposition": "auto",
           "type": "bar",
           "x": [
            "Dallas"
           ],
           "xaxis": "x",
           "y": {
            "bdata": "AAAAAAAAIkA=",
            "dtype": "f8"
           },
           "yaxis": "y"
          },
          {
           "hovertemplate": "TEAM=%{x}<br>YEAR=2014<br>SEASON_RANK=%{y}<extra></extra>",
           "legendgroup": "Minnesota",
           "marker": {
            "color": "#00cc96",
            "pattern": {
             "shape": ""
            }
           },
           "name": "Minnesota",
           "orientation": "v",
           "showlegend": true,
           "textposition": "auto",
           "type": "bar",
           "x": [
            "Minnesota"
           ],
           "xaxis": "x",
           "y": {
            "bdata": "AAAAAAAAPkA=",
            "dtype": "f8"
           },
           "yaxis": "y"
          },
          {
           "hovertemplate": "TEAM=%{x}<br>YEAR=2014<br>SEASON_RANK=%{y}<extra></extra>",
           "legendgroup": "Atlanta",
           "marker": {
            "color": "#ab63fa",
            "pattern": {
             "shape": ""
            }
           },
           "name": "Atlanta",
           "orientation": "v",
           "showlegend": true,
           "textposition": "auto",
           "type": "bar",
           "x": [
            "Atlanta"
           ],
           "xaxis": "x",
           "y": {
            "bdata": "AAAAAAAAAEA=",
            "dtype": "f8"
           },
           "yaxis": "y"
          },
          {
           "hovertemplate": "TEAM=%{x}<br>YEAR=2014<br>SEASON_RANK=%{y}<extra></extra>",
           "legendgroup": "Indiana",
           "marker": {
            "color": "#FFA15A",
            "pattern": {
             "shape": ""
            }
           },
           "name": "Indiana",
           "orientation": "v",
           "showlegend": true,
           "textposition": "auto",
           "type": "bar",
           "x": [
            "Indiana"
           ],
           "xaxis": "x",
           "y": {
            "bdata": "AAAAAAAAMkA=",
            "dtype": "f8"
           },
           "yaxis": "y"
          },
          {
           "hovertemplate": "TEAM=%{x}<br>YEAR=2014<br>SEASON_RANK=%{y}<extra></extra>",
           "legendgroup": "Miami",
           "marker": {
            "color": "#19d3f3",
            "pattern": {
             "shape": ""
            }
           },
           "name": "Miami",
           "orientation": "v",
           "showlegend": true,
           "textposition": "auto",
           "type": "bar",
           "x": [
            "Miami"
           ],
           "xaxis": "x",
           "y": {
            "bdata": "AAAAAAAANUA=",
            "dtype": "f8"
           },
           "yaxis": "y"
          },
          {
           "hovertemplate": "TEAM=%{x}<br>YEAR=2014<br>SEASON_RANK=%{y}<extra></extra>",
           "legendgroup": "Portland",
           "marker": {
            "color": "#FF6692",
            "pattern": {
             "shape": ""
            }
           },
           "name": "Portland",
           "orientation": "v",
           "showlegend": true,
           "textposition": "auto",
           "type": "bar",
           "x": [
            "Portland"
           ],
           "xaxis": "x",
           "y": {
            "bdata": "AAAAAAAAIEA=",
            "dtype": "f8"
           },
           "yaxis": "y"
          },
          {
           "hovertemplate": "TEAM=%{x}<br>YEAR=2014<br>SEASON_RANK=%{y}<extra></extra>",
           "legendgroup": "Utah",
           "marker": {
            "color": "#B6E880",
            "pattern": {
             "shape": ""
            }
           },
           "name": "Utah",
           "orientation": "v",
           "showlegend": true,
           "textposition": "auto",
           "type": "bar",
           "x": [
            "Utah"
           ],
           "xaxis": "x",
           "y": {
            "bdata": "AAAAAAAAMkA=",
            "dtype": "f8"
           },
           "yaxis": "y"
          },
          {
           "hovertemplate": "TEAM=%{x}<br>YEAR=2014<br>SEASON_RANK=%{y}<extra></extra>",
           "legendgroup": "New York",
           "marker": {
            "color": "#FF97FF",
            "pattern": {
             "shape": ""
            }
           },
           "name": "New York",
           "orientation": "v",
           "showlegend": true,
           "textposition": "auto",
           "type": "bar",
           "x": [
            "New York"
           ],
           "xaxis": "x",
           "y": {
            "bdata": "AAAAAAAAPUA=",
            "dtype": "f8"
           },
           "yaxis": "y"
          },
          {
           "hovertemplate": "TEAM=%{x}<br>YEAR=2014<br>SEASON_RANK=%{y}<extra></extra>",
           "legendgroup": "Sacramento",
           "marker": {
            "color": "#FECB52",
            "pattern": {
             "shape": ""
            }
           },
           "name": "Sacramento",
           "orientation": "v",
           "showlegend": true,
           "textposition": "auto",
           "type": "bar",
           "x": [
            "Sacramento"
           ],
           "xaxis": "x",
           "y": {
            "bdata": "AAAAAAAAOUA=",
            "dtype": "f8"
           },
           "yaxis": "y"
          },
          {
           "hovertemplate": "TEAM=%{x}<br>YEAR=2014<br>SEASON_RANK=%{y}<extra></extra>",
           "legendgroup": "Phoenix",
           "marker": {
            "color": "#EF553B",
            "pattern": {
             "shape": ""
            }
           },
           "name": "Phoenix",
           "orientation": "v",
           "showlegend": true,
           "textposition": "auto",
           "type": "bar",
           "x": [
            "Phoenix"
           ],
           "xaxis": "x",
           "y": {
            "bdata": "AAAAAAAAMUA=",
            "dtype": "f8"
           },
           "yaxis": "y"
          },
          {
           "hovertemplate": "TEAM=%{x}<br>YEAR=2014<br>SEASON_RANK=%{y}<extra></extra>",
           "legendgroup": "Philadelphia",
           "marker": {
            "color": "#00cc96",
            "pattern": {
             "shape": ""
            }
           },
           "name": "Philadelphia",
           "orientation": "v",
           "showlegend": true,
           "textposition": "auto",
           "type": "bar",
           "x": [
            "Philadelphia"
           ],
           "xaxis": "x",
           "y": {
            "bdata": "AAAAAAAAPEA=",
            "dtype": "f8"
           },
           "yaxis": "y"
          },
          {
           "hovertemplate": "TEAM=%{x}<br>YEAR=2014<br>SEASON_RANK=%{y}<extra></extra>",
           "legendgroup": "New Orleans",
           "marker": {
            "color": "#ab63fa",
            "pattern": {
             "shape": ""
            }
           },
           "name": "New Orleans",
           "orientation": "v",
           "showlegend": true,
           "textposition": "auto",
           "type": "bar",
           "x": [
            "New Orleans"
           ],
           "xaxis": "x",
           "y": {
            "bdata": "AAAAAAAAKkA=",
            "dtype": "f8"
           },
           "yaxis": "y"
          },
          {
           "hovertemplate": "TEAM=%{x}<br>YEAR=2014<br>SEASON_RANK=%{y}<extra></extra>",
           "legendgroup": "Brooklyn",
           "marker": {
            "color": "#FFA15A",
            "pattern": {
             "shape": ""
            }
           },
           "name": "Brooklyn",
           "orientation": "v",
           "showlegend": true,
           "textposition": "auto",
           "type": "bar",
           "x": [
            "Brooklyn"
           ],
           "xaxis": "x",
           "y": {
            "bdata": "AAAAAAAAMkA=",
            "dtype": "f8"
           },
           "yaxis": "y"
          },
          {
           "hovertemplate": "TEAM=%{x}<br>YEAR=2014<br>SEASON_RANK=%{y}<extra></extra>",
           "legendgroup": "Denver",
           "marker": {
            "color": "#19d3f3",
            "pattern": {
             "shape": ""
            }
           },
           "name": "Denver",
           "orientation": "v",
           "showlegend": true,
           "textposition": "auto",
           "type": "bar",
           "x": [
            "Denver"
           ],
           "xaxis": "x",
           "y": {
            "bdata": "AAAAAAAAOEA=",
            "dtype": "f8"
           },
           "yaxis": "y"
          },
          {
           "hovertemplate": "TEAM=%{x}<br>YEAR=2014<br>SEASON_RANK=%{y}<extra></extra>",
           "legendgroup": "Memphis",
           "marker": {
            "color": "#FF6692",
            "pattern": {
             "shape": ""
            }
           },
           "name": "Memphis",
           "orientation": "v",
           "showlegend": true,
           "textposition": "auto",
           "type": "bar",
           "x": [
            "Memphis"
           ],
           "xaxis": "x",
           "y": {
            "bdata": "AAAAAAAAFEA=",
            "dtype": "f8"
           },
           "yaxis": "y"
          },
          {
           "hovertemplate": "TEAM=%{x}<br>YEAR=2014<br>SEASON_RANK=%{y}<extra></extra>",
           "legendgroup": "Cleveland",
           "marker": {
            "color": "#B6E880",
            "pattern": {
             "shape": ""
            }
           },
           "name": "Cleveland",
           "orientation": "v",
           "showlegend": true,
           "textposition": "auto",
           "type": "bar",
           "x": [
            "Cleveland"
           ],
           "xaxis": "x",
           "y": {
            "bdata": "AAAAAAAAHEA=",
            "dtype": "f8"
           },
           "yaxis": "y"
          },
          {
           "hovertemplate": "TEAM=%{x}<br>YEAR=2014<br>SEASON_RANK=%{y}<extra></extra>",
           "legendgroup": "Boston",
           "marker": {
            "color": "#FF97FF",
            "pattern": {
             "shape": ""
            }
           },
           "name": "Boston",
           "orientation": "v",
           "showlegend": true,
           "textposition": "auto",
           "type": "bar",
           "x": [
            "Boston"
           ],
           "xaxis": "x",
           "y": {
            "bdata": "AAAAAAAAMEA=",
            "dtype": "f8"
           },
           "yaxis": "y"
          },
          {
           "hovertemplate": "TEAM=%{x}<br>YEAR=2014<br>SEASON_RANK=%{y}<extra></extra>",
           "legendgroup": "Milwaukee",
           "marker": {
            "color": "#FECB52",
            "pattern": {
             "shape": ""
            }
           },
           "name": "Milwaukee",
           "orientation": "v",
           "showlegend": true,
           "textposition": "auto",
           "type": "bar",
           "x": [
            "Milwaukee"
           ],
           "xaxis": "x",
           "y": {
            "bdata": "AAAAAAAALkA=",
            "dtype": "f8"
           },
           "yaxis": "y"
          },
          {
           "hovertemplate": "TEAM=%{x}<br>YEAR=2014<br>SEASON_RANK=%{y}<extra></extra>",
           "legendgroup": "L.A. Clippers",
           "marker": {
            "color": "#EF553B",
            "pattern": {
             "shape": ""
            }
           },
           "name": "L.A. Clippers",
           "orientation": "v",
           "showlegend": true,
           "textposition": "auto",
           "type": "bar",
           "x": [
            "L.A. Clippers"
           ],
           "xaxis": "x",
           "y": {
            "bdata": "AAAAAAAACEA=",
            "dtype": "f8"
           },
           "yaxis": "y"
          }
         ],
         "name": "2014"
        },
        {
         "data": [
          {
           "hovertemplate": "TEAM=%{x}<br>YEAR=2015<br>SEASON_RANK=%{y}<extra></extra>",
           "legendgroup": "Detroit",
           "marker": {
            "color": "#636efa",
            "pattern": {
             "shape": ""
            }
           },
           "name": "Detroit",
           "orientation": "v",
           "showlegend": true,
           "textposition": "auto",
           "type": "bar",
           "x": [
            "Detroit"
           ],
           "xaxis": "x",
           "y": {
            "bdata": "AAAAAAAAKEA=",
            "dtype": "f8"
           },
           "yaxis": "y"
          },
          {
           "hovertemplate": "TEAM=%{x}<br>YEAR=2015<br>SEASON_RANK=%{y}<extra></extra>",
           "legendgroup": "Charlotte",
           "marker": {
            "color": "#EF553B",
            "pattern": {
             "shape": ""
            }
           },
           "name": "Charlotte",
           "orientation": "v",
           "showlegend": true,
           "textposition": "auto",
           "type": "bar",
           "x": [
            "Charlotte"
           ],
           "xaxis": "x",
           "y": {
            "bdata": "AAAAAAAAHEA=",
            "dtype": "f8"
           },
           "yaxis": "y"
          },
          {
           "hovertemplate": "TEAM=%{x}<br>YEAR=2015<br>SEASON_RANK=%{y}<extra></extra>",
           "legendgroup": "Houston",
           "marker": {
            "color": "#00cc96",
            "pattern": {
             "shape": ""
            }
           },
           "name": "Houston",
           "orientation": "v",
           "showlegend": true,
           "textposition": "auto",
           "type": "bar",
           "x": [
            "Houston"
           ],
           "xaxis": "x",
           "y": {
            "bdata": "AAAAAAAAMUA=",
            "dtype": "f8"
           },
           "yaxis": "y"
          },
          {
           "hovertemplate": "TEAM=%{x}<br>YEAR=2015<br>SEASON_RANK=%{y}<extra></extra>",
           "legendgroup": "San Antonio",
           "marker": {
            "color": "#ab63fa",
            "pattern": {
             "shape": ""
            }
           },
           "name": "San Antonio",
           "orientation": "v",
           "showlegend": true,
           "textposition": "auto",
           "type": "bar",
           "x": [
            "San Antonio"
           ],
           "xaxis": "x",
           "y": {
            "bdata": "AAAAAAAAAEA=",
            "dtype": "f8"
           },
           "yaxis": "y"
          },
          {
           "hovertemplate": "TEAM=%{x}<br>YEAR=2015<br>SEASON_RANK=%{y}<extra></extra>",
           "legendgroup": "Orlando",
           "marker": {
            "color": "#FFA15A",
            "pattern": {
             "shape": ""
            }
           },
           "name": "Orlando",
           "orientation": "v",
           "showlegend": true,
           "textposition": "auto",
           "type": "bar",
           "x": [
            "Orlando"
           ],
           "xaxis": "x",
           "y": {
            "bdata": "AAAAAAAANEA=",
            "dtype": "f8"
           },
           "yaxis": "y"
          },
          {
           "hovertemplate": "TEAM=%{x}<br>YEAR=2015<br>SEASON_RANK=%{y}<extra></extra>",
           "legendgroup": "Washington",
           "marker": {
            "color": "#19d3f3",
            "pattern": {
             "shape": ""
            }
           },
           "name": "Washington",
           "orientation": "v",
           "showlegend": true,
           "textposition": "auto",
           "type": "bar",
           "x": [
            "Washington"
           ],
           "xaxis": "x",
           "y": {
            "bdata": "AAAAAAAAMUA=",
            "dtype": "f8"
           },
           "yaxis": "y"
          },
          {
           "hovertemplate": "TEAM=%{x}<br>YEAR=2015<br>SEASON_RANK=%{y}<extra></extra>",
           "legendgroup": "L.A. Lakers",
           "marker": {
            "color": "#FF6692",
            "pattern": {
             "shape": ""
            }
           },
           "name": "L.A. Lakers",
           "orientation": "v",
           "showlegend": true,
           "textposition": "auto",
           "type": "bar",
           "x": [
            "L.A. Lakers"
           ],
           "xaxis": "x",
           "y": {
            "bdata": "AAAAAAAAPUA=",
            "dtype": "f8"
           },
           "yaxis": "y"
          },
          {
           "hovertemplate": "TEAM=%{x}<br>YEAR=2015<br>SEASON_RANK=%{y}<extra></extra>",
           "legendgroup": "Chicago",
           "marker": {
            "color": "#B6E880",
            "pattern": {
             "shape": ""
            }
           },
           "name": "Chicago",
           "orientation": "v",
           "showlegend": true,
           "textposition": "auto",
           "type": "bar",
           "x": [
            "Chicago"
           ],
           "xaxis": "x",
           "y": {
            "bdata": "AAAAAAAALEA=",
            "dtype": "f8"
           },
           "yaxis": "y"
          },
          {
           "hovertemplate": "TEAM=%{x}<br>YEAR=2015<br>SEASON_RANK=%{y}<extra></extra>",
           "legendgroup": "Oklahoma City",
           "marker": {
            "color": "#FF97FF",
            "pattern": {
             "shape": ""
            }
           },
           "name": "Oklahoma City",
           "orientation": "v",
           "showlegend": true,
           "textposition": "auto",
           "type": "bar",
           "x": [
            "Oklahoma City"
           ],
           "xaxis": "x",
           "y": {
            "bdata": "AAAAAAAAFEA=",
            "dtype": "f8"
           },
           "yaxis": "y"
          },
          {
           "hovertemplate": "TEAM=%{x}<br>YEAR=2015<br>SEASON_RANK=%{y}<extra></extra>",
           "legendgroup": "Toronto",
           "marker": {
            "color": "#FECB52",
            "pattern": {
             "shape": ""
            }
           },
           "name": "Toronto",
           "orientation": "v",
           "showlegend": true,
           "textposition": "auto",
           "type": "bar",
           "x": [
            "Toronto"
           ],
           "xaxis": "x",
           "y": {
            "bdata": "AAAAAAAAEEA=",
            "dtype": "f8"
           },
           "yaxis": "y"
          },
          {
           "hovertemplate": "TEAM=%{x}<br>YEAR=2015<br>SEASON_RANK=%{y}<extra></extra>",
           "legendgroup": "Golden State",
           "marker": {
            "color": "#636efa",
            "pattern": {
             "shape": ""
            }
           },
           "name": "Golden State",
           "orientation": "v",
           "showlegend": true,
           "textposition": "auto",
           "type": "bar",
           "x": [
            "Golden State"
           ],
           "xaxis": "x",
           "y": {
            "bdata": "AAAAAAAA8D8=",
            "dtype": "f8"
           },
           "yaxis": "y"
          },
          {
           "hovertemplate": "TEAM=%{x}<br>YEAR=2015<br>SEASON_RANK=%{y}<extra></extra>",
           "legendgroup": "Dallas",
           "marker": {
            "color": "#EF553B",
            "pattern": {
             "shape": ""
            }
           },
           "name": "Dallas",
           "orientation": "v",
           "showlegend": true,
           "textposition": "auto",
           "type": "bar",
           "x": [
            "Dallas"
           ],
           "xaxis": "x",
           "y": {
            "bdata": "AAAAAAAALEA=",
            "dtype": "f8"
           },
           "yaxis": "y"
          },
          {
           "hovertemplate": "TEAM=%{x}<br>YEAR=2015<br>SEASON_RANK=%{y}<extra></extra>",
           "legendgroup": "Minnesota",
           "marker": {
            "color": "#00cc96",
            "pattern": {
             "shape": ""
            }
           },
           "name": "Minnesota",
           "orientation": "v",
           "showlegend": true,
           "textposition": "auto",
           "type": "bar",
           "x": [
            "Minnesota"
           ],
           "xaxis": "x",
           "y": {
            "bdata": "AAAAAAAAOkA=",
            "dtype": "f8"
           },
           "yaxis": "y"
          },
          {
           "hovertemplate": "TEAM=%{x}<br>YEAR=2015<br>SEASON_RANK=%{y}<extra></extra>",
           "legendgroup": "Atlanta",
           "marker": {
            "color": "#ab63fa",
            "pattern": {
             "shape": ""
            }
           },
           "name": "Atlanta",
           "orientation": "v",
           "showlegend": true,
           "textposition": "auto",
           "type": "bar",
           "x": [
            "Atlanta"
           ],
           "xaxis": "x",
           "y": {
            "bdata": "AAAAAAAAHEA=",
            "dtype": "f8"
           },
           "yaxis": "y"
          },
          {
           "hovertemplate": "TEAM=%{x}<br>YEAR=2015<br>SEASON_RANK=%{y}<extra></extra>",
           "legendgroup": "Indiana",
           "marker": {
            "color": "#FFA15A",
            "pattern": {
             "shape": ""
            }
           },
           "name": "Indiana",
           "orientation": "v",
           "showlegend": true,
           "textposition": "auto",
           "type": "bar",
           "x": [
            "Indiana"
           ],
           "xaxis": "x",
           "y": {
            "bdata": "AAAAAAAAJkA=",
            "dtype": "f8"
           },
           "yaxis": "y"
          },
          {
           "hovertemplate": "TEAM=%{x}<br>YEAR=2015<br>SEASON_RANK=%{y}<extra></extra>",
           "legendgroup": "Miami",
           "marker": {
            "color": "#19d3f3",
            "pattern": {
             "shape": ""
            }
           },
           "name": "Miami",
           "orientation": "v",
           "showlegend": true,
           "textposition": "auto",
           "type": "bar",
           "x": [
            "Miami"
           ],
           "xaxis": "x",
           "y": {
            "bdata": "AAAAAAAAHEA=",
            "dtype": "f8"
           },
           "yaxis": "y"
          },
          {
           "hovertemplate": "TEAM=%{x}<br>YEAR=2015<br>SEASON_RANK=%{y}<extra></extra>",
           "legendgroup": "Portland",
           "marker": {
            "color": "#FF6692",
            "pattern": {
             "shape": ""
            }
           },
           "name": "Portland",
           "orientation": "v",
           "showlegend": true,
           "textposition": "auto",
           "type": "bar",
           "x": [
            "Portland"
           ],
           "xaxis": "x",
           "y": {
            "bdata": "AAAAAAAAKEA=",
            "dtype": "f8"
           },
           "yaxis": "y"
          },
          {
           "hovertemplate": "TEAM=%{x}<br>YEAR=2015<br>SEASON_RANK=%{y}<extra></extra>",
           "legendgroup": "Utah",
           "marker": {
            "color": "#B6E880",
            "pattern": {
             "shape": ""
            }
           },
           "name": "Utah",
           "orientation": "v",
           "showlegend": true,
           "textposition": "auto",
           "type": "bar",
           "x": [
            "Utah"
           ],
           "xaxis": "x",
           "y": {
            "bdata": "AAAAAAAAM0A=",
            "dtype": "f8"
           },
           "yaxis": "y"
          },
          {
           "hovertemplate": "TEAM=%{x}<br>YEAR=2015<br>SEASON_RANK=%{y}<extra></extra>",
           "legendgroup": "New York",
           "marker": {
            "color": "#FF97FF",
            "pattern": {
             "shape": ""
            }
           },
           "name": "New York",
           "orientation": "v",
           "showlegend": true,
           "textposition": "auto",
           "type": "bar",
           "x": [
            "New York"
           ],
           "xaxis": "x",
           "y": {
            "bdata": "AAAAAAAAOEA=",
            "dtype": "f8"
           },
           "yaxis": "y"
          },
          {
           "hovertemplate": "TEAM=%{x}<br>YEAR=2015<br>SEASON_RANK=%{y}<extra></extra>",
           "legendgroup": "Sacramento",
           "marker": {
            "color": "#FECB52",
            "pattern": {
             "shape": ""
            }
           },
           "name": "Sacramento",
           "orientation": "v",
           "showlegend": true,
           "textposition": "auto",
           "type": "bar",
           "x": [
            "Sacramento"
           ],
           "xaxis": "x",
           "y": {
            "bdata": "AAAAAAAANUA=",
            "dtype": "f8"
           },
           "yaxis": "y"
          },
          {
           "hovertemplate": "TEAM=%{x}<br>YEAR=2015<br>SEASON_RANK=%{y}<extra></extra>",
           "legendgroup": "LA Clippers",
           "marker": {
            "color": "#636efa",
            "pattern": {
             "shape": ""
            }
           },
           "name": "LA Clippers",
           "orientation": "v",
           "showlegend": true,
           "textposition": "auto",
           "type": "bar",
           "x": [
            "LA Clippers"
           ],
           "xaxis": "x",
           "y": {
            "bdata": "AAAAAAAAGEA=",
            "dtype": "f8"
           },
           "yaxis": "y"
          },
          {
           "hovertemplate": "TEAM=%{x}<br>YEAR=2015<br>SEASON_RANK=%{y}<extra></extra>",
           "legendgroup": "Phoenix",
           "marker": {
            "color": "#EF553B",
            "pattern": {
             "shape": ""
            }
           },
           "name": "Phoenix",
           "orientation": "v",
           "showlegend": true,
           "textposition": "auto",
           "type": "bar",
           "x": [
            "Phoenix"
           ],
           "xaxis": "x",
           "y": {
            "bdata": "AAAAAAAAO0A=",
            "dtype": "f8"
           },
           "yaxis": "y"
          },
          {
           "hovertemplate": "TEAM=%{x}<br>YEAR=2015<br>SEASON_RANK=%{y}<extra></extra>",
           "legendgroup": "Philadelphia",
           "marker": {
            "color": "#00cc96",
            "pattern": {
             "shape": ""
            }
           },
           "name": "Philadelphia",
           "orientation": "v",
           "showlegend": true,
           "textposition": "auto",
           "type": "bar",
           "x": [
            "Philadelphia"
           ],
           "xaxis": "x",
           "y": {
            "bdata": "AAAAAAAAPkA=",
            "dtype": "f8"
           },
           "yaxis": "y"
          },
          {
           "hovertemplate": "TEAM=%{x}<br>YEAR=2015<br>SEASON_RANK=%{y}<extra></extra>",
           "legendgroup": "New Orleans",
           "marker": {
            "color": "#ab63fa",
            "pattern": {
             "shape": ""
            }
           },
           "name": "New Orleans",
           "orientation": "v",
           "showlegend": true,
           "textposition": "auto",
           "type": "bar",
           "x": [
            "New Orleans"
           ],
           "xaxis": "x",
           "y": {
            "bdata": "AAAAAAAAOUA=",
            "dtype": "f8"
           },
           "yaxis": "y"
          },
          {
           "hovertemplate": "TEAM=%{x}<br>YEAR=2015<br>SEASON_RANK=%{y}<extra></extra>",
           "legendgroup": "Brooklyn",
           "marker": {
            "color": "#FFA15A",
            "pattern": {
             "shape": ""
            }
           },
           "name": "Brooklyn",
           "orientation": "v",
           "showlegend": true,
           "textposition": "auto",
           "type": "bar",
           "x": [
            "Brooklyn"
           ],
           "xaxis": "x",
           "y": {
            "bdata": "AAAAAAAAPEA=",
            "dtype": "f8"
           },
           "yaxis": "y"
          },
          {
           "hovertemplate": "TEAM=%{x}<br>YEAR=2015<br>SEASON_RANK=%{y}<extra></extra>",
           "legendgroup": "Denver",
           "marker": {
            "color": "#19d3f3",
            "pattern": {
             "shape": ""
            }
           },
           "name": "Denver",
           "orientation": "v",
           "showlegend": true,
           "textposition": "auto",
           "type": "bar",
           "x": [
            "Denver"
           ],
           "xaxis": "x",
           "y": {
            "bdata": "AAAAAAAANUA=",
            "dtype": "f8"
           },
           "yaxis": "y"
          },
          {
           "hovertemplate": "TEAM=%{x}<br>YEAR=2015<br>SEASON_RANK=%{y}<extra></extra>",
           "legendgroup": "Memphis",
           "marker": {
            "color": "#FF6692",
            "pattern": {
             "shape": ""
            }
           },
           "name": "Memphis",
           "orientation": "v",
           "showlegend": true,
           "textposition": "auto",
           "type": "bar",
           "x": [
            "Memphis"
           ],
           "xaxis": "x",
           "y": {
            "bdata": "AAAAAAAALEA=",
            "dtype": "f8"
           },
           "yaxis": "y"
          },
          {
           "hovertemplate": "TEAM=%{x}<br>YEAR=2015<br>SEASON_RANK=%{y}<extra></extra>",
           "legendgroup": "Cleveland",
           "marker": {
            "color": "#B6E880",
            "pattern": {
             "shape": ""
            }
           },
           "name": "Cleveland",
           "orientation": "v",
           "showlegend": true,
           "textposition": "auto",
           "type": "bar",
           "x": [
            "Cleveland"
           ],
           "xaxis": "x",
           "y": {
            "bdata": "AAAAAAAACEA=",
            "dtype": "f8"
           },
           "yaxis": "y"
          },
          {
           "hovertemplate": "TEAM=%{x}<br>YEAR=2015<br>SEASON_RANK=%{y}<extra></extra>",
           "legendgroup": "Boston",
           "marker": {
            "color": "#FF97FF",
            "pattern": {
             "shape": ""
            }
           },
           "name": "Boston",
           "orientation": "v",
           "showlegend": true,
           "textposition": "auto",
           "type": "bar",
           "x": [
            "Boston"
           ],
           "xaxis": "x",
           "y": {
            "bdata": "AAAAAAAAHEA=",
            "dtype": "f8"
           },
           "yaxis": "y"
          },
          {
           "hovertemplate": "TEAM=%{x}<br>YEAR=2015<br>SEASON_RANK=%{y}<extra></extra>",
           "legendgroup": "Milwaukee",
           "marker": {
            "color": "#FECB52",
            "pattern": {
             "shape": ""
            }
           },
           "name": "Milwaukee",
           "orientation": "v",
           "showlegend": true,
           "textposition": "auto",
           "type": "bar",
           "x": [
            "Milwaukee"
           ],
           "xaxis": "x",
           "y": {
            "bdata": "AAAAAAAANUA=",
            "dtype": "f8"
           },
           "yaxis": "y"
          }
         ],
         "name": "2015"
        },
        {
         "data": [
          {
           "hovertemplate": "TEAM=%{x}<br>YEAR=2016<br>SEASON_RANK=%{y}<extra></extra>",
           "legendgroup": "Detroit",
           "marker": {
            "color": "#636efa",
            "pattern": {
             "shape": ""
            }
           },
           "name": "Detroit",
           "orientation": "v",
           "showlegend": true,
           "textposition": "auto",
           "type": "bar",
           "x": [
            "Detroit"
           ],
           "xaxis": "x",
           "y": {
            "bdata": "AAAAAAAAM0A=",
            "dtype": "f8"
           },
           "yaxis": "y"
          },
          {
           "hovertemplate": "TEAM=%{x}<br>YEAR=2016<br>SEASON_RANK=%{y}<extra></extra>",
           "legendgroup": "Charlotte",
           "marker": {
            "color": "#EF553B",
            "pattern": {
             "shape": ""
            }
           },
           "name": "Charlotte",
           "orientation": "v",
           "showlegend": true,
           "textposition": "auto",
           "type": "bar",
           "x": [
            "Charlotte"
           ],
           "xaxis": "x",
           "y": {
            "bdata": "AAAAAAAANEA=",
            "dtype": "f8"
           },
           "yaxis": "y"
          },
          {
           "hovertemplate": "TEAM=%{x}<br>YEAR=2016<br>SEASON_RANK=%{y}<extra></extra>",
           "legendgroup": "Houston",
           "marker": {
            "color": "#00cc96",
            "pattern": {
             "shape": ""
            }
           },
           "name": "Houston",
           "orientation": "v",
           "showlegend": true,
           "textposition": "auto",
           "type": "bar",
           "x": [
            "Houston"
           ],
           "xaxis": "x",
           "y": {
            "bdata": "AAAAAAAACEA=",
            "dtype": "f8"
           },
           "yaxis": "y"
          },
          {
           "hovertemplate": "TEAM=%{x}<br>YEAR=2016<br>SEASON_RANK=%{y}<extra></extra>",
           "legendgroup": "San Antonio",
           "marker": {
            "color": "#ab63fa",
            "pattern": {
             "shape": ""
            }
           },
           "name": "San Antonio",
           "orientation": "v",
           "showlegend": true,
           "textposition": "auto",
           "type": "bar",
           "x": [
            "San Antonio"
           ],
           "xaxis": "x",
           "y": {
            "bdata": "AAAAAAAAAEA=",
            "dtype": "f8"
           },
           "yaxis": "y"
          },
          {
           "hovertemplate": "TEAM=%{x}<br>YEAR=2016<br>SEASON_RANK=%{y}<extra></extra>",
           "legendgroup": "Orlando",
           "marker": {
            "color": "#FFA15A",
            "pattern": {
             "shape": ""
            }
           },
           "name": "Orlando",
           "orientation": "v",
           "showlegend": true,
           "textposition": "auto",
           "type": "bar",
           "x": [
            "Orlando"
           ],
           "xaxis": "x",
           "y": {
            "bdata": "AAAAAAAAOkA=",
            "dtype": "f8"
           },
           "yaxis": "y"
          },
          {
           "hovertemplate": "TEAM=%{x}<br>YEAR=2016<br>SEASON_RANK=%{y}<extra></extra>",
           "legendgroup": "Washington",
           "marker": {
            "color": "#19d3f3",
            "pattern": {
             "shape": ""
            }
           },
           "name": "Washington",
           "orientation": "v",
           "showlegend": true,
           "textposition": "auto",
           "type": "bar",
           "x": [
            "Washington"
           ],
           "xaxis": "x",
           "y": {
            "bdata": "AAAAAAAAIkA=",
            "dtype": "f8"
           },
           "yaxis": "y"
          },
          {
           "hovertemplate": "TEAM=%{x}<br>YEAR=2016<br>SEASON_RANK=%{y}<extra></extra>",
           "legendgroup": "L.A. Lakers",
           "marker": {
            "color": "#FF6692",
            "pattern": {
             "shape": ""
            }
           },
           "name": "L.A. Lakers",
           "orientation": "v",
           "showlegend": true,
           "textposition": "auto",
           "type": "bar",
           "x": [
            "L.A. Lakers"
           ],
           "xaxis": "x",
           "y": {
            "bdata": "AAAAAAAAPEA=",
            "dtype": "f8"
           },
           "yaxis": "y"
          },
          {
           "hovertemplate": "TEAM=%{x}<br>YEAR=2016<br>SEASON_RANK=%{y}<extra></extra>",
           "legendgroup": "Chicago",
           "marker": {
            "color": "#B6E880",
            "pattern": {
             "shape": ""
            }
           },
           "name": "Chicago",
           "orientation": "v",
           "showlegend": true,
           "textposition": "auto",
           "type": "bar",
           "x": [
            "Chicago"
           ],
           "xaxis": "x",
           "y": {
            "bdata": "AAAAAAAALkA=",
            "dtype": "f8"
           },
           "yaxis": "y"
          },
          {
           "hovertemplate": "TEAM=%{x}<br>YEAR=2016<br>SEASON_RANK=%{y}<extra></extra>",
           "legendgroup": "Oklahoma City",
           "marker": {
            "color": "#FF97FF",
            "pattern": {
             "shape": ""
            }
           },
           "name": "Oklahoma City",
           "orientation": "v",
           "showlegend": true,
           "textposition": "auto",
           "type": "bar",
           "x": [
            "Oklahoma City"
           ],
           "xaxis": "x",
           "y": {
            "bdata": "AAAAAAAAJEA=",
            "dtype": "f8"
           },
           "yaxis": "y"
          },
          {
           "hovertemplate": "TEAM=%{x}<br>YEAR=2016<br>SEASON_RANK=%{y}<extra></extra>",
           "legendgroup": "Toronto",
           "marker": {
            "color": "#FECB52",
            "pattern": {
             "shape": ""
            }
           },
           "name": "Toronto",
           "orientation": "v",
           "showlegend": true,
           "textposition": "auto",
           "type": "bar",
           "x": [
            "Toronto"
           ],
           "xaxis": "x",
           "y": {
            "bdata": "AAAAAAAAFEA=",
            "dtype": "f8"
           },
           "yaxis": "y"
          },
          {
           "hovertemplate": "TEAM=%{x}<br>YEAR=2016<br>SEASON_RANK=%{y}<extra></extra>",
           "legendgroup": "Golden State",
           "marker": {
            "color": "#636efa",
            "pattern": {
             "shape": ""
            }
           },
           "name": "Golden State",
           "orientation": "v",
           "showlegend": true,
           "textposition": "auto",
           "type": "bar",
           "x": [
            "Golden State"
           ],
           "xaxis": "x",
           "y": {
            "bdata": "AAAAAAAA8D8=",
            "dtype": "f8"
           },
           "yaxis": "y"
          },
          {
           "hovertemplate": "TEAM=%{x}<br>YEAR=2016<br>SEASON_RANK=%{y}<extra></extra>",
           "legendgroup": "Dallas",
           "marker": {
            "color": "#EF553B",
            "pattern": {
             "shape": ""
            }
           },
           "name": "Dallas",
           "orientation": "v",
           "showlegend": true,
           "textposition": "auto",
           "type": "bar",
           "x": [
            "Dallas"
           ],
           "xaxis": "x",
           "y": {
            "bdata": "AAAAAAAANkA=",
            "dtype": "f8"
           },
           "yaxis": "y"
          },
          {
           "hovertemplate": "TEAM=%{x}<br>YEAR=2016<br>SEASON_RANK=%{y}<extra></extra>",
           "legendgroup": "Minnesota",
           "marker": {
            "color": "#00cc96",
            "pattern": {
             "shape": ""
            }
           },
           "name": "Minnesota",
           "orientation": "v",
           "showlegend": true,
           "textposition": "auto",
           "type": "bar",
           "x": [
            "Minnesota"
           ],
           "xaxis": "x",
           "y": {
            "bdata": "AAAAAAAAOEA=",
            "dtype": "f8"
           },
           "yaxis": "y"
          },
          {
           "hovertemplate": "TEAM=%{x}<br>YEAR=2016<br>SEASON_RANK=%{y}<extra></extra>",
           "legendgroup": "Atlanta",
           "marker": {
            "color": "#ab63fa",
            "pattern": {
             "shape": ""
            }
           },
           "name": "Atlanta",
           "orientation": "v",
           "showlegend": true,
           "textposition": "auto",
           "type": "bar",
           "x": [
            "Atlanta"
           ],
           "xaxis": "x",
           "y": {
            "bdata": "AAAAAAAAJkA=",
            "dtype": "f8"
           },
           "yaxis": "y"
          },
          {
           "hovertemplate": "TEAM=%{x}<br>YEAR=2016<br>SEASON_RANK=%{y}<extra></extra>",
           "legendgroup": "Indiana",
           "marker": {
            "color": "#FFA15A",
            "pattern": {
             "shape": ""
            }
           },
           "name": "Indiana",
           "orientation": "v",
           "showlegend": true,
           "textposition": "auto",
           "type": "bar",
           "x": [
            "Indiana"
           ],
           "xaxis": "x",
           "y": {
            "bdata": "AAAAAAAAKkA=",
            "dtype": "f8"
           },
           "yaxis": "y"
          },
          {
           "hovertemplate": "TEAM=%{x}<br>YEAR=2016<br>SEASON_RANK=%{y}<extra></extra>",
           "legendgroup": "Miami",
           "marker": {
            "color": "#19d3f3",
            "pattern": {
             "shape": ""
            }
           },
           "name": "Miami",
           "orientation": "v",
           "showlegend": true,
           "textposition": "auto",
           "type": "bar",
           "x": [
            "Miami"
           ],
           "xaxis": "x",
           "y": {
            "bdata": "AAAAAAAALkA=",
            "dtype": "f8"
           },
           "yaxis": "y"
          },
          {
           "hovertemplate": "TEAM=%{x}<br>YEAR=2016<br>SEASON_RANK=%{y}<extra></extra>",
           "legendgroup": "Portland",
           "marker": {
            "color": "#FF6692",
            "pattern": {
             "shape": ""
            }
           },
           "name": "Portland",
           "orientation": "v",
           "showlegend": true,
           "textposition": "auto",
           "type": "bar",
           "x": [
            "Portland"
           ],
           "xaxis": "x",
           "y": {
            "bdata": "AAAAAAAALkA=",
            "dtype": "f8"
           },
           "yaxis": "y"
          },
          {
           "hovertemplate": "TEAM=%{x}<br>YEAR=2016<br>SEASON_RANK=%{y}<extra></extra>",
           "legendgroup": "Utah",
           "marker": {
            "color": "#B6E880",
            "pattern": {
             "shape": ""
            }
           },
           "name": "Utah",
           "orientation": "v",
           "showlegend": true,
           "textposition": "auto",
           "type": "bar",
           "x": [
            "Utah"
           ],
           "xaxis": "x",
           "y": {
            "bdata": "AAAAAAAAFEA=",
            "dtype": "f8"
           },
           "yaxis": "y"
          },
          {
           "hovertemplate": "TEAM=%{x}<br>YEAR=2016<br>SEASON_RANK=%{y}<extra></extra>",
           "legendgroup": "New York",
           "marker": {
            "color": "#FF97FF",
            "pattern": {
             "shape": ""
            }
           },
           "name": "New York",
           "orientation": "v",
           "showlegend": true,
           "textposition": "auto",
           "type": "bar",
           "x": [
            "New York"
           ],
           "xaxis": "x",
           "y": {
            "bdata": "AAAAAAAAOEA=",
            "dtype": "f8"
           },
           "yaxis": "y"
          },
          {
           "hovertemplate": "TEAM=%{x}<br>YEAR=2016<br>SEASON_RANK=%{y}<extra></extra>",
           "legendgroup": "Sacramento",
           "marker": {
            "color": "#FECB52",
            "pattern": {
             "shape": ""
            }
           },
           "name": "Sacramento",
           "orientation": "v",
           "showlegend": true,
           "textposition": "auto",
           "type": "bar",
           "x": [
            "Sacramento"
           ],
           "xaxis": "x",
           "y": {
            "bdata": "AAAAAAAAN0A=",
            "dtype": "f8"
           },
           "yaxis": "y"
          },
          {
           "hovertemplate": "TEAM=%{x}<br>YEAR=2016<br>SEASON_RANK=%{y}<extra></extra>",
           "legendgroup": "LA Clippers",
           "marker": {
            "color": "#636efa",
            "pattern": {
             "shape": ""
            }
           },
           "name": "LA Clippers",
           "orientation": "v",
           "showlegend": true,
           "textposition": "auto",
           "type": "bar",
           "x": [
            "LA Clippers"
           ],
           "xaxis": "x",
           "y": {
            "bdata": "AAAAAAAAFEA=",
            "dtype": "f8"
           },
           "yaxis": "y"
          },
          {
           "hovertemplate": "TEAM=%{x}<br>YEAR=2016<br>SEASON_RANK=%{y}<extra></extra>",
           "legendgroup": "Phoenix",
           "marker": {
            "color": "#EF553B",
            "pattern": {
             "shape": ""
            }
           },
           "name": "Phoenix",
           "orientation": "v",
           "showlegend": true,
           "textposition": "auto",
           "type": "bar",
           "x": [
            "Phoenix"
           ],
           "xaxis": "x",
           "y": {
            "bdata": "AAAAAAAAPUA=",
            "dtype": "f8"
           },
           "yaxis": "y"
          },
          {
           "hovertemplate": "TEAM=%{x}<br>YEAR=2016<br>SEASON_RANK=%{y}<extra></extra>",
           "legendgroup": "Philadelphia",
           "marker": {
            "color": "#00cc96",
            "pattern": {
             "shape": ""
            }
           },
           "name": "Philadelphia",
           "orientation": "v",
           "showlegend": true,
           "textposition": "auto",
           "type": "bar",
           "x": [
            "Philadelphia"
           ],
           "xaxis": "x",
           "y": {
            "bdata": "AAAAAAAAO0A=",
            "dtype": "f8"
           },
           "yaxis": "y"
          },
          {
           "hovertemplate": "TEAM=%{x}<br>YEAR=2016<br>SEASON_RANK=%{y}<extra></extra>",
           "legendgroup": "New Orleans",
           "marker": {
            "color": "#ab63fa",
            "pattern": {
             "shape": ""
            }
           },
           "name": "New Orleans",
           "orientation": "v",
           "showlegend": true,
           "textposition": "auto",
           "type": "bar",
           "x": [
            "New Orleans"
           ],
           "xaxis": "x",
           "y": {
            "bdata": "AAAAAAAANUA=",
            "dtype": "f8"
           },
           "yaxis": "y"
          },
          {
           "hovertemplate": "TEAM=%{x}<br>YEAR=2016<br>SEASON_RANK=%{y}<extra></extra>",
           "legendgroup": "Brooklyn",
           "marker": {
            "color": "#FFA15A",
            "pattern": {
             "shape": ""
            }
           },
           "name": "Brooklyn",
           "orientation": "v",
           "showlegend": true,
           "textposition": "auto",
           "type": "bar",
           "x": [
            "Brooklyn"
           ],
           "xaxis": "x",
           "y": {
            "bdata": "AAAAAAAAPkA=",
            "dtype": "f8"
           },
           "yaxis": "y"
          },
          {
           "hovertemplate": "TEAM=%{x}<br>YEAR=2016<br>SEASON_RANK=%{y}<extra></extra>",
           "legendgroup": "Denver",
           "marker": {
            "color": "#19d3f3",
            "pattern": {
             "shape": ""
            }
           },
           "name": "Denver",
           "orientation": "v",
           "showlegend": true,
           "textposition": "auto",
           "type": "bar",
           "x": [
            "Denver"
           ],
           "xaxis": "x",
           "y": {
            "bdata": "AAAAAAAAMkA=",
            "dtype": "f8"
           },
           "yaxis": "y"
          },
          {
           "hovertemplate": "TEAM=%{x}<br>YEAR=2016<br>SEASON_RANK=%{y}<extra></extra>",
           "legendgroup": "Memphis",
           "marker": {
            "color": "#FF6692",
            "pattern": {
             "shape": ""
            }
           },
           "name": "Memphis",
           "orientation": "v",
           "showlegend": true,
           "textposition": "auto",
           "type": "bar",
           "x": [
            "Memphis"
           ],
           "xaxis": "x",
           "y": {
            "bdata": "AAAAAAAAJkA=",
            "dtype": "f8"
           },
           "yaxis": "y"
          },
          {
           "hovertemplate": "TEAM=%{x}<br>YEAR=2016<br>SEASON_RANK=%{y}<extra></extra>",
           "legendgroup": "Cleveland",
           "marker": {
            "color": "#B6E880",
            "pattern": {
             "shape": ""
            }
           },
           "name": "Cleveland",
           "orientation": "v",
           "showlegend": true,
           "textposition": "auto",
           "type": "bar",
           "x": [
            "Cleveland"
           ],
           "xaxis": "x",
           "y": {
            "bdata": "AAAAAAAAFEA=",
            "dtype": "f8"
           },
           "yaxis": "y"
          },
          {
           "hovertemplate": "TEAM=%{x}<br>YEAR=2016<br>SEASON_RANK=%{y}<extra></extra>",
           "legendgroup": "Boston",
           "marker": {
            "color": "#FF97FF",
            "pattern": {
             "shape": ""
            }
           },
           "name": "Boston",
           "orientation": "v",
           "showlegend": true,
           "textposition": "auto",
           "type": "bar",
           "x": [
            "Boston"
           ],
           "xaxis": "x",
           "y": {
            "bdata": "AAAAAAAAEEA=",
            "dtype": "f8"
           },
           "yaxis": "y"
          },
          {
           "hovertemplate": "TEAM=%{x}<br>YEAR=2016<br>SEASON_RANK=%{y}<extra></extra>",
           "legendgroup": "Milwaukee",
           "marker": {
            "color": "#FECB52",
            "pattern": {
             "shape": ""
            }
           },
           "name": "Milwaukee",
           "orientation": "v",
           "showlegend": true,
           "textposition": "auto",
           "type": "bar",
           "x": [
            "Milwaukee"
           ],
           "xaxis": "x",
           "y": {
            "bdata": "AAAAAAAAKkA=",
            "dtype": "f8"
           },
           "yaxis": "y"
          }
         ],
         "name": "2016"
        },
        {
         "data": [
          {
           "hovertemplate": "TEAM=%{x}<br>YEAR=2017<br>SEASON_RANK=%{y}<extra></extra>",
           "legendgroup": "Detroit",
           "marker": {
            "color": "#636efa",
            "pattern": {
             "shape": ""
            }
           },
           "name": "Detroit",
           "orientation": "v",
           "showlegend": true,
           "textposition": "auto",
           "type": "bar",
           "x": [
            "Detroit"
           ],
           "xaxis": "x",
           "y": {
            "bdata": "AAAAAAAAM0A=",
            "dtype": "f8"
           },
           "yaxis": "y"
          },
          {
           "hovertemplate": "TEAM=%{x}<br>YEAR=2017<br>SEASON_RANK=%{y}<extra></extra>",
           "legendgroup": "Charlotte",
           "marker": {
            "color": "#EF553B",
            "pattern": {
             "shape": ""
            }
           },
           "name": "Charlotte",
           "orientation": "v",
           "showlegend": true,
           "textposition": "auto",
           "type": "bar",
           "x": [
            "Charlotte"
           ],
           "xaxis": "x",
           "y": {
            "bdata": "AAAAAAAANEA=",
            "dtype": "f8"
           },
           "yaxis": "y"
          },
          {
           "hovertemplate": "TEAM=%{x}<br>YEAR=2017<br>SEASON_RANK=%{y}<extra></extra>",
           "legendgroup": "Houston",
           "marker": {
            "color": "#00cc96",
            "pattern": {
             "shape": ""
            }
           },
           "name": "Houston",
           "orientation": "v",
           "showlegend": true,
           "textposition": "auto",
           "type": "bar",
           "x": [
            "Houston"
           ],
           "xaxis": "x",
           "y": {
            "bdata": "AAAAAAAA8D8=",
            "dtype": "f8"
           },
           "yaxis": "y"
          },
          {
           "hovertemplate": "TEAM=%{x}<br>YEAR=2017<br>SEASON_RANK=%{y}<extra></extra>",
           "legendgroup": "San Antonio",
           "marker": {
            "color": "#ab63fa",
            "pattern": {
             "shape": ""
            }
           },
           "name": "San Antonio",
           "orientation": "v",
           "showlegend": true,
           "textposition": "auto",
           "type": "bar",
           "x": [
            "San Antonio"
           ],
           "xaxis": "x",
           "y": {
            "bdata": "AAAAAAAAKEA=",
            "dtype": "f8"
           },
           "yaxis": "y"
          },
          {
           "hovertemplate": "TEAM=%{x}<br>YEAR=2017<br>SEASON_RANK=%{y}<extra></extra>",
           "legendgroup": "Orlando",
           "marker": {
            "color": "#FFA15A",
            "pattern": {
             "shape": ""
            }
           },
           "name": "Orlando",
           "orientation": "v",
           "showlegend": true,
           "textposition": "auto",
           "type": "bar",
           "x": [
            "Orlando"
           ],
           "xaxis": "x",
           "y": {
            "bdata": "AAAAAAAAOkA=",
            "dtype": "f8"
           },
           "yaxis": "y"
          },
          {
           "hovertemplate": "TEAM=%{x}<br>YEAR=2017<br>SEASON_RANK=%{y}<extra></extra>",
           "legendgroup": "Washington",
           "marker": {
            "color": "#19d3f3",
            "pattern": {
             "shape": ""
            }
           },
           "name": "Washington",
           "orientation": "v",
           "showlegend": true,
           "textposition": "auto",
           "type": "bar",
           "x": [
            "Washington"
           ],
           "xaxis": "x",
           "y": {
            "bdata": "AAAAAAAAMUA=",
            "dtype": "f8"
           },
           "yaxis": "y"
          },
          {
           "hovertemplate": "TEAM=%{x}<br>YEAR=2017<br>SEASON_RANK=%{y}<extra></extra>",
           "legendgroup": "L.A. Lakers",
           "marker": {
            "color": "#FF6692",
            "pattern": {
             "shape": ""
            }
           },
           "name": "L.A. Lakers",
           "orientation": "v",
           "showlegend": true,
           "textposition": "auto",
           "type": "bar",
           "x": [
            "L.A. Lakers"
           ],
           "xaxis": "x",
           "y": {
            "bdata": "AAAAAAAANUA=",
            "dtype": "f8"
           },
           "yaxis": "y"
          },
          {
           "hovertemplate": "TEAM=%{x}<br>YEAR=2017<br>SEASON_RANK=%{y}<extra></extra>",
           "legendgroup": "Chicago",
           "marker": {
            "color": "#B6E880",
            "pattern": {
             "shape": ""
            }
           },
           "name": "Chicago",
           "orientation": "v",
           "showlegend": true,
           "textposition": "auto",
           "type": "bar",
           "x": [
            "Chicago"
           ],
           "xaxis": "x",
           "y": {
            "bdata": "AAAAAAAAOEA=",
            "dtype": "f8"
           },
           "yaxis": "y"
          },
          {
           "hovertemplate": "TEAM=%{x}<br>YEAR=2017<br>SEASON_RANK=%{y}<extra></extra>",
           "legendgroup": "Oklahoma City",
           "marker": {
            "color": "#FF97FF",
            "pattern": {
             "shape": ""
            }
           },
           "name": "Oklahoma City",
           "orientation": "v",
           "showlegend": true,
           "textposition": "auto",
           "type": "bar",
           "x": [
            "Oklahoma City"
           ],
           "xaxis": "x",
           "y": {
            "bdata": "AAAAAAAAIEA=",
            "dtype": "f8"
           },
           "yaxis": "y"
          },
          {
           "hovertemplate": "TEAM=%{x}<br>YEAR=2017<br>SEASON_RANK=%{y}<extra></extra>",
           "legendgroup": "Toronto",
           "marker": {
            "color": "#FECB52",
            "pattern": {
             "shape": ""
            }
           },
           "name": "Toronto",
           "orientation": "v",
           "showlegend": true,
           "textposition": "auto",
           "type": "bar",
           "x": [
            "Toronto"
           ],
           "xaxis": "x",
           "y": {
            "bdata": "AAAAAAAAAEA=",
            "dtype": "f8"
           },
           "yaxis": "y"
          },
          {
           "hovertemplate": "TEAM=%{x}<br>YEAR=2017<br>SEASON_RANK=%{y}<extra></extra>",
           "legendgroup": "Golden State",
           "marker": {
            "color": "#636efa",
            "pattern": {
             "shape": ""
            }
           },
           "name": "Golden State",
           "orientation": "v",
           "showlegend": true,
           "textposition": "auto",
           "type": "bar",
           "x": [
            "Golden State"
           ],
           "xaxis": "x",
           "y": {
            "bdata": "AAAAAAAACEA=",
            "dtype": "f8"
           },
           "yaxis": "y"
          },
          {
           "hovertemplate": "TEAM=%{x}<br>YEAR=2017<br>SEASON_RANK=%{y}<extra></extra>",
           "legendgroup": "Dallas",
           "marker": {
            "color": "#EF553B",
            "pattern": {
             "shape": ""
            }
           },
           "name": "Dallas",
           "orientation": "v",
           "showlegend": true,
           "textposition": "auto",
           "type": "bar",
           "x": [
            "Dallas"
           ],
           "xaxis": "x",
           "y": {
            "bdata": "AAAAAAAAO0A=",
            "dtype": "f8"
           },
           "yaxis": "y"
          },
          {
           "hovertemplate": "TEAM=%{x}<br>YEAR=2017<br>SEASON_RANK=%{y}<extra></extra>",
           "legendgroup": "Minnesota",
           "marker": {
            "color": "#00cc96",
            "pattern": {
             "shape": ""
            }
           },
           "name": "Minnesota",
           "orientation": "v",
           "showlegend": true,
           "textposition": "auto",
           "type": "bar",
           "x": [
            "Minnesota"
           ],
           "xaxis": "x",
           "y": {
            "bdata": "AAAAAAAAKEA=",
            "dtype": "f8"
           },
           "yaxis": "y"
          },
          {
           "hovertemplate": "TEAM=%{x}<br>YEAR=2017<br>SEASON_RANK=%{y}<extra></extra>",
           "legendgroup": "Atlanta",
           "marker": {
            "color": "#ab63fa",
            "pattern": {
             "shape": ""
            }
           },
           "name": "Atlanta",
           "orientation": "v",
           "showlegend": true,
           "textposition": "auto",
           "type": "bar",
           "x": [
            "Atlanta"
           ],
           "xaxis": "x",
           "y": {
            "bdata": "AAAAAAAAO0A=",
            "dtype": "f8"
           },
           "yaxis": "y"
          },
          {
           "hovertemplate": "TEAM=%{x}<br>YEAR=2017<br>SEASON_RANK=%{y}<extra></extra>",
           "legendgroup": "Indiana",
           "marker": {
            "color": "#FFA15A",
            "pattern": {
             "shape": ""
            }
           },
           "name": "Indiana",
           "orientation": "v",
           "showlegend": true,
           "textposition": "auto",
           "type": "bar",
           "x": [
            "Indiana"
           ],
           "xaxis": "x",
           "y": {
            "bdata": "AAAAAAAAIEA=",
            "dtype": "f8"
           },
           "yaxis": "y"
          },
          {
           "hovertemplate": "TEAM=%{x}<br>YEAR=2017<br>SEASON_RANK=%{y}<extra></extra>",
           "legendgroup": "Miami",
           "marker": {
            "color": "#19d3f3",
            "pattern": {
             "shape": ""
            }
           },
           "name": "Miami",
           "orientation": "v",
           "showlegend": true,
           "textposition": "auto",
           "type": "bar",
           "x": [
            "Miami"
           ],
           "xaxis": "x",
           "y": {
            "bdata": "AAAAAAAALkA=",
            "dtype": "f8"
           },
           "yaxis": "y"
          },
          {
           "hovertemplate": "TEAM=%{x}<br>YEAR=2017<br>SEASON_RANK=%{y}<extra></extra>",
           "legendgroup": "Portland",
           "marker": {
            "color": "#FF6692",
            "pattern": {
             "shape": ""
            }
           },
           "name": "Portland",
           "orientation": "v",
           "showlegend": true,
           "textposition": "auto",
           "type": "bar",
           "x": [
            "Portland"
           ],
           "xaxis": "x",
           "y": {
            "bdata": "AAAAAAAAHEA=",
            "dtype": "f8"
           },
           "yaxis": "y"
          },
          {
           "hovertemplate": "TEAM=%{x}<br>YEAR=2017<br>SEASON_RANK=%{y}<extra></extra>",
           "legendgroup": "Utah",
           "marker": {
            "color": "#B6E880",
            "pattern": {
             "shape": ""
            }
           },
           "name": "Utah",
           "orientation": "v",
           "showlegend": true,
           "textposition": "auto",
           "type": "bar",
           "x": [
            "Utah"
           ],
           "xaxis": "x",
           "y": {
            "bdata": "AAAAAAAAIEA=",
            "dtype": "f8"
           },
           "yaxis": "y"
          },
          {
           "hovertemplate": "TEAM=%{x}<br>YEAR=2017<br>SEASON_RANK=%{y}<extra></extra>",
           "legendgroup": "New York",
           "marker": {
            "color": "#FF97FF",
            "pattern": {
             "shape": ""
            }
           },
           "name": "New York",
           "orientation": "v",
           "showlegend": true,
           "textposition": "auto",
           "type": "bar",
           "x": [
            "New York"
           ],
           "xaxis": "x",
           "y": {
            "bdata": "AAAAAAAANkA=",
            "dtype": "f8"
           },
           "yaxis": "y"
          },
          {
           "hovertemplate": "TEAM=%{x}<br>YEAR=2017<br>SEASON_RANK=%{y}<extra></extra>",
           "legendgroup": "Sacramento",
           "marker": {
            "color": "#FECB52",
            "pattern": {
             "shape": ""
            }
           },
           "name": "Sacramento",
           "orientation": "v",
           "showlegend": true,
           "textposition": "auto",
           "type": "bar",
           "x": [
            "Sacramento"
           ],
           "xaxis": "x",
           "y": {
            "bdata": "AAAAAAAAOEA=",
            "dtype": "f8"
           },
           "yaxis": "y"
          },
          {
           "hovertemplate": "TEAM=%{x}<br>YEAR=2017<br>SEASON_RANK=%{y}<extra></extra>",
           "legendgroup": "LA Clippers",
           "marker": {
            "color": "#636efa",
            "pattern": {
             "shape": ""
            }
           },
           "name": "LA Clippers",
           "orientation": "v",
           "showlegend": true,
           "textposition": "auto",
           "type": "bar",
           "x": [
            "LA Clippers"
           ],
           "xaxis": "x",
           "y": {
            "bdata": "AAAAAAAAMkA=",
            "dtype": "f8"
           },
           "yaxis": "y"
          },
          {
           "hovertemplate": "TEAM=%{x}<br>YEAR=2017<br>SEASON_RANK=%{y}<extra></extra>",
           "legendgroup": "Phoenix",
           "marker": {
            "color": "#EF553B",
            "pattern": {
             "shape": ""
            }
           },
           "name": "Phoenix",
           "orientation": "v",
           "showlegend": true,
           "textposition": "auto",
           "type": "bar",
           "x": [
            "Phoenix"
           ],
           "xaxis": "x",
           "y": {
            "bdata": "AAAAAAAAPkA=",
            "dtype": "f8"
           },
           "yaxis": "y"
          },
          {
           "hovertemplate": "TEAM=%{x}<br>YEAR=2017<br>SEASON_RANK=%{y}<extra></extra>",
           "legendgroup": "Philadelphia",
           "marker": {
            "color": "#00cc96",
            "pattern": {
             "shape": ""
            }
           },
           "name": "Philadelphia",
           "orientation": "v",
           "showlegend": true,
           "textposition": "auto",
           "type": "bar",
           "x": [
            "Philadelphia"
           ],
           "xaxis": "x",
           "y": {
            "bdata": "AAAAAAAAFEA=",
            "dtype": "f8"
           },
           "yaxis": "y"
          },
          {
           "hovertemplate": "TEAM=%{x}<br>YEAR=2017<br>SEASON_RANK=%{y}<extra></extra>",
           "legendgroup": "New Orleans",
           "marker": {
            "color": "#ab63fa",
            "pattern": {
             "shape": ""
            }
           },
           "name": "New Orleans",
           "orientation": "v",
           "showlegend": true,
           "textposition": "auto",
           "type": "bar",
           "x": [
            "New Orleans"
           ],
           "xaxis": "x",
           "y": {
            "bdata": "AAAAAAAAIEA=",
            "dtype": "f8"
           },
           "yaxis": "y"
          },
          {
           "hovertemplate": "TEAM=%{x}<br>YEAR=2017<br>SEASON_RANK=%{y}<extra></extra>",
           "legendgroup": "Brooklyn",
           "marker": {
            "color": "#FFA15A",
            "pattern": {
             "shape": ""
            }
           },
           "name": "Brooklyn",
           "orientation": "v",
           "showlegend": true,
           "textposition": "auto",
           "type": "bar",
           "x": [
            "Brooklyn"
           ],
           "xaxis": "x",
           "y": {
            "bdata": "AAAAAAAAN0A=",
            "dtype": "f8"
           },
           "yaxis": "y"
          },
          {
           "hovertemplate": "TEAM=%{x}<br>YEAR=2017<br>SEASON_RANK=%{y}<extra></extra>",
           "legendgroup": "Denver",
           "marker": {
            "color": "#19d3f3",
            "pattern": {
             "shape": ""
            }
           },
           "name": "Denver",
           "orientation": "v",
           "showlegend": true,
           "textposition": "auto",
           "type": "bar",
           "x": [
            "Denver"
           ],
           "xaxis": "x",
           "y": {
            "bdata": "AAAAAAAALEA=",
            "dtype": "f8"
           },
           "yaxis": "y"
          },
          {
           "hovertemplate": "TEAM=%{x}<br>YEAR=2017<br>SEASON_RANK=%{y}<extra></extra>",
           "legendgroup": "Memphis",
           "marker": {
            "color": "#FF6692",
            "pattern": {
             "shape": ""
            }
           },
           "name": "Memphis",
           "orientation": "v",
           "showlegend": true,
           "textposition": "auto",
           "type": "bar",
           "x": [
            "Memphis"
           ],
           "xaxis": "x",
           "y": {
            "bdata": "AAAAAAAAPUA=",
            "dtype": "f8"
           },
           "yaxis": "y"
          },
          {
           "hovertemplate": "TEAM=%{x}<br>YEAR=2017<br>SEASON_RANK=%{y}<extra></extra>",
           "legendgroup": "Cleveland",
           "marker": {
            "color": "#B6E880",
            "pattern": {
             "shape": ""
            }
           },
           "name": "Cleveland",
           "orientation": "v",
           "showlegend": true,
           "textposition": "auto",
           "type": "bar",
           "x": [
            "Cleveland"
           ],
           "xaxis": "x",
           "y": {
            "bdata": "AAAAAAAAGEA=",
            "dtype": "f8"
           },
           "yaxis": "y"
          },
          {
           "hovertemplate": "TEAM=%{x}<br>YEAR=2017<br>SEASON_RANK=%{y}<extra></extra>",
           "legendgroup": "Boston",
           "marker": {
            "color": "#FF97FF",
            "pattern": {
             "shape": ""
            }
           },
           "name": "Boston",
           "orientation": "v",
           "showlegend": true,
           "textposition": "auto",
           "type": "bar",
           "x": [
            "Boston"
           ],
           "xaxis": "x",
           "y": {
            "bdata": "AAAAAAAAEEA=",
            "dtype": "f8"
           },
           "yaxis": "y"
          },
          {
           "hovertemplate": "TEAM=%{x}<br>YEAR=2017<br>SEASON_RANK=%{y}<extra></extra>",
           "legendgroup": "Milwaukee",
           "marker": {
            "color": "#FECB52",
            "pattern": {
             "shape": ""
            }
           },
           "name": "Milwaukee",
           "orientation": "v",
           "showlegend": true,
           "textposition": "auto",
           "type": "bar",
           "x": [
            "Milwaukee"
           ],
           "xaxis": "x",
           "y": {
            "bdata": "AAAAAAAALkA=",
            "dtype": "f8"
           },
           "yaxis": "y"
          }
         ],
         "name": "2017"
        },
        {
         "data": [
          {
           "hovertemplate": "TEAM=%{x}<br>YEAR=2018<br>SEASON_RANK=%{y}<extra></extra>",
           "legendgroup": "Detroit",
           "marker": {
            "color": "#636efa",
            "pattern": {
             "shape": ""
            }
           },
           "name": "Detroit",
           "orientation": "v",
           "showlegend": true,
           "textposition": "auto",
           "type": "bar",
           "x": [
            "Detroit"
           ],
           "xaxis": "x",
           "y": {
            "bdata": "AAAAAAAAMEA=",
            "dtype": "f8"
           },
           "yaxis": "y"
          },
          {
           "hovertemplate": "TEAM=%{x}<br>YEAR=2018<br>SEASON_RANK=%{y}<extra></extra>",
           "legendgroup": "Charlotte",
           "marker": {
            "color": "#EF553B",
            "pattern": {
             "shape": ""
            }
           },
           "name": "Charlotte",
           "orientation": "v",
           "showlegend": true,
           "textposition": "auto",
           "type": "bar",
           "x": [
            "Charlotte"
           ],
           "xaxis": "x",
           "y": {
            "bdata": "AAAAAAAAMUA=",
            "dtype": "f8"
           },
           "yaxis": "y"
          },
          {
           "hovertemplate": "TEAM=%{x}<br>YEAR=2018<br>SEASON_RANK=%{y}<extra></extra>",
           "legendgroup": "Houston",
           "marker": {
            "color": "#00cc96",
            "pattern": {
             "shape": ""
            }
           },
           "name": "Houston",
           "orientation": "v",
           "showlegend": true,
           "textposition": "auto",
           "type": "bar",
           "x": [
            "Houston"
           ],
           "xaxis": "x",
           "y": {
            "bdata": "AAAAAAAAFEA=",
            "dtype": "f8"
           },
           "yaxis": "y"
          },
          {
           "hovertemplate": "TEAM=%{x}<br>YEAR=2018<br>SEASON_RANK=%{y}<extra></extra>",
           "legendgroup": "San Antonio",
           "marker": {
            "color": "#ab63fa",
            "pattern": {
             "shape": ""
            }
           },
           "name": "San Antonio",
           "orientation": "v",
           "showlegend": true,
           "textposition": "auto",
           "type": "bar",
           "x": [
            "San Antonio"
           ],
           "xaxis": "x",
           "y": {
            "bdata": "AAAAAAAAJkA=",
            "dtype": "f8"
           },
           "yaxis": "y"
          },
          {
           "hovertemplate": "TEAM=%{x}<br>YEAR=2018<br>SEASON_RANK=%{y}<extra></extra>",
           "legendgroup": "Orlando",
           "marker": {
            "color": "#FFA15A",
            "pattern": {
             "shape": ""
            }
           },
           "name": "Orlando",
           "orientation": "v",
           "showlegend": true,
           "textposition": "auto",
           "type": "bar",
           "x": [
            "Orlando"
           ],
           "xaxis": "x",
           "y": {
            "bdata": "AAAAAAAALEA=",
            "dtype": "f8"
           },
           "yaxis": "y"
          },
          {
           "hovertemplate": "TEAM=%{x}<br>YEAR=2018<br>SEASON_RANK=%{y}<extra></extra>",
           "legendgroup": "Washington",
           "marker": {
            "color": "#19d3f3",
            "pattern": {
             "shape": ""
            }
           },
           "name": "Washington",
           "orientation": "v",
           "showlegend": true,
           "textposition": "auto",
           "type": "bar",
           "x": [
            "Washington"
           ],
           "xaxis": "x",
           "y": {
            "bdata": "AAAAAAAAOUA=",
            "dtype": "f8"
           },
           "yaxis": "y"
          },
          {
           "hovertemplate": "TEAM=%{x}<br>YEAR=2018<br>SEASON_RANK=%{y}<extra></extra>",
           "legendgroup": "L.A. Lakers",
           "marker": {
            "color": "#FF6692",
            "pattern": {
             "shape": ""
            }
           },
           "name": "L.A. Lakers",
           "orientation": "v",
           "showlegend": true,
           "textposition": "auto",
           "type": "bar",
           "x": [
            "L.A. Lakers"
           ],
           "xaxis": "x",
           "y": {
            "bdata": "AAAAAAAANEA=",
            "dtype": "f8"
           },
           "yaxis": "y"
          },
          {
           "hovertemplate": "TEAM=%{x}<br>YEAR=2018<br>SEASON_RANK=%{y}<extra></extra>",
           "legendgroup": "Chicago",
           "marker": {
            "color": "#B6E880",
            "pattern": {
             "shape": ""
            }
           },
           "name": "Chicago",
           "orientation": "v",
           "showlegend": true,
           "textposition": "auto",
           "type": "bar",
           "x": [
            "Chicago"
           ],
           "xaxis": "x",
           "y": {
            "bdata": "AAAAAAAAO0A=",
            "dtype": "f8"
           },
           "yaxis": "y"
          },
          {
           "hovertemplate": "TEAM=%{x}<br>YEAR=2018<br>SEASON_RANK=%{y}<extra></extra>",
           "legendgroup": "Oklahoma City",
           "marker": {
            "color": "#FF97FF",
            "pattern": {
             "shape": ""
            }
           },
           "name": "Oklahoma City",
           "orientation": "v",
           "showlegend": true,
           "textposition": "auto",
           "type": "bar",
           "x": [
            "Oklahoma City"
           ],
           "xaxis": "x",
           "y": {
            "bdata": "AAAAAAAAIkA=",
            "dtype": "f8"
           },
           "yaxis": "y"
          },
          {
           "hovertemplate": "TEAM=%{x}<br>YEAR=2018<br>SEASON_RANK=%{y}<extra></extra>",
           "legendgroup": "Toronto",
           "marker": {
            "color": "#FECB52",
            "pattern": {
             "shape": ""
            }
           },
           "name": "Toronto",
           "orientation": "v",
           "showlegend": true,
           "textposition": "auto",
           "type": "bar",
           "x": [
            "Toronto"
           ],
           "xaxis": "x",
           "y": {
            "bdata": "AAAAAAAAAEA=",
            "dtype": "f8"
           },
           "yaxis": "y"
          },
          {
           "hovertemplate": "TEAM=%{x}<br>YEAR=2018<br>SEASON_RANK=%{y}<extra></extra>",
           "legendgroup": "Golden State",
           "marker": {
            "color": "#636efa",
            "pattern": {
             "shape": ""
            }
           },
           "name": "Golden State",
           "orientation": "v",
           "showlegend": true,
           "textposition": "auto",
           "type": "bar",
           "x": [
            "Golden State"
           ],
           "xaxis": "x",
           "y": {
            "bdata": "AAAAAAAACEA=",
            "dtype": "f8"
           },
           "yaxis": "y"
          },
          {
           "hovertemplate": "TEAM=%{x}<br>YEAR=2018<br>SEASON_RANK=%{y}<extra></extra>",
           "legendgroup": "Dallas",
           "marker": {
            "color": "#EF553B",
            "pattern": {
             "shape": ""
            }
           },
           "name": "Dallas",
           "orientation": "v",
           "showlegend": true,
           "textposition": "auto",
           "type": "bar",
           "x": [
            "Dallas"
           ],
           "xaxis": "x",
           "y": {
            "bdata": "AAAAAAAANkA=",
            "dtype": "f8"
           },
           "yaxis": "y"
          },
          {
           "hovertemplate": "TEAM=%{x}<br>YEAR=2018<br>SEASON_RANK=%{y}<extra></extra>",
           "legendgroup": "Minnesota",
           "marker": {
            "color": "#00cc96",
            "pattern": {
             "shape": ""
            }
           },
           "name": "Minnesota",
           "orientation": "v",
           "showlegend": true,
           "textposition": "auto",
           "type": "bar",
           "x": [
            "Minnesota"
           ],
           "xaxis": "x",
           "y": {
            "bdata": "AAAAAAAANUA=",
            "dtype": "f8"
           },
           "yaxis": "y"
          },
          {
           "hovertemplate": "TEAM=%{x}<br>YEAR=2018<br>SEASON_RANK=%{y}<extra></extra>",
           "legendgroup": "Atlanta",
           "marker": {
            "color": "#ab63fa",
            "pattern": {
             "shape": ""
            }
           },
           "name": "Atlanta",
           "orientation": "v",
           "showlegend": true,
           "textposition": "auto",
           "type": "bar",
           "x": [
            "Atlanta"
           ],
           "xaxis": "x",
           "y": {
            "bdata": "AAAAAAAAOkA=",
            "dtype": "f8"
           },
           "yaxis": "y"
          },
          {
           "hovertemplate": "TEAM=%{x}<br>YEAR=2018<br>SEASON_RANK=%{y}<extra></extra>",
           "legendgroup": "Indiana",
           "marker": {
            "color": "#FFA15A",
            "pattern": {
             "shape": ""
            }
           },
           "name": "Indiana",
           "orientation": "v",
           "showlegend": true,
           "textposition": "auto",
           "type": "bar",
           "x": [
            "Indiana"
           ],
           "xaxis": "x",
           "y": {
            "bdata": "AAAAAAAAJkA=",
            "dtype": "f8"
           },
           "yaxis": "y"
          },
          {
           "hovertemplate": "TEAM=%{x}<br>YEAR=2018<br>SEASON_RANK=%{y}<extra></extra>",
           "legendgroup": "Miami",
           "marker": {
            "color": "#19d3f3",
            "pattern": {
             "shape": ""
            }
           },
           "name": "Miami",
           "orientation": "v",
           "showlegend": true,
           "textposition": "auto",
           "type": "bar",
           "x": [
            "Miami"
           ],
           "xaxis": "x",
           "y": {
            "bdata": "AAAAAAAAMUA=",
            "dtype": "f8"
           },
           "yaxis": "y"
          },
          {
           "hovertemplate": "TEAM=%{x}<br>YEAR=2018<br>SEASON_RANK=%{y}<extra></extra>",
           "legendgroup": "Portland",
           "marker": {
            "color": "#FF6692",
            "pattern": {
             "shape": ""
            }
           },
           "name": "Portland",
           "orientation": "v",
           "showlegend": true,
           "textposition": "auto",
           "type": "bar",
           "x": [
            "Portland"
           ],
           "xaxis": "x",
           "y": {
            "bdata": "AAAAAAAAFEA=",
            "dtype": "f8"
           },
           "yaxis": "y"
          },
          {
           "hovertemplate": "TEAM=%{x}<br>YEAR=2018<br>SEASON_RANK=%{y}<extra></extra>",
           "legendgroup": "Utah",
           "marker": {
            "color": "#B6E880",
            "pattern": {
             "shape": ""
            }
           },
           "name": "Utah",
           "orientation": "v",
           "showlegend": true,
           "textposition": "auto",
           "type": "bar",
           "x": [
            "Utah"
           ],
           "xaxis": "x",
           "y": {
            "bdata": "AAAAAAAAIEA=",
            "dtype": "f8"
           },
           "yaxis": "y"
          },
          {
           "hovertemplate": "TEAM=%{x}<br>YEAR=2018<br>SEASON_RANK=%{y}<extra></extra>",
           "legendgroup": "New York",
           "marker": {
            "color": "#FF97FF",
            "pattern": {
             "shape": ""
            }
           },
           "name": "New York",
           "orientation": "v",
           "showlegend": true,
           "textposition": "auto",
           "type": "bar",
           "x": [
            "New York"
           ],
           "xaxis": "x",
           "y": {
            "bdata": "AAAAAAAAPkA=",
            "dtype": "f8"
           },
           "yaxis": "y"
          },
          {
           "hovertemplate": "TEAM=%{x}<br>YEAR=2018<br>SEASON_RANK=%{y}<extra></extra>",
           "legendgroup": "Sacramento",
           "marker": {
            "color": "#FECB52",
            "pattern": {
             "shape": ""
            }
           },
           "name": "Sacramento",
           "orientation": "v",
           "showlegend": true,
           "textposition": "auto",
           "type": "bar",
           "x": [
            "Sacramento"
           ],
           "xaxis": "x",
           "y": {
            "bdata": "AAAAAAAAMUA=",
            "dtype": "f8"
           },
           "yaxis": "y"
          },
          {
           "hovertemplate": "TEAM=%{x}<br>YEAR=2018<br>SEASON_RANK=%{y}<extra></extra>",
           "legendgroup": "LA Clippers",
           "marker": {
            "color": "#636efa",
            "pattern": {
             "shape": ""
            }
           },
           "name": "LA Clippers",
           "orientation": "v",
           "showlegend": true,
           "textposition": "auto",
           "type": "bar",
           "x": [
            "LA Clippers"
           ],
           "xaxis": "x",
           "y": {
            "bdata": "AAAAAAAAJkA=",
            "dtype": "f8"
           },
           "yaxis": "y"
          },
          {
           "hovertemplate": "TEAM=%{x}<br>YEAR=2018<br>SEASON_RANK=%{y}<extra></extra>",
           "legendgroup": "Phoenix",
           "marker": {
            "color": "#EF553B",
            "pattern": {
             "shape": ""
            }
           },
           "name": "Phoenix",
           "orientation": "v",
           "showlegend": true,
           "textposition": "auto",
           "type": "bar",
           "x": [
            "Phoenix"
           ],
           "xaxis": "x",
           "y": {
            "bdata": "AAAAAAAAPEA=",
            "dtype": "f8"
           },
           "yaxis": "y"
          },
          {
           "hovertemplate": "TEAM=%{x}<br>YEAR=2018<br>SEASON_RANK=%{y}<extra></extra>",
           "legendgroup": "Philadelphia",
           "marker": {
            "color": "#00cc96",
            "pattern": {
             "shape": ""
            }
           },
           "name": "Philadelphia",
           "orientation": "v",
           "showlegend": true,
           "textposition": "auto",
           "type": "bar",
           "x": [
            "Philadelphia"
           ],
           "xaxis": "x",
           "y": {
            "bdata": "AAAAAAAAHEA=",
            "dtype": "f8"
           },
           "yaxis": "y"
          },
          {
           "hovertemplate": "TEAM=%{x}<br>YEAR=2018<br>SEASON_RANK=%{y}<extra></extra>",
           "legendgroup": "New Orleans",
           "marker": {
            "color": "#ab63fa",
            "pattern": {
             "shape": ""
            }
           },
           "name": "New Orleans",
           "orientation": "v",
           "showlegend": true,
           "textposition": "auto",
           "type": "bar",
           "x": [
            "New Orleans"
           ],
           "xaxis": "x",
           "y": {
            "bdata": "AAAAAAAANkA=",
            "dtype": "f8"
           },
           "yaxis": "y"
          },
          {
           "hovertemplate": "TEAM=%{x}<br>YEAR=2018<br>SEASON_RANK=%{y}<extra></extra>",
           "legendgroup": "Brooklyn",
           "marker": {
            "color": "#FFA15A",
            "pattern": {
             "shape": ""
            }
           },
           "name": "Brooklyn",
           "orientation": "v",
           "showlegend": true,
           "textposition": "auto",
           "type": "bar",
           "x": [
            "Brooklyn"
           ],
           "xaxis": "x",
           "y": {
            "bdata": "AAAAAAAALEA=",
            "dtype": "f8"
           },
           "yaxis": "y"
          },
          {
           "hovertemplate": "TEAM=%{x}<br>YEAR=2018<br>SEASON_RANK=%{y}<extra></extra>",
           "legendgroup": "Denver",
           "marker": {
            "color": "#19d3f3",
            "pattern": {
             "shape": ""
            }
           },
           "name": "Denver",
           "orientation": "v",
           "showlegend": true,
           "textposition": "auto",
           "type": "bar",
           "x": [
            "Denver"
           ],
           "xaxis": "x",
           "y": {
            "bdata": "AAAAAAAAEEA=",
            "dtype": "f8"
           },
           "yaxis": "y"
          },
          {
           "hovertemplate": "TEAM=%{x}<br>YEAR=2018<br>SEASON_RANK=%{y}<extra></extra>",
           "legendgroup": "Memphis",
           "marker": {
            "color": "#FF6692",
            "pattern": {
             "shape": ""
            }
           },
           "name": "Memphis",
           "orientation": "v",
           "showlegend": true,
           "textposition": "auto",
           "type": "bar",
           "x": [
            "Memphis"
           ],
           "xaxis": "x",
           "y": {
            "bdata": "AAAAAAAANkA=",
            "dtype": "f8"
           },
           "yaxis": "y"
          },
          {
           "hovertemplate": "TEAM=%{x}<br>YEAR=2018<br>SEASON_RANK=%{y}<extra></extra>",
           "legendgroup": "Cleveland",
           "marker": {
            "color": "#B6E880",
            "pattern": {
             "shape": ""
            }
           },
           "name": "Cleveland",
           "orientation": "v",
           "showlegend": true,
           "textposition": "auto",
           "type": "bar",
           "x": [
            "Cleveland"
           ],
           "xaxis": "x",
           "y": {
            "bdata": "AAAAAAAAPEA=",
            "dtype": "f8"
           },
           "yaxis": "y"
          },
          {
           "hovertemplate": "TEAM=%{x}<br>YEAR=2018<br>SEASON_RANK=%{y}<extra></extra>",
           "legendgroup": "Boston",
           "marker": {
            "color": "#FF97FF",
            "pattern": {
             "shape": ""
            }
           },
           "name": "Boston",
           "orientation": "v",
           "showlegend": true,
           "textposition": "auto",
           "type": "bar",
           "x": [
            "Boston"
           ],
           "xaxis": "x",
           "y": {
            "bdata": "AAAAAAAAIkA=",
            "dtype": "f8"
           },
           "yaxis": "y"
          },
          {
           "hovertemplate": "TEAM=%{x}<br>YEAR=2018<br>SEASON_RANK=%{y}<extra></extra>",
           "legendgroup": "Milwaukee",
           "marker": {
            "color": "#FECB52",
            "pattern": {
             "shape": ""
            }
           },
           "name": "Milwaukee",
           "orientation": "v",
           "showlegend": true,
           "textposition": "auto",
           "type": "bar",
           "x": [
            "Milwaukee"
           ],
           "xaxis": "x",
           "y": {
            "bdata": "AAAAAAAA8D8=",
            "dtype": "f8"
           },
           "yaxis": "y"
          }
         ],
         "name": "2018"
        },
        {
         "data": [
          {
           "hovertemplate": "TEAM=%{x}<br>YEAR=2019<br>SEASON_RANK=%{y}<extra></extra>",
           "legendgroup": "Detroit",
           "marker": {
            "color": "#636efa",
            "pattern": {
             "shape": ""
            }
           },
           "name": "Detroit",
           "orientation": "v",
           "showlegend": true,
           "textposition": "auto",
           "type": "bar",
           "x": [
            "Detroit"
           ],
           "xaxis": "x",
           "y": {
            "bdata": "AAAAAAAAOkA=",
            "dtype": "f8"
           },
           "yaxis": "y"
          },
          {
           "hovertemplate": "TEAM=%{x}<br>YEAR=2019<br>SEASON_RANK=%{y}<extra></extra>",
           "legendgroup": "Charlotte",
           "marker": {
            "color": "#EF553B",
            "pattern": {
             "shape": ""
            }
           },
           "name": "Charlotte",
           "orientation": "v",
           "showlegend": true,
           "textposition": "auto",
           "type": "bar",
           "x": [
            "Charlotte"
           ],
           "xaxis": "x",
           "y": {
            "bdata": "AAAAAAAANkA=",
            "dtype": "f8"
           },
           "yaxis": "y"
          },
          {
           "hovertemplate": "TEAM=%{x}<br>YEAR=2019<br>SEASON_RANK=%{y}<extra></extra>",
           "legendgroup": "Houston",
           "marker": {
            "color": "#00cc96",
            "pattern": {
             "shape": ""
            }
           },
           "name": "Houston",
           "orientation": "v",
           "showlegend": true,
           "textposition": "auto",
           "type": "bar",
           "x": [
            "Houston"
           ],
           "xaxis": "x",
           "y": {
            "bdata": "AAAAAAAAIEA=",
            "dtype": "f8"
           },
           "yaxis": "y"
          },
          {
           "hovertemplate": "TEAM=%{x}<br>YEAR=2019<br>SEASON_RANK=%{y}<extra></extra>",
           "legendgroup": "San Antonio",
           "marker": {
            "color": "#ab63fa",
            "pattern": {
             "shape": ""
            }
           },
           "name": "San Antonio",
           "orientation": "v",
           "showlegend": true,
           "textposition": "auto",
           "type": "bar",
           "x": [
            "San Antonio"
           ],
           "xaxis": "x",
           "y": {
            "bdata": "AAAAAAAAM0A=",
            "dtype": "f8"
           },
           "yaxis": "y"
          },
          {
           "hovertemplate": "TEAM=%{x}<br>YEAR=2019<br>SEASON_RANK=%{y}<extra></extra>",
           "legendgroup": "Orlando",
           "marker": {
            "color": "#FFA15A",
            "pattern": {
             "shape": ""
            }
           },
           "name": "Orlando",
           "orientation": "v",
           "showlegend": true,
           "textposition": "auto",
           "type": "bar",
           "x": [
            "Orlando"
           ],
           "xaxis": "x",
           "y": {
            "bdata": "AAAAAAAAMkA=",
            "dtype": "f8"
           },
           "yaxis": "y"
          },
          {
           "hovertemplate": "TEAM=%{x}<br>YEAR=2019<br>SEASON_RANK=%{y}<extra></extra>",
           "legendgroup": "Washington",
           "marker": {
            "color": "#19d3f3",
            "pattern": {
             "shape": ""
            }
           },
           "name": "Washington",
           "orientation": "v",
           "showlegend": true,
           "textposition": "auto",
           "type": "bar",
           "x": [
            "Washington"
           ],
           "xaxis": "x",
           "y": {
            "bdata": "AAAAAAAAN0A=",
            "dtype": "f8"
           },
           "yaxis": "y"
          },
          {
           "hovertemplate": "TEAM=%{x}<br>YEAR=2019<br>SEASON_RANK=%{y}<extra></extra>",
           "legendgroup": "L.A. Lakers",
           "marker": {
            "color": "#FF6692",
            "pattern": {
             "shape": ""
            }
           },
           "name": "L.A. Lakers",
           "orientation": "v",
           "showlegend": true,
           "textposition": "auto",
           "type": "bar",
           "x": [
            "L.A. Lakers"
           ],
           "xaxis": "x",
           "y": {
            "bdata": "AAAAAAAACEA=",
            "dtype": "f8"
           },
           "yaxis": "y"
          },
          {
           "hovertemplate": "TEAM=%{x}<br>YEAR=2019<br>SEASON_RANK=%{y}<extra></extra>",
           "legendgroup": "Chicago",
           "marker": {
            "color": "#B6E880",
            "pattern": {
             "shape": ""
            }
           },
           "name": "Chicago",
           "orientation": "v",
           "showlegend": true,
           "textposition": "auto",
           "type": "bar",
           "x": [
            "Chicago"
           ],
           "xaxis": "x",
           "y": {
            "bdata": "AAAAAAAAOEA=",
            "dtype": "f8"
           },
           "yaxis": "y"
          },
          {
           "hovertemplate": "TEAM=%{x}<br>YEAR=2019<br>SEASON_RANK=%{y}<extra></extra>",
           "legendgroup": "Oklahoma City",
           "marker": {
            "color": "#FF97FF",
            "pattern": {
             "shape": ""
            }
           },
           "name": "Oklahoma City",
           "orientation": "v",
           "showlegend": true,
           "textposition": "auto",
           "type": "bar",
           "x": [
            "Oklahoma City"
           ],
           "xaxis": "x",
           "y": {
            "bdata": "AAAAAAAAIEA=",
            "dtype": "f8"
           },
           "yaxis": "y"
          },
          {
           "hovertemplate": "TEAM=%{x}<br>YEAR=2019<br>SEASON_RANK=%{y}<extra></extra>",
           "legendgroup": "Toronto",
           "marker": {
            "color": "#FECB52",
            "pattern": {
             "shape": ""
            }
           },
           "name": "Toronto",
           "orientation": "v",
           "showlegend": true,
           "textposition": "auto",
           "type": "bar",
           "x": [
            "Toronto"
           ],
           "xaxis": "x",
           "y": {
            "bdata": "AAAAAAAAAEA=",
            "dtype": "f8"
           },
           "yaxis": "y"
          },
          {
           "hovertemplate": "TEAM=%{x}<br>YEAR=2019<br>SEASON_RANK=%{y}<extra></extra>",
           "legendgroup": "Golden State",
           "marker": {
            "color": "#636efa",
            "pattern": {
             "shape": ""
            }
           },
           "name": "Golden State",
           "orientation": "v",
           "showlegend": true,
           "textposition": "auto",
           "type": "bar",
           "x": [
            "Golden State"
           ],
           "xaxis": "x",
           "y": {
            "bdata": "AAAAAAAAPkA=",
            "dtype": "f8"
           },
           "yaxis": "y"
          },
          {
           "hovertemplate": "TEAM=%{x}<br>YEAR=2019<br>SEASON_RANK=%{y}<extra></extra>",
           "legendgroup": "Dallas",
           "marker": {
            "color": "#EF553B",
            "pattern": {
             "shape": ""
            }
           },
           "name": "Dallas",
           "orientation": "v",
           "showlegend": true,
           "textposition": "auto",
           "type": "bar",
           "x": [
            "Dallas"
           ],
           "xaxis": "x",
           "y": {
            "bdata": "AAAAAAAAKkA=",
            "dtype": "f8"
           },
           "yaxis": "y"
          },
          {
           "hovertemplate": "TEAM=%{x}<br>YEAR=2019<br>SEASON_RANK=%{y}<extra></extra>",
           "legendgroup": "Minnesota",
           "marker": {
            "color": "#00cc96",
            "pattern": {
             "shape": ""
            }
           },
           "name": "Minnesota",
           "orientation": "v",
           "showlegend": true,
           "textposition": "auto",
           "type": "bar",
           "x": [
            "Minnesota"
           ],
           "xaxis": "x",
           "y": {
            "bdata": "AAAAAAAAPEA=",
            "dtype": "f8"
           },
           "yaxis": "y"
          },
          {
           "hovertemplate": "TEAM=%{x}<br>YEAR=2019<br>SEASON_RANK=%{y}<extra></extra>",
           "legendgroup": "Atlanta",
           "marker": {
            "color": "#ab63fa",
            "pattern": {
             "shape": ""
            }
           },
           "name": "Atlanta",
           "orientation": "v",
           "showlegend": true,
           "textposition": "auto",
           "type": "bar",
           "x": [
            "Atlanta"
           ],
           "xaxis": "x",
           "y": {
            "bdata": "AAAAAAAAO0A=",
            "dtype": "f8"
           },
           "yaxis": "y"
          },
          {
           "hovertemplate": "TEAM=%{x}<br>YEAR=2019<br>SEASON_RANK=%{y}<extra></extra>",
           "legendgroup": "Indiana",
           "marker": {
            "color": "#FFA15A",
            "pattern": {
             "shape": ""
            }
           },
           "name": "Indiana",
           "orientation": "v",
           "showlegend": true,
           "textposition": "auto",
           "type": "bar",
           "x": [
            "Indiana"
           ],
           "xaxis": "x",
           "y": {
            "bdata": "AAAAAAAAHEA=",
            "dtype": "f8"
           },
           "yaxis": "y"
          },
          {
           "hovertemplate": "TEAM=%{x}<br>YEAR=2019<br>SEASON_RANK=%{y}<extra></extra>",
           "legendgroup": "Miami",
           "marker": {
            "color": "#19d3f3",
            "pattern": {
             "shape": ""
            }
           },
           "name": "Miami",
           "orientation": "v",
           "showlegend": true,
           "textposition": "auto",
           "type": "bar",
           "x": [
            "Miami"
           ],
           "xaxis": "x",
           "y": {
            "bdata": "AAAAAAAAJkA=",
            "dtype": "f8"
           },
           "yaxis": "y"
          },
          {
           "hovertemplate": "TEAM=%{x}<br>YEAR=2019<br>SEASON_RANK=%{y}<extra></extra>",
           "legendgroup": "Portland",
           "marker": {
            "color": "#FF6692",
            "pattern": {
             "shape": ""
            }
           },
           "name": "Portland",
           "orientation": "v",
           "showlegend": true,
           "textposition": "auto",
           "type": "bar",
           "x": [
            "Portland"
           ],
           "xaxis": "x",
           "y": {
            "bdata": "AAAAAAAALkA=",
            "dtype": "f8"
           },
           "yaxis": "y"
          },
          {
           "hovertemplate": "TEAM=%{x}<br>YEAR=2019<br>SEASON_RANK=%{y}<extra></extra>",
           "legendgroup": "Utah",
           "marker": {
            "color": "#B6E880",
            "pattern": {
             "shape": ""
            }
           },
           "name": "Utah",
           "orientation": "v",
           "showlegend": true,
           "textposition": "auto",
           "type": "bar",
           "x": [
            "Utah"
           ],
           "xaxis": "x",
           "y": {
            "bdata": "AAAAAAAAIEA=",
            "dtype": "f8"
           },
           "yaxis": "y"
          },
          {
           "hovertemplate": "TEAM=%{x}<br>YEAR=2019<br>SEASON_RANK=%{y}<extra></extra>",
           "legendgroup": "New York",
           "marker": {
            "color": "#FF97FF",
            "pattern": {
             "shape": ""
            }
           },
           "name": "New York",
           "orientation": "v",
           "showlegend": true,
           "textposition": "auto",
           "type": "bar",
           "x": [
            "New York"
           ],
           "xaxis": "x",
           "y": {
            "bdata": "AAAAAAAAOUA=",
            "dtype": "f8"
           },
           "yaxis": "y"
          },
          {
           "hovertemplate": "TEAM=%{x}<br>YEAR=2019<br>SEASON_RANK=%{y}<extra></extra>",
           "legendgroup": "Sacramento",
           "marker": {
            "color": "#FECB52",
            "pattern": {
             "shape": ""
            }
           },
           "name": "Sacramento",
           "orientation": "v",
           "showlegend": true,
           "textposition": "auto",
           "type": "bar",
           "x": [
            "Sacramento"
           ],
           "xaxis": "x",
           "y": {
            "bdata": "AAAAAAAANEA=",
            "dtype": "f8"
           },
           "yaxis": "y"
          },
          {
           "hovertemplate": "TEAM=%{x}<br>YEAR=2019<br>SEASON_RANK=%{y}<extra></extra>",
           "legendgroup": "LA Clippers",
           "marker": {
            "color": "#636efa",
            "pattern": {
             "shape": ""
            }
           },
           "name": "LA Clippers",
           "orientation": "v",
           "showlegend": true,
           "textposition": "auto",
           "type": "bar",
           "x": [
            "LA Clippers"
           ],
           "xaxis": "x",
           "y": {
            "bdata": "AAAAAAAAEEA=",
            "dtype": "f8"
           },
           "yaxis": "y"
          },
          {
           "hovertemplate": "TEAM=%{x}<br>YEAR=2019<br>SEASON_RANK=%{y}<extra></extra>",
           "legendgroup": "Phoenix",
           "marker": {
            "color": "#EF553B",
            "pattern": {
             "shape": ""
            }
           },
           "name": "Phoenix",
           "orientation": "v",
           "showlegend": true,
           "textposition": "auto",
           "type": "bar",
           "x": [
            "Phoenix"
           ],
           "xaxis": "x",
           "y": {
            "bdata": "AAAAAAAAMEA=",
            "dtype": "f8"
           },
           "yaxis": "y"
          },
          {
           "hovertemplate": "TEAM=%{x}<br>YEAR=2019<br>SEASON_RANK=%{y}<extra></extra>",
           "legendgroup": "Philadelphia",
           "marker": {
            "color": "#00cc96",
            "pattern": {
             "shape": ""
            }
           },
           "name": "Philadelphia",
           "orientation": "v",
           "showlegend": true,
           "textposition": "auto",
           "type": "bar",
           "x": [
            "Philadelphia"
           ],
           "xaxis": "x",
           "y": {
            "bdata": "AAAAAAAAKEA=",
            "dtype": "f8"
           },
           "yaxis": "y"
          },
          {
           "hovertemplate": "TEAM=%{x}<br>YEAR=2019<br>SEASON_RANK=%{y}<extra></extra>",
           "legendgroup": "New Orleans",
           "marker": {
            "color": "#ab63fa",
            "pattern": {
             "shape": ""
            }
           },
           "name": "New Orleans",
           "orientation": "v",
           "showlegend": true,
           "textposition": "auto",
           "type": "bar",
           "x": [
            "New Orleans"
           ],
           "xaxis": "x",
           "y": {
            "bdata": "AAAAAAAANUA=",
            "dtype": "f8"
           },
           "yaxis": "y"
          },
          {
           "hovertemplate": "TEAM=%{x}<br>YEAR=2019<br>SEASON_RANK=%{y}<extra></extra>",
           "legendgroup": "Brooklyn",
           "marker": {
            "color": "#FFA15A",
            "pattern": {
             "shape": ""
            }
           },
           "name": "Brooklyn",
           "orientation": "v",
           "showlegend": true,
           "textposition": "auto",
           "type": "bar",
           "x": [
            "Brooklyn"
           ],
           "xaxis": "x",
           "y": {
            "bdata": "AAAAAAAALEA=",
            "dtype": "f8"
           },
           "yaxis": "y"
          },
          {
           "hovertemplate": "TEAM=%{x}<br>YEAR=2019<br>SEASON_RANK=%{y}<extra></extra>",
           "legendgroup": "Denver",
           "marker": {
            "color": "#19d3f3",
            "pattern": {
             "shape": ""
            }
           },
           "name": "Denver",
           "orientation": "v",
           "showlegend": true,
           "textposition": "auto",
           "type": "bar",
           "x": [
            "Denver"
           ],
           "xaxis": "x",
           "y": {
            "bdata": "AAAAAAAAGEA=",
            "dtype": "f8"
           },
           "yaxis": "y"
          },
          {
           "hovertemplate": "TEAM=%{x}<br>YEAR=2019<br>SEASON_RANK=%{y}<extra></extra>",
           "legendgroup": "Memphis",
           "marker": {
            "color": "#FF6692",
            "pattern": {
             "shape": ""
            }
           },
           "name": "Memphis",
           "orientation": "v",
           "showlegend": true,
           "textposition": "auto",
           "type": "bar",
           "x": [
            "Memphis"
           ],
           "xaxis": "x",
           "y": {
            "bdata": "AAAAAAAAMEA=",
            "dtype": "f8"
           },
           "yaxis": "y"
          },
          {
           "hovertemplate": "TEAM=%{x}<br>YEAR=2019<br>SEASON_RANK=%{y}<extra></extra>",
           "legendgroup": "Cleveland",
           "marker": {
            "color": "#B6E880",
            "pattern": {
             "shape": ""
            }
           },
           "name": "Cleveland",
           "orientation": "v",
           "showlegend": true,
           "textposition": "auto",
           "type": "bar",
           "x": [
            "Cleveland"
           ],
           "xaxis": "x",
           "y": {
            "bdata": "AAAAAAAAPUA=",
            "dtype": "f8"
           },
           "yaxis": "y"
          },
          {
           "hovertemplate": "TEAM=%{x}<br>YEAR=2019<br>SEASON_RANK=%{y}<extra></extra>",
           "legendgroup": "Boston",
           "marker": {
            "color": "#FF97FF",
            "pattern": {
             "shape": ""
            }
           },
           "name": "Boston",
           "orientation": "v",
           "showlegend": true,
           "textposition": "auto",
           "type": "bar",
           "x": [
            "Boston"
           ],
           "xaxis": "x",
           "y": {
            "bdata": "AAAAAAAAFEA=",
            "dtype": "f8"
           },
           "yaxis": "y"
          },
          {
           "hovertemplate": "TEAM=%{x}<br>YEAR=2019<br>SEASON_RANK=%{y}<extra></extra>",
           "legendgroup": "Milwaukee",
           "marker": {
            "color": "#FECB52",
            "pattern": {
             "shape": ""
            }
           },
           "name": "Milwaukee",
           "orientation": "v",
           "showlegend": true,
           "textposition": "auto",
           "type": "bar",
           "x": [
            "Milwaukee"
           ],
           "xaxis": "x",
           "y": {
            "bdata": "AAAAAAAA8D8=",
            "dtype": "f8"
           },
           "yaxis": "y"
          }
         ],
         "name": "2019"
        },
        {
         "data": [
          {
           "hovertemplate": "TEAM=%{x}<br>YEAR=2020<br>SEASON_RANK=%{y}<extra></extra>",
           "legendgroup": "Detroit",
           "marker": {
            "color": "#636efa",
            "pattern": {
             "shape": ""
            }
           },
           "name": "Detroit",
           "orientation": "v",
           "showlegend": true,
           "textposition": "auto",
           "type": "bar",
           "x": [
            "Detroit"
           ],
           "xaxis": "x",
           "y": {
            "bdata": "AAAAAAAAPUA=",
            "dtype": "f8"
           },
           "yaxis": "y"
          },
          {
           "hovertemplate": "TEAM=%{x}<br>YEAR=2020<br>SEASON_RANK=%{y}<extra></extra>",
           "legendgroup": "Charlotte",
           "marker": {
            "color": "#EF553B",
            "pattern": {
             "shape": ""
            }
           },
           "name": "Charlotte",
           "orientation": "v",
           "showlegend": true,
           "textposition": "auto",
           "type": "bar",
           "x": [
            "Charlotte"
           ],
           "xaxis": "x",
           "y": {
            "bdata": "AAAAAAAAM0A=",
            "dtype": "f8"
           },
           "yaxis": "y"
          },
          {
           "hovertemplate": "TEAM=%{x}<br>YEAR=2020<br>SEASON_RANK=%{y}<extra></extra>",
           "legendgroup": "Houston",
           "marker": {
            "color": "#00cc96",
            "pattern": {
             "shape": ""
            }
           },
           "name": "Houston",
           "orientation": "v",
           "showlegend": true,
           "textposition": "auto",
           "type": "bar",
           "x": [
            "Houston"
           ],
           "xaxis": "x",
           "y": {
            "bdata": "AAAAAAAAPkA=",
            "dtype": "f8"
           },
           "yaxis": "y"
          },
          {
           "hovertemplate": "TEAM=%{x}<br>YEAR=2020<br>SEASON_RANK=%{y}<extra></extra>",
           "legendgroup": "San Antonio",
           "marker": {
            "color": "#ab63fa",
            "pattern": {
             "shape": ""
            }
           },
           "name": "San Antonio",
           "orientation": "v",
           "showlegend": true,
           "textposition": "auto",
           "type": "bar",
           "x": [
            "San Antonio"
           ],
           "xaxis": "x",
           "y": {
            "bdata": "AAAAAAAAM0A=",
            "dtype": "f8"
           },
           "yaxis": "y"
          },
          {
           "hovertemplate": "TEAM=%{x}<br>YEAR=2020<br>SEASON_RANK=%{y}<extra></extra>",
           "legendgroup": "Orlando",
           "marker": {
            "color": "#FFA15A",
            "pattern": {
             "shape": ""
            }
           },
           "name": "Orlando",
           "orientation": "v",
           "showlegend": true,
           "textposition": "auto",
           "type": "bar",
           "x": [
            "Orlando"
           ],
           "xaxis": "x",
           "y": {
            "bdata": "AAAAAAAAPEA=",
            "dtype": "f8"
           },
           "yaxis": "y"
          },
          {
           "hovertemplate": "TEAM=%{x}<br>YEAR=2020<br>SEASON_RANK=%{y}<extra></extra>",
           "legendgroup": "Washington",
           "marker": {
            "color": "#19d3f3",
            "pattern": {
             "shape": ""
            }
           },
           "name": "Washington",
           "orientation": "v",
           "showlegend": true,
           "textposition": "auto",
           "type": "bar",
           "x": [
            "Washington"
           ],
           "xaxis": "x",
           "y": {
            "bdata": "AAAAAAAAMUA=",
            "dtype": "f8"
           },
           "yaxis": "y"
          },
          {
           "hovertemplate": "TEAM=%{x}<br>YEAR=2020<br>SEASON_RANK=%{y}<extra></extra>",
           "legendgroup": "L.A. Lakers",
           "marker": {
            "color": "#FF6692",
            "pattern": {
             "shape": ""
            }
           },
           "name": "L.A. Lakers",
           "orientation": "v",
           "showlegend": true,
           "textposition": "auto",
           "type": "bar",
           "x": [
            "L.A. Lakers"
           ],
           "xaxis": "x",
           "y": {
            "bdata": "AAAAAAAAIEA=",
            "dtype": "f8"
           },
           "yaxis": "y"
          },
          {
           "hovertemplate": "TEAM=%{x}<br>YEAR=2020<br>SEASON_RANK=%{y}<extra></extra>",
           "legendgroup": "Chicago",
           "marker": {
            "color": "#B6E880",
            "pattern": {
             "shape": ""
            }
           },
           "name": "Chicago",
           "orientation": "v",
           "showlegend": true,
           "textposition": "auto",
           "type": "bar",
           "x": [
            "Chicago"
           ],
           "xaxis": "x",
           "y": {
            "bdata": "AAAAAAAANUA=",
            "dtype": "f8"
           },
           "yaxis": "y"
          },
          {
           "hovertemplate": "TEAM=%{x}<br>YEAR=2020<br>SEASON_RANK=%{y}<extra></extra>",
           "legendgroup": "Oklahoma City",
           "marker": {
            "color": "#FF97FF",
            "pattern": {
             "shape": ""
            }
           },
           "name": "Oklahoma City",
           "orientation": "v",
           "showlegend": true,
           "textposition": "auto",
           "type": "bar",
           "x": [
            "Oklahoma City"
           ],
           "xaxis": "x",
           "y": {
            "bdata": "AAAAAAAAOkA=",
            "dtype": "f8"
           },
           "yaxis": "y"
          },
          {
           "hovertemplate": "TEAM=%{x}<br>YEAR=2020<br>SEASON_RANK=%{y}<extra></extra>",
           "legendgroup": "Toronto",
           "marker": {
            "color": "#FECB52",
            "pattern": {
             "shape": ""
            }
           },
           "name": "Toronto",
           "orientation": "v",
           "showlegend": true,
           "textposition": "auto",
           "type": "bar",
           "x": [
            "Toronto"
           ],
           "xaxis": "x",
           "y": {
            "bdata": "AAAAAAAAOEA=",
            "dtype": "f8"
           },
           "yaxis": "y"
          },
          {
           "hovertemplate": "TEAM=%{x}<br>YEAR=2020<br>SEASON_RANK=%{y}<extra></extra>",
           "legendgroup": "Golden State",
           "marker": {
            "color": "#636efa",
            "pattern": {
             "shape": ""
            }
           },
           "name": "Golden State",
           "orientation": "v",
           "showlegend": true,
           "textposition": "auto",
           "type": "bar",
           "x": [
            "Golden State"
           ],
           "xaxis": "x",
           "y": {
            "bdata": "AAAAAAAALEA=",
            "dtype": "f8"
           },
           "yaxis": "y"
          },
          {
           "hovertemplate": "TEAM=%{x}<br>YEAR=2020<br>SEASON_RANK=%{y}<extra></extra>",
           "legendgroup": "Dallas",
           "marker": {
            "color": "#EF553B",
            "pattern": {
             "shape": ""
            }
           },
           "name": "Dallas",
           "orientation": "v",
           "showlegend": true,
           "textposition": "auto",
           "type": "bar",
           "x": [
            "Dallas"
           ],
           "xaxis": "x",
           "y": {
            "bdata": "AAAAAAAAIEA=",
            "dtype": "f8"
           },
           "yaxis": "y"
          },
          {
           "hovertemplate": "TEAM=%{x}<br>YEAR=2020<br>SEASON_RANK=%{y}<extra></extra>",
           "legendgroup": "Minnesota",
           "marker": {
            "color": "#00cc96",
            "pattern": {
             "shape": ""
            }
           },
           "name": "Minnesota",
           "orientation": "v",
           "showlegend": true,
           "textposition": "auto",
           "type": "bar",
           "x": [
            "Minnesota"
           ],
           "xaxis": "x",
           "y": {
            "bdata": "AAAAAAAAOUA=",
            "dtype": "f8"
           },
           "yaxis": "y"
          },
          {
           "hovertemplate": "TEAM=%{x}<br>YEAR=2020<br>SEASON_RANK=%{y}<extra></extra>",
           "legendgroup": "Atlanta",
           "marker": {
            "color": "#ab63fa",
            "pattern": {
             "shape": ""
            }
           },
           "name": "Atlanta",
           "orientation": "v",
           "showlegend": true,
           "textposition": "auto",
           "type": "bar",
           "x": [
            "Atlanta"
           ],
           "xaxis": "x",
           "y": {
            "bdata": "AAAAAAAAJkA=",
            "dtype": "f8"
           },
           "yaxis": "y"
          },
          {
           "hovertemplate": "TEAM=%{x}<br>YEAR=2020<br>SEASON_RANK=%{y}<extra></extra>",
           "legendgroup": "Indiana",
           "marker": {
            "color": "#FFA15A",
            "pattern": {
             "shape": ""
            }
           },
           "name": "Indiana",
           "orientation": "v",
           "showlegend": true,
           "textposition": "auto",
           "type": "bar",
           "x": [
            "Indiana"
           ],
           "xaxis": "x",
           "y": {
            "bdata": "AAAAAAAAMUA=",
            "dtype": "f8"
           },
           "yaxis": "y"
          },
          {
           "hovertemplate": "TEAM=%{x}<br>YEAR=2020<br>SEASON_RANK=%{y}<extra></extra>",
           "legendgroup": "Miami",
           "marker": {
            "color": "#19d3f3",
            "pattern": {
             "shape": ""
            }
           },
           "name": "Miami",
           "orientation": "v",
           "showlegend": true,
           "textposition": "auto",
           "type": "bar",
           "x": [
            "Miami"
           ],
           "xaxis": "x",
           "y": {
            "bdata": "AAAAAAAAKkA=",
            "dtype": "f8"
           },
           "yaxis": "y"
          },
          {
           "hovertemplate": "TEAM=%{x}<br>YEAR=2020<br>SEASON_RANK=%{y}<extra></extra>",
           "legendgroup": "Portland",
           "marker": {
            "color": "#FF6692",
            "pattern": {
             "shape": ""
            }
           },
           "name": "Portland",
           "orientation": "v",
           "showlegend": true,
           "textposition": "auto",
           "type": "bar",
           "x": [
            "Portland"
           ],
           "xaxis": "x",
           "y": {
            "bdata": "AAAAAAAAIEA=",
            "dtype": "f8"
           },
           "yaxis": "y"
          },
          {
           "hovertemplate": "TEAM=%{x}<br>YEAR=2020<br>SEASON_RANK=%{y}<extra></extra>",
           "legendgroup": "Utah",
           "marker": {
            "color": "#B6E880",
            "pattern": {
             "shape": ""
            }
           },
           "name": "Utah",
           "orientation": "v",
           "showlegend": true,
           "textposition": "auto",
           "type": "bar",
           "x": [
            "Utah"
           ],
           "xaxis": "x",
           "y": {
            "bdata": "AAAAAAAA8D8=",
            "dtype": "f8"
           },
           "yaxis": "y"
          },
          {
           "hovertemplate": "TEAM=%{x}<br>YEAR=2020<br>SEASON_RANK=%{y}<extra></extra>",
           "legendgroup": "New York",
           "marker": {
            "color": "#FF97FF",
            "pattern": {
             "shape": ""
            }
           },
           "name": "New York",
           "orientation": "v",
           "showlegend": true,
           "textposition": "auto",
           "type": "bar",
           "x": [
            "New York"
           ],
           "xaxis": "x",
           "y": {
            "bdata": "AAAAAAAAJkA=",
            "dtype": "f8"
           },
           "yaxis": "y"
          },
          {
           "hovertemplate": "TEAM=%{x}<br>YEAR=2020<br>SEASON_RANK=%{y}<extra></extra>",
           "legendgroup": "Sacramento",
           "marker": {
            "color": "#FECB52",
            "pattern": {
             "shape": ""
            }
           },
           "name": "Sacramento",
           "orientation": "v",
           "showlegend": true,
           "textposition": "auto",
           "type": "bar",
           "x": [
            "Sacramento"
           ],
           "xaxis": "x",
           "y": {
            "bdata": "AAAAAAAANUA=",
            "dtype": "f8"
           },
           "yaxis": "y"
          },
          {
           "hovertemplate": "TEAM=%{x}<br>YEAR=2020<br>SEASON_RANK=%{y}<extra></extra>",
           "legendgroup": "LA Clippers",
           "marker": {
            "color": "#636efa",
            "pattern": {
             "shape": ""
            }
           },
           "name": "LA Clippers",
           "orientation": "v",
           "showlegend": true,
           "textposition": "auto",
           "type": "bar",
           "x": [
            "LA Clippers"
           ],
           "xaxis": "x",
           "y": {
            "bdata": "AAAAAAAAFEA=",
            "dtype": "f8"
           },
           "yaxis": "y"
          },
          {
           "hovertemplate": "TEAM=%{x}<br>YEAR=2020<br>SEASON_RANK=%{y}<extra></extra>",
           "legendgroup": "Phoenix",
           "marker": {
            "color": "#EF553B",
            "pattern": {
             "shape": ""
            }
           },
           "name": "Phoenix",
           "orientation": "v",
           "showlegend": true,
           "textposition": "auto",
           "type": "bar",
           "x": [
            "Phoenix"
           ],
           "xaxis": "x",
           "y": {
            "bdata": "AAAAAAAAAEA=",
            "dtype": "f8"
           },
           "yaxis": "y"
          },
          {
           "hovertemplate": "TEAM=%{x}<br>YEAR=2020<br>SEASON_RANK=%{y}<extra></extra>",
           "legendgroup": "Philadelphia",
           "marker": {
            "color": "#00cc96",
            "pattern": {
             "shape": ""
            }
           },
           "name": "Philadelphia",
           "orientation": "v",
           "showlegend": true,
           "textposition": "auto",
           "type": "bar",
           "x": [
            "Philadelphia"
           ],
           "xaxis": "x",
           "y": {
            "bdata": "AAAAAAAACEA=",
            "dtype": "f8"
           },
           "yaxis": "y"
          },
          {
           "hovertemplate": "TEAM=%{x}<br>YEAR=2020<br>SEASON_RANK=%{y}<extra></extra>",
           "legendgroup": "New Orleans",
           "marker": {
            "color": "#ab63fa",
            "pattern": {
             "shape": ""
            }
           },
           "name": "New Orleans",
           "orientation": "v",
           "showlegend": true,
           "textposition": "auto",
           "type": "bar",
           "x": [
            "New Orleans"
           ],
           "xaxis": "x",
           "y": {
            "bdata": "AAAAAAAANUA=",
            "dtype": "f8"
           },
           "yaxis": "y"
          },
          {
           "hovertemplate": "TEAM=%{x}<br>YEAR=2020<br>SEASON_RANK=%{y}<extra></extra>",
           "legendgroup": "Brooklyn",
           "marker": {
            "color": "#FFA15A",
            "pattern": {
             "shape": ""
            }
           },
           "name": "Brooklyn",
           "orientation": "v",
           "showlegend": true,
           "textposition": "auto",
           "type": "bar",
           "x": [
            "Brooklyn"
           ],
           "xaxis": "x",
           "y": {
            "bdata": "AAAAAAAAEEA=",
            "dtype": "f8"
           },
           "yaxis": "y"
          },
          {
           "hovertemplate": "TEAM=%{x}<br>YEAR=2020<br>SEASON_RANK=%{y}<extra></extra>",
           "legendgroup": "Denver",
           "marker": {
            "color": "#19d3f3",
            "pattern": {
             "shape": ""
            }
           },
           "name": "Denver",
           "orientation": "v",
           "showlegend": true,
           "textposition": "auto",
           "type": "bar",
           "x": [
            "Denver"
           ],
           "xaxis": "x",
           "y": {
            "bdata": "AAAAAAAAFEA=",
            "dtype": "f8"
           },
           "yaxis": "y"
          },
          {
           "hovertemplate": "TEAM=%{x}<br>YEAR=2020<br>SEASON_RANK=%{y}<extra></extra>",
           "legendgroup": "Memphis",
           "marker": {
            "color": "#FF6692",
            "pattern": {
             "shape": ""
            }
           },
           "name": "Memphis",
           "orientation": "v",
           "showlegend": true,
           "textposition": "auto",
           "type": "bar",
           "x": [
            "Memphis"
           ],
           "xaxis": "x",
           "y": {
            "bdata": "AAAAAAAALkA=",
            "dtype": "f8"
           },
           "yaxis": "y"
          },
          {
           "hovertemplate": "TEAM=%{x}<br>YEAR=2020<br>SEASON_RANK=%{y}<extra></extra>",
           "legendgroup": "Cleveland",
           "marker": {
            "color": "#B6E880",
            "pattern": {
             "shape": ""
            }
           },
           "name": "Cleveland",
           "orientation": "v",
           "showlegend": true,
           "textposition": "auto",
           "type": "bar",
           "x": [
            "Cleveland"
           ],
           "xaxis": "x",
           "y": {
            "bdata": "AAAAAAAAOkA=",
            "dtype": "f8"
           },
           "yaxis": "y"
          },
          {
           "hovertemplate": "TEAM=%{x}<br>YEAR=2020<br>SEASON_RANK=%{y}<extra></extra>",
           "legendgroup": "Boston",
           "marker": {
            "color": "#FF97FF",
            "pattern": {
             "shape": ""
            }
           },
           "name": "Boston",
           "orientation": "v",
           "showlegend": true,
           "textposition": "auto",
           "type": "bar",
           "x": [
            "Boston"
           ],
           "xaxis": "x",
           "y": {
            "bdata": "AAAAAAAAMEA=",
            "dtype": "f8"
           },
           "yaxis": "y"
          },
          {
           "hovertemplate": "TEAM=%{x}<br>YEAR=2020<br>SEASON_RANK=%{y}<extra></extra>",
           "legendgroup": "Milwaukee",
           "marker": {
            "color": "#FECB52",
            "pattern": {
             "shape": ""
            }
           },
           "name": "Milwaukee",
           "orientation": "v",
           "showlegend": true,
           "textposition": "auto",
           "type": "bar",
           "x": [
            "Milwaukee"
           ],
           "xaxis": "x",
           "y": {
            "bdata": "AAAAAAAAHEA=",
            "dtype": "f8"
           },
           "yaxis": "y"
          }
         ],
         "name": "2020"
        },
        {
         "data": [
          {
           "hovertemplate": "TEAM=%{x}<br>YEAR=2021<br>SEASON_RANK=%{y}<extra></extra>",
           "legendgroup": "Detroit",
           "marker": {
            "color": "#636efa",
            "pattern": {
             "shape": ""
            }
           },
           "name": "Detroit",
           "orientation": "v",
           "showlegend": true,
           "textposition": "auto",
           "type": "bar",
           "x": [
            "Detroit"
           ],
           "xaxis": "x",
           "y": {
            "bdata": "AAAAAAAAPEA=",
            "dtype": "f8"
           },
           "yaxis": "y"
          },
          {
           "hovertemplate": "TEAM=%{x}<br>YEAR=2021<br>SEASON_RANK=%{y}<extra></extra>",
           "legendgroup": "Charlotte",
           "marker": {
            "color": "#EF553B",
            "pattern": {
             "shape": ""
            }
           },
           "name": "Charlotte",
           "orientation": "v",
           "showlegend": true,
           "textposition": "auto",
           "type": "bar",
           "x": [
            "Charlotte"
           ],
           "xaxis": "x",
           "y": {
            "bdata": "AAAAAAAAMEA=",
            "dtype": "f8"
           },
           "yaxis": "y"
          },
          {
           "hovertemplate": "TEAM=%{x}<br>YEAR=2021<br>SEASON_RANK=%{y}<extra></extra>",
           "legendgroup": "Houston",
           "marker": {
            "color": "#00cc96",
            "pattern": {
             "shape": ""
            }
           },
           "name": "Houston",
           "orientation": "v",
           "showlegend": true,
           "textposition": "auto",
           "type": "bar",
           "x": [
            "Houston"
           ],
           "xaxis": "x",
           "y": {
            "bdata": "AAAAAAAAPkA=",
            "dtype": "f8"
           },
           "yaxis": "y"
          },
          {
           "hovertemplate": "TEAM=%{x}<br>YEAR=2021<br>SEASON_RANK=%{y}<extra></extra>",
           "legendgroup": "San Antonio",
           "marker": {
            "color": "#ab63fa",
            "pattern": {
             "shape": ""
            }
           },
           "name": "San Antonio",
           "orientation": "v",
           "showlegend": true,
           "textposition": "auto",
           "type": "bar",
           "x": [
            "San Antonio"
           ],
           "xaxis": "x",
           "y": {
            "bdata": "AAAAAAAANkA=",
            "dtype": "f8"
           },
           "yaxis": "y"
          },
          {
           "hovertemplate": "TEAM=%{x}<br>YEAR=2021<br>SEASON_RANK=%{y}<extra></extra>",
           "legendgroup": "Orlando",
           "marker": {
            "color": "#FFA15A",
            "pattern": {
             "shape": ""
            }
           },
           "name": "Orlando",
           "orientation": "v",
           "showlegend": true,
           "textposition": "auto",
           "type": "bar",
           "x": [
            "Orlando"
           ],
           "xaxis": "x",
           "y": {
            "bdata": "AAAAAAAAPUA=",
            "dtype": "f8"
           },
           "yaxis": "y"
          },
          {
           "hovertemplate": "TEAM=%{x}<br>YEAR=2021<br>SEASON_RANK=%{y}<extra></extra>",
           "legendgroup": "Washington",
           "marker": {
            "color": "#19d3f3",
            "pattern": {
             "shape": ""
            }
           },
           "name": "Washington",
           "orientation": "v",
           "showlegend": true,
           "textposition": "auto",
           "type": "bar",
           "x": [
            "Washington"
           ],
           "xaxis": "x",
           "y": {
            "bdata": "AAAAAAAANUA=",
            "dtype": "f8"
           },
           "yaxis": "y"
          },
          {
           "hovertemplate": "TEAM=%{x}<br>YEAR=2021<br>SEASON_RANK=%{y}<extra></extra>",
           "legendgroup": "L.A. Lakers",
           "marker": {
            "color": "#FF6692",
            "pattern": {
             "shape": ""
            }
           },
           "name": "L.A. Lakers",
           "orientation": "v",
           "showlegend": true,
           "textposition": "auto",
           "type": "bar",
           "x": [
            "L.A. Lakers"
           ],
           "xaxis": "x",
           "y": {
            "bdata": "AAAAAAAAN0A=",
            "dtype": "f8"
           },
           "yaxis": "y"
          },
          {
           "hovertemplate": "TEAM=%{x}<br>YEAR=2021<br>SEASON_RANK=%{y}<extra></extra>",
           "legendgroup": "Chicago",
           "marker": {
            "color": "#B6E880",
            "pattern": {
             "shape": ""
            }
           },
           "name": "Chicago",
           "orientation": "v",
           "showlegend": true,
           "textposition": "auto",
           "type": "bar",
           "x": [
            "Chicago"
           ],
           "xaxis": "x",
           "y": {
            "bdata": "AAAAAAAAKEA=",
            "dtype": "f8"
           },
           "yaxis": "y"
          },
          {
           "hovertemplate": "TEAM=%{x}<br>YEAR=2021<br>SEASON_RANK=%{y}<extra></extra>",
           "legendgroup": "Oklahoma City",
           "marker": {
            "color": "#FF97FF",
            "pattern": {
             "shape": ""
            }
           },
           "name": "Oklahoma City",
           "orientation": "v",
           "showlegend": true,
           "textposition": "auto",
           "type": "bar",
           "x": [
            "Oklahoma City"
           ],
           "xaxis": "x",
           "y": {
            "bdata": "AAAAAAAAO0A=",
            "dtype": "f8"
           },
           "yaxis": "y"
          },
          {
           "hovertemplate": "TEAM=%{x}<br>YEAR=2021<br>SEASON_RANK=%{y}<extra></extra>",
           "legendgroup": "Toronto",
           "marker": {
            "color": "#FECB52",
            "pattern": {
             "shape": ""
            }
           },
           "name": "Toronto",
           "orientation": "v",
           "showlegend": true,
           "textposition": "auto",
           "type": "bar",
           "x": [
            "Toronto"
           ],
           "xaxis": "x",
           "y": {
            "bdata": "AAAAAAAAJEA=",
            "dtype": "f8"
           },
           "yaxis": "y"
          },
          {
           "hovertemplate": "TEAM=%{x}<br>YEAR=2021<br>SEASON_RANK=%{y}<extra></extra>",
           "legendgroup": "Golden State",
           "marker": {
            "color": "#636efa",
            "pattern": {
             "shape": ""
            }
           },
           "name": "Golden State",
           "orientation": "v",
           "showlegend": true,
           "textposition": "auto",
           "type": "bar",
           "x": [
            "Golden State"
           ],
           "xaxis": "x",
           "y": {
            "bdata": "AAAAAAAACEA=",
            "dtype": "f8"
           },
           "yaxis": "y"
          },
          {
           "hovertemplate": "TEAM=%{x}<br>YEAR=2021<br>SEASON_RANK=%{y}<extra></extra>",
           "legendgroup": "Dallas",
           "marker": {
            "color": "#EF553B",
            "pattern": {
             "shape": ""
            }
           },
           "name": "Dallas",
           "orientation": "v",
           "showlegend": true,
           "textposition": "auto",
           "type": "bar",
           "x": [
            "Dallas"
           ],
           "xaxis": "x",
           "y": {
            "bdata": "AAAAAAAAFEA=",
            "dtype": "f8"
           },
           "yaxis": "y"
          },
          {
           "hovertemplate": "TEAM=%{x}<br>YEAR=2021<br>SEASON_RANK=%{y}<extra></extra>",
           "legendgroup": "Minnesota",
           "marker": {
            "color": "#00cc96",
            "pattern": {
             "shape": ""
            }
           },
           "name": "Minnesota",
           "orientation": "v",
           "showlegend": true,
           "textposition": "auto",
           "type": "bar",
           "x": [
            "Minnesota"
           ],
           "xaxis": "x",
           "y": {
            "bdata": "AAAAAAAAKEA=",
            "dtype": "f8"
           },
           "yaxis": "y"
          },
          {
           "hovertemplate": "TEAM=%{x}<br>YEAR=2021<br>SEASON_RANK=%{y}<extra></extra>",
           "legendgroup": "Atlanta",
           "marker": {
            "color": "#ab63fa",
            "pattern": {
             "shape": ""
            }
           },
           "name": "Atlanta",
           "orientation": "v",
           "showlegend": true,
           "textposition": "auto",
           "type": "bar",
           "x": [
            "Atlanta"
           ],
           "xaxis": "x",
           "y": {
            "bdata": "AAAAAAAAMEA=",
            "dtype": "f8"
           },
           "yaxis": "y"
          },
          {
           "hovertemplate": "TEAM=%{x}<br>YEAR=2021<br>SEASON_RANK=%{y}<extra></extra>",
           "legendgroup": "Indiana",
           "marker": {
            "color": "#FFA15A",
            "pattern": {
             "shape": ""
            }
           },
           "name": "Indiana",
           "orientation": "v",
           "showlegend": true,
           "textposition": "auto",
           "type": "bar",
           "x": [
            "Indiana"
           ],
           "xaxis": "x",
           "y": {
            "bdata": "AAAAAAAAOkA=",
            "dtype": "f8"
           },
           "yaxis": "y"
          },
          {
           "hovertemplate": "TEAM=%{x}<br>YEAR=2021<br>SEASON_RANK=%{y}<extra></extra>",
           "legendgroup": "Miami",
           "marker": {
            "color": "#19d3f3",
            "pattern": {
             "shape": ""
            }
           },
           "name": "Miami",
           "orientation": "v",
           "showlegend": true,
           "textposition": "auto",
           "type": "bar",
           "x": [
            "Miami"
           ],
           "xaxis": "x",
           "y": {
            "bdata": "AAAAAAAACEA=",
            "dtype": "f8"
           },
           "yaxis": "y"
          },
          {
           "hovertemplate": "TEAM=%{x}<br>YEAR=2021<br>SEASON_RANK=%{y}<extra></extra>",
           "legendgroup": "Portland",
           "marker": {
            "color": "#FF6692",
            "pattern": {
             "shape": ""
            }
           },
           "name": "Portland",
           "orientation": "v",
           "showlegend": true,
           "textposition": "auto",
           "type": "bar",
           "x": [
            "Portland"
           ],
           "xaxis": "x",
           "y": {
            "bdata": "AAAAAAAAOUA=",
            "dtype": "f8"
           },
           "yaxis": "y"
          },
          {
           "hovertemplate": "TEAM=%{x}<br>YEAR=2021<br>SEASON_RANK=%{y}<extra></extra>",
           "legendgroup": "Utah",
           "marker": {
            "color": "#B6E880",
            "pattern": {
             "shape": ""
            }
           },
           "name": "Utah",
           "orientation": "v",
           "showlegend": true,
           "textposition": "auto",
           "type": "bar",
           "x": [
            "Utah"
           ],
           "xaxis": "x",
           "y": {
            "bdata": "AAAAAAAAIkA=",
            "dtype": "f8"
           },
           "yaxis": "y"
          },
          {
           "hovertemplate": "TEAM=%{x}<br>YEAR=2021<br>SEASON_RANK=%{y}<extra></extra>",
           "legendgroup": "New York",
           "marker": {
            "color": "#FF97FF",
            "pattern": {
             "shape": ""
            }
           },
           "name": "New York",
           "orientation": "v",
           "showlegend": true,
           "textposition": "auto",
           "type": "bar",
           "x": [
            "New York"
           ],
           "xaxis": "x",
           "y": {
            "bdata": "AAAAAAAAM0A=",
            "dtype": "f8"
           },
           "yaxis": "y"
          },
          {
           "hovertemplate": "TEAM=%{x}<br>YEAR=2021<br>SEASON_RANK=%{y}<extra></extra>",
           "legendgroup": "Sacramento",
           "marker": {
            "color": "#FECB52",
            "pattern": {
             "shape": ""
            }
           },
           "name": "Sacramento",
           "orientation": "v",
           "showlegend": true,
           "textposition": "auto",
           "type": "bar",
           "x": [
            "Sacramento"
           ],
           "xaxis": "x",
           "y": {
            "bdata": "AAAAAAAAOEA=",
            "dtype": "f8"
           },
           "yaxis": "y"
          },
          {
           "hovertemplate": "TEAM=%{x}<br>YEAR=2021<br>SEASON_RANK=%{y}<extra></extra>",
           "legendgroup": "LA Clippers",
           "marker": {
            "color": "#636efa",
            "pattern": {
             "shape": ""
            }
           },
           "name": "LA Clippers",
           "orientation": "v",
           "showlegend": true,
           "textposition": "auto",
           "type": "bar",
           "x": [
            "LA Clippers"
           ],
           "xaxis": "x",
           "y": {
            "bdata": "AAAAAAAAMkA=",
            "dtype": "f8"
           },
           "yaxis": "y"
          },
          {
           "hovertemplate": "TEAM=%{x}<br>YEAR=2021<br>SEASON_RANK=%{y}<extra></extra>",
           "legendgroup": "Phoenix",
           "marker": {
            "color": "#EF553B",
            "pattern": {
             "shape": ""
            }
           },
           "name": "Phoenix",
           "orientation": "v",
           "showlegend": true,
           "textposition": "auto",
           "type": "bar",
           "x": [
            "Phoenix"
           ],
           "xaxis": "x",
           "y": {
            "bdata": "AAAAAAAA8D8=",
            "dtype": "f8"
           },
           "yaxis": "y"
          },
          {
           "hovertemplate": "TEAM=%{x}<br>YEAR=2021<br>SEASON_RANK=%{y}<extra></extra>",
           "legendgroup": "Philadelphia",
           "marker": {
            "color": "#00cc96",
            "pattern": {
             "shape": ""
            }
           },
           "name": "Philadelphia",
           "orientation": "v",
           "showlegend": true,
           "textposition": "auto",
           "type": "bar",
           "x": [
            "Philadelphia"
           ],
           "xaxis": "x",
           "y": {
            "bdata": "AAAAAAAAGEA=",
            "dtype": "f8"
           },
           "yaxis": "y"
          },
          {
           "hovertemplate": "TEAM=%{x}<br>YEAR=2021<br>SEASON_RANK=%{y}<extra></extra>",
           "legendgroup": "New Orleans",
           "marker": {
            "color": "#ab63fa",
            "pattern": {
             "shape": ""
            }
           },
           "name": "New Orleans",
           "orientation": "v",
           "showlegend": true,
           "textposition": "auto",
           "type": "bar",
           "x": [
            "New Orleans"
           ],
           "xaxis": "x",
           "y": {
            "bdata": "AAAAAAAANEA=",
            "dtype": "f8"
           },
           "yaxis": "y"
          },
          {
           "hovertemplate": "TEAM=%{x}<br>YEAR=2021<br>SEASON_RANK=%{y}<extra></extra>",
           "legendgroup": "Brooklyn",
           "marker": {
            "color": "#FFA15A",
            "pattern": {
             "shape": ""
            }
           },
           "name": "Brooklyn",
           "orientation": "v",
           "showlegend": true,
           "textposition": "auto",
           "type": "bar",
           "x": [
            "Brooklyn"
           ],
           "xaxis": "x",
           "y": {
            "bdata": "AAAAAAAALEA=",
            "dtype": "f8"
           },
           "yaxis": "y"
          },
          {
           "hovertemplate": "TEAM=%{x}<br>YEAR=2021<br>SEASON_RANK=%{y}<extra></extra>",
           "legendgroup": "Denver",
           "marker": {
            "color": "#19d3f3",
            "pattern": {
             "shape": ""
            }
           },
           "name": "Denver",
           "orientation": "v",
           "showlegend": true,
           "textposition": "auto",
           "type": "bar",
           "x": [
            "Denver"
           ],
           "xaxis": "x",
           "y": {
            "bdata": "AAAAAAAAJEA=",
            "dtype": "f8"
           },
           "yaxis": "y"
          },
          {
           "hovertemplate": "TEAM=%{x}<br>YEAR=2021<br>SEASON_RANK=%{y}<extra></extra>",
           "legendgroup": "Memphis",
           "marker": {
            "color": "#FF6692",
            "pattern": {
             "shape": ""
            }
           },
           "name": "Memphis",
           "orientation": "v",
           "showlegend": true,
           "textposition": "auto",
           "type": "bar",
           "x": [
            "Memphis"
           ],
           "xaxis": "x",
           "y": {
            "bdata": "AAAAAAAAAEA=",
            "dtype": "f8"
           },
           "yaxis": "y"
          },
          {
           "hovertemplate": "TEAM=%{x}<br>YEAR=2021<br>SEASON_RANK=%{y}<extra></extra>",
           "legendgroup": "Cleveland",
           "marker": {
            "color": "#B6E880",
            "pattern": {
             "shape": ""
            }
           },
           "name": "Cleveland",
           "orientation": "v",
           "showlegend": true,
           "textposition": "auto",
           "type": "bar",
           "x": [
            "Cleveland"
           ],
           "xaxis": "x",
           "y": {
            "bdata": "AAAAAAAALEA=",
            "dtype": "f8"
           },
           "yaxis": "y"
          },
          {
           "hovertemplate": "TEAM=%{x}<br>YEAR=2021<br>SEASON_RANK=%{y}<extra></extra>",
           "legendgroup": "Boston",
           "marker": {
            "color": "#FF97FF",
            "pattern": {
             "shape": ""
            }
           },
           "name": "Boston",
           "orientation": "v",
           "showlegend": true,
           "textposition": "auto",
           "type": "bar",
           "x": [
            "Boston"
           ],
           "xaxis": "x",
           "y": {
            "bdata": "AAAAAAAAGEA=",
            "dtype": "f8"
           },
           "yaxis": "y"
          },
          {
           "hovertemplate": "TEAM=%{x}<br>YEAR=2021<br>SEASON_RANK=%{y}<extra></extra>",
           "legendgroup": "Milwaukee",
           "marker": {
            "color": "#FECB52",
            "pattern": {
             "shape": ""
            }
           },
           "name": "Milwaukee",
           "orientation": "v",
           "showlegend": true,
           "textposition": "auto",
           "type": "bar",
           "x": [
            "Milwaukee"
           ],
           "xaxis": "x",
           "y": {
            "bdata": "AAAAAAAAGEA=",
            "dtype": "f8"
           },
           "yaxis": "y"
          }
         ],
         "name": "2021"
        },
        {
         "data": [
          {
           "hovertemplate": "TEAM=%{x}<br>YEAR=2022<br>SEASON_RANK=%{y}<extra></extra>",
           "legendgroup": "Detroit",
           "marker": {
            "color": "#636efa",
            "pattern": {
             "shape": ""
            }
           },
           "name": "Detroit",
           "orientation": "v",
           "showlegend": true,
           "textposition": "auto",
           "type": "bar",
           "x": [
            "Detroit"
           ],
           "xaxis": "x",
           "y": {
            "bdata": "AAAAAAAAPkA=",
            "dtype": "f8"
           },
           "yaxis": "y"
          },
          {
           "hovertemplate": "TEAM=%{x}<br>YEAR=2022<br>SEASON_RANK=%{y}<extra></extra>",
           "legendgroup": "Charlotte",
           "marker": {
            "color": "#EF553B",
            "pattern": {
             "shape": ""
            }
           },
           "name": "Charlotte",
           "orientation": "v",
           "showlegend": true,
           "textposition": "auto",
           "type": "bar",
           "x": [
            "Charlotte"
           ],
           "xaxis": "x",
           "y": {
            "bdata": "AAAAAAAAPUA=",
            "dtype": "f8"
           },
           "yaxis": "y"
          },
          {
           "hovertemplate": "TEAM=%{x}<br>YEAR=2022<br>SEASON_RANK=%{y}<extra></extra>",
           "legendgroup": "Houston",
           "marker": {
            "color": "#00cc96",
            "pattern": {
             "shape": ""
            }
           },
           "name": "Houston",
           "orientation": "v",
           "showlegend": true,
           "textposition": "auto",
           "type": "bar",
           "x": [
            "Houston"
           ],
           "xaxis": "x",
           "y": {
            "bdata": "AAAAAAAAPEA=",
            "dtype": "f8"
           },
           "yaxis": "y"
          },
          {
           "hovertemplate": "TEAM=%{x}<br>YEAR=2022<br>SEASON_RANK=%{y}<extra></extra>",
           "legendgroup": "San Antonio",
           "marker": {
            "color": "#ab63fa",
            "pattern": {
             "shape": ""
            }
           },
           "name": "San Antonio",
           "orientation": "v",
           "showlegend": true,
           "textposition": "auto",
           "type": "bar",
           "x": [
            "San Antonio"
           ],
           "xaxis": "x",
           "y": {
            "bdata": "AAAAAAAAO0A=",
            "dtype": "f8"
           },
           "yaxis": "y"
          },
          {
           "hovertemplate": "TEAM=%{x}<br>YEAR=2022<br>SEASON_RANK=%{y}<extra></extra>",
           "legendgroup": "Orlando",
           "marker": {
            "color": "#FFA15A",
            "pattern": {
             "shape": ""
            }
           },
           "name": "Orlando",
           "orientation": "v",
           "showlegend": true,
           "textposition": "auto",
           "type": "bar",
           "x": [
            "Orlando"
           ],
           "xaxis": "x",
           "y": {
            "bdata": "AAAAAAAAOUA=",
            "dtype": "f8"
           },
           "yaxis": "y"
          },
          {
           "hovertemplate": "TEAM=%{x}<br>YEAR=2022<br>SEASON_RANK=%{y}<extra></extra>",
           "legendgroup": "Washington",
           "marker": {
            "color": "#19d3f3",
            "pattern": {
             "shape": ""
            }
           },
           "name": "Washington",
           "orientation": "v",
           "showlegend": true,
           "textposition": "auto",
           "type": "bar",
           "x": [
            "Washington"
           ],
           "xaxis": "x",
           "y": {
            "bdata": "AAAAAAAAOUA=",
            "dtype": "f8"
           },
           "yaxis": "y"
          },
          {
           "hovertemplate": "TEAM=%{x}<br>YEAR=2022<br>SEASON_RANK=%{y}<extra></extra>",
           "legendgroup": "L.A. Lakers",
           "marker": {
            "color": "#FF6692",
            "pattern": {
             "shape": ""
            }
           },
           "name": "L.A. Lakers",
           "orientation": "v",
           "showlegend": true,
           "textposition": "auto",
           "type": "bar",
           "x": [
            "L.A. Lakers"
           ],
           "xaxis": "x",
           "y": {
            "bdata": "AAAAAAAAN0A=",
            "dtype": "f8"
           },
           "yaxis": "y"
          },
          {
           "hovertemplate": "TEAM=%{x}<br>YEAR=2022<br>SEASON_RANK=%{y}<extra></extra>",
           "legendgroup": "Chicago",
           "marker": {
            "color": "#B6E880",
            "pattern": {
             "shape": ""
            }
           },
           "name": "Chicago",
           "orientation": "v",
           "showlegend": true,
           "textposition": "auto",
           "type": "bar",
           "x": [
            "Chicago"
           ],
           "xaxis": "x",
           "y": {
            "bdata": "AAAAAAAAN0A=",
            "dtype": "f8"
           },
           "yaxis": "y"
          },
          {
           "hovertemplate": "TEAM=%{x}<br>YEAR=2022<br>SEASON_RANK=%{y}<extra></extra>",
           "legendgroup": "Oklahoma City",
           "marker": {
            "color": "#FF97FF",
            "pattern": {
             "shape": ""
            }
           },
           "name": "Oklahoma City",
           "orientation": "v",
           "showlegend": true,
           "textposition": "auto",
           "type": "bar",
           "x": [
            "Oklahoma City"
           ],
           "xaxis": "x",
           "y": {
            "bdata": "AAAAAAAANUA=",
            "dtype": "f8"
           },
           "yaxis": "y"
          },
          {
           "hovertemplate": "TEAM=%{x}<br>YEAR=2022<br>SEASON_RANK=%{y}<extra></extra>",
           "legendgroup": "Toronto",
           "marker": {
            "color": "#FECB52",
            "pattern": {
             "shape": ""
            }
           },
           "name": "Toronto",
           "orientation": "v",
           "showlegend": true,
           "textposition": "auto",
           "type": "bar",
           "x": [
            "Toronto"
           ],
           "xaxis": "x",
           "y": {
            "bdata": "AAAAAAAANUA=",
            "dtype": "f8"
           },
           "yaxis": "y"
          },
          {
           "hovertemplate": "TEAM=%{x}<br>YEAR=2022<br>SEASON_RANK=%{y}<extra></extra>",
           "legendgroup": "Golden State",
           "marker": {
            "color": "#636efa",
            "pattern": {
             "shape": ""
            }
           },
           "name": "Golden State",
           "orientation": "v",
           "showlegend": true,
           "textposition": "auto",
           "type": "bar",
           "x": [
            "Golden State"
           ],
           "xaxis": "x",
           "y": {
            "bdata": "AAAAAAAANEA=",
            "dtype": "f8"
           },
           "yaxis": "y"
          },
          {
           "hovertemplate": "TEAM=%{x}<br>YEAR=2022<br>SEASON_RANK=%{y}<extra></extra>",
           "legendgroup": "Dallas",
           "marker": {
            "color": "#EF553B",
            "pattern": {
             "shape": ""
            }
           },
           "name": "Dallas",
           "orientation": "v",
           "showlegend": true,
           "textposition": "auto",
           "type": "bar",
           "x": [
            "Dallas"
           ],
           "xaxis": "x",
           "y": {
            "bdata": "AAAAAAAALkA=",
            "dtype": "f8"
           },
           "yaxis": "y"
          },
          {
           "hovertemplate": "TEAM=%{x}<br>YEAR=2022<br>SEASON_RANK=%{y}<extra></extra>",
           "legendgroup": "Minnesota",
           "marker": {
            "color": "#00cc96",
            "pattern": {
             "shape": ""
            }
           },
           "name": "Minnesota",
           "orientation": "v",
           "showlegend": true,
           "textposition": "auto",
           "type": "bar",
           "x": [
            "Minnesota"
           ],
           "xaxis": "x",
           "y": {
            "bdata": "AAAAAAAALkA=",
            "dtype": "f8"
           },
           "yaxis": "y"
          },
          {
           "hovertemplate": "TEAM=%{x}<br>YEAR=2022<br>SEASON_RANK=%{y}<extra></extra>",
           "legendgroup": "Atlanta",
           "marker": {
            "color": "#ab63fa",
            "pattern": {
             "shape": ""
            }
           },
           "name": "Atlanta",
           "orientation": "v",
           "showlegend": true,
           "textposition": "auto",
           "type": "bar",
           "x": [
            "Atlanta"
           ],
           "xaxis": "x",
           "y": {
            "bdata": "AAAAAAAALkA=",
            "dtype": "f8"
           },
           "yaxis": "y"
          },
          {
           "hovertemplate": "TEAM=%{x}<br>YEAR=2022<br>SEASON_RANK=%{y}<extra></extra>",
           "legendgroup": "Indiana",
           "marker": {
            "color": "#FFA15A",
            "pattern": {
             "shape": ""
            }
           },
           "name": "Indiana",
           "orientation": "v",
           "showlegend": true,
           "textposition": "auto",
           "type": "bar",
           "x": [
            "Indiana"
           ],
           "xaxis": "x",
           "y": {
            "bdata": "AAAAAAAALkA=",
            "dtype": "f8"
           },
           "yaxis": "y"
          },
          {
           "hovertemplate": "TEAM=%{x}<br>YEAR=2022<br>SEASON_RANK=%{y}<extra></extra>",
           "legendgroup": "Miami",
           "marker": {
            "color": "#19d3f3",
            "pattern": {
             "shape": ""
            }
           },
           "name": "Miami",
           "orientation": "v",
           "showlegend": true,
           "textposition": "auto",
           "type": "bar",
           "x": [
            "Miami"
           ],
           "xaxis": "x",
           "y": {
            "bdata": "AAAAAAAALkA=",
            "dtype": "f8"
           },
           "yaxis": "y"
          },
          {
           "hovertemplate": "TEAM=%{x}<br>YEAR=2022<br>SEASON_RANK=%{y}<extra></extra>",
           "legendgroup": "Portland",
           "marker": {
            "color": "#FF6692",
            "pattern": {
             "shape": ""
            }
           },
           "name": "Portland",
           "orientation": "v",
           "showlegend": true,
           "textposition": "auto",
           "type": "bar",
           "x": [
            "Portland"
           ],
           "xaxis": "x",
           "y": {
            "bdata": "AAAAAAAALEA=",
            "dtype": "f8"
           },
           "yaxis": "y"
          },
          {
           "hovertemplate": "TEAM=%{x}<br>YEAR=2022<br>SEASON_RANK=%{y}<extra></extra>",
           "legendgroup": "Utah",
           "marker": {
            "color": "#B6E880",
            "pattern": {
             "shape": ""
            }
           },
           "name": "Utah",
           "orientation": "v",
           "showlegend": true,
           "textposition": "auto",
           "type": "bar",
           "x": [
            "Utah"
           ],
           "xaxis": "x",
           "y": {
            "bdata": "AAAAAAAAKkA=",
            "dtype": "f8"
           },
           "yaxis": "y"
          },
          {
           "hovertemplate": "TEAM=%{x}<br>YEAR=2022<br>SEASON_RANK=%{y}<extra></extra>",
           "legendgroup": "New York",
           "marker": {
            "color": "#FF97FF",
            "pattern": {
             "shape": ""
            }
           },
           "name": "New York",
           "orientation": "v",
           "showlegend": true,
           "textposition": "auto",
           "type": "bar",
           "x": [
            "New York"
           ],
           "xaxis": "x",
           "y": {
            "bdata": "AAAAAAAAKEA=",
            "dtype": "f8"
           },
           "yaxis": "y"
          },
          {
           "hovertemplate": "TEAM=%{x}<br>YEAR=2022<br>SEASON_RANK=%{y}<extra></extra>",
           "legendgroup": "Sacramento",
           "marker": {
            "color": "#FECB52",
            "pattern": {
             "shape": ""
            }
           },
           "name": "Sacramento",
           "orientation": "v",
           "showlegend": true,
           "textposition": "auto",
           "type": "bar",
           "x": [
            "Sacramento"
           ],
           "xaxis": "x",
           "y": {
            "bdata": "AAAAAAAAJkA=",
            "dtype": "f8"
           },
           "yaxis": "y"
          },
          {
           "hovertemplate": "TEAM=%{x}<br>YEAR=2022<br>SEASON_RANK=%{y}<extra></extra>",
           "legendgroup": "LA Clippers",
           "marker": {
            "color": "#636efa",
            "pattern": {
             "shape": ""
            }
           },
           "name": "LA Clippers",
           "orientation": "v",
           "showlegend": true,
           "textposition": "auto",
           "type": "bar",
           "x": [
            "LA Clippers"
           ],
           "xaxis": "x",
           "y": {
            "bdata": "AAAAAAAAJEA=",
            "dtype": "f8"
           },
           "yaxis": "y"
          },
          {
           "hovertemplate": "TEAM=%{x}<br>YEAR=2022<br>SEASON_RANK=%{y}<extra></extra>",
           "legendgroup": "Phoenix",
           "marker": {
            "color": "#EF553B",
            "pattern": {
             "shape": ""
            }
           },
           "name": "Phoenix",
           "orientation": "v",
           "showlegend": true,
           "textposition": "auto",
           "type": "bar",
           "x": [
            "Phoenix"
           ],
           "xaxis": "x",
           "y": {
            "bdata": "AAAAAAAAIkA=",
            "dtype": "f8"
           },
           "yaxis": "y"
          },
          {
           "hovertemplate": "TEAM=%{x}<br>YEAR=2022<br>SEASON_RANK=%{y}<extra></extra>",
           "legendgroup": "Philadelphia",
           "marker": {
            "color": "#00cc96",
            "pattern": {
             "shape": ""
            }
           },
           "name": "Philadelphia",
           "orientation": "v",
           "showlegend": true,
           "textposition": "auto",
           "type": "bar",
           "x": [
            "Philadelphia"
           ],
           "xaxis": "x",
           "y": {
            "bdata": "AAAAAAAAIEA=",
            "dtype": "f8"
           },
           "yaxis": "y"
          },
          {
           "hovertemplate": "TEAM=%{x}<br>YEAR=2022<br>SEASON_RANK=%{y}<extra></extra>",
           "legendgroup": "New Orleans",
           "marker": {
            "color": "#ab63fa",
            "pattern": {
             "shape": ""
            }
           },
           "name": "New Orleans",
           "orientation": "v",
           "showlegend": true,
           "textposition": "auto",
           "type": "bar",
           "x": [
            "New Orleans"
           ],
           "xaxis": "x",
           "y": {
            "bdata": "AAAAAAAAHEA=",
            "dtype": "f8"
           },
           "yaxis": "y"
          },
          {
           "hovertemplate": "TEAM=%{x}<br>YEAR=2022<br>SEASON_RANK=%{y}<extra></extra>",
           "legendgroup": "Brooklyn",
           "marker": {
            "color": "#FFA15A",
            "pattern": {
             "shape": ""
            }
           },
           "name": "Brooklyn",
           "orientation": "v",
           "showlegend": true,
           "textposition": "auto",
           "type": "bar",
           "x": [
            "Brooklyn"
           ],
           "xaxis": "x",
           "y": {
            "bdata": "AAAAAAAAGEA=",
            "dtype": "f8"
           },
           "yaxis": "y"
          },
          {
           "hovertemplate": "TEAM=%{x}<br>YEAR=2022<br>SEASON_RANK=%{y}<extra></extra>",
           "legendgroup": "Denver",
           "marker": {
            "color": "#19d3f3",
            "pattern": {
             "shape": ""
            }
           },
           "name": "Denver",
           "orientation": "v",
           "showlegend": true,
           "textposition": "auto",
           "type": "bar",
           "x": [
            "Denver"
           ],
           "xaxis": "x",
           "y": {
            "bdata": "AAAAAAAAEEA=",
            "dtype": "f8"
           },
           "yaxis": "y"
          },
          {
           "hovertemplate": "TEAM=%{x}<br>YEAR=2022<br>SEASON_RANK=%{y}<extra></extra>",
           "legendgroup": "Memphis",
           "marker": {
            "color": "#FF6692",
            "pattern": {
             "shape": ""
            }
           },
           "name": "Memphis",
           "orientation": "v",
           "showlegend": true,
           "textposition": "auto",
           "type": "bar",
           "x": [
            "Memphis"
           ],
           "xaxis": "x",
           "y": {
            "bdata": "AAAAAAAAEEA=",
            "dtype": "f8"
           },
           "yaxis": "y"
          },
          {
           "hovertemplate": "TEAM=%{x}<br>YEAR=2022<br>SEASON_RANK=%{y}<extra></extra>",
           "legendgroup": "Cleveland",
           "marker": {
            "color": "#B6E880",
            "pattern": {
             "shape": ""
            }
           },
           "name": "Cleveland",
           "orientation": "v",
           "showlegend": true,
           "textposition": "auto",
           "type": "bar",
           "x": [
            "Cleveland"
           ],
           "xaxis": "x",
           "y": {
            "bdata": "AAAAAAAACEA=",
            "dtype": "f8"
           },
           "yaxis": "y"
          },
          {
           "hovertemplate": "TEAM=%{x}<br>YEAR=2022<br>SEASON_RANK=%{y}<extra></extra>",
           "legendgroup": "Boston",
           "marker": {
            "color": "#FF97FF",
            "pattern": {
             "shape": ""
            }
           },
           "name": "Boston",
           "orientation": "v",
           "showlegend": true,
           "textposition": "auto",
           "type": "bar",
           "x": [
            "Boston"
           ],
           "xaxis": "x",
           "y": {
            "bdata": "AAAAAAAAAEA=",
            "dtype": "f8"
           },
           "yaxis": "y"
          },
          {
           "hovertemplate": "TEAM=%{x}<br>YEAR=2022<br>SEASON_RANK=%{y}<extra></extra>",
           "legendgroup": "Milwaukee",
           "marker": {
            "color": "#FECB52",
            "pattern": {
             "shape": ""
            }
           },
           "name": "Milwaukee",
           "orientation": "v",
           "showlegend": true,
           "textposition": "auto",
           "type": "bar",
           "x": [
            "Milwaukee"
           ],
           "xaxis": "x",
           "y": {
            "bdata": "AAAAAAAA8D8=",
            "dtype": "f8"
           },
           "yaxis": "y"
          }
         ],
         "name": "2022"
        }
       ],
       "layout": {
        "barmode": "relative",
        "height": 700,
        "legend": {
         "title": {
          "text": "TEAM"
         },
         "tracegroupgap": 0
        },
        "sliders": [
         {
          "active": 0,
          "currentvalue": {
           "prefix": "YEAR="
          },
          "len": 0.9,
          "pad": {
           "b": 10,
           "t": 60
          },
          "steps": [
           {
            "args": [
             [
              "2002"
             ],
             {
              "frame": {
               "duration": 0,
               "redraw": true
              },
              "fromcurrent": true,
              "mode": "immediate",
              "transition": {
               "duration": 0,
               "easing": "linear"
              }
             }
            ],
            "label": "2002",
            "method": "animate"
           },
           {
            "args": [
             [
              "2003"
             ],
             {
              "frame": {
               "duration": 0,
               "redraw": true
              },
              "fromcurrent": true,
              "mode": "immediate",
              "transition": {
               "duration": 0,
               "easing": "linear"
              }
             }
            ],
            "label": "2003",
            "method": "animate"
           },
           {
            "args": [
             [
              "2004"
             ],
             {
              "frame": {
               "duration": 0,
               "redraw": true
              },
              "fromcurrent": true,
              "mode": "immediate",
              "transition": {
               "duration": 0,
               "easing": "linear"
              }
             }
            ],
            "label": "2004",
            "method": "animate"
           },
           {
            "args": [
             [
              "2005"
             ],
             {
              "frame": {
               "duration": 0,
               "redraw": true
              },
              "fromcurrent": true,
              "mode": "immediate",
              "transition": {
               "duration": 0,
               "easing": "linear"
              }
             }
            ],
            "label": "2005",
            "method": "animate"
           },
           {
            "args": [
             [
              "2006"
             ],
             {
              "frame": {
               "duration": 0,
               "redraw": true
              },
              "fromcurrent": true,
              "mode": "immediate",
              "transition": {
               "duration": 0,
               "easing": "linear"
              }
             }
            ],
            "label": "2006",
            "method": "animate"
           },
           {
            "args": [
             [
              "2007"
             ],
             {
              "frame": {
               "duration": 0,
               "redraw": true
              },
              "fromcurrent": true,
              "mode": "immediate",
              "transition": {
               "duration": 0,
               "easing": "linear"
              }
             }
            ],
            "label": "2007",
            "method": "animate"
           },
           {
            "args": [
             [
              "2008"
             ],
             {
              "frame": {
               "duration": 0,
               "redraw": true
              },
              "fromcurrent": true,
              "mode": "immediate",
              "transition": {
               "duration": 0,
               "easing": "linear"
              }
             }
            ],
            "label": "2008",
            "method": "animate"
           },
           {
            "args": [
             [
              "2009"
             ],
             {
              "frame": {
               "duration": 0,
               "redraw": true
              },
              "fromcurrent": true,
              "mode": "immediate",
              "transition": {
               "duration": 0,
               "easing": "linear"
              }
             }
            ],
            "label": "2009",
            "method": "animate"
           },
           {
            "args": [
             [
              "2010"
             ],
             {
              "frame": {
               "duration": 0,
               "redraw": true
              },
              "fromcurrent": true,
              "mode": "immediate",
              "transition": {
               "duration": 0,
               "easing": "linear"
              }
             }
            ],
            "label": "2010",
            "method": "animate"
           },
           {
            "args": [
             [
              "2011"
             ],
             {
              "frame": {
               "duration": 0,
               "redraw": true
              },
              "fromcurrent": true,
              "mode": "immediate",
              "transition": {
               "duration": 0,
               "easing": "linear"
              }
             }
            ],
            "label": "2011",
            "method": "animate"
           },
           {
            "args": [
             [
              "2012"
             ],
             {
              "frame": {
               "duration": 0,
               "redraw": true
              },
              "fromcurrent": true,
              "mode": "immediate",
              "transition": {
               "duration": 0,
               "easing": "linear"
              }
             }
            ],
            "label": "2012",
            "method": "animate"
           },
           {
            "args": [
             [
              "2013"
             ],
             {
              "frame": {
               "duration": 0,
               "redraw": true
              },
              "fromcurrent": true,
              "mode": "immediate",
              "transition": {
               "duration": 0,
               "easing": "linear"
              }
             }
            ],
            "label": "2013",
            "method": "animate"
           },
           {
            "args": [
             [
              "2014"
             ],
             {
              "frame": {
               "duration": 0,
               "redraw": true
              },
              "fromcurrent": true,
              "mode": "immediate",
              "transition": {
               "duration": 0,
               "easing": "linear"
              }
             }
            ],
            "label": "2014",
            "method": "animate"
           },
           {
            "args": [
             [
              "2015"
             ],
             {
              "frame": {
               "duration": 0,
               "redraw": true
              },
              "fromcurrent": true,
              "mode": "immediate",
              "transition": {
               "duration": 0,
               "easing": "linear"
              }
             }
            ],
            "label": "2015",
            "method": "animate"
           },
           {
            "args": [
             [
              "2016"
             ],
             {
              "frame": {
               "duration": 0,
               "redraw": true
              },
              "fromcurrent": true,
              "mode": "immediate",
              "transition": {
               "duration": 0,
               "easing": "linear"
              }
             }
            ],
            "label": "2016",
            "method": "animate"
           },
           {
            "args": [
             [
              "2017"
             ],
             {
              "frame": {
               "duration": 0,
               "redraw": true
              },
              "fromcurrent": true,
              "mode": "immediate",
              "transition": {
               "duration": 0,
               "easing": "linear"
              }
             }
            ],
            "label": "2017",
            "method": "animate"
           },
           {
            "args": [
             [
              "2018"
             ],
             {
              "frame": {
               "duration": 0,
               "redraw": true
              },
              "fromcurrent": true,
              "mode": "immediate",
              "transition": {
               "duration": 0,
               "easing": "linear"
              }
             }
            ],
            "label": "2018",
            "method": "animate"
           },
           {
            "args": [
             [
              "2019"
             ],
             {
              "frame": {
               "duration": 0,
               "redraw": true
              },
              "fromcurrent": true,
              "mode": "immediate",
              "transition": {
               "duration": 0,
               "easing": "linear"
              }
             }
            ],
            "label": "2019",
            "method": "animate"
           },
           {
            "args": [
             [
              "2020"
             ],
             {
              "frame": {
               "duration": 0,
               "redraw": true
              },
              "fromcurrent": true,
              "mode": "immediate",
              "transition": {
               "duration": 0,
               "easing": "linear"
              }
             }
            ],
            "label": "2020",
            "method": "animate"
           },
           {
            "args": [
             [
              "2021"
             ],
             {
              "frame": {
               "duration": 0,
               "redraw": true
              },
              "fromcurrent": true,
              "mode": "immediate",
              "transition": {
               "duration": 0,
               "easing": "linear"
              }
             }
            ],
            "label": "2021",
            "method": "animate"
           },
           {
            "args": [
             [
              "2022"
             ],
             {
              "frame": {
               "duration": 0,
               "redraw": true
              },
              "fromcurrent": true,
              "mode": "immediate",
              "transition": {
               "duration": 0,
               "easing": "linear"
              }
             }
            ],
            "label": "2022",
            "method": "animate"
           }
          ],
          "x": 0.1,
          "xanchor": "left",
          "y": 0,
          "yanchor": "top"
         }
        ],
        "template": {
         "data": {
          "bar": [
           {
            "error_x": {
             "color": "#2a3f5f"
            },
            "error_y": {
             "color": "#2a3f5f"
            },
            "marker": {
             "line": {
              "color": "#E5ECF6",
              "width": 0.5
             },
             "pattern": {
              "fillmode": "overlay",
              "size": 10,
              "solidity": 0.2
             }
            },
            "type": "bar"
           }
          ],
          "barpolar": [
           {
            "marker": {
             "line": {
              "color": "#E5ECF6",
              "width": 0.5
             },
             "pattern": {
              "fillmode": "overlay",
              "size": 10,
              "solidity": 0.2
             }
            },
            "type": "barpolar"
           }
          ],
          "carpet": [
           {
            "aaxis": {
             "endlinecolor": "#2a3f5f",
             "gridcolor": "white",
             "linecolor": "white",
             "minorgridcolor": "white",
             "startlinecolor": "#2a3f5f"
            },
            "baxis": {
             "endlinecolor": "#2a3f5f",
             "gridcolor": "white",
             "linecolor": "white",
             "minorgridcolor": "white",
             "startlinecolor": "#2a3f5f"
            },
            "type": "carpet"
           }
          ],
          "choropleth": [
           {
            "colorbar": {
             "outlinewidth": 0,
             "ticks": ""
            },
            "type": "choropleth"
           }
          ],
          "contour": [
           {
            "colorbar": {
             "outlinewidth": 0,
             "ticks": ""
            },
            "colorscale": [
             [
              0,
              "#0d0887"
             ],
             [
              0.1111111111111111,
              "#46039f"
             ],
             [
              0.2222222222222222,
              "#7201a8"
             ],
             [
              0.3333333333333333,
              "#9c179e"
             ],
             [
              0.4444444444444444,
              "#bd3786"
             ],
             [
              0.5555555555555556,
              "#d8576b"
             ],
             [
              0.6666666666666666,
              "#ed7953"
             ],
             [
              0.7777777777777778,
              "#fb9f3a"
             ],
             [
              0.8888888888888888,
              "#fdca26"
             ],
             [
              1,
              "#f0f921"
             ]
            ],
            "type": "contour"
           }
          ],
          "contourcarpet": [
           {
            "colorbar": {
             "outlinewidth": 0,
             "ticks": ""
            },
            "type": "contourcarpet"
           }
          ],
          "heatmap": [
           {
            "colorbar": {
             "outlinewidth": 0,
             "ticks": ""
            },
            "colorscale": [
             [
              0,
              "#0d0887"
             ],
             [
              0.1111111111111111,
              "#46039f"
             ],
             [
              0.2222222222222222,
              "#7201a8"
             ],
             [
              0.3333333333333333,
              "#9c179e"
             ],
             [
              0.4444444444444444,
              "#bd3786"
             ],
             [
              0.5555555555555556,
              "#d8576b"
             ],
             [
              0.6666666666666666,
              "#ed7953"
             ],
             [
              0.7777777777777778,
              "#fb9f3a"
             ],
             [
              0.8888888888888888,
              "#fdca26"
             ],
             [
              1,
              "#f0f921"
             ]
            ],
            "type": "heatmap"
           }
          ],
          "histogram": [
           {
            "marker": {
             "pattern": {
              "fillmode": "overlay",
              "size": 10,
              "solidity": 0.2
             }
            },
            "type": "histogram"
           }
          ],
          "histogram2d": [
           {
            "colorbar": {
             "outlinewidth": 0,
             "ticks": ""
            },
            "colorscale": [
             [
              0,
              "#0d0887"
             ],
             [
              0.1111111111111111,
              "#46039f"
             ],
             [
              0.2222222222222222,
              "#7201a8"
             ],
             [
              0.3333333333333333,
              "#9c179e"
             ],
             [
              0.4444444444444444,
              "#bd3786"
             ],
             [
              0.5555555555555556,
              "#d8576b"
             ],
             [
              0.6666666666666666,
              "#ed7953"
             ],
             [
              0.7777777777777778,
              "#fb9f3a"
             ],
             [
              0.8888888888888888,
              "#fdca26"
             ],
             [
              1,
              "#f0f921"
             ]
            ],
            "type": "histogram2d"
           }
          ],
          "histogram2dcontour": [
           {
            "colorbar": {
             "outlinewidth": 0,
             "ticks": ""
            },
            "colorscale": [
             [
              0,
              "#0d0887"
             ],
             [
              0.1111111111111111,
              "#46039f"
             ],
             [
              0.2222222222222222,
              "#7201a8"
             ],
             [
              0.3333333333333333,
              "#9c179e"
             ],
             [
              0.4444444444444444,
              "#bd3786"
             ],
             [
              0.5555555555555556,
              "#d8576b"
             ],
             [
              0.6666666666666666,
              "#ed7953"
             ],
             [
              0.7777777777777778,
              "#fb9f3a"
             ],
             [
              0.8888888888888888,
              "#fdca26"
             ],
             [
              1,
              "#f0f921"
             ]
            ],
            "type": "histogram2dcontour"
           }
          ],
          "mesh3d": [
           {
            "colorbar": {
             "outlinewidth": 0,
             "ticks": ""
            },
            "type": "mesh3d"
           }
          ],
          "parcoords": [
           {
            "line": {
             "colorbar": {
              "outlinewidth": 0,
              "ticks": ""
             }
            },
            "type": "parcoords"
           }
          ],
          "pie": [
           {
            "automargin": true,
            "type": "pie"
           }
          ],
          "scatter": [
           {
            "fillpattern": {
             "fillmode": "overlay",
             "size": 10,
             "solidity": 0.2
            },
            "type": "scatter"
           }
          ],
          "scatter3d": [
           {
            "line": {
             "colorbar": {
              "outlinewidth": 0,
              "ticks": ""
             }
            },
            "marker": {
             "colorbar": {
              "outlinewidth": 0,
              "ticks": ""
             }
            },
            "type": "scatter3d"
           }
          ],
          "scattercarpet": [
           {
            "marker": {
             "colorbar": {
              "outlinewidth": 0,
              "ticks": ""
             }
            },
            "type": "scattercarpet"
           }
          ],
          "scattergeo": [
           {
            "marker": {
             "colorbar": {
              "outlinewidth": 0,
              "ticks": ""
             }
            },
            "type": "scattergeo"
           }
          ],
          "scattergl": [
           {
            "marker": {
             "colorbar": {
              "outlinewidth": 0,
              "ticks": ""
             }
            },
            "type": "scattergl"
           }
          ],
          "scattermap": [
           {
            "marker": {
             "colorbar": {
              "outlinewidth": 0,
              "ticks": ""
             }
            },
            "type": "scattermap"
           }
          ],
          "scattermapbox": [
           {
            "marker": {
             "colorbar": {
              "outlinewidth": 0,
              "ticks": ""
             }
            },
            "type": "scattermapbox"
           }
          ],
          "scatterpolar": [
           {
            "marker": {
             "colorbar": {
              "outlinewidth": 0,
              "ticks": ""
             }
            },
            "type": "scatterpolar"
           }
          ],
          "scatterpolargl": [
           {
            "marker": {
             "colorbar": {
              "outlinewidth": 0,
              "ticks": ""
             }
            },
            "type": "scatterpolargl"
           }
          ],
          "scatterternary": [
           {
            "marker": {
             "colorbar": {
              "outlinewidth": 0,
              "ticks": ""
             }
            },
            "type": "scatterternary"
           }
          ],
          "surface": [
           {
            "colorbar": {
             "outlinewidth": 0,
             "ticks": ""
            },
            "colorscale": [
             [
              0,
              "#0d0887"
             ],
             [
              0.1111111111111111,
              "#46039f"
             ],
             [
              0.2222222222222222,
              "#7201a8"
             ],
             [
              0.3333333333333333,
              "#9c179e"
             ],
             [
              0.4444444444444444,
              "#bd3786"
             ],
             [
              0.5555555555555556,
              "#d8576b"
             ],
             [
              0.6666666666666666,
              "#ed7953"
             ],
             [
              0.7777777777777778,
              "#fb9f3a"
             ],
             [
              0.8888888888888888,
              "#fdca26"
             ],
             [
              1,
              "#f0f921"
             ]
            ],
            "type": "surface"
           }
          ],
          "table": [
           {
            "cells": {
             "fill": {
              "color": "#EBF0F8"
             },
             "line": {
              "color": "white"
             }
            },
            "header": {
             "fill": {
              "color": "#C8D4E3"
             },
             "line": {
              "color": "white"
             }
            },
            "type": "table"
           }
          ]
         },
         "layout": {
          "annotationdefaults": {
           "arrowcolor": "#2a3f5f",
           "arrowhead": 0,
           "arrowwidth": 1
          },
          "autotypenumbers": "strict",
          "coloraxis": {
           "colorbar": {
            "outlinewidth": 0,
            "ticks": ""
           }
          },
          "colorscale": {
           "diverging": [
            [
             0,
             "#8e0152"
            ],
            [
             0.1,
             "#c51b7d"
            ],
            [
             0.2,
             "#de77ae"
            ],
            [
             0.3,
             "#f1b6da"
            ],
            [
             0.4,
             "#fde0ef"
            ],
            [
             0.5,
             "#f7f7f7"
            ],
            [
             0.6,
             "#e6f5d0"
            ],
            [
             0.7,
             "#b8e186"
            ],
            [
             0.8,
             "#7fbc41"
            ],
            [
             0.9,
             "#4d9221"
            ],
            [
             1,
             "#276419"
            ]
           ],
           "sequential": [
            [
             0,
             "#0d0887"
            ],
            [
             0.1111111111111111,
             "#46039f"
            ],
            [
             0.2222222222222222,
             "#7201a8"
            ],
            [
             0.3333333333333333,
             "#9c179e"
            ],
            [
             0.4444444444444444,
             "#bd3786"
            ],
            [
             0.5555555555555556,
             "#d8576b"
            ],
            [
             0.6666666666666666,
             "#ed7953"
            ],
            [
             0.7777777777777778,
             "#fb9f3a"
            ],
            [
             0.8888888888888888,
             "#fdca26"
            ],
            [
             1,
             "#f0f921"
            ]
           ],
           "sequentialminus": [
            [
             0,
             "#0d0887"
            ],
            [
             0.1111111111111111,
             "#46039f"
            ],
            [
             0.2222222222222222,
             "#7201a8"
            ],
            [
             0.3333333333333333,
             "#9c179e"
            ],
            [
             0.4444444444444444,
             "#bd3786"
            ],
            [
             0.5555555555555556,
             "#d8576b"
            ],
            [
             0.6666666666666666,
             "#ed7953"
            ],
            [
             0.7777777777777778,
             "#fb9f3a"
            ],
            [
             0.8888888888888888,
             "#fdca26"
            ],
            [
             1,
             "#f0f921"
            ]
           ]
          },
          "colorway": [
           "#636efa",
           "#EF553B",
           "#00cc96",
           "#ab63fa",
           "#FFA15A",
           "#19d3f3",
           "#FF6692",
           "#B6E880",
           "#FF97FF",
           "#FECB52"
          ],
          "font": {
           "color": "#2a3f5f"
          },
          "geo": {
           "bgcolor": "white",
           "lakecolor": "white",
           "landcolor": "#E5ECF6",
           "showlakes": true,
           "showland": true,
           "subunitcolor": "white"
          },
          "hoverlabel": {
           "align": "left"
          },
          "hovermode": "closest",
          "mapbox": {
           "style": "light"
          },
          "paper_bgcolor": "white",
          "plot_bgcolor": "#E5ECF6",
          "polar": {
           "angularaxis": {
            "gridcolor": "white",
            "linecolor": "white",
            "ticks": ""
           },
           "bgcolor": "#E5ECF6",
           "radialaxis": {
            "gridcolor": "white",
            "linecolor": "white",
            "ticks": ""
           }
          },
          "scene": {
           "xaxis": {
            "backgroundcolor": "#E5ECF6",
            "gridcolor": "white",
            "gridwidth": 2,
            "linecolor": "white",
            "showbackground": true,
            "ticks": "",
            "zerolinecolor": "white"
           },
           "yaxis": {
            "backgroundcolor": "#E5ECF6",
            "gridcolor": "white",
            "gridwidth": 2,
            "linecolor": "white",
            "showbackground": true,
            "ticks": "",
            "zerolinecolor": "white"
           },
           "zaxis": {
            "backgroundcolor": "#E5ECF6",
            "gridcolor": "white",
            "gridwidth": 2,
            "linecolor": "white",
            "showbackground": true,
            "ticks": "",
            "zerolinecolor": "white"
           }
          },
          "shapedefaults": {
           "line": {
            "color": "#2a3f5f"
           }
          },
          "ternary": {
           "aaxis": {
            "gridcolor": "white",
            "linecolor": "white",
            "ticks": ""
           },
           "baxis": {
            "gridcolor": "white",
            "linecolor": "white",
            "ticks": ""
           },
           "bgcolor": "#E5ECF6",
           "caxis": {
            "gridcolor": "white",
            "linecolor": "white",
            "ticks": ""
           }
          },
          "title": {
           "x": 0.05
          },
          "xaxis": {
           "automargin": true,
           "gridcolor": "white",
           "linecolor": "white",
           "ticks": "",
           "title": {
            "standoff": 15
           },
           "zerolinecolor": "white",
           "zerolinewidth": 2
          },
          "yaxis": {
           "automargin": true,
           "gridcolor": "white",
           "linecolor": "white",
           "ticks": "",
           "title": {
            "standoff": 15
           },
           "zerolinecolor": "white",
           "zerolinewidth": 2
          }
         }
        },
        "title": {
         "text": "시즌 별 팀 랭킹"
        },
        "updatemenus": [
         {
          "buttons": [
           {
            "args": [
             null,
             {
              "frame": {
               "duration": 500,
               "redraw": true
              },
              "fromcurrent": true,
              "mode": "immediate",
              "transition": {
               "duration": 500,
               "easing": "linear"
              }
             }
            ],
            "label": "&#9654;",
            "method": "animate"
           },
           {
            "args": [
             [
              null
             ],
             {
              "frame": {
               "duration": 0,
               "redraw": true
              },
              "fromcurrent": true,
              "mode": "immediate",
              "transition": {
               "duration": 0,
               "easing": "linear"
              }
             }
            ],
            "label": "&#9724;",
            "method": "animate"
           }
          ],
          "direction": "left",
          "pad": {
           "r": 10,
           "t": 70
          },
          "showactive": false,
          "type": "buttons",
          "x": 0.1,
          "xanchor": "right",
          "y": 0,
          "yanchor": "top"
         }
        ],
        "width": 1000,
        "xaxis": {
         "anchor": "y",
         "categoryarray": [
          "Detroit",
          "Charlotte",
          "Houston",
          "San Antonio",
          "Orlando",
          "Washington",
          "L.A. Lakers",
          "Chicago",
          "Oklahoma City",
          "Toronto",
          "Golden State",
          "Dallas",
          "Minnesota",
          "Atlanta",
          "Indiana",
          "Miami",
          "Portland",
          "Utah",
          "New York",
          "Sacramento",
          "LA Clippers",
          "Phoenix",
          "Philadelphia",
          "New Orleans",
          "Brooklyn",
          "Denver",
          "Memphis",
          "Cleveland",
          "Boston",
          "Milwaukee",
          "New Orleans/Oklahoma City",
          "L.A. Clippers",
          "New Jersey",
          "Seattle"
         ],
         "categoryorder": "array",
         "domain": [
          0,
          1
         ],
         "title": {
          "text": "TEAM"
         }
        },
        "yaxis": {
         "anchor": "x",
         "autorange": "reversed",
         "domain": [
          0,
          1
         ],
         "range": [
          0,
          31
         ],
         "title": {
          "text": "SEASON_RANK"
         }
        }
       }
      }
     },
     "metadata": {},
     "output_type": "display_data"
    }
   ],
   "source": [
    "import plotly.express as px\n",
    "\n",
    "fig = px.bar(\n",
    "    regular_final_ranking,\n",
    "    x=\"TEAM\",\n",
    "    y=\"SEASON_RANK\",\n",
    "    color=\"TEAM\",\n",
    "    animation_frame=\"YEAR\",\n",
    "    title='시즌 별 팀 랭킹',\n",
    "    width=1000,\n",
    "    height=700,\n",
    "    category_orders={'TEAM': teams},\n",
    "    range_y=[0, regular_final_ranking[\"SEASON_RANK\"].max()+1]\n",
    ")\n",
    "# fig.update_xaxes(categoryorder='total descending')\n",
    "fig.update_yaxes(autorange=\"reversed\")  # 순위는 낮을수록 높음\n",
    "fig.show()"
   ]
  },
  {
   "cell_type": "code",
   "execution_count": 19,
   "id": "730983d0",
   "metadata": {},
   "outputs": [
    {
     "data": {
      "application/vnd.microsoft.datawrangler.viewer.v0+json": {
       "columns": [
        {
         "name": "index",
         "rawType": "int64",
         "type": "integer"
        },
        {
         "name": "TEAM_ID",
         "rawType": "int64",
         "type": "integer"
        },
        {
         "name": "LEAGUE_ID",
         "rawType": "int64",
         "type": "integer"
        },
        {
         "name": "SEASON_ID",
         "rawType": "object",
         "type": "string"
        },
        {
         "name": "STANDINGSDATE",
         "rawType": "datetime64[ns]",
         "type": "datetime"
        },
        {
         "name": "CONFERENCE",
         "rawType": "object",
         "type": "string"
        },
        {
         "name": "TEAM",
         "rawType": "object",
         "type": "string"
        },
        {
         "name": "G",
         "rawType": "int64",
         "type": "integer"
        },
        {
         "name": "W",
         "rawType": "int64",
         "type": "integer"
        },
        {
         "name": "L",
         "rawType": "int64",
         "type": "integer"
        },
        {
         "name": "W_PCT",
         "rawType": "float64",
         "type": "float"
        },
        {
         "name": "HOME_RECORD",
         "rawType": "object",
         "type": "string"
        },
        {
         "name": "ROAD_RECORD",
         "rawType": "object",
         "type": "string"
        },
        {
         "name": "RETURNTOPLAY",
         "rawType": "float64",
         "type": "float"
        },
        {
         "name": "SEASON_RANK",
         "rawType": "float64",
         "type": "float"
        },
        {
         "name": "SEASON_FLAG",
         "rawType": "object",
         "type": "string"
        },
        {
         "name": "YEAR",
         "rawType": "object",
         "type": "string"
        }
       ],
       "ref": "4624df52-9da5-4ef1-9d6b-a6b8eed02ca8",
       "rows": [
        [
         "165068",
         "1610612761",
         "0",
         "22005",
         "2006-10-04 00:00:00",
         "East",
         "Toronto",
         "82",
         "27",
         "55",
         "0.3289999999999999",
         "15-26",
         "12-29",
         null,
         "26.0",
         "2",
         "2005"
        ],
        [
         "165071",
         "1610612752",
         "0",
         "22005",
         "2006-10-04 00:00:00",
         "East",
         "New York",
         "82",
         "23",
         "59",
         "0.28",
         "15-26",
         "8-33",
         null,
         "29.0",
         "2",
         "2005"
        ],
        [
         "165067",
         "1610612738",
         "0",
         "22005",
         "2006-10-04 00:00:00",
         "East",
         "Boston",
         "82",
         "33",
         "49",
         "0.402",
         "21-20",
         "12-29",
         null,
         "24.0",
         "2",
         "2005"
        ],
        [
         "165066",
         "1610612753",
         "0",
         "22005",
         "2006-10-04 00:00:00",
         "East",
         "Orlando",
         "82",
         "36",
         "46",
         "0.439",
         "26-15",
         "10-31",
         null,
         "20.0",
         "2",
         "2005"
        ],
        [
         "165064",
         "1610612749",
         "0",
         "22005",
         "2006-10-04 00:00:00",
         "East",
         "Milwaukee",
         "82",
         "40",
         "42",
         "0.488",
         "25-16",
         "15-26",
         null,
         "17.0",
         "2",
         "2005"
        ],
        [
         "165063",
         "1610612754",
         "0",
         "22005",
         "2006-10-04 00:00:00",
         "East",
         "Indiana",
         "82",
         "41",
         "41",
         "0.5",
         "27-14",
         "14-27",
         null,
         "14.0",
         "2",
         "2005"
        ],
        [
         "165062",
         "1610612741",
         "0",
         "22005",
         "2006-10-04 00:00:00",
         "East",
         "Chicago",
         "82",
         "41",
         "41",
         "0.5",
         "21-20",
         "20-21",
         null,
         "14.0",
         "2",
         "2005"
        ],
        [
         "165061",
         "1610612764",
         "0",
         "22005",
         "2006-10-04 00:00:00",
         "East",
         "Washington",
         "82",
         "42",
         "40",
         "0.512",
         "27-14",
         "15-26",
         null,
         "13.0",
         "2",
         "2005"
        ],
        [
         "165060",
         "1610612751",
         "0",
         "22005",
         "2006-10-04 00:00:00",
         "East",
         "New Jersey",
         "82",
         "49",
         "33",
         "0.598",
         "29-12",
         "20-21",
         null,
         "7.0",
         "2",
         "2005"
        ],
        [
         "165059",
         "1610612739",
         "0",
         "22005",
         "2006-10-04 00:00:00",
         "East",
         "Cleveland",
         "82",
         "50",
         "32",
         "0.61",
         "31-10",
         "19-22",
         null,
         "6.0",
         "2",
         "2005"
        ],
        [
         "165058",
         "1610612748",
         "0",
         "22005",
         "2006-10-04 00:00:00",
         "East",
         "Miami",
         "82",
         "52",
         "30",
         "0.634",
         "31-10",
         "21-20",
         null,
         "5.0",
         "2",
         "2005"
        ],
        [
         "165057",
         "1610612765",
         "0",
         "22005",
         "2006-10-04 00:00:00",
         "East",
         "Detroit",
         "82",
         "64",
         "18",
         "0.78",
         "37-4",
         "27-14",
         null,
         "1.0",
         "2",
         "2005"
        ],
        [
         "165069",
         "1610612737",
         "0",
         "22005",
         "2006-10-04 00:00:00",
         "East",
         "Atlanta",
         "82",
         "26",
         "56",
         "0.317",
         "18-23",
         "8-33",
         null,
         "27.0",
         "2",
         "2005"
        ],
        [
         "165070",
         "1610612766",
         "0",
         "22005",
         "2006-10-04 00:00:00",
         "East",
         "Charlotte",
         "82",
         "26",
         "56",
         "0.317",
         "17-24",
         "9-32",
         null,
         "27.0",
         "2",
         "2005"
        ],
        [
         "165065",
         "1610612755",
         "0",
         "22005",
         "2006-10-04 00:00:00",
         "East",
         "Philadelphia",
         "82",
         "38",
         "44",
         "0.4629999999999999",
         "23-18",
         "15-26",
         null,
         "18.0",
         "2",
         "2005"
        ],
        [
         "76843",
         "1610612757",
         "0",
         "22005",
         "2006-10-04 00:00:00",
         "West",
         "Portland",
         "82",
         "21",
         "61",
         "0.256",
         "15-26",
         "6-35",
         null,
         "30.0",
         "2",
         "2005"
        ],
        [
         "76829",
         "1610612759",
         "0",
         "22005",
         "2006-10-04 00:00:00",
         "West",
         "San Antonio",
         "82",
         "63",
         "19",
         "0.768",
         "34-7",
         "29-12",
         null,
         "2.0",
         "2",
         "2005"
        ],
        [
         "76830",
         "1610612742",
         "0",
         "22005",
         "2006-10-04 00:00:00",
         "West",
         "Dallas",
         "82",
         "60",
         "22",
         "0.732",
         "34-7",
         "26-15",
         null,
         "3.0",
         "2",
         "2005"
        ],
        [
         "76832",
         "1610612763",
         "0",
         "22005",
         "2006-10-04 00:00:00",
         "West",
         "Memphis",
         "82",
         "49",
         "33",
         "0.598",
         "30-11",
         "19-22",
         null,
         "7.0",
         "2",
         "2005"
        ],
        [
         "76833",
         "1610612746",
         "0",
         "22005",
         "2006-10-04 00:00:00",
         "West",
         "L.A. Clippers",
         "82",
         "47",
         "35",
         "0.573",
         "27-14",
         "20-21",
         null,
         "9.0",
         "2",
         "2005"
        ],
        [
         "76834",
         "1610612747",
         "0",
         "22005",
         "2006-10-04 00:00:00",
         "West",
         "L.A. Lakers",
         "82",
         "45",
         "37",
         "0.5489999999999999",
         "27-14",
         "18-23",
         null,
         "10.0",
         "2",
         "2005"
        ],
        [
         "76835",
         "1610612743",
         "0",
         "22005",
         "2006-10-04 00:00:00",
         "West",
         "Denver",
         "82",
         "44",
         "38",
         "0.537",
         "26-15",
         "18-23",
         null,
         "11.0",
         "2",
         "2005"
        ],
        [
         "76836",
         "1610612758",
         "0",
         "22005",
         "2006-10-04 00:00:00",
         "West",
         "Sacramento",
         "82",
         "44",
         "38",
         "0.537",
         "27-14",
         "17-24",
         null,
         "11.0",
         "2",
         "2005"
        ],
        [
         "76831",
         "1610612756",
         "0",
         "22005",
         "2006-10-04 00:00:00",
         "West",
         "Phoenix",
         "82",
         "54",
         "28",
         "0.659",
         "31-10",
         "23-18",
         null,
         "4.0",
         "2",
         "2005"
        ],
        [
         "76837",
         "1610612762",
         "0",
         "22005",
         "2006-10-04 00:00:00",
         "West",
         "Utah",
         "82",
         "41",
         "41",
         "0.5",
         "22-19",
         "19-22",
         null,
         "14.0",
         "2",
         "2005"
        ],
        [
         "76838",
         "1610612740",
         "0",
         "22005",
         "2006-10-04 00:00:00",
         "West",
         "New Orleans/Oklahoma City",
         "82",
         "38",
         "44",
         "0.4629999999999999",
         "24-17",
         "14-27",
         null,
         "18.0",
         "2",
         "2005"
        ],
        [
         "76839",
         "1610612760",
         "0",
         "22005",
         "2006-10-04 00:00:00",
         "West",
         "Seattle",
         "82",
         "35",
         "47",
         "0.4270000000000001",
         "22-19",
         "13-28",
         null,
         "21.0",
         "2",
         "2005"
        ],
        [
         "76840",
         "1610612744",
         "0",
         "22005",
         "2006-10-04 00:00:00",
         "West",
         "Golden State",
         "82",
         "34",
         "48",
         "0.415",
         "21-20",
         "13-28",
         null,
         "22.0",
         "2",
         "2005"
        ],
        [
         "76841",
         "1610612745",
         "0",
         "22005",
         "2006-10-04 00:00:00",
         "West",
         "Houston",
         "82",
         "34",
         "48",
         "0.415",
         "15-26",
         "19-22",
         null,
         "22.0",
         "2",
         "2005"
        ],
        [
         "76842",
         "1610612750",
         "0",
         "22005",
         "2006-10-04 00:00:00",
         "West",
         "Minnesota",
         "82",
         "33",
         "49",
         "0.402",
         "24-17",
         "9-32",
         null,
         "24.0",
         "2",
         "2005"
        ]
       ],
       "shape": {
        "columns": 16,
        "rows": 30
       }
      },
      "text/html": [
       "<div>\n",
       "<style scoped>\n",
       "    .dataframe tbody tr th:only-of-type {\n",
       "        vertical-align: middle;\n",
       "    }\n",
       "\n",
       "    .dataframe tbody tr th {\n",
       "        vertical-align: top;\n",
       "    }\n",
       "\n",
       "    .dataframe thead th {\n",
       "        text-align: right;\n",
       "    }\n",
       "</style>\n",
       "<table border=\"1\" class=\"dataframe\">\n",
       "  <thead>\n",
       "    <tr style=\"text-align: right;\">\n",
       "      <th></th>\n",
       "      <th>TEAM_ID</th>\n",
       "      <th>LEAGUE_ID</th>\n",
       "      <th>SEASON_ID</th>\n",
       "      <th>STANDINGSDATE</th>\n",
       "      <th>CONFERENCE</th>\n",
       "      <th>TEAM</th>\n",
       "      <th>G</th>\n",
       "      <th>W</th>\n",
       "      <th>L</th>\n",
       "      <th>W_PCT</th>\n",
       "      <th>HOME_RECORD</th>\n",
       "      <th>ROAD_RECORD</th>\n",
       "      <th>RETURNTOPLAY</th>\n",
       "      <th>SEASON_RANK</th>\n",
       "      <th>SEASON_FLAG</th>\n",
       "      <th>YEAR</th>\n",
       "    </tr>\n",
       "  </thead>\n",
       "  <tbody>\n",
       "    <tr>\n",
       "      <th>165068</th>\n",
       "      <td>1610612761</td>\n",
       "      <td>0</td>\n",
       "      <td>22005</td>\n",
       "      <td>2006-10-04</td>\n",
       "      <td>East</td>\n",
       "      <td>Toronto</td>\n",
       "      <td>82</td>\n",
       "      <td>27</td>\n",
       "      <td>55</td>\n",
       "      <td>0.329</td>\n",
       "      <td>15-26</td>\n",
       "      <td>12-29</td>\n",
       "      <td>NaN</td>\n",
       "      <td>26.0</td>\n",
       "      <td>2</td>\n",
       "      <td>2005</td>\n",
       "    </tr>\n",
       "    <tr>\n",
       "      <th>165071</th>\n",
       "      <td>1610612752</td>\n",
       "      <td>0</td>\n",
       "      <td>22005</td>\n",
       "      <td>2006-10-04</td>\n",
       "      <td>East</td>\n",
       "      <td>New York</td>\n",
       "      <td>82</td>\n",
       "      <td>23</td>\n",
       "      <td>59</td>\n",
       "      <td>0.280</td>\n",
       "      <td>15-26</td>\n",
       "      <td>8-33</td>\n",
       "      <td>NaN</td>\n",
       "      <td>29.0</td>\n",
       "      <td>2</td>\n",
       "      <td>2005</td>\n",
       "    </tr>\n",
       "    <tr>\n",
       "      <th>165067</th>\n",
       "      <td>1610612738</td>\n",
       "      <td>0</td>\n",
       "      <td>22005</td>\n",
       "      <td>2006-10-04</td>\n",
       "      <td>East</td>\n",
       "      <td>Boston</td>\n",
       "      <td>82</td>\n",
       "      <td>33</td>\n",
       "      <td>49</td>\n",
       "      <td>0.402</td>\n",
       "      <td>21-20</td>\n",
       "      <td>12-29</td>\n",
       "      <td>NaN</td>\n",
       "      <td>24.0</td>\n",
       "      <td>2</td>\n",
       "      <td>2005</td>\n",
       "    </tr>\n",
       "    <tr>\n",
       "      <th>165066</th>\n",
       "      <td>1610612753</td>\n",
       "      <td>0</td>\n",
       "      <td>22005</td>\n",
       "      <td>2006-10-04</td>\n",
       "      <td>East</td>\n",
       "      <td>Orlando</td>\n",
       "      <td>82</td>\n",
       "      <td>36</td>\n",
       "      <td>46</td>\n",
       "      <td>0.439</td>\n",
       "      <td>26-15</td>\n",
       "      <td>10-31</td>\n",
       "      <td>NaN</td>\n",
       "      <td>20.0</td>\n",
       "      <td>2</td>\n",
       "      <td>2005</td>\n",
       "    </tr>\n",
       "    <tr>\n",
       "      <th>165064</th>\n",
       "      <td>1610612749</td>\n",
       "      <td>0</td>\n",
       "      <td>22005</td>\n",
       "      <td>2006-10-04</td>\n",
       "      <td>East</td>\n",
       "      <td>Milwaukee</td>\n",
       "      <td>82</td>\n",
       "      <td>40</td>\n",
       "      <td>42</td>\n",
       "      <td>0.488</td>\n",
       "      <td>25-16</td>\n",
       "      <td>15-26</td>\n",
       "      <td>NaN</td>\n",
       "      <td>17.0</td>\n",
       "      <td>2</td>\n",
       "      <td>2005</td>\n",
       "    </tr>\n",
       "    <tr>\n",
       "      <th>165063</th>\n",
       "      <td>1610612754</td>\n",
       "      <td>0</td>\n",
       "      <td>22005</td>\n",
       "      <td>2006-10-04</td>\n",
       "      <td>East</td>\n",
       "      <td>Indiana</td>\n",
       "      <td>82</td>\n",
       "      <td>41</td>\n",
       "      <td>41</td>\n",
       "      <td>0.500</td>\n",
       "      <td>27-14</td>\n",
       "      <td>14-27</td>\n",
       "      <td>NaN</td>\n",
       "      <td>14.0</td>\n",
       "      <td>2</td>\n",
       "      <td>2005</td>\n",
       "    </tr>\n",
       "    <tr>\n",
       "      <th>165062</th>\n",
       "      <td>1610612741</td>\n",
       "      <td>0</td>\n",
       "      <td>22005</td>\n",
       "      <td>2006-10-04</td>\n",
       "      <td>East</td>\n",
       "      <td>Chicago</td>\n",
       "      <td>82</td>\n",
       "      <td>41</td>\n",
       "      <td>41</td>\n",
       "      <td>0.500</td>\n",
       "      <td>21-20</td>\n",
       "      <td>20-21</td>\n",
       "      <td>NaN</td>\n",
       "      <td>14.0</td>\n",
       "      <td>2</td>\n",
       "      <td>2005</td>\n",
       "    </tr>\n",
       "    <tr>\n",
       "      <th>165061</th>\n",
       "      <td>1610612764</td>\n",
       "      <td>0</td>\n",
       "      <td>22005</td>\n",
       "      <td>2006-10-04</td>\n",
       "      <td>East</td>\n",
       "      <td>Washington</td>\n",
       "      <td>82</td>\n",
       "      <td>42</td>\n",
       "      <td>40</td>\n",
       "      <td>0.512</td>\n",
       "      <td>27-14</td>\n",
       "      <td>15-26</td>\n",
       "      <td>NaN</td>\n",
       "      <td>13.0</td>\n",
       "      <td>2</td>\n",
       "      <td>2005</td>\n",
       "    </tr>\n",
       "    <tr>\n",
       "      <th>165060</th>\n",
       "      <td>1610612751</td>\n",
       "      <td>0</td>\n",
       "      <td>22005</td>\n",
       "      <td>2006-10-04</td>\n",
       "      <td>East</td>\n",
       "      <td>New Jersey</td>\n",
       "      <td>82</td>\n",
       "      <td>49</td>\n",
       "      <td>33</td>\n",
       "      <td>0.598</td>\n",
       "      <td>29-12</td>\n",
       "      <td>20-21</td>\n",
       "      <td>NaN</td>\n",
       "      <td>7.0</td>\n",
       "      <td>2</td>\n",
       "      <td>2005</td>\n",
       "    </tr>\n",
       "    <tr>\n",
       "      <th>165059</th>\n",
       "      <td>1610612739</td>\n",
       "      <td>0</td>\n",
       "      <td>22005</td>\n",
       "      <td>2006-10-04</td>\n",
       "      <td>East</td>\n",
       "      <td>Cleveland</td>\n",
       "      <td>82</td>\n",
       "      <td>50</td>\n",
       "      <td>32</td>\n",
       "      <td>0.610</td>\n",
       "      <td>31-10</td>\n",
       "      <td>19-22</td>\n",
       "      <td>NaN</td>\n",
       "      <td>6.0</td>\n",
       "      <td>2</td>\n",
       "      <td>2005</td>\n",
       "    </tr>\n",
       "    <tr>\n",
       "      <th>165058</th>\n",
       "      <td>1610612748</td>\n",
       "      <td>0</td>\n",
       "      <td>22005</td>\n",
       "      <td>2006-10-04</td>\n",
       "      <td>East</td>\n",
       "      <td>Miami</td>\n",
       "      <td>82</td>\n",
       "      <td>52</td>\n",
       "      <td>30</td>\n",
       "      <td>0.634</td>\n",
       "      <td>31-10</td>\n",
       "      <td>21-20</td>\n",
       "      <td>NaN</td>\n",
       "      <td>5.0</td>\n",
       "      <td>2</td>\n",
       "      <td>2005</td>\n",
       "    </tr>\n",
       "    <tr>\n",
       "      <th>165057</th>\n",
       "      <td>1610612765</td>\n",
       "      <td>0</td>\n",
       "      <td>22005</td>\n",
       "      <td>2006-10-04</td>\n",
       "      <td>East</td>\n",
       "      <td>Detroit</td>\n",
       "      <td>82</td>\n",
       "      <td>64</td>\n",
       "      <td>18</td>\n",
       "      <td>0.780</td>\n",
       "      <td>37-4</td>\n",
       "      <td>27-14</td>\n",
       "      <td>NaN</td>\n",
       "      <td>1.0</td>\n",
       "      <td>2</td>\n",
       "      <td>2005</td>\n",
       "    </tr>\n",
       "    <tr>\n",
       "      <th>165069</th>\n",
       "      <td>1610612737</td>\n",
       "      <td>0</td>\n",
       "      <td>22005</td>\n",
       "      <td>2006-10-04</td>\n",
       "      <td>East</td>\n",
       "      <td>Atlanta</td>\n",
       "      <td>82</td>\n",
       "      <td>26</td>\n",
       "      <td>56</td>\n",
       "      <td>0.317</td>\n",
       "      <td>18-23</td>\n",
       "      <td>8-33</td>\n",
       "      <td>NaN</td>\n",
       "      <td>27.0</td>\n",
       "      <td>2</td>\n",
       "      <td>2005</td>\n",
       "    </tr>\n",
       "    <tr>\n",
       "      <th>165070</th>\n",
       "      <td>1610612766</td>\n",
       "      <td>0</td>\n",
       "      <td>22005</td>\n",
       "      <td>2006-10-04</td>\n",
       "      <td>East</td>\n",
       "      <td>Charlotte</td>\n",
       "      <td>82</td>\n",
       "      <td>26</td>\n",
       "      <td>56</td>\n",
       "      <td>0.317</td>\n",
       "      <td>17-24</td>\n",
       "      <td>9-32</td>\n",
       "      <td>NaN</td>\n",
       "      <td>27.0</td>\n",
       "      <td>2</td>\n",
       "      <td>2005</td>\n",
       "    </tr>\n",
       "    <tr>\n",
       "      <th>165065</th>\n",
       "      <td>1610612755</td>\n",
       "      <td>0</td>\n",
       "      <td>22005</td>\n",
       "      <td>2006-10-04</td>\n",
       "      <td>East</td>\n",
       "      <td>Philadelphia</td>\n",
       "      <td>82</td>\n",
       "      <td>38</td>\n",
       "      <td>44</td>\n",
       "      <td>0.463</td>\n",
       "      <td>23-18</td>\n",
       "      <td>15-26</td>\n",
       "      <td>NaN</td>\n",
       "      <td>18.0</td>\n",
       "      <td>2</td>\n",
       "      <td>2005</td>\n",
       "    </tr>\n",
       "    <tr>\n",
       "      <th>76843</th>\n",
       "      <td>1610612757</td>\n",
       "      <td>0</td>\n",
       "      <td>22005</td>\n",
       "      <td>2006-10-04</td>\n",
       "      <td>West</td>\n",
       "      <td>Portland</td>\n",
       "      <td>82</td>\n",
       "      <td>21</td>\n",
       "      <td>61</td>\n",
       "      <td>0.256</td>\n",
       "      <td>15-26</td>\n",
       "      <td>6-35</td>\n",
       "      <td>NaN</td>\n",
       "      <td>30.0</td>\n",
       "      <td>2</td>\n",
       "      <td>2005</td>\n",
       "    </tr>\n",
       "    <tr>\n",
       "      <th>76829</th>\n",
       "      <td>1610612759</td>\n",
       "      <td>0</td>\n",
       "      <td>22005</td>\n",
       "      <td>2006-10-04</td>\n",
       "      <td>West</td>\n",
       "      <td>San Antonio</td>\n",
       "      <td>82</td>\n",
       "      <td>63</td>\n",
       "      <td>19</td>\n",
       "      <td>0.768</td>\n",
       "      <td>34-7</td>\n",
       "      <td>29-12</td>\n",
       "      <td>NaN</td>\n",
       "      <td>2.0</td>\n",
       "      <td>2</td>\n",
       "      <td>2005</td>\n",
       "    </tr>\n",
       "    <tr>\n",
       "      <th>76830</th>\n",
       "      <td>1610612742</td>\n",
       "      <td>0</td>\n",
       "      <td>22005</td>\n",
       "      <td>2006-10-04</td>\n",
       "      <td>West</td>\n",
       "      <td>Dallas</td>\n",
       "      <td>82</td>\n",
       "      <td>60</td>\n",
       "      <td>22</td>\n",
       "      <td>0.732</td>\n",
       "      <td>34-7</td>\n",
       "      <td>26-15</td>\n",
       "      <td>NaN</td>\n",
       "      <td>3.0</td>\n",
       "      <td>2</td>\n",
       "      <td>2005</td>\n",
       "    </tr>\n",
       "    <tr>\n",
       "      <th>76832</th>\n",
       "      <td>1610612763</td>\n",
       "      <td>0</td>\n",
       "      <td>22005</td>\n",
       "      <td>2006-10-04</td>\n",
       "      <td>West</td>\n",
       "      <td>Memphis</td>\n",
       "      <td>82</td>\n",
       "      <td>49</td>\n",
       "      <td>33</td>\n",
       "      <td>0.598</td>\n",
       "      <td>30-11</td>\n",
       "      <td>19-22</td>\n",
       "      <td>NaN</td>\n",
       "      <td>7.0</td>\n",
       "      <td>2</td>\n",
       "      <td>2005</td>\n",
       "    </tr>\n",
       "    <tr>\n",
       "      <th>76833</th>\n",
       "      <td>1610612746</td>\n",
       "      <td>0</td>\n",
       "      <td>22005</td>\n",
       "      <td>2006-10-04</td>\n",
       "      <td>West</td>\n",
       "      <td>L.A. Clippers</td>\n",
       "      <td>82</td>\n",
       "      <td>47</td>\n",
       "      <td>35</td>\n",
       "      <td>0.573</td>\n",
       "      <td>27-14</td>\n",
       "      <td>20-21</td>\n",
       "      <td>NaN</td>\n",
       "      <td>9.0</td>\n",
       "      <td>2</td>\n",
       "      <td>2005</td>\n",
       "    </tr>\n",
       "    <tr>\n",
       "      <th>76834</th>\n",
       "      <td>1610612747</td>\n",
       "      <td>0</td>\n",
       "      <td>22005</td>\n",
       "      <td>2006-10-04</td>\n",
       "      <td>West</td>\n",
       "      <td>L.A. Lakers</td>\n",
       "      <td>82</td>\n",
       "      <td>45</td>\n",
       "      <td>37</td>\n",
       "      <td>0.549</td>\n",
       "      <td>27-14</td>\n",
       "      <td>18-23</td>\n",
       "      <td>NaN</td>\n",
       "      <td>10.0</td>\n",
       "      <td>2</td>\n",
       "      <td>2005</td>\n",
       "    </tr>\n",
       "    <tr>\n",
       "      <th>76835</th>\n",
       "      <td>1610612743</td>\n",
       "      <td>0</td>\n",
       "      <td>22005</td>\n",
       "      <td>2006-10-04</td>\n",
       "      <td>West</td>\n",
       "      <td>Denver</td>\n",
       "      <td>82</td>\n",
       "      <td>44</td>\n",
       "      <td>38</td>\n",
       "      <td>0.537</td>\n",
       "      <td>26-15</td>\n",
       "      <td>18-23</td>\n",
       "      <td>NaN</td>\n",
       "      <td>11.0</td>\n",
       "      <td>2</td>\n",
       "      <td>2005</td>\n",
       "    </tr>\n",
       "    <tr>\n",
       "      <th>76836</th>\n",
       "      <td>1610612758</td>\n",
       "      <td>0</td>\n",
       "      <td>22005</td>\n",
       "      <td>2006-10-04</td>\n",
       "      <td>West</td>\n",
       "      <td>Sacramento</td>\n",
       "      <td>82</td>\n",
       "      <td>44</td>\n",
       "      <td>38</td>\n",
       "      <td>0.537</td>\n",
       "      <td>27-14</td>\n",
       "      <td>17-24</td>\n",
       "      <td>NaN</td>\n",
       "      <td>11.0</td>\n",
       "      <td>2</td>\n",
       "      <td>2005</td>\n",
       "    </tr>\n",
       "    <tr>\n",
       "      <th>76831</th>\n",
       "      <td>1610612756</td>\n",
       "      <td>0</td>\n",
       "      <td>22005</td>\n",
       "      <td>2006-10-04</td>\n",
       "      <td>West</td>\n",
       "      <td>Phoenix</td>\n",
       "      <td>82</td>\n",
       "      <td>54</td>\n",
       "      <td>28</td>\n",
       "      <td>0.659</td>\n",
       "      <td>31-10</td>\n",
       "      <td>23-18</td>\n",
       "      <td>NaN</td>\n",
       "      <td>4.0</td>\n",
       "      <td>2</td>\n",
       "      <td>2005</td>\n",
       "    </tr>\n",
       "    <tr>\n",
       "      <th>76837</th>\n",
       "      <td>1610612762</td>\n",
       "      <td>0</td>\n",
       "      <td>22005</td>\n",
       "      <td>2006-10-04</td>\n",
       "      <td>West</td>\n",
       "      <td>Utah</td>\n",
       "      <td>82</td>\n",
       "      <td>41</td>\n",
       "      <td>41</td>\n",
       "      <td>0.500</td>\n",
       "      <td>22-19</td>\n",
       "      <td>19-22</td>\n",
       "      <td>NaN</td>\n",
       "      <td>14.0</td>\n",
       "      <td>2</td>\n",
       "      <td>2005</td>\n",
       "    </tr>\n",
       "    <tr>\n",
       "      <th>76838</th>\n",
       "      <td>1610612740</td>\n",
       "      <td>0</td>\n",
       "      <td>22005</td>\n",
       "      <td>2006-10-04</td>\n",
       "      <td>West</td>\n",
       "      <td>New Orleans/Oklahoma City</td>\n",
       "      <td>82</td>\n",
       "      <td>38</td>\n",
       "      <td>44</td>\n",
       "      <td>0.463</td>\n",
       "      <td>24-17</td>\n",
       "      <td>14-27</td>\n",
       "      <td>NaN</td>\n",
       "      <td>18.0</td>\n",
       "      <td>2</td>\n",
       "      <td>2005</td>\n",
       "    </tr>\n",
       "    <tr>\n",
       "      <th>76839</th>\n",
       "      <td>1610612760</td>\n",
       "      <td>0</td>\n",
       "      <td>22005</td>\n",
       "      <td>2006-10-04</td>\n",
       "      <td>West</td>\n",
       "      <td>Seattle</td>\n",
       "      <td>82</td>\n",
       "      <td>35</td>\n",
       "      <td>47</td>\n",
       "      <td>0.427</td>\n",
       "      <td>22-19</td>\n",
       "      <td>13-28</td>\n",
       "      <td>NaN</td>\n",
       "      <td>21.0</td>\n",
       "      <td>2</td>\n",
       "      <td>2005</td>\n",
       "    </tr>\n",
       "    <tr>\n",
       "      <th>76840</th>\n",
       "      <td>1610612744</td>\n",
       "      <td>0</td>\n",
       "      <td>22005</td>\n",
       "      <td>2006-10-04</td>\n",
       "      <td>West</td>\n",
       "      <td>Golden State</td>\n",
       "      <td>82</td>\n",
       "      <td>34</td>\n",
       "      <td>48</td>\n",
       "      <td>0.415</td>\n",
       "      <td>21-20</td>\n",
       "      <td>13-28</td>\n",
       "      <td>NaN</td>\n",
       "      <td>22.0</td>\n",
       "      <td>2</td>\n",
       "      <td>2005</td>\n",
       "    </tr>\n",
       "    <tr>\n",
       "      <th>76841</th>\n",
       "      <td>1610612745</td>\n",
       "      <td>0</td>\n",
       "      <td>22005</td>\n",
       "      <td>2006-10-04</td>\n",
       "      <td>West</td>\n",
       "      <td>Houston</td>\n",
       "      <td>82</td>\n",
       "      <td>34</td>\n",
       "      <td>48</td>\n",
       "      <td>0.415</td>\n",
       "      <td>15-26</td>\n",
       "      <td>19-22</td>\n",
       "      <td>NaN</td>\n",
       "      <td>22.0</td>\n",
       "      <td>2</td>\n",
       "      <td>2005</td>\n",
       "    </tr>\n",
       "    <tr>\n",
       "      <th>76842</th>\n",
       "      <td>1610612750</td>\n",
       "      <td>0</td>\n",
       "      <td>22005</td>\n",
       "      <td>2006-10-04</td>\n",
       "      <td>West</td>\n",
       "      <td>Minnesota</td>\n",
       "      <td>82</td>\n",
       "      <td>33</td>\n",
       "      <td>49</td>\n",
       "      <td>0.402</td>\n",
       "      <td>24-17</td>\n",
       "      <td>9-32</td>\n",
       "      <td>NaN</td>\n",
       "      <td>24.0</td>\n",
       "      <td>2</td>\n",
       "      <td>2005</td>\n",
       "    </tr>\n",
       "  </tbody>\n",
       "</table>\n",
       "</div>"
      ],
      "text/plain": [
       "           TEAM_ID  LEAGUE_ID SEASON_ID STANDINGSDATE CONFERENCE  \\\n",
       "165068  1610612761          0     22005    2006-10-04       East   \n",
       "165071  1610612752          0     22005    2006-10-04       East   \n",
       "165067  1610612738          0     22005    2006-10-04       East   \n",
       "165066  1610612753          0     22005    2006-10-04       East   \n",
       "165064  1610612749          0     22005    2006-10-04       East   \n",
       "165063  1610612754          0     22005    2006-10-04       East   \n",
       "165062  1610612741          0     22005    2006-10-04       East   \n",
       "165061  1610612764          0     22005    2006-10-04       East   \n",
       "165060  1610612751          0     22005    2006-10-04       East   \n",
       "165059  1610612739          0     22005    2006-10-04       East   \n",
       "165058  1610612748          0     22005    2006-10-04       East   \n",
       "165057  1610612765          0     22005    2006-10-04       East   \n",
       "165069  1610612737          0     22005    2006-10-04       East   \n",
       "165070  1610612766          0     22005    2006-10-04       East   \n",
       "165065  1610612755          0     22005    2006-10-04       East   \n",
       "76843   1610612757          0     22005    2006-10-04       West   \n",
       "76829   1610612759          0     22005    2006-10-04       West   \n",
       "76830   1610612742          0     22005    2006-10-04       West   \n",
       "76832   1610612763          0     22005    2006-10-04       West   \n",
       "76833   1610612746          0     22005    2006-10-04       West   \n",
       "76834   1610612747          0     22005    2006-10-04       West   \n",
       "76835   1610612743          0     22005    2006-10-04       West   \n",
       "76836   1610612758          0     22005    2006-10-04       West   \n",
       "76831   1610612756          0     22005    2006-10-04       West   \n",
       "76837   1610612762          0     22005    2006-10-04       West   \n",
       "76838   1610612740          0     22005    2006-10-04       West   \n",
       "76839   1610612760          0     22005    2006-10-04       West   \n",
       "76840   1610612744          0     22005    2006-10-04       West   \n",
       "76841   1610612745          0     22005    2006-10-04       West   \n",
       "76842   1610612750          0     22005    2006-10-04       West   \n",
       "\n",
       "                             TEAM   G   W   L  W_PCT HOME_RECORD ROAD_RECORD  \\\n",
       "165068                    Toronto  82  27  55  0.329       15-26       12-29   \n",
       "165071                   New York  82  23  59  0.280       15-26        8-33   \n",
       "165067                     Boston  82  33  49  0.402       21-20       12-29   \n",
       "165066                    Orlando  82  36  46  0.439       26-15       10-31   \n",
       "165064                  Milwaukee  82  40  42  0.488       25-16       15-26   \n",
       "165063                    Indiana  82  41  41  0.500       27-14       14-27   \n",
       "165062                    Chicago  82  41  41  0.500       21-20       20-21   \n",
       "165061                 Washington  82  42  40  0.512       27-14       15-26   \n",
       "165060                 New Jersey  82  49  33  0.598       29-12       20-21   \n",
       "165059                  Cleveland  82  50  32  0.610       31-10       19-22   \n",
       "165058                      Miami  82  52  30  0.634       31-10       21-20   \n",
       "165057                    Detroit  82  64  18  0.780        37-4       27-14   \n",
       "165069                    Atlanta  82  26  56  0.317       18-23        8-33   \n",
       "165070                  Charlotte  82  26  56  0.317       17-24        9-32   \n",
       "165065               Philadelphia  82  38  44  0.463       23-18       15-26   \n",
       "76843                    Portland  82  21  61  0.256       15-26        6-35   \n",
       "76829                 San Antonio  82  63  19  0.768        34-7       29-12   \n",
       "76830                      Dallas  82  60  22  0.732        34-7       26-15   \n",
       "76832                     Memphis  82  49  33  0.598       30-11       19-22   \n",
       "76833               L.A. Clippers  82  47  35  0.573       27-14       20-21   \n",
       "76834                 L.A. Lakers  82  45  37  0.549       27-14       18-23   \n",
       "76835                      Denver  82  44  38  0.537       26-15       18-23   \n",
       "76836                  Sacramento  82  44  38  0.537       27-14       17-24   \n",
       "76831                     Phoenix  82  54  28  0.659       31-10       23-18   \n",
       "76837                        Utah  82  41  41  0.500       22-19       19-22   \n",
       "76838   New Orleans/Oklahoma City  82  38  44  0.463       24-17       14-27   \n",
       "76839                     Seattle  82  35  47  0.427       22-19       13-28   \n",
       "76840                Golden State  82  34  48  0.415       21-20       13-28   \n",
       "76841                     Houston  82  34  48  0.415       15-26       19-22   \n",
       "76842                   Minnesota  82  33  49  0.402       24-17        9-32   \n",
       "\n",
       "        RETURNTOPLAY  SEASON_RANK SEASON_FLAG  YEAR  \n",
       "165068           NaN         26.0           2  2005  \n",
       "165071           NaN         29.0           2  2005  \n",
       "165067           NaN         24.0           2  2005  \n",
       "165066           NaN         20.0           2  2005  \n",
       "165064           NaN         17.0           2  2005  \n",
       "165063           NaN         14.0           2  2005  \n",
       "165062           NaN         14.0           2  2005  \n",
       "165061           NaN         13.0           2  2005  \n",
       "165060           NaN          7.0           2  2005  \n",
       "165059           NaN          6.0           2  2005  \n",
       "165058           NaN          5.0           2  2005  \n",
       "165057           NaN          1.0           2  2005  \n",
       "165069           NaN         27.0           2  2005  \n",
       "165070           NaN         27.0           2  2005  \n",
       "165065           NaN         18.0           2  2005  \n",
       "76843            NaN         30.0           2  2005  \n",
       "76829            NaN          2.0           2  2005  \n",
       "76830            NaN          3.0           2  2005  \n",
       "76832            NaN          7.0           2  2005  \n",
       "76833            NaN          9.0           2  2005  \n",
       "76834            NaN         10.0           2  2005  \n",
       "76835            NaN         11.0           2  2005  \n",
       "76836            NaN         11.0           2  2005  \n",
       "76831            NaN          4.0           2  2005  \n",
       "76837            NaN         14.0           2  2005  \n",
       "76838            NaN         18.0           2  2005  \n",
       "76839            NaN         21.0           2  2005  \n",
       "76840            NaN         22.0           2  2005  \n",
       "76841            NaN         22.0           2  2005  \n",
       "76842            NaN         24.0           2  2005  "
      ]
     },
     "execution_count": 19,
     "metadata": {},
     "output_type": "execute_result"
    }
   ],
   "source": [
    "regular_final_ranking[regular_final_ranking['YEAR'] == '2005']"
   ]
  },
  {
   "cell_type": "code",
   "execution_count": 27,
   "id": "8ac4b13e",
   "metadata": {},
   "outputs": [
    {
     "data": {
      "application/vnd.plotly.v1+json": {
       "config": {
        "plotlyServerURL": "https://plot.ly"
       },
       "data": [
        {
         "hovertemplate": "TEAM=Detroit<br>YEAR=%{x}<br>SEASON_RANK=%{y}<extra></extra>",
         "legendgroup": "",
         "line": {
          "color": "#636efa",
          "dash": "solid"
         },
         "marker": {
          "symbol": "circle"
         },
         "mode": "lines",
         "name": "",
         "orientation": "v",
         "showlegend": false,
         "type": "scatter",
         "x": [
          "2002",
          "2003",
          "2004",
          "2005",
          "2006",
          "2007",
          "2008",
          "2009",
          "2010",
          "2011",
          "2012",
          "2013",
          "2014",
          "2015",
          "2016",
          "2017",
          "2018",
          "2019",
          "2020",
          "2021",
          "2022"
         ],
         "xaxis": "x",
         "y": {
          "bdata": "AAAAAAAAFEAAAAAAAAAYQAAAAAAAABRAAAAAAAAA8D8AAAAAAAAQQAAAAAAAAABAAAAAAAAAMUAAAAAAAAA4QAAAAAAAADhAAAAAAAAANkAAAAAAAAA3QAAAAAAAADdAAAAAAAAAN0AAAAAAAAAoQAAAAAAAADNAAAAAAAAAM0AAAAAAAAAwQAAAAAAAADpAAAAAAAAAPUAAAAAAAAA8QAAAAAAAAD5A",
          "dtype": "f8"
         },
         "yaxis": "y"
        }
       ],
       "frames": [
        {
         "data": [
          {
           "hovertemplate": "TEAM=Detroit<br>YEAR=%{x}<br>SEASON_RANK=%{y}<extra></extra>",
           "legendgroup": "",
           "line": {
            "color": "#636efa",
            "dash": "solid"
           },
           "marker": {
            "symbol": "circle"
           },
           "mode": "lines",
           "name": "",
           "orientation": "v",
           "showlegend": false,
           "type": "scatter",
           "x": [
            "2002",
            "2003",
            "2004",
            "2005",
            "2006",
            "2007",
            "2008",
            "2009",
            "2010",
            "2011",
            "2012",
            "2013",
            "2014",
            "2015",
            "2016",
            "2017",
            "2018",
            "2019",
            "2020",
            "2021",
            "2022"
           ],
           "xaxis": "x",
           "y": {
            "bdata": "AAAAAAAAFEAAAAAAAAAYQAAAAAAAABRAAAAAAAAA8D8AAAAAAAAQQAAAAAAAAABAAAAAAAAAMUAAAAAAAAA4QAAAAAAAADhAAAAAAAAANkAAAAAAAAA3QAAAAAAAADdAAAAAAAAAN0AAAAAAAAAoQAAAAAAAADNAAAAAAAAAM0AAAAAAAAAwQAAAAAAAADpAAAAAAAAAPUAAAAAAAAA8QAAAAAAAAD5A",
            "dtype": "f8"
           },
           "yaxis": "y"
          }
         ],
         "name": "Detroit"
        },
        {
         "data": [
          {
           "hovertemplate": "TEAM=Charlotte<br>YEAR=%{x}<br>SEASON_RANK=%{y}<extra></extra>",
           "legendgroup": "",
           "line": {
            "color": "#636efa",
            "dash": "solid"
           },
           "marker": {
            "symbol": "circle"
           },
           "mode": "lines",
           "name": "",
           "orientation": "v",
           "showlegend": false,
           "type": "scatter",
           "x": [
            "2004",
            "2005",
            "2006",
            "2007",
            "2008",
            "2009",
            "2010",
            "2011",
            "2012",
            "2013",
            "2014",
            "2015",
            "2016",
            "2017",
            "2018",
            "2019",
            "2020",
            "2021",
            "2022"
           ],
           "xaxis": "x",
           "y": {
            "bdata": "AAAAAAAAPEAAAAAAAAA7QAAAAAAAADVAAAAAAAAAN0AAAAAAAAAzQAAAAAAAAC5AAAAAAAAANkAAAAAAAAA+QAAAAAAAAD1AAAAAAAAAMEAAAAAAAAA2QAAAAAAAABxAAAAAAAAANEAAAAAAAAA0QAAAAAAAADFAAAAAAAAANkAAAAAAAAAzQAAAAAAAADBAAAAAAAAAPUA=",
            "dtype": "f8"
           },
           "yaxis": "y"
          }
         ],
         "name": "Charlotte"
        },
        {
         "data": [
          {
           "hovertemplate": "TEAM=Houston<br>YEAR=%{x}<br>SEASON_RANK=%{y}<extra></extra>",
           "legendgroup": "",
           "line": {
            "color": "#636efa",
            "dash": "solid"
           },
           "marker": {
            "symbol": "circle"
           },
           "mode": "lines",
           "name": "",
           "orientation": "v",
           "showlegend": false,
           "type": "scatter",
           "x": [
            "2002",
            "2003",
            "2004",
            "2005",
            "2006",
            "2007",
            "2008",
            "2009",
            "2010",
            "2011",
            "2012",
            "2013",
            "2014",
            "2015",
            "2016",
            "2017",
            "2018",
            "2019",
            "2020",
            "2021",
            "2022"
           ],
           "xaxis": "x",
           "y": {
            "bdata": "AAAAAAAALkAAAAAAAAAkQAAAAAAAABxAAAAAAAAANkAAAAAAAAAUQAAAAAAAABhAAAAAAAAAIEAAAAAAAAAwQAAAAAAAACxAAAAAAAAAMUAAAAAAAAAmQAAAAAAAABRAAAAAAAAACEAAAAAAAAAxQAAAAAAAAAhAAAAAAAAA8D8AAAAAAAAUQAAAAAAAACBAAAAAAAAAPkAAAAAAAAA+QAAAAAAAADxA",
            "dtype": "f8"
           },
           "yaxis": "y"
          }
         ],
         "name": "Houston"
        },
        {
         "data": [
          {
           "hovertemplate": "TEAM=San Antonio<br>YEAR=%{x}<br>SEASON_RANK=%{y}<extra></extra>",
           "legendgroup": "",
           "line": {
            "color": "#636efa",
            "dash": "solid"
           },
           "marker": {
            "symbol": "circle"
           },
           "mode": "lines",
           "name": "",
           "orientation": "v",
           "showlegend": false,
           "type": "scatter",
           "x": [
            "2002",
            "2003",
            "2004",
            "2005",
            "2006",
            "2007",
            "2008",
            "2009",
            "2010",
            "2011",
            "2012",
            "2013",
            "2014",
            "2015",
            "2016",
            "2017",
            "2018",
            "2019",
            "2020",
            "2021",
            "2022"
           ],
           "xaxis": "x",
           "y": {
            "bdata": "AAAAAAAA8D8AAAAAAAAIQAAAAAAAAABAAAAAAAAAAEAAAAAAAAAIQAAAAAAAABBAAAAAAAAAFEAAAAAAAAAiQAAAAAAAAABAAAAAAAAA8D8AAAAAAAAIQAAAAAAAAPA/AAAAAAAAFEAAAAAAAAAAQAAAAAAAAABAAAAAAAAAKEAAAAAAAAAmQAAAAAAAADNAAAAAAAAAM0AAAAAAAAA2QAAAAAAAADtA",
            "dtype": "f8"
           },
           "yaxis": "y"
          }
         ],
         "name": "San Antonio"
        },
        {
         "data": [
          {
           "hovertemplate": "TEAM=Orlando<br>YEAR=%{x}<br>SEASON_RANK=%{y}<extra></extra>",
           "legendgroup": "",
           "line": {
            "color": "#636efa",
            "dash": "solid"
           },
           "marker": {
            "symbol": "circle"
           },
           "mode": "lines",
           "name": "",
           "orientation": "v",
           "showlegend": false,
           "type": "scatter",
           "x": [
            "2002",
            "2003",
            "2004",
            "2005",
            "2006",
            "2007",
            "2008",
            "2009",
            "2010",
            "2011",
            "2012",
            "2013",
            "2014",
            "2015",
            "2016",
            "2017",
            "2018",
            "2019",
            "2020",
            "2021",
            "2022"
           ],
           "xaxis": "x",
           "y": {
            "bdata": "AAAAAAAAMEAAAAAAAAA9QAAAAAAAADRAAAAAAAAANEAAAAAAAAAwQAAAAAAAACJAAAAAAAAAEEAAAAAAAAAAQAAAAAAAACBAAAAAAAAAKEAAAAAAAAA+QAAAAAAAADxAAAAAAAAAOkAAAAAAAAA0QAAAAAAAADpAAAAAAAAAOkAAAAAAAAAsQAAAAAAAADJAAAAAAAAAPEAAAAAAAAA9QAAAAAAAADlA",
            "dtype": "f8"
           },
           "yaxis": "y"
          }
         ],
         "name": "Orlando"
        },
        {
         "data": [
          {
           "hovertemplate": "TEAM=Washington<br>YEAR=%{x}<br>SEASON_RANK=%{y}<extra></extra>",
           "legendgroup": "",
           "line": {
            "color": "#636efa",
            "dash": "solid"
           },
           "marker": {
            "symbol": "circle"
           },
           "mode": "lines",
           "name": "",
           "orientation": "v",
           "showlegend": false,
           "type": "scatter",
           "x": [
            "2002",
            "2003",
            "2004",
            "2005",
            "2006",
            "2007",
            "2008",
            "2009",
            "2010",
            "2011",
            "2012",
            "2013",
            "2014",
            "2015",
            "2016",
            "2017",
            "2018",
            "2019",
            "2020",
            "2021",
            "2022"
           ],
           "xaxis": "x",
           "y": {
            "bdata": "AAAAAAAANEAAAAAAAAA7QAAAAAAAACZAAAAAAAAAKkAAAAAAAAAsQAAAAAAAACxAAAAAAAAAPEAAAAAAAAA6QAAAAAAAADtAAAAAAAAAPUAAAAAAAAA3QAAAAAAAACxAAAAAAAAAKEAAAAAAAAAxQAAAAAAAACJAAAAAAAAAMUAAAAAAAAA5QAAAAAAAADdAAAAAAAAAMUAAAAAAAAA1QAAAAAAAADlA",
            "dtype": "f8"
           },
           "yaxis": "y"
          }
         ],
         "name": "Washington"
        },
        {
         "data": [
          {
           "hovertemplate": "TEAM=L.A. Lakers<br>YEAR=%{x}<br>SEASON_RANK=%{y}<extra></extra>",
           "legendgroup": "",
           "line": {
            "color": "#636efa",
            "dash": "solid"
           },
           "marker": {
            "symbol": "circle"
           },
           "mode": "lines",
           "name": "",
           "orientation": "v",
           "showlegend": false,
           "type": "scatter",
           "x": [
            "2002",
            "2003",
            "2004",
            "2005",
            "2006",
            "2007",
            "2008",
            "2009",
            "2010",
            "2011",
            "2012",
            "2013",
            "2014",
            "2015",
            "2016",
            "2017",
            "2018",
            "2019",
            "2020",
            "2021",
            "2022"
           ],
           "xaxis": "x",
           "y": {
            "bdata": "AAAAAAAAFEAAAAAAAAAQQAAAAAAAADVAAAAAAAAAJEAAAAAAAAAoQAAAAAAAAAhAAAAAAAAAAEAAAAAAAAAIQAAAAAAAABBAAAAAAAAAGEAAAAAAAAAmQAAAAAAAADlAAAAAAAAAO0AAAAAAAAA9QAAAAAAAADxAAAAAAAAANUAAAAAAAAA0QAAAAAAAAAhAAAAAAAAAIEAAAAAAAAA3QAAAAAAAADdA",
            "dtype": "f8"
           },
           "yaxis": "y"
          }
         ],
         "name": "L.A. Lakers"
        },
        {
         "data": [
          {
           "hovertemplate": "TEAM=Chicago<br>YEAR=%{x}<br>SEASON_RANK=%{y}<extra></extra>",
           "legendgroup": "",
           "line": {
            "color": "#636efa",
            "dash": "solid"
           },
           "marker": {
            "symbol": "circle"
           },
           "mode": "lines",
           "name": "",
           "orientation": "v",
           "showlegend": false,
           "type": "scatter",
           "x": [
            "2002",
            "2003",
            "2004",
            "2005",
            "2006",
            "2007",
            "2008",
            "2009",
            "2010",
            "2011",
            "2012",
            "2013",
            "2014",
            "2015",
            "2016",
            "2017",
            "2018",
            "2019",
            "2020",
            "2021",
            "2022"
           ],
           "xaxis": "x",
           "y": {
            "bdata": "AAAAAAAAN0AAAAAAAAA8QAAAAAAAACRAAAAAAAAALEAAAAAAAAAgQAAAAAAAADZAAAAAAAAALkAAAAAAAAAxQAAAAAAAAPA/AAAAAAAA8D8AAAAAAAAmQAAAAAAAACZAAAAAAAAAIkAAAAAAAAAsQAAAAAAAAC5AAAAAAAAAOEAAAAAAAAA7QAAAAAAAADhAAAAAAAAANUAAAAAAAAAoQAAAAAAAADdA",
            "dtype": "f8"
           },
           "yaxis": "y"
          }
         ],
         "name": "Chicago"
        },
        {
         "data": [
          {
           "hovertemplate": "TEAM=Oklahoma City<br>YEAR=%{x}<br>SEASON_RANK=%{y}<extra></extra>",
           "legendgroup": "",
           "line": {
            "color": "#636efa",
            "dash": "solid"
           },
           "marker": {
            "symbol": "circle"
           },
           "mode": "lines",
           "name": "",
           "orientation": "v",
           "showlegend": false,
           "type": "scatter",
           "x": [
            "2008",
            "2009",
            "2010",
            "2011",
            "2012",
            "2013",
            "2014",
            "2015",
            "2016",
            "2017",
            "2018",
            "2019",
            "2020",
            "2021",
            "2022"
           ],
           "xaxis": "x",
           "y": {
            "bdata": "AAAAAAAAO0AAAAAAAAAiQAAAAAAAABxAAAAAAAAACEAAAAAAAAAAQAAAAAAAAABAAAAAAAAAKkAAAAAAAAAUQAAAAAAAACRAAAAAAAAAIEAAAAAAAAAiQAAAAAAAACBAAAAAAAAAOkAAAAAAAAA7QAAAAAAAADVA",
            "dtype": "f8"
           },
           "yaxis": "y"
          }
         ],
         "name": "Oklahoma City"
        },
        {
         "data": [
          {
           "hovertemplate": "TEAM=Toronto<br>YEAR=%{x}<br>SEASON_RANK=%{y}<extra></extra>",
           "legendgroup": "",
           "line": {
            "color": "#636efa",
            "dash": "solid"
           },
           "marker": {
            "symbol": "circle"
           },
           "mode": "lines",
           "name": "",
           "orientation": "v",
           "showlegend": false,
           "type": "scatter",
           "x": [
            "2002",
            "2003",
            "2004",
            "2005",
            "2006",
            "2007",
            "2008",
            "2009",
            "2010",
            "2011",
            "2012",
            "2013",
            "2014",
            "2015",
            "2016",
            "2017",
            "2018",
            "2019",
            "2020",
            "2021",
            "2022"
           ],
           "xaxis": "x",
           "y": {
            "bdata": "AAAAAAAAO0AAAAAAAAA2QAAAAAAAADdAAAAAAAAAOkAAAAAAAAAiQAAAAAAAAC5AAAAAAAAANkAAAAAAAAAyQAAAAAAAADxAAAAAAAAAN0AAAAAAAAAzQAAAAAAAACZAAAAAAAAAJkAAAAAAAAAQQAAAAAAAABRAAAAAAAAAAEAAAAAAAAAAQAAAAAAAAABAAAAAAAAAOEAAAAAAAAAkQAAAAAAAADVA",
            "dtype": "f8"
           },
           "yaxis": "y"
          }
         ],
         "name": "Toronto"
        },
        {
         "data": [
          {
           "hovertemplate": "TEAM=Golden State<br>YEAR=%{x}<br>SEASON_RANK=%{y}<extra></extra>",
           "legendgroup": "",
           "line": {
            "color": "#636efa",
            "dash": "solid"
           },
           "marker": {
            "symbol": "circle"
           },
           "mode": "lines",
           "name": "",
           "orientation": "v",
           "showlegend": false,
           "type": "scatter",
           "x": [
            "2002",
            "2003",
            "2004",
            "2005",
            "2006",
            "2007",
            "2008",
            "2009",
            "2010",
            "2011",
            "2012",
            "2013",
            "2014",
            "2015",
            "2016",
            "2017",
            "2018",
            "2019",
            "2020",
            "2021",
            "2022"
           ],
           "xaxis": "x",
           "y": {
            "bdata": "AAAAAAAAM0AAAAAAAAAyQAAAAAAAADVAAAAAAAAANkAAAAAAAAAoQAAAAAAAAChAAAAAAAAAOEAAAAAAAAA6QAAAAAAAADRAAAAAAAAAN0AAAAAAAAAkQAAAAAAAACBAAAAAAAAA8D8AAAAAAADwPwAAAAAAAPA/AAAAAAAACEAAAAAAAAAIQAAAAAAAAD5AAAAAAAAALEAAAAAAAAAIQAAAAAAAADRA",
            "dtype": "f8"
           },
           "yaxis": "y"
          }
         ],
         "name": "Golden State"
        },
        {
         "data": [
          {
           "hovertemplate": "TEAM=Dallas<br>YEAR=%{x}<br>SEASON_RANK=%{y}<extra></extra>",
           "legendgroup": "",
           "line": {
            "color": "#636efa",
            "dash": "solid"
           },
           "marker": {
            "symbol": "circle"
           },
           "mode": "lines",
           "name": "",
           "orientation": "v",
           "showlegend": false,
           "type": "scatter",
           "x": [
            "2002",
            "2003",
            "2004",
            "2005",
            "2006",
            "2007",
            "2008",
            "2009",
            "2010",
            "2011",
            "2012",
            "2013",
            "2014",
            "2015",
            "2016",
            "2017",
            "2018",
            "2019",
            "2020",
            "2021",
            "2022"
           ],
           "xaxis": "x",
           "y": {
            "bdata": "AAAAAAAA8D8AAAAAAAAcQAAAAAAAABBAAAAAAAAACEAAAAAAAADwPwAAAAAAACRAAAAAAAAAIkAAAAAAAAAQQAAAAAAAABBAAAAAAAAAKkAAAAAAAAAxQAAAAAAAACRAAAAAAAAAIkAAAAAAAAAsQAAAAAAAADZAAAAAAAAAO0AAAAAAAAA2QAAAAAAAACpAAAAAAAAAIEAAAAAAAAAUQAAAAAAAAC5A",
            "dtype": "f8"
           },
           "yaxis": "y"
          }
         ],
         "name": "Dallas"
        },
        {
         "data": [
          {
           "hovertemplate": "TEAM=Minnesota<br>YEAR=%{x}<br>SEASON_RANK=%{y}<extra></extra>",
           "legendgroup": "",
           "line": {
            "color": "#636efa",
            "dash": "solid"
           },
           "marker": {
            "symbol": "circle"
           },
           "mode": "lines",
           "name": "",
           "orientation": "v",
           "showlegend": false,
           "type": "scatter",
           "x": [
            "2002",
            "2003",
            "2004",
            "2005",
            "2006",
            "2007",
            "2008",
            "2009",
            "2010",
            "2011",
            "2012",
            "2013",
            "2014",
            "2015",
            "2016",
            "2017",
            "2018",
            "2019",
            "2020",
            "2021",
            "2022"
           ],
           "xaxis": "x",
           "y": {
            "bdata": "AAAAAAAAEEAAAAAAAAAAQAAAAAAAACxAAAAAAAAAOEAAAAAAAAA4QAAAAAAAADtAAAAAAAAAOUAAAAAAAAA9QAAAAAAAAD5AAAAAAAAANUAAAAAAAAA2QAAAAAAAADFAAAAAAAAAPkAAAAAAAAA6QAAAAAAAADhAAAAAAAAAKEAAAAAAAAA1QAAAAAAAADxAAAAAAAAAOUAAAAAAAAAoQAAAAAAAAC5A",
            "dtype": "f8"
           },
           "yaxis": "y"
          }
         ],
         "name": "Minnesota"
        },
        {
         "data": [
          {
           "hovertemplate": "TEAM=Atlanta<br>YEAR=%{x}<br>SEASON_RANK=%{y}<extra></extra>",
           "legendgroup": "",
           "line": {
            "color": "#636efa",
            "dash": "solid"
           },
           "marker": {
            "symbol": "circle"
           },
           "mode": "lines",
           "name": "",
           "orientation": "v",
           "showlegend": false,
           "type": "scatter",
           "x": [
            "2002",
            "2003",
            "2004",
            "2005",
            "2006",
            "2007",
            "2008",
            "2009",
            "2010",
            "2011",
            "2012",
            "2013",
            "2014",
            "2015",
            "2016",
            "2017",
            "2018",
            "2019",
            "2020",
            "2021",
            "2022"
           ],
           "xaxis": "x",
           "y": {
            "bdata": "AAAAAAAANkAAAAAAAAA5QAAAAAAAAD5AAAAAAAAAO0AAAAAAAAA7QAAAAAAAADNAAAAAAAAAKEAAAAAAAAAYQAAAAAAAACpAAAAAAAAAIEAAAAAAAAAsQAAAAAAAADJAAAAAAAAAAEAAAAAAAAAcQAAAAAAAACZAAAAAAAAAO0AAAAAAAAA6QAAAAAAAADtAAAAAAAAAJkAAAAAAAAAwQAAAAAAAAC5A",
            "dtype": "f8"
           },
           "yaxis": "y"
          }
         ],
         "name": "Atlanta"
        },
        {
         "data": [
          {
           "hovertemplate": "TEAM=Indiana<br>YEAR=%{x}<br>SEASON_RANK=%{y}<extra></extra>",
           "legendgroup": "",
           "line": {
            "color": "#636efa",
            "dash": "solid"
           },
           "marker": {
            "symbol": "circle"
           },
           "mode": "lines",
           "name": "",
           "orientation": "v",
           "showlegend": false,
           "type": "scatter",
           "x": [
            "2002",
            "2003",
            "2004",
            "2005",
            "2006",
            "2007",
            "2008",
            "2009",
            "2010",
            "2011",
            "2012",
            "2013",
            "2014",
            "2015",
            "2016",
            "2017",
            "2018",
            "2019",
            "2020",
            "2021",
            "2022"
           ],
           "xaxis": "x",
           "y": {
            "bdata": "AAAAAAAAIkAAAAAAAADwPwAAAAAAACxAAAAAAAAALEAAAAAAAAAzQAAAAAAAADRAAAAAAAAAMkAAAAAAAAA1QAAAAAAAADNAAAAAAAAAFEAAAAAAAAAgQAAAAAAAABBAAAAAAAAAMkAAAAAAAAAmQAAAAAAAACpAAAAAAAAAIEAAAAAAAAAmQAAAAAAAABxAAAAAAAAAMUAAAAAAAAA6QAAAAAAAAC5A",
            "dtype": "f8"
           },
           "yaxis": "y"
          }
         ],
         "name": "Indiana"
        },
        {
         "data": [
          {
           "hovertemplate": "TEAM=Miami<br>YEAR=%{x}<br>SEASON_RANK=%{y}<extra></extra>",
           "legendgroup": "",
           "line": {
            "color": "#636efa",
            "dash": "solid"
           },
           "marker": {
            "symbol": "circle"
           },
           "mode": "lines",
           "name": "",
           "orientation": "v",
           "showlegend": false,
           "type": "scatter",
           "x": [
            "2002",
            "2003",
            "2004",
            "2005",
            "2006",
            "2007",
            "2008",
            "2009",
            "2010",
            "2011",
            "2012",
            "2013",
            "2014",
            "2015",
            "2016",
            "2017",
            "2018",
            "2019",
            "2020",
            "2021",
            "2022"
           ],
           "xaxis": "x",
           "y": {
            "bdata": "AAAAAAAAOkAAAAAAAAAoQAAAAAAAAABAAAAAAAAAFEAAAAAAAAAmQAAAAAAAAD5AAAAAAAAALEAAAAAAAAAqQAAAAAAAAAhAAAAAAAAAEEAAAAAAAADwPwAAAAAAABRAAAAAAAAANUAAAAAAAAAcQAAAAAAAAC5AAAAAAAAALkAAAAAAAAAxQAAAAAAAACZAAAAAAAAAKkAAAAAAAAAIQAAAAAAAAC5A",
            "dtype": "f8"
           },
           "yaxis": "y"
          }
         ],
         "name": "Miami"
        },
        {
         "data": [
          {
           "hovertemplate": "TEAM=Portland<br>YEAR=%{x}<br>SEASON_RANK=%{y}<extra></extra>",
           "legendgroup": "",
           "line": {
            "color": "#636efa",
            "dash": "solid"
           },
           "marker": {
            "symbol": "circle"
           },
           "mode": "lines",
           "name": "",
           "orientation": "v",
           "showlegend": false,
           "type": "scatter",
           "x": [
            "2002",
            "2003",
            "2004",
            "2005",
            "2006",
            "2007",
            "2008",
            "2009",
            "2010",
            "2011",
            "2012",
            "2013",
            "2014",
            "2015",
            "2016",
            "2017",
            "2018",
            "2019",
            "2020",
            "2021",
            "2022"
           ],
           "xaxis": "x",
           "y": {
            "bdata": "AAAAAAAAFEAAAAAAAAAsQAAAAAAAADpAAAAAAAAAPkAAAAAAAAA4QAAAAAAAAC5AAAAAAAAAFEAAAAAAAAAiQAAAAAAAACRAAAAAAAAANEAAAAAAAAA1QAAAAAAAABRAAAAAAAAAIEAAAAAAAAAoQAAAAAAAAC5AAAAAAAAAHEAAAAAAAAAUQAAAAAAAAC5AAAAAAAAAIEAAAAAAAAA5QAAAAAAAACxA",
            "dtype": "f8"
           },
           "yaxis": "y"
          }
         ],
         "name": "Portland"
        },
        {
         "data": [
          {
           "hovertemplate": "TEAM=Utah<br>YEAR=%{x}<br>SEASON_RANK=%{y}<extra></extra>",
           "legendgroup": "",
           "line": {
            "color": "#636efa",
            "dash": "solid"
           },
           "marker": {
            "symbol": "circle"
           },
           "mode": "lines",
           "name": "",
           "orientation": "v",
           "showlegend": false,
           "type": "scatter",
           "x": [
            "2002",
            "2003",
            "2004",
            "2005",
            "2006",
            "2007",
            "2008",
            "2009",
            "2010",
            "2011",
            "2012",
            "2013",
            "2014",
            "2015",
            "2016",
            "2017",
            "2018",
            "2019",
            "2020",
            "2021",
            "2022"
           ],
           "xaxis": "x",
           "y": {
            "bdata": "AAAAAAAAJkAAAAAAAAAoQAAAAAAAADtAAAAAAAAALEAAAAAAAAAYQAAAAAAAACBAAAAAAAAAJkAAAAAAAAAYQAAAAAAAADJAAAAAAAAAKkAAAAAAAAAuQAAAAAAAADpAAAAAAAAAMkAAAAAAAAAzQAAAAAAAABRAAAAAAAAAIEAAAAAAAAAgQAAAAAAAACBAAAAAAAAA8D8AAAAAAAAiQAAAAAAAACpA",
            "dtype": "f8"
           },
           "yaxis": "y"
          }
         ],
         "name": "Utah"
        },
        {
         "data": [
          {
           "hovertemplate": "TEAM=New York<br>YEAR=%{x}<br>SEASON_RANK=%{y}<extra></extra>",
           "legendgroup": "",
           "line": {
            "color": "#636efa",
            "dash": "solid"
           },
           "marker": {
            "symbol": "circle"
           },
           "mode": "lines",
           "name": "",
           "orientation": "v",
           "showlegend": false,
           "type": "scatter",
           "x": [
            "2002",
            "2003",
            "2004",
            "2005",
            "2006",
            "2007",
            "2008",
            "2009",
            "2010",
            "2011",
            "2012",
            "2013",
            "2014",
            "2015",
            "2016",
            "2017",
            "2018",
            "2019",
            "2020",
            "2021",
            "2022"
           ],
           "xaxis": "x",
           "y": {
            "bdata": "AAAAAAAANEAAAAAAAAAxQAAAAAAAADdAAAAAAAAAPUAAAAAAAAA1QAAAAAAAADlAAAAAAAAAN0AAAAAAAAA2QAAAAAAAAC5AAAAAAAAAKkAAAAAAAAAcQAAAAAAAADNAAAAAAAAAPUAAAAAAAAA4QAAAAAAAADhAAAAAAAAANkAAAAAAAAA+QAAAAAAAADlAAAAAAAAAJkAAAAAAAAAzQAAAAAAAAChA",
            "dtype": "f8"
           },
           "yaxis": "y"
          }
         ],
         "name": "New York"
        },
        {
         "data": [
          {
           "hovertemplate": "TEAM=Sacramento<br>YEAR=%{x}<br>SEASON_RANK=%{y}<extra></extra>",
           "legendgroup": "",
           "line": {
            "color": "#636efa",
            "dash": "solid"
           },
           "marker": {
            "symbol": "circle"
           },
           "mode": "lines",
           "name": "",
           "orientation": "v",
           "showlegend": false,
           "type": "scatter",
           "x": [
            "2002",
            "2003",
            "2004",
            "2005",
            "2006",
            "2007",
            "2008",
            "2009",
            "2010",
            "2011",
            "2012",
            "2013",
            "2014",
            "2015",
            "2016",
            "2017",
            "2018",
            "2019",
            "2020",
            "2021",
            "2022"
           ],
           "xaxis": "x",
           "y": {
            "bdata": "AAAAAAAACEAAAAAAAAAUQAAAAAAAACBAAAAAAAAAJkAAAAAAAAA1QAAAAAAAADJAAAAAAAAAPkAAAAAAAAA8QAAAAAAAADlAAAAAAAAAOUAAAAAAAAA5QAAAAAAAADhAAAAAAAAAOUAAAAAAAAA1QAAAAAAAADdAAAAAAAAAOEAAAAAAAAAxQAAAAAAAADRAAAAAAAAANUAAAAAAAAA4QAAAAAAAACZA",
            "dtype": "f8"
           },
           "yaxis": "y"
          }
         ],
         "name": "Sacramento"
        },
        {
         "data": [
          {
           "hovertemplate": "TEAM=LA Clippers<br>YEAR=%{x}<br>SEASON_RANK=%{y}<extra></extra>",
           "legendgroup": "",
           "line": {
            "color": "#636efa",
            "dash": "solid"
           },
           "marker": {
            "symbol": "circle"
           },
           "mode": "lines",
           "name": "",
           "orientation": "v",
           "showlegend": false,
           "type": "scatter",
           "x": [
            "2015",
            "2016",
            "2017",
            "2018",
            "2019",
            "2020",
            "2021",
            "2022"
           ],
           "xaxis": "x",
           "y": {
            "bdata": "AAAAAAAAGEAAAAAAAAAUQAAAAAAAADJAAAAAAAAAJkAAAAAAAAAQQAAAAAAAABRAAAAAAAAAMkAAAAAAAAAkQA==",
            "dtype": "f8"
           },
           "yaxis": "y"
          }
         ],
         "name": "LA Clippers"
        },
        {
         "data": [
          {
           "hovertemplate": "TEAM=Phoenix<br>YEAR=%{x}<br>SEASON_RANK=%{y}<extra></extra>",
           "legendgroup": "",
           "line": {
            "color": "#636efa",
            "dash": "solid"
           },
           "marker": {
            "symbol": "circle"
           },
           "mode": "lines",
           "name": "",
           "orientation": "v",
           "showlegend": false,
           "type": "scatter",
           "x": [
            "2002",
            "2003",
            "2004",
            "2005",
            "2006",
            "2007",
            "2008",
            "2009",
            "2010",
            "2011",
            "2012",
            "2013",
            "2014",
            "2015",
            "2016",
            "2017",
            "2018",
            "2019",
            "2020",
            "2021",
            "2022"
           ],
           "xaxis": "x",
           "y": {
            "bdata": "AAAAAAAAKkAAAAAAAAA4QAAAAAAAAPA/AAAAAAAAEEAAAAAAAAAAQAAAAAAAABhAAAAAAAAAKkAAAAAAAAAUQAAAAAAAADFAAAAAAAAAMkAAAAAAAAA7QAAAAAAAACZAAAAAAAAAMUAAAAAAAAA7QAAAAAAAAD1AAAAAAAAAPkAAAAAAAAA8QAAAAAAAADBAAAAAAAAAAEAAAAAAAADwPwAAAAAAACJA",
            "dtype": "f8"
           },
           "yaxis": "y"
          }
         ],
         "name": "Phoenix"
        },
        {
         "data": [
          {
           "hovertemplate": "TEAM=Philadelphia<br>YEAR=%{x}<br>SEASON_RANK=%{y}<extra></extra>",
           "legendgroup": "",
           "line": {
            "color": "#636efa",
            "dash": "solid"
           },
           "marker": {
            "symbol": "circle"
           },
           "mode": "lines",
           "name": "",
           "orientation": "v",
           "showlegend": false,
           "type": "scatter",
           "x": [
            "2002",
            "2003",
            "2004",
            "2005",
            "2006",
            "2007",
            "2008",
            "2009",
            "2010",
            "2011",
            "2012",
            "2013",
            "2014",
            "2015",
            "2016",
            "2017",
            "2018",
            "2019",
            "2020",
            "2021",
            "2022"
           ],
           "xaxis": "x",
           "y": {
            "bdata": "AAAAAAAAIkAAAAAAAAA2QAAAAAAAADBAAAAAAAAAMkAAAAAAAAAzQAAAAAAAADFAAAAAAAAALkAAAAAAAAA4QAAAAAAAADBAAAAAAAAAMEAAAAAAAAAzQAAAAAAAAD1AAAAAAAAAPEAAAAAAAAA+QAAAAAAAADtAAAAAAAAAFEAAAAAAAAAcQAAAAAAAAChAAAAAAAAACEAAAAAAAAAYQAAAAAAAACBA",
            "dtype": "f8"
           },
           "yaxis": "y"
          }
         ],
         "name": "Philadelphia"
        },
        {
         "data": [
          {
           "hovertemplate": "TEAM=New Orleans<br>YEAR=%{x}<br>SEASON_RANK=%{y}<extra></extra>",
           "legendgroup": "",
           "line": {
            "color": "#636efa",
            "dash": "solid"
           },
           "marker": {
            "symbol": "circle"
           },
           "mode": "lines",
           "name": "",
           "orientation": "v",
           "showlegend": false,
           "type": "scatter",
           "x": [
            "2002",
            "2003",
            "2004",
            "2007",
            "2008",
            "2009",
            "2010",
            "2011",
            "2012",
            "2013",
            "2014",
            "2015",
            "2016",
            "2017",
            "2018",
            "2019",
            "2020",
            "2021",
            "2022"
           ],
           "xaxis": "x",
           "y": {
            "bdata": "AAAAAAAAJkAAAAAAAAAsQAAAAAAAADxAAAAAAAAAEEAAAAAAAAAkQAAAAAAAADRAAAAAAAAAJkAAAAAAAAA7QAAAAAAAADpAAAAAAAAANUAAAAAAAAAqQAAAAAAAADlAAAAAAAAANUAAAAAAAAAgQAAAAAAAADZAAAAAAAAANUAAAAAAAAA1QAAAAAAAADRAAAAAAAAAHEA=",
            "dtype": "f8"
           },
           "yaxis": "y"
          }
         ],
         "name": "New Orleans"
        },
        {
         "data": [
          {
           "hovertemplate": "TEAM=Brooklyn<br>YEAR=%{x}<br>SEASON_RANK=%{y}<extra></extra>",
           "legendgroup": "",
           "line": {
            "color": "#636efa",
            "dash": "solid"
           },
           "marker": {
            "symbol": "circle"
           },
           "mode": "lines",
           "name": "",
           "orientation": "v",
           "showlegend": false,
           "type": "scatter",
           "x": [
            "2012",
            "2013",
            "2014",
            "2015",
            "2016",
            "2017",
            "2018",
            "2019",
            "2020",
            "2021",
            "2022"
           ],
           "xaxis": "x",
           "y": {
            "bdata": "AAAAAAAAIkAAAAAAAAAsQAAAAAAAADJAAAAAAAAAPEAAAAAAAAA+QAAAAAAAADdAAAAAAAAALEAAAAAAAAAsQAAAAAAAABBAAAAAAAAALEAAAAAAAAAYQA==",
            "dtype": "f8"
           },
           "yaxis": "y"
          }
         ],
         "name": "Brooklyn"
        },
        {
         "data": [
          {
           "hovertemplate": "TEAM=Denver<br>YEAR=%{x}<br>SEASON_RANK=%{y}<extra></extra>",
           "legendgroup": "",
           "line": {
            "color": "#636efa",
            "dash": "solid"
           },
           "marker": {
            "symbol": "circle"
           },
           "mode": "lines",
           "name": "",
           "orientation": "v",
           "showlegend": false,
           "type": "scatter",
           "x": [
            "2002",
            "2003",
            "2004",
            "2005",
            "2006",
            "2007",
            "2008",
            "2009",
            "2010",
            "2011",
            "2012",
            "2013",
            "2014",
            "2015",
            "2016",
            "2017",
            "2018",
            "2019",
            "2020",
            "2021",
            "2022"
           ],
           "xaxis": "x",
           "y": {
            "bdata": "AAAAAAAAPEAAAAAAAAAmQAAAAAAAACJAAAAAAAAAJkAAAAAAAAAkQAAAAAAAACZAAAAAAAAAFEAAAAAAAAAYQAAAAAAAACJAAAAAAAAAJkAAAAAAAAAQQAAAAAAAADRAAAAAAAAAOEAAAAAAAAA1QAAAAAAAADJAAAAAAAAALEAAAAAAAAAQQAAAAAAAABhAAAAAAAAAFEAAAAAAAAAkQAAAAAAAABBA",
            "dtype": "f8"
           },
           "yaxis": "y"
          }
         ],
         "name": "Denver"
        },
        {
         "data": [
          {
           "hovertemplate": "TEAM=Memphis<br>YEAR=%{x}<br>SEASON_RANK=%{y}<extra></extra>",
           "legendgroup": "",
           "line": {
            "color": "#636efa",
            "dash": "solid"
           },
           "marker": {
            "symbol": "circle"
           },
           "mode": "lines",
           "name": "",
           "orientation": "v",
           "showlegend": false,
           "type": "scatter",
           "x": [
            "2002",
            "2003",
            "2004",
            "2005",
            "2006",
            "2007",
            "2008",
            "2009",
            "2010",
            "2011",
            "2012",
            "2013",
            "2014",
            "2015",
            "2016",
            "2017",
            "2018",
            "2019",
            "2020",
            "2021",
            "2022"
           ],
           "xaxis": "x",
           "y": {
            "bdata": "AAAAAAAAOEAAAAAAAAAgQAAAAAAAACZAAAAAAAAAHEAAAAAAAAA+QAAAAAAAADtAAAAAAAAAOUAAAAAAAAAyQAAAAAAAACZAAAAAAAAAGEAAAAAAAAAUQAAAAAAAACJAAAAAAAAAFEAAAAAAAAAsQAAAAAAAACZAAAAAAAAAPUAAAAAAAAA2QAAAAAAAADBAAAAAAAAALkAAAAAAAAAAQAAAAAAAABBA",
            "dtype": "f8"
           },
           "yaxis": "y"
          }
         ],
         "name": "Memphis"
        },
        {
         "data": [
          {
           "hovertemplate": "TEAM=Cleveland<br>YEAR=%{x}<br>SEASON_RANK=%{y}<extra></extra>",
           "legendgroup": "",
           "line": {
            "color": "#636efa",
            "dash": "solid"
           },
           "marker": {
            "symbol": "circle"
           },
           "mode": "lines",
           "name": "",
           "orientation": "v",
           "showlegend": false,
           "type": "scatter",
           "x": [
            "2002",
            "2003",
            "2004",
            "2005",
            "2006",
            "2007",
            "2008",
            "2009",
            "2010",
            "2011",
            "2012",
            "2013",
            "2014",
            "2015",
            "2016",
            "2017",
            "2018",
            "2019",
            "2020",
            "2021",
            "2022"
           ],
           "xaxis": "x",
           "y": {
            "bdata": "AAAAAAAAPEAAAAAAAAA1QAAAAAAAADFAAAAAAAAAGEAAAAAAAAAcQAAAAAAAACpAAAAAAAAA8D8AAAAAAADwPwAAAAAAAD1AAAAAAAAAO0AAAAAAAAA8QAAAAAAAADZAAAAAAAAAHEAAAAAAAAAIQAAAAAAAABRAAAAAAAAAGEAAAAAAAAA8QAAAAAAAAD1AAAAAAAAAOkAAAAAAAAAsQAAAAAAAAAhA",
            "dtype": "f8"
           },
           "yaxis": "y"
          }
         ],
         "name": "Cleveland"
        },
        {
         "data": [
          {
           "hovertemplate": "TEAM=Boston<br>YEAR=%{x}<br>SEASON_RANK=%{y}<extra></extra>",
           "legendgroup": "",
           "line": {
            "color": "#636efa",
            "dash": "solid"
           },
           "marker": {
            "symbol": "circle"
           },
           "mode": "lines",
           "name": "",
           "orientation": "v",
           "showlegend": false,
           "type": "scatter",
           "x": [
            "2002",
            "2003",
            "2004",
            "2005",
            "2006",
            "2007",
            "2008",
            "2009",
            "2010",
            "2011",
            "2012",
            "2013",
            "2014",
            "2015",
            "2016",
            "2017",
            "2018",
            "2019",
            "2020",
            "2021",
            "2022"
           ],
           "xaxis": "x",
           "y": {
            "bdata": "AAAAAAAAKkAAAAAAAAA0QAAAAAAAACZAAAAAAAAAOEAAAAAAAAA9QAAAAAAAAPA/AAAAAAAACEAAAAAAAAAiQAAAAAAAABhAAAAAAAAAJEAAAAAAAAAwQAAAAAAAADpAAAAAAAAAMEAAAAAAAAAcQAAAAAAAABBAAAAAAAAAEEAAAAAAAAAiQAAAAAAAABRAAAAAAAAAMEAAAAAAAAAYQAAAAAAAAABA",
            "dtype": "f8"
           },
           "yaxis": "y"
          }
         ],
         "name": "Boston"
        },
        {
         "data": [
          {
           "hovertemplate": "TEAM=Milwaukee<br>YEAR=%{x}<br>SEASON_RANK=%{y}<extra></extra>",
           "legendgroup": "",
           "line": {
            "color": "#636efa",
            "dash": "solid"
           },
           "marker": {
            "symbol": "circle"
           },
           "mode": "lines",
           "name": "",
           "orientation": "v",
           "showlegend": false,
           "type": "scatter",
           "x": [
            "2002",
            "2003",
            "2004",
            "2005",
            "2006",
            "2007",
            "2008",
            "2009",
            "2010",
            "2011",
            "2012",
            "2013",
            "2014",
            "2015",
            "2016",
            "2017",
            "2018",
            "2019",
            "2020",
            "2021",
            "2022"
           ],
           "xaxis": "x",
           "y": {
            "bdata": "AAAAAAAAMEAAAAAAAAAsQAAAAAAAADlAAAAAAAAAMUAAAAAAAAA8QAAAAAAAADhAAAAAAAAANEAAAAAAAAAsQAAAAAAAADVAAAAAAAAAM0AAAAAAAAAyQAAAAAAAAD5AAAAAAAAALkAAAAAAAAA1QAAAAAAAACpAAAAAAAAALkAAAAAAAADwPwAAAAAAAPA/AAAAAAAAHEAAAAAAAAAYQAAAAAAAAPA/",
            "dtype": "f8"
           },
           "yaxis": "y"
          }
         ],
         "name": "Milwaukee"
        },
        {
         "data": [
          {
           "hovertemplate": "TEAM=New Orleans/Oklahoma City<br>YEAR=%{x}<br>SEASON_RANK=%{y}<extra></extra>",
           "legendgroup": "",
           "line": {
            "color": "#636efa",
            "dash": "solid"
           },
           "marker": {
            "symbol": "circle"
           },
           "mode": "lines",
           "name": "",
           "orientation": "v",
           "showlegend": false,
           "type": "scatter",
           "x": [
            "2005",
            "2006"
           ],
           "xaxis": "x",
           "y": {
            "bdata": "AAAAAAAAMkAAAAAAAAAyQA==",
            "dtype": "f8"
           },
           "yaxis": "y"
          }
         ],
         "name": "New Orleans/Oklahoma City"
        },
        {
         "data": [
          {
           "hovertemplate": "TEAM=L.A. Clippers<br>YEAR=%{x}<br>SEASON_RANK=%{y}<extra></extra>",
           "legendgroup": "",
           "line": {
            "color": "#636efa",
            "dash": "solid"
           },
           "marker": {
            "symbol": "circle"
           },
           "mode": "lines",
           "name": "",
           "orientation": "v",
           "showlegend": false,
           "type": "scatter",
           "x": [
            "2002",
            "2003",
            "2004",
            "2005",
            "2006",
            "2007",
            "2008",
            "2009",
            "2010",
            "2011",
            "2012",
            "2013",
            "2014"
           ],
           "xaxis": "x",
           "y": {
            "bdata": "AAAAAAAAOUAAAAAAAAA5QAAAAAAAADNAAAAAAAAAIkAAAAAAAAAwQAAAAAAAADlAAAAAAAAAPEAAAAAAAAA2QAAAAAAAADdAAAAAAAAAIEAAAAAAAAAUQAAAAAAAAAhAAAAAAAAACEA=",
            "dtype": "f8"
           },
           "yaxis": "y"
          }
         ],
         "name": "L.A. Clippers"
        },
        {
         "data": [
          {
           "hovertemplate": "TEAM=New Jersey<br>YEAR=%{x}<br>SEASON_RANK=%{y}<extra></extra>",
           "legendgroup": "",
           "line": {
            "color": "#636efa",
            "dash": "solid"
           },
           "marker": {
            "symbol": "circle"
           },
           "mode": "lines",
           "name": "",
           "orientation": "v",
           "showlegend": false,
           "type": "scatter",
           "x": [
            "2002",
            "2003",
            "2004",
            "2005",
            "2006",
            "2007",
            "2008",
            "2009",
            "2010",
            "2011"
           ],
           "xaxis": "x",
           "y": {
            "bdata": "AAAAAAAAIEAAAAAAAAAiQAAAAAAAADFAAAAAAAAAHEAAAAAAAAAsQAAAAAAAADVAAAAAAAAANEAAAAAAAAA+QAAAAAAAADlAAAAAAAAAOUA=",
            "dtype": "f8"
           },
           "yaxis": "y"
          }
         ],
         "name": "New Jersey"
        },
        {
         "data": [
          {
           "hovertemplate": "TEAM=Seattle<br>YEAR=%{x}<br>SEASON_RANK=%{y}<extra></extra>",
           "legendgroup": "",
           "line": {
            "color": "#636efa",
            "dash": "solid"
           },
           "marker": {
            "symbol": "circle"
           },
           "mode": "lines",
           "name": "",
           "orientation": "v",
           "showlegend": false,
           "type": "scatter",
           "x": [
            "2002",
            "2003",
            "2004",
            "2005",
            "2006",
            "2007"
           ],
           "xaxis": "x",
           "y": {
            "bdata": "AAAAAAAAMkAAAAAAAAAyQAAAAAAAABhAAAAAAAAANUAAAAAAAAA6QAAAAAAAAD1A",
            "dtype": "f8"
           },
           "yaxis": "y"
          }
         ],
         "name": "Seattle"
        }
       ],
       "layout": {
        "legend": {
         "tracegroupgap": 0
        },
        "sliders": [
         {
          "active": 0,
          "currentvalue": {
           "prefix": "TEAM="
          },
          "len": 0.9,
          "pad": {
           "b": 10,
           "t": 60
          },
          "steps": [
           {
            "args": [
             [
              "Detroit"
             ],
             {
              "frame": {
               "duration": 0,
               "redraw": false
              },
              "fromcurrent": true,
              "mode": "immediate",
              "transition": {
               "duration": 0,
               "easing": "linear"
              }
             }
            ],
            "label": "Detroit",
            "method": "animate"
           },
           {
            "args": [
             [
              "Charlotte"
             ],
             {
              "frame": {
               "duration": 0,
               "redraw": false
              },
              "fromcurrent": true,
              "mode": "immediate",
              "transition": {
               "duration": 0,
               "easing": "linear"
              }
             }
            ],
            "label": "Charlotte",
            "method": "animate"
           },
           {
            "args": [
             [
              "Houston"
             ],
             {
              "frame": {
               "duration": 0,
               "redraw": false
              },
              "fromcurrent": true,
              "mode": "immediate",
              "transition": {
               "duration": 0,
               "easing": "linear"
              }
             }
            ],
            "label": "Houston",
            "method": "animate"
           },
           {
            "args": [
             [
              "San Antonio"
             ],
             {
              "frame": {
               "duration": 0,
               "redraw": false
              },
              "fromcurrent": true,
              "mode": "immediate",
              "transition": {
               "duration": 0,
               "easing": "linear"
              }
             }
            ],
            "label": "San Antonio",
            "method": "animate"
           },
           {
            "args": [
             [
              "Orlando"
             ],
             {
              "frame": {
               "duration": 0,
               "redraw": false
              },
              "fromcurrent": true,
              "mode": "immediate",
              "transition": {
               "duration": 0,
               "easing": "linear"
              }
             }
            ],
            "label": "Orlando",
            "method": "animate"
           },
           {
            "args": [
             [
              "Washington"
             ],
             {
              "frame": {
               "duration": 0,
               "redraw": false
              },
              "fromcurrent": true,
              "mode": "immediate",
              "transition": {
               "duration": 0,
               "easing": "linear"
              }
             }
            ],
            "label": "Washington",
            "method": "animate"
           },
           {
            "args": [
             [
              "L.A. Lakers"
             ],
             {
              "frame": {
               "duration": 0,
               "redraw": false
              },
              "fromcurrent": true,
              "mode": "immediate",
              "transition": {
               "duration": 0,
               "easing": "linear"
              }
             }
            ],
            "label": "L.A. Lakers",
            "method": "animate"
           },
           {
            "args": [
             [
              "Chicago"
             ],
             {
              "frame": {
               "duration": 0,
               "redraw": false
              },
              "fromcurrent": true,
              "mode": "immediate",
              "transition": {
               "duration": 0,
               "easing": "linear"
              }
             }
            ],
            "label": "Chicago",
            "method": "animate"
           },
           {
            "args": [
             [
              "Oklahoma City"
             ],
             {
              "frame": {
               "duration": 0,
               "redraw": false
              },
              "fromcurrent": true,
              "mode": "immediate",
              "transition": {
               "duration": 0,
               "easing": "linear"
              }
             }
            ],
            "label": "Oklahoma City",
            "method": "animate"
           },
           {
            "args": [
             [
              "Toronto"
             ],
             {
              "frame": {
               "duration": 0,
               "redraw": false
              },
              "fromcurrent": true,
              "mode": "immediate",
              "transition": {
               "duration": 0,
               "easing": "linear"
              }
             }
            ],
            "label": "Toronto",
            "method": "animate"
           },
           {
            "args": [
             [
              "Golden State"
             ],
             {
              "frame": {
               "duration": 0,
               "redraw": false
              },
              "fromcurrent": true,
              "mode": "immediate",
              "transition": {
               "duration": 0,
               "easing": "linear"
              }
             }
            ],
            "label": "Golden State",
            "method": "animate"
           },
           {
            "args": [
             [
              "Dallas"
             ],
             {
              "frame": {
               "duration": 0,
               "redraw": false
              },
              "fromcurrent": true,
              "mode": "immediate",
              "transition": {
               "duration": 0,
               "easing": "linear"
              }
             }
            ],
            "label": "Dallas",
            "method": "animate"
           },
           {
            "args": [
             [
              "Minnesota"
             ],
             {
              "frame": {
               "duration": 0,
               "redraw": false
              },
              "fromcurrent": true,
              "mode": "immediate",
              "transition": {
               "duration": 0,
               "easing": "linear"
              }
             }
            ],
            "label": "Minnesota",
            "method": "animate"
           },
           {
            "args": [
             [
              "Atlanta"
             ],
             {
              "frame": {
               "duration": 0,
               "redraw": false
              },
              "fromcurrent": true,
              "mode": "immediate",
              "transition": {
               "duration": 0,
               "easing": "linear"
              }
             }
            ],
            "label": "Atlanta",
            "method": "animate"
           },
           {
            "args": [
             [
              "Indiana"
             ],
             {
              "frame": {
               "duration": 0,
               "redraw": false
              },
              "fromcurrent": true,
              "mode": "immediate",
              "transition": {
               "duration": 0,
               "easing": "linear"
              }
             }
            ],
            "label": "Indiana",
            "method": "animate"
           },
           {
            "args": [
             [
              "Miami"
             ],
             {
              "frame": {
               "duration": 0,
               "redraw": false
              },
              "fromcurrent": true,
              "mode": "immediate",
              "transition": {
               "duration": 0,
               "easing": "linear"
              }
             }
            ],
            "label": "Miami",
            "method": "animate"
           },
           {
            "args": [
             [
              "Portland"
             ],
             {
              "frame": {
               "duration": 0,
               "redraw": false
              },
              "fromcurrent": true,
              "mode": "immediate",
              "transition": {
               "duration": 0,
               "easing": "linear"
              }
             }
            ],
            "label": "Portland",
            "method": "animate"
           },
           {
            "args": [
             [
              "Utah"
             ],
             {
              "frame": {
               "duration": 0,
               "redraw": false
              },
              "fromcurrent": true,
              "mode": "immediate",
              "transition": {
               "duration": 0,
               "easing": "linear"
              }
             }
            ],
            "label": "Utah",
            "method": "animate"
           },
           {
            "args": [
             [
              "New York"
             ],
             {
              "frame": {
               "duration": 0,
               "redraw": false
              },
              "fromcurrent": true,
              "mode": "immediate",
              "transition": {
               "duration": 0,
               "easing": "linear"
              }
             }
            ],
            "label": "New York",
            "method": "animate"
           },
           {
            "args": [
             [
              "Sacramento"
             ],
             {
              "frame": {
               "duration": 0,
               "redraw": false
              },
              "fromcurrent": true,
              "mode": "immediate",
              "transition": {
               "duration": 0,
               "easing": "linear"
              }
             }
            ],
            "label": "Sacramento",
            "method": "animate"
           },
           {
            "args": [
             [
              "LA Clippers"
             ],
             {
              "frame": {
               "duration": 0,
               "redraw": false
              },
              "fromcurrent": true,
              "mode": "immediate",
              "transition": {
               "duration": 0,
               "easing": "linear"
              }
             }
            ],
            "label": "LA Clippers",
            "method": "animate"
           },
           {
            "args": [
             [
              "Phoenix"
             ],
             {
              "frame": {
               "duration": 0,
               "redraw": false
              },
              "fromcurrent": true,
              "mode": "immediate",
              "transition": {
               "duration": 0,
               "easing": "linear"
              }
             }
            ],
            "label": "Phoenix",
            "method": "animate"
           },
           {
            "args": [
             [
              "Philadelphia"
             ],
             {
              "frame": {
               "duration": 0,
               "redraw": false
              },
              "fromcurrent": true,
              "mode": "immediate",
              "transition": {
               "duration": 0,
               "easing": "linear"
              }
             }
            ],
            "label": "Philadelphia",
            "method": "animate"
           },
           {
            "args": [
             [
              "New Orleans"
             ],
             {
              "frame": {
               "duration": 0,
               "redraw": false
              },
              "fromcurrent": true,
              "mode": "immediate",
              "transition": {
               "duration": 0,
               "easing": "linear"
              }
             }
            ],
            "label": "New Orleans",
            "method": "animate"
           },
           {
            "args": [
             [
              "Brooklyn"
             ],
             {
              "frame": {
               "duration": 0,
               "redraw": false
              },
              "fromcurrent": true,
              "mode": "immediate",
              "transition": {
               "duration": 0,
               "easing": "linear"
              }
             }
            ],
            "label": "Brooklyn",
            "method": "animate"
           },
           {
            "args": [
             [
              "Denver"
             ],
             {
              "frame": {
               "duration": 0,
               "redraw": false
              },
              "fromcurrent": true,
              "mode": "immediate",
              "transition": {
               "duration": 0,
               "easing": "linear"
              }
             }
            ],
            "label": "Denver",
            "method": "animate"
           },
           {
            "args": [
             [
              "Memphis"
             ],
             {
              "frame": {
               "duration": 0,
               "redraw": false
              },
              "fromcurrent": true,
              "mode": "immediate",
              "transition": {
               "duration": 0,
               "easing": "linear"
              }
             }
            ],
            "label": "Memphis",
            "method": "animate"
           },
           {
            "args": [
             [
              "Cleveland"
             ],
             {
              "frame": {
               "duration": 0,
               "redraw": false
              },
              "fromcurrent": true,
              "mode": "immediate",
              "transition": {
               "duration": 0,
               "easing": "linear"
              }
             }
            ],
            "label": "Cleveland",
            "method": "animate"
           },
           {
            "args": [
             [
              "Boston"
             ],
             {
              "frame": {
               "duration": 0,
               "redraw": false
              },
              "fromcurrent": true,
              "mode": "immediate",
              "transition": {
               "duration": 0,
               "easing": "linear"
              }
             }
            ],
            "label": "Boston",
            "method": "animate"
           },
           {
            "args": [
             [
              "Milwaukee"
             ],
             {
              "frame": {
               "duration": 0,
               "redraw": false
              },
              "fromcurrent": true,
              "mode": "immediate",
              "transition": {
               "duration": 0,
               "easing": "linear"
              }
             }
            ],
            "label": "Milwaukee",
            "method": "animate"
           },
           {
            "args": [
             [
              "New Orleans/Oklahoma City"
             ],
             {
              "frame": {
               "duration": 0,
               "redraw": false
              },
              "fromcurrent": true,
              "mode": "immediate",
              "transition": {
               "duration": 0,
               "easing": "linear"
              }
             }
            ],
            "label": "New Orleans/Oklahoma City",
            "method": "animate"
           },
           {
            "args": [
             [
              "L.A. Clippers"
             ],
             {
              "frame": {
               "duration": 0,
               "redraw": false
              },
              "fromcurrent": true,
              "mode": "immediate",
              "transition": {
               "duration": 0,
               "easing": "linear"
              }
             }
            ],
            "label": "L.A. Clippers",
            "method": "animate"
           },
           {
            "args": [
             [
              "New Jersey"
             ],
             {
              "frame": {
               "duration": 0,
               "redraw": false
              },
              "fromcurrent": true,
              "mode": "immediate",
              "transition": {
               "duration": 0,
               "easing": "linear"
              }
             }
            ],
            "label": "New Jersey",
            "method": "animate"
           },
           {
            "args": [
             [
              "Seattle"
             ],
             {
              "frame": {
               "duration": 0,
               "redraw": false
              },
              "fromcurrent": true,
              "mode": "immediate",
              "transition": {
               "duration": 0,
               "easing": "linear"
              }
             }
            ],
            "label": "Seattle",
            "method": "animate"
           }
          ],
          "x": 0.1,
          "xanchor": "left",
          "y": 0,
          "yanchor": "top"
         }
        ],
        "template": {
         "data": {
          "bar": [
           {
            "error_x": {
             "color": "#2a3f5f"
            },
            "error_y": {
             "color": "#2a3f5f"
            },
            "marker": {
             "line": {
              "color": "#E5ECF6",
              "width": 0.5
             },
             "pattern": {
              "fillmode": "overlay",
              "size": 10,
              "solidity": 0.2
             }
            },
            "type": "bar"
           }
          ],
          "barpolar": [
           {
            "marker": {
             "line": {
              "color": "#E5ECF6",
              "width": 0.5
             },
             "pattern": {
              "fillmode": "overlay",
              "size": 10,
              "solidity": 0.2
             }
            },
            "type": "barpolar"
           }
          ],
          "carpet": [
           {
            "aaxis": {
             "endlinecolor": "#2a3f5f",
             "gridcolor": "white",
             "linecolor": "white",
             "minorgridcolor": "white",
             "startlinecolor": "#2a3f5f"
            },
            "baxis": {
             "endlinecolor": "#2a3f5f",
             "gridcolor": "white",
             "linecolor": "white",
             "minorgridcolor": "white",
             "startlinecolor": "#2a3f5f"
            },
            "type": "carpet"
           }
          ],
          "choropleth": [
           {
            "colorbar": {
             "outlinewidth": 0,
             "ticks": ""
            },
            "type": "choropleth"
           }
          ],
          "contour": [
           {
            "colorbar": {
             "outlinewidth": 0,
             "ticks": ""
            },
            "colorscale": [
             [
              0,
              "#0d0887"
             ],
             [
              0.1111111111111111,
              "#46039f"
             ],
             [
              0.2222222222222222,
              "#7201a8"
             ],
             [
              0.3333333333333333,
              "#9c179e"
             ],
             [
              0.4444444444444444,
              "#bd3786"
             ],
             [
              0.5555555555555556,
              "#d8576b"
             ],
             [
              0.6666666666666666,
              "#ed7953"
             ],
             [
              0.7777777777777778,
              "#fb9f3a"
             ],
             [
              0.8888888888888888,
              "#fdca26"
             ],
             [
              1,
              "#f0f921"
             ]
            ],
            "type": "contour"
           }
          ],
          "contourcarpet": [
           {
            "colorbar": {
             "outlinewidth": 0,
             "ticks": ""
            },
            "type": "contourcarpet"
           }
          ],
          "heatmap": [
           {
            "colorbar": {
             "outlinewidth": 0,
             "ticks": ""
            },
            "colorscale": [
             [
              0,
              "#0d0887"
             ],
             [
              0.1111111111111111,
              "#46039f"
             ],
             [
              0.2222222222222222,
              "#7201a8"
             ],
             [
              0.3333333333333333,
              "#9c179e"
             ],
             [
              0.4444444444444444,
              "#bd3786"
             ],
             [
              0.5555555555555556,
              "#d8576b"
             ],
             [
              0.6666666666666666,
              "#ed7953"
             ],
             [
              0.7777777777777778,
              "#fb9f3a"
             ],
             [
              0.8888888888888888,
              "#fdca26"
             ],
             [
              1,
              "#f0f921"
             ]
            ],
            "type": "heatmap"
           }
          ],
          "histogram": [
           {
            "marker": {
             "pattern": {
              "fillmode": "overlay",
              "size": 10,
              "solidity": 0.2
             }
            },
            "type": "histogram"
           }
          ],
          "histogram2d": [
           {
            "colorbar": {
             "outlinewidth": 0,
             "ticks": ""
            },
            "colorscale": [
             [
              0,
              "#0d0887"
             ],
             [
              0.1111111111111111,
              "#46039f"
             ],
             [
              0.2222222222222222,
              "#7201a8"
             ],
             [
              0.3333333333333333,
              "#9c179e"
             ],
             [
              0.4444444444444444,
              "#bd3786"
             ],
             [
              0.5555555555555556,
              "#d8576b"
             ],
             [
              0.6666666666666666,
              "#ed7953"
             ],
             [
              0.7777777777777778,
              "#fb9f3a"
             ],
             [
              0.8888888888888888,
              "#fdca26"
             ],
             [
              1,
              "#f0f921"
             ]
            ],
            "type": "histogram2d"
           }
          ],
          "histogram2dcontour": [
           {
            "colorbar": {
             "outlinewidth": 0,
             "ticks": ""
            },
            "colorscale": [
             [
              0,
              "#0d0887"
             ],
             [
              0.1111111111111111,
              "#46039f"
             ],
             [
              0.2222222222222222,
              "#7201a8"
             ],
             [
              0.3333333333333333,
              "#9c179e"
             ],
             [
              0.4444444444444444,
              "#bd3786"
             ],
             [
              0.5555555555555556,
              "#d8576b"
             ],
             [
              0.6666666666666666,
              "#ed7953"
             ],
             [
              0.7777777777777778,
              "#fb9f3a"
             ],
             [
              0.8888888888888888,
              "#fdca26"
             ],
             [
              1,
              "#f0f921"
             ]
            ],
            "type": "histogram2dcontour"
           }
          ],
          "mesh3d": [
           {
            "colorbar": {
             "outlinewidth": 0,
             "ticks": ""
            },
            "type": "mesh3d"
           }
          ],
          "parcoords": [
           {
            "line": {
             "colorbar": {
              "outlinewidth": 0,
              "ticks": ""
             }
            },
            "type": "parcoords"
           }
          ],
          "pie": [
           {
            "automargin": true,
            "type": "pie"
           }
          ],
          "scatter": [
           {
            "fillpattern": {
             "fillmode": "overlay",
             "size": 10,
             "solidity": 0.2
            },
            "type": "scatter"
           }
          ],
          "scatter3d": [
           {
            "line": {
             "colorbar": {
              "outlinewidth": 0,
              "ticks": ""
             }
            },
            "marker": {
             "colorbar": {
              "outlinewidth": 0,
              "ticks": ""
             }
            },
            "type": "scatter3d"
           }
          ],
          "scattercarpet": [
           {
            "marker": {
             "colorbar": {
              "outlinewidth": 0,
              "ticks": ""
             }
            },
            "type": "scattercarpet"
           }
          ],
          "scattergeo": [
           {
            "marker": {
             "colorbar": {
              "outlinewidth": 0,
              "ticks": ""
             }
            },
            "type": "scattergeo"
           }
          ],
          "scattergl": [
           {
            "marker": {
             "colorbar": {
              "outlinewidth": 0,
              "ticks": ""
             }
            },
            "type": "scattergl"
           }
          ],
          "scattermap": [
           {
            "marker": {
             "colorbar": {
              "outlinewidth": 0,
              "ticks": ""
             }
            },
            "type": "scattermap"
           }
          ],
          "scattermapbox": [
           {
            "marker": {
             "colorbar": {
              "outlinewidth": 0,
              "ticks": ""
             }
            },
            "type": "scattermapbox"
           }
          ],
          "scatterpolar": [
           {
            "marker": {
             "colorbar": {
              "outlinewidth": 0,
              "ticks": ""
             }
            },
            "type": "scatterpolar"
           }
          ],
          "scatterpolargl": [
           {
            "marker": {
             "colorbar": {
              "outlinewidth": 0,
              "ticks": ""
             }
            },
            "type": "scatterpolargl"
           }
          ],
          "scatterternary": [
           {
            "marker": {
             "colorbar": {
              "outlinewidth": 0,
              "ticks": ""
             }
            },
            "type": "scatterternary"
           }
          ],
          "surface": [
           {
            "colorbar": {
             "outlinewidth": 0,
             "ticks": ""
            },
            "colorscale": [
             [
              0,
              "#0d0887"
             ],
             [
              0.1111111111111111,
              "#46039f"
             ],
             [
              0.2222222222222222,
              "#7201a8"
             ],
             [
              0.3333333333333333,
              "#9c179e"
             ],
             [
              0.4444444444444444,
              "#bd3786"
             ],
             [
              0.5555555555555556,
              "#d8576b"
             ],
             [
              0.6666666666666666,
              "#ed7953"
             ],
             [
              0.7777777777777778,
              "#fb9f3a"
             ],
             [
              0.8888888888888888,
              "#fdca26"
             ],
             [
              1,
              "#f0f921"
             ]
            ],
            "type": "surface"
           }
          ],
          "table": [
           {
            "cells": {
             "fill": {
              "color": "#EBF0F8"
             },
             "line": {
              "color": "white"
             }
            },
            "header": {
             "fill": {
              "color": "#C8D4E3"
             },
             "line": {
              "color": "white"
             }
            },
            "type": "table"
           }
          ]
         },
         "layout": {
          "annotationdefaults": {
           "arrowcolor": "#2a3f5f",
           "arrowhead": 0,
           "arrowwidth": 1
          },
          "autotypenumbers": "strict",
          "coloraxis": {
           "colorbar": {
            "outlinewidth": 0,
            "ticks": ""
           }
          },
          "colorscale": {
           "diverging": [
            [
             0,
             "#8e0152"
            ],
            [
             0.1,
             "#c51b7d"
            ],
            [
             0.2,
             "#de77ae"
            ],
            [
             0.3,
             "#f1b6da"
            ],
            [
             0.4,
             "#fde0ef"
            ],
            [
             0.5,
             "#f7f7f7"
            ],
            [
             0.6,
             "#e6f5d0"
            ],
            [
             0.7,
             "#b8e186"
            ],
            [
             0.8,
             "#7fbc41"
            ],
            [
             0.9,
             "#4d9221"
            ],
            [
             1,
             "#276419"
            ]
           ],
           "sequential": [
            [
             0,
             "#0d0887"
            ],
            [
             0.1111111111111111,
             "#46039f"
            ],
            [
             0.2222222222222222,
             "#7201a8"
            ],
            [
             0.3333333333333333,
             "#9c179e"
            ],
            [
             0.4444444444444444,
             "#bd3786"
            ],
            [
             0.5555555555555556,
             "#d8576b"
            ],
            [
             0.6666666666666666,
             "#ed7953"
            ],
            [
             0.7777777777777778,
             "#fb9f3a"
            ],
            [
             0.8888888888888888,
             "#fdca26"
            ],
            [
             1,
             "#f0f921"
            ]
           ],
           "sequentialminus": [
            [
             0,
             "#0d0887"
            ],
            [
             0.1111111111111111,
             "#46039f"
            ],
            [
             0.2222222222222222,
             "#7201a8"
            ],
            [
             0.3333333333333333,
             "#9c179e"
            ],
            [
             0.4444444444444444,
             "#bd3786"
            ],
            [
             0.5555555555555556,
             "#d8576b"
            ],
            [
             0.6666666666666666,
             "#ed7953"
            ],
            [
             0.7777777777777778,
             "#fb9f3a"
            ],
            [
             0.8888888888888888,
             "#fdca26"
            ],
            [
             1,
             "#f0f921"
            ]
           ]
          },
          "colorway": [
           "#636efa",
           "#EF553B",
           "#00cc96",
           "#ab63fa",
           "#FFA15A",
           "#19d3f3",
           "#FF6692",
           "#B6E880",
           "#FF97FF",
           "#FECB52"
          ],
          "font": {
           "color": "#2a3f5f"
          },
          "geo": {
           "bgcolor": "white",
           "lakecolor": "white",
           "landcolor": "#E5ECF6",
           "showlakes": true,
           "showland": true,
           "subunitcolor": "white"
          },
          "hoverlabel": {
           "align": "left"
          },
          "hovermode": "closest",
          "mapbox": {
           "style": "light"
          },
          "paper_bgcolor": "white",
          "plot_bgcolor": "#E5ECF6",
          "polar": {
           "angularaxis": {
            "gridcolor": "white",
            "linecolor": "white",
            "ticks": ""
           },
           "bgcolor": "#E5ECF6",
           "radialaxis": {
            "gridcolor": "white",
            "linecolor": "white",
            "ticks": ""
           }
          },
          "scene": {
           "xaxis": {
            "backgroundcolor": "#E5ECF6",
            "gridcolor": "white",
            "gridwidth": 2,
            "linecolor": "white",
            "showbackground": true,
            "ticks": "",
            "zerolinecolor": "white"
           },
           "yaxis": {
            "backgroundcolor": "#E5ECF6",
            "gridcolor": "white",
            "gridwidth": 2,
            "linecolor": "white",
            "showbackground": true,
            "ticks": "",
            "zerolinecolor": "white"
           },
           "zaxis": {
            "backgroundcolor": "#E5ECF6",
            "gridcolor": "white",
            "gridwidth": 2,
            "linecolor": "white",
            "showbackground": true,
            "ticks": "",
            "zerolinecolor": "white"
           }
          },
          "shapedefaults": {
           "line": {
            "color": "#2a3f5f"
           }
          },
          "ternary": {
           "aaxis": {
            "gridcolor": "white",
            "linecolor": "white",
            "ticks": ""
           },
           "baxis": {
            "gridcolor": "white",
            "linecolor": "white",
            "ticks": ""
           },
           "bgcolor": "#E5ECF6",
           "caxis": {
            "gridcolor": "white",
            "linecolor": "white",
            "ticks": ""
           }
          },
          "title": {
           "x": 0.05
          },
          "xaxis": {
           "automargin": true,
           "gridcolor": "white",
           "linecolor": "white",
           "ticks": "",
           "title": {
            "standoff": 15
           },
           "zerolinecolor": "white",
           "zerolinewidth": 2
          },
          "yaxis": {
           "automargin": true,
           "gridcolor": "white",
           "linecolor": "white",
           "ticks": "",
           "title": {
            "standoff": 15
           },
           "zerolinecolor": "white",
           "zerolinewidth": 2
          }
         }
        },
        "title": {
         "text": "팀별 시즌 순위 변화"
        },
        "updatemenus": [
         {
          "buttons": [
           {
            "args": [
             null,
             {
              "frame": {
               "duration": 500,
               "redraw": false
              },
              "fromcurrent": true,
              "mode": "immediate",
              "transition": {
               "duration": 500,
               "easing": "linear"
              }
             }
            ],
            "label": "&#9654;",
            "method": "animate"
           },
           {
            "args": [
             [
              null
             ],
             {
              "frame": {
               "duration": 0,
               "redraw": false
              },
              "fromcurrent": true,
              "mode": "immediate",
              "transition": {
               "duration": 0,
               "easing": "linear"
              }
             }
            ],
            "label": "&#9724;",
            "method": "animate"
           }
          ],
          "direction": "left",
          "pad": {
           "r": 10,
           "t": 70
          },
          "showactive": false,
          "type": "buttons",
          "x": 0.1,
          "xanchor": "right",
          "y": 0,
          "yanchor": "top"
         }
        ],
        "xaxis": {
         "anchor": "y",
         "domain": [
          0,
          1
         ],
         "title": {
          "text": "YEAR"
         }
        },
        "yaxis": {
         "anchor": "x",
         "domain": [
          0,
          1
         ],
         "range": [
          30,
          0
         ],
         "title": {
          "text": "SEASON_RANK"
         }
        }
       }
      }
     },
     "metadata": {},
     "output_type": "display_data"
    }
   ],
   "source": [
    "import plotly.express as px\n",
    "\n",
    "fig = px.line(\n",
    "    regular_final_ranking,\n",
    "    x=\"YEAR\",\n",
    "    y=\"SEASON_RANK\",\n",
    "    animation_frame=\"TEAM\",\n",
    "    title=\"팀별 시즌 순위 변화\",\n",
    "    category_orders={\"TEAM\": teams},\n",
    "    range_y=[0, regular_final_ranking[\"SEASON_RANK\"].max()+1]\n",
    ")\n",
    "\n",
    "fig.update_yaxes(range=[30, 0])   # 순위는 낮을수록 높음\n",
    "fig.show()\n"
   ]
  },
  {
   "cell_type": "raw",
   "id": "9fc31aef",
   "metadata": {
    "vscode": {
     "languageId": "raw"
    }
   },
   "source": [
    "# 과제: 떡락했다 상승한 다른 팀을 찾아보자.\n",
    "# 혹은 유사한 패턴?"
   ]
  },
  {
   "cell_type": "code",
   "execution_count": 20,
   "id": "e92ee7a3",
   "metadata": {},
   "outputs": [],
   "source": [
    "# regular_final_ranking.to_csv(DATA_DIR / 'temp_ranking.csv', index=False)"
   ]
  }
 ],
 "metadata": {
  "kernelspec": {
   "display_name": "sparta",
   "language": "python",
   "name": "python3"
  },
  "language_info": {
   "codemirror_mode": {
    "name": "ipython",
    "version": 3
   },
   "file_extension": ".py",
   "mimetype": "text/x-python",
   "name": "python",
   "nbconvert_exporter": "python",
   "pygments_lexer": "ipython3",
   "version": "3.10.12"
  }
 },
 "nbformat": 4,
 "nbformat_minor": 5
}
