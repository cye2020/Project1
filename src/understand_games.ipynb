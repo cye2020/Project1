{
 "cells": [
  {
   "cell_type": "markdown",
   "id": "c02db2a4",
   "metadata": {},
   "source": [
    "## games.csv의 데이터 구조 및 형식 파악"
   ]
  },
  {
   "cell_type": "code",
   "execution_count": 1,
   "id": "e8ffccca",
   "metadata": {},
   "outputs": [],
   "source": [
    "import pandas as pd\n",
    "\n",
    "from utils import load_dataset"
   ]
  },
  {
   "cell_type": "code",
   "execution_count": 2,
   "id": "9c4e5edb",
   "metadata": {},
   "outputs": [],
   "source": [
    "games = load_dataset('games', test=False)"
   ]
  },
  {
   "cell_type": "code",
   "execution_count": null,
   "id": "4d3e5c58",
   "metadata": {},
   "outputs": [
    {
     "data": {
      "text/plain": [
       "(26651, 21)"
      ]
     },
     "execution_count": 3,
     "metadata": {},
     "output_type": "execute_result"
    }
   ],
   "source": [
    "games.shape"
   ]
  },
  {
   "cell_type": "code",
   "execution_count": 4,
   "id": "e9fade67",
   "metadata": {},
   "outputs": [
    {
     "name": "stdout",
     "output_type": "stream",
     "text": [
      "<class 'pandas.core.frame.DataFrame'>\n",
      "RangeIndex: 26651 entries, 0 to 26650\n",
      "Data columns (total 21 columns):\n",
      " #   Column            Non-Null Count  Dtype         \n",
      "---  ------            --------------  -----         \n",
      " 0   GAME_DATE_EST     26651 non-null  datetime64[ns]\n",
      " 1   GAME_ID           26651 non-null  int64         \n",
      " 2   GAME_STATUS_TEXT  26651 non-null  object        \n",
      " 3   HOME_TEAM_ID      26651 non-null  int64         \n",
      " 4   VISITOR_TEAM_ID   26651 non-null  int64         \n",
      " 5   SEASON            26651 non-null  int64         \n",
      " 6   TEAM_ID_home      26651 non-null  int64         \n",
      " 7   PTS_home          26552 non-null  float64       \n",
      " 8   FG_PCT_home       26552 non-null  float64       \n",
      " 9   FT_PCT_home       26552 non-null  float64       \n",
      " 10  FG3_PCT_home      26552 non-null  float64       \n",
      " 11  AST_home          26552 non-null  float64       \n",
      " 12  REB_home          26552 non-null  float64       \n",
      " 13  TEAM_ID_away      26651 non-null  int64         \n",
      " 14  PTS_away          26552 non-null  float64       \n",
      " 15  FG_PCT_away       26552 non-null  float64       \n",
      " 16  FT_PCT_away       26552 non-null  float64       \n",
      " 17  FG3_PCT_away      26552 non-null  float64       \n",
      " 18  AST_away          26552 non-null  float64       \n",
      " 19  REB_away          26552 non-null  float64       \n",
      " 20  HOME_TEAM_WINS    26651 non-null  int64         \n",
      "dtypes: datetime64[ns](1), float64(12), int64(7), object(1)\n",
      "memory usage: 4.3+ MB\n"
     ]
    }
   ],
   "source": [
    "games.info()"
   ]
  },
  {
   "cell_type": "code",
   "execution_count": 7,
   "id": "0cb69a03",
   "metadata": {},
   "outputs": [
    {
     "data": {
      "application/vnd.microsoft.datawrangler.viewer.v0+json": {
       "columns": [
        {
         "name": "index",
         "rawType": "object",
         "type": "string"
        },
        {
         "name": "0",
         "rawType": "int64",
         "type": "integer"
        }
       ],
       "ref": "84b3b9dd-29f7-4a65-b629-db668ca849bb",
       "rows": [
        [
         "GAME_DATE_EST",
         "0"
        ],
        [
         "GAME_ID",
         "0"
        ],
        [
         "GAME_STATUS_TEXT",
         "0"
        ],
        [
         "HOME_TEAM_ID",
         "0"
        ],
        [
         "VISITOR_TEAM_ID",
         "0"
        ],
        [
         "SEASON",
         "0"
        ],
        [
         "TEAM_ID_home",
         "0"
        ],
        [
         "PTS_home",
         "99"
        ],
        [
         "FG_PCT_home",
         "99"
        ],
        [
         "FT_PCT_home",
         "99"
        ],
        [
         "FG3_PCT_home",
         "99"
        ],
        [
         "AST_home",
         "99"
        ],
        [
         "REB_home",
         "99"
        ],
        [
         "TEAM_ID_away",
         "0"
        ],
        [
         "PTS_away",
         "99"
        ],
        [
         "FG_PCT_away",
         "99"
        ],
        [
         "FT_PCT_away",
         "99"
        ],
        [
         "FG3_PCT_away",
         "99"
        ],
        [
         "AST_away",
         "99"
        ],
        [
         "REB_away",
         "99"
        ],
        [
         "HOME_TEAM_WINS",
         "0"
        ]
       ],
       "shape": {
        "columns": 1,
        "rows": 21
       }
      },
      "text/plain": [
       "GAME_DATE_EST        0\n",
       "GAME_ID              0\n",
       "GAME_STATUS_TEXT     0\n",
       "HOME_TEAM_ID         0\n",
       "VISITOR_TEAM_ID      0\n",
       "SEASON               0\n",
       "TEAM_ID_home         0\n",
       "PTS_home            99\n",
       "FG_PCT_home         99\n",
       "FT_PCT_home         99\n",
       "FG3_PCT_home        99\n",
       "AST_home            99\n",
       "REB_home            99\n",
       "TEAM_ID_away         0\n",
       "PTS_away            99\n",
       "FG_PCT_away         99\n",
       "FT_PCT_away         99\n",
       "FG3_PCT_away        99\n",
       "AST_away            99\n",
       "REB_away            99\n",
       "HOME_TEAM_WINS       0\n",
       "dtype: int64"
      ]
     },
     "execution_count": 7,
     "metadata": {},
     "output_type": "execute_result"
    }
   ],
   "source": [
    "games.isnull().sum()"
   ]
  },
  {
   "cell_type": "code",
   "execution_count": 8,
   "id": "e0c7ff68",
   "metadata": {},
   "outputs": [
    {
     "data": {
      "application/vnd.microsoft.datawrangler.viewer.v0+json": {
       "columns": [
        {
         "name": "index",
         "rawType": "object",
         "type": "string"
        },
        {
         "name": "0",
         "rawType": "int64",
         "type": "integer"
        }
       ],
       "ref": "55c85f0c-e96b-49f6-b14a-6620a7e4a4fc",
       "rows": [
        [
         "GAME_DATE_EST",
         "4304"
        ],
        [
         "GAME_ID",
         "26622"
        ],
        [
         "GAME_STATUS_TEXT",
         "1"
        ],
        [
         "HOME_TEAM_ID",
         "30"
        ],
        [
         "VISITOR_TEAM_ID",
         "30"
        ],
        [
         "SEASON",
         "20"
        ],
        [
         "TEAM_ID_home",
         "30"
        ],
        [
         "PTS_home",
         "100"
        ],
        [
         "FG_PCT_home",
         "404"
        ],
        [
         "FT_PCT_home",
         "410"
        ],
        [
         "FG3_PCT_home",
         "437"
        ],
        [
         "AST_home",
         "42"
        ],
        [
         "REB_home",
         "55"
        ],
        [
         "TEAM_ID_away",
         "30"
        ],
        [
         "PTS_away",
         "106"
        ],
        [
         "FG_PCT_away",
         "393"
        ],
        [
         "FT_PCT_away",
         "387"
        ],
        [
         "FG3_PCT_away",
         "417"
        ],
        [
         "AST_away",
         "41"
        ],
        [
         "REB_away",
         "52"
        ],
        [
         "HOME_TEAM_WINS",
         "2"
        ]
       ],
       "shape": {
        "columns": 1,
        "rows": 21
       }
      },
      "text/plain": [
       "GAME_DATE_EST        4304\n",
       "GAME_ID             26622\n",
       "GAME_STATUS_TEXT        1\n",
       "HOME_TEAM_ID           30\n",
       "VISITOR_TEAM_ID        30\n",
       "SEASON                 20\n",
       "TEAM_ID_home           30\n",
       "PTS_home              100\n",
       "FG_PCT_home           404\n",
       "FT_PCT_home           410\n",
       "FG3_PCT_home          437\n",
       "AST_home               42\n",
       "REB_home               55\n",
       "TEAM_ID_away           30\n",
       "PTS_away              106\n",
       "FG_PCT_away           393\n",
       "FT_PCT_away           387\n",
       "FG3_PCT_away          417\n",
       "AST_away               41\n",
       "REB_away               52\n",
       "HOME_TEAM_WINS          2\n",
       "dtype: int64"
      ]
     },
     "execution_count": 8,
     "metadata": {},
     "output_type": "execute_result"
    }
   ],
   "source": [
    "games.nunique()"
   ]
  },
  {
   "cell_type": "raw",
   "id": "3af694ee",
   "metadata": {
    "vscode": {
     "languageId": "raw"
    }
   },
   "source": [
    "GAME_STATUS_TEXT는 삭제\n",
    "GAME_ID가 중복되는 케이스가 존재, (shape랑 비교해보니 행 수가 더 많음) -> 어떤 케이스인가 알아볼 필요가 있다."
   ]
  },
  {
   "cell_type": "code",
   "execution_count": 9,
   "id": "7250c15e",
   "metadata": {},
   "outputs": [
    {
     "data": {
      "application/vnd.microsoft.datawrangler.viewer.v0+json": {
       "columns": [
        {
         "name": "index",
         "rawType": "int64",
         "type": "integer"
        },
        {
         "name": "GAME_DATE_EST",
         "rawType": "datetime64[ns]",
         "type": "datetime"
        },
        {
         "name": "GAME_ID",
         "rawType": "int64",
         "type": "integer"
        },
        {
         "name": "GAME_STATUS_TEXT",
         "rawType": "object",
         "type": "string"
        },
        {
         "name": "HOME_TEAM_ID",
         "rawType": "int64",
         "type": "integer"
        },
        {
         "name": "VISITOR_TEAM_ID",
         "rawType": "int64",
         "type": "integer"
        },
        {
         "name": "SEASON",
         "rawType": "int64",
         "type": "integer"
        },
        {
         "name": "TEAM_ID_home",
         "rawType": "int64",
         "type": "integer"
        },
        {
         "name": "PTS_home",
         "rawType": "float64",
         "type": "float"
        },
        {
         "name": "FG_PCT_home",
         "rawType": "float64",
         "type": "float"
        },
        {
         "name": "FT_PCT_home",
         "rawType": "float64",
         "type": "float"
        },
        {
         "name": "FG3_PCT_home",
         "rawType": "float64",
         "type": "float"
        },
        {
         "name": "AST_home",
         "rawType": "float64",
         "type": "float"
        },
        {
         "name": "REB_home",
         "rawType": "float64",
         "type": "float"
        },
        {
         "name": "TEAM_ID_away",
         "rawType": "int64",
         "type": "integer"
        },
        {
         "name": "PTS_away",
         "rawType": "float64",
         "type": "float"
        },
        {
         "name": "FG_PCT_away",
         "rawType": "float64",
         "type": "float"
        },
        {
         "name": "FT_PCT_away",
         "rawType": "float64",
         "type": "float"
        },
        {
         "name": "FG3_PCT_away",
         "rawType": "float64",
         "type": "float"
        },
        {
         "name": "AST_away",
         "rawType": "float64",
         "type": "float"
        },
        {
         "name": "REB_away",
         "rawType": "float64",
         "type": "float"
        },
        {
         "name": "HOME_TEAM_WINS",
         "rawType": "int64",
         "type": "integer"
        }
       ],
       "ref": "112dd3b0-6f84-448e-981a-5b8ba0493c41",
       "rows": [
        [
         "0",
         "2022-12-22 00:00:00",
         "22200477",
         "Final",
         "1610612740",
         "1610612759",
         "2022",
         "1610612740",
         "126.0",
         "0.484",
         "0.926",
         "0.382",
         "25.0",
         "46.0",
         "1610612759",
         "117.0",
         "0.478",
         "0.815",
         "0.321",
         "23.0",
         "44.0",
         "1"
        ],
        [
         "1",
         "2022-12-22 00:00:00",
         "22200478",
         "Final",
         "1610612762",
         "1610612764",
         "2022",
         "1610612762",
         "120.0",
         "0.488",
         "0.952",
         "0.457",
         "16.0",
         "40.0",
         "1610612764",
         "112.0",
         "0.561",
         "0.765",
         "0.333",
         "20.0",
         "37.0",
         "1"
        ],
        [
         "2",
         "2022-12-21 00:00:00",
         "22200466",
         "Final",
         "1610612739",
         "1610612749",
         "2022",
         "1610612739",
         "114.0",
         "0.482",
         "0.786",
         "0.313",
         "22.0",
         "37.0",
         "1610612749",
         "106.0",
         "0.47",
         "0.682",
         "0.433",
         "20.0",
         "46.0",
         "1"
        ],
        [
         "3",
         "2022-12-21 00:00:00",
         "22200467",
         "Final",
         "1610612755",
         "1610612765",
         "2022",
         "1610612755",
         "113.0",
         "0.441",
         "0.909",
         "0.297",
         "27.0",
         "49.0",
         "1610612765",
         "93.0",
         "0.392",
         "0.735",
         "0.261",
         "15.0",
         "46.0",
         "1"
        ],
        [
         "4",
         "2022-12-21 00:00:00",
         "22200468",
         "Final",
         "1610612737",
         "1610612741",
         "2022",
         "1610612737",
         "108.0",
         "0.429",
         "1.0",
         "0.378",
         "22.0",
         "47.0",
         "1610612741",
         "110.0",
         "0.5",
         "0.773",
         "0.292",
         "20.0",
         "47.0",
         "0"
        ],
        [
         "5",
         "2022-12-21 00:00:00",
         "22200469",
         "Final",
         "1610612738",
         "1610612754",
         "2022",
         "1610612738",
         "112.0",
         "0.386",
         "0.84",
         "0.317",
         "26.0",
         "62.0",
         "1610612754",
         "117.0",
         "0.469",
         "0.778",
         "0.462",
         "27.0",
         "47.0",
         "0"
        ],
        [
         "6",
         "2022-12-21 00:00:00",
         "22200470",
         "Final",
         "1610612751",
         "1610612744",
         "2022",
         "1610612751",
         "143.0",
         "0.643",
         "0.875",
         "0.636",
         "42.0",
         "32.0",
         "1610612744",
         "113.0",
         "0.494",
         "0.76",
         "0.364",
         "32.0",
         "36.0",
         "1"
        ],
        [
         "7",
         "2022-12-21 00:00:00",
         "22200471",
         "Final",
         "1610612752",
         "1610612761",
         "2022",
         "1610612752",
         "106.0",
         "0.553",
         "0.611",
         "0.423",
         "25.0",
         "38.0",
         "1610612761",
         "113.0",
         "0.447",
         "0.909",
         "0.265",
         "17.0",
         "38.0",
         "0"
        ],
        [
         "8",
         "2022-12-21 00:00:00",
         "22200472",
         "Final",
         "1610612745",
         "1610612753",
         "2022",
         "1610612745",
         "110.0",
         "0.466",
         "0.647",
         "0.395",
         "22.0",
         "49.0",
         "1610612753",
         "116.0",
         "0.451",
         "0.697",
         "0.297",
         "19.0",
         "45.0",
         "0"
        ],
        [
         "9",
         "2022-12-21 00:00:00",
         "22200473",
         "Final",
         "1610612750",
         "1610612742",
         "2022",
         "1610612750",
         "99.0",
         "0.494",
         "0.7",
         "0.267",
         "23.0",
         "39.0",
         "1610612742",
         "104.0",
         "0.453",
         "0.852",
         "0.333",
         "17.0",
         "39.0",
         "0"
        ]
       ],
       "shape": {
        "columns": 21,
        "rows": 10
       }
      },
      "text/html": [
       "<div>\n",
       "<style scoped>\n",
       "    .dataframe tbody tr th:only-of-type {\n",
       "        vertical-align: middle;\n",
       "    }\n",
       "\n",
       "    .dataframe tbody tr th {\n",
       "        vertical-align: top;\n",
       "    }\n",
       "\n",
       "    .dataframe thead th {\n",
       "        text-align: right;\n",
       "    }\n",
       "</style>\n",
       "<table border=\"1\" class=\"dataframe\">\n",
       "  <thead>\n",
       "    <tr style=\"text-align: right;\">\n",
       "      <th></th>\n",
       "      <th>GAME_DATE_EST</th>\n",
       "      <th>GAME_ID</th>\n",
       "      <th>GAME_STATUS_TEXT</th>\n",
       "      <th>HOME_TEAM_ID</th>\n",
       "      <th>VISITOR_TEAM_ID</th>\n",
       "      <th>SEASON</th>\n",
       "      <th>TEAM_ID_home</th>\n",
       "      <th>PTS_home</th>\n",
       "      <th>FG_PCT_home</th>\n",
       "      <th>FT_PCT_home</th>\n",
       "      <th>...</th>\n",
       "      <th>AST_home</th>\n",
       "      <th>REB_home</th>\n",
       "      <th>TEAM_ID_away</th>\n",
       "      <th>PTS_away</th>\n",
       "      <th>FG_PCT_away</th>\n",
       "      <th>FT_PCT_away</th>\n",
       "      <th>FG3_PCT_away</th>\n",
       "      <th>AST_away</th>\n",
       "      <th>REB_away</th>\n",
       "      <th>HOME_TEAM_WINS</th>\n",
       "    </tr>\n",
       "  </thead>\n",
       "  <tbody>\n",
       "    <tr>\n",
       "      <th>0</th>\n",
       "      <td>2022-12-22</td>\n",
       "      <td>22200477</td>\n",
       "      <td>Final</td>\n",
       "      <td>1610612740</td>\n",
       "      <td>1610612759</td>\n",
       "      <td>2022</td>\n",
       "      <td>1610612740</td>\n",
       "      <td>126.0</td>\n",
       "      <td>0.484</td>\n",
       "      <td>0.926</td>\n",
       "      <td>...</td>\n",
       "      <td>25.0</td>\n",
       "      <td>46.0</td>\n",
       "      <td>1610612759</td>\n",
       "      <td>117.0</td>\n",
       "      <td>0.478</td>\n",
       "      <td>0.815</td>\n",
       "      <td>0.321</td>\n",
       "      <td>23.0</td>\n",
       "      <td>44.0</td>\n",
       "      <td>1</td>\n",
       "    </tr>\n",
       "    <tr>\n",
       "      <th>1</th>\n",
       "      <td>2022-12-22</td>\n",
       "      <td>22200478</td>\n",
       "      <td>Final</td>\n",
       "      <td>1610612762</td>\n",
       "      <td>1610612764</td>\n",
       "      <td>2022</td>\n",
       "      <td>1610612762</td>\n",
       "      <td>120.0</td>\n",
       "      <td>0.488</td>\n",
       "      <td>0.952</td>\n",
       "      <td>...</td>\n",
       "      <td>16.0</td>\n",
       "      <td>40.0</td>\n",
       "      <td>1610612764</td>\n",
       "      <td>112.0</td>\n",
       "      <td>0.561</td>\n",
       "      <td>0.765</td>\n",
       "      <td>0.333</td>\n",
       "      <td>20.0</td>\n",
       "      <td>37.0</td>\n",
       "      <td>1</td>\n",
       "    </tr>\n",
       "    <tr>\n",
       "      <th>2</th>\n",
       "      <td>2022-12-21</td>\n",
       "      <td>22200466</td>\n",
       "      <td>Final</td>\n",
       "      <td>1610612739</td>\n",
       "      <td>1610612749</td>\n",
       "      <td>2022</td>\n",
       "      <td>1610612739</td>\n",
       "      <td>114.0</td>\n",
       "      <td>0.482</td>\n",
       "      <td>0.786</td>\n",
       "      <td>...</td>\n",
       "      <td>22.0</td>\n",
       "      <td>37.0</td>\n",
       "      <td>1610612749</td>\n",
       "      <td>106.0</td>\n",
       "      <td>0.470</td>\n",
       "      <td>0.682</td>\n",
       "      <td>0.433</td>\n",
       "      <td>20.0</td>\n",
       "      <td>46.0</td>\n",
       "      <td>1</td>\n",
       "    </tr>\n",
       "    <tr>\n",
       "      <th>3</th>\n",
       "      <td>2022-12-21</td>\n",
       "      <td>22200467</td>\n",
       "      <td>Final</td>\n",
       "      <td>1610612755</td>\n",
       "      <td>1610612765</td>\n",
       "      <td>2022</td>\n",
       "      <td>1610612755</td>\n",
       "      <td>113.0</td>\n",
       "      <td>0.441</td>\n",
       "      <td>0.909</td>\n",
       "      <td>...</td>\n",
       "      <td>27.0</td>\n",
       "      <td>49.0</td>\n",
       "      <td>1610612765</td>\n",
       "      <td>93.0</td>\n",
       "      <td>0.392</td>\n",
       "      <td>0.735</td>\n",
       "      <td>0.261</td>\n",
       "      <td>15.0</td>\n",
       "      <td>46.0</td>\n",
       "      <td>1</td>\n",
       "    </tr>\n",
       "    <tr>\n",
       "      <th>4</th>\n",
       "      <td>2022-12-21</td>\n",
       "      <td>22200468</td>\n",
       "      <td>Final</td>\n",
       "      <td>1610612737</td>\n",
       "      <td>1610612741</td>\n",
       "      <td>2022</td>\n",
       "      <td>1610612737</td>\n",
       "      <td>108.0</td>\n",
       "      <td>0.429</td>\n",
       "      <td>1.000</td>\n",
       "      <td>...</td>\n",
       "      <td>22.0</td>\n",
       "      <td>47.0</td>\n",
       "      <td>1610612741</td>\n",
       "      <td>110.0</td>\n",
       "      <td>0.500</td>\n",
       "      <td>0.773</td>\n",
       "      <td>0.292</td>\n",
       "      <td>20.0</td>\n",
       "      <td>47.0</td>\n",
       "      <td>0</td>\n",
       "    </tr>\n",
       "    <tr>\n",
       "      <th>5</th>\n",
       "      <td>2022-12-21</td>\n",
       "      <td>22200469</td>\n",
       "      <td>Final</td>\n",
       "      <td>1610612738</td>\n",
       "      <td>1610612754</td>\n",
       "      <td>2022</td>\n",
       "      <td>1610612738</td>\n",
       "      <td>112.0</td>\n",
       "      <td>0.386</td>\n",
       "      <td>0.840</td>\n",
       "      <td>...</td>\n",
       "      <td>26.0</td>\n",
       "      <td>62.0</td>\n",
       "      <td>1610612754</td>\n",
       "      <td>117.0</td>\n",
       "      <td>0.469</td>\n",
       "      <td>0.778</td>\n",
       "      <td>0.462</td>\n",
       "      <td>27.0</td>\n",
       "      <td>47.0</td>\n",
       "      <td>0</td>\n",
       "    </tr>\n",
       "    <tr>\n",
       "      <th>6</th>\n",
       "      <td>2022-12-21</td>\n",
       "      <td>22200470</td>\n",
       "      <td>Final</td>\n",
       "      <td>1610612751</td>\n",
       "      <td>1610612744</td>\n",
       "      <td>2022</td>\n",
       "      <td>1610612751</td>\n",
       "      <td>143.0</td>\n",
       "      <td>0.643</td>\n",
       "      <td>0.875</td>\n",
       "      <td>...</td>\n",
       "      <td>42.0</td>\n",
       "      <td>32.0</td>\n",
       "      <td>1610612744</td>\n",
       "      <td>113.0</td>\n",
       "      <td>0.494</td>\n",
       "      <td>0.760</td>\n",
       "      <td>0.364</td>\n",
       "      <td>32.0</td>\n",
       "      <td>36.0</td>\n",
       "      <td>1</td>\n",
       "    </tr>\n",
       "    <tr>\n",
       "      <th>7</th>\n",
       "      <td>2022-12-21</td>\n",
       "      <td>22200471</td>\n",
       "      <td>Final</td>\n",
       "      <td>1610612752</td>\n",
       "      <td>1610612761</td>\n",
       "      <td>2022</td>\n",
       "      <td>1610612752</td>\n",
       "      <td>106.0</td>\n",
       "      <td>0.553</td>\n",
       "      <td>0.611</td>\n",
       "      <td>...</td>\n",
       "      <td>25.0</td>\n",
       "      <td>38.0</td>\n",
       "      <td>1610612761</td>\n",
       "      <td>113.0</td>\n",
       "      <td>0.447</td>\n",
       "      <td>0.909</td>\n",
       "      <td>0.265</td>\n",
       "      <td>17.0</td>\n",
       "      <td>38.0</td>\n",
       "      <td>0</td>\n",
       "    </tr>\n",
       "    <tr>\n",
       "      <th>8</th>\n",
       "      <td>2022-12-21</td>\n",
       "      <td>22200472</td>\n",
       "      <td>Final</td>\n",
       "      <td>1610612745</td>\n",
       "      <td>1610612753</td>\n",
       "      <td>2022</td>\n",
       "      <td>1610612745</td>\n",
       "      <td>110.0</td>\n",
       "      <td>0.466</td>\n",
       "      <td>0.647</td>\n",
       "      <td>...</td>\n",
       "      <td>22.0</td>\n",
       "      <td>49.0</td>\n",
       "      <td>1610612753</td>\n",
       "      <td>116.0</td>\n",
       "      <td>0.451</td>\n",
       "      <td>0.697</td>\n",
       "      <td>0.297</td>\n",
       "      <td>19.0</td>\n",
       "      <td>45.0</td>\n",
       "      <td>0</td>\n",
       "    </tr>\n",
       "    <tr>\n",
       "      <th>9</th>\n",
       "      <td>2022-12-21</td>\n",
       "      <td>22200473</td>\n",
       "      <td>Final</td>\n",
       "      <td>1610612750</td>\n",
       "      <td>1610612742</td>\n",
       "      <td>2022</td>\n",
       "      <td>1610612750</td>\n",
       "      <td>99.0</td>\n",
       "      <td>0.494</td>\n",
       "      <td>0.700</td>\n",
       "      <td>...</td>\n",
       "      <td>23.0</td>\n",
       "      <td>39.0</td>\n",
       "      <td>1610612742</td>\n",
       "      <td>104.0</td>\n",
       "      <td>0.453</td>\n",
       "      <td>0.852</td>\n",
       "      <td>0.333</td>\n",
       "      <td>17.0</td>\n",
       "      <td>39.0</td>\n",
       "      <td>0</td>\n",
       "    </tr>\n",
       "  </tbody>\n",
       "</table>\n",
       "<p>10 rows × 21 columns</p>\n",
       "</div>"
      ],
      "text/plain": [
       "  GAME_DATE_EST   GAME_ID GAME_STATUS_TEXT  HOME_TEAM_ID  VISITOR_TEAM_ID  \\\n",
       "0    2022-12-22  22200477            Final    1610612740       1610612759   \n",
       "1    2022-12-22  22200478            Final    1610612762       1610612764   \n",
       "2    2022-12-21  22200466            Final    1610612739       1610612749   \n",
       "3    2022-12-21  22200467            Final    1610612755       1610612765   \n",
       "4    2022-12-21  22200468            Final    1610612737       1610612741   \n",
       "5    2022-12-21  22200469            Final    1610612738       1610612754   \n",
       "6    2022-12-21  22200470            Final    1610612751       1610612744   \n",
       "7    2022-12-21  22200471            Final    1610612752       1610612761   \n",
       "8    2022-12-21  22200472            Final    1610612745       1610612753   \n",
       "9    2022-12-21  22200473            Final    1610612750       1610612742   \n",
       "\n",
       "   SEASON  TEAM_ID_home  PTS_home  FG_PCT_home  FT_PCT_home  ...  AST_home  \\\n",
       "0    2022    1610612740     126.0        0.484        0.926  ...      25.0   \n",
       "1    2022    1610612762     120.0        0.488        0.952  ...      16.0   \n",
       "2    2022    1610612739     114.0        0.482        0.786  ...      22.0   \n",
       "3    2022    1610612755     113.0        0.441        0.909  ...      27.0   \n",
       "4    2022    1610612737     108.0        0.429        1.000  ...      22.0   \n",
       "5    2022    1610612738     112.0        0.386        0.840  ...      26.0   \n",
       "6    2022    1610612751     143.0        0.643        0.875  ...      42.0   \n",
       "7    2022    1610612752     106.0        0.553        0.611  ...      25.0   \n",
       "8    2022    1610612745     110.0        0.466        0.647  ...      22.0   \n",
       "9    2022    1610612750      99.0        0.494        0.700  ...      23.0   \n",
       "\n",
       "   REB_home  TEAM_ID_away  PTS_away  FG_PCT_away  FT_PCT_away  FG3_PCT_away  \\\n",
       "0      46.0    1610612759     117.0        0.478        0.815         0.321   \n",
       "1      40.0    1610612764     112.0        0.561        0.765         0.333   \n",
       "2      37.0    1610612749     106.0        0.470        0.682         0.433   \n",
       "3      49.0    1610612765      93.0        0.392        0.735         0.261   \n",
       "4      47.0    1610612741     110.0        0.500        0.773         0.292   \n",
       "5      62.0    1610612754     117.0        0.469        0.778         0.462   \n",
       "6      32.0    1610612744     113.0        0.494        0.760         0.364   \n",
       "7      38.0    1610612761     113.0        0.447        0.909         0.265   \n",
       "8      49.0    1610612753     116.0        0.451        0.697         0.297   \n",
       "9      39.0    1610612742     104.0        0.453        0.852         0.333   \n",
       "\n",
       "   AST_away  REB_away  HOME_TEAM_WINS  \n",
       "0      23.0      44.0               1  \n",
       "1      20.0      37.0               1  \n",
       "2      20.0      46.0               1  \n",
       "3      15.0      46.0               1  \n",
       "4      20.0      47.0               0  \n",
       "5      27.0      47.0               0  \n",
       "6      32.0      36.0               1  \n",
       "7      17.0      38.0               0  \n",
       "8      19.0      45.0               0  \n",
       "9      17.0      39.0               0  \n",
       "\n",
       "[10 rows x 21 columns]"
      ]
     },
     "execution_count": 9,
     "metadata": {},
     "output_type": "execute_result"
    }
   ],
   "source": [
    "games.head(10)"
   ]
  },
  {
   "cell_type": "code",
   "execution_count": 10,
   "id": "8683d893",
   "metadata": {},
   "outputs": [
    {
     "data": {
      "application/vnd.microsoft.datawrangler.viewer.v0+json": {
       "columns": [
        {
         "name": "GAME_ID",
         "rawType": "int64",
         "type": "integer"
        },
        {
         "name": "count",
         "rawType": "int64",
         "type": "integer"
        }
       ],
       "ref": "c9687d15-d403-424a-a10b-9cc70b4b2b6d",
       "rows": [
        [
         "22000021",
         "2"
        ],
        [
         "22000022",
         "2"
        ],
        [
         "22000067",
         "2"
        ],
        [
         "22000027",
         "2"
        ],
        [
         "22000028",
         "2"
        ],
        [
         "22000065",
         "2"
        ],
        [
         "22000030",
         "2"
        ],
        [
         "22000006",
         "2"
        ],
        [
         "22000057",
         "2"
        ],
        [
         "22000011",
         "2"
        ],
        [
         "22000077",
         "2"
        ],
        [
         "22000013",
         "2"
        ],
        [
         "22000076",
         "2"
        ],
        [
         "22000015",
         "2"
        ],
        [
         "22000018",
         "2"
        ],
        [
         "22000072",
         "2"
        ],
        [
         "22000070",
         "2"
        ],
        [
         "22000007",
         "2"
        ],
        [
         "22000042",
         "2"
        ],
        [
         "22000049",
         "2"
        ],
        [
         "22000044",
         "2"
        ],
        [
         "22000055",
         "2"
        ],
        [
         "22000051",
         "2"
        ],
        [
         "22000046",
         "2"
        ],
        [
         "22000032",
         "2"
        ],
        [
         "22000034",
         "2"
        ],
        [
         "22000037",
         "2"
        ],
        [
         "22000038",
         "2"
        ],
        [
         "22000053",
         "2"
        ],
        [
         "20400085",
         "1"
        ],
        [
         "20400078",
         "1"
        ],
        [
         "20400087",
         "1"
        ],
        [
         "20400090",
         "1"
        ],
        [
         "20400082",
         "1"
        ],
        [
         "20400081",
         "1"
        ],
        [
         "20400086",
         "1"
        ],
        [
         "20400089",
         "1"
        ],
        [
         "20400088",
         "1"
        ],
        [
         "20400083",
         "1"
        ],
        [
         "20400101",
         "1"
        ],
        [
         "20400102",
         "1"
        ],
        [
         "20400084",
         "1"
        ],
        [
         "20400092",
         "1"
        ],
        [
         "20400094",
         "1"
        ],
        [
         "20400095",
         "1"
        ],
        [
         "20400099",
         "1"
        ],
        [
         "20400104",
         "1"
        ],
        [
         "20400098",
         "1"
        ],
        [
         "20400093",
         "1"
        ],
        [
         "20400091",
         "1"
        ]
       ],
       "shape": {
        "columns": 1,
        "rows": 26622
       }
      },
      "text/plain": [
       "GAME_ID\n",
       "22000021    2\n",
       "22000022    2\n",
       "22000067    2\n",
       "22000027    2\n",
       "22000028    2\n",
       "           ..\n",
       "21000401    1\n",
       "21000400    1\n",
       "21000414    1\n",
       "21000413    1\n",
       "21000396    1\n",
       "Name: count, Length: 26622, dtype: int64"
      ]
     },
     "execution_count": 10,
     "metadata": {},
     "output_type": "execute_result"
    }
   ],
   "source": [
    "games['GAME_ID'].value_counts()"
   ]
  },
  {
   "cell_type": "code",
   "execution_count": 14,
   "id": "9efa0be6",
   "metadata": {},
   "outputs": [
    {
     "data": {
      "application/vnd.microsoft.datawrangler.viewer.v0+json": {
       "columns": [
        {
         "name": "index",
         "rawType": "int64",
         "type": "integer"
        },
        {
         "name": "GAME_DATE_EST",
         "rawType": "datetime64[ns]",
         "type": "datetime"
        },
        {
         "name": "GAME_ID",
         "rawType": "int64",
         "type": "integer"
        },
        {
         "name": "GAME_STATUS_TEXT",
         "rawType": "object",
         "type": "string"
        },
        {
         "name": "HOME_TEAM_ID",
         "rawType": "int64",
         "type": "integer"
        },
        {
         "name": "VISITOR_TEAM_ID",
         "rawType": "int64",
         "type": "integer"
        },
        {
         "name": "SEASON",
         "rawType": "int64",
         "type": "integer"
        },
        {
         "name": "TEAM_ID_home",
         "rawType": "int64",
         "type": "integer"
        },
        {
         "name": "PTS_home",
         "rawType": "float64",
         "type": "float"
        },
        {
         "name": "FG_PCT_home",
         "rawType": "float64",
         "type": "float"
        },
        {
         "name": "FT_PCT_home",
         "rawType": "float64",
         "type": "float"
        },
        {
         "name": "FG3_PCT_home",
         "rawType": "float64",
         "type": "float"
        },
        {
         "name": "AST_home",
         "rawType": "float64",
         "type": "float"
        },
        {
         "name": "REB_home",
         "rawType": "float64",
         "type": "float"
        },
        {
         "name": "TEAM_ID_away",
         "rawType": "int64",
         "type": "integer"
        },
        {
         "name": "PTS_away",
         "rawType": "float64",
         "type": "float"
        },
        {
         "name": "FG_PCT_away",
         "rawType": "float64",
         "type": "float"
        },
        {
         "name": "FT_PCT_away",
         "rawType": "float64",
         "type": "float"
        },
        {
         "name": "FG3_PCT_away",
         "rawType": "float64",
         "type": "float"
        },
        {
         "name": "AST_away",
         "rawType": "float64",
         "type": "float"
        },
        {
         "name": "REB_away",
         "rawType": "float64",
         "type": "float"
        },
        {
         "name": "HOME_TEAM_WINS",
         "rawType": "int64",
         "type": "integer"
        }
       ],
       "ref": "3ec6b35c-a14f-4e8f-8932-0ffb5a551bb3",
       "rows": [
        [
         "2491",
         "2020-12-31 00:00:00",
         "22000067",
         "Final",
         "1610612760",
         "1610612740",
         "2020",
         "1610612760",
         "80.0",
         "0.375",
         "0.333",
         "0.313",
         "24.0",
         "40.0",
         "1610612740",
         "113.0",
         "0.484",
         "0.632",
         "0.361",
         "23.0",
         "58.0",
         "0"
        ],
        [
         "3107",
         "2020-12-31 00:00:00",
         "22000067",
         "Final",
         "1610612760",
         "1610612740",
         "2020",
         "1610612760",
         "80.0",
         "0.375",
         "0.3329999999999999",
         "0.313",
         "24.0",
         "40.0",
         "1610612740",
         "113.0",
         "0.484",
         "0.632",
         "0.361",
         "23.0",
         "58.0",
         "0"
        ]
       ],
       "shape": {
        "columns": 21,
        "rows": 2
       }
      },
      "text/html": [
       "<div>\n",
       "<style scoped>\n",
       "    .dataframe tbody tr th:only-of-type {\n",
       "        vertical-align: middle;\n",
       "    }\n",
       "\n",
       "    .dataframe tbody tr th {\n",
       "        vertical-align: top;\n",
       "    }\n",
       "\n",
       "    .dataframe thead th {\n",
       "        text-align: right;\n",
       "    }\n",
       "</style>\n",
       "<table border=\"1\" class=\"dataframe\">\n",
       "  <thead>\n",
       "    <tr style=\"text-align: right;\">\n",
       "      <th></th>\n",
       "      <th>GAME_DATE_EST</th>\n",
       "      <th>GAME_ID</th>\n",
       "      <th>GAME_STATUS_TEXT</th>\n",
       "      <th>HOME_TEAM_ID</th>\n",
       "      <th>VISITOR_TEAM_ID</th>\n",
       "      <th>SEASON</th>\n",
       "      <th>TEAM_ID_home</th>\n",
       "      <th>PTS_home</th>\n",
       "      <th>FG_PCT_home</th>\n",
       "      <th>FT_PCT_home</th>\n",
       "      <th>...</th>\n",
       "      <th>AST_home</th>\n",
       "      <th>REB_home</th>\n",
       "      <th>TEAM_ID_away</th>\n",
       "      <th>PTS_away</th>\n",
       "      <th>FG_PCT_away</th>\n",
       "      <th>FT_PCT_away</th>\n",
       "      <th>FG3_PCT_away</th>\n",
       "      <th>AST_away</th>\n",
       "      <th>REB_away</th>\n",
       "      <th>HOME_TEAM_WINS</th>\n",
       "    </tr>\n",
       "  </thead>\n",
       "  <tbody>\n",
       "    <tr>\n",
       "      <th>2491</th>\n",
       "      <td>2020-12-31</td>\n",
       "      <td>22000067</td>\n",
       "      <td>Final</td>\n",
       "      <td>1610612760</td>\n",
       "      <td>1610612740</td>\n",
       "      <td>2020</td>\n",
       "      <td>1610612760</td>\n",
       "      <td>80.0</td>\n",
       "      <td>0.375</td>\n",
       "      <td>0.333</td>\n",
       "      <td>...</td>\n",
       "      <td>24.0</td>\n",
       "      <td>40.0</td>\n",
       "      <td>1610612740</td>\n",
       "      <td>113.0</td>\n",
       "      <td>0.484</td>\n",
       "      <td>0.632</td>\n",
       "      <td>0.361</td>\n",
       "      <td>23.0</td>\n",
       "      <td>58.0</td>\n",
       "      <td>0</td>\n",
       "    </tr>\n",
       "    <tr>\n",
       "      <th>3107</th>\n",
       "      <td>2020-12-31</td>\n",
       "      <td>22000067</td>\n",
       "      <td>Final</td>\n",
       "      <td>1610612760</td>\n",
       "      <td>1610612740</td>\n",
       "      <td>2020</td>\n",
       "      <td>1610612760</td>\n",
       "      <td>80.0</td>\n",
       "      <td>0.375</td>\n",
       "      <td>0.333</td>\n",
       "      <td>...</td>\n",
       "      <td>24.0</td>\n",
       "      <td>40.0</td>\n",
       "      <td>1610612740</td>\n",
       "      <td>113.0</td>\n",
       "      <td>0.484</td>\n",
       "      <td>0.632</td>\n",
       "      <td>0.361</td>\n",
       "      <td>23.0</td>\n",
       "      <td>58.0</td>\n",
       "      <td>0</td>\n",
       "    </tr>\n",
       "  </tbody>\n",
       "</table>\n",
       "<p>2 rows × 21 columns</p>\n",
       "</div>"
      ],
      "text/plain": [
       "     GAME_DATE_EST   GAME_ID GAME_STATUS_TEXT  HOME_TEAM_ID  VISITOR_TEAM_ID  \\\n",
       "2491    2020-12-31  22000067            Final    1610612760       1610612740   \n",
       "3107    2020-12-31  22000067            Final    1610612760       1610612740   \n",
       "\n",
       "      SEASON  TEAM_ID_home  PTS_home  FG_PCT_home  FT_PCT_home  ...  AST_home  \\\n",
       "2491    2020    1610612760      80.0        0.375        0.333  ...      24.0   \n",
       "3107    2020    1610612760      80.0        0.375        0.333  ...      24.0   \n",
       "\n",
       "      REB_home  TEAM_ID_away  PTS_away  FG_PCT_away  FT_PCT_away  \\\n",
       "2491      40.0    1610612740     113.0        0.484        0.632   \n",
       "3107      40.0    1610612740     113.0        0.484        0.632   \n",
       "\n",
       "      FG3_PCT_away  AST_away  REB_away  HOME_TEAM_WINS  \n",
       "2491         0.361      23.0      58.0               0  \n",
       "3107         0.361      23.0      58.0               0  \n",
       "\n",
       "[2 rows x 21 columns]"
      ]
     },
     "execution_count": 14,
     "metadata": {},
     "output_type": "execute_result"
    }
   ],
   "source": [
    "one_game = games[games['GAME_ID'] == 22000067]\n",
    "one_game"
   ]
  },
  {
   "cell_type": "raw",
   "id": "b823c6fe",
   "metadata": {
    "vscode": {
     "languageId": "raw"
    }
   },
   "source": [
    "GAME_ID 동일한 경우 사실상 중복됨\n",
    "\n",
    "GAME_ID, GAME_DATE_EST 그룹으로 중복된 경우 삭제"
   ]
  }
 ],
 "metadata": {
  "kernelspec": {
   "display_name": "sparta",
   "language": "python",
   "name": "python3"
  },
  "language_info": {
   "codemirror_mode": {
    "name": "ipython",
    "version": 3
   },
   "file_extension": ".py",
   "mimetype": "text/x-python",
   "name": "python",
   "nbconvert_exporter": "python",
   "pygments_lexer": "ipython3",
   "version": "3.10.18"
  }
 },
 "nbformat": 4,
 "nbformat_minor": 5
}
