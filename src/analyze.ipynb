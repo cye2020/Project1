{
 "cells": [
  {
   "cell_type": "code",
   "execution_count": 1,
   "id": "a8e080ef",
   "metadata": {},
   "outputs": [],
   "source": [
    "from utils import load_dataset"
   ]
  },
  {
   "cell_type": "code",
   "execution_count": 2,
   "id": "9ad3f03d",
   "metadata": {},
   "outputs": [
    {
     "name": "stdout",
     "output_type": "stream",
     "text": [
      "<class 'pandas.core.frame.DataFrame'>\n",
      "Index: 305490 entries, 2022-10-18 to 2022-12-22\n",
      "Data columns (total 25 columns):\n",
      " #   Column          Non-Null Count   Dtype   \n",
      "---  ------          --------------   -----   \n",
      " 0   GAME_ID         305490 non-null  int64   \n",
      " 1   TEAM            305490 non-null  category\n",
      " 2   TEAM_LVL        305490 non-null  category\n",
      " 3   PLAYER_ID       305490 non-null  int64   \n",
      " 4   START_POSITION  305490 non-null  category\n",
      " 5   MIN             305490 non-null  float64 \n",
      " 6   FGM             305490 non-null  int64   \n",
      " 7   FGA             305490 non-null  int64   \n",
      " 8   FG_PCT          305490 non-null  float64 \n",
      " 9   FG3M            305490 non-null  int64   \n",
      " 10  FG3A            305490 non-null  int64   \n",
      " 11  FG3_PCT         305490 non-null  float64 \n",
      " 12  FTM             305490 non-null  int64   \n",
      " 13  FTA             305490 non-null  int64   \n",
      " 14  FT_PCT          305490 non-null  float64 \n",
      " 15  OREB            305490 non-null  int64   \n",
      " 16  DREB            305490 non-null  float64 \n",
      " 17  REB             305490 non-null  int64   \n",
      " 18  AST             305490 non-null  int64   \n",
      " 19  STL             305490 non-null  int64   \n",
      " 20  BLK             305490 non-null  int64   \n",
      " 21  TO              305490 non-null  int64   \n",
      " 22  PF              305490 non-null  int64   \n",
      " 23  PTS             305490 non-null  int64   \n",
      " 24  PLUS_MINUS      305490 non-null  int64   \n",
      "dtypes: category(3), float64(5), int64(17)\n",
      "memory usage: 54.5+ MB\n"
     ]
    }
   ],
   "source": [
    "games_details_regular = load_dataset('games_details_regular', 2022)\n",
    "games_details_regular.info()"
   ]
  },
  {
   "cell_type": "code",
   "execution_count": 3,
   "id": "4137904e",
   "metadata": {},
   "outputs": [
    {
     "name": "stdout",
     "output_type": "stream",
     "text": [
      "<class 'pandas.core.frame.DataFrame'>\n",
      "Index: 14310 entries, 2022-10-18 to 2022-12-22\n",
      "Data columns (total 18 columns):\n",
      " #   Column            Non-Null Count  Dtype   \n",
      "---  ------            --------------  -----   \n",
      " 0   GAME_ID           14310 non-null  int64   \n",
      " 1   HOME_TEAM         14310 non-null  category\n",
      " 2   HOME_TEAM_LVL     14310 non-null  category\n",
      " 3   PTS_home          14310 non-null  int64   \n",
      " 4   FG_PCT_home       14310 non-null  float64 \n",
      " 5   FT_PCT_home       14310 non-null  float64 \n",
      " 6   FG3_PCT_home      14310 non-null  float64 \n",
      " 7   AST_home          14310 non-null  int64   \n",
      " 8   REB_home          14310 non-null  int64   \n",
      " 9   VISITOR_TEAM      14310 non-null  category\n",
      " 10  VISITOR_TEAM_LVL  14310 non-null  category\n",
      " 11  PTS_away          14310 non-null  int64   \n",
      " 12  FG_PCT_away       14310 non-null  float64 \n",
      " 13  FT_PCT_away       14310 non-null  float64 \n",
      " 14  FG3_PCT_away      14310 non-null  float64 \n",
      " 15  AST_away          14310 non-null  int64   \n",
      " 16  REB_away          14310 non-null  int64   \n",
      " 17  HOME_TEAM_WINS    14310 non-null  int64   \n",
      "dtypes: category(4), float64(6), int64(8)\n",
      "memory usage: 1.7+ MB\n"
     ]
    }
   ],
   "source": [
    "games_regular = load_dataset('games_regular', 2022)\n",
    "games_regular.info()"
   ]
  },
  {
   "cell_type": "code",
   "execution_count": 4,
   "id": "1774585d",
   "metadata": {},
   "outputs": [
    {
     "name": "stdout",
     "output_type": "stream",
     "text": [
      "<class 'pandas.core.frame.DataFrame'>\n",
      "Index: 57600 entries, 2022-10-18 to 2022-12-22\n",
      "Data columns (total 9 columns):\n",
      " #   Column       Non-Null Count  Dtype   \n",
      "---  ------       --------------  -----   \n",
      " 0   CONFERENCE   57600 non-null  category\n",
      " 1   TEAM         57600 non-null  category\n",
      " 2   TEAM_LVL     57600 non-null  category\n",
      " 3   G            57600 non-null  int64   \n",
      " 4   W            57600 non-null  int64   \n",
      " 5   L            57600 non-null  int64   \n",
      " 6   W_PCT        57600 non-null  float64 \n",
      " 7   HOME_RECORD  57600 non-null  object  \n",
      " 8   ROAD_RECORD  57600 non-null  object  \n",
      "dtypes: category(3), float64(1), int64(3), object(2)\n",
      "memory usage: 3.2+ MB\n"
     ]
    }
   ],
   "source": [
    "ranking_regular = load_dataset('ranking_regular', 2022)\n",
    "ranking_regular.info()"
   ]
  }
 ],
 "metadata": {
  "kernelspec": {
   "display_name": "sparta",
   "language": "python",
   "name": "python3"
  },
  "language_info": {
   "codemirror_mode": {
    "name": "ipython",
    "version": 3
   },
   "file_extension": ".py",
   "mimetype": "text/x-python",
   "name": "python",
   "nbconvert_exporter": "python",
   "pygments_lexer": "ipython3",
   "version": "3.10.18"
  }
 },
 "nbformat": 4,
 "nbformat_minor": 5
}
