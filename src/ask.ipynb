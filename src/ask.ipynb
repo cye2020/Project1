{
 "cells": [
  {
   "cell_type": "code",
   "execution_count": 1,
   "id": "67d32500",
   "metadata": {},
   "outputs": [
    {
     "name": "stdout",
     "output_type": "stream",
     "text": [
      "/home/yeeun/Sparta/Project1/src/data\n"
     ]
    }
   ],
   "source": [
    "from config import DATA_DIR\n",
    "\n",
    "print(DATA_DIR)"
   ]
  }
 ],
 "metadata": {
  "kernelspec": {
   "display_name": "sparta",
   "language": "python",
   "name": "python3"
  },
  "language_info": {
   "codemirror_mode": {
    "name": "ipython",
    "version": 3
   },
   "file_extension": ".py",
   "mimetype": "text/x-python",
   "name": "python",
   "nbconvert_exporter": "python",
   "pygments_lexer": "ipython3",
   "version": "3.10.18"
  }
 },
 "nbformat": 4,
 "nbformat_minor": 5
}
