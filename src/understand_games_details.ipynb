{
 "cells": [
  {
   "cell_type": "markdown",
   "id": "16fa66d5",
   "metadata": {},
   "source": [
    "## games_details.csv의 데이터 구조 및 형식 파악"
   ]
  },
  {
   "cell_type": "code",
   "execution_count": 7,
   "id": "2295bc15",
   "metadata": {},
   "outputs": [],
   "source": [
    "import pandas as pd\n",
    "\n",
    "from utils import load_dataset"
   ]
  },
  {
   "cell_type": "code",
   "execution_count": 8,
   "id": "50a3669f",
   "metadata": {},
   "outputs": [],
   "source": [
    "games_details = load_dataset('games_details', test=False)"
   ]
  },
  {
   "cell_type": "markdown",
   "id": "1f3626d3",
   "metadata": {},
   "source": [
    "### games_details의 구성"
   ]
  },
  {
   "cell_type": "code",
   "execution_count": 9,
   "id": "c50a4249",
   "metadata": {},
   "outputs": [
    {
     "data": {
      "text/plain": [
       "(668628, 29)"
      ]
     },
     "execution_count": 9,
     "metadata": {},
     "output_type": "execute_result"
    }
   ],
   "source": [
    "games_details.shape"
   ]
  },
  {
   "cell_type": "markdown",
   "id": "08527a09",
   "metadata": {},
   "source": [
    "### games_details의 관측 단위"
   ]
  },
  {
   "cell_type": "code",
   "execution_count": 10,
   "id": "552351c9",
   "metadata": {},
   "outputs": [
    {
     "name": "stdout",
     "output_type": "stream",
     "text": [
      "<class 'pandas.core.frame.DataFrame'>\n",
      "RangeIndex: 668628 entries, 0 to 668627\n",
      "Data columns (total 29 columns):\n",
      " #   Column             Non-Null Count   Dtype  \n",
      "---  ------             --------------   -----  \n",
      " 0   GAME_ID            668628 non-null  int64  \n",
      " 1   TEAM_ID            668628 non-null  int64  \n",
      " 2   TEAM_ABBREVIATION  668628 non-null  object \n",
      " 3   TEAM_CITY          668628 non-null  object \n",
      " 4   PLAYER_ID          668628 non-null  int64  \n",
      " 5   PLAYER_NAME        668628 non-null  object \n",
      " 6   NICKNAME           53037 non-null   object \n",
      " 7   START_POSITION     255765 non-null  object \n",
      " 8   COMMENT            109689 non-null  object \n",
      " 9   MIN                558938 non-null  object \n",
      " 10  FGM                558938 non-null  float64\n",
      " 11  FGA                558938 non-null  float64\n",
      " 12  FG_PCT             558938 non-null  float64\n",
      " 13  FG3M               558938 non-null  float64\n",
      " 14  FG3A               558938 non-null  float64\n",
      " 15  FG3_PCT            558938 non-null  float64\n",
      " 16  FTM                558938 non-null  float64\n",
      " 17  FTA                558938 non-null  float64\n",
      " 18  FT_PCT             558938 non-null  float64\n",
      " 19  OREB               558938 non-null  float64\n",
      " 20  DREB               558938 non-null  float64\n",
      " 21  REB                558938 non-null  float64\n",
      " 22  AST                558938 non-null  float64\n",
      " 23  STL                558938 non-null  float64\n",
      " 24  BLK                558938 non-null  float64\n",
      " 25  TO                 558938 non-null  float64\n",
      " 26  PF                 558938 non-null  float64\n",
      " 27  PTS                558938 non-null  float64\n",
      " 28  PLUS_MINUS         535277 non-null  float64\n",
      "dtypes: float64(19), int64(3), object(7)\n",
      "memory usage: 147.9+ MB\n"
     ]
    }
   ],
   "source": [
    "games_details.info()"
   ]
  },
  {
   "cell_type": "code",
   "execution_count": 11,
   "id": "7286bae4",
   "metadata": {},
   "outputs": [
    {
     "data": {
      "application/vnd.microsoft.datawrangler.viewer.v0+json": {
       "columns": [
        {
         "name": "index",
         "rawType": "object",
         "type": "string"
        },
        {
         "name": "0",
         "rawType": "object",
         "type": "unknown"
        }
       ],
       "ref": "73a3f662-6753-40e7-a36e-79492f96a5fc",
       "rows": [
        [
         "GAME_ID",
         "int64"
        ],
        [
         "TEAM_ID",
         "int64"
        ],
        [
         "TEAM_ABBREVIATION",
         "object"
        ],
        [
         "TEAM_CITY",
         "object"
        ],
        [
         "PLAYER_ID",
         "int64"
        ],
        [
         "PLAYER_NAME",
         "object"
        ],
        [
         "NICKNAME",
         "object"
        ],
        [
         "START_POSITION",
         "object"
        ],
        [
         "COMMENT",
         "object"
        ],
        [
         "MIN",
         "object"
        ],
        [
         "FGM",
         "float64"
        ],
        [
         "FGA",
         "float64"
        ],
        [
         "FG_PCT",
         "float64"
        ],
        [
         "FG3M",
         "float64"
        ],
        [
         "FG3A",
         "float64"
        ],
        [
         "FG3_PCT",
         "float64"
        ],
        [
         "FTM",
         "float64"
        ],
        [
         "FTA",
         "float64"
        ],
        [
         "FT_PCT",
         "float64"
        ],
        [
         "OREB",
         "float64"
        ],
        [
         "DREB",
         "float64"
        ],
        [
         "REB",
         "float64"
        ],
        [
         "AST",
         "float64"
        ],
        [
         "STL",
         "float64"
        ],
        [
         "BLK",
         "float64"
        ],
        [
         "TO",
         "float64"
        ],
        [
         "PF",
         "float64"
        ],
        [
         "PTS",
         "float64"
        ],
        [
         "PLUS_MINUS",
         "float64"
        ]
       ],
       "shape": {
        "columns": 1,
        "rows": 29
       }
      },
      "text/plain": [
       "GAME_ID                int64\n",
       "TEAM_ID                int64\n",
       "TEAM_ABBREVIATION     object\n",
       "TEAM_CITY             object\n",
       "PLAYER_ID              int64\n",
       "PLAYER_NAME           object\n",
       "NICKNAME              object\n",
       "START_POSITION        object\n",
       "COMMENT               object\n",
       "MIN                   object\n",
       "FGM                  float64\n",
       "FGA                  float64\n",
       "FG_PCT               float64\n",
       "FG3M                 float64\n",
       "FG3A                 float64\n",
       "FG3_PCT              float64\n",
       "FTM                  float64\n",
       "FTA                  float64\n",
       "FT_PCT               float64\n",
       "OREB                 float64\n",
       "DREB                 float64\n",
       "REB                  float64\n",
       "AST                  float64\n",
       "STL                  float64\n",
       "BLK                  float64\n",
       "TO                   float64\n",
       "PF                   float64\n",
       "PTS                  float64\n",
       "PLUS_MINUS           float64\n",
       "dtype: object"
      ]
     },
     "execution_count": 11,
     "metadata": {},
     "output_type": "execute_result"
    }
   ],
   "source": [
    "games_details.dtypes"
   ]
  },
  {
   "cell_type": "raw",
   "id": "d6cee57f",
   "metadata": {
    "vscode": {
     "languageId": "raw"
    }
   },
   "source": [
    "# 과제: 쓸데없는 실수형은 정수로 고쳐도 무방함"
   ]
  },
  {
   "cell_type": "code",
   "execution_count": 12,
   "id": "2e6fbf88",
   "metadata": {},
   "outputs": [
    {
     "data": {
      "text/plain": [
       "Index(['GAME_ID', 'TEAM_ID', 'TEAM_ABBREVIATION', 'TEAM_CITY', 'PLAYER_ID',\n",
       "       'PLAYER_NAME', 'NICKNAME', 'START_POSITION', 'COMMENT', 'MIN', 'FGM',\n",
       "       'FGA', 'FG_PCT', 'FG3M', 'FG3A', 'FG3_PCT', 'FTM', 'FTA', 'FT_PCT',\n",
       "       'OREB', 'DREB', 'REB', 'AST', 'STL', 'BLK', 'TO', 'PF', 'PTS',\n",
       "       'PLUS_MINUS'],\n",
       "      dtype='object')"
      ]
     },
     "execution_count": 12,
     "metadata": {},
     "output_type": "execute_result"
    }
   ],
   "source": [
    "games_details.columns"
   ]
  },
  {
   "cell_type": "code",
   "execution_count": 13,
   "id": "4b2acb8f",
   "metadata": {},
   "outputs": [
    {
     "data": {
      "application/vnd.microsoft.datawrangler.viewer.v0+json": {
       "columns": [
        {
         "name": "index",
         "rawType": "object",
         "type": "string"
        },
        {
         "name": "0",
         "rawType": "int64",
         "type": "integer"
        }
       ],
       "ref": "bde0ff6a-f9bb-4ee9-bb37-9db77b7af62a",
       "rows": [
        [
         "GAME_ID",
         "0"
        ],
        [
         "TEAM_ID",
         "0"
        ],
        [
         "TEAM_ABBREVIATION",
         "0"
        ],
        [
         "TEAM_CITY",
         "0"
        ],
        [
         "PLAYER_ID",
         "0"
        ],
        [
         "PLAYER_NAME",
         "0"
        ],
        [
         "NICKNAME",
         "615591"
        ],
        [
         "START_POSITION",
         "412863"
        ],
        [
         "COMMENT",
         "558939"
        ],
        [
         "MIN",
         "109690"
        ],
        [
         "FGM",
         "109690"
        ],
        [
         "FGA",
         "109690"
        ],
        [
         "FG_PCT",
         "109690"
        ],
        [
         "FG3M",
         "109690"
        ],
        [
         "FG3A",
         "109690"
        ],
        [
         "FG3_PCT",
         "109690"
        ],
        [
         "FTM",
         "109690"
        ],
        [
         "FTA",
         "109690"
        ],
        [
         "FT_PCT",
         "109690"
        ],
        [
         "OREB",
         "109690"
        ],
        [
         "DREB",
         "109690"
        ],
        [
         "REB",
         "109690"
        ],
        [
         "AST",
         "109690"
        ],
        [
         "STL",
         "109690"
        ],
        [
         "BLK",
         "109690"
        ],
        [
         "TO",
         "109690"
        ],
        [
         "PF",
         "109690"
        ],
        [
         "PTS",
         "109690"
        ],
        [
         "PLUS_MINUS",
         "133351"
        ]
       ],
       "shape": {
        "columns": 1,
        "rows": 29
       }
      },
      "text/plain": [
       "GAME_ID                   0\n",
       "TEAM_ID                   0\n",
       "TEAM_ABBREVIATION         0\n",
       "TEAM_CITY                 0\n",
       "PLAYER_ID                 0\n",
       "PLAYER_NAME               0\n",
       "NICKNAME             615591\n",
       "START_POSITION       412863\n",
       "COMMENT              558939\n",
       "MIN                  109690\n",
       "FGM                  109690\n",
       "FGA                  109690\n",
       "FG_PCT               109690\n",
       "FG3M                 109690\n",
       "FG3A                 109690\n",
       "FG3_PCT              109690\n",
       "FTM                  109690\n",
       "FTA                  109690\n",
       "FT_PCT               109690\n",
       "OREB                 109690\n",
       "DREB                 109690\n",
       "REB                  109690\n",
       "AST                  109690\n",
       "STL                  109690\n",
       "BLK                  109690\n",
       "TO                   109690\n",
       "PF                   109690\n",
       "PTS                  109690\n",
       "PLUS_MINUS           133351\n",
       "dtype: int64"
      ]
     },
     "execution_count": 13,
     "metadata": {},
     "output_type": "execute_result"
    }
   ],
   "source": [
    "games_details.isnull().sum()"
   ]
  },
  {
   "cell_type": "code",
   "execution_count": 14,
   "id": "0e02863e",
   "metadata": {},
   "outputs": [
    {
     "data": {
      "application/vnd.microsoft.datawrangler.viewer.v0+json": {
       "columns": [
        {
         "name": "index",
         "rawType": "object",
         "type": "string"
        },
        {
         "name": "0",
         "rawType": "int64",
         "type": "integer"
        }
       ],
       "ref": "efd1fa2b-feef-49fa-82e8-6b6b82e831ee",
       "rows": [
        [
         "GAME_ID",
         "26523"
        ],
        [
         "TEAM_ID",
         "30"
        ],
        [
         "TEAM_ABBREVIATION",
         "34"
        ],
        [
         "TEAM_CITY",
         "33"
        ],
        [
         "PLAYER_ID",
         "2687"
        ],
        [
         "PLAYER_NAME",
         "2664"
        ],
        [
         "NICKNAME",
         "558"
        ],
        [
         "START_POSITION",
         "3"
        ],
        [
         "COMMENT",
         "5348"
        ],
        [
         "MIN",
         "3802"
        ],
        [
         "FGM",
         "26"
        ],
        [
         "FGA",
         "47"
        ],
        [
         "FG_PCT",
         "309"
        ],
        [
         "FG3M",
         "15"
        ],
        [
         "FG3A",
         "25"
        ],
        [
         "FG3_PCT",
         "109"
        ],
        [
         "FTM",
         "27"
        ],
        [
         "FTA",
         "33"
        ],
        [
         "FT_PCT",
         "165"
        ],
        [
         "OREB",
         "18"
        ],
        [
         "DREB",
         "25"
        ],
        [
         "REB",
         "32"
        ],
        [
         "AST",
         "26"
        ],
        [
         "STL",
         "11"
        ],
        [
         "BLK",
         "13"
        ],
        [
         "TO",
         "13"
        ],
        [
         "PF",
         "8"
        ],
        [
         "PTS",
         "66"
        ],
        [
         "PLUS_MINUS",
         "108"
        ]
       ],
       "shape": {
        "columns": 1,
        "rows": 29
       }
      },
      "text/plain": [
       "GAME_ID              26523\n",
       "TEAM_ID                 30\n",
       "TEAM_ABBREVIATION       34\n",
       "TEAM_CITY               33\n",
       "PLAYER_ID             2687\n",
       "PLAYER_NAME           2664\n",
       "NICKNAME               558\n",
       "START_POSITION           3\n",
       "COMMENT               5348\n",
       "MIN                   3802\n",
       "FGM                     26\n",
       "FGA                     47\n",
       "FG_PCT                 309\n",
       "FG3M                    15\n",
       "FG3A                    25\n",
       "FG3_PCT                109\n",
       "FTM                     27\n",
       "FTA                     33\n",
       "FT_PCT                 165\n",
       "OREB                    18\n",
       "DREB                    25\n",
       "REB                     32\n",
       "AST                     26\n",
       "STL                     11\n",
       "BLK                     13\n",
       "TO                      13\n",
       "PF                       8\n",
       "PTS                     66\n",
       "PLUS_MINUS             108\n",
       "dtype: int64"
      ]
     },
     "execution_count": 14,
     "metadata": {},
     "output_type": "execute_result"
    }
   ],
   "source": [
    "games_details.nunique()"
   ]
  },
  {
   "cell_type": "code",
   "execution_count": 15,
   "id": "6bba5d54",
   "metadata": {},
   "outputs": [
    {
     "data": {
      "application/vnd.microsoft.datawrangler.viewer.v0+json": {
       "columns": [
        {
         "name": "index",
         "rawType": "int64",
         "type": "integer"
        },
        {
         "name": "GAME_ID",
         "rawType": "int64",
         "type": "integer"
        },
        {
         "name": "TEAM_ID",
         "rawType": "int64",
         "type": "integer"
        },
        {
         "name": "TEAM_ABBREVIATION",
         "rawType": "object",
         "type": "string"
        },
        {
         "name": "TEAM_CITY",
         "rawType": "object",
         "type": "string"
        },
        {
         "name": "PLAYER_ID",
         "rawType": "int64",
         "type": "integer"
        },
        {
         "name": "PLAYER_NAME",
         "rawType": "object",
         "type": "string"
        },
        {
         "name": "NICKNAME",
         "rawType": "object",
         "type": "string"
        },
        {
         "name": "START_POSITION",
         "rawType": "object",
         "type": "unknown"
        },
        {
         "name": "COMMENT",
         "rawType": "object",
         "type": "unknown"
        },
        {
         "name": "MIN",
         "rawType": "object",
         "type": "string"
        },
        {
         "name": "FGM",
         "rawType": "float64",
         "type": "float"
        },
        {
         "name": "FGA",
         "rawType": "float64",
         "type": "float"
        },
        {
         "name": "FG_PCT",
         "rawType": "float64",
         "type": "float"
        },
        {
         "name": "FG3M",
         "rawType": "float64",
         "type": "float"
        },
        {
         "name": "FG3A",
         "rawType": "float64",
         "type": "float"
        },
        {
         "name": "FG3_PCT",
         "rawType": "float64",
         "type": "float"
        },
        {
         "name": "FTM",
         "rawType": "float64",
         "type": "float"
        },
        {
         "name": "FTA",
         "rawType": "float64",
         "type": "float"
        },
        {
         "name": "FT_PCT",
         "rawType": "float64",
         "type": "float"
        },
        {
         "name": "OREB",
         "rawType": "float64",
         "type": "float"
        },
        {
         "name": "DREB",
         "rawType": "float64",
         "type": "float"
        },
        {
         "name": "REB",
         "rawType": "float64",
         "type": "float"
        },
        {
         "name": "AST",
         "rawType": "float64",
         "type": "float"
        },
        {
         "name": "STL",
         "rawType": "float64",
         "type": "float"
        },
        {
         "name": "BLK",
         "rawType": "float64",
         "type": "float"
        },
        {
         "name": "TO",
         "rawType": "float64",
         "type": "float"
        },
        {
         "name": "PF",
         "rawType": "float64",
         "type": "float"
        },
        {
         "name": "PTS",
         "rawType": "float64",
         "type": "float"
        },
        {
         "name": "PLUS_MINUS",
         "rawType": "float64",
         "type": "float"
        }
       ],
       "ref": "c877af44-ac57-494b-bf64-5dc982393ca6",
       "rows": [
        [
         "0",
         "22200477",
         "1610612759",
         "SAS",
         "San Antonio",
         "1629641",
         "Romeo Langford",
         "Romeo",
         "F",
         null,
         "18:06",
         "1.0",
         "1.0",
         "1.0",
         "0.0",
         "0.0",
         "0.0",
         "0.0",
         "0.0",
         "0.0",
         "1.0",
         "1.0",
         "2.0",
         "0.0",
         "1.0",
         "0.0",
         "2.0",
         "5.0",
         "2.0",
         "-2.0"
        ],
        [
         "1",
         "22200477",
         "1610612759",
         "SAS",
         "San Antonio",
         "1631110",
         "Jeremy Sochan",
         "Jeremy",
         "F",
         null,
         "31:01",
         "7.0",
         "14.0",
         "0.5",
         "2.0",
         "4.0",
         "0.5",
         "7.0",
         "10.0",
         "0.7",
         "6.0",
         "3.0",
         "9.0",
         "6.0",
         "1.0",
         "0.0",
         "2.0",
         "1.0",
         "23.0",
         "-14.0"
        ],
        [
         "2",
         "22200477",
         "1610612759",
         "SAS",
         "San Antonio",
         "1627751",
         "Jakob Poeltl",
         "Jakob",
         "C",
         null,
         "21:42",
         "6.0",
         "9.0",
         "0.667",
         "0.0",
         "0.0",
         "0.0",
         "1.0",
         "1.0",
         "1.0",
         "1.0",
         "3.0",
         "4.0",
         "1.0",
         "1.0",
         "0.0",
         "2.0",
         "4.0",
         "13.0",
         "-4.0"
        ],
        [
         "3",
         "22200477",
         "1610612759",
         "SAS",
         "San Antonio",
         "1630170",
         "Devin Vassell",
         "Devin",
         "G",
         null,
         "30:20",
         "4.0",
         "13.0",
         "0.308",
         "1.0",
         "6.0",
         "0.167",
         "1.0",
         "1.0",
         "1.0",
         "0.0",
         "9.0",
         "9.0",
         "5.0",
         "3.0",
         "0.0",
         "2.0",
         "1.0",
         "10.0",
         "-18.0"
        ],
        [
         "4",
         "22200477",
         "1610612759",
         "SAS",
         "San Antonio",
         "1630200",
         "Tre Jones",
         "Tre",
         "G",
         null,
         "27:44",
         "7.0",
         "12.0",
         "0.583",
         "1.0",
         "3.0",
         "0.333",
         "4.0",
         "4.0",
         "1.0",
         "0.0",
         "2.0",
         "2.0",
         "3.0",
         "0.0",
         "0.0",
         "2.0",
         "2.0",
         "19.0",
         "0.0"
        ],
        [
         "5",
         "22200477",
         "1610612759",
         "SAS",
         "San Antonio",
         "1628380",
         "Zach Collins",
         "Zach",
         null,
         null,
         "18:04",
         "2.0",
         "6.0",
         "0.333",
         "0.0",
         "0.0",
         "0.0",
         "2.0",
         "2.0",
         "1.0",
         "1.0",
         "1.0",
         "2.0",
         "2.0",
         "0.0",
         "0.0",
         "0.0",
         "3.0",
         "6.0",
         "-13.0"
        ],
        [
         "6",
         "22200477",
         "1610612759",
         "SAS",
         "San Antonio",
         "203926",
         "Doug McDermott",
         "Doug",
         null,
         null,
         "16:55",
         "2.0",
         "8.0",
         "0.25",
         "1.0",
         "5.0",
         "0.2",
         "0.0",
         "0.0",
         "0.0",
         "1.0",
         "3.0",
         "4.0",
         "1.0",
         "0.0",
         "0.0",
         "1.0",
         "0.0",
         "5.0",
         "-10.0"
        ],
        [
         "7",
         "22200477",
         "1610612759",
         "SAS",
         "San Antonio",
         "1626196",
         "Josh Richardson",
         "Josh",
         null,
         null,
         "21:20",
         "5.0",
         "11.0",
         "0.455",
         "2.0",
         "5.0",
         "0.4",
         "2.0",
         "3.0",
         "0.667",
         "1.0",
         "2.0",
         "3.0",
         "3.0",
         "0.0",
         "0.0",
         "1.0",
         "2.0",
         "14.0",
         "-2.0"
        ],
        [
         "8",
         "22200477",
         "1610612759",
         "SAS",
         "San Antonio",
         "1631103",
         "Malaki Branham",
         "Malaki",
         null,
         null,
         "21:10",
         "4.0",
         "6.0",
         "0.667",
         "1.0",
         "3.0",
         "0.333",
         "0.0",
         "0.0",
         "0.0",
         "0.0",
         "0.0",
         "0.0",
         "0.0",
         "0.0",
         "0.0",
         "1.0",
         "2.0",
         "9.0",
         "-6.0"
        ],
        [
         "9",
         "22200477",
         "1610612759",
         "SAS",
         "San Antonio",
         "1628966",
         "Keita Bates-Diop",
         "Keita",
         null,
         null,
         "9:16",
         "1.0",
         "3.0",
         "0.333",
         "0.0",
         "0.0",
         "0.0",
         "2.0",
         "2.0",
         "1.0",
         "1.0",
         "0.0",
         "1.0",
         "0.0",
         "0.0",
         "0.0",
         "0.0",
         "1.0",
         "4.0",
         "-1.0"
        ]
       ],
       "shape": {
        "columns": 29,
        "rows": 10
       }
      },
      "text/html": [
       "<div>\n",
       "<style scoped>\n",
       "    .dataframe tbody tr th:only-of-type {\n",
       "        vertical-align: middle;\n",
       "    }\n",
       "\n",
       "    .dataframe tbody tr th {\n",
       "        vertical-align: top;\n",
       "    }\n",
       "\n",
       "    .dataframe thead th {\n",
       "        text-align: right;\n",
       "    }\n",
       "</style>\n",
       "<table border=\"1\" class=\"dataframe\">\n",
       "  <thead>\n",
       "    <tr style=\"text-align: right;\">\n",
       "      <th></th>\n",
       "      <th>GAME_ID</th>\n",
       "      <th>TEAM_ID</th>\n",
       "      <th>TEAM_ABBREVIATION</th>\n",
       "      <th>TEAM_CITY</th>\n",
       "      <th>PLAYER_ID</th>\n",
       "      <th>PLAYER_NAME</th>\n",
       "      <th>NICKNAME</th>\n",
       "      <th>START_POSITION</th>\n",
       "      <th>COMMENT</th>\n",
       "      <th>MIN</th>\n",
       "      <th>...</th>\n",
       "      <th>OREB</th>\n",
       "      <th>DREB</th>\n",
       "      <th>REB</th>\n",
       "      <th>AST</th>\n",
       "      <th>STL</th>\n",
       "      <th>BLK</th>\n",
       "      <th>TO</th>\n",
       "      <th>PF</th>\n",
       "      <th>PTS</th>\n",
       "      <th>PLUS_MINUS</th>\n",
       "    </tr>\n",
       "  </thead>\n",
       "  <tbody>\n",
       "    <tr>\n",
       "      <th>0</th>\n",
       "      <td>22200477</td>\n",
       "      <td>1610612759</td>\n",
       "      <td>SAS</td>\n",
       "      <td>San Antonio</td>\n",
       "      <td>1629641</td>\n",
       "      <td>Romeo Langford</td>\n",
       "      <td>Romeo</td>\n",
       "      <td>F</td>\n",
       "      <td>NaN</td>\n",
       "      <td>18:06</td>\n",
       "      <td>...</td>\n",
       "      <td>1.0</td>\n",
       "      <td>1.0</td>\n",
       "      <td>2.0</td>\n",
       "      <td>0.0</td>\n",
       "      <td>1.0</td>\n",
       "      <td>0.0</td>\n",
       "      <td>2.0</td>\n",
       "      <td>5.0</td>\n",
       "      <td>2.0</td>\n",
       "      <td>-2.0</td>\n",
       "    </tr>\n",
       "    <tr>\n",
       "      <th>1</th>\n",
       "      <td>22200477</td>\n",
       "      <td>1610612759</td>\n",
       "      <td>SAS</td>\n",
       "      <td>San Antonio</td>\n",
       "      <td>1631110</td>\n",
       "      <td>Jeremy Sochan</td>\n",
       "      <td>Jeremy</td>\n",
       "      <td>F</td>\n",
       "      <td>NaN</td>\n",
       "      <td>31:01</td>\n",
       "      <td>...</td>\n",
       "      <td>6.0</td>\n",
       "      <td>3.0</td>\n",
       "      <td>9.0</td>\n",
       "      <td>6.0</td>\n",
       "      <td>1.0</td>\n",
       "      <td>0.0</td>\n",
       "      <td>2.0</td>\n",
       "      <td>1.0</td>\n",
       "      <td>23.0</td>\n",
       "      <td>-14.0</td>\n",
       "    </tr>\n",
       "    <tr>\n",
       "      <th>2</th>\n",
       "      <td>22200477</td>\n",
       "      <td>1610612759</td>\n",
       "      <td>SAS</td>\n",
       "      <td>San Antonio</td>\n",
       "      <td>1627751</td>\n",
       "      <td>Jakob Poeltl</td>\n",
       "      <td>Jakob</td>\n",
       "      <td>C</td>\n",
       "      <td>NaN</td>\n",
       "      <td>21:42</td>\n",
       "      <td>...</td>\n",
       "      <td>1.0</td>\n",
       "      <td>3.0</td>\n",
       "      <td>4.0</td>\n",
       "      <td>1.0</td>\n",
       "      <td>1.0</td>\n",
       "      <td>0.0</td>\n",
       "      <td>2.0</td>\n",
       "      <td>4.0</td>\n",
       "      <td>13.0</td>\n",
       "      <td>-4.0</td>\n",
       "    </tr>\n",
       "    <tr>\n",
       "      <th>3</th>\n",
       "      <td>22200477</td>\n",
       "      <td>1610612759</td>\n",
       "      <td>SAS</td>\n",
       "      <td>San Antonio</td>\n",
       "      <td>1630170</td>\n",
       "      <td>Devin Vassell</td>\n",
       "      <td>Devin</td>\n",
       "      <td>G</td>\n",
       "      <td>NaN</td>\n",
       "      <td>30:20</td>\n",
       "      <td>...</td>\n",
       "      <td>0.0</td>\n",
       "      <td>9.0</td>\n",
       "      <td>9.0</td>\n",
       "      <td>5.0</td>\n",
       "      <td>3.0</td>\n",
       "      <td>0.0</td>\n",
       "      <td>2.0</td>\n",
       "      <td>1.0</td>\n",
       "      <td>10.0</td>\n",
       "      <td>-18.0</td>\n",
       "    </tr>\n",
       "    <tr>\n",
       "      <th>4</th>\n",
       "      <td>22200477</td>\n",
       "      <td>1610612759</td>\n",
       "      <td>SAS</td>\n",
       "      <td>San Antonio</td>\n",
       "      <td>1630200</td>\n",
       "      <td>Tre Jones</td>\n",
       "      <td>Tre</td>\n",
       "      <td>G</td>\n",
       "      <td>NaN</td>\n",
       "      <td>27:44</td>\n",
       "      <td>...</td>\n",
       "      <td>0.0</td>\n",
       "      <td>2.0</td>\n",
       "      <td>2.0</td>\n",
       "      <td>3.0</td>\n",
       "      <td>0.0</td>\n",
       "      <td>0.0</td>\n",
       "      <td>2.0</td>\n",
       "      <td>2.0</td>\n",
       "      <td>19.0</td>\n",
       "      <td>0.0</td>\n",
       "    </tr>\n",
       "    <tr>\n",
       "      <th>5</th>\n",
       "      <td>22200477</td>\n",
       "      <td>1610612759</td>\n",
       "      <td>SAS</td>\n",
       "      <td>San Antonio</td>\n",
       "      <td>1628380</td>\n",
       "      <td>Zach Collins</td>\n",
       "      <td>Zach</td>\n",
       "      <td>NaN</td>\n",
       "      <td>NaN</td>\n",
       "      <td>18:04</td>\n",
       "      <td>...</td>\n",
       "      <td>1.0</td>\n",
       "      <td>1.0</td>\n",
       "      <td>2.0</td>\n",
       "      <td>2.0</td>\n",
       "      <td>0.0</td>\n",
       "      <td>0.0</td>\n",
       "      <td>0.0</td>\n",
       "      <td>3.0</td>\n",
       "      <td>6.0</td>\n",
       "      <td>-13.0</td>\n",
       "    </tr>\n",
       "    <tr>\n",
       "      <th>6</th>\n",
       "      <td>22200477</td>\n",
       "      <td>1610612759</td>\n",
       "      <td>SAS</td>\n",
       "      <td>San Antonio</td>\n",
       "      <td>203926</td>\n",
       "      <td>Doug McDermott</td>\n",
       "      <td>Doug</td>\n",
       "      <td>NaN</td>\n",
       "      <td>NaN</td>\n",
       "      <td>16:55</td>\n",
       "      <td>...</td>\n",
       "      <td>1.0</td>\n",
       "      <td>3.0</td>\n",
       "      <td>4.0</td>\n",
       "      <td>1.0</td>\n",
       "      <td>0.0</td>\n",
       "      <td>0.0</td>\n",
       "      <td>1.0</td>\n",
       "      <td>0.0</td>\n",
       "      <td>5.0</td>\n",
       "      <td>-10.0</td>\n",
       "    </tr>\n",
       "    <tr>\n",
       "      <th>7</th>\n",
       "      <td>22200477</td>\n",
       "      <td>1610612759</td>\n",
       "      <td>SAS</td>\n",
       "      <td>San Antonio</td>\n",
       "      <td>1626196</td>\n",
       "      <td>Josh Richardson</td>\n",
       "      <td>Josh</td>\n",
       "      <td>NaN</td>\n",
       "      <td>NaN</td>\n",
       "      <td>21:20</td>\n",
       "      <td>...</td>\n",
       "      <td>1.0</td>\n",
       "      <td>2.0</td>\n",
       "      <td>3.0</td>\n",
       "      <td>3.0</td>\n",
       "      <td>0.0</td>\n",
       "      <td>0.0</td>\n",
       "      <td>1.0</td>\n",
       "      <td>2.0</td>\n",
       "      <td>14.0</td>\n",
       "      <td>-2.0</td>\n",
       "    </tr>\n",
       "    <tr>\n",
       "      <th>8</th>\n",
       "      <td>22200477</td>\n",
       "      <td>1610612759</td>\n",
       "      <td>SAS</td>\n",
       "      <td>San Antonio</td>\n",
       "      <td>1631103</td>\n",
       "      <td>Malaki Branham</td>\n",
       "      <td>Malaki</td>\n",
       "      <td>NaN</td>\n",
       "      <td>NaN</td>\n",
       "      <td>21:10</td>\n",
       "      <td>...</td>\n",
       "      <td>0.0</td>\n",
       "      <td>0.0</td>\n",
       "      <td>0.0</td>\n",
       "      <td>0.0</td>\n",
       "      <td>0.0</td>\n",
       "      <td>0.0</td>\n",
       "      <td>1.0</td>\n",
       "      <td>2.0</td>\n",
       "      <td>9.0</td>\n",
       "      <td>-6.0</td>\n",
       "    </tr>\n",
       "    <tr>\n",
       "      <th>9</th>\n",
       "      <td>22200477</td>\n",
       "      <td>1610612759</td>\n",
       "      <td>SAS</td>\n",
       "      <td>San Antonio</td>\n",
       "      <td>1628966</td>\n",
       "      <td>Keita Bates-Diop</td>\n",
       "      <td>Keita</td>\n",
       "      <td>NaN</td>\n",
       "      <td>NaN</td>\n",
       "      <td>9:16</td>\n",
       "      <td>...</td>\n",
       "      <td>1.0</td>\n",
       "      <td>0.0</td>\n",
       "      <td>1.0</td>\n",
       "      <td>0.0</td>\n",
       "      <td>0.0</td>\n",
       "      <td>0.0</td>\n",
       "      <td>0.0</td>\n",
       "      <td>1.0</td>\n",
       "      <td>4.0</td>\n",
       "      <td>-1.0</td>\n",
       "    </tr>\n",
       "  </tbody>\n",
       "</table>\n",
       "<p>10 rows × 29 columns</p>\n",
       "</div>"
      ],
      "text/plain": [
       "    GAME_ID     TEAM_ID TEAM_ABBREVIATION    TEAM_CITY  PLAYER_ID  \\\n",
       "0  22200477  1610612759               SAS  San Antonio    1629641   \n",
       "1  22200477  1610612759               SAS  San Antonio    1631110   \n",
       "2  22200477  1610612759               SAS  San Antonio    1627751   \n",
       "3  22200477  1610612759               SAS  San Antonio    1630170   \n",
       "4  22200477  1610612759               SAS  San Antonio    1630200   \n",
       "5  22200477  1610612759               SAS  San Antonio    1628380   \n",
       "6  22200477  1610612759               SAS  San Antonio     203926   \n",
       "7  22200477  1610612759               SAS  San Antonio    1626196   \n",
       "8  22200477  1610612759               SAS  San Antonio    1631103   \n",
       "9  22200477  1610612759               SAS  San Antonio    1628966   \n",
       "\n",
       "        PLAYER_NAME NICKNAME START_POSITION COMMENT    MIN  ...  OREB  DREB  \\\n",
       "0    Romeo Langford    Romeo              F     NaN  18:06  ...   1.0   1.0   \n",
       "1     Jeremy Sochan   Jeremy              F     NaN  31:01  ...   6.0   3.0   \n",
       "2      Jakob Poeltl    Jakob              C     NaN  21:42  ...   1.0   3.0   \n",
       "3     Devin Vassell    Devin              G     NaN  30:20  ...   0.0   9.0   \n",
       "4         Tre Jones      Tre              G     NaN  27:44  ...   0.0   2.0   \n",
       "5      Zach Collins     Zach            NaN     NaN  18:04  ...   1.0   1.0   \n",
       "6    Doug McDermott     Doug            NaN     NaN  16:55  ...   1.0   3.0   \n",
       "7   Josh Richardson     Josh            NaN     NaN  21:20  ...   1.0   2.0   \n",
       "8    Malaki Branham   Malaki            NaN     NaN  21:10  ...   0.0   0.0   \n",
       "9  Keita Bates-Diop    Keita            NaN     NaN   9:16  ...   1.0   0.0   \n",
       "\n",
       "   REB  AST  STL  BLK   TO   PF   PTS  PLUS_MINUS  \n",
       "0  2.0  0.0  1.0  0.0  2.0  5.0   2.0        -2.0  \n",
       "1  9.0  6.0  1.0  0.0  2.0  1.0  23.0       -14.0  \n",
       "2  4.0  1.0  1.0  0.0  2.0  4.0  13.0        -4.0  \n",
       "3  9.0  5.0  3.0  0.0  2.0  1.0  10.0       -18.0  \n",
       "4  2.0  3.0  0.0  0.0  2.0  2.0  19.0         0.0  \n",
       "5  2.0  2.0  0.0  0.0  0.0  3.0   6.0       -13.0  \n",
       "6  4.0  1.0  0.0  0.0  1.0  0.0   5.0       -10.0  \n",
       "7  3.0  3.0  0.0  0.0  1.0  2.0  14.0        -2.0  \n",
       "8  0.0  0.0  0.0  0.0  1.0  2.0   9.0        -6.0  \n",
       "9  1.0  0.0  0.0  0.0  0.0  1.0   4.0        -1.0  \n",
       "\n",
       "[10 rows x 29 columns]"
      ]
     },
     "execution_count": 15,
     "metadata": {},
     "output_type": "execute_result"
    }
   ],
   "source": [
    "games_details.head(10)"
   ]
  },
  {
   "cell_type": "code",
   "execution_count": 16,
   "id": "eefc3c0a",
   "metadata": {},
   "outputs": [
    {
     "data": {
      "application/vnd.microsoft.datawrangler.viewer.v0+json": {
       "columns": [
        {
         "name": "GAME_ID",
         "rawType": "int64",
         "type": "integer"
        },
        {
         "name": "count",
         "rawType": "int64",
         "type": "integer"
        }
       ],
       "ref": "6b2b9939-8ea7-41ae-96e1-92590f5ff5c5",
       "rows": [
        [
         "22000070",
         "45"
        ],
        [
         "12200040",
         "42"
        ],
        [
         "11500085",
         "40"
        ],
        [
         "12000019",
         "40"
        ],
        [
         "12000047",
         "40"
        ],
        [
         "12000042",
         "40"
        ],
        [
         "11800009",
         "40"
        ],
        [
         "11700016",
         "40"
        ],
        [
         "11700013",
         "40"
        ],
        [
         "11700008",
         "40"
        ],
        [
         "11700034",
         "40"
        ],
        [
         "11700035",
         "40"
        ],
        [
         "11700023",
         "40"
        ],
        [
         "11800014",
         "40"
        ],
        [
         "12000032",
         "40"
        ],
        [
         "11400006",
         "40"
        ],
        [
         "11800047",
         "40"
        ],
        [
         "11800021",
         "40"
        ],
        [
         "11800023",
         "40"
        ],
        [
         "12200015",
         "40"
        ],
        [
         "11700068",
         "40"
        ],
        [
         "11800022",
         "40"
        ],
        [
         "11700064",
         "40"
        ],
        [
         "11700020",
         "40"
        ],
        [
         "11700018",
         "40"
        ],
        [
         "11700017",
         "40"
        ],
        [
         "11800052",
         "40"
        ],
        [
         "11800040",
         "40"
        ],
        [
         "11800017",
         "40"
        ],
        [
         "11800019",
         "40"
        ],
        [
         "11800028",
         "40"
        ],
        [
         "11700009",
         "40"
        ],
        [
         "11800066",
         "40"
        ],
        [
         "11800062",
         "40"
        ],
        [
         "12000020",
         "40"
        ],
        [
         "12000021",
         "40"
        ],
        [
         "12200003",
         "40"
        ],
        [
         "12200019",
         "40"
        ],
        [
         "12200020",
         "40"
        ],
        [
         "12200021",
         "40"
        ],
        [
         "12000016",
         "40"
        ],
        [
         "12000006",
         "40"
        ],
        [
         "11800076",
         "40"
        ],
        [
         "11700052",
         "40"
        ],
        [
         "11700048",
         "40"
        ],
        [
         "11700067",
         "40"
        ],
        [
         "12200043",
         "40"
        ],
        [
         "12200044",
         "40"
        ],
        [
         "12200045",
         "40"
        ],
        [
         "22000071",
         "40"
        ]
       ],
       "shape": {
        "columns": 1,
        "rows": 26523
       }
      },
      "text/plain": [
       "GAME_ID\n",
       "22000070    45\n",
       "12200040    42\n",
       "11500085    40\n",
       "12000019    40\n",
       "12000047    40\n",
       "            ..\n",
       "10400117    18\n",
       "10900107    18\n",
       "10600102    18\n",
       "10800105    18\n",
       "10800092    18\n",
       "Name: count, Length: 26523, dtype: int64"
      ]
     },
     "execution_count": 16,
     "metadata": {},
     "output_type": "execute_result"
    }
   ],
   "source": [
    "games_details['GAME_ID'].value_counts()"
   ]
  },
  {
   "cell_type": "code",
   "execution_count": 17,
   "id": "c78ed93c",
   "metadata": {},
   "outputs": [
    {
     "data": {
      "application/vnd.microsoft.datawrangler.viewer.v0+json": {
       "columns": [
        {
         "name": "TEAM_ABBREVIATION",
         "rawType": "object",
         "type": "string"
        },
        {
         "name": "count",
         "rawType": "int64",
         "type": "integer"
        }
       ],
       "ref": "86f3365d-583b-488d-b6c4-f8767df79365",
       "rows": [
        [
         "MIA",
         "24016"
        ],
        [
         "BOS",
         "23797"
        ],
        [
         "SAS",
         "23589"
        ],
        [
         "LAL",
         "23259"
        ],
        [
         "DAL",
         "23099"
        ],
        [
         "GSW",
         "22691"
        ],
        [
         "CLE",
         "22580"
        ],
        [
         "DEN",
         "22531"
        ],
        [
         "IND",
         "22498"
        ],
        [
         "UTA",
         "22456"
        ],
        [
         "DET",
         "22432"
        ],
        [
         "ATL",
         "22432"
        ],
        [
         "MIL",
         "22431"
        ],
        [
         "TOR",
         "22312"
        ],
        [
         "HOU",
         "22233"
        ],
        [
         "LAC",
         "22224"
        ],
        [
         "PHX",
         "22223"
        ],
        [
         "MEM",
         "22196"
        ],
        [
         "POR",
         "21975"
        ],
        [
         "WAS",
         "21884"
        ],
        [
         "PHI",
         "21859"
        ],
        [
         "CHI",
         "21846"
        ],
        [
         "ORL",
         "21830"
        ],
        [
         "SAC",
         "21331"
        ],
        [
         "MIN",
         "21324"
        ],
        [
         "NYK",
         "21208"
        ],
        [
         "CHA",
         "20366"
        ],
        [
         "OKC",
         "17009"
        ],
        [
         "BKN",
         "12149"
        ],
        [
         "NOP",
         "10963"
        ],
        [
         "NJN",
         "9765"
        ],
        [
         "NOH",
         "8669"
        ],
        [
         "SEA",
         "5314"
        ],
        [
         "NOK",
         "2137"
        ]
       ],
       "shape": {
        "columns": 1,
        "rows": 34
       }
      },
      "text/plain": [
       "TEAM_ABBREVIATION\n",
       "MIA    24016\n",
       "BOS    23797\n",
       "SAS    23589\n",
       "LAL    23259\n",
       "DAL    23099\n",
       "GSW    22691\n",
       "CLE    22580\n",
       "DEN    22531\n",
       "IND    22498\n",
       "UTA    22456\n",
       "DET    22432\n",
       "ATL    22432\n",
       "MIL    22431\n",
       "TOR    22312\n",
       "HOU    22233\n",
       "LAC    22224\n",
       "PHX    22223\n",
       "MEM    22196\n",
       "POR    21975\n",
       "WAS    21884\n",
       "PHI    21859\n",
       "CHI    21846\n",
       "ORL    21830\n",
       "SAC    21331\n",
       "MIN    21324\n",
       "NYK    21208\n",
       "CHA    20366\n",
       "OKC    17009\n",
       "BKN    12149\n",
       "NOP    10963\n",
       "NJN     9765\n",
       "NOH     8669\n",
       "SEA     5314\n",
       "NOK     2137\n",
       "Name: count, dtype: int64"
      ]
     },
     "execution_count": 17,
     "metadata": {},
     "output_type": "execute_result"
    }
   ],
   "source": [
    "games_details['TEAM_ABBREVIATION'].value_counts()"
   ]
  },
  {
   "cell_type": "code",
   "execution_count": 20,
   "id": "69005824",
   "metadata": {},
   "outputs": [
    {
     "data": {
      "application/vnd.microsoft.datawrangler.viewer.v0+json": {
       "columns": [
        {
         "name": "index",
         "rawType": "int64",
         "type": "integer"
        },
        {
         "name": "TEAM_CITY",
         "rawType": "object",
         "type": "string"
        },
        {
         "name": "TEAM_ABBREVIATION",
         "rawType": "object",
         "type": "string"
        }
       ],
       "ref": "9d875324-2499-49ae-aea0-2454180b06da",
       "rows": [
        [
         "113",
         "Atlanta",
         "ATL"
        ],
        [
         "140",
         "Boston",
         "BOS"
        ],
        [
         "164",
         "Brooklyn",
         "BKN"
        ],
        [
         "302",
         "Charlotte",
         "CHA"
        ],
        [
         "102",
         "Chicago",
         "CHI"
        ],
        [
         "66",
         "Cleveland",
         "CLE"
        ],
        [
         "227",
         "Dallas",
         "DAL"
        ],
        [
         "435",
         "Denver",
         "DEN"
        ],
        [
         "77",
         "Detroit",
         "DET"
        ],
        [
         "153",
         "Golden State",
         "GSW"
        ],
        [
         "215",
         "Houston",
         "HOU"
        ],
        [
         "127",
         "Indiana",
         "IND"
        ],
        [
         "313",
         "LA",
         "LAC"
        ],
        [
         "109043",
         "Los Angeles",
         "LAC"
        ],
        [
         "275",
         "Los Angeles",
         "LAL"
        ],
        [
         "422",
         "Memphis",
         "MEM"
        ],
        [
         "364",
         "Miami",
         "MIA"
        ],
        [
         "52",
         "Milwaukee",
         "MIL"
        ],
        [
         "238",
         "Minnesota",
         "MIN"
        ],
        [
         "108935",
         "New Jersey",
         "NJN"
        ],
        [
         "108023",
         "New Orleans",
         "NOH"
        ],
        [
         "206826",
         "New Orleans",
         "NOK"
        ],
        [
         "14",
         "New Orleans",
         "NOP"
        ],
        [
         "176872",
         "New Orleans/Oklahoma City",
         "NOK"
        ],
        [
         "189",
         "New York",
         "NYK"
        ],
        [
         "263",
         "Oklahoma City",
         "OKC"
        ],
        [
         "203",
         "Orlando",
         "ORL"
        ],
        [
         "90",
         "Philadelphia",
         "PHI"
        ],
        [
         "411",
         "Phoenix",
         "PHX"
        ],
        [
         "251",
         "Portland",
         "POR"
        ],
        [
         "287",
         "Sacramento",
         "SAC"
        ],
        [
         "0",
         "San Antonio",
         "SAS"
        ],
        [
         "143414",
         "Seattle",
         "SEA"
        ],
        [
         "177",
         "Toronto",
         "TOR"
        ],
        [
         "37",
         "Utah",
         "UTA"
        ],
        [
         "25",
         "Washington",
         "WAS"
        ]
       ],
       "shape": {
        "columns": 2,
        "rows": 36
       }
      },
      "text/html": [
       "<div>\n",
       "<style scoped>\n",
       "    .dataframe tbody tr th:only-of-type {\n",
       "        vertical-align: middle;\n",
       "    }\n",
       "\n",
       "    .dataframe tbody tr th {\n",
       "        vertical-align: top;\n",
       "    }\n",
       "\n",
       "    .dataframe thead th {\n",
       "        text-align: right;\n",
       "    }\n",
       "</style>\n",
       "<table border=\"1\" class=\"dataframe\">\n",
       "  <thead>\n",
       "    <tr style=\"text-align: right;\">\n",
       "      <th></th>\n",
       "      <th>TEAM_CITY</th>\n",
       "      <th>TEAM_ABBREVIATION</th>\n",
       "    </tr>\n",
       "  </thead>\n",
       "  <tbody>\n",
       "    <tr>\n",
       "      <th>113</th>\n",
       "      <td>Atlanta</td>\n",
       "      <td>ATL</td>\n",
       "    </tr>\n",
       "    <tr>\n",
       "      <th>140</th>\n",
       "      <td>Boston</td>\n",
       "      <td>BOS</td>\n",
       "    </tr>\n",
       "    <tr>\n",
       "      <th>164</th>\n",
       "      <td>Brooklyn</td>\n",
       "      <td>BKN</td>\n",
       "    </tr>\n",
       "    <tr>\n",
       "      <th>302</th>\n",
       "      <td>Charlotte</td>\n",
       "      <td>CHA</td>\n",
       "    </tr>\n",
       "    <tr>\n",
       "      <th>102</th>\n",
       "      <td>Chicago</td>\n",
       "      <td>CHI</td>\n",
       "    </tr>\n",
       "    <tr>\n",
       "      <th>66</th>\n",
       "      <td>Cleveland</td>\n",
       "      <td>CLE</td>\n",
       "    </tr>\n",
       "    <tr>\n",
       "      <th>227</th>\n",
       "      <td>Dallas</td>\n",
       "      <td>DAL</td>\n",
       "    </tr>\n",
       "    <tr>\n",
       "      <th>435</th>\n",
       "      <td>Denver</td>\n",
       "      <td>DEN</td>\n",
       "    </tr>\n",
       "    <tr>\n",
       "      <th>77</th>\n",
       "      <td>Detroit</td>\n",
       "      <td>DET</td>\n",
       "    </tr>\n",
       "    <tr>\n",
       "      <th>153</th>\n",
       "      <td>Golden State</td>\n",
       "      <td>GSW</td>\n",
       "    </tr>\n",
       "    <tr>\n",
       "      <th>215</th>\n",
       "      <td>Houston</td>\n",
       "      <td>HOU</td>\n",
       "    </tr>\n",
       "    <tr>\n",
       "      <th>127</th>\n",
       "      <td>Indiana</td>\n",
       "      <td>IND</td>\n",
       "    </tr>\n",
       "    <tr>\n",
       "      <th>313</th>\n",
       "      <td>LA</td>\n",
       "      <td>LAC</td>\n",
       "    </tr>\n",
       "    <tr>\n",
       "      <th>109043</th>\n",
       "      <td>Los Angeles</td>\n",
       "      <td>LAC</td>\n",
       "    </tr>\n",
       "    <tr>\n",
       "      <th>275</th>\n",
       "      <td>Los Angeles</td>\n",
       "      <td>LAL</td>\n",
       "    </tr>\n",
       "    <tr>\n",
       "      <th>422</th>\n",
       "      <td>Memphis</td>\n",
       "      <td>MEM</td>\n",
       "    </tr>\n",
       "    <tr>\n",
       "      <th>364</th>\n",
       "      <td>Miami</td>\n",
       "      <td>MIA</td>\n",
       "    </tr>\n",
       "    <tr>\n",
       "      <th>52</th>\n",
       "      <td>Milwaukee</td>\n",
       "      <td>MIL</td>\n",
       "    </tr>\n",
       "    <tr>\n",
       "      <th>238</th>\n",
       "      <td>Minnesota</td>\n",
       "      <td>MIN</td>\n",
       "    </tr>\n",
       "    <tr>\n",
       "      <th>108935</th>\n",
       "      <td>New Jersey</td>\n",
       "      <td>NJN</td>\n",
       "    </tr>\n",
       "    <tr>\n",
       "      <th>108023</th>\n",
       "      <td>New Orleans</td>\n",
       "      <td>NOH</td>\n",
       "    </tr>\n",
       "    <tr>\n",
       "      <th>206826</th>\n",
       "      <td>New Orleans</td>\n",
       "      <td>NOK</td>\n",
       "    </tr>\n",
       "    <tr>\n",
       "      <th>14</th>\n",
       "      <td>New Orleans</td>\n",
       "      <td>NOP</td>\n",
       "    </tr>\n",
       "    <tr>\n",
       "      <th>176872</th>\n",
       "      <td>New Orleans/Oklahoma City</td>\n",
       "      <td>NOK</td>\n",
       "    </tr>\n",
       "    <tr>\n",
       "      <th>189</th>\n",
       "      <td>New York</td>\n",
       "      <td>NYK</td>\n",
       "    </tr>\n",
       "    <tr>\n",
       "      <th>263</th>\n",
       "      <td>Oklahoma City</td>\n",
       "      <td>OKC</td>\n",
       "    </tr>\n",
       "    <tr>\n",
       "      <th>203</th>\n",
       "      <td>Orlando</td>\n",
       "      <td>ORL</td>\n",
       "    </tr>\n",
       "    <tr>\n",
       "      <th>90</th>\n",
       "      <td>Philadelphia</td>\n",
       "      <td>PHI</td>\n",
       "    </tr>\n",
       "    <tr>\n",
       "      <th>411</th>\n",
       "      <td>Phoenix</td>\n",
       "      <td>PHX</td>\n",
       "    </tr>\n",
       "    <tr>\n",
       "      <th>251</th>\n",
       "      <td>Portland</td>\n",
       "      <td>POR</td>\n",
       "    </tr>\n",
       "    <tr>\n",
       "      <th>287</th>\n",
       "      <td>Sacramento</td>\n",
       "      <td>SAC</td>\n",
       "    </tr>\n",
       "    <tr>\n",
       "      <th>0</th>\n",
       "      <td>San Antonio</td>\n",
       "      <td>SAS</td>\n",
       "    </tr>\n",
       "    <tr>\n",
       "      <th>143414</th>\n",
       "      <td>Seattle</td>\n",
       "      <td>SEA</td>\n",
       "    </tr>\n",
       "    <tr>\n",
       "      <th>177</th>\n",
       "      <td>Toronto</td>\n",
       "      <td>TOR</td>\n",
       "    </tr>\n",
       "    <tr>\n",
       "      <th>37</th>\n",
       "      <td>Utah</td>\n",
       "      <td>UTA</td>\n",
       "    </tr>\n",
       "    <tr>\n",
       "      <th>25</th>\n",
       "      <td>Washington</td>\n",
       "      <td>WAS</td>\n",
       "    </tr>\n",
       "  </tbody>\n",
       "</table>\n",
       "</div>"
      ],
      "text/plain": [
       "                        TEAM_CITY TEAM_ABBREVIATION\n",
       "113                       Atlanta               ATL\n",
       "140                        Boston               BOS\n",
       "164                      Brooklyn               BKN\n",
       "302                     Charlotte               CHA\n",
       "102                       Chicago               CHI\n",
       "66                      Cleveland               CLE\n",
       "227                        Dallas               DAL\n",
       "435                        Denver               DEN\n",
       "77                        Detroit               DET\n",
       "153                  Golden State               GSW\n",
       "215                       Houston               HOU\n",
       "127                       Indiana               IND\n",
       "313                            LA               LAC\n",
       "109043                Los Angeles               LAC\n",
       "275                   Los Angeles               LAL\n",
       "422                       Memphis               MEM\n",
       "364                         Miami               MIA\n",
       "52                      Milwaukee               MIL\n",
       "238                     Minnesota               MIN\n",
       "108935                 New Jersey               NJN\n",
       "108023                New Orleans               NOH\n",
       "206826                New Orleans               NOK\n",
       "14                    New Orleans               NOP\n",
       "176872  New Orleans/Oklahoma City               NOK\n",
       "189                      New York               NYK\n",
       "263                 Oklahoma City               OKC\n",
       "203                       Orlando               ORL\n",
       "90                   Philadelphia               PHI\n",
       "411                       Phoenix               PHX\n",
       "251                      Portland               POR\n",
       "287                    Sacramento               SAC\n",
       "0                     San Antonio               SAS\n",
       "143414                    Seattle               SEA\n",
       "177                       Toronto               TOR\n",
       "37                           Utah               UTA\n",
       "25                     Washington               WAS"
      ]
     },
     "execution_count": 20,
     "metadata": {},
     "output_type": "execute_result"
    }
   ],
   "source": [
    "games_details[['TEAM_CITY', 'TEAM_ABBREVIATION']].drop_duplicates().sort_values('TEAM_CITY')"
   ]
  },
  {
   "cell_type": "raw",
   "id": "6f978d21",
   "metadata": {
    "vscode": {
     "languageId": "raw"
    }
   },
   "source": [
    "# 지역의 지원이 하나의 요인이 될 수 있다. -> 팀의 지역이 겹치는 것은 LAC와 LAL 뿐\n",
    "# TEAM_CITY, TEAM_ABBREVIATION은 같은 팀을 가리키는데 바뀌기도 하고 다르기도 함 (New Orleans라던가)\n",
    "# TEAM_CITY와 TEAM_ABBREVAIATION은 삭제하고 TEAM_ID, GAME_ID로 구분할 것\n",
    "# ranking에서 날짜별 TEAM_ID와 TEAM명이 살아있음\n",
    "# games에서 날짜별 GAME_ID가 살아있음"
   ]
  },
  {
   "cell_type": "code",
   "execution_count": null,
   "id": "0689dfb5",
   "metadata": {},
   "outputs": [
    {
     "data": {
      "application/vnd.microsoft.datawrangler.viewer.v0+json": {
       "columns": [
        {
         "name": "COMMENT",
         "rawType": "object",
         "type": "string"
        },
        {
         "name": "count",
         "rawType": "int64",
         "type": "integer"
        }
       ],
       "ref": "1c1f1a76-e46a-4d78-bf24-fb5bb3d33850",
       "rows": [
        [
         "DNP - Coach's Decision",
         "58054"
        ],
        [
         "DNP - Coach's Decision                  ",
         "30547"
        ],
        [
         "DND - Injury/Illness                    ",
         "1267"
        ],
        [
         "DNP - Injury/Illness",
         "1161"
        ],
        [
         "DNP - Injury/Illness                    ",
         "1151"
        ],
        [
         "DND - Injury/Illness",
         "912"
        ],
        [
         "DND - Sprained Left Ankle",
         "257"
        ],
        [
         "NWT - Injury/Illness                    ",
         "252"
        ],
        [
         "DND - Rest                              ",
         "240"
        ],
        [
         "DND - Sprained Right Ankle",
         "185"
        ],
        [
         "NWT - Personal Reasons",
         "164"
        ],
        [
         "NWT - Not With Team",
         "133"
        ],
        [
         "DND - Left Ankle Sprain",
         "127"
        ],
        [
         "NWT - NBA Suspension",
         "123"
        ],
        [
         "DND - Back Spasms",
         "123"
        ],
        [
         "NWT_NOT_WITH_TEAM                       ",
         "115"
        ],
        [
         "DND - Sore Left Knee",
         "114"
        ],
        [
         "NWT - Personal                          ",
         "113"
        ],
        [
         "DND - Sore Right Knee",
         "104"
        ],
        [
         "DND - Sore Lower Back",
         "92"
        ],
        [
         "DNP - Rest",
         "87"
        ],
        [
         "DND - Coach's Decision",
         "85"
        ],
        [
         "NWT - League Suspension",
         "85"
        ],
        [
         "NWT - Rest                              ",
         "84"
        ],
        [
         "DND - Right Ankle Sprain",
         "82"
        ],
        [
         "DND - Rest",
         "79"
        ],
        [
         "NWT - Flu",
         "73"
        ],
        [
         "NWT - Illness                           ",
         "72"
        ],
        [
         "NWT - Health and Safety Protocols",
         "71"
        ],
        [
         "NWT - Personal",
         "68"
        ],
        [
         "NWT - Injury/Illness",
         "67"
        ],
        [
         "DND - Sprained Left Ankle               ",
         "64"
        ],
        [
         "DND - Strained Right Hamstring",
         "64"
        ],
        [
         "NWT - Personal Reasons                  ",
         "60"
        ],
        [
         "DNP - Rest                              ",
         "59"
        ],
        [
         "DND - Strained Right Groin",
         "56"
        ],
        [
         "NWT - Sprained Left Ankle",
         "55"
        ],
        [
         "DND - Sore Left Foot",
         "53"
        ],
        [
         "NWT",
         "53"
        ],
        [
         "NWT - Suspended                         ",
         "53"
        ],
        [
         "DND - Flu",
         "51"
        ],
        [
         "NWT - Illness",
         "50"
        ],
        [
         "DND - Left Ankle Sprain                 ",
         "48"
        ],
        [
         "DND - Left Knee Surgery",
         "47"
        ],
        [
         "DND - Strained Left Hamstring",
         "46"
        ],
        [
         "DND - Concussion",
         "45"
        ],
        [
         "DND - Sprained Right Knee",
         "45"
        ],
        [
         "DND - Sprained left ankle",
         "45"
        ],
        [
         "NWT - Suspension",
         "44"
        ],
        [
         "DND - Sore Left Ankle",
         "43"
        ]
       ],
       "shape": {
        "columns": 1,
        "rows": 5348
       }
      },
      "text/plain": [
       "COMMENT\n",
       "DNP - Coach's Decision                      58054\n",
       "DNP - Coach's Decision                      30547\n",
       "DND - Injury/Illness                         1267\n",
       "DNP - Injury/Illness                         1161\n",
       "DNP - Injury/Illness                         1151\n",
       "                                            ...  \n",
       "DND - MILD AC JOINT SPRAIN RT. SHOULDER         1\n",
       "NWT - Flu like Symptoms                         1\n",
       "DND - Left Hip                                  1\n",
       "NWT - Lateral Meniscus Tear Left Knee           1\n",
       "NWT - Left Mid-foot Sprain                      1\n",
       "Name: count, Length: 5348, dtype: int64"
      ]
     },
     "execution_count": 23,
     "metadata": {},
     "output_type": "execute_result"
    }
   ],
   "source": [
    "games_details['COMMENT'].value_counts()"
   ]
  },
  {
   "cell_type": "raw",
   "id": "a41d6dc4",
   "metadata": {
    "vscode": {
     "languageId": "raw"
    }
   },
   "source": [
    "# 과제: 앞에만 따로 분리해서 사용할지, 버릴지, 대강 끝나고 선수에 대한 이유를 붙일 때 필요할지"
   ]
  },
  {
   "cell_type": "code",
   "execution_count": 27,
   "id": "fd27b1f8",
   "metadata": {},
   "outputs": [
    {
     "data": {
      "application/vnd.microsoft.datawrangler.viewer.v0+json": {
       "columns": [
        {
         "name": "index",
         "rawType": "int64",
         "type": "integer"
        },
        {
         "name": "GAME_ID",
         "rawType": "int64",
         "type": "integer"
        },
        {
         "name": "TEAM_ID",
         "rawType": "int64",
         "type": "integer"
        },
        {
         "name": "TEAM_ABBREVIATION",
         "rawType": "object",
         "type": "string"
        },
        {
         "name": "TEAM_CITY",
         "rawType": "object",
         "type": "string"
        },
        {
         "name": "PLAYER_ID",
         "rawType": "int64",
         "type": "integer"
        },
        {
         "name": "PLAYER_NAME",
         "rawType": "object",
         "type": "string"
        },
        {
         "name": "NICKNAME",
         "rawType": "object",
         "type": "string"
        },
        {
         "name": "START_POSITION",
         "rawType": "object",
         "type": "unknown"
        },
        {
         "name": "COMMENT",
         "rawType": "object",
         "type": "unknown"
        },
        {
         "name": "MIN",
         "rawType": "object",
         "type": "unknown"
        },
        {
         "name": "FGM",
         "rawType": "float64",
         "type": "float"
        },
        {
         "name": "FGA",
         "rawType": "float64",
         "type": "float"
        },
        {
         "name": "FG_PCT",
         "rawType": "float64",
         "type": "float"
        },
        {
         "name": "FG3M",
         "rawType": "float64",
         "type": "float"
        },
        {
         "name": "FG3A",
         "rawType": "float64",
         "type": "float"
        },
        {
         "name": "FG3_PCT",
         "rawType": "float64",
         "type": "float"
        },
        {
         "name": "FTM",
         "rawType": "float64",
         "type": "float"
        },
        {
         "name": "FTA",
         "rawType": "float64",
         "type": "float"
        },
        {
         "name": "FT_PCT",
         "rawType": "float64",
         "type": "float"
        },
        {
         "name": "OREB",
         "rawType": "float64",
         "type": "float"
        },
        {
         "name": "DREB",
         "rawType": "float64",
         "type": "float"
        },
        {
         "name": "REB",
         "rawType": "float64",
         "type": "float"
        },
        {
         "name": "AST",
         "rawType": "float64",
         "type": "float"
        },
        {
         "name": "STL",
         "rawType": "float64",
         "type": "float"
        },
        {
         "name": "BLK",
         "rawType": "float64",
         "type": "float"
        },
        {
         "name": "TO",
         "rawType": "float64",
         "type": "float"
        },
        {
         "name": "PF",
         "rawType": "float64",
         "type": "float"
        },
        {
         "name": "PTS",
         "rawType": "float64",
         "type": "float"
        },
        {
         "name": "PLUS_MINUS",
         "rawType": "float64",
         "type": "float"
        }
       ],
       "ref": "1bc0008a-dec3-4f66-abef-310e779ddd1b",
       "rows": [
        [
         "25168",
         "22100916",
         "1610612746",
         "LAC",
         "LA",
         "201587",
         "Nicolas Batum",
         "Nicolas",
         "F",
         null,
         "20:51",
         "2.0",
         "6.0",
         "0.333",
         "1.0",
         "3.0",
         "0.333",
         "0.0",
         "0.0",
         "0.0",
         "0.0",
         "5.0",
         "5.0",
         "1.0",
         "1.0",
         "1.0",
         "0.0",
         "0.0",
         "5.0",
         "-1.0"
        ],
        [
         "25169",
         "22100916",
         "1610612746",
         "LAC",
         "LA",
         "202694",
         "Marcus Morris Sr.",
         "Marcus",
         "F",
         null,
         "31:56",
         "3.0",
         "11.0",
         "0.273",
         "2.0",
         "5.0",
         "0.4",
         "5.0",
         "5.0",
         "1.0",
         "0.0",
         "3.0",
         "3.0",
         "1.0",
         "0.0",
         "0.0",
         "3.0",
         "3.0",
         "13.0",
         "-1.0"
        ],
        [
         "25170",
         "22100916",
         "1610612746",
         "LAC",
         "LA",
         "1627826",
         "Ivica Zubac",
         "Ivica",
         "C",
         null,
         "33:57",
         "5.0",
         "5.0",
         "1.0",
         "0.0",
         "0.0",
         "0.0",
         "4.0",
         "6.0",
         "0.667",
         "4.0",
         "11.0",
         "15.0",
         "3.0",
         "1.0",
         "6.0",
         "4.0",
         "3.0",
         "14.0",
         "16.0"
        ],
        [
         "25171",
         "22100916",
         "1610612746",
         "LAC",
         "LA",
         "1629611",
         "Terance Mann",
         "Terance",
         "G",
         null,
         "27:25",
         "3.0",
         "5.0",
         "0.6",
         "1.0",
         "2.0",
         "0.5",
         "2.0",
         "2.0",
         "1.0",
         "0.0",
         "8.0",
         "8.0",
         "2.0",
         "2.0",
         "1.0",
         "1.0",
         "5.0",
         "9.0",
         "7.0"
        ],
        [
         "25172",
         "22100916",
         "1610612746",
         "LAC",
         "LA",
         "202704",
         "Reggie Jackson",
         "Reggie",
         "G",
         null,
         "38:04",
         "9.0",
         "21.0",
         "0.429",
         "2.0",
         "6.0",
         "0.333",
         "6.0",
         "9.0",
         "0.667",
         "0.0",
         "9.0",
         "9.0",
         "6.0",
         "0.0",
         "0.0",
         "5.0",
         "4.0",
         "26.0",
         "9.0"
        ],
        [
         "25173",
         "22100916",
         "1610612746",
         "LAC",
         "LA",
         "1630527",
         "Brandon Boston Jr.",
         "Brandon",
         null,
         null,
         "4:24",
         "0.0",
         "2.0",
         "0.0",
         "0.0",
         "1.0",
         "0.0",
         "0.0",
         "0.0",
         "0.0",
         "1.0",
         "0.0",
         "1.0",
         "0.0",
         "0.0",
         "0.0",
         "0.0",
         "0.0",
         "0.0",
         "-10.0"
        ],
        [
         "25174",
         "22100916",
         "1610612746",
         "LAC",
         "LA",
         "1628379",
         "Luke Kennard",
         "Luke",
         null,
         null,
         "23:24",
         "1.0",
         "7.0",
         "0.143",
         "1.0",
         "7.0",
         "0.143",
         "0.0",
         "1.0",
         "0.0",
         "0.0",
         "3.0",
         "3.0",
         "1.0",
         "0.0",
         "0.0",
         "0.0",
         "0.0",
         "3.0",
         "-10.0"
        ],
        [
         "25175",
         "22100916",
         "1610612746",
         "LAC",
         "LA",
         "1628392",
         "Isaiah Hartenstein",
         "Isaiah",
         null,
         null,
         "10:23",
         "6.0",
         "7.0",
         "0.857",
         "0.0",
         "0.0",
         "0.0",
         "0.0",
         "1.0",
         "0.0",
         "2.0",
         "2.0",
         "4.0",
         "0.0",
         "0.0",
         "2.0",
         "3.0",
         "4.0",
         "12.0",
         "-11.0"
        ],
        [
         "25176",
         "22100916",
         "1610612746",
         "LAC",
         "LA",
         "203496",
         "Robert Covington",
         "Robert",
         null,
         null,
         "24:34",
         "2.0",
         "7.0",
         "0.286",
         "2.0",
         "6.0",
         "0.333",
         "2.0",
         "2.0",
         "1.0",
         "2.0",
         "6.0",
         "8.0",
         "1.0",
         "0.0",
         "2.0",
         "0.0",
         "0.0",
         "8.0",
         "8.0"
        ],
        [
         "25177",
         "22100916",
         "1610612746",
         "LAC",
         "LA",
         "1629599",
         "Amir Coffey",
         "Amir",
         null,
         null,
         "25:02",
         "3.0",
         "6.0",
         "0.5",
         "2.0",
         "4.0",
         "0.5",
         "1.0",
         "2.0",
         "0.5",
         "1.0",
         "2.0",
         "3.0",
         "3.0",
         "0.0",
         "0.0",
         "2.0",
         "3.0",
         "9.0",
         "-2.0"
        ],
        [
         "25178",
         "22100916",
         "1610612746",
         "LAC",
         "LA",
         "203918",
         "Rodney Hood",
         "Rodney",
         null,
         "DNP - Coach's Decision",
         null,
         null,
         null,
         null,
         null,
         null,
         null,
         null,
         null,
         null,
         null,
         null,
         null,
         null,
         null,
         null,
         null,
         null,
         null,
         null
        ],
        [
         "25179",
         "22100916",
         "1610612746",
         "LAC",
         "LA",
         "1628400",
         "Semi Ojeleye",
         "Semi",
         null,
         "DNP - Coach's Decision",
         null,
         null,
         null,
         null,
         null,
         null,
         null,
         null,
         null,
         null,
         null,
         null,
         null,
         null,
         null,
         null,
         null,
         null,
         null,
         null
        ],
        [
         "25180",
         "22100916",
         "1610612745",
         "HOU",
         "Houston",
         "201569",
         "Eric Gordon",
         "Eric",
         "F",
         null,
         "30:48",
         "2.0",
         "9.0",
         "0.222",
         "2.0",
         "6.0",
         "0.333",
         "0.0",
         "0.0",
         "0.0",
         "1.0",
         "3.0",
         "4.0",
         "2.0",
         "0.0",
         "0.0",
         "1.0",
         "2.0",
         "6.0",
         "-12.0"
        ],
        [
         "25181",
         "22100916",
         "1610612745",
         "HOU",
         "Houston",
         "1630256",
         "Jae'Sean Tate",
         "Jae'Sean",
         "F",
         null,
         "31:43",
         "6.0",
         "11.0",
         "0.545",
         "2.0",
         "4.0",
         "0.5",
         "0.0",
         "0.0",
         "0.0",
         "0.0",
         "6.0",
         "6.0",
         "4.0",
         "4.0",
         "0.0",
         "0.0",
         "3.0",
         "14.0",
         "-10.0"
        ],
        [
         "25182",
         "22100916",
         "1610612745",
         "HOU",
         "Houston",
         "1626174",
         "Christian Wood",
         "Christian",
         "C",
         null,
         "31:35",
         "6.0",
         "12.0",
         "0.5",
         "1.0",
         "2.0",
         "0.5",
         "2.0",
         "4.0",
         "0.5",
         "2.0",
         "5.0",
         "7.0",
         "1.0",
         "0.0",
         "0.0",
         "0.0",
         "5.0",
         "15.0",
         "4.0"
        ],
        [
         "25183",
         "22100916",
         "1610612745",
         "HOU",
         "Houston",
         "1630224",
         "Jalen Green",
         "Jalen",
         "G",
         null,
         "37:51",
         "4.0",
         "18.0",
         "0.222",
         "2.0",
         "10.0",
         "0.2",
         "0.0",
         "0.0",
         "0.0",
         "1.0",
         "2.0",
         "3.0",
         "3.0",
         "2.0",
         "0.0",
         "0.0",
         "1.0",
         "10.0",
         "4.0"
        ],
        [
         "25184",
         "22100916",
         "1610612745",
         "HOU",
         "Houston",
         "203471",
         "Dennis Schroder",
         "Dennis",
         "G",
         null,
         "37:44",
         "4.0",
         "15.0",
         "0.267",
         "2.0",
         "6.0",
         "0.333",
         "1.0",
         "2.0",
         "0.5",
         "1.0",
         "7.0",
         "8.0",
         "10.0",
         "0.0",
         "0.0",
         "2.0",
         "5.0",
         "11.0",
         "3.0"
        ],
        [
         "25185",
         "22100916",
         "1610612745",
         "HOU",
         "Houston",
         "1629726",
         "Garrison Mathews",
         "Garrison",
         null,
         null,
         "26:10",
         "5.0",
         "10.0",
         "0.5",
         "4.0",
         "8.0",
         "0.5",
         "3.0",
         "4.0",
         "0.75",
         "0.0",
         "1.0",
         "1.0",
         "1.0",
         "2.0",
         "0.0",
         "1.0",
         "1.0",
         "17.0",
         "8.0"
        ],
        [
         "25186",
         "22100916",
         "1610612745",
         "HOU",
         "Houston",
         "1630231",
         "Kenyon Martin Jr.",
         "Kenyon",
         null,
         null,
         "15:06",
         "3.0",
         "6.0",
         "0.5",
         "3.0",
         "3.0",
         "1.0",
         "1.0",
         "2.0",
         "0.5",
         "0.0",
         "2.0",
         "2.0",
         "2.0",
         "0.0",
         "0.0",
         "0.0",
         "1.0",
         "10.0",
         "5.0"
        ],
        [
         "25187",
         "22100916",
         "1610612745",
         "HOU",
         "Houston",
         "1630528",
         "Josh Christopher",
         "Josh",
         null,
         null,
         "12:43",
         "0.0",
         "3.0",
         "0.0",
         "0.0",
         "0.0",
         "0.0",
         "0.0",
         "0.0",
         "0.0",
         "0.0",
         "3.0",
         "3.0",
         "3.0",
         "0.0",
         "0.0",
         "0.0",
         "1.0",
         "0.0",
         "-3.0"
        ],
        [
         "25188",
         "22100916",
         "1610612745",
         "HOU",
         "Houston",
         "1630578",
         "Alperen Sengun",
         "Alperen",
         null,
         null,
         "16:20",
         "5.0",
         "8.0",
         "0.625",
         "1.0",
         "3.0",
         "0.333",
         "4.0",
         "6.0",
         "0.667",
         "1.0",
         "2.0",
         "3.0",
         "0.0",
         "0.0",
         "0.0",
         "2.0",
         "2.0",
         "15.0",
         "-4.0"
        ],
        [
         "25189",
         "22100916",
         "1610612745",
         "HOU",
         "Houston",
         "1628981",
         "Bruno Fernando",
         "Bruno",
         null,
         "DNP - Coach's Decision",
         null,
         null,
         null,
         null,
         null,
         null,
         null,
         null,
         null,
         null,
         null,
         null,
         null,
         null,
         null,
         null,
         null,
         null,
         null,
         null
        ],
        [
         "25190",
         "22100916",
         "1610612745",
         "HOU",
         "Houston",
         "1628021",
         "David Nwaba",
         "David",
         null,
         "DNP - Coach's Decision",
         null,
         null,
         null,
         null,
         null,
         null,
         null,
         null,
         null,
         null,
         null,
         null,
         null,
         null,
         null,
         null,
         null,
         null,
         null,
         null
        ]
       ],
       "shape": {
        "columns": 29,
        "rows": 23
       }
      },
      "text/html": [
       "<div>\n",
       "<style scoped>\n",
       "    .dataframe tbody tr th:only-of-type {\n",
       "        vertical-align: middle;\n",
       "    }\n",
       "\n",
       "    .dataframe tbody tr th {\n",
       "        vertical-align: top;\n",
       "    }\n",
       "\n",
       "    .dataframe thead th {\n",
       "        text-align: right;\n",
       "    }\n",
       "</style>\n",
       "<table border=\"1\" class=\"dataframe\">\n",
       "  <thead>\n",
       "    <tr style=\"text-align: right;\">\n",
       "      <th></th>\n",
       "      <th>GAME_ID</th>\n",
       "      <th>TEAM_ID</th>\n",
       "      <th>TEAM_ABBREVIATION</th>\n",
       "      <th>TEAM_CITY</th>\n",
       "      <th>PLAYER_ID</th>\n",
       "      <th>PLAYER_NAME</th>\n",
       "      <th>NICKNAME</th>\n",
       "      <th>START_POSITION</th>\n",
       "      <th>COMMENT</th>\n",
       "      <th>MIN</th>\n",
       "      <th>...</th>\n",
       "      <th>OREB</th>\n",
       "      <th>DREB</th>\n",
       "      <th>REB</th>\n",
       "      <th>AST</th>\n",
       "      <th>STL</th>\n",
       "      <th>BLK</th>\n",
       "      <th>TO</th>\n",
       "      <th>PF</th>\n",
       "      <th>PTS</th>\n",
       "      <th>PLUS_MINUS</th>\n",
       "    </tr>\n",
       "  </thead>\n",
       "  <tbody>\n",
       "    <tr>\n",
       "      <th>25168</th>\n",
       "      <td>22100916</td>\n",
       "      <td>1610612746</td>\n",
       "      <td>LAC</td>\n",
       "      <td>LA</td>\n",
       "      <td>201587</td>\n",
       "      <td>Nicolas Batum</td>\n",
       "      <td>Nicolas</td>\n",
       "      <td>F</td>\n",
       "      <td>NaN</td>\n",
       "      <td>20:51</td>\n",
       "      <td>...</td>\n",
       "      <td>0.0</td>\n",
       "      <td>5.0</td>\n",
       "      <td>5.0</td>\n",
       "      <td>1.0</td>\n",
       "      <td>1.0</td>\n",
       "      <td>1.0</td>\n",
       "      <td>0.0</td>\n",
       "      <td>0.0</td>\n",
       "      <td>5.0</td>\n",
       "      <td>-1.0</td>\n",
       "    </tr>\n",
       "    <tr>\n",
       "      <th>25169</th>\n",
       "      <td>22100916</td>\n",
       "      <td>1610612746</td>\n",
       "      <td>LAC</td>\n",
       "      <td>LA</td>\n",
       "      <td>202694</td>\n",
       "      <td>Marcus Morris Sr.</td>\n",
       "      <td>Marcus</td>\n",
       "      <td>F</td>\n",
       "      <td>NaN</td>\n",
       "      <td>31:56</td>\n",
       "      <td>...</td>\n",
       "      <td>0.0</td>\n",
       "      <td>3.0</td>\n",
       "      <td>3.0</td>\n",
       "      <td>1.0</td>\n",
       "      <td>0.0</td>\n",
       "      <td>0.0</td>\n",
       "      <td>3.0</td>\n",
       "      <td>3.0</td>\n",
       "      <td>13.0</td>\n",
       "      <td>-1.0</td>\n",
       "    </tr>\n",
       "    <tr>\n",
       "      <th>25170</th>\n",
       "      <td>22100916</td>\n",
       "      <td>1610612746</td>\n",
       "      <td>LAC</td>\n",
       "      <td>LA</td>\n",
       "      <td>1627826</td>\n",
       "      <td>Ivica Zubac</td>\n",
       "      <td>Ivica</td>\n",
       "      <td>C</td>\n",
       "      <td>NaN</td>\n",
       "      <td>33:57</td>\n",
       "      <td>...</td>\n",
       "      <td>4.0</td>\n",
       "      <td>11.0</td>\n",
       "      <td>15.0</td>\n",
       "      <td>3.0</td>\n",
       "      <td>1.0</td>\n",
       "      <td>6.0</td>\n",
       "      <td>4.0</td>\n",
       "      <td>3.0</td>\n",
       "      <td>14.0</td>\n",
       "      <td>16.0</td>\n",
       "    </tr>\n",
       "    <tr>\n",
       "      <th>25171</th>\n",
       "      <td>22100916</td>\n",
       "      <td>1610612746</td>\n",
       "      <td>LAC</td>\n",
       "      <td>LA</td>\n",
       "      <td>1629611</td>\n",
       "      <td>Terance Mann</td>\n",
       "      <td>Terance</td>\n",
       "      <td>G</td>\n",
       "      <td>NaN</td>\n",
       "      <td>27:25</td>\n",
       "      <td>...</td>\n",
       "      <td>0.0</td>\n",
       "      <td>8.0</td>\n",
       "      <td>8.0</td>\n",
       "      <td>2.0</td>\n",
       "      <td>2.0</td>\n",
       "      <td>1.0</td>\n",
       "      <td>1.0</td>\n",
       "      <td>5.0</td>\n",
       "      <td>9.0</td>\n",
       "      <td>7.0</td>\n",
       "    </tr>\n",
       "    <tr>\n",
       "      <th>25172</th>\n",
       "      <td>22100916</td>\n",
       "      <td>1610612746</td>\n",
       "      <td>LAC</td>\n",
       "      <td>LA</td>\n",
       "      <td>202704</td>\n",
       "      <td>Reggie Jackson</td>\n",
       "      <td>Reggie</td>\n",
       "      <td>G</td>\n",
       "      <td>NaN</td>\n",
       "      <td>38:04</td>\n",
       "      <td>...</td>\n",
       "      <td>0.0</td>\n",
       "      <td>9.0</td>\n",
       "      <td>9.0</td>\n",
       "      <td>6.0</td>\n",
       "      <td>0.0</td>\n",
       "      <td>0.0</td>\n",
       "      <td>5.0</td>\n",
       "      <td>4.0</td>\n",
       "      <td>26.0</td>\n",
       "      <td>9.0</td>\n",
       "    </tr>\n",
       "    <tr>\n",
       "      <th>25173</th>\n",
       "      <td>22100916</td>\n",
       "      <td>1610612746</td>\n",
       "      <td>LAC</td>\n",
       "      <td>LA</td>\n",
       "      <td>1630527</td>\n",
       "      <td>Brandon Boston Jr.</td>\n",
       "      <td>Brandon</td>\n",
       "      <td>NaN</td>\n",
       "      <td>NaN</td>\n",
       "      <td>4:24</td>\n",
       "      <td>...</td>\n",
       "      <td>1.0</td>\n",
       "      <td>0.0</td>\n",
       "      <td>1.0</td>\n",
       "      <td>0.0</td>\n",
       "      <td>0.0</td>\n",
       "      <td>0.0</td>\n",
       "      <td>0.0</td>\n",
       "      <td>0.0</td>\n",
       "      <td>0.0</td>\n",
       "      <td>-10.0</td>\n",
       "    </tr>\n",
       "    <tr>\n",
       "      <th>25174</th>\n",
       "      <td>22100916</td>\n",
       "      <td>1610612746</td>\n",
       "      <td>LAC</td>\n",
       "      <td>LA</td>\n",
       "      <td>1628379</td>\n",
       "      <td>Luke Kennard</td>\n",
       "      <td>Luke</td>\n",
       "      <td>NaN</td>\n",
       "      <td>NaN</td>\n",
       "      <td>23:24</td>\n",
       "      <td>...</td>\n",
       "      <td>0.0</td>\n",
       "      <td>3.0</td>\n",
       "      <td>3.0</td>\n",
       "      <td>1.0</td>\n",
       "      <td>0.0</td>\n",
       "      <td>0.0</td>\n",
       "      <td>0.0</td>\n",
       "      <td>0.0</td>\n",
       "      <td>3.0</td>\n",
       "      <td>-10.0</td>\n",
       "    </tr>\n",
       "    <tr>\n",
       "      <th>25175</th>\n",
       "      <td>22100916</td>\n",
       "      <td>1610612746</td>\n",
       "      <td>LAC</td>\n",
       "      <td>LA</td>\n",
       "      <td>1628392</td>\n",
       "      <td>Isaiah Hartenstein</td>\n",
       "      <td>Isaiah</td>\n",
       "      <td>NaN</td>\n",
       "      <td>NaN</td>\n",
       "      <td>10:23</td>\n",
       "      <td>...</td>\n",
       "      <td>2.0</td>\n",
       "      <td>2.0</td>\n",
       "      <td>4.0</td>\n",
       "      <td>0.0</td>\n",
       "      <td>0.0</td>\n",
       "      <td>2.0</td>\n",
       "      <td>3.0</td>\n",
       "      <td>4.0</td>\n",
       "      <td>12.0</td>\n",
       "      <td>-11.0</td>\n",
       "    </tr>\n",
       "    <tr>\n",
       "      <th>25176</th>\n",
       "      <td>22100916</td>\n",
       "      <td>1610612746</td>\n",
       "      <td>LAC</td>\n",
       "      <td>LA</td>\n",
       "      <td>203496</td>\n",
       "      <td>Robert Covington</td>\n",
       "      <td>Robert</td>\n",
       "      <td>NaN</td>\n",
       "      <td>NaN</td>\n",
       "      <td>24:34</td>\n",
       "      <td>...</td>\n",
       "      <td>2.0</td>\n",
       "      <td>6.0</td>\n",
       "      <td>8.0</td>\n",
       "      <td>1.0</td>\n",
       "      <td>0.0</td>\n",
       "      <td>2.0</td>\n",
       "      <td>0.0</td>\n",
       "      <td>0.0</td>\n",
       "      <td>8.0</td>\n",
       "      <td>8.0</td>\n",
       "    </tr>\n",
       "    <tr>\n",
       "      <th>25177</th>\n",
       "      <td>22100916</td>\n",
       "      <td>1610612746</td>\n",
       "      <td>LAC</td>\n",
       "      <td>LA</td>\n",
       "      <td>1629599</td>\n",
       "      <td>Amir Coffey</td>\n",
       "      <td>Amir</td>\n",
       "      <td>NaN</td>\n",
       "      <td>NaN</td>\n",
       "      <td>25:02</td>\n",
       "      <td>...</td>\n",
       "      <td>1.0</td>\n",
       "      <td>2.0</td>\n",
       "      <td>3.0</td>\n",
       "      <td>3.0</td>\n",
       "      <td>0.0</td>\n",
       "      <td>0.0</td>\n",
       "      <td>2.0</td>\n",
       "      <td>3.0</td>\n",
       "      <td>9.0</td>\n",
       "      <td>-2.0</td>\n",
       "    </tr>\n",
       "    <tr>\n",
       "      <th>25178</th>\n",
       "      <td>22100916</td>\n",
       "      <td>1610612746</td>\n",
       "      <td>LAC</td>\n",
       "      <td>LA</td>\n",
       "      <td>203918</td>\n",
       "      <td>Rodney Hood</td>\n",
       "      <td>Rodney</td>\n",
       "      <td>NaN</td>\n",
       "      <td>DNP - Coach's Decision</td>\n",
       "      <td>NaN</td>\n",
       "      <td>...</td>\n",
       "      <td>NaN</td>\n",
       "      <td>NaN</td>\n",
       "      <td>NaN</td>\n",
       "      <td>NaN</td>\n",
       "      <td>NaN</td>\n",
       "      <td>NaN</td>\n",
       "      <td>NaN</td>\n",
       "      <td>NaN</td>\n",
       "      <td>NaN</td>\n",
       "      <td>NaN</td>\n",
       "    </tr>\n",
       "    <tr>\n",
       "      <th>25179</th>\n",
       "      <td>22100916</td>\n",
       "      <td>1610612746</td>\n",
       "      <td>LAC</td>\n",
       "      <td>LA</td>\n",
       "      <td>1628400</td>\n",
       "      <td>Semi Ojeleye</td>\n",
       "      <td>Semi</td>\n",
       "      <td>NaN</td>\n",
       "      <td>DNP - Coach's Decision</td>\n",
       "      <td>NaN</td>\n",
       "      <td>...</td>\n",
       "      <td>NaN</td>\n",
       "      <td>NaN</td>\n",
       "      <td>NaN</td>\n",
       "      <td>NaN</td>\n",
       "      <td>NaN</td>\n",
       "      <td>NaN</td>\n",
       "      <td>NaN</td>\n",
       "      <td>NaN</td>\n",
       "      <td>NaN</td>\n",
       "      <td>NaN</td>\n",
       "    </tr>\n",
       "    <tr>\n",
       "      <th>25180</th>\n",
       "      <td>22100916</td>\n",
       "      <td>1610612745</td>\n",
       "      <td>HOU</td>\n",
       "      <td>Houston</td>\n",
       "      <td>201569</td>\n",
       "      <td>Eric Gordon</td>\n",
       "      <td>Eric</td>\n",
       "      <td>F</td>\n",
       "      <td>NaN</td>\n",
       "      <td>30:48</td>\n",
       "      <td>...</td>\n",
       "      <td>1.0</td>\n",
       "      <td>3.0</td>\n",
       "      <td>4.0</td>\n",
       "      <td>2.0</td>\n",
       "      <td>0.0</td>\n",
       "      <td>0.0</td>\n",
       "      <td>1.0</td>\n",
       "      <td>2.0</td>\n",
       "      <td>6.0</td>\n",
       "      <td>-12.0</td>\n",
       "    </tr>\n",
       "    <tr>\n",
       "      <th>25181</th>\n",
       "      <td>22100916</td>\n",
       "      <td>1610612745</td>\n",
       "      <td>HOU</td>\n",
       "      <td>Houston</td>\n",
       "      <td>1630256</td>\n",
       "      <td>Jae'Sean Tate</td>\n",
       "      <td>Jae'Sean</td>\n",
       "      <td>F</td>\n",
       "      <td>NaN</td>\n",
       "      <td>31:43</td>\n",
       "      <td>...</td>\n",
       "      <td>0.0</td>\n",
       "      <td>6.0</td>\n",
       "      <td>6.0</td>\n",
       "      <td>4.0</td>\n",
       "      <td>4.0</td>\n",
       "      <td>0.0</td>\n",
       "      <td>0.0</td>\n",
       "      <td>3.0</td>\n",
       "      <td>14.0</td>\n",
       "      <td>-10.0</td>\n",
       "    </tr>\n",
       "    <tr>\n",
       "      <th>25182</th>\n",
       "      <td>22100916</td>\n",
       "      <td>1610612745</td>\n",
       "      <td>HOU</td>\n",
       "      <td>Houston</td>\n",
       "      <td>1626174</td>\n",
       "      <td>Christian Wood</td>\n",
       "      <td>Christian</td>\n",
       "      <td>C</td>\n",
       "      <td>NaN</td>\n",
       "      <td>31:35</td>\n",
       "      <td>...</td>\n",
       "      <td>2.0</td>\n",
       "      <td>5.0</td>\n",
       "      <td>7.0</td>\n",
       "      <td>1.0</td>\n",
       "      <td>0.0</td>\n",
       "      <td>0.0</td>\n",
       "      <td>0.0</td>\n",
       "      <td>5.0</td>\n",
       "      <td>15.0</td>\n",
       "      <td>4.0</td>\n",
       "    </tr>\n",
       "    <tr>\n",
       "      <th>25183</th>\n",
       "      <td>22100916</td>\n",
       "      <td>1610612745</td>\n",
       "      <td>HOU</td>\n",
       "      <td>Houston</td>\n",
       "      <td>1630224</td>\n",
       "      <td>Jalen Green</td>\n",
       "      <td>Jalen</td>\n",
       "      <td>G</td>\n",
       "      <td>NaN</td>\n",
       "      <td>37:51</td>\n",
       "      <td>...</td>\n",
       "      <td>1.0</td>\n",
       "      <td>2.0</td>\n",
       "      <td>3.0</td>\n",
       "      <td>3.0</td>\n",
       "      <td>2.0</td>\n",
       "      <td>0.0</td>\n",
       "      <td>0.0</td>\n",
       "      <td>1.0</td>\n",
       "      <td>10.0</td>\n",
       "      <td>4.0</td>\n",
       "    </tr>\n",
       "    <tr>\n",
       "      <th>25184</th>\n",
       "      <td>22100916</td>\n",
       "      <td>1610612745</td>\n",
       "      <td>HOU</td>\n",
       "      <td>Houston</td>\n",
       "      <td>203471</td>\n",
       "      <td>Dennis Schroder</td>\n",
       "      <td>Dennis</td>\n",
       "      <td>G</td>\n",
       "      <td>NaN</td>\n",
       "      <td>37:44</td>\n",
       "      <td>...</td>\n",
       "      <td>1.0</td>\n",
       "      <td>7.0</td>\n",
       "      <td>8.0</td>\n",
       "      <td>10.0</td>\n",
       "      <td>0.0</td>\n",
       "      <td>0.0</td>\n",
       "      <td>2.0</td>\n",
       "      <td>5.0</td>\n",
       "      <td>11.0</td>\n",
       "      <td>3.0</td>\n",
       "    </tr>\n",
       "    <tr>\n",
       "      <th>25185</th>\n",
       "      <td>22100916</td>\n",
       "      <td>1610612745</td>\n",
       "      <td>HOU</td>\n",
       "      <td>Houston</td>\n",
       "      <td>1629726</td>\n",
       "      <td>Garrison Mathews</td>\n",
       "      <td>Garrison</td>\n",
       "      <td>NaN</td>\n",
       "      <td>NaN</td>\n",
       "      <td>26:10</td>\n",
       "      <td>...</td>\n",
       "      <td>0.0</td>\n",
       "      <td>1.0</td>\n",
       "      <td>1.0</td>\n",
       "      <td>1.0</td>\n",
       "      <td>2.0</td>\n",
       "      <td>0.0</td>\n",
       "      <td>1.0</td>\n",
       "      <td>1.0</td>\n",
       "      <td>17.0</td>\n",
       "      <td>8.0</td>\n",
       "    </tr>\n",
       "    <tr>\n",
       "      <th>25186</th>\n",
       "      <td>22100916</td>\n",
       "      <td>1610612745</td>\n",
       "      <td>HOU</td>\n",
       "      <td>Houston</td>\n",
       "      <td>1630231</td>\n",
       "      <td>Kenyon Martin Jr.</td>\n",
       "      <td>Kenyon</td>\n",
       "      <td>NaN</td>\n",
       "      <td>NaN</td>\n",
       "      <td>15:06</td>\n",
       "      <td>...</td>\n",
       "      <td>0.0</td>\n",
       "      <td>2.0</td>\n",
       "      <td>2.0</td>\n",
       "      <td>2.0</td>\n",
       "      <td>0.0</td>\n",
       "      <td>0.0</td>\n",
       "      <td>0.0</td>\n",
       "      <td>1.0</td>\n",
       "      <td>10.0</td>\n",
       "      <td>5.0</td>\n",
       "    </tr>\n",
       "    <tr>\n",
       "      <th>25187</th>\n",
       "      <td>22100916</td>\n",
       "      <td>1610612745</td>\n",
       "      <td>HOU</td>\n",
       "      <td>Houston</td>\n",
       "      <td>1630528</td>\n",
       "      <td>Josh Christopher</td>\n",
       "      <td>Josh</td>\n",
       "      <td>NaN</td>\n",
       "      <td>NaN</td>\n",
       "      <td>12:43</td>\n",
       "      <td>...</td>\n",
       "      <td>0.0</td>\n",
       "      <td>3.0</td>\n",
       "      <td>3.0</td>\n",
       "      <td>3.0</td>\n",
       "      <td>0.0</td>\n",
       "      <td>0.0</td>\n",
       "      <td>0.0</td>\n",
       "      <td>1.0</td>\n",
       "      <td>0.0</td>\n",
       "      <td>-3.0</td>\n",
       "    </tr>\n",
       "    <tr>\n",
       "      <th>25188</th>\n",
       "      <td>22100916</td>\n",
       "      <td>1610612745</td>\n",
       "      <td>HOU</td>\n",
       "      <td>Houston</td>\n",
       "      <td>1630578</td>\n",
       "      <td>Alperen Sengun</td>\n",
       "      <td>Alperen</td>\n",
       "      <td>NaN</td>\n",
       "      <td>NaN</td>\n",
       "      <td>16:20</td>\n",
       "      <td>...</td>\n",
       "      <td>1.0</td>\n",
       "      <td>2.0</td>\n",
       "      <td>3.0</td>\n",
       "      <td>0.0</td>\n",
       "      <td>0.0</td>\n",
       "      <td>0.0</td>\n",
       "      <td>2.0</td>\n",
       "      <td>2.0</td>\n",
       "      <td>15.0</td>\n",
       "      <td>-4.0</td>\n",
       "    </tr>\n",
       "    <tr>\n",
       "      <th>25189</th>\n",
       "      <td>22100916</td>\n",
       "      <td>1610612745</td>\n",
       "      <td>HOU</td>\n",
       "      <td>Houston</td>\n",
       "      <td>1628981</td>\n",
       "      <td>Bruno Fernando</td>\n",
       "      <td>Bruno</td>\n",
       "      <td>NaN</td>\n",
       "      <td>DNP - Coach's Decision</td>\n",
       "      <td>NaN</td>\n",
       "      <td>...</td>\n",
       "      <td>NaN</td>\n",
       "      <td>NaN</td>\n",
       "      <td>NaN</td>\n",
       "      <td>NaN</td>\n",
       "      <td>NaN</td>\n",
       "      <td>NaN</td>\n",
       "      <td>NaN</td>\n",
       "      <td>NaN</td>\n",
       "      <td>NaN</td>\n",
       "      <td>NaN</td>\n",
       "    </tr>\n",
       "    <tr>\n",
       "      <th>25190</th>\n",
       "      <td>22100916</td>\n",
       "      <td>1610612745</td>\n",
       "      <td>HOU</td>\n",
       "      <td>Houston</td>\n",
       "      <td>1628021</td>\n",
       "      <td>David Nwaba</td>\n",
       "      <td>David</td>\n",
       "      <td>NaN</td>\n",
       "      <td>DNP - Coach's Decision</td>\n",
       "      <td>NaN</td>\n",
       "      <td>...</td>\n",
       "      <td>NaN</td>\n",
       "      <td>NaN</td>\n",
       "      <td>NaN</td>\n",
       "      <td>NaN</td>\n",
       "      <td>NaN</td>\n",
       "      <td>NaN</td>\n",
       "      <td>NaN</td>\n",
       "      <td>NaN</td>\n",
       "      <td>NaN</td>\n",
       "      <td>NaN</td>\n",
       "    </tr>\n",
       "  </tbody>\n",
       "</table>\n",
       "<p>23 rows × 29 columns</p>\n",
       "</div>"
      ],
      "text/plain": [
       "        GAME_ID     TEAM_ID TEAM_ABBREVIATION TEAM_CITY  PLAYER_ID  \\\n",
       "25168  22100916  1610612746               LAC        LA     201587   \n",
       "25169  22100916  1610612746               LAC        LA     202694   \n",
       "25170  22100916  1610612746               LAC        LA    1627826   \n",
       "25171  22100916  1610612746               LAC        LA    1629611   \n",
       "25172  22100916  1610612746               LAC        LA     202704   \n",
       "25173  22100916  1610612746               LAC        LA    1630527   \n",
       "25174  22100916  1610612746               LAC        LA    1628379   \n",
       "25175  22100916  1610612746               LAC        LA    1628392   \n",
       "25176  22100916  1610612746               LAC        LA     203496   \n",
       "25177  22100916  1610612746               LAC        LA    1629599   \n",
       "25178  22100916  1610612746               LAC        LA     203918   \n",
       "25179  22100916  1610612746               LAC        LA    1628400   \n",
       "25180  22100916  1610612745               HOU   Houston     201569   \n",
       "25181  22100916  1610612745               HOU   Houston    1630256   \n",
       "25182  22100916  1610612745               HOU   Houston    1626174   \n",
       "25183  22100916  1610612745               HOU   Houston    1630224   \n",
       "25184  22100916  1610612745               HOU   Houston     203471   \n",
       "25185  22100916  1610612745               HOU   Houston    1629726   \n",
       "25186  22100916  1610612745               HOU   Houston    1630231   \n",
       "25187  22100916  1610612745               HOU   Houston    1630528   \n",
       "25188  22100916  1610612745               HOU   Houston    1630578   \n",
       "25189  22100916  1610612745               HOU   Houston    1628981   \n",
       "25190  22100916  1610612745               HOU   Houston    1628021   \n",
       "\n",
       "              PLAYER_NAME   NICKNAME START_POSITION                 COMMENT  \\\n",
       "25168       Nicolas Batum    Nicolas              F                     NaN   \n",
       "25169   Marcus Morris Sr.     Marcus              F                     NaN   \n",
       "25170         Ivica Zubac      Ivica              C                     NaN   \n",
       "25171        Terance Mann    Terance              G                     NaN   \n",
       "25172      Reggie Jackson     Reggie              G                     NaN   \n",
       "25173  Brandon Boston Jr.    Brandon            NaN                     NaN   \n",
       "25174        Luke Kennard       Luke            NaN                     NaN   \n",
       "25175  Isaiah Hartenstein     Isaiah            NaN                     NaN   \n",
       "25176    Robert Covington     Robert            NaN                     NaN   \n",
       "25177         Amir Coffey       Amir            NaN                     NaN   \n",
       "25178         Rodney Hood     Rodney            NaN  DNP - Coach's Decision   \n",
       "25179        Semi Ojeleye       Semi            NaN  DNP - Coach's Decision   \n",
       "25180         Eric Gordon       Eric              F                     NaN   \n",
       "25181       Jae'Sean Tate   Jae'Sean              F                     NaN   \n",
       "25182      Christian Wood  Christian              C                     NaN   \n",
       "25183         Jalen Green      Jalen              G                     NaN   \n",
       "25184     Dennis Schroder     Dennis              G                     NaN   \n",
       "25185    Garrison Mathews   Garrison            NaN                     NaN   \n",
       "25186   Kenyon Martin Jr.     Kenyon            NaN                     NaN   \n",
       "25187    Josh Christopher       Josh            NaN                     NaN   \n",
       "25188      Alperen Sengun    Alperen            NaN                     NaN   \n",
       "25189      Bruno Fernando      Bruno            NaN  DNP - Coach's Decision   \n",
       "25190         David Nwaba      David            NaN  DNP - Coach's Decision   \n",
       "\n",
       "         MIN  ...  OREB  DREB   REB   AST  STL  BLK   TO   PF   PTS  \\\n",
       "25168  20:51  ...   0.0   5.0   5.0   1.0  1.0  1.0  0.0  0.0   5.0   \n",
       "25169  31:56  ...   0.0   3.0   3.0   1.0  0.0  0.0  3.0  3.0  13.0   \n",
       "25170  33:57  ...   4.0  11.0  15.0   3.0  1.0  6.0  4.0  3.0  14.0   \n",
       "25171  27:25  ...   0.0   8.0   8.0   2.0  2.0  1.0  1.0  5.0   9.0   \n",
       "25172  38:04  ...   0.0   9.0   9.0   6.0  0.0  0.0  5.0  4.0  26.0   \n",
       "25173   4:24  ...   1.0   0.0   1.0   0.0  0.0  0.0  0.0  0.0   0.0   \n",
       "25174  23:24  ...   0.0   3.0   3.0   1.0  0.0  0.0  0.0  0.0   3.0   \n",
       "25175  10:23  ...   2.0   2.0   4.0   0.0  0.0  2.0  3.0  4.0  12.0   \n",
       "25176  24:34  ...   2.0   6.0   8.0   1.0  0.0  2.0  0.0  0.0   8.0   \n",
       "25177  25:02  ...   1.0   2.0   3.0   3.0  0.0  0.0  2.0  3.0   9.0   \n",
       "25178    NaN  ...   NaN   NaN   NaN   NaN  NaN  NaN  NaN  NaN   NaN   \n",
       "25179    NaN  ...   NaN   NaN   NaN   NaN  NaN  NaN  NaN  NaN   NaN   \n",
       "25180  30:48  ...   1.0   3.0   4.0   2.0  0.0  0.0  1.0  2.0   6.0   \n",
       "25181  31:43  ...   0.0   6.0   6.0   4.0  4.0  0.0  0.0  3.0  14.0   \n",
       "25182  31:35  ...   2.0   5.0   7.0   1.0  0.0  0.0  0.0  5.0  15.0   \n",
       "25183  37:51  ...   1.0   2.0   3.0   3.0  2.0  0.0  0.0  1.0  10.0   \n",
       "25184  37:44  ...   1.0   7.0   8.0  10.0  0.0  0.0  2.0  5.0  11.0   \n",
       "25185  26:10  ...   0.0   1.0   1.0   1.0  2.0  0.0  1.0  1.0  17.0   \n",
       "25186  15:06  ...   0.0   2.0   2.0   2.0  0.0  0.0  0.0  1.0  10.0   \n",
       "25187  12:43  ...   0.0   3.0   3.0   3.0  0.0  0.0  0.0  1.0   0.0   \n",
       "25188  16:20  ...   1.0   2.0   3.0   0.0  0.0  0.0  2.0  2.0  15.0   \n",
       "25189    NaN  ...   NaN   NaN   NaN   NaN  NaN  NaN  NaN  NaN   NaN   \n",
       "25190    NaN  ...   NaN   NaN   NaN   NaN  NaN  NaN  NaN  NaN   NaN   \n",
       "\n",
       "       PLUS_MINUS  \n",
       "25168        -1.0  \n",
       "25169        -1.0  \n",
       "25170        16.0  \n",
       "25171         7.0  \n",
       "25172         9.0  \n",
       "25173       -10.0  \n",
       "25174       -10.0  \n",
       "25175       -11.0  \n",
       "25176         8.0  \n",
       "25177        -2.0  \n",
       "25178         NaN  \n",
       "25179         NaN  \n",
       "25180       -12.0  \n",
       "25181       -10.0  \n",
       "25182         4.0  \n",
       "25183         4.0  \n",
       "25184         3.0  \n",
       "25185         8.0  \n",
       "25186         5.0  \n",
       "25187        -3.0  \n",
       "25188        -4.0  \n",
       "25189         NaN  \n",
       "25190         NaN  \n",
       "\n",
       "[23 rows x 29 columns]"
      ]
     },
     "execution_count": 27,
     "metadata": {},
     "output_type": "execute_result"
    }
   ],
   "source": [
    "one_game = games_details['GAME_ID'] == 22100916\n",
    "\n",
    "games_details[one_game]"
   ]
  },
  {
   "cell_type": "raw",
   "id": "6c43471c",
   "metadata": {
    "vscode": {
     "languageId": "raw"
    }
   },
   "source": [
    "# 과제1: START_POSITON은 선발 뿐, 중간에 투입된 선수는 비어있다. 어떻게 할 것인가.\n",
    "# 선수 분류: 선발, 교체, 벤치 -> 분리해서 분석?\n",
    "- 선발: START_POSITON이 있다.\n",
    "- 교체: START_POSITON이 없고, MIN이 있다.\n",
    "- 벤치: START_POSITON이 없고, MIN도 없다.\n",
    "선수분류: '선발', '교체', '벤치'\n",
    "# 교체 흐름을 파악할 수 있나?\n",
    "## 페이지에 직접 가서 파악은 가능. 교체 했다가 또 들어오기도 함\n",
    "## https://www.nba.com/game/bos-vs-tor-0041900212/play-by-play?awayPlayerShots=&period=All&latest=0\n",
    "## TEAM_ABBREVIATION.lower()-vs-TEAM_ABBREVIATION.lower()-GAME_ID/\n",
    "## SUB로 표현되어잇음\n",
    "## 여기까지 하기엔 시간이...흠"
   ]
  }
 ],
 "metadata": {
  "kernelspec": {
   "display_name": "sparta",
   "language": "python",
   "name": "python3"
  },
  "language_info": {
   "codemirror_mode": {
    "name": "ipython",
    "version": 3
   },
   "file_extension": ".py",
   "mimetype": "text/x-python",
   "name": "python",
   "nbconvert_exporter": "python",
   "pygments_lexer": "ipython3",
   "version": "3.10.12"
  }
 },
 "nbformat": 4,
 "nbformat_minor": 5
}
